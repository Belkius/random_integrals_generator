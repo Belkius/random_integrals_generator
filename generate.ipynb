{
  "metadata": {
    "kernelspec": {
      "name": "python",
      "display_name": "Python (Pyodide)",
      "language": "python"
    },
    "language_info": {
      "codemirror_mode": {
        "name": "ipython",
        "version": 3
      },
      "file_extension": ".py",
      "mimetype": "text/x-python",
      "name": "python",
      "nbconvert_exporter": "python",
      "pygments_lexer": "ipython3",
      "version": "3.8.10"
    }
  },
  "nbformat_minor": 4,
  "nbformat": 4,
  "cells": [
    {
      "cell_type": "code",
      "source": "import numpy as np\nfrom os import listdir\nfrom skimage import io\nimport matplotlib.pyplot as plt\nfrom scipy import ndimage\nfrom skimage.transform import resize, rotate\nfrom skimage.util import random_noise, invert\nfrom skimage.color import gray2rgb\nimport tensorflow as tf\nimport math\nimport os\nimport json\nimport cv2",
      "metadata": {},
      "execution_count": 1,
      "outputs": []
    },
    {
      "cell_type": "code",
      "source": "read_path = \"extracted_images\"\ntrain = True\nif train:\n    write_single_path = \"normalized/train\"\n    formula_path = \"formulas/train/fractions\"\nelse:\n    write_single_path = \"normalized/test\"\n    formula_path = \"formulas/test/fractions\"",
      "metadata": {},
      "execution_count": 2,
      "outputs": []
    },
    {
      "cell_type": "code",
      "source": "label_names = ['0', '1', '2', '3', '4', '5', '6', '7', '8', '9', '-', '+', '=', 'leq', 'neq', 'geq', 'alpha',\n               'beta', 'lt', 'gt', 'x', 'y', 'd', 'int', '(', ')', '!', ',', 'sqrt']\n\nlabel_names_dict = dict()\nfor label,no in zip(label_names,list(range(len(label_names)))):\n    label_names_dict[label] = no\n    #os.mkdir(write_single_path+\"/\"+label)\nprint(label_names_dict)",
      "metadata": {
        "scrolled": true
      },
      "execution_count": 3,
      "outputs": [
        {
          "name": "stdout",
          "output_type": "stream",
          "text": "{'0': 0, '1': 1, '2': 2, '3': 3, '4': 4, '5': 5, '6': 6, '7': 7, '8': 8, '9': 9, '-': 10, '+': 11, '=': 12, 'leq': 13, 'neq': 14, 'geq': 15, 'alpha': 16, 'beta': 17, 'lt': 18, 'gt': 19, 'x': 20, 'y': 21, 'd': 22, 'int': 23, '(': 24, ')': 25, '!': 26, ',': 27, 'sqrt': 28}\n"
        }
      ]
    },
    {
      "cell_type": "code",
      "source": "def crop(img):\n    crop = np.copy(img)/255\n    h,w = img.shape\n    left = 0\n    while left < w//2 and np.sum(crop[:,left]) >= 0.98*h:\n        left += 1\n    right = w-1\n    while right > w//2 and np.sum(crop[:,right]) >= 0.98*h:\n        right -= 1\n    if left > 0:\n        left -1\n    if right < h-1:\n        right += 1\n    crop = crop[:,left:right]\n    \n    top = 0\n    while top < h//2 and np.sum(crop[top,:]) >= 0.98*w:\n        top += 1\n    bottom = h-1\n    while bottom > h//2 and np.sum(crop[bottom,:]) >= 0.98*w:\n        bottom -= 1\n    if top > 0:\n        top -= 1\n    if bottom < h-1:\n        bottom += 1\n    crop = crop[top:bottom,:]*255\n    return crop\n\ndef add_symbol_to_image(img,folder,choices,padding,minsize,maxsize,bpower=False,bsmall=False,bnom=False,bden=False,\n                        width=False, change_padding=True):\n    choice = np.random.randint(len(choices))\n    symbol_img = io.imread(read_path+\"/\"+folder+\"/\"+choices[choice])\n    new_width = np.random.randint(minsize,maxsize+1)\n    new_height = np.random.randint(minsize,maxsize+1)\n    if width is not False:\n        new_width = width\n    symbol_img_res = resize(symbol_img, (new_height, new_width), cval=1)*255\n    symbol_img_res = crop(symbol_img_res)\n    new_height, new_width = symbol_img_res.shape\n    shift = np.random.randint(-4+(60-new_height)//2,4+(60-new_height)//2)\n\n    \n    bounding_box = {\n        'xmin': padding,\n        'xmax': padding+new_width,\n        'ymin': 65+shift-15*bpower+10*bsmall-30*bnom+30*bden,\n        'ymax': 65+shift+new_height-15*bpower+10*bsmall-30*bnom+30*bden,\n        'class_text': folder,\n        'class': label_names_dict[folder]\n    }\n    \n    if folder == \"y\" or folder == \"beta\":\n        bounding_box['ymin'] += 10\n        bounding_box['ymax'] += 10\n                       \n    \n    xmin, xmax = bounding_box['xmin'],bounding_box['xmax']\n    ymin, ymax = bounding_box['ymin'],bounding_box['ymax']\n    \n    img[ymin:ymax,xmin:xmax] += invert(symbol_img_res)+254\n    if change_padding==True:\n        padding += new_width+np.random.randint(2,5)\n    \n    return img,padding,bounding_box\n\ndef add_rectangles(img, bounding_boxes):\n    img_color = np.asarray(np.dstack((img, img, img)), dtype=np.uint8)\n    for bounding_box in bounding_boxes[1:]:\n        xmin, xmax = bounding_box['xmin'], bounding_box['xmax']\n        ymin, ymax = bounding_box['ymin'], bounding_box['ymax']\n        img_color[ymin,xmin:xmax] = [255,0,0]\n        img_color[ymax,xmin:xmax] = [255,0,0]\n        img_color[ymin:ymax,xmin] = [255,0,0]\n        img_color[ymin:ymax,xmax] = [255,0,0]\n    return img_color",
      "metadata": {},
      "execution_count": 4,
      "outputs": []
    },
    {
      "cell_type": "code",
      "source": "def normalize_single(symbol):\n    symbol = np.copy(symbol).astype(np.float32)\n    symbol /= np.max(symbol)\n    rows, cols = symbol.shape\n    # scale to 40x40\n    inner_size = 40\n    if rows > cols:\n        factor = inner_size/rows\n        rows = inner_size\n        cols = int(round(cols*factor))\n        inner = cv2.resize(symbol, (cols,rows))\n    else:\n        factor = inner_size/cols\n        cols = inner_size\n        rows = int(round(rows*factor))\n        inner = cv2.resize(symbol, (cols, rows))\n        \n    # pad to 48x48\n    outer_size = 48\n    colsPadding = (int(math.ceil((outer_size-cols)/2.0)),int(math.floor((outer_size-cols)/2.0)))\n    rowsPadding = (int(math.ceil((outer_size-rows)/2.0)),int(math.floor((outer_size-rows)/2.0)))\n    outer = np.pad(inner,(rowsPadding,colsPadding),'constant', constant_values=(1,1))\n    \n    # center the mass\n    shiftx,shifty = getBestShift(outer)\n    shifted = shift(outer,shiftx,shifty)\n    return shifted\n    \ndef getBestShift(img):\n    inv = invert(img)\n    cy,cx = ndimage.measurements.center_of_mass(inv)\n\n    rows,cols = img.shape\n    shiftx = np.round(cols/2.0-cx).astype(int)\n    shifty = np.round(rows/2.0-cy).astype(int)\n\n    return shiftx,shifty\n\ndef shift(img,sx,sy):\n    rows,cols = img.shape\n    M = np.float32([[1,0,sx],[0,1,sy]])\n    shifted = cv2.warpAffine(img,M,(cols,rows), borderValue=1)\n    return shifted  ",
      "metadata": {},
      "execution_count": 5,
      "outputs": []
    },
    {
      "cell_type": "code",
      "source": "path = \"extracted_images\"\nlabel_names = ['0', '1', '2', '3', '4', '5', '6', '7', '8', '9', '-', '+', '=', 'leq', 'neq', 'geq', 'alpha',\n               'beta', 'lt', 'gt', 'x', 'y', 'd', 'int', '(', ')', '!', ',', 'sqrt']\n#for data by index normalization\n#label_names = [\",\"]\nnof_labels = len(label_names)\nnof_images = 0\n\n# get number of images\nlabels_dict = dict()\ni = 0\nfor label in label_names:\n    files = listdir(path+\"/\"+label)\n    nof_images += len(files)\n    labels_dict[label] = i\n    i += 1\nprint(\"#nof_images: \", nof_images)\nprint(labels_dict)\n\nimages = np.zeros((nof_images, 48, 48), dtype=np.float32)\nlabels = np.zeros(nof_images, dtype=np.int)",
      "metadata": {
        "scrolled": true
      },
      "execution_count": 6,
      "outputs": [
        {
          "name": "stdout",
          "output_type": "stream",
          "text": "#nof_images:  258291\n\n{'0': 0, '1': 1, '2': 2, '3': 3, '4': 4, '5': 5, '6': 6, '7': 7, '8': 8, '9': 9, '-': 10, '+': 11, '=': 12, 'leq': 13, 'neq': 14, 'geq': 15, 'alpha': 16, 'beta': 17, 'lt': 18, 'gt': 19, 'x': 20, 'y': 21, 'd': 22, 'int': 23, '(': 24, ')': 25, '!': 26, ',': 27, 'sqrt': 28}\n"
        },
        {
          "name": "stderr",
          "output_type": "stream",
          "text": "C:\\Users\\Grzegorz\\AppData\\Local\\Temp/ipykernel_12740/3378023782.py:21: DeprecationWarning: `np.int` is a deprecated alias for the builtin `int`. To silence this warning, use `int` by itself. Doing this will not modify any behavior and is safe. When replacing `np.int`, you may wish to use e.g. `np.int64` or `np.int32` to specify the precision. If you wish to review your current use, check the release note link for additional information.\n\nDeprecated in NumPy 1.20; for more details and guidance: https://numpy.org/devdocs/release/1.20.0-notes.html#deprecations\n\n  labels = np.zeros(nof_images, dtype=np.int)\n"
        }
      ]
    },
    {
      "cell_type": "code",
      "source": "#normalazing data by index\npath = \"C:/Users/Grzegorz/Desktop/inz/projekt/projekt_2/HE2LaTeX-master/extracted_images/\"\npath_2 = \"C:/Users/Grzegorz/Desktop/inz/projekt/projekt_2/HE2LaTeX-master/normalized/train/\"\nlabel_name = \",\"\ni = 0\nfor i in range(len(files)):\n    if i % 100 == 0:\n            print(\"At i=%d\" % i)\n    img = cv2.imread(path+label_name+\"/\"+files[i], cv2.IMREAD_GRAYSCALE)\n    img_2 = normalize_single(img)\n    io.imsave(path_2+label_name+\"/\"+files[i], img_2)\n    i += 1\n\nprint(\"done\")",
      "metadata": {
        "collapsed": true,
        "jupyter": {
          "outputs_hidden": true
        }
      },
      "execution_count": 88,
      "outputs": [
        {
          "name": "stderr",
          "output_type": "stream",
          "text": "Lossy conversion from float32 to uint8. Range [0, 1]. Convert image to uint8 prior to saving to suppress this warning.\n\nLossy conversion from float32 to uint8. Range [0, 1]. Convert image to uint8 prior to saving to suppress this warning.\n\nLossy conversion from float32 to uint8. Range [0, 1]. Convert image to uint8 prior to saving to suppress this warning.\n\nLossy conversion from float32 to uint8. Range [0, 1]. Convert image to uint8 prior to saving to suppress this warning.\n\nLossy conversion from float32 to uint8. Range [0, 1]. Convert image to uint8 prior to saving to suppress this warning.\n\nLossy conversion from float32 to uint8. Range [0, 1]. Convert image to uint8 prior to saving to suppress this warning.\n\nLossy conversion from float32 to uint8. Range [0, 1]. Convert image to uint8 prior to saving to suppress this warning.\n\nLossy conversion from float32 to uint8. Range [0, 1]. Convert image to uint8 prior to saving to suppress this warning.\n\nLossy conversion from float32 to uint8. Range [0, 1]. Convert image to uint8 prior to saving to suppress this warning.\n\nLossy conversion from float32 to uint8. Range [0, 1]. Convert image to uint8 prior to saving to suppress this warning.\n\nLossy conversion from float32 to uint8. Range [0, 1]. Convert image to uint8 prior to saving to suppress this warning.\n\nLossy conversion from float32 to uint8. Range [0, 1]. Convert image to uint8 prior to saving to suppress this warning.\n\nLossy conversion from float32 to uint8. Range [0, 1]. Convert image to uint8 prior to saving to suppress this warning.\n\nLossy conversion from float32 to uint8. Range [0, 1]. Convert image to uint8 prior to saving to suppress this warning.\n\nLossy conversion from float32 to uint8. Range [0, 1]. Convert image to uint8 prior to saving to suppress this warning.\n\nLossy conversion from float32 to uint8. Range [0, 1]. Convert image to uint8 prior to saving to suppress this warning.\n\nLossy conversion from float32 to uint8. Range [0, 1]. Convert image to uint8 prior to saving to suppress this warning.\n"
        },
        {
          "name": "stdout",
          "output_type": "stream",
          "text": "At i=0\n"
        },
        {
          "name": "stderr",
          "output_type": "stream",
          "text": "Lossy conversion from float32 to uint8. Range [0, 1]. Convert image to uint8 prior to saving to suppress this warning.\n\nLossy conversion from float32 to uint8. Range [0, 1]. Convert image to uint8 prior to saving to suppress this warning.\n\nLossy conversion from float32 to uint8. Range [0, 1]. Convert image to uint8 prior to saving to suppress this warning.\n\nLossy conversion from float32 to uint8. Range [0, 1]. Convert image to uint8 prior to saving to suppress this warning.\n\nLossy conversion from float32 to uint8. Range [0, 1]. Convert image to uint8 prior to saving to suppress this warning.\n\nLossy conversion from float32 to uint8. Range [0, 1]. Convert image to uint8 prior to saving to suppress this warning.\n\nLossy conversion from float32 to uint8. Range [0, 1]. Convert image to uint8 prior to saving to suppress this warning.\n\nLossy conversion from float32 to uint8. Range [0, 1]. Convert image to uint8 prior to saving to suppress this warning.\n\nLossy conversion from float32 to uint8. Range [0, 1]. Convert image to uint8 prior to saving to suppress this warning.\n\nLossy conversion from float32 to uint8. Range [0, 1]. Convert image to uint8 prior to saving to suppress this warning.\n\nLossy conversion from float32 to uint8. Range [0, 1]. Convert image to uint8 prior to saving to suppress this warning.\n\nLossy conversion from float32 to uint8. Range [0, 1]. Convert image to uint8 prior to saving to suppress this warning.\n\nLossy conversion from float32 to uint8. Range [0, 1]. Convert image to uint8 prior to saving to suppress this warning.\n\nLossy conversion from float32 to uint8. Range [0, 1]. Convert image to uint8 prior to saving to suppress this warning.\n\nLossy conversion from float32 to uint8. Range [0, 1]. Convert image to uint8 prior to saving to suppress this warning.\n\nLossy conversion from float32 to uint8. Range [0, 1]. Convert image to uint8 prior to saving to suppress this warning.\n\nLossy conversion from float32 to uint8. Range [0, 1]. Convert image to uint8 prior to saving to suppress this warning.\n\nLossy conversion from float32 to uint8. Range [0, 1]. Convert image to uint8 prior to saving to suppress this warning.\n\nLossy conversion from float32 to uint8. Range [0, 1]. Convert image to uint8 prior to saving to suppress this warning.\n\nLossy conversion from float32 to uint8. Range [0, 1]. Convert image to uint8 prior to saving to suppress this warning.\n\nLossy conversion from float32 to uint8. Range [0, 1]. Convert image to uint8 prior to saving to suppress this warning.\n\nLossy conversion from float32 to uint8. Range [0, 1]. Convert image to uint8 prior to saving to suppress this warning.\n\nLossy conversion from float32 to uint8. Range [0, 1]. Convert image to uint8 prior to saving to suppress this warning.\n\nLossy conversion from float32 to uint8. Range [0, 1]. Convert image to uint8 prior to saving to suppress this warning.\n\nLossy conversion from float32 to uint8. Range [0, 1]. Convert image to uint8 prior to saving to suppress this warning.\n\nLossy conversion from float32 to uint8. Range [0, 1]. Convert image to uint8 prior to saving to suppress this warning.\n\nLossy conversion from float32 to uint8. Range [0, 1]. Convert image to uint8 prior to saving to suppress this warning.\n\nLossy conversion from float32 to uint8. Range [0, 1]. Convert image to uint8 prior to saving to suppress this warning.\n\nLossy conversion from float32 to uint8. Range [0, 1]. Convert image to uint8 prior to saving to suppress this warning.\n\nLossy conversion from float32 to uint8. Range [0, 1]. Convert image to uint8 prior to saving to suppress this warning.\n\nLossy conversion from float32 to uint8. Range [0, 1]. Convert image to uint8 prior to saving to suppress this warning.\n\nLossy conversion from float32 to uint8. Range [0, 1]. Convert image to uint8 prior to saving to suppress this warning.\n\nLossy conversion from float32 to uint8. Range [0, 1]. Convert image to uint8 prior to saving to suppress this warning.\n\nLossy conversion from float32 to uint8. Range [0, 1]. Convert image to uint8 prior to saving to suppress this warning.\n\nLossy conversion from float32 to uint8. Range [0, 1]. Convert image to uint8 prior to saving to suppress this warning.\n\nLossy conversion from float32 to uint8. Range [0, 1]. Convert image to uint8 prior to saving to suppress this warning.\n\nLossy conversion from float32 to uint8. Range [0, 1]. Convert image to uint8 prior to saving to suppress this warning.\n\nLossy conversion from float32 to uint8. Range [0, 1]. Convert image to uint8 prior to saving to suppress this warning.\n\nLossy conversion from float32 to uint8. Range [0, 1]. Convert image to uint8 prior to saving to suppress this warning.\n\nLossy conversion from float32 to uint8. Range [0, 1]. Convert image to uint8 prior to saving to suppress this warning.\n\nLossy conversion from float32 to uint8. Range [0, 1]. Convert image to uint8 prior to saving to suppress this warning.\n\nLossy conversion from float32 to uint8. Range [0, 1]. Convert image to uint8 prior to saving to suppress this warning.\n\nLossy conversion from float32 to uint8. Range [0, 1]. Convert image to uint8 prior to saving to suppress this warning.\n\nLossy conversion from float32 to uint8. Range [0, 1]. Convert image to uint8 prior to saving to suppress this warning.\n\nLossy conversion from float32 to uint8. Range [0, 1]. Convert image to uint8 prior to saving to suppress this warning.\n\nLossy conversion from float32 to uint8. Range [0, 1]. Convert image to uint8 prior to saving to suppress this warning.\n\nLossy conversion from float32 to uint8. Range [0, 1]. Convert image to uint8 prior to saving to suppress this warning.\n\nLossy conversion from float32 to uint8. Range [0, 1]. Convert image to uint8 prior to saving to suppress this warning.\n\nLossy conversion from float32 to uint8. Range [0, 1]. Convert image to uint8 prior to saving to suppress this warning.\n\nLossy conversion from float32 to uint8. Range [0, 1]. Convert image to uint8 prior to saving to suppress this warning.\n\nLossy conversion from float32 to uint8. Range [0, 1]. Convert image to uint8 prior to saving to suppress this warning.\n\nLossy conversion from float32 to uint8. Range [0, 1]. Convert image to uint8 prior to saving to suppress this warning.\n\nLossy conversion from float32 to uint8. Range [0, 1]. Convert image to uint8 prior to saving to suppress this warning.\n\nLossy conversion from float32 to uint8. Range [0, 1]. Convert image to uint8 prior to saving to suppress this warning.\n\nLossy conversion from float32 to uint8. Range [0, 1]. Convert image to uint8 prior to saving to suppress this warning.\n\nLossy conversion from float32 to uint8. Range [0, 1]. Convert image to uint8 prior to saving to suppress this warning.\n\nLossy conversion from float32 to uint8. Range [0, 1]. Convert image to uint8 prior to saving to suppress this warning.\n\nLossy conversion from float32 to uint8. Range [0, 1]. Convert image to uint8 prior to saving to suppress this warning.\n\nLossy conversion from float32 to uint8. Range [0, 1]. Convert image to uint8 prior to saving to suppress this warning.\n\nLossy conversion from float32 to uint8. Range [0, 1]. Convert image to uint8 prior to saving to suppress this warning.\n\nLossy conversion from float32 to uint8. Range [0, 1]. Convert image to uint8 prior to saving to suppress this warning.\n\nLossy conversion from float32 to uint8. Range [0, 1]. Convert image to uint8 prior to saving to suppress this warning.\n\nLossy conversion from float32 to uint8. Range [0, 1]. Convert image to uint8 prior to saving to suppress this warning.\n\nLossy conversion from float32 to uint8. Range [0, 1]. Convert image to uint8 prior to saving to suppress this warning.\n\nLossy conversion from float32 to uint8. Range [0, 1]. Convert image to uint8 prior to saving to suppress this warning.\n\nLossy conversion from float32 to uint8. Range [0, 1]. Convert image to uint8 prior to saving to suppress this warning.\n\nLossy conversion from float32 to uint8. Range [0, 1]. Convert image to uint8 prior to saving to suppress this warning.\n\nLossy conversion from float32 to uint8. Range [0, 1]. Convert image to uint8 prior to saving to suppress this warning.\n\nLossy conversion from float32 to uint8. Range [0, 1]. Convert image to uint8 prior to saving to suppress this warning.\nLossy conversion from float32 to uint8. Range [0, 1]. Convert image to uint8 prior to saving to suppress this warning.\n\nLossy conversion from float32 to uint8. Range [0, 1]. Convert image to uint8 prior to saving to suppress this warning.\n\nLossy conversion from float32 to uint8. Range [0, 1]. Convert image to uint8 prior to saving to suppress this warning.\n\nLossy conversion from float32 to uint8. Range [0, 1]. Convert image to uint8 prior to saving to suppress this warning.\n\nLossy conversion from float32 to uint8. Range [0, 1]. Convert image to uint8 prior to saving to suppress this warning.\n\nLossy conversion from float32 to uint8. Range [0, 1]. Convert image to uint8 prior to saving to suppress this warning.\n\nLossy conversion from float32 to uint8. Range [0, 1]. Convert image to uint8 prior to saving to suppress this warning.\n\nLossy conversion from float32 to uint8. Range [0, 1]. Convert image to uint8 prior to saving to suppress this warning.\n\nLossy conversion from float32 to uint8. Range [0, 1]. Convert image to uint8 prior to saving to suppress this warning.\n\nLossy conversion from float32 to uint8. Range [0, 1]. Convert image to uint8 prior to saving to suppress this warning.\n\nLossy conversion from float32 to uint8. Range [0, 1]. Convert image to uint8 prior to saving to suppress this warning.\n\nLossy conversion from float32 to uint8. Range [0, 1]. Convert image to uint8 prior to saving to suppress this warning.\n\nLossy conversion from float32 to uint8. Range [0, 1]. Convert image to uint8 prior to saving to suppress this warning.\n\nLossy conversion from float32 to uint8. Range [0, 1]. Convert image to uint8 prior to saving to suppress this warning.\n\nLossy conversion from float32 to uint8. Range [0, 1]. Convert image to uint8 prior to saving to suppress this warning.\n\nLossy conversion from float32 to uint8. Range [0, 1]. Convert image to uint8 prior to saving to suppress this warning.\n\nLossy conversion from float32 to uint8. Range [0, 1]. Convert image to uint8 prior to saving to suppress this warning.\n\nLossy conversion from float32 to uint8. Range [0, 1]. Convert image to uint8 prior to saving to suppress this warning.\n\nLossy conversion from float32 to uint8. Range [0, 1]. Convert image to uint8 prior to saving to suppress this warning.\n\nLossy conversion from float32 to uint8. Range [0, 1]. Convert image to uint8 prior to saving to suppress this warning.\n\nLossy conversion from float32 to uint8. Range [0, 1]. Convert image to uint8 prior to saving to suppress this warning.\n\nLossy conversion from float32 to uint8. Range [0, 1]. Convert image to uint8 prior to saving to suppress this warning.\n\nLossy conversion from float32 to uint8. Range [0, 1]. Convert image to uint8 prior to saving to suppress this warning.\n\nLossy conversion from float32 to uint8. Range [0, 1]. Convert image to uint8 prior to saving to suppress this warning.\n\nLossy conversion from float32 to uint8. Range [0, 1]. Convert image to uint8 prior to saving to suppress this warning.\n\nLossy conversion from float32 to uint8. Range [0, 1]. Convert image to uint8 prior to saving to suppress this warning.\n\nLossy conversion from float32 to uint8. Range [0, 1]. Convert image to uint8 prior to saving to suppress this warning.\n\nLossy conversion from float32 to uint8. Range [0, 1]. Convert image to uint8 prior to saving to suppress this warning.\n\nLossy conversion from float32 to uint8. Range [0, 1]. Convert image to uint8 prior to saving to suppress this warning.\n"
        },
        {
          "name": "stdout",
          "output_type": "stream",
          "text": "At i=100\n"
        },
        {
          "name": "stderr",
          "output_type": "stream",
          "text": "Lossy conversion from float32 to uint8. Range [0, 1]. Convert image to uint8 prior to saving to suppress this warning.\n\nLossy conversion from float32 to uint8. Range [0, 1]. Convert image to uint8 prior to saving to suppress this warning.\n\nLossy conversion from float32 to uint8. Range [0, 1]. Convert image to uint8 prior to saving to suppress this warning.\n\nLossy conversion from float32 to uint8. Range [0, 1]. Convert image to uint8 prior to saving to suppress this warning.\n\nLossy conversion from float32 to uint8. Range [0, 1]. Convert image to uint8 prior to saving to suppress this warning.\n\nLossy conversion from float32 to uint8. Range [0, 1]. Convert image to uint8 prior to saving to suppress this warning.\n\nLossy conversion from float32 to uint8. Range [0, 1]. Convert image to uint8 prior to saving to suppress this warning.\n\nLossy conversion from float32 to uint8. Range [0, 1]. Convert image to uint8 prior to saving to suppress this warning.\n\nLossy conversion from float32 to uint8. Range [0, 1]. Convert image to uint8 prior to saving to suppress this warning.\n\nLossy conversion from float32 to uint8. Range [0, 1]. Convert image to uint8 prior to saving to suppress this warning.\n\nLossy conversion from float32 to uint8. Range [0, 1]. Convert image to uint8 prior to saving to suppress this warning.\n\nLossy conversion from float32 to uint8. Range [0, 1]. Convert image to uint8 prior to saving to suppress this warning.\n\nLossy conversion from float32 to uint8. Range [0, 1]. Convert image to uint8 prior to saving to suppress this warning.\n\nLossy conversion from float32 to uint8. Range [0, 1]. Convert image to uint8 prior to saving to suppress this warning.\n\nLossy conversion from float32 to uint8. Range [0, 1]. Convert image to uint8 prior to saving to suppress this warning.\n\nLossy conversion from float32 to uint8. Range [0, 1]. Convert image to uint8 prior to saving to suppress this warning.\n\nLossy conversion from float32 to uint8. Range [0, 1]. Convert image to uint8 prior to saving to suppress this warning.\n\nLossy conversion from float32 to uint8. Range [0, 1]. Convert image to uint8 prior to saving to suppress this warning.\n\nLossy conversion from float32 to uint8. Range [0, 1]. Convert image to uint8 prior to saving to suppress this warning.\n\nLossy conversion from float32 to uint8. Range [0, 1]. Convert image to uint8 prior to saving to suppress this warning.\n\nLossy conversion from float32 to uint8. Range [0, 1]. Convert image to uint8 prior to saving to suppress this warning.\n\nLossy conversion from float32 to uint8. Range [0, 1]. Convert image to uint8 prior to saving to suppress this warning.\n\nLossy conversion from float32 to uint8. Range [0, 1]. Convert image to uint8 prior to saving to suppress this warning.\n\nLossy conversion from float32 to uint8. Range [0, 1]. Convert image to uint8 prior to saving to suppress this warning.\n\nLossy conversion from float32 to uint8. Range [0, 1]. Convert image to uint8 prior to saving to suppress this warning.\n\nLossy conversion from float32 to uint8. Range [0, 1]. Convert image to uint8 prior to saving to suppress this warning.\n\nLossy conversion from float32 to uint8. Range [0, 1]. Convert image to uint8 prior to saving to suppress this warning.\n\nLossy conversion from float32 to uint8. Range [0, 1]. Convert image to uint8 prior to saving to suppress this warning.\n\nLossy conversion from float32 to uint8. Range [0, 1]. Convert image to uint8 prior to saving to suppress this warning.\n\nLossy conversion from float32 to uint8. Range [0, 1]. Convert image to uint8 prior to saving to suppress this warning.\n\nLossy conversion from float32 to uint8. Range [0, 1]. Convert image to uint8 prior to saving to suppress this warning.\n\nLossy conversion from float32 to uint8. Range [0, 1]. Convert image to uint8 prior to saving to suppress this warning.\n\nLossy conversion from float32 to uint8. Range [0, 1]. Convert image to uint8 prior to saving to suppress this warning.\n\nLossy conversion from float32 to uint8. Range [0, 1]. Convert image to uint8 prior to saving to suppress this warning.\n\nLossy conversion from float32 to uint8. Range [0, 1]. Convert image to uint8 prior to saving to suppress this warning.\n\nLossy conversion from float32 to uint8. Range [0, 1]. Convert image to uint8 prior to saving to suppress this warning.\n\nLossy conversion from float32 to uint8. Range [0, 1]. Convert image to uint8 prior to saving to suppress this warning.\n\nLossy conversion from float32 to uint8. Range [0, 1]. Convert image to uint8 prior to saving to suppress this warning.\n\nLossy conversion from float32 to uint8. Range [0, 1]. Convert image to uint8 prior to saving to suppress this warning.\n\nLossy conversion from float32 to uint8. Range [0, 1]. Convert image to uint8 prior to saving to suppress this warning.\n\nLossy conversion from float32 to uint8. Range [0, 1]. Convert image to uint8 prior to saving to suppress this warning.\n\nLossy conversion from float32 to uint8. Range [0, 1]. Convert image to uint8 prior to saving to suppress this warning.\n\nLossy conversion from float32 to uint8. Range [0, 1]. Convert image to uint8 prior to saving to suppress this warning.\n\nLossy conversion from float32 to uint8. Range [0, 1]. Convert image to uint8 prior to saving to suppress this warning.\n\nLossy conversion from float32 to uint8. Range [0, 1]. Convert image to uint8 prior to saving to suppress this warning.\n\nLossy conversion from float32 to uint8. Range [0, 1]. Convert image to uint8 prior to saving to suppress this warning.\n\nLossy conversion from float32 to uint8. Range [0, 1]. Convert image to uint8 prior to saving to suppress this warning.\n\nLossy conversion from float32 to uint8. Range [0, 1]. Convert image to uint8 prior to saving to suppress this warning.\n\nLossy conversion from float32 to uint8. Range [0, 1]. Convert image to uint8 prior to saving to suppress this warning.\n\nLossy conversion from float32 to uint8. Range [0, 1]. Convert image to uint8 prior to saving to suppress this warning.\n\nLossy conversion from float32 to uint8. Range [0, 1]. Convert image to uint8 prior to saving to suppress this warning.\n\nLossy conversion from float32 to uint8. Range [0, 1]. Convert image to uint8 prior to saving to suppress this warning.\n\nLossy conversion from float32 to uint8. Range [0, 1]. Convert image to uint8 prior to saving to suppress this warning.\n\nLossy conversion from float32 to uint8. Range [0, 1]. Convert image to uint8 prior to saving to suppress this warning.\n\nLossy conversion from float32 to uint8. Range [0, 1]. Convert image to uint8 prior to saving to suppress this warning.\n\nLossy conversion from float32 to uint8. Range [0, 1]. Convert image to uint8 prior to saving to suppress this warning.\n\nLossy conversion from float32 to uint8. Range [0, 1]. Convert image to uint8 prior to saving to suppress this warning.\n\nLossy conversion from float32 to uint8. Range [0, 1]. Convert image to uint8 prior to saving to suppress this warning.\n\nLossy conversion from float32 to uint8. Range [0, 1]. Convert image to uint8 prior to saving to suppress this warning.\n\nLossy conversion from float32 to uint8. Range [0, 1]. Convert image to uint8 prior to saving to suppress this warning.\n\nLossy conversion from float32 to uint8. Range [0, 1]. Convert image to uint8 prior to saving to suppress this warning.\n\nLossy conversion from float32 to uint8. Range [0, 1]. Convert image to uint8 prior to saving to suppress this warning.\n\nLossy conversion from float32 to uint8. Range [0, 1]. Convert image to uint8 prior to saving to suppress this warning.\n\nLossy conversion from float32 to uint8. Range [0, 1]. Convert image to uint8 prior to saving to suppress this warning.\n\nLossy conversion from float32 to uint8. Range [0, 1]. Convert image to uint8 prior to saving to suppress this warning.\n\nLossy conversion from float32 to uint8. Range [0, 1]. Convert image to uint8 prior to saving to suppress this warning.\n\nLossy conversion from float32 to uint8. Range [0, 1]. Convert image to uint8 prior to saving to suppress this warning.\n\nLossy conversion from float32 to uint8. Range [0, 1]. Convert image to uint8 prior to saving to suppress this warning.\n\nLossy conversion from float32 to uint8. Range [0, 1]. Convert image to uint8 prior to saving to suppress this warning.\nLossy conversion from float32 to uint8. Range [0, 1]. Convert image to uint8 prior to saving to suppress this warning.\n\nLossy conversion from float32 to uint8. Range [0, 1]. Convert image to uint8 prior to saving to suppress this warning.\n\nLossy conversion from float32 to uint8. Range [0, 1]. Convert image to uint8 prior to saving to suppress this warning.\n\nLossy conversion from float32 to uint8. Range [0, 1]. Convert image to uint8 prior to saving to suppress this warning.\n\nLossy conversion from float32 to uint8. Range [0, 1]. Convert image to uint8 prior to saving to suppress this warning.\n\nLossy conversion from float32 to uint8. Range [0, 1]. Convert image to uint8 prior to saving to suppress this warning.\n\nLossy conversion from float32 to uint8. Range [0, 1]. Convert image to uint8 prior to saving to suppress this warning.\n\nLossy conversion from float32 to uint8. Range [0, 1]. Convert image to uint8 prior to saving to suppress this warning.\n\nLossy conversion from float32 to uint8. Range [0, 1]. Convert image to uint8 prior to saving to suppress this warning.\n\nLossy conversion from float32 to uint8. Range [0, 1]. Convert image to uint8 prior to saving to suppress this warning.\n\nLossy conversion from float32 to uint8. Range [0, 1]. Convert image to uint8 prior to saving to suppress this warning.\n\nLossy conversion from float32 to uint8. Range [0, 1]. Convert image to uint8 prior to saving to suppress this warning.\n\nLossy conversion from float32 to uint8. Range [0, 1]. Convert image to uint8 prior to saving to suppress this warning.\n\nLossy conversion from float32 to uint8. Range [0, 1]. Convert image to uint8 prior to saving to suppress this warning.\n\nLossy conversion from float32 to uint8. Range [0, 1]. Convert image to uint8 prior to saving to suppress this warning.\n\nLossy conversion from float32 to uint8. Range [0, 1]. Convert image to uint8 prior to saving to suppress this warning.\n\nLossy conversion from float32 to uint8. Range [0, 1]. Convert image to uint8 prior to saving to suppress this warning.\n\nLossy conversion from float32 to uint8. Range [0, 1]. Convert image to uint8 prior to saving to suppress this warning.\n\nLossy conversion from float32 to uint8. Range [0, 1]. Convert image to uint8 prior to saving to suppress this warning.\n\nLossy conversion from float32 to uint8. Range [0, 1]. Convert image to uint8 prior to saving to suppress this warning.\n\nLossy conversion from float32 to uint8. Range [0, 1]. Convert image to uint8 prior to saving to suppress this warning.\n\nLossy conversion from float32 to uint8. Range [0, 1]. Convert image to uint8 prior to saving to suppress this warning.\n\nLossy conversion from float32 to uint8. Range [0, 1]. Convert image to uint8 prior to saving to suppress this warning.\n\nLossy conversion from float32 to uint8. Range [0, 1]. Convert image to uint8 prior to saving to suppress this warning.\n\nLossy conversion from float32 to uint8. Range [0, 1]. Convert image to uint8 prior to saving to suppress this warning.\n\nLossy conversion from float32 to uint8. Range [0, 1]. Convert image to uint8 prior to saving to suppress this warning.\n\nLossy conversion from float32 to uint8. Range [0, 1]. Convert image to uint8 prior to saving to suppress this warning.\n\nLossy conversion from float32 to uint8. Range [0, 1]. Convert image to uint8 prior to saving to suppress this warning.\n\nLossy conversion from float32 to uint8. Range [0, 1]. Convert image to uint8 prior to saving to suppress this warning.\n\nLossy conversion from float32 to uint8. Range [0, 1]. Convert image to uint8 prior to saving to suppress this warning.\n"
        },
        {
          "name": "stdout",
          "output_type": "stream",
          "text": "At i=200\n"
        },
        {
          "name": "stderr",
          "output_type": "stream",
          "text": "Lossy conversion from float32 to uint8. Range [0, 1]. Convert image to uint8 prior to saving to suppress this warning.\n\nLossy conversion from float32 to uint8. Range [0, 1]. Convert image to uint8 prior to saving to suppress this warning.\n\nLossy conversion from float32 to uint8. Range [0, 1]. Convert image to uint8 prior to saving to suppress this warning.\n\nLossy conversion from float32 to uint8. Range [0, 1]. Convert image to uint8 prior to saving to suppress this warning.\n\nLossy conversion from float32 to uint8. Range [0, 1]. Convert image to uint8 prior to saving to suppress this warning.\n\nLossy conversion from float32 to uint8. Range [0, 1]. Convert image to uint8 prior to saving to suppress this warning.\n\nLossy conversion from float32 to uint8. Range [0, 1]. Convert image to uint8 prior to saving to suppress this warning.\n\nLossy conversion from float32 to uint8. Range [0, 1]. Convert image to uint8 prior to saving to suppress this warning.\n\nLossy conversion from float32 to uint8. Range [0, 1]. Convert image to uint8 prior to saving to suppress this warning.\n\nLossy conversion from float32 to uint8. Range [0, 1]. Convert image to uint8 prior to saving to suppress this warning.\n\nLossy conversion from float32 to uint8. Range [0, 1]. Convert image to uint8 prior to saving to suppress this warning.\n\nLossy conversion from float32 to uint8. Range [0, 1]. Convert image to uint8 prior to saving to suppress this warning.\n\nLossy conversion from float32 to uint8. Range [0, 1]. Convert image to uint8 prior to saving to suppress this warning.\n\nLossy conversion from float32 to uint8. Range [0, 1]. Convert image to uint8 prior to saving to suppress this warning.\n\nLossy conversion from float32 to uint8. Range [0, 1]. Convert image to uint8 prior to saving to suppress this warning.\n\nLossy conversion from float32 to uint8. Range [0, 1]. Convert image to uint8 prior to saving to suppress this warning.\n\nLossy conversion from float32 to uint8. Range [0, 1]. Convert image to uint8 prior to saving to suppress this warning.\n\nLossy conversion from float32 to uint8. Range [0, 1]. Convert image to uint8 prior to saving to suppress this warning.\n\nLossy conversion from float32 to uint8. Range [0, 1]. Convert image to uint8 prior to saving to suppress this warning.\n\nLossy conversion from float32 to uint8. Range [0, 1]. Convert image to uint8 prior to saving to suppress this warning.\n\nLossy conversion from float32 to uint8. Range [0, 1]. Convert image to uint8 prior to saving to suppress this warning.\n\nLossy conversion from float32 to uint8. Range [0, 1]. Convert image to uint8 prior to saving to suppress this warning.\n\nLossy conversion from float32 to uint8. Range [0, 1]. Convert image to uint8 prior to saving to suppress this warning.\n\nLossy conversion from float32 to uint8. Range [0, 1]. Convert image to uint8 prior to saving to suppress this warning.\n\nLossy conversion from float32 to uint8. Range [0, 1]. Convert image to uint8 prior to saving to suppress this warning.\n\nLossy conversion from float32 to uint8. Range [0, 1]. Convert image to uint8 prior to saving to suppress this warning.\n\nLossy conversion from float32 to uint8. Range [0, 1]. Convert image to uint8 prior to saving to suppress this warning.\n\nLossy conversion from float32 to uint8. Range [0, 1]. Convert image to uint8 prior to saving to suppress this warning.\n\nLossy conversion from float32 to uint8. Range [0, 1]. Convert image to uint8 prior to saving to suppress this warning.\n\nLossy conversion from float32 to uint8. Range [0, 1]. Convert image to uint8 prior to saving to suppress this warning.\n\nLossy conversion from float32 to uint8. Range [0, 1]. Convert image to uint8 prior to saving to suppress this warning.\n\nLossy conversion from float32 to uint8. Range [0, 1]. Convert image to uint8 prior to saving to suppress this warning.\n\nLossy conversion from float32 to uint8. Range [0, 1]. Convert image to uint8 prior to saving to suppress this warning.\n\nLossy conversion from float32 to uint8. Range [0, 1]. Convert image to uint8 prior to saving to suppress this warning.\n\nLossy conversion from float32 to uint8. Range [0, 1]. Convert image to uint8 prior to saving to suppress this warning.\n\nLossy conversion from float32 to uint8. Range [0, 1]. Convert image to uint8 prior to saving to suppress this warning.\n\nLossy conversion from float32 to uint8. Range [0, 1]. Convert image to uint8 prior to saving to suppress this warning.\n\nLossy conversion from float32 to uint8. Range [0, 1]. Convert image to uint8 prior to saving to suppress this warning.\n\nLossy conversion from float32 to uint8. Range [0, 1]. Convert image to uint8 prior to saving to suppress this warning.\n\nLossy conversion from float32 to uint8. Range [0, 1]. Convert image to uint8 prior to saving to suppress this warning.\n\nLossy conversion from float32 to uint8. Range [0, 1]. Convert image to uint8 prior to saving to suppress this warning.\n\nLossy conversion from float32 to uint8. Range [0, 1]. Convert image to uint8 prior to saving to suppress this warning.\n\nLossy conversion from float32 to uint8. Range [0, 1]. Convert image to uint8 prior to saving to suppress this warning.\n\nLossy conversion from float32 to uint8. Range [0, 1]. Convert image to uint8 prior to saving to suppress this warning.\n\nLossy conversion from float32 to uint8. Range [0, 1]. Convert image to uint8 prior to saving to suppress this warning.\n\nLossy conversion from float32 to uint8. Range [0, 1]. Convert image to uint8 prior to saving to suppress this warning.\n\nLossy conversion from float32 to uint8. Range [0, 1]. Convert image to uint8 prior to saving to suppress this warning.\n\nLossy conversion from float32 to uint8. Range [0, 1]. Convert image to uint8 prior to saving to suppress this warning.\n\nLossy conversion from float32 to uint8. Range [0, 1]. Convert image to uint8 prior to saving to suppress this warning.\n\nLossy conversion from float32 to uint8. Range [0, 1]. Convert image to uint8 prior to saving to suppress this warning.\n\nLossy conversion from float32 to uint8. Range [0, 1]. Convert image to uint8 prior to saving to suppress this warning.\n\nLossy conversion from float32 to uint8. Range [0, 1]. Convert image to uint8 prior to saving to suppress this warning.\n\nLossy conversion from float32 to uint8. Range [0, 1]. Convert image to uint8 prior to saving to suppress this warning.\n\nLossy conversion from float32 to uint8. Range [0, 1]. Convert image to uint8 prior to saving to suppress this warning.\n\nLossy conversion from float32 to uint8. Range [0, 1]. Convert image to uint8 prior to saving to suppress this warning.\n\nLossy conversion from float32 to uint8. Range [0, 1]. Convert image to uint8 prior to saving to suppress this warning.\n\nLossy conversion from float32 to uint8. Range [0, 1]. Convert image to uint8 prior to saving to suppress this warning.\n\nLossy conversion from float32 to uint8. Range [0, 1]. Convert image to uint8 prior to saving to suppress this warning.\n\nLossy conversion from float32 to uint8. Range [0, 1]. Convert image to uint8 prior to saving to suppress this warning.\n\nLossy conversion from float32 to uint8. Range [0, 1]. Convert image to uint8 prior to saving to suppress this warning.\n\nLossy conversion from float32 to uint8. Range [0, 1]. Convert image to uint8 prior to saving to suppress this warning.\n\nLossy conversion from float32 to uint8. Range [0, 1]. Convert image to uint8 prior to saving to suppress this warning.\n\nLossy conversion from float32 to uint8. Range [0, 1]. Convert image to uint8 prior to saving to suppress this warning.\n\nLossy conversion from float32 to uint8. Range [0, 1]. Convert image to uint8 prior to saving to suppress this warning.\n\nLossy conversion from float32 to uint8. Range [0, 1]. Convert image to uint8 prior to saving to suppress this warning.\n\nLossy conversion from float32 to uint8. Range [0, 1]. Convert image to uint8 prior to saving to suppress this warning.\n\nLossy conversion from float32 to uint8. Range [0, 1]. Convert image to uint8 prior to saving to suppress this warning.\n\nLossy conversion from float32 to uint8. Range [0, 1]. Convert image to uint8 prior to saving to suppress this warning.\n\nLossy conversion from float32 to uint8. Range [0, 1]. Convert image to uint8 prior to saving to suppress this warning.\nLossy conversion from float32 to uint8. Range [0, 1]. Convert image to uint8 prior to saving to suppress this warning.\n\nLossy conversion from float32 to uint8. Range [0, 1]. Convert image to uint8 prior to saving to suppress this warning.\n\nLossy conversion from float32 to uint8. Range [0, 1]. Convert image to uint8 prior to saving to suppress this warning.\n\nLossy conversion from float32 to uint8. Range [0, 1]. Convert image to uint8 prior to saving to suppress this warning.\n\nLossy conversion from float32 to uint8. Range [0, 1]. Convert image to uint8 prior to saving to suppress this warning.\n\nLossy conversion from float32 to uint8. Range [0, 1]. Convert image to uint8 prior to saving to suppress this warning.\n\nLossy conversion from float32 to uint8. Range [0, 1]. Convert image to uint8 prior to saving to suppress this warning.\n\nLossy conversion from float32 to uint8. Range [0, 1]. Convert image to uint8 prior to saving to suppress this warning.\n\nLossy conversion from float32 to uint8. Range [0, 1]. Convert image to uint8 prior to saving to suppress this warning.\n\nLossy conversion from float32 to uint8. Range [0, 1]. Convert image to uint8 prior to saving to suppress this warning.\n\nLossy conversion from float32 to uint8. Range [0, 1]. Convert image to uint8 prior to saving to suppress this warning.\n\nLossy conversion from float32 to uint8. Range [0, 1]. Convert image to uint8 prior to saving to suppress this warning.\n\nLossy conversion from float32 to uint8. Range [0, 1]. Convert image to uint8 prior to saving to suppress this warning.\n\nLossy conversion from float32 to uint8. Range [0, 1]. Convert image to uint8 prior to saving to suppress this warning.\n\nLossy conversion from float32 to uint8. Range [0, 1]. Convert image to uint8 prior to saving to suppress this warning.\n\nLossy conversion from float32 to uint8. Range [0, 1]. Convert image to uint8 prior to saving to suppress this warning.\n\nLossy conversion from float32 to uint8. Range [0, 1]. Convert image to uint8 prior to saving to suppress this warning.\n\nLossy conversion from float32 to uint8. Range [0, 1]. Convert image to uint8 prior to saving to suppress this warning.\n\nLossy conversion from float32 to uint8. Range [0, 1]. Convert image to uint8 prior to saving to suppress this warning.\n\nLossy conversion from float32 to uint8. Range [0, 1]. Convert image to uint8 prior to saving to suppress this warning.\n\nLossy conversion from float32 to uint8. Range [0, 1]. Convert image to uint8 prior to saving to suppress this warning.\n\nLossy conversion from float32 to uint8. Range [0, 1]. Convert image to uint8 prior to saving to suppress this warning.\n\nLossy conversion from float32 to uint8. Range [0, 1]. Convert image to uint8 prior to saving to suppress this warning.\n\nLossy conversion from float32 to uint8. Range [0, 1]. Convert image to uint8 prior to saving to suppress this warning.\n\nLossy conversion from float32 to uint8. Range [0, 1]. Convert image to uint8 prior to saving to suppress this warning.\n\nLossy conversion from float32 to uint8. Range [0, 1]. Convert image to uint8 prior to saving to suppress this warning.\n\nLossy conversion from float32 to uint8. Range [0, 1]. Convert image to uint8 prior to saving to suppress this warning.\n\nLossy conversion from float32 to uint8. Range [0, 1]. Convert image to uint8 prior to saving to suppress this warning.\n\nLossy conversion from float32 to uint8. Range [0, 1]. Convert image to uint8 prior to saving to suppress this warning.\n\nLossy conversion from float32 to uint8. Range [0, 1]. Convert image to uint8 prior to saving to suppress this warning.\n\nLossy conversion from float32 to uint8. Range [0, 1]. Convert image to uint8 prior to saving to suppress this warning.\n\nLossy conversion from float32 to uint8. Range [0, 1]. Convert image to uint8 prior to saving to suppress this warning.\n\nLossy conversion from float32 to uint8. Range [0, 1]. Convert image to uint8 prior to saving to suppress this warning.\n"
        },
        {
          "name": "stdout",
          "output_type": "stream",
          "text": "At i=300\n"
        },
        {
          "name": "stderr",
          "output_type": "stream",
          "text": "Lossy conversion from float32 to uint8. Range [0, 1]. Convert image to uint8 prior to saving to suppress this warning.\n\nLossy conversion from float32 to uint8. Range [0, 1]. Convert image to uint8 prior to saving to suppress this warning.\n\nLossy conversion from float32 to uint8. Range [0, 1]. Convert image to uint8 prior to saving to suppress this warning.\n\nLossy conversion from float32 to uint8. Range [0, 1]. Convert image to uint8 prior to saving to suppress this warning.\n\nLossy conversion from float32 to uint8. Range [0, 1]. Convert image to uint8 prior to saving to suppress this warning.\n\nLossy conversion from float32 to uint8. Range [0, 1]. Convert image to uint8 prior to saving to suppress this warning.\n\nLossy conversion from float32 to uint8. Range [0, 1]. Convert image to uint8 prior to saving to suppress this warning.\n\nLossy conversion from float32 to uint8. Range [0, 1]. Convert image to uint8 prior to saving to suppress this warning.\n\nLossy conversion from float32 to uint8. Range [0, 1]. Convert image to uint8 prior to saving to suppress this warning.\n\nLossy conversion from float32 to uint8. Range [0, 1]. Convert image to uint8 prior to saving to suppress this warning.\n\nLossy conversion from float32 to uint8. Range [0, 1]. Convert image to uint8 prior to saving to suppress this warning.\n\nLossy conversion from float32 to uint8. Range [0, 1]. Convert image to uint8 prior to saving to suppress this warning.\n\nLossy conversion from float32 to uint8. Range [0, 1]. Convert image to uint8 prior to saving to suppress this warning.\n\nLossy conversion from float32 to uint8. Range [0, 1]. Convert image to uint8 prior to saving to suppress this warning.\n\nLossy conversion from float32 to uint8. Range [0, 1]. Convert image to uint8 prior to saving to suppress this warning.\n\nLossy conversion from float32 to uint8. Range [0, 1]. Convert image to uint8 prior to saving to suppress this warning.\n\nLossy conversion from float32 to uint8. Range [0, 1]. Convert image to uint8 prior to saving to suppress this warning.\n\nLossy conversion from float32 to uint8. Range [0, 1]. Convert image to uint8 prior to saving to suppress this warning.\n\nLossy conversion from float32 to uint8. Range [0, 1]. Convert image to uint8 prior to saving to suppress this warning.\n\nLossy conversion from float32 to uint8. Range [0, 1]. Convert image to uint8 prior to saving to suppress this warning.\n\nLossy conversion from float32 to uint8. Range [0, 1]. Convert image to uint8 prior to saving to suppress this warning.\n\nLossy conversion from float32 to uint8. Range [0, 1]. Convert image to uint8 prior to saving to suppress this warning.\n\nLossy conversion from float32 to uint8. Range [0, 1]. Convert image to uint8 prior to saving to suppress this warning.\n\nLossy conversion from float32 to uint8. Range [0, 1]. Convert image to uint8 prior to saving to suppress this warning.\n\nLossy conversion from float32 to uint8. Range [0, 1]. Convert image to uint8 prior to saving to suppress this warning.\n\nLossy conversion from float32 to uint8. Range [0, 1]. Convert image to uint8 prior to saving to suppress this warning.\n\nLossy conversion from float32 to uint8. Range [0, 1]. Convert image to uint8 prior to saving to suppress this warning.\n\nLossy conversion from float32 to uint8. Range [0, 1]. Convert image to uint8 prior to saving to suppress this warning.\n\nLossy conversion from float32 to uint8. Range [0, 1]. Convert image to uint8 prior to saving to suppress this warning.\n\nLossy conversion from float32 to uint8. Range [0, 1]. Convert image to uint8 prior to saving to suppress this warning.\n\nLossy conversion from float32 to uint8. Range [0, 1]. Convert image to uint8 prior to saving to suppress this warning.\n\nLossy conversion from float32 to uint8. Range [0, 1]. Convert image to uint8 prior to saving to suppress this warning.\n\nLossy conversion from float32 to uint8. Range [0, 1]. Convert image to uint8 prior to saving to suppress this warning.\n\nLossy conversion from float32 to uint8. Range [0, 1]. Convert image to uint8 prior to saving to suppress this warning.\n\nLossy conversion from float32 to uint8. Range [0, 1]. Convert image to uint8 prior to saving to suppress this warning.\n\nLossy conversion from float32 to uint8. Range [0, 1]. Convert image to uint8 prior to saving to suppress this warning.\n\nLossy conversion from float32 to uint8. Range [0, 1]. Convert image to uint8 prior to saving to suppress this warning.\n\nLossy conversion from float32 to uint8. Range [0, 1]. Convert image to uint8 prior to saving to suppress this warning.\n\nLossy conversion from float32 to uint8. Range [0, 1]. Convert image to uint8 prior to saving to suppress this warning.\n\nLossy conversion from float32 to uint8. Range [0, 1]. Convert image to uint8 prior to saving to suppress this warning.\n\nLossy conversion from float32 to uint8. Range [0, 1]. Convert image to uint8 prior to saving to suppress this warning.\n\nLossy conversion from float32 to uint8. Range [0, 1]. Convert image to uint8 prior to saving to suppress this warning.\n\nLossy conversion from float32 to uint8. Range [0, 1]. Convert image to uint8 prior to saving to suppress this warning.\n\nLossy conversion from float32 to uint8. Range [0, 1]. Convert image to uint8 prior to saving to suppress this warning.\n\nLossy conversion from float32 to uint8. Range [0, 1]. Convert image to uint8 prior to saving to suppress this warning.\n\nLossy conversion from float32 to uint8. Range [0, 1]. Convert image to uint8 prior to saving to suppress this warning.\n\nLossy conversion from float32 to uint8. Range [0, 1]. Convert image to uint8 prior to saving to suppress this warning.\n\nLossy conversion from float32 to uint8. Range [0, 1]. Convert image to uint8 prior to saving to suppress this warning.\n\nLossy conversion from float32 to uint8. Range [0, 1]. Convert image to uint8 prior to saving to suppress this warning.\n\nLossy conversion from float32 to uint8. Range [0, 1]. Convert image to uint8 prior to saving to suppress this warning.\n\nLossy conversion from float32 to uint8. Range [0, 1]. Convert image to uint8 prior to saving to suppress this warning.\n\nLossy conversion from float32 to uint8. Range [0, 1]. Convert image to uint8 prior to saving to suppress this warning.\n\nLossy conversion from float32 to uint8. Range [0, 1]. Convert image to uint8 prior to saving to suppress this warning.\n\nLossy conversion from float32 to uint8. Range [0, 1]. Convert image to uint8 prior to saving to suppress this warning.\n\nLossy conversion from float32 to uint8. Range [0, 1]. Convert image to uint8 prior to saving to suppress this warning.\n\nLossy conversion from float32 to uint8. Range [0, 1]. Convert image to uint8 prior to saving to suppress this warning.\n\nLossy conversion from float32 to uint8. Range [0, 1]. Convert image to uint8 prior to saving to suppress this warning.\n\nLossy conversion from float32 to uint8. Range [0, 1]. Convert image to uint8 prior to saving to suppress this warning.\n\nLossy conversion from float32 to uint8. Range [0, 1]. Convert image to uint8 prior to saving to suppress this warning.\n\nLossy conversion from float32 to uint8. Range [0, 1]. Convert image to uint8 prior to saving to suppress this warning.\n\nLossy conversion from float32 to uint8. Range [0, 1]. Convert image to uint8 prior to saving to suppress this warning.\n\nLossy conversion from float32 to uint8. Range [0, 1]. Convert image to uint8 prior to saving to suppress this warning.\n\nLossy conversion from float32 to uint8. Range [0, 1]. Convert image to uint8 prior to saving to suppress this warning.\n\nLossy conversion from float32 to uint8. Range [0, 1]. Convert image to uint8 prior to saving to suppress this warning.\n\nLossy conversion from float32 to uint8. Range [0, 1]. Convert image to uint8 prior to saving to suppress this warning.\n\nLossy conversion from float32 to uint8. Range [0, 1]. Convert image to uint8 prior to saving to suppress this warning.\n\nLossy conversion from float32 to uint8. Range [0, 1]. Convert image to uint8 prior to saving to suppress this warning.\n\nLossy conversion from float32 to uint8. Range [0, 1]. Convert image to uint8 prior to saving to suppress this warning.\n\nLossy conversion from float32 to uint8. Range [0, 1]. Convert image to uint8 prior to saving to suppress this warning.\nLossy conversion from float32 to uint8. Range [0, 1]. Convert image to uint8 prior to saving to suppress this warning.\n\nLossy conversion from float32 to uint8. Range [0, 1]. Convert image to uint8 prior to saving to suppress this warning.\n\nLossy conversion from float32 to uint8. Range [0, 1]. Convert image to uint8 prior to saving to suppress this warning.\n\nLossy conversion from float32 to uint8. Range [0, 1]. Convert image to uint8 prior to saving to suppress this warning.\n\nLossy conversion from float32 to uint8. Range [0, 1]. Convert image to uint8 prior to saving to suppress this warning.\n\nLossy conversion from float32 to uint8. Range [0, 1]. Convert image to uint8 prior to saving to suppress this warning.\n\nLossy conversion from float32 to uint8. Range [0, 1]. Convert image to uint8 prior to saving to suppress this warning.\n\nLossy conversion from float32 to uint8. Range [0, 1]. Convert image to uint8 prior to saving to suppress this warning.\n\nLossy conversion from float32 to uint8. Range [0, 1]. Convert image to uint8 prior to saving to suppress this warning.\n\nLossy conversion from float32 to uint8. Range [0, 1]. Convert image to uint8 prior to saving to suppress this warning.\n\nLossy conversion from float32 to uint8. Range [0, 1]. Convert image to uint8 prior to saving to suppress this warning.\n\nLossy conversion from float32 to uint8. Range [0, 1]. Convert image to uint8 prior to saving to suppress this warning.\n\nLossy conversion from float32 to uint8. Range [0, 1]. Convert image to uint8 prior to saving to suppress this warning.\n\nLossy conversion from float32 to uint8. Range [0, 1]. Convert image to uint8 prior to saving to suppress this warning.\n\nLossy conversion from float32 to uint8. Range [0, 1]. Convert image to uint8 prior to saving to suppress this warning.\n\nLossy conversion from float32 to uint8. Range [0, 1]. Convert image to uint8 prior to saving to suppress this warning.\n\nLossy conversion from float32 to uint8. Range [0, 1]. Convert image to uint8 prior to saving to suppress this warning.\n\nLossy conversion from float32 to uint8. Range [0, 1]. Convert image to uint8 prior to saving to suppress this warning.\n\nLossy conversion from float32 to uint8. Range [0, 1]. Convert image to uint8 prior to saving to suppress this warning.\n\nLossy conversion from float32 to uint8. Range [0, 1]. Convert image to uint8 prior to saving to suppress this warning.\n\nLossy conversion from float32 to uint8. Range [0, 1]. Convert image to uint8 prior to saving to suppress this warning.\n\nLossy conversion from float32 to uint8. Range [0, 1]. Convert image to uint8 prior to saving to suppress this warning.\n\nLossy conversion from float32 to uint8. Range [0, 1]. Convert image to uint8 prior to saving to suppress this warning.\n\nLossy conversion from float32 to uint8. Range [0, 1]. Convert image to uint8 prior to saving to suppress this warning.\n\nLossy conversion from float32 to uint8. Range [0, 1]. Convert image to uint8 prior to saving to suppress this warning.\n\nLossy conversion from float32 to uint8. Range [0, 1]. Convert image to uint8 prior to saving to suppress this warning.\n\nLossy conversion from float32 to uint8. Range [0, 1]. Convert image to uint8 prior to saving to suppress this warning.\n\nLossy conversion from float32 to uint8. Range [0, 1]. Convert image to uint8 prior to saving to suppress this warning.\n"
        },
        {
          "name": "stdout",
          "output_type": "stream",
          "text": "At i=400\n"
        },
        {
          "name": "stderr",
          "output_type": "stream",
          "text": "Lossy conversion from float32 to uint8. Range [0, 1]. Convert image to uint8 prior to saving to suppress this warning.\n\nLossy conversion from float32 to uint8. Range [0, 1]. Convert image to uint8 prior to saving to suppress this warning.\n\nLossy conversion from float32 to uint8. Range [0, 1]. Convert image to uint8 prior to saving to suppress this warning.\n\nLossy conversion from float32 to uint8. Range [0, 1]. Convert image to uint8 prior to saving to suppress this warning.\n\nLossy conversion from float32 to uint8. Range [0, 1]. Convert image to uint8 prior to saving to suppress this warning.\n\nLossy conversion from float32 to uint8. Range [0, 1]. Convert image to uint8 prior to saving to suppress this warning.\n\nLossy conversion from float32 to uint8. Range [0, 1]. Convert image to uint8 prior to saving to suppress this warning.\n\nLossy conversion from float32 to uint8. Range [0, 1]. Convert image to uint8 prior to saving to suppress this warning.\n\nLossy conversion from float32 to uint8. Range [0, 1]. Convert image to uint8 prior to saving to suppress this warning.\n\nLossy conversion from float32 to uint8. Range [0, 1]. Convert image to uint8 prior to saving to suppress this warning.\n\nLossy conversion from float32 to uint8. Range [0, 1]. Convert image to uint8 prior to saving to suppress this warning.\n\nLossy conversion from float32 to uint8. Range [0, 1]. Convert image to uint8 prior to saving to suppress this warning.\n\nLossy conversion from float32 to uint8. Range [0, 1]. Convert image to uint8 prior to saving to suppress this warning.\n\nLossy conversion from float32 to uint8. Range [0, 1]. Convert image to uint8 prior to saving to suppress this warning.\n\nLossy conversion from float32 to uint8. Range [0, 1]. Convert image to uint8 prior to saving to suppress this warning.\n\nLossy conversion from float32 to uint8. Range [0, 1]. Convert image to uint8 prior to saving to suppress this warning.\n\nLossy conversion from float32 to uint8. Range [0, 1]. Convert image to uint8 prior to saving to suppress this warning.\n\nLossy conversion from float32 to uint8. Range [0, 1]. Convert image to uint8 prior to saving to suppress this warning.\n\nLossy conversion from float32 to uint8. Range [0, 1]. Convert image to uint8 prior to saving to suppress this warning.\n\nLossy conversion from float32 to uint8. Range [0, 1]. Convert image to uint8 prior to saving to suppress this warning.\n\nLossy conversion from float32 to uint8. Range [0, 1]. Convert image to uint8 prior to saving to suppress this warning.\n\nLossy conversion from float32 to uint8. Range [0, 1]. Convert image to uint8 prior to saving to suppress this warning.\n\nLossy conversion from float32 to uint8. Range [0, 1]. Convert image to uint8 prior to saving to suppress this warning.\n\nLossy conversion from float32 to uint8. Range [0, 1]. Convert image to uint8 prior to saving to suppress this warning.\n\nLossy conversion from float32 to uint8. Range [0, 1]. Convert image to uint8 prior to saving to suppress this warning.\n\nLossy conversion from float32 to uint8. Range [0, 1]. Convert image to uint8 prior to saving to suppress this warning.\n\nLossy conversion from float32 to uint8. Range [0, 1]. Convert image to uint8 prior to saving to suppress this warning.\n\nLossy conversion from float32 to uint8. Range [0, 1]. Convert image to uint8 prior to saving to suppress this warning.\n\nLossy conversion from float32 to uint8. Range [0, 1]. Convert image to uint8 prior to saving to suppress this warning.\n\nLossy conversion from float32 to uint8. Range [0, 1]. Convert image to uint8 prior to saving to suppress this warning.\n\nLossy conversion from float32 to uint8. Range [0, 1]. Convert image to uint8 prior to saving to suppress this warning.\n\nLossy conversion from float32 to uint8. Range [0, 1]. Convert image to uint8 prior to saving to suppress this warning.\n\nLossy conversion from float32 to uint8. Range [0, 1]. Convert image to uint8 prior to saving to suppress this warning.\n\nLossy conversion from float32 to uint8. Range [0, 1]. Convert image to uint8 prior to saving to suppress this warning.\n\nLossy conversion from float32 to uint8. Range [0, 1]. Convert image to uint8 prior to saving to suppress this warning.\n\nLossy conversion from float32 to uint8. Range [0, 1]. Convert image to uint8 prior to saving to suppress this warning.\n\nLossy conversion from float32 to uint8. Range [0, 1]. Convert image to uint8 prior to saving to suppress this warning.\n\nLossy conversion from float32 to uint8. Range [0, 1]. Convert image to uint8 prior to saving to suppress this warning.\n\nLossy conversion from float32 to uint8. Range [0, 1]. Convert image to uint8 prior to saving to suppress this warning.\n\nLossy conversion from float32 to uint8. Range [0, 1]. Convert image to uint8 prior to saving to suppress this warning.\n\nLossy conversion from float32 to uint8. Range [0, 1]. Convert image to uint8 prior to saving to suppress this warning.\n\nLossy conversion from float32 to uint8. Range [0, 1]. Convert image to uint8 prior to saving to suppress this warning.\n\nLossy conversion from float32 to uint8. Range [0, 1]. Convert image to uint8 prior to saving to suppress this warning.\n\nLossy conversion from float32 to uint8. Range [0, 1]. Convert image to uint8 prior to saving to suppress this warning.\n\nLossy conversion from float32 to uint8. Range [0, 1]. Convert image to uint8 prior to saving to suppress this warning.\n\nLossy conversion from float32 to uint8. Range [0, 1]. Convert image to uint8 prior to saving to suppress this warning.\n\nLossy conversion from float32 to uint8. Range [0, 1]. Convert image to uint8 prior to saving to suppress this warning.\n\nLossy conversion from float32 to uint8. Range [0, 1]. Convert image to uint8 prior to saving to suppress this warning.\n\nLossy conversion from float32 to uint8. Range [0, 1]. Convert image to uint8 prior to saving to suppress this warning.\n\nLossy conversion from float32 to uint8. Range [0, 1]. Convert image to uint8 prior to saving to suppress this warning.\n\nLossy conversion from float32 to uint8. Range [0, 1]. Convert image to uint8 prior to saving to suppress this warning.\n\nLossy conversion from float32 to uint8. Range [0, 1]. Convert image to uint8 prior to saving to suppress this warning.\n\nLossy conversion from float32 to uint8. Range [0, 1]. Convert image to uint8 prior to saving to suppress this warning.\n\nLossy conversion from float32 to uint8. Range [0, 1]. Convert image to uint8 prior to saving to suppress this warning.\n\nLossy conversion from float32 to uint8. Range [0, 1]. Convert image to uint8 prior to saving to suppress this warning.\n\nLossy conversion from float32 to uint8. Range [0, 1]. Convert image to uint8 prior to saving to suppress this warning.\n\nLossy conversion from float32 to uint8. Range [0, 1]. Convert image to uint8 prior to saving to suppress this warning.\n\nLossy conversion from float32 to uint8. Range [0, 1]. Convert image to uint8 prior to saving to suppress this warning.\n\nLossy conversion from float32 to uint8. Range [0, 1]. Convert image to uint8 prior to saving to suppress this warning.\n\nLossy conversion from float32 to uint8. Range [0, 1]. Convert image to uint8 prior to saving to suppress this warning.\n\nLossy conversion from float32 to uint8. Range [0, 1]. Convert image to uint8 prior to saving to suppress this warning.\n\nLossy conversion from float32 to uint8. Range [0, 1]. Convert image to uint8 prior to saving to suppress this warning.\n\nLossy conversion from float32 to uint8. Range [0, 1]. Convert image to uint8 prior to saving to suppress this warning.\n\nLossy conversion from float32 to uint8. Range [0, 1]. Convert image to uint8 prior to saving to suppress this warning.\n\nLossy conversion from float32 to uint8. Range [0, 1]. Convert image to uint8 prior to saving to suppress this warning.\n\nLossy conversion from float32 to uint8. Range [0, 1]. Convert image to uint8 prior to saving to suppress this warning.\n\nLossy conversion from float32 to uint8. Range [0, 1]. Convert image to uint8 prior to saving to suppress this warning.\n\nLossy conversion from float32 to uint8. Range [0, 1]. Convert image to uint8 prior to saving to suppress this warning.\n\nLossy conversion from float32 to uint8. Range [0, 1]. Convert image to uint8 prior to saving to suppress this warning.\nLossy conversion from float32 to uint8. Range [0, 1]. Convert image to uint8 prior to saving to suppress this warning.\n\nLossy conversion from float32 to uint8. Range [0, 1]. Convert image to uint8 prior to saving to suppress this warning.\n\nLossy conversion from float32 to uint8. Range [0, 1]. Convert image to uint8 prior to saving to suppress this warning.\n\nLossy conversion from float32 to uint8. Range [0, 1]. Convert image to uint8 prior to saving to suppress this warning.\n\nLossy conversion from float32 to uint8. Range [0, 1]. Convert image to uint8 prior to saving to suppress this warning.\n\nLossy conversion from float32 to uint8. Range [0, 1]. Convert image to uint8 prior to saving to suppress this warning.\n\nLossy conversion from float32 to uint8. Range [0, 1]. Convert image to uint8 prior to saving to suppress this warning.\n\nLossy conversion from float32 to uint8. Range [0, 1]. Convert image to uint8 prior to saving to suppress this warning.\n\nLossy conversion from float32 to uint8. Range [0, 1]. Convert image to uint8 prior to saving to suppress this warning.\n\nLossy conversion from float32 to uint8. Range [0, 1]. Convert image to uint8 prior to saving to suppress this warning.\n\nLossy conversion from float32 to uint8. Range [0, 1]. Convert image to uint8 prior to saving to suppress this warning.\n\nLossy conversion from float32 to uint8. Range [0, 1]. Convert image to uint8 prior to saving to suppress this warning.\n\nLossy conversion from float32 to uint8. Range [0, 1]. Convert image to uint8 prior to saving to suppress this warning.\n\nLossy conversion from float32 to uint8. Range [0, 1]. Convert image to uint8 prior to saving to suppress this warning.\n\nLossy conversion from float32 to uint8. Range [0, 1]. Convert image to uint8 prior to saving to suppress this warning.\n\nLossy conversion from float32 to uint8. Range [0, 1]. Convert image to uint8 prior to saving to suppress this warning.\n\nLossy conversion from float32 to uint8. Range [0, 1]. Convert image to uint8 prior to saving to suppress this warning.\n\nLossy conversion from float32 to uint8. Range [0, 1]. Convert image to uint8 prior to saving to suppress this warning.\n\nLossy conversion from float32 to uint8. Range [0, 1]. Convert image to uint8 prior to saving to suppress this warning.\n\nLossy conversion from float32 to uint8. Range [0, 1]. Convert image to uint8 prior to saving to suppress this warning.\n\nLossy conversion from float32 to uint8. Range [0, 1]. Convert image to uint8 prior to saving to suppress this warning.\n\nLossy conversion from float32 to uint8. Range [0, 1]. Convert image to uint8 prior to saving to suppress this warning.\n\nLossy conversion from float32 to uint8. Range [0, 1]. Convert image to uint8 prior to saving to suppress this warning.\n\nLossy conversion from float32 to uint8. Range [0, 1]. Convert image to uint8 prior to saving to suppress this warning.\n\nLossy conversion from float32 to uint8. Range [0, 1]. Convert image to uint8 prior to saving to suppress this warning.\n\nLossy conversion from float32 to uint8. Range [0, 1]. Convert image to uint8 prior to saving to suppress this warning.\n\nLossy conversion from float32 to uint8. Range [0, 1]. Convert image to uint8 prior to saving to suppress this warning.\n\nLossy conversion from float32 to uint8. Range [0, 1]. Convert image to uint8 prior to saving to suppress this warning.\n\nLossy conversion from float32 to uint8. Range [0, 1]. Convert image to uint8 prior to saving to suppress this warning.\n\nLossy conversion from float32 to uint8. Range [0, 1]. Convert image to uint8 prior to saving to suppress this warning.\n"
        },
        {
          "name": "stdout",
          "output_type": "stream",
          "text": "At i=500\n"
        },
        {
          "name": "stderr",
          "output_type": "stream",
          "text": "Lossy conversion from float32 to uint8. Range [0, 1]. Convert image to uint8 prior to saving to suppress this warning.\n\nLossy conversion from float32 to uint8. Range [0, 1]. Convert image to uint8 prior to saving to suppress this warning.\n\nLossy conversion from float32 to uint8. Range [0, 1]. Convert image to uint8 prior to saving to suppress this warning.\n\nLossy conversion from float32 to uint8. Range [0, 1]. Convert image to uint8 prior to saving to suppress this warning.\n\nLossy conversion from float32 to uint8. Range [0, 1]. Convert image to uint8 prior to saving to suppress this warning.\n\nLossy conversion from float32 to uint8. Range [0, 1]. Convert image to uint8 prior to saving to suppress this warning.\n\nLossy conversion from float32 to uint8. Range [0, 1]. Convert image to uint8 prior to saving to suppress this warning.\n\nLossy conversion from float32 to uint8. Range [0, 1]. Convert image to uint8 prior to saving to suppress this warning.\n\nLossy conversion from float32 to uint8. Range [0, 1]. Convert image to uint8 prior to saving to suppress this warning.\n\nLossy conversion from float32 to uint8. Range [0, 1]. Convert image to uint8 prior to saving to suppress this warning.\n\nLossy conversion from float32 to uint8. Range [0, 1]. Convert image to uint8 prior to saving to suppress this warning.\n\nLossy conversion from float32 to uint8. Range [0, 1]. Convert image to uint8 prior to saving to suppress this warning.\n\nLossy conversion from float32 to uint8. Range [0, 1]. Convert image to uint8 prior to saving to suppress this warning.\n\nLossy conversion from float32 to uint8. Range [0, 1]. Convert image to uint8 prior to saving to suppress this warning.\n\nLossy conversion from float32 to uint8. Range [0, 1]. Convert image to uint8 prior to saving to suppress this warning.\n\nLossy conversion from float32 to uint8. Range [0, 1]. Convert image to uint8 prior to saving to suppress this warning.\n\nLossy conversion from float32 to uint8. Range [0, 1]. Convert image to uint8 prior to saving to suppress this warning.\n\nLossy conversion from float32 to uint8. Range [0, 1]. Convert image to uint8 prior to saving to suppress this warning.\n\nLossy conversion from float32 to uint8. Range [0, 1]. Convert image to uint8 prior to saving to suppress this warning.\n\nLossy conversion from float32 to uint8. Range [0, 1]. Convert image to uint8 prior to saving to suppress this warning.\n\nLossy conversion from float32 to uint8. Range [0, 1]. Convert image to uint8 prior to saving to suppress this warning.\n\nLossy conversion from float32 to uint8. Range [0, 1]. Convert image to uint8 prior to saving to suppress this warning.\n\nLossy conversion from float32 to uint8. Range [0, 1]. Convert image to uint8 prior to saving to suppress this warning.\n\nLossy conversion from float32 to uint8. Range [0, 1]. Convert image to uint8 prior to saving to suppress this warning.\n\nLossy conversion from float32 to uint8. Range [0, 1]. Convert image to uint8 prior to saving to suppress this warning.\n\nLossy conversion from float32 to uint8. Range [0, 1]. Convert image to uint8 prior to saving to suppress this warning.\n\nLossy conversion from float32 to uint8. Range [0, 1]. Convert image to uint8 prior to saving to suppress this warning.\n\nLossy conversion from float32 to uint8. Range [0, 1]. Convert image to uint8 prior to saving to suppress this warning.\n\nLossy conversion from float32 to uint8. Range [0, 1]. Convert image to uint8 prior to saving to suppress this warning.\n\nLossy conversion from float32 to uint8. Range [0, 1]. Convert image to uint8 prior to saving to suppress this warning.\n\nLossy conversion from float32 to uint8. Range [0, 1]. Convert image to uint8 prior to saving to suppress this warning.\n\nLossy conversion from float32 to uint8. Range [0, 1]. Convert image to uint8 prior to saving to suppress this warning.\n\nLossy conversion from float32 to uint8. Range [0, 1]. Convert image to uint8 prior to saving to suppress this warning.\n\nLossy conversion from float32 to uint8. Range [0, 1]. Convert image to uint8 prior to saving to suppress this warning.\n\nLossy conversion from float32 to uint8. Range [0, 1]. Convert image to uint8 prior to saving to suppress this warning.\n\nLossy conversion from float32 to uint8. Range [0, 1]. Convert image to uint8 prior to saving to suppress this warning.\n\nLossy conversion from float32 to uint8. Range [0, 1]. Convert image to uint8 prior to saving to suppress this warning.\n\nLossy conversion from float32 to uint8. Range [0, 1]. Convert image to uint8 prior to saving to suppress this warning.\n\nLossy conversion from float32 to uint8. Range [0, 1]. Convert image to uint8 prior to saving to suppress this warning.\n\nLossy conversion from float32 to uint8. Range [0, 1]. Convert image to uint8 prior to saving to suppress this warning.\n\nLossy conversion from float32 to uint8. Range [0, 1]. Convert image to uint8 prior to saving to suppress this warning.\n\nLossy conversion from float32 to uint8. Range [0, 1]. Convert image to uint8 prior to saving to suppress this warning.\n\nLossy conversion from float32 to uint8. Range [0, 1]. Convert image to uint8 prior to saving to suppress this warning.\n\nLossy conversion from float32 to uint8. Range [0, 1]. Convert image to uint8 prior to saving to suppress this warning.\n\nLossy conversion from float32 to uint8. Range [0, 1]. Convert image to uint8 prior to saving to suppress this warning.\n\nLossy conversion from float32 to uint8. Range [0, 1]. Convert image to uint8 prior to saving to suppress this warning.\n\nLossy conversion from float32 to uint8. Range [0, 1]. Convert image to uint8 prior to saving to suppress this warning.\n\nLossy conversion from float32 to uint8. Range [0, 1]. Convert image to uint8 prior to saving to suppress this warning.\n\nLossy conversion from float32 to uint8. Range [0, 1]. Convert image to uint8 prior to saving to suppress this warning.\n\nLossy conversion from float32 to uint8. Range [0, 1]. Convert image to uint8 prior to saving to suppress this warning.\n\nLossy conversion from float32 to uint8. Range [0, 1]. Convert image to uint8 prior to saving to suppress this warning.\n\nLossy conversion from float32 to uint8. Range [0, 1]. Convert image to uint8 prior to saving to suppress this warning.\n\nLossy conversion from float32 to uint8. Range [0, 1]. Convert image to uint8 prior to saving to suppress this warning.\n\nLossy conversion from float32 to uint8. Range [0, 1]. Convert image to uint8 prior to saving to suppress this warning.\n\nLossy conversion from float32 to uint8. Range [0, 1]. Convert image to uint8 prior to saving to suppress this warning.\n\nLossy conversion from float32 to uint8. Range [0, 1]. Convert image to uint8 prior to saving to suppress this warning.\n\nLossy conversion from float32 to uint8. Range [0, 1]. Convert image to uint8 prior to saving to suppress this warning.\n\nLossy conversion from float32 to uint8. Range [0, 1]. Convert image to uint8 prior to saving to suppress this warning.\n\nLossy conversion from float32 to uint8. Range [0, 1]. Convert image to uint8 prior to saving to suppress this warning.\n\nLossy conversion from float32 to uint8. Range [0, 1]. Convert image to uint8 prior to saving to suppress this warning.\n\nLossy conversion from float32 to uint8. Range [0, 1]. Convert image to uint8 prior to saving to suppress this warning.\n\nLossy conversion from float32 to uint8. Range [0, 1]. Convert image to uint8 prior to saving to suppress this warning.\n\nLossy conversion from float32 to uint8. Range [0, 1]. Convert image to uint8 prior to saving to suppress this warning.\n\nLossy conversion from float32 to uint8. Range [0, 1]. Convert image to uint8 prior to saving to suppress this warning.\n\nLossy conversion from float32 to uint8. Range [0, 1]. Convert image to uint8 prior to saving to suppress this warning.\n\nLossy conversion from float32 to uint8. Range [0, 1]. Convert image to uint8 prior to saving to suppress this warning.\n\nLossy conversion from float32 to uint8. Range [0, 1]. Convert image to uint8 prior to saving to suppress this warning.\n\nLossy conversion from float32 to uint8. Range [0, 1]. Convert image to uint8 prior to saving to suppress this warning.\n\nLossy conversion from float32 to uint8. Range [0, 1]. Convert image to uint8 prior to saving to suppress this warning.\nLossy conversion from float32 to uint8. Range [0, 1]. Convert image to uint8 prior to saving to suppress this warning.\n\nLossy conversion from float32 to uint8. Range [0, 1]. Convert image to uint8 prior to saving to suppress this warning.\n\nLossy conversion from float32 to uint8. Range [0, 1]. Convert image to uint8 prior to saving to suppress this warning.\n\nLossy conversion from float32 to uint8. Range [0, 1]. Convert image to uint8 prior to saving to suppress this warning.\n\nLossy conversion from float32 to uint8. Range [0, 1]. Convert image to uint8 prior to saving to suppress this warning.\n\nLossy conversion from float32 to uint8. Range [0, 1]. Convert image to uint8 prior to saving to suppress this warning.\n\nLossy conversion from float32 to uint8. Range [0, 1]. Convert image to uint8 prior to saving to suppress this warning.\n\nLossy conversion from float32 to uint8. Range [0, 1]. Convert image to uint8 prior to saving to suppress this warning.\n\nLossy conversion from float32 to uint8. Range [0, 1]. Convert image to uint8 prior to saving to suppress this warning.\n\nLossy conversion from float32 to uint8. Range [0, 1]. Convert image to uint8 prior to saving to suppress this warning.\n\nLossy conversion from float32 to uint8. Range [0, 1]. Convert image to uint8 prior to saving to suppress this warning.\n\nLossy conversion from float32 to uint8. Range [0, 1]. Convert image to uint8 prior to saving to suppress this warning.\n\nLossy conversion from float32 to uint8. Range [0, 1]. Convert image to uint8 prior to saving to suppress this warning.\n\nLossy conversion from float32 to uint8. Range [0, 1]. Convert image to uint8 prior to saving to suppress this warning.\n\nLossy conversion from float32 to uint8. Range [0, 1]. Convert image to uint8 prior to saving to suppress this warning.\n\nLossy conversion from float32 to uint8. Range [0, 1]. Convert image to uint8 prior to saving to suppress this warning.\n\nLossy conversion from float32 to uint8. Range [0, 1]. Convert image to uint8 prior to saving to suppress this warning.\n\nLossy conversion from float32 to uint8. Range [0, 1]. Convert image to uint8 prior to saving to suppress this warning.\n\nLossy conversion from float32 to uint8. Range [0, 1]. Convert image to uint8 prior to saving to suppress this warning.\n\nLossy conversion from float32 to uint8. Range [0, 1]. Convert image to uint8 prior to saving to suppress this warning.\n\nLossy conversion from float32 to uint8. Range [0, 1]. Convert image to uint8 prior to saving to suppress this warning.\n\nLossy conversion from float32 to uint8. Range [0, 1]. Convert image to uint8 prior to saving to suppress this warning.\n\nLossy conversion from float32 to uint8. Range [0, 1]. Convert image to uint8 prior to saving to suppress this warning.\n\nLossy conversion from float32 to uint8. Range [0, 1]. Convert image to uint8 prior to saving to suppress this warning.\n\nLossy conversion from float32 to uint8. Range [0, 1]. Convert image to uint8 prior to saving to suppress this warning.\n\nLossy conversion from float32 to uint8. Range [0, 1]. Convert image to uint8 prior to saving to suppress this warning.\n\nLossy conversion from float32 to uint8. Range [0, 1]. Convert image to uint8 prior to saving to suppress this warning.\n\nLossy conversion from float32 to uint8. Range [0, 1]. Convert image to uint8 prior to saving to suppress this warning.\n\nLossy conversion from float32 to uint8. Range [0, 1]. Convert image to uint8 prior to saving to suppress this warning.\n\nLossy conversion from float32 to uint8. Range [0, 1]. Convert image to uint8 prior to saving to suppress this warning.\n"
        },
        {
          "name": "stdout",
          "output_type": "stream",
          "text": "At i=600\n"
        },
        {
          "name": "stderr",
          "output_type": "stream",
          "text": "Lossy conversion from float32 to uint8. Range [0, 1]. Convert image to uint8 prior to saving to suppress this warning.\n\nLossy conversion from float32 to uint8. Range [0, 1]. Convert image to uint8 prior to saving to suppress this warning.\n\nLossy conversion from float32 to uint8. Range [0, 1]. Convert image to uint8 prior to saving to suppress this warning.\n\nLossy conversion from float32 to uint8. Range [0, 1]. Convert image to uint8 prior to saving to suppress this warning.\n\nLossy conversion from float32 to uint8. Range [0, 1]. Convert image to uint8 prior to saving to suppress this warning.\n\nLossy conversion from float32 to uint8. Range [0, 1]. Convert image to uint8 prior to saving to suppress this warning.\n\nLossy conversion from float32 to uint8. Range [0, 1]. Convert image to uint8 prior to saving to suppress this warning.\n\nLossy conversion from float32 to uint8. Range [0, 1]. Convert image to uint8 prior to saving to suppress this warning.\n\nLossy conversion from float32 to uint8. Range [0, 1]. Convert image to uint8 prior to saving to suppress this warning.\n\nLossy conversion from float32 to uint8. Range [0, 1]. Convert image to uint8 prior to saving to suppress this warning.\n\nLossy conversion from float32 to uint8. Range [0, 1]. Convert image to uint8 prior to saving to suppress this warning.\n\nLossy conversion from float32 to uint8. Range [0, 1]. Convert image to uint8 prior to saving to suppress this warning.\n\nLossy conversion from float32 to uint8. Range [0, 1]. Convert image to uint8 prior to saving to suppress this warning.\n\nLossy conversion from float32 to uint8. Range [0, 1]. Convert image to uint8 prior to saving to suppress this warning.\n\nLossy conversion from float32 to uint8. Range [0, 1]. Convert image to uint8 prior to saving to suppress this warning.\n\nLossy conversion from float32 to uint8. Range [0, 1]. Convert image to uint8 prior to saving to suppress this warning.\n\nLossy conversion from float32 to uint8. Range [0, 1]. Convert image to uint8 prior to saving to suppress this warning.\n\nLossy conversion from float32 to uint8. Range [0, 1]. Convert image to uint8 prior to saving to suppress this warning.\n\nLossy conversion from float32 to uint8. Range [0, 1]. Convert image to uint8 prior to saving to suppress this warning.\n\nLossy conversion from float32 to uint8. Range [0, 1]. Convert image to uint8 prior to saving to suppress this warning.\n\nLossy conversion from float32 to uint8. Range [0, 1]. Convert image to uint8 prior to saving to suppress this warning.\n\nLossy conversion from float32 to uint8. Range [0, 1]. Convert image to uint8 prior to saving to suppress this warning.\n\nLossy conversion from float32 to uint8. Range [0, 1]. Convert image to uint8 prior to saving to suppress this warning.\n\nLossy conversion from float32 to uint8. Range [0, 1]. Convert image to uint8 prior to saving to suppress this warning.\n\nLossy conversion from float32 to uint8. Range [0, 1]. Convert image to uint8 prior to saving to suppress this warning.\n\nLossy conversion from float32 to uint8. Range [0, 1]. Convert image to uint8 prior to saving to suppress this warning.\n\nLossy conversion from float32 to uint8. Range [0, 1]. Convert image to uint8 prior to saving to suppress this warning.\n\nLossy conversion from float32 to uint8. Range [0, 1]. Convert image to uint8 prior to saving to suppress this warning.\n\nLossy conversion from float32 to uint8. Range [0, 1]. Convert image to uint8 prior to saving to suppress this warning.\n\nLossy conversion from float32 to uint8. Range [0, 1]. Convert image to uint8 prior to saving to suppress this warning.\n\nLossy conversion from float32 to uint8. Range [0, 1]. Convert image to uint8 prior to saving to suppress this warning.\n\nLossy conversion from float32 to uint8. Range [0, 1]. Convert image to uint8 prior to saving to suppress this warning.\n\nLossy conversion from float32 to uint8. Range [0, 1]. Convert image to uint8 prior to saving to suppress this warning.\n\nLossy conversion from float32 to uint8. Range [0, 1]. Convert image to uint8 prior to saving to suppress this warning.\n\nLossy conversion from float32 to uint8. Range [0, 1]. Convert image to uint8 prior to saving to suppress this warning.\n\nLossy conversion from float32 to uint8. Range [0, 1]. Convert image to uint8 prior to saving to suppress this warning.\n\nLossy conversion from float32 to uint8. Range [0, 1]. Convert image to uint8 prior to saving to suppress this warning.\n\nLossy conversion from float32 to uint8. Range [0, 1]. Convert image to uint8 prior to saving to suppress this warning.\n\nLossy conversion from float32 to uint8. Range [0, 1]. Convert image to uint8 prior to saving to suppress this warning.\n\nLossy conversion from float32 to uint8. Range [0, 1]. Convert image to uint8 prior to saving to suppress this warning.\n\nLossy conversion from float32 to uint8. Range [0, 1]. Convert image to uint8 prior to saving to suppress this warning.\n\nLossy conversion from float32 to uint8. Range [0, 1]. Convert image to uint8 prior to saving to suppress this warning.\n\nLossy conversion from float32 to uint8. Range [0, 1]. Convert image to uint8 prior to saving to suppress this warning.\n\nLossy conversion from float32 to uint8. Range [0, 1]. Convert image to uint8 prior to saving to suppress this warning.\n\nLossy conversion from float32 to uint8. Range [0, 1]. Convert image to uint8 prior to saving to suppress this warning.\n\nLossy conversion from float32 to uint8. Range [0, 1]. Convert image to uint8 prior to saving to suppress this warning.\n\nLossy conversion from float32 to uint8. Range [0, 1]. Convert image to uint8 prior to saving to suppress this warning.\n\nLossy conversion from float32 to uint8. Range [0, 1]. Convert image to uint8 prior to saving to suppress this warning.\n\nLossy conversion from float32 to uint8. Range [0, 1]. Convert image to uint8 prior to saving to suppress this warning.\n\nLossy conversion from float32 to uint8. Range [0, 1]. Convert image to uint8 prior to saving to suppress this warning.\n\nLossy conversion from float32 to uint8. Range [0, 1]. Convert image to uint8 prior to saving to suppress this warning.\n\nLossy conversion from float32 to uint8. Range [0, 1]. Convert image to uint8 prior to saving to suppress this warning.\n\nLossy conversion from float32 to uint8. Range [0, 1]. Convert image to uint8 prior to saving to suppress this warning.\n\nLossy conversion from float32 to uint8. Range [0, 1]. Convert image to uint8 prior to saving to suppress this warning.\n\nLossy conversion from float32 to uint8. Range [0, 1]. Convert image to uint8 prior to saving to suppress this warning.\n\nLossy conversion from float32 to uint8. Range [0, 1]. Convert image to uint8 prior to saving to suppress this warning.\n\nLossy conversion from float32 to uint8. Range [0, 1]. Convert image to uint8 prior to saving to suppress this warning.\n\nLossy conversion from float32 to uint8. Range [0, 1]. Convert image to uint8 prior to saving to suppress this warning.\n\nLossy conversion from float32 to uint8. Range [0, 1]. Convert image to uint8 prior to saving to suppress this warning.\n\nLossy conversion from float32 to uint8. Range [0, 1]. Convert image to uint8 prior to saving to suppress this warning.\n\nLossy conversion from float32 to uint8. Range [0, 1]. Convert image to uint8 prior to saving to suppress this warning.\n\nLossy conversion from float32 to uint8. Range [0, 1]. Convert image to uint8 prior to saving to suppress this warning.\n\nLossy conversion from float32 to uint8. Range [0, 1]. Convert image to uint8 prior to saving to suppress this warning.\n\nLossy conversion from float32 to uint8. Range [0, 1]. Convert image to uint8 prior to saving to suppress this warning.\n\nLossy conversion from float32 to uint8. Range [0, 1]. Convert image to uint8 prior to saving to suppress this warning.\n\nLossy conversion from float32 to uint8. Range [0, 1]. Convert image to uint8 prior to saving to suppress this warning.\n\nLossy conversion from float32 to uint8. Range [0, 1]. Convert image to uint8 prior to saving to suppress this warning.\n\nLossy conversion from float32 to uint8. Range [0, 1]. Convert image to uint8 prior to saving to suppress this warning.\n\nLossy conversion from float32 to uint8. Range [0, 1]. Convert image to uint8 prior to saving to suppress this warning.\nLossy conversion from float32 to uint8. Range [0, 1]. Convert image to uint8 prior to saving to suppress this warning.\n\nLossy conversion from float32 to uint8. Range [0, 1]. Convert image to uint8 prior to saving to suppress this warning.\n\nLossy conversion from float32 to uint8. Range [0, 1]. Convert image to uint8 prior to saving to suppress this warning.\n\nLossy conversion from float32 to uint8. Range [0, 1]. Convert image to uint8 prior to saving to suppress this warning.\n\nLossy conversion from float32 to uint8. Range [0, 1]. Convert image to uint8 prior to saving to suppress this warning.\n\nLossy conversion from float32 to uint8. Range [0, 1]. Convert image to uint8 prior to saving to suppress this warning.\n\nLossy conversion from float32 to uint8. Range [0, 1]. Convert image to uint8 prior to saving to suppress this warning.\n\nLossy conversion from float32 to uint8. Range [0, 1]. Convert image to uint8 prior to saving to suppress this warning.\n\nLossy conversion from float32 to uint8. Range [0, 1]. Convert image to uint8 prior to saving to suppress this warning.\n\nLossy conversion from float32 to uint8. Range [0, 1]. Convert image to uint8 prior to saving to suppress this warning.\n\nLossy conversion from float32 to uint8. Range [0, 1]. Convert image to uint8 prior to saving to suppress this warning.\n\nLossy conversion from float32 to uint8. Range [0, 1]. Convert image to uint8 prior to saving to suppress this warning.\n\nLossy conversion from float32 to uint8. Range [0, 1]. Convert image to uint8 prior to saving to suppress this warning.\n\nLossy conversion from float32 to uint8. Range [0, 1]. Convert image to uint8 prior to saving to suppress this warning.\n\nLossy conversion from float32 to uint8. Range [0, 1]. Convert image to uint8 prior to saving to suppress this warning.\n\nLossy conversion from float32 to uint8. Range [0, 1]. Convert image to uint8 prior to saving to suppress this warning.\n\nLossy conversion from float32 to uint8. Range [0, 1]. Convert image to uint8 prior to saving to suppress this warning.\n\nLossy conversion from float32 to uint8. Range [0, 1]. Convert image to uint8 prior to saving to suppress this warning.\n\nLossy conversion from float32 to uint8. Range [0, 1]. Convert image to uint8 prior to saving to suppress this warning.\n\nLossy conversion from float32 to uint8. Range [0, 1]. Convert image to uint8 prior to saving to suppress this warning.\n\nLossy conversion from float32 to uint8. Range [0, 1]. Convert image to uint8 prior to saving to suppress this warning.\n\nLossy conversion from float32 to uint8. Range [0, 1]. Convert image to uint8 prior to saving to suppress this warning.\n\nLossy conversion from float32 to uint8. Range [0, 1]. Convert image to uint8 prior to saving to suppress this warning.\n\nLossy conversion from float32 to uint8. Range [0, 1]. Convert image to uint8 prior to saving to suppress this warning.\n\nLossy conversion from float32 to uint8. Range [0, 1]. Convert image to uint8 prior to saving to suppress this warning.\n\nLossy conversion from float32 to uint8. Range [0, 1]. Convert image to uint8 prior to saving to suppress this warning.\n\nLossy conversion from float32 to uint8. Range [0, 1]. Convert image to uint8 prior to saving to suppress this warning.\n\nLossy conversion from float32 to uint8. Range [0, 1]. Convert image to uint8 prior to saving to suppress this warning.\n\nLossy conversion from float32 to uint8. Range [0, 1]. Convert image to uint8 prior to saving to suppress this warning.\n\nLossy conversion from float32 to uint8. Range [0, 1]. Convert image to uint8 prior to saving to suppress this warning.\n\nLossy conversion from float32 to uint8. Range [0, 1]. Convert image to uint8 prior to saving to suppress this warning.\n\nLossy conversion from float32 to uint8. Range [0, 1]. Convert image to uint8 prior to saving to suppress this warning.\n\nLossy conversion from float32 to uint8. Range [0, 1]. Convert image to uint8 prior to saving to suppress this warning.\n\nLossy conversion from float32 to uint8. Range [0, 1]. Convert image to uint8 prior to saving to suppress this warning.\n\nLossy conversion from float32 to uint8. Range [0, 1]. Convert image to uint8 prior to saving to suppress this warning.\n\nLossy conversion from float32 to uint8. Range [0, 1]. Convert image to uint8 prior to saving to suppress this warning.\n\nLossy conversion from float32 to uint8. Range [0, 1]. Convert image to uint8 prior to saving to suppress this warning.\n\nLossy conversion from float32 to uint8. Range [0, 1]. Convert image to uint8 prior to saving to suppress this warning.\n\nLossy conversion from float32 to uint8. Range [0, 1]. Convert image to uint8 prior to saving to suppress this warning.\n\nLossy conversion from float32 to uint8. Range [0, 1]. Convert image to uint8 prior to saving to suppress this warning.\n\nLossy conversion from float32 to uint8. Range [0, 1]. Convert image to uint8 prior to saving to suppress this warning.\n\nLossy conversion from float32 to uint8. Range [0, 1]. Convert image to uint8 prior to saving to suppress this warning.\n\nLossy conversion from float32 to uint8. Range [0, 1]. Convert image to uint8 prior to saving to suppress this warning.\n"
        },
        {
          "name": "stdout",
          "output_type": "stream",
          "text": "At i=700\n"
        },
        {
          "name": "stderr",
          "output_type": "stream",
          "text": "Lossy conversion from float32 to uint8. Range [0, 1]. Convert image to uint8 prior to saving to suppress this warning.\n\nLossy conversion from float32 to uint8. Range [0, 1]. Convert image to uint8 prior to saving to suppress this warning.\n\nLossy conversion from float32 to uint8. Range [0, 1]. Convert image to uint8 prior to saving to suppress this warning.\n\nLossy conversion from float32 to uint8. Range [0, 1]. Convert image to uint8 prior to saving to suppress this warning.\n\nLossy conversion from float32 to uint8. Range [0, 1]. Convert image to uint8 prior to saving to suppress this warning.\n\nLossy conversion from float32 to uint8. Range [0, 1]. Convert image to uint8 prior to saving to suppress this warning.\n\nLossy conversion from float32 to uint8. Range [0, 1]. Convert image to uint8 prior to saving to suppress this warning.\n\nLossy conversion from float32 to uint8. Range [0, 1]. Convert image to uint8 prior to saving to suppress this warning.\n\nLossy conversion from float32 to uint8. Range [0, 1]. Convert image to uint8 prior to saving to suppress this warning.\n\nLossy conversion from float32 to uint8. Range [0, 1]. Convert image to uint8 prior to saving to suppress this warning.\n\nLossy conversion from float32 to uint8. Range [0, 1]. Convert image to uint8 prior to saving to suppress this warning.\n\nLossy conversion from float32 to uint8. Range [0, 1]. Convert image to uint8 prior to saving to suppress this warning.\n\nLossy conversion from float32 to uint8. Range [0, 1]. Convert image to uint8 prior to saving to suppress this warning.\n\nLossy conversion from float32 to uint8. Range [0, 1]. Convert image to uint8 prior to saving to suppress this warning.\n\nLossy conversion from float32 to uint8. Range [0, 1]. Convert image to uint8 prior to saving to suppress this warning.\n\nLossy conversion from float32 to uint8. Range [0, 1]. Convert image to uint8 prior to saving to suppress this warning.\n\nLossy conversion from float32 to uint8. Range [0, 1]. Convert image to uint8 prior to saving to suppress this warning.\n\nLossy conversion from float32 to uint8. Range [0, 1]. Convert image to uint8 prior to saving to suppress this warning.\n\nLossy conversion from float32 to uint8. Range [0, 1]. Convert image to uint8 prior to saving to suppress this warning.\n\nLossy conversion from float32 to uint8. Range [0, 1]. Convert image to uint8 prior to saving to suppress this warning.\n\nLossy conversion from float32 to uint8. Range [0, 1]. Convert image to uint8 prior to saving to suppress this warning.\n\nLossy conversion from float32 to uint8. Range [0, 1]. Convert image to uint8 prior to saving to suppress this warning.\n\nLossy conversion from float32 to uint8. Range [0, 1]. Convert image to uint8 prior to saving to suppress this warning.\n\nLossy conversion from float32 to uint8. Range [0, 1]. Convert image to uint8 prior to saving to suppress this warning.\n\nLossy conversion from float32 to uint8. Range [0, 1]. Convert image to uint8 prior to saving to suppress this warning.\n\nLossy conversion from float32 to uint8. Range [0, 1]. Convert image to uint8 prior to saving to suppress this warning.\n\nLossy conversion from float32 to uint8. Range [0, 1]. Convert image to uint8 prior to saving to suppress this warning.\n\nLossy conversion from float32 to uint8. Range [0, 1]. Convert image to uint8 prior to saving to suppress this warning.\n\nLossy conversion from float32 to uint8. Range [0, 1]. Convert image to uint8 prior to saving to suppress this warning.\n\nLossy conversion from float32 to uint8. Range [0, 1]. Convert image to uint8 prior to saving to suppress this warning.\n\nLossy conversion from float32 to uint8. Range [0, 1]. Convert image to uint8 prior to saving to suppress this warning.\n\nLossy conversion from float32 to uint8. Range [0, 1]. Convert image to uint8 prior to saving to suppress this warning.\n\nLossy conversion from float32 to uint8. Range [0, 1]. Convert image to uint8 prior to saving to suppress this warning.\n\nLossy conversion from float32 to uint8. Range [0, 1]. Convert image to uint8 prior to saving to suppress this warning.\n\nLossy conversion from float32 to uint8. Range [0, 1]. Convert image to uint8 prior to saving to suppress this warning.\n\nLossy conversion from float32 to uint8. Range [0, 1]. Convert image to uint8 prior to saving to suppress this warning.\n\nLossy conversion from float32 to uint8. Range [0, 1]. Convert image to uint8 prior to saving to suppress this warning.\n\nLossy conversion from float32 to uint8. Range [0, 1]. Convert image to uint8 prior to saving to suppress this warning.\n\nLossy conversion from float32 to uint8. Range [0, 1]. Convert image to uint8 prior to saving to suppress this warning.\n\nLossy conversion from float32 to uint8. Range [0, 1]. Convert image to uint8 prior to saving to suppress this warning.\n\nLossy conversion from float32 to uint8. Range [0, 1]. Convert image to uint8 prior to saving to suppress this warning.\n\nLossy conversion from float32 to uint8. Range [0, 1]. Convert image to uint8 prior to saving to suppress this warning.\n\nLossy conversion from float32 to uint8. Range [0, 1]. Convert image to uint8 prior to saving to suppress this warning.\n\nLossy conversion from float32 to uint8. Range [0, 1]. Convert image to uint8 prior to saving to suppress this warning.\n\nLossy conversion from float32 to uint8. Range [0, 1]. Convert image to uint8 prior to saving to suppress this warning.\n\nLossy conversion from float32 to uint8. Range [0, 1]. Convert image to uint8 prior to saving to suppress this warning.\n\nLossy conversion from float32 to uint8. Range [0, 1]. Convert image to uint8 prior to saving to suppress this warning.\n\nLossy conversion from float32 to uint8. Range [0, 1]. Convert image to uint8 prior to saving to suppress this warning.\n\nLossy conversion from float32 to uint8. Range [0, 1]. Convert image to uint8 prior to saving to suppress this warning.\n\nLossy conversion from float32 to uint8. Range [0, 1]. Convert image to uint8 prior to saving to suppress this warning.\n\nLossy conversion from float32 to uint8. Range [0, 1]. Convert image to uint8 prior to saving to suppress this warning.\n\nLossy conversion from float32 to uint8. Range [0, 1]. Convert image to uint8 prior to saving to suppress this warning.\n\nLossy conversion from float32 to uint8. Range [0, 1]. Convert image to uint8 prior to saving to suppress this warning.\n\nLossy conversion from float32 to uint8. Range [0, 1]. Convert image to uint8 prior to saving to suppress this warning.\n\nLossy conversion from float32 to uint8. Range [0, 1]. Convert image to uint8 prior to saving to suppress this warning.\n\nLossy conversion from float32 to uint8. Range [0, 1]. Convert image to uint8 prior to saving to suppress this warning.\n\nLossy conversion from float32 to uint8. Range [0, 1]. Convert image to uint8 prior to saving to suppress this warning.\n\nLossy conversion from float32 to uint8. Range [0, 1]. Convert image to uint8 prior to saving to suppress this warning.\n\nLossy conversion from float32 to uint8. Range [0, 1]. Convert image to uint8 prior to saving to suppress this warning.\n\nLossy conversion from float32 to uint8. Range [0, 1]. Convert image to uint8 prior to saving to suppress this warning.\n\nLossy conversion from float32 to uint8. Range [0, 1]. Convert image to uint8 prior to saving to suppress this warning.\n\nLossy conversion from float32 to uint8. Range [0, 1]. Convert image to uint8 prior to saving to suppress this warning.\n\nLossy conversion from float32 to uint8. Range [0, 1]. Convert image to uint8 prior to saving to suppress this warning.\n\nLossy conversion from float32 to uint8. Range [0, 1]. Convert image to uint8 prior to saving to suppress this warning.\n\nLossy conversion from float32 to uint8. Range [0, 1]. Convert image to uint8 prior to saving to suppress this warning.\n\nLossy conversion from float32 to uint8. Range [0, 1]. Convert image to uint8 prior to saving to suppress this warning.\n\nLossy conversion from float32 to uint8. Range [0, 1]. Convert image to uint8 prior to saving to suppress this warning.\n\nLossy conversion from float32 to uint8. Range [0, 1]. Convert image to uint8 prior to saving to suppress this warning.\n\nLossy conversion from float32 to uint8. Range [0, 1]. Convert image to uint8 prior to saving to suppress this warning.\nLossy conversion from float32 to uint8. Range [0, 1]. Convert image to uint8 prior to saving to suppress this warning.\n\nLossy conversion from float32 to uint8. Range [0, 1]. Convert image to uint8 prior to saving to suppress this warning.\n\nLossy conversion from float32 to uint8. Range [0, 1]. Convert image to uint8 prior to saving to suppress this warning.\n\nLossy conversion from float32 to uint8. Range [0, 1]. Convert image to uint8 prior to saving to suppress this warning.\n\nLossy conversion from float32 to uint8. Range [0, 1]. Convert image to uint8 prior to saving to suppress this warning.\n\nLossy conversion from float32 to uint8. Range [0, 1]. Convert image to uint8 prior to saving to suppress this warning.\n\nLossy conversion from float32 to uint8. Range [0, 1]. Convert image to uint8 prior to saving to suppress this warning.\n\nLossy conversion from float32 to uint8. Range [0, 1]. Convert image to uint8 prior to saving to suppress this warning.\n\nLossy conversion from float32 to uint8. Range [0, 1]. Convert image to uint8 prior to saving to suppress this warning.\n\nLossy conversion from float32 to uint8. Range [0, 1]. Convert image to uint8 prior to saving to suppress this warning.\n\nLossy conversion from float32 to uint8. Range [0, 1]. Convert image to uint8 prior to saving to suppress this warning.\n\nLossy conversion from float32 to uint8. Range [0, 1]. Convert image to uint8 prior to saving to suppress this warning.\n\nLossy conversion from float32 to uint8. Range [0, 1]. Convert image to uint8 prior to saving to suppress this warning.\n\nLossy conversion from float32 to uint8. Range [0, 1]. Convert image to uint8 prior to saving to suppress this warning.\n\nLossy conversion from float32 to uint8. Range [0, 1]. Convert image to uint8 prior to saving to suppress this warning.\n\nLossy conversion from float32 to uint8. Range [0, 1]. Convert image to uint8 prior to saving to suppress this warning.\n\nLossy conversion from float32 to uint8. Range [0, 1]. Convert image to uint8 prior to saving to suppress this warning.\n\nLossy conversion from float32 to uint8. Range [0, 1]. Convert image to uint8 prior to saving to suppress this warning.\n\nLossy conversion from float32 to uint8. Range [0, 1]. Convert image to uint8 prior to saving to suppress this warning.\n\nLossy conversion from float32 to uint8. Range [0, 1]. Convert image to uint8 prior to saving to suppress this warning.\n\nLossy conversion from float32 to uint8. Range [0, 1]. Convert image to uint8 prior to saving to suppress this warning.\n\nLossy conversion from float32 to uint8. Range [0, 1]. Convert image to uint8 prior to saving to suppress this warning.\n\nLossy conversion from float32 to uint8. Range [0, 1]. Convert image to uint8 prior to saving to suppress this warning.\n\nLossy conversion from float32 to uint8. Range [0, 1]. Convert image to uint8 prior to saving to suppress this warning.\n\nLossy conversion from float32 to uint8. Range [0, 1]. Convert image to uint8 prior to saving to suppress this warning.\n\nLossy conversion from float32 to uint8. Range [0, 1]. Convert image to uint8 prior to saving to suppress this warning.\n\nLossy conversion from float32 to uint8. Range [0, 1]. Convert image to uint8 prior to saving to suppress this warning.\n\nLossy conversion from float32 to uint8. Range [0, 1]. Convert image to uint8 prior to saving to suppress this warning.\n\nLossy conversion from float32 to uint8. Range [0, 1]. Convert image to uint8 prior to saving to suppress this warning.\n"
        },
        {
          "name": "stdout",
          "output_type": "stream",
          "text": "At i=800\n"
        },
        {
          "name": "stderr",
          "output_type": "stream",
          "text": "Lossy conversion from float32 to uint8. Range [0, 1]. Convert image to uint8 prior to saving to suppress this warning.\n\nLossy conversion from float32 to uint8. Range [0, 1]. Convert image to uint8 prior to saving to suppress this warning.\n\nLossy conversion from float32 to uint8. Range [0, 1]. Convert image to uint8 prior to saving to suppress this warning.\n\nLossy conversion from float32 to uint8. Range [0, 1]. Convert image to uint8 prior to saving to suppress this warning.\n\nLossy conversion from float32 to uint8. Range [0, 1]. Convert image to uint8 prior to saving to suppress this warning.\n\nLossy conversion from float32 to uint8. Range [0, 1]. Convert image to uint8 prior to saving to suppress this warning.\n\nLossy conversion from float32 to uint8. Range [0, 1]. Convert image to uint8 prior to saving to suppress this warning.\n\nLossy conversion from float32 to uint8. Range [0, 1]. Convert image to uint8 prior to saving to suppress this warning.\n\nLossy conversion from float32 to uint8. Range [0, 1]. Convert image to uint8 prior to saving to suppress this warning.\n\nLossy conversion from float32 to uint8. Range [0, 1]. Convert image to uint8 prior to saving to suppress this warning.\n\nLossy conversion from float32 to uint8. Range [0, 1]. Convert image to uint8 prior to saving to suppress this warning.\n\nLossy conversion from float32 to uint8. Range [0, 1]. Convert image to uint8 prior to saving to suppress this warning.\n\nLossy conversion from float32 to uint8. Range [0, 1]. Convert image to uint8 prior to saving to suppress this warning.\n\nLossy conversion from float32 to uint8. Range [0, 1]. Convert image to uint8 prior to saving to suppress this warning.\n\nLossy conversion from float32 to uint8. Range [0, 1]. Convert image to uint8 prior to saving to suppress this warning.\n\nLossy conversion from float32 to uint8. Range [0, 1]. Convert image to uint8 prior to saving to suppress this warning.\n\nLossy conversion from float32 to uint8. Range [0, 1]. Convert image to uint8 prior to saving to suppress this warning.\n\nLossy conversion from float32 to uint8. Range [0, 1]. Convert image to uint8 prior to saving to suppress this warning.\n\nLossy conversion from float32 to uint8. Range [0, 1]. Convert image to uint8 prior to saving to suppress this warning.\n\nLossy conversion from float32 to uint8. Range [0, 1]. Convert image to uint8 prior to saving to suppress this warning.\n\nLossy conversion from float32 to uint8. Range [0, 1]. Convert image to uint8 prior to saving to suppress this warning.\n\nLossy conversion from float32 to uint8. Range [0, 1]. Convert image to uint8 prior to saving to suppress this warning.\n\nLossy conversion from float32 to uint8. Range [0, 1]. Convert image to uint8 prior to saving to suppress this warning.\n\nLossy conversion from float32 to uint8. Range [0, 1]. Convert image to uint8 prior to saving to suppress this warning.\n\nLossy conversion from float32 to uint8. Range [0, 1]. Convert image to uint8 prior to saving to suppress this warning.\n\nLossy conversion from float32 to uint8. Range [0, 1]. Convert image to uint8 prior to saving to suppress this warning.\n\nLossy conversion from float32 to uint8. Range [0, 1]. Convert image to uint8 prior to saving to suppress this warning.\n\nLossy conversion from float32 to uint8. Range [0, 1]. Convert image to uint8 prior to saving to suppress this warning.\n\nLossy conversion from float32 to uint8. Range [0, 1]. Convert image to uint8 prior to saving to suppress this warning.\n\nLossy conversion from float32 to uint8. Range [0, 1]. Convert image to uint8 prior to saving to suppress this warning.\n\nLossy conversion from float32 to uint8. Range [0, 1]. Convert image to uint8 prior to saving to suppress this warning.\n\nLossy conversion from float32 to uint8. Range [0, 1]. Convert image to uint8 prior to saving to suppress this warning.\n\nLossy conversion from float32 to uint8. Range [0, 1]. Convert image to uint8 prior to saving to suppress this warning.\n\nLossy conversion from float32 to uint8. Range [0, 1]. Convert image to uint8 prior to saving to suppress this warning.\n\nLossy conversion from float32 to uint8. Range [0, 1]. Convert image to uint8 prior to saving to suppress this warning.\n\nLossy conversion from float32 to uint8. Range [0, 1]. Convert image to uint8 prior to saving to suppress this warning.\n\nLossy conversion from float32 to uint8. Range [0, 1]. Convert image to uint8 prior to saving to suppress this warning.\n\nLossy conversion from float32 to uint8. Range [0, 1]. Convert image to uint8 prior to saving to suppress this warning.\n\nLossy conversion from float32 to uint8. Range [0, 1]. Convert image to uint8 prior to saving to suppress this warning.\n\nLossy conversion from float32 to uint8. Range [0, 1]. Convert image to uint8 prior to saving to suppress this warning.\n\nLossy conversion from float32 to uint8. Range [0, 1]. Convert image to uint8 prior to saving to suppress this warning.\n\nLossy conversion from float32 to uint8. Range [0, 1]. Convert image to uint8 prior to saving to suppress this warning.\n\nLossy conversion from float32 to uint8. Range [0, 1]. Convert image to uint8 prior to saving to suppress this warning.\n\nLossy conversion from float32 to uint8. Range [0, 1]. Convert image to uint8 prior to saving to suppress this warning.\n\nLossy conversion from float32 to uint8. Range [0, 1]. Convert image to uint8 prior to saving to suppress this warning.\n\nLossy conversion from float32 to uint8. Range [0, 1]. Convert image to uint8 prior to saving to suppress this warning.\n\nLossy conversion from float32 to uint8. Range [0, 1]. Convert image to uint8 prior to saving to suppress this warning.\n\nLossy conversion from float32 to uint8. Range [0, 1]. Convert image to uint8 prior to saving to suppress this warning.\n\nLossy conversion from float32 to uint8. Range [0, 1]. Convert image to uint8 prior to saving to suppress this warning.\n\nLossy conversion from float32 to uint8. Range [0, 1]. Convert image to uint8 prior to saving to suppress this warning.\n\nLossy conversion from float32 to uint8. Range [0, 1]. Convert image to uint8 prior to saving to suppress this warning.\n\nLossy conversion from float32 to uint8. Range [0, 1]. Convert image to uint8 prior to saving to suppress this warning.\n\nLossy conversion from float32 to uint8. Range [0, 1]. Convert image to uint8 prior to saving to suppress this warning.\n\nLossy conversion from float32 to uint8. Range [0, 1]. Convert image to uint8 prior to saving to suppress this warning.\n\nLossy conversion from float32 to uint8. Range [0, 1]. Convert image to uint8 prior to saving to suppress this warning.\n\nLossy conversion from float32 to uint8. Range [0, 1]. Convert image to uint8 prior to saving to suppress this warning.\n\nLossy conversion from float32 to uint8. Range [0, 1]. Convert image to uint8 prior to saving to suppress this warning.\n\nLossy conversion from float32 to uint8. Range [0, 1]. Convert image to uint8 prior to saving to suppress this warning.\n\nLossy conversion from float32 to uint8. Range [0, 1]. Convert image to uint8 prior to saving to suppress this warning.\n\nLossy conversion from float32 to uint8. Range [0, 1]. Convert image to uint8 prior to saving to suppress this warning.\n\nLossy conversion from float32 to uint8. Range [0, 1]. Convert image to uint8 prior to saving to suppress this warning.\n\nLossy conversion from float32 to uint8. Range [0, 1]. Convert image to uint8 prior to saving to suppress this warning.\n\nLossy conversion from float32 to uint8. Range [0, 1]. Convert image to uint8 prior to saving to suppress this warning.\n\nLossy conversion from float32 to uint8. Range [0, 1]. Convert image to uint8 prior to saving to suppress this warning.\n\nLossy conversion from float32 to uint8. Range [0, 1]. Convert image to uint8 prior to saving to suppress this warning.\n\nLossy conversion from float32 to uint8. Range [0, 1]. Convert image to uint8 prior to saving to suppress this warning.\n\nLossy conversion from float32 to uint8. Range [0, 1]. Convert image to uint8 prior to saving to suppress this warning.\n\nLossy conversion from float32 to uint8. Range [0, 1]. Convert image to uint8 prior to saving to suppress this warning.\n\nLossy conversion from float32 to uint8. Range [0, 1]. Convert image to uint8 prior to saving to suppress this warning.\nLossy conversion from float32 to uint8. Range [0, 1]. Convert image to uint8 prior to saving to suppress this warning.\n\nLossy conversion from float32 to uint8. Range [0, 1]. Convert image to uint8 prior to saving to suppress this warning.\n\nLossy conversion from float32 to uint8. Range [0, 1]. Convert image to uint8 prior to saving to suppress this warning.\n\nLossy conversion from float32 to uint8. Range [0, 1]. Convert image to uint8 prior to saving to suppress this warning.\n\nLossy conversion from float32 to uint8. Range [0, 1]. Convert image to uint8 prior to saving to suppress this warning.\n\nLossy conversion from float32 to uint8. Range [0, 1]. Convert image to uint8 prior to saving to suppress this warning.\n\nLossy conversion from float32 to uint8. Range [0, 1]. Convert image to uint8 prior to saving to suppress this warning.\n\nLossy conversion from float32 to uint8. Range [0, 1]. Convert image to uint8 prior to saving to suppress this warning.\n\nLossy conversion from float32 to uint8. Range [0, 1]. Convert image to uint8 prior to saving to suppress this warning.\n\nLossy conversion from float32 to uint8. Range [0, 1]. Convert image to uint8 prior to saving to suppress this warning.\n\nLossy conversion from float32 to uint8. Range [0, 1]. Convert image to uint8 prior to saving to suppress this warning.\n\nLossy conversion from float32 to uint8. Range [0, 1]. Convert image to uint8 prior to saving to suppress this warning.\n\nLossy conversion from float32 to uint8. Range [0, 1]. Convert image to uint8 prior to saving to suppress this warning.\n\nLossy conversion from float32 to uint8. Range [0, 1]. Convert image to uint8 prior to saving to suppress this warning.\n\nLossy conversion from float32 to uint8. Range [0, 1]. Convert image to uint8 prior to saving to suppress this warning.\n\nLossy conversion from float32 to uint8. Range [0, 1]. Convert image to uint8 prior to saving to suppress this warning.\n\nLossy conversion from float32 to uint8. Range [0, 1]. Convert image to uint8 prior to saving to suppress this warning.\n\nLossy conversion from float32 to uint8. Range [0, 1]. Convert image to uint8 prior to saving to suppress this warning.\n\nLossy conversion from float32 to uint8. Range [0, 1]. Convert image to uint8 prior to saving to suppress this warning.\n\nLossy conversion from float32 to uint8. Range [0, 1]. Convert image to uint8 prior to saving to suppress this warning.\n\nLossy conversion from float32 to uint8. Range [0, 1]. Convert image to uint8 prior to saving to suppress this warning.\n\nLossy conversion from float32 to uint8. Range [0, 1]. Convert image to uint8 prior to saving to suppress this warning.\n\nLossy conversion from float32 to uint8. Range [0, 1]. Convert image to uint8 prior to saving to suppress this warning.\n\nLossy conversion from float32 to uint8. Range [0, 1]. Convert image to uint8 prior to saving to suppress this warning.\n\nLossy conversion from float32 to uint8. Range [0, 1]. Convert image to uint8 prior to saving to suppress this warning.\n\nLossy conversion from float32 to uint8. Range [0, 1]. Convert image to uint8 prior to saving to suppress this warning.\n"
        },
        {
          "name": "stdout",
          "output_type": "stream",
          "text": "At i=900\n"
        },
        {
          "name": "stderr",
          "output_type": "stream",
          "text": "Lossy conversion from float32 to uint8. Range [0, 1]. Convert image to uint8 prior to saving to suppress this warning.\n\nLossy conversion from float32 to uint8. Range [0, 1]. Convert image to uint8 prior to saving to suppress this warning.\n\nLossy conversion from float32 to uint8. Range [0, 1]. Convert image to uint8 prior to saving to suppress this warning.\n\nLossy conversion from float32 to uint8. Range [0, 1]. Convert image to uint8 prior to saving to suppress this warning.\n\nLossy conversion from float32 to uint8. Range [0, 1]. Convert image to uint8 prior to saving to suppress this warning.\n\nLossy conversion from float32 to uint8. Range [0, 1]. Convert image to uint8 prior to saving to suppress this warning.\n\nLossy conversion from float32 to uint8. Range [0, 1]. Convert image to uint8 prior to saving to suppress this warning.\n\nLossy conversion from float32 to uint8. Range [0, 1]. Convert image to uint8 prior to saving to suppress this warning.\n\nLossy conversion from float32 to uint8. Range [0, 1]. Convert image to uint8 prior to saving to suppress this warning.\n\nLossy conversion from float32 to uint8. Range [0, 1]. Convert image to uint8 prior to saving to suppress this warning.\n\nLossy conversion from float32 to uint8. Range [0, 1]. Convert image to uint8 prior to saving to suppress this warning.\n\nLossy conversion from float32 to uint8. Range [0, 1]. Convert image to uint8 prior to saving to suppress this warning.\n\nLossy conversion from float32 to uint8. Range [0, 1]. Convert image to uint8 prior to saving to suppress this warning.\n\nLossy conversion from float32 to uint8. Range [0, 1]. Convert image to uint8 prior to saving to suppress this warning.\n\nLossy conversion from float32 to uint8. Range [0, 1]. Convert image to uint8 prior to saving to suppress this warning.\n\nLossy conversion from float32 to uint8. Range [0, 1]. Convert image to uint8 prior to saving to suppress this warning.\n\nLossy conversion from float32 to uint8. Range [0, 1]. Convert image to uint8 prior to saving to suppress this warning.\n\nLossy conversion from float32 to uint8. Range [0, 1]. Convert image to uint8 prior to saving to suppress this warning.\n\nLossy conversion from float32 to uint8. Range [0, 1]. Convert image to uint8 prior to saving to suppress this warning.\n\nLossy conversion from float32 to uint8. Range [0, 1]. Convert image to uint8 prior to saving to suppress this warning.\n\nLossy conversion from float32 to uint8. Range [0, 1]. Convert image to uint8 prior to saving to suppress this warning.\n\nLossy conversion from float32 to uint8. Range [0, 1]. Convert image to uint8 prior to saving to suppress this warning.\n\nLossy conversion from float32 to uint8. Range [0, 1]. Convert image to uint8 prior to saving to suppress this warning.\n\nLossy conversion from float32 to uint8. Range [0, 1]. Convert image to uint8 prior to saving to suppress this warning.\n\nLossy conversion from float32 to uint8. Range [0, 1]. Convert image to uint8 prior to saving to suppress this warning.\n\nLossy conversion from float32 to uint8. Range [0, 1]. Convert image to uint8 prior to saving to suppress this warning.\n\nLossy conversion from float32 to uint8. Range [0, 1]. Convert image to uint8 prior to saving to suppress this warning.\n\nLossy conversion from float32 to uint8. Range [0, 1]. Convert image to uint8 prior to saving to suppress this warning.\n\nLossy conversion from float32 to uint8. Range [0, 1]. Convert image to uint8 prior to saving to suppress this warning.\n\nLossy conversion from float32 to uint8. Range [0, 1]. Convert image to uint8 prior to saving to suppress this warning.\n\nLossy conversion from float32 to uint8. Range [0, 1]. Convert image to uint8 prior to saving to suppress this warning.\n\nLossy conversion from float32 to uint8. Range [0, 1]. Convert image to uint8 prior to saving to suppress this warning.\n\nLossy conversion from float32 to uint8. Range [0, 1]. Convert image to uint8 prior to saving to suppress this warning.\n\nLossy conversion from float32 to uint8. Range [0, 1]. Convert image to uint8 prior to saving to suppress this warning.\n\nLossy conversion from float32 to uint8. Range [0, 1]. Convert image to uint8 prior to saving to suppress this warning.\n\nLossy conversion from float32 to uint8. Range [0, 1]. Convert image to uint8 prior to saving to suppress this warning.\n\nLossy conversion from float32 to uint8. Range [0, 1]. Convert image to uint8 prior to saving to suppress this warning.\n\nLossy conversion from float32 to uint8. Range [0, 1]. Convert image to uint8 prior to saving to suppress this warning.\n\nLossy conversion from float32 to uint8. Range [0, 1]. Convert image to uint8 prior to saving to suppress this warning.\n\nLossy conversion from float32 to uint8. Range [0, 1]. Convert image to uint8 prior to saving to suppress this warning.\n\nLossy conversion from float32 to uint8. Range [0, 1]. Convert image to uint8 prior to saving to suppress this warning.\n\nLossy conversion from float32 to uint8. Range [0, 1]. Convert image to uint8 prior to saving to suppress this warning.\n\nLossy conversion from float32 to uint8. Range [0, 1]. Convert image to uint8 prior to saving to suppress this warning.\n\nLossy conversion from float32 to uint8. Range [0, 1]. Convert image to uint8 prior to saving to suppress this warning.\n\nLossy conversion from float32 to uint8. Range [0, 1]. Convert image to uint8 prior to saving to suppress this warning.\n\nLossy conversion from float32 to uint8. Range [0, 1]. Convert image to uint8 prior to saving to suppress this warning.\n\nLossy conversion from float32 to uint8. Range [0, 1]. Convert image to uint8 prior to saving to suppress this warning.\n\nLossy conversion from float32 to uint8. Range [0, 1]. Convert image to uint8 prior to saving to suppress this warning.\n\nLossy conversion from float32 to uint8. Range [0, 1]. Convert image to uint8 prior to saving to suppress this warning.\n\nLossy conversion from float32 to uint8. Range [0, 1]. Convert image to uint8 prior to saving to suppress this warning.\n\nLossy conversion from float32 to uint8. Range [0, 1]. Convert image to uint8 prior to saving to suppress this warning.\n\nLossy conversion from float32 to uint8. Range [0, 1]. Convert image to uint8 prior to saving to suppress this warning.\n\nLossy conversion from float32 to uint8. Range [0, 1]. Convert image to uint8 prior to saving to suppress this warning.\n\nLossy conversion from float32 to uint8. Range [0, 1]. Convert image to uint8 prior to saving to suppress this warning.\n\nLossy conversion from float32 to uint8. Range [0, 1]. Convert image to uint8 prior to saving to suppress this warning.\n\nLossy conversion from float32 to uint8. Range [0, 1]. Convert image to uint8 prior to saving to suppress this warning.\n\nLossy conversion from float32 to uint8. Range [0, 1]. Convert image to uint8 prior to saving to suppress this warning.\n\nLossy conversion from float32 to uint8. Range [0, 1]. Convert image to uint8 prior to saving to suppress this warning.\n\nLossy conversion from float32 to uint8. Range [0, 1]. Convert image to uint8 prior to saving to suppress this warning.\n\nLossy conversion from float32 to uint8. Range [0, 1]. Convert image to uint8 prior to saving to suppress this warning.\n\nLossy conversion from float32 to uint8. Range [0, 1]. Convert image to uint8 prior to saving to suppress this warning.\n\nLossy conversion from float32 to uint8. Range [0, 1]. Convert image to uint8 prior to saving to suppress this warning.\n\nLossy conversion from float32 to uint8. Range [0, 1]. Convert image to uint8 prior to saving to suppress this warning.\n\nLossy conversion from float32 to uint8. Range [0, 1]. Convert image to uint8 prior to saving to suppress this warning.\n\nLossy conversion from float32 to uint8. Range [0, 1]. Convert image to uint8 prior to saving to suppress this warning.\n\nLossy conversion from float32 to uint8. Range [0, 1]. Convert image to uint8 prior to saving to suppress this warning.\n\nLossy conversion from float32 to uint8. Range [0, 1]. Convert image to uint8 prior to saving to suppress this warning.\n\nLossy conversion from float32 to uint8. Range [0, 1]. Convert image to uint8 prior to saving to suppress this warning.\n\nLossy conversion from float32 to uint8. Range [0, 1]. Convert image to uint8 prior to saving to suppress this warning.\nLossy conversion from float32 to uint8. Range [0, 1]. Convert image to uint8 prior to saving to suppress this warning.\n\nLossy conversion from float32 to uint8. Range [0, 1]. Convert image to uint8 prior to saving to suppress this warning.\n\nLossy conversion from float32 to uint8. Range [0, 1]. Convert image to uint8 prior to saving to suppress this warning.\n\nLossy conversion from float32 to uint8. Range [0, 1]. Convert image to uint8 prior to saving to suppress this warning.\n\nLossy conversion from float32 to uint8. Range [0, 1]. Convert image to uint8 prior to saving to suppress this warning.\n\nLossy conversion from float32 to uint8. Range [0, 1]. Convert image to uint8 prior to saving to suppress this warning.\n\nLossy conversion from float32 to uint8. Range [0, 1]. Convert image to uint8 prior to saving to suppress this warning.\n\nLossy conversion from float32 to uint8. Range [0, 1]. Convert image to uint8 prior to saving to suppress this warning.\n\nLossy conversion from float32 to uint8. Range [0, 1]. Convert image to uint8 prior to saving to suppress this warning.\n\nLossy conversion from float32 to uint8. Range [0, 1]. Convert image to uint8 prior to saving to suppress this warning.\n\nLossy conversion from float32 to uint8. Range [0, 1]. Convert image to uint8 prior to saving to suppress this warning.\n\nLossy conversion from float32 to uint8. Range [0, 1]. Convert image to uint8 prior to saving to suppress this warning.\n\nLossy conversion from float32 to uint8. Range [0, 1]. Convert image to uint8 prior to saving to suppress this warning.\n\nLossy conversion from float32 to uint8. Range [0, 1]. Convert image to uint8 prior to saving to suppress this warning.\n\nLossy conversion from float32 to uint8. Range [0, 1]. Convert image to uint8 prior to saving to suppress this warning.\n\nLossy conversion from float32 to uint8. Range [0, 1]. Convert image to uint8 prior to saving to suppress this warning.\n\nLossy conversion from float32 to uint8. Range [0, 1]. Convert image to uint8 prior to saving to suppress this warning.\n\nLossy conversion from float32 to uint8. Range [0, 1]. Convert image to uint8 prior to saving to suppress this warning.\n\nLossy conversion from float32 to uint8. Range [0, 1]. Convert image to uint8 prior to saving to suppress this warning.\n\nLossy conversion from float32 to uint8. Range [0, 1]. Convert image to uint8 prior to saving to suppress this warning.\n\nLossy conversion from float32 to uint8. Range [0, 1]. Convert image to uint8 prior to saving to suppress this warning.\n\nLossy conversion from float32 to uint8. Range [0, 1]. Convert image to uint8 prior to saving to suppress this warning.\n\nLossy conversion from float32 to uint8. Range [0, 1]. Convert image to uint8 prior to saving to suppress this warning.\n\nLossy conversion from float32 to uint8. Range [0, 1]. Convert image to uint8 prior to saving to suppress this warning.\n\nLossy conversion from float32 to uint8. Range [0, 1]. Convert image to uint8 prior to saving to suppress this warning.\n\nLossy conversion from float32 to uint8. Range [0, 1]. Convert image to uint8 prior to saving to suppress this warning.\n\nLossy conversion from float32 to uint8. Range [0, 1]. Convert image to uint8 prior to saving to suppress this warning.\n\nLossy conversion from float32 to uint8. Range [0, 1]. Convert image to uint8 prior to saving to suppress this warning.\n\nLossy conversion from float32 to uint8. Range [0, 1]. Convert image to uint8 prior to saving to suppress this warning.\n"
        },
        {
          "name": "stdout",
          "output_type": "stream",
          "text": "At i=1000\n"
        },
        {
          "name": "stderr",
          "output_type": "stream",
          "text": "Lossy conversion from float32 to uint8. Range [0, 1]. Convert image to uint8 prior to saving to suppress this warning.\n\nLossy conversion from float32 to uint8. Range [0, 1]. Convert image to uint8 prior to saving to suppress this warning.\n\nLossy conversion from float32 to uint8. Range [0, 1]. Convert image to uint8 prior to saving to suppress this warning.\n\nLossy conversion from float32 to uint8. Range [0, 1]. Convert image to uint8 prior to saving to suppress this warning.\n\nLossy conversion from float32 to uint8. Range [0, 1]. Convert image to uint8 prior to saving to suppress this warning.\n\nLossy conversion from float32 to uint8. Range [0, 1]. Convert image to uint8 prior to saving to suppress this warning.\n\nLossy conversion from float32 to uint8. Range [0, 1]. Convert image to uint8 prior to saving to suppress this warning.\n\nLossy conversion from float32 to uint8. Range [0, 1]. Convert image to uint8 prior to saving to suppress this warning.\n\nLossy conversion from float32 to uint8. Range [0, 1]. Convert image to uint8 prior to saving to suppress this warning.\n\nLossy conversion from float32 to uint8. Range [0, 1]. Convert image to uint8 prior to saving to suppress this warning.\n\nLossy conversion from float32 to uint8. Range [0, 1]. Convert image to uint8 prior to saving to suppress this warning.\n\nLossy conversion from float32 to uint8. Range [0, 1]. Convert image to uint8 prior to saving to suppress this warning.\n\nLossy conversion from float32 to uint8. Range [0, 1]. Convert image to uint8 prior to saving to suppress this warning.\n\nLossy conversion from float32 to uint8. Range [0, 1]. Convert image to uint8 prior to saving to suppress this warning.\n\nLossy conversion from float32 to uint8. Range [0, 1]. Convert image to uint8 prior to saving to suppress this warning.\n\nLossy conversion from float32 to uint8. Range [0, 1]. Convert image to uint8 prior to saving to suppress this warning.\n\nLossy conversion from float32 to uint8. Range [0, 1]. Convert image to uint8 prior to saving to suppress this warning.\n\nLossy conversion from float32 to uint8. Range [0, 1]. Convert image to uint8 prior to saving to suppress this warning.\n\nLossy conversion from float32 to uint8. Range [0, 1]. Convert image to uint8 prior to saving to suppress this warning.\n\nLossy conversion from float32 to uint8. Range [0, 1]. Convert image to uint8 prior to saving to suppress this warning.\n\nLossy conversion from float32 to uint8. Range [0, 1]. Convert image to uint8 prior to saving to suppress this warning.\n\nLossy conversion from float32 to uint8. Range [0, 1]. Convert image to uint8 prior to saving to suppress this warning.\n\nLossy conversion from float32 to uint8. Range [0, 1]. Convert image to uint8 prior to saving to suppress this warning.\n\nLossy conversion from float32 to uint8. Range [0, 1]. Convert image to uint8 prior to saving to suppress this warning.\n\nLossy conversion from float32 to uint8. Range [0, 1]. Convert image to uint8 prior to saving to suppress this warning.\n\nLossy conversion from float32 to uint8. Range [0, 1]. Convert image to uint8 prior to saving to suppress this warning.\n\nLossy conversion from float32 to uint8. Range [0, 1]. Convert image to uint8 prior to saving to suppress this warning.\n\nLossy conversion from float32 to uint8. Range [0, 1]. Convert image to uint8 prior to saving to suppress this warning.\n\nLossy conversion from float32 to uint8. Range [0, 1]. Convert image to uint8 prior to saving to suppress this warning.\n\nLossy conversion from float32 to uint8. Range [0, 1]. Convert image to uint8 prior to saving to suppress this warning.\n\nLossy conversion from float32 to uint8. Range [0, 1]. Convert image to uint8 prior to saving to suppress this warning.\n\nLossy conversion from float32 to uint8. Range [0, 1]. Convert image to uint8 prior to saving to suppress this warning.\n\nLossy conversion from float32 to uint8. Range [0, 1]. Convert image to uint8 prior to saving to suppress this warning.\n\nLossy conversion from float32 to uint8. Range [0, 1]. Convert image to uint8 prior to saving to suppress this warning.\n\nLossy conversion from float32 to uint8. Range [0, 1]. Convert image to uint8 prior to saving to suppress this warning.\n\nLossy conversion from float32 to uint8. Range [0, 1]. Convert image to uint8 prior to saving to suppress this warning.\n\nLossy conversion from float32 to uint8. Range [0, 1]. Convert image to uint8 prior to saving to suppress this warning.\n\nLossy conversion from float32 to uint8. Range [0, 1]. Convert image to uint8 prior to saving to suppress this warning.\n\nLossy conversion from float32 to uint8. Range [0, 1]. Convert image to uint8 prior to saving to suppress this warning.\n\nLossy conversion from float32 to uint8. Range [0, 1]. Convert image to uint8 prior to saving to suppress this warning.\n\nLossy conversion from float32 to uint8. Range [0, 1]. Convert image to uint8 prior to saving to suppress this warning.\n\nLossy conversion from float32 to uint8. Range [0, 1]. Convert image to uint8 prior to saving to suppress this warning.\n\nLossy conversion from float32 to uint8. Range [0, 1]. Convert image to uint8 prior to saving to suppress this warning.\n\nLossy conversion from float32 to uint8. Range [0, 1]. Convert image to uint8 prior to saving to suppress this warning.\n\nLossy conversion from float32 to uint8. Range [0, 1]. Convert image to uint8 prior to saving to suppress this warning.\n\nLossy conversion from float32 to uint8. Range [0, 1]. Convert image to uint8 prior to saving to suppress this warning.\n\nLossy conversion from float32 to uint8. Range [0, 1]. Convert image to uint8 prior to saving to suppress this warning.\n\nLossy conversion from float32 to uint8. Range [0, 1]. Convert image to uint8 prior to saving to suppress this warning.\n\nLossy conversion from float32 to uint8. Range [0, 1]. Convert image to uint8 prior to saving to suppress this warning.\n\nLossy conversion from float32 to uint8. Range [0, 1]. Convert image to uint8 prior to saving to suppress this warning.\n\nLossy conversion from float32 to uint8. Range [0, 1]. Convert image to uint8 prior to saving to suppress this warning.\n\nLossy conversion from float32 to uint8. Range [0, 1]. Convert image to uint8 prior to saving to suppress this warning.\n\nLossy conversion from float32 to uint8. Range [0, 1]. Convert image to uint8 prior to saving to suppress this warning.\n\nLossy conversion from float32 to uint8. Range [0, 1]. Convert image to uint8 prior to saving to suppress this warning.\n\nLossy conversion from float32 to uint8. Range [0, 1]. Convert image to uint8 prior to saving to suppress this warning.\n\nLossy conversion from float32 to uint8. Range [0, 1]. Convert image to uint8 prior to saving to suppress this warning.\n\nLossy conversion from float32 to uint8. Range [0, 1]. Convert image to uint8 prior to saving to suppress this warning.\n\nLossy conversion from float32 to uint8. Range [0, 1]. Convert image to uint8 prior to saving to suppress this warning.\n\nLossy conversion from float32 to uint8. Range [0, 1]. Convert image to uint8 prior to saving to suppress this warning.\n\nLossy conversion from float32 to uint8. Range [0, 1]. Convert image to uint8 prior to saving to suppress this warning.\n\nLossy conversion from float32 to uint8. Range [0, 1]. Convert image to uint8 prior to saving to suppress this warning.\n\nLossy conversion from float32 to uint8. Range [0, 1]. Convert image to uint8 prior to saving to suppress this warning.\n\nLossy conversion from float32 to uint8. Range [0, 1]. Convert image to uint8 prior to saving to suppress this warning.\n\nLossy conversion from float32 to uint8. Range [0, 1]. Convert image to uint8 prior to saving to suppress this warning.\n\nLossy conversion from float32 to uint8. Range [0, 1]. Convert image to uint8 prior to saving to suppress this warning.\n\nLossy conversion from float32 to uint8. Range [0, 1]. Convert image to uint8 prior to saving to suppress this warning.\n\nLossy conversion from float32 to uint8. Range [0, 1]. Convert image to uint8 prior to saving to suppress this warning.\n\nLossy conversion from float32 to uint8. Range [0, 1]. Convert image to uint8 prior to saving to suppress this warning.\n\nLossy conversion from float32 to uint8. Range [0, 1]. Convert image to uint8 prior to saving to suppress this warning.\nLossy conversion from float32 to uint8. Range [0, 1]. Convert image to uint8 prior to saving to suppress this warning.\n\nLossy conversion from float32 to uint8. Range [0, 1]. Convert image to uint8 prior to saving to suppress this warning.\n\nLossy conversion from float32 to uint8. Range [0, 1]. Convert image to uint8 prior to saving to suppress this warning.\n\nLossy conversion from float32 to uint8. Range [0, 1]. Convert image to uint8 prior to saving to suppress this warning.\n\nLossy conversion from float32 to uint8. Range [0, 1]. Convert image to uint8 prior to saving to suppress this warning.\n\nLossy conversion from float32 to uint8. Range [0, 1]. Convert image to uint8 prior to saving to suppress this warning.\n\nLossy conversion from float32 to uint8. Range [0, 1]. Convert image to uint8 prior to saving to suppress this warning.\n\nLossy conversion from float32 to uint8. Range [0, 1]. Convert image to uint8 prior to saving to suppress this warning.\n\nLossy conversion from float32 to uint8. Range [0, 1]. Convert image to uint8 prior to saving to suppress this warning.\n\nLossy conversion from float32 to uint8. Range [0, 1]. Convert image to uint8 prior to saving to suppress this warning.\n\nLossy conversion from float32 to uint8. Range [0, 1]. Convert image to uint8 prior to saving to suppress this warning.\n\nLossy conversion from float32 to uint8. Range [0, 1]. Convert image to uint8 prior to saving to suppress this warning.\n\nLossy conversion from float32 to uint8. Range [0, 1]. Convert image to uint8 prior to saving to suppress this warning.\n\nLossy conversion from float32 to uint8. Range [0, 1]. Convert image to uint8 prior to saving to suppress this warning.\n\nLossy conversion from float32 to uint8. Range [0, 1]. Convert image to uint8 prior to saving to suppress this warning.\n\nLossy conversion from float32 to uint8. Range [0, 1]. Convert image to uint8 prior to saving to suppress this warning.\n\nLossy conversion from float32 to uint8. Range [0, 1]. Convert image to uint8 prior to saving to suppress this warning.\n\nLossy conversion from float32 to uint8. Range [0, 1]. Convert image to uint8 prior to saving to suppress this warning.\n\nLossy conversion from float32 to uint8. Range [0, 1]. Convert image to uint8 prior to saving to suppress this warning.\n\nLossy conversion from float32 to uint8. Range [0, 1]. Convert image to uint8 prior to saving to suppress this warning.\n\nLossy conversion from float32 to uint8. Range [0, 1]. Convert image to uint8 prior to saving to suppress this warning.\n\nLossy conversion from float32 to uint8. Range [0, 1]. Convert image to uint8 prior to saving to suppress this warning.\n\nLossy conversion from float32 to uint8. Range [0, 1]. Convert image to uint8 prior to saving to suppress this warning.\n\nLossy conversion from float32 to uint8. Range [0, 1]. Convert image to uint8 prior to saving to suppress this warning.\n"
        },
        {
          "name": "stdout",
          "output_type": "stream",
          "text": "At i=1100\n"
        },
        {
          "name": "stderr",
          "output_type": "stream",
          "text": "Lossy conversion from float32 to uint8. Range [0, 1]. Convert image to uint8 prior to saving to suppress this warning.\n\nLossy conversion from float32 to uint8. Range [0, 1]. Convert image to uint8 prior to saving to suppress this warning.\n\nLossy conversion from float32 to uint8. Range [0, 1]. Convert image to uint8 prior to saving to suppress this warning.\n\nLossy conversion from float32 to uint8. Range [0, 1]. Convert image to uint8 prior to saving to suppress this warning.\n\nLossy conversion from float32 to uint8. Range [0, 1]. Convert image to uint8 prior to saving to suppress this warning.\n\nLossy conversion from float32 to uint8. Range [0, 1]. Convert image to uint8 prior to saving to suppress this warning.\n\nLossy conversion from float32 to uint8. Range [0, 1]. Convert image to uint8 prior to saving to suppress this warning.\n\nLossy conversion from float32 to uint8. Range [0, 1]. Convert image to uint8 prior to saving to suppress this warning.\n\nLossy conversion from float32 to uint8. Range [0, 1]. Convert image to uint8 prior to saving to suppress this warning.\n\nLossy conversion from float32 to uint8. Range [0, 1]. Convert image to uint8 prior to saving to suppress this warning.\n\nLossy conversion from float32 to uint8. Range [0, 1]. Convert image to uint8 prior to saving to suppress this warning.\n\nLossy conversion from float32 to uint8. Range [0, 1]. Convert image to uint8 prior to saving to suppress this warning.\n\nLossy conversion from float32 to uint8. Range [0, 1]. Convert image to uint8 prior to saving to suppress this warning.\n\nLossy conversion from float32 to uint8. Range [0, 1]. Convert image to uint8 prior to saving to suppress this warning.\n\nLossy conversion from float32 to uint8. Range [0, 1]. Convert image to uint8 prior to saving to suppress this warning.\n\nLossy conversion from float32 to uint8. Range [0, 1]. Convert image to uint8 prior to saving to suppress this warning.\n\nLossy conversion from float32 to uint8. Range [0, 1]. Convert image to uint8 prior to saving to suppress this warning.\n\nLossy conversion from float32 to uint8. Range [0, 1]. Convert image to uint8 prior to saving to suppress this warning.\n\nLossy conversion from float32 to uint8. Range [0, 1]. Convert image to uint8 prior to saving to suppress this warning.\n\nLossy conversion from float32 to uint8. Range [0, 1]. Convert image to uint8 prior to saving to suppress this warning.\n\nLossy conversion from float32 to uint8. Range [0, 1]. Convert image to uint8 prior to saving to suppress this warning.\n\nLossy conversion from float32 to uint8. Range [0, 1]. Convert image to uint8 prior to saving to suppress this warning.\n\nLossy conversion from float32 to uint8. Range [0, 1]. Convert image to uint8 prior to saving to suppress this warning.\n\nLossy conversion from float32 to uint8. Range [0, 1]. Convert image to uint8 prior to saving to suppress this warning.\n\nLossy conversion from float32 to uint8. Range [0, 1]. Convert image to uint8 prior to saving to suppress this warning.\n\nLossy conversion from float32 to uint8. Range [0, 1]. Convert image to uint8 prior to saving to suppress this warning.\n\nLossy conversion from float32 to uint8. Range [0, 1]. Convert image to uint8 prior to saving to suppress this warning.\n\nLossy conversion from float32 to uint8. Range [0, 1]. Convert image to uint8 prior to saving to suppress this warning.\n\nLossy conversion from float32 to uint8. Range [0, 1]. Convert image to uint8 prior to saving to suppress this warning.\n\nLossy conversion from float32 to uint8. Range [0, 1]. Convert image to uint8 prior to saving to suppress this warning.\n\nLossy conversion from float32 to uint8. Range [0, 1]. Convert image to uint8 prior to saving to suppress this warning.\n\nLossy conversion from float32 to uint8. Range [0, 1]. Convert image to uint8 prior to saving to suppress this warning.\n\nLossy conversion from float32 to uint8. Range [0, 1]. Convert image to uint8 prior to saving to suppress this warning.\n\nLossy conversion from float32 to uint8. Range [0, 1]. Convert image to uint8 prior to saving to suppress this warning.\n\nLossy conversion from float32 to uint8. Range [0, 1]. Convert image to uint8 prior to saving to suppress this warning.\n\nLossy conversion from float32 to uint8. Range [0, 1]. Convert image to uint8 prior to saving to suppress this warning.\n\nLossy conversion from float32 to uint8. Range [0, 1]. Convert image to uint8 prior to saving to suppress this warning.\n\nLossy conversion from float32 to uint8. Range [0, 1]. Convert image to uint8 prior to saving to suppress this warning.\n\nLossy conversion from float32 to uint8. Range [0, 1]. Convert image to uint8 prior to saving to suppress this warning.\n\nLossy conversion from float32 to uint8. Range [0, 1]. Convert image to uint8 prior to saving to suppress this warning.\n\nLossy conversion from float32 to uint8. Range [0, 1]. Convert image to uint8 prior to saving to suppress this warning.\n\nLossy conversion from float32 to uint8. Range [0, 1]. Convert image to uint8 prior to saving to suppress this warning.\n\nLossy conversion from float32 to uint8. Range [0, 1]. Convert image to uint8 prior to saving to suppress this warning.\n\nLossy conversion from float32 to uint8. Range [0, 1]. Convert image to uint8 prior to saving to suppress this warning.\n\nLossy conversion from float32 to uint8. Range [0, 1]. Convert image to uint8 prior to saving to suppress this warning.\n\nLossy conversion from float32 to uint8. Range [0, 1]. Convert image to uint8 prior to saving to suppress this warning.\n\nLossy conversion from float32 to uint8. Range [0, 1]. Convert image to uint8 prior to saving to suppress this warning.\n\nLossy conversion from float32 to uint8. Range [0, 1]. Convert image to uint8 prior to saving to suppress this warning.\n\nLossy conversion from float32 to uint8. Range [0, 1]. Convert image to uint8 prior to saving to suppress this warning.\n\nLossy conversion from float32 to uint8. Range [0, 1]. Convert image to uint8 prior to saving to suppress this warning.\n\nLossy conversion from float32 to uint8. Range [0, 1]. Convert image to uint8 prior to saving to suppress this warning.\n\nLossy conversion from float32 to uint8. Range [0, 1]. Convert image to uint8 prior to saving to suppress this warning.\n\nLossy conversion from float32 to uint8. Range [0, 1]. Convert image to uint8 prior to saving to suppress this warning.\n\nLossy conversion from float32 to uint8. Range [0, 1]. Convert image to uint8 prior to saving to suppress this warning.\n\nLossy conversion from float32 to uint8. Range [0, 1]. Convert image to uint8 prior to saving to suppress this warning.\n\nLossy conversion from float32 to uint8. Range [0, 1]. Convert image to uint8 prior to saving to suppress this warning.\n\nLossy conversion from float32 to uint8. Range [0, 1]. Convert image to uint8 prior to saving to suppress this warning.\n\nLossy conversion from float32 to uint8. Range [0, 1]. Convert image to uint8 prior to saving to suppress this warning.\n\nLossy conversion from float32 to uint8. Range [0, 1]. Convert image to uint8 prior to saving to suppress this warning.\n\nLossy conversion from float32 to uint8. Range [0, 1]. Convert image to uint8 prior to saving to suppress this warning.\n\nLossy conversion from float32 to uint8. Range [0, 1]. Convert image to uint8 prior to saving to suppress this warning.\n\nLossy conversion from float32 to uint8. Range [0, 1]. Convert image to uint8 prior to saving to suppress this warning.\n\nLossy conversion from float32 to uint8. Range [0, 1]. Convert image to uint8 prior to saving to suppress this warning.\n\nLossy conversion from float32 to uint8. Range [0, 1]. Convert image to uint8 prior to saving to suppress this warning.\n\nLossy conversion from float32 to uint8. Range [0, 1]. Convert image to uint8 prior to saving to suppress this warning.\n\nLossy conversion from float32 to uint8. Range [0, 1]. Convert image to uint8 prior to saving to suppress this warning.\n\nLossy conversion from float32 to uint8. Range [0, 1]. Convert image to uint8 prior to saving to suppress this warning.\n\nLossy conversion from float32 to uint8. Range [0, 1]. Convert image to uint8 prior to saving to suppress this warning.\n\nLossy conversion from float32 to uint8. Range [0, 1]. Convert image to uint8 prior to saving to suppress this warning.\nLossy conversion from float32 to uint8. Range [0, 1]. Convert image to uint8 prior to saving to suppress this warning.\n\nLossy conversion from float32 to uint8. Range [0, 1]. Convert image to uint8 prior to saving to suppress this warning.\n\nLossy conversion from float32 to uint8. Range [0, 1]. Convert image to uint8 prior to saving to suppress this warning.\n\nLossy conversion from float32 to uint8. Range [0, 1]. Convert image to uint8 prior to saving to suppress this warning.\n\nLossy conversion from float32 to uint8. Range [0, 1]. Convert image to uint8 prior to saving to suppress this warning.\n\nLossy conversion from float32 to uint8. Range [0, 1]. Convert image to uint8 prior to saving to suppress this warning.\n\nLossy conversion from float32 to uint8. Range [0, 1]. Convert image to uint8 prior to saving to suppress this warning.\n\nLossy conversion from float32 to uint8. Range [0, 1]. Convert image to uint8 prior to saving to suppress this warning.\n\nLossy conversion from float32 to uint8. Range [0, 1]. Convert image to uint8 prior to saving to suppress this warning.\n\nLossy conversion from float32 to uint8. Range [0, 1]. Convert image to uint8 prior to saving to suppress this warning.\n\nLossy conversion from float32 to uint8. Range [0, 1]. Convert image to uint8 prior to saving to suppress this warning.\n\nLossy conversion from float32 to uint8. Range [0, 1]. Convert image to uint8 prior to saving to suppress this warning.\n\nLossy conversion from float32 to uint8. Range [0, 1]. Convert image to uint8 prior to saving to suppress this warning.\n\nLossy conversion from float32 to uint8. Range [0, 1]. Convert image to uint8 prior to saving to suppress this warning.\n\nLossy conversion from float32 to uint8. Range [0, 1]. Convert image to uint8 prior to saving to suppress this warning.\n\nLossy conversion from float32 to uint8. Range [0, 1]. Convert image to uint8 prior to saving to suppress this warning.\n\nLossy conversion from float32 to uint8. Range [0, 1]. Convert image to uint8 prior to saving to suppress this warning.\n\nLossy conversion from float32 to uint8. Range [0, 1]. Convert image to uint8 prior to saving to suppress this warning.\n\nLossy conversion from float32 to uint8. Range [0, 1]. Convert image to uint8 prior to saving to suppress this warning.\n\nLossy conversion from float32 to uint8. Range [0, 1]. Convert image to uint8 prior to saving to suppress this warning.\n\nLossy conversion from float32 to uint8. Range [0, 1]. Convert image to uint8 prior to saving to suppress this warning.\n\nLossy conversion from float32 to uint8. Range [0, 1]. Convert image to uint8 prior to saving to suppress this warning.\n\nLossy conversion from float32 to uint8. Range [0, 1]. Convert image to uint8 prior to saving to suppress this warning.\n\nLossy conversion from float32 to uint8. Range [0, 1]. Convert image to uint8 prior to saving to suppress this warning.\n\nLossy conversion from float32 to uint8. Range [0, 1]. Convert image to uint8 prior to saving to suppress this warning.\n\nLossy conversion from float32 to uint8. Range [0, 1]. Convert image to uint8 prior to saving to suppress this warning.\n\nLossy conversion from float32 to uint8. Range [0, 1]. Convert image to uint8 prior to saving to suppress this warning.\n\nLossy conversion from float32 to uint8. Range [0, 1]. Convert image to uint8 prior to saving to suppress this warning.\n\nLossy conversion from float32 to uint8. Range [0, 1]. Convert image to uint8 prior to saving to suppress this warning.\n\nLossy conversion from float32 to uint8. Range [0, 1]. Convert image to uint8 prior to saving to suppress this warning.\n\nLossy conversion from float32 to uint8. Range [0, 1]. Convert image to uint8 prior to saving to suppress this warning.\n\nLossy conversion from float32 to uint8. Range [0, 1]. Convert image to uint8 prior to saving to suppress this warning.\n\nLossy conversion from float32 to uint8. Range [0, 1]. Convert image to uint8 prior to saving to suppress this warning.\n\nLossy conversion from float32 to uint8. Range [0, 1]. Convert image to uint8 prior to saving to suppress this warning.\n"
        },
        {
          "name": "stdout",
          "output_type": "stream",
          "text": "At i=1200\n"
        },
        {
          "name": "stderr",
          "output_type": "stream",
          "text": "Lossy conversion from float32 to uint8. Range [0, 1]. Convert image to uint8 prior to saving to suppress this warning.\n\nLossy conversion from float32 to uint8. Range [0, 1]. Convert image to uint8 prior to saving to suppress this warning.\n\nLossy conversion from float32 to uint8. Range [0, 1]. Convert image to uint8 prior to saving to suppress this warning.\n\nLossy conversion from float32 to uint8. Range [0, 1]. Convert image to uint8 prior to saving to suppress this warning.\n\nLossy conversion from float32 to uint8. Range [0, 1]. Convert image to uint8 prior to saving to suppress this warning.\n\nLossy conversion from float32 to uint8. Range [0, 1]. Convert image to uint8 prior to saving to suppress this warning.\n\nLossy conversion from float32 to uint8. Range [0, 1]. Convert image to uint8 prior to saving to suppress this warning.\n\nLossy conversion from float32 to uint8. Range [0, 1]. Convert image to uint8 prior to saving to suppress this warning.\n\nLossy conversion from float32 to uint8. Range [0, 1]. Convert image to uint8 prior to saving to suppress this warning.\n\nLossy conversion from float32 to uint8. Range [0, 1]. Convert image to uint8 prior to saving to suppress this warning.\n\nLossy conversion from float32 to uint8. Range [0, 1]. Convert image to uint8 prior to saving to suppress this warning.\n\nLossy conversion from float32 to uint8. Range [0, 1]. Convert image to uint8 prior to saving to suppress this warning.\n\nLossy conversion from float32 to uint8. Range [0, 1]. Convert image to uint8 prior to saving to suppress this warning.\n\nLossy conversion from float32 to uint8. Range [0, 1]. Convert image to uint8 prior to saving to suppress this warning.\n\nLossy conversion from float32 to uint8. Range [0, 1]. Convert image to uint8 prior to saving to suppress this warning.\n\nLossy conversion from float32 to uint8. Range [0, 1]. Convert image to uint8 prior to saving to suppress this warning.\n\nLossy conversion from float32 to uint8. Range [0, 1]. Convert image to uint8 prior to saving to suppress this warning.\n\nLossy conversion from float32 to uint8. Range [0, 1]. Convert image to uint8 prior to saving to suppress this warning.\n\nLossy conversion from float32 to uint8. Range [0, 1]. Convert image to uint8 prior to saving to suppress this warning.\n\nLossy conversion from float32 to uint8. Range [0, 1]. Convert image to uint8 prior to saving to suppress this warning.\n\nLossy conversion from float32 to uint8. Range [0, 1]. Convert image to uint8 prior to saving to suppress this warning.\n\nLossy conversion from float32 to uint8. Range [0, 1]. Convert image to uint8 prior to saving to suppress this warning.\n\nLossy conversion from float32 to uint8. Range [0, 1]. Convert image to uint8 prior to saving to suppress this warning.\n\nLossy conversion from float32 to uint8. Range [0, 1]. Convert image to uint8 prior to saving to suppress this warning.\n\nLossy conversion from float32 to uint8. Range [0, 1]. Convert image to uint8 prior to saving to suppress this warning.\n\nLossy conversion from float32 to uint8. Range [0, 1]. Convert image to uint8 prior to saving to suppress this warning.\n\nLossy conversion from float32 to uint8. Range [0, 1]. Convert image to uint8 prior to saving to suppress this warning.\n\nLossy conversion from float32 to uint8. Range [0, 1]. Convert image to uint8 prior to saving to suppress this warning.\n\nLossy conversion from float32 to uint8. Range [0, 1]. Convert image to uint8 prior to saving to suppress this warning.\n\nLossy conversion from float32 to uint8. Range [0, 1]. Convert image to uint8 prior to saving to suppress this warning.\n\nLossy conversion from float32 to uint8. Range [0, 1]. Convert image to uint8 prior to saving to suppress this warning.\n\nLossy conversion from float32 to uint8. Range [0, 1]. Convert image to uint8 prior to saving to suppress this warning.\n\nLossy conversion from float32 to uint8. Range [0, 1]. Convert image to uint8 prior to saving to suppress this warning.\n\nLossy conversion from float32 to uint8. Range [0, 1]. Convert image to uint8 prior to saving to suppress this warning.\n\nLossy conversion from float32 to uint8. Range [0, 1]. Convert image to uint8 prior to saving to suppress this warning.\n\nLossy conversion from float32 to uint8. Range [0, 1]. Convert image to uint8 prior to saving to suppress this warning.\n\nLossy conversion from float32 to uint8. Range [0, 1]. Convert image to uint8 prior to saving to suppress this warning.\n\nLossy conversion from float32 to uint8. Range [0, 1]. Convert image to uint8 prior to saving to suppress this warning.\n\nLossy conversion from float32 to uint8. Range [0, 1]. Convert image to uint8 prior to saving to suppress this warning.\n\nLossy conversion from float32 to uint8. Range [0, 1]. Convert image to uint8 prior to saving to suppress this warning.\n\nLossy conversion from float32 to uint8. Range [0, 1]. Convert image to uint8 prior to saving to suppress this warning.\n\nLossy conversion from float32 to uint8. Range [0, 1]. Convert image to uint8 prior to saving to suppress this warning.\n\nLossy conversion from float32 to uint8. Range [0, 1]. Convert image to uint8 prior to saving to suppress this warning.\n\nLossy conversion from float32 to uint8. Range [0, 1]. Convert image to uint8 prior to saving to suppress this warning.\n\nLossy conversion from float32 to uint8. Range [0, 1]. Convert image to uint8 prior to saving to suppress this warning.\n\nLossy conversion from float32 to uint8. Range [0, 1]. Convert image to uint8 prior to saving to suppress this warning.\n\nLossy conversion from float32 to uint8. Range [0, 1]. Convert image to uint8 prior to saving to suppress this warning.\n\nLossy conversion from float32 to uint8. Range [0, 1]. Convert image to uint8 prior to saving to suppress this warning.\n\nLossy conversion from float32 to uint8. Range [0, 1]. Convert image to uint8 prior to saving to suppress this warning.\n\nLossy conversion from float32 to uint8. Range [0, 1]. Convert image to uint8 prior to saving to suppress this warning.\n\nLossy conversion from float32 to uint8. Range [0, 1]. Convert image to uint8 prior to saving to suppress this warning.\n\nLossy conversion from float32 to uint8. Range [0, 1]. Convert image to uint8 prior to saving to suppress this warning.\n\nLossy conversion from float32 to uint8. Range [0, 1]. Convert image to uint8 prior to saving to suppress this warning.\n\nLossy conversion from float32 to uint8. Range [0, 1]. Convert image to uint8 prior to saving to suppress this warning.\n\nLossy conversion from float32 to uint8. Range [0, 1]. Convert image to uint8 prior to saving to suppress this warning.\n\nLossy conversion from float32 to uint8. Range [0, 1]. Convert image to uint8 prior to saving to suppress this warning.\n\nLossy conversion from float32 to uint8. Range [0, 1]. Convert image to uint8 prior to saving to suppress this warning.\n\nLossy conversion from float32 to uint8. Range [0, 1]. Convert image to uint8 prior to saving to suppress this warning.\n\nLossy conversion from float32 to uint8. Range [0, 1]. Convert image to uint8 prior to saving to suppress this warning.\n\nLossy conversion from float32 to uint8. Range [0, 1]. Convert image to uint8 prior to saving to suppress this warning.\n\nLossy conversion from float32 to uint8. Range [0, 1]. Convert image to uint8 prior to saving to suppress this warning.\n\nLossy conversion from float32 to uint8. Range [0, 1]. Convert image to uint8 prior to saving to suppress this warning.\n\nLossy conversion from float32 to uint8. Range [0, 1]. Convert image to uint8 prior to saving to suppress this warning.\n\nLossy conversion from float32 to uint8. Range [0, 1]. Convert image to uint8 prior to saving to suppress this warning.\n\nLossy conversion from float32 to uint8. Range [0, 1]. Convert image to uint8 prior to saving to suppress this warning.\n\nLossy conversion from float32 to uint8. Range [0, 1]. Convert image to uint8 prior to saving to suppress this warning.\n\nLossy conversion from float32 to uint8. Range [0, 1]. Convert image to uint8 prior to saving to suppress this warning.\n\nLossy conversion from float32 to uint8. Range [0, 1]. Convert image to uint8 prior to saving to suppress this warning.\n\nLossy conversion from float32 to uint8. Range [0, 1]. Convert image to uint8 prior to saving to suppress this warning.\nLossy conversion from float32 to uint8. Range [0, 1]. Convert image to uint8 prior to saving to suppress this warning.\n\nLossy conversion from float32 to uint8. Range [0, 1]. Convert image to uint8 prior to saving to suppress this warning.\n\nLossy conversion from float32 to uint8. Range [0, 1]. Convert image to uint8 prior to saving to suppress this warning.\n\nLossy conversion from float32 to uint8. Range [0, 1]. Convert image to uint8 prior to saving to suppress this warning.\n\nLossy conversion from float32 to uint8. Range [0, 1]. Convert image to uint8 prior to saving to suppress this warning.\n\nLossy conversion from float32 to uint8. Range [0, 1]. Convert image to uint8 prior to saving to suppress this warning.\n\nLossy conversion from float32 to uint8. Range [0, 1]. Convert image to uint8 prior to saving to suppress this warning.\n\nLossy conversion from float32 to uint8. Range [0, 1]. Convert image to uint8 prior to saving to suppress this warning.\n\nLossy conversion from float32 to uint8. Range [0, 1]. Convert image to uint8 prior to saving to suppress this warning.\n\nLossy conversion from float32 to uint8. Range [0, 1]. Convert image to uint8 prior to saving to suppress this warning.\n\nLossy conversion from float32 to uint8. Range [0, 1]. Convert image to uint8 prior to saving to suppress this warning.\n\nLossy conversion from float32 to uint8. Range [0, 1]. Convert image to uint8 prior to saving to suppress this warning.\n\nLossy conversion from float32 to uint8. Range [0, 1]. Convert image to uint8 prior to saving to suppress this warning.\n\nLossy conversion from float32 to uint8. Range [0, 1]. Convert image to uint8 prior to saving to suppress this warning.\n\nLossy conversion from float32 to uint8. Range [0, 1]. Convert image to uint8 prior to saving to suppress this warning.\n\nLossy conversion from float32 to uint8. Range [0, 1]. Convert image to uint8 prior to saving to suppress this warning.\n\nLossy conversion from float32 to uint8. Range [0, 1]. Convert image to uint8 prior to saving to suppress this warning.\n\nLossy conversion from float32 to uint8. Range [0, 1]. Convert image to uint8 prior to saving to suppress this warning.\n\nLossy conversion from float32 to uint8. Range [0, 1]. Convert image to uint8 prior to saving to suppress this warning.\n\nLossy conversion from float32 to uint8. Range [0, 1]. Convert image to uint8 prior to saving to suppress this warning.\n\nLossy conversion from float32 to uint8. Range [0, 1]. Convert image to uint8 prior to saving to suppress this warning.\n\nLossy conversion from float32 to uint8. Range [0, 1]. Convert image to uint8 prior to saving to suppress this warning.\n\nLossy conversion from float32 to uint8. Range [0, 1]. Convert image to uint8 prior to saving to suppress this warning.\n\nLossy conversion from float32 to uint8. Range [0, 1]. Convert image to uint8 prior to saving to suppress this warning.\n\nLossy conversion from float32 to uint8. Range [0, 1]. Convert image to uint8 prior to saving to suppress this warning.\n\nLossy conversion from float32 to uint8. Range [0, 1]. Convert image to uint8 prior to saving to suppress this warning.\n\nLossy conversion from float32 to uint8. Range [0, 1]. Convert image to uint8 prior to saving to suppress this warning.\n\nLossy conversion from float32 to uint8. Range [0, 1]. Convert image to uint8 prior to saving to suppress this warning.\n\nLossy conversion from float32 to uint8. Range [0, 1]. Convert image to uint8 prior to saving to suppress this warning.\n\nLossy conversion from float32 to uint8. Range [0, 1]. Convert image to uint8 prior to saving to suppress this warning.\n\nLossy conversion from float32 to uint8. Range [0, 1]. Convert image to uint8 prior to saving to suppress this warning.\n\nLossy conversion from float32 to uint8. Range [0, 1]. Convert image to uint8 prior to saving to suppress this warning.\n\nLossy conversion from float32 to uint8. Range [0, 1]. Convert image to uint8 prior to saving to suppress this warning.\n\nLossy conversion from float32 to uint8. Range [0, 1]. Convert image to uint8 prior to saving to suppress this warning.\n\nLossy conversion from float32 to uint8. Range [0, 1]. Convert image to uint8 prior to saving to suppress this warning.\n\nLossy conversion from float32 to uint8. Range [0, 1]. Convert image to uint8 prior to saving to suppress this warning.\n\nLossy conversion from float32 to uint8. Range [0, 1]. Convert image to uint8 prior to saving to suppress this warning.\n\nLossy conversion from float32 to uint8. Range [0, 1]. Convert image to uint8 prior to saving to suppress this warning.\n\nLossy conversion from float32 to uint8. Range [0, 1]. Convert image to uint8 prior to saving to suppress this warning.\n\nLossy conversion from float32 to uint8. Range [0, 1]. Convert image to uint8 prior to saving to suppress this warning.\n\nLossy conversion from float32 to uint8. Range [0, 1]. Convert image to uint8 prior to saving to suppress this warning.\n\nLossy conversion from float32 to uint8. Range [0, 1]. Convert image to uint8 prior to saving to suppress this warning.\n"
        },
        {
          "name": "stdout",
          "output_type": "stream",
          "text": "At i=1300\n"
        },
        {
          "name": "stderr",
          "output_type": "stream",
          "text": "Lossy conversion from float32 to uint8. Range [0, 1]. Convert image to uint8 prior to saving to suppress this warning.\n\nLossy conversion from float32 to uint8. Range [0, 1]. Convert image to uint8 prior to saving to suppress this warning.\n\nLossy conversion from float32 to uint8. Range [0, 1]. Convert image to uint8 prior to saving to suppress this warning.\n\nLossy conversion from float32 to uint8. Range [0, 1]. Convert image to uint8 prior to saving to suppress this warning.\n\nLossy conversion from float32 to uint8. Range [0, 1]. Convert image to uint8 prior to saving to suppress this warning.\n\nLossy conversion from float32 to uint8. Range [0, 1]. Convert image to uint8 prior to saving to suppress this warning.\n\nLossy conversion from float32 to uint8. Range [0, 1]. Convert image to uint8 prior to saving to suppress this warning.\n\nLossy conversion from float32 to uint8. Range [0, 1]. Convert image to uint8 prior to saving to suppress this warning.\n\nLossy conversion from float32 to uint8. Range [0, 1]. Convert image to uint8 prior to saving to suppress this warning.\n\nLossy conversion from float32 to uint8. Range [0, 1]. Convert image to uint8 prior to saving to suppress this warning.\n\nLossy conversion from float32 to uint8. Range [0, 1]. Convert image to uint8 prior to saving to suppress this warning.\n\nLossy conversion from float32 to uint8. Range [0, 1]. Convert image to uint8 prior to saving to suppress this warning.\n\nLossy conversion from float32 to uint8. Range [0, 1]. Convert image to uint8 prior to saving to suppress this warning.\n\nLossy conversion from float32 to uint8. Range [0, 1]. Convert image to uint8 prior to saving to suppress this warning.\n\nLossy conversion from float32 to uint8. Range [0, 1]. Convert image to uint8 prior to saving to suppress this warning.\n\nLossy conversion from float32 to uint8. Range [0, 1]. Convert image to uint8 prior to saving to suppress this warning.\n\nLossy conversion from float32 to uint8. Range [0, 1]. Convert image to uint8 prior to saving to suppress this warning.\n\nLossy conversion from float32 to uint8. Range [0, 1]. Convert image to uint8 prior to saving to suppress this warning.\n\nLossy conversion from float32 to uint8. Range [0, 1]. Convert image to uint8 prior to saving to suppress this warning.\n\nLossy conversion from float32 to uint8. Range [0, 1]. Convert image to uint8 prior to saving to suppress this warning.\n\nLossy conversion from float32 to uint8. Range [0, 1]. Convert image to uint8 prior to saving to suppress this warning.\n\nLossy conversion from float32 to uint8. Range [0, 1]. Convert image to uint8 prior to saving to suppress this warning.\n\nLossy conversion from float32 to uint8. Range [0, 1]. Convert image to uint8 prior to saving to suppress this warning.\n\nLossy conversion from float32 to uint8. Range [0, 1]. Convert image to uint8 prior to saving to suppress this warning.\n\nLossy conversion from float32 to uint8. Range [0, 1]. Convert image to uint8 prior to saving to suppress this warning.\n\nLossy conversion from float32 to uint8. Range [0, 1]. Convert image to uint8 prior to saving to suppress this warning.\n\nLossy conversion from float32 to uint8. Range [0, 1]. Convert image to uint8 prior to saving to suppress this warning.\n\nLossy conversion from float32 to uint8. Range [0, 1]. Convert image to uint8 prior to saving to suppress this warning.\n\nLossy conversion from float32 to uint8. Range [0, 1]. Convert image to uint8 prior to saving to suppress this warning.\n\nLossy conversion from float32 to uint8. Range [0, 1]. Convert image to uint8 prior to saving to suppress this warning.\n\nLossy conversion from float32 to uint8. Range [0, 1]. Convert image to uint8 prior to saving to suppress this warning.\n\nLossy conversion from float32 to uint8. Range [0, 1]. Convert image to uint8 prior to saving to suppress this warning.\n\nLossy conversion from float32 to uint8. Range [0, 1]. Convert image to uint8 prior to saving to suppress this warning.\n\nLossy conversion from float32 to uint8. Range [0, 1]. Convert image to uint8 prior to saving to suppress this warning.\n\nLossy conversion from float32 to uint8. Range [0, 1]. Convert image to uint8 prior to saving to suppress this warning.\n\nLossy conversion from float32 to uint8. Range [0, 1]. Convert image to uint8 prior to saving to suppress this warning.\n\nLossy conversion from float32 to uint8. Range [0, 1]. Convert image to uint8 prior to saving to suppress this warning.\n\nLossy conversion from float32 to uint8. Range [0, 1]. Convert image to uint8 prior to saving to suppress this warning.\n\nLossy conversion from float32 to uint8. Range [0, 1]. Convert image to uint8 prior to saving to suppress this warning.\n\nLossy conversion from float32 to uint8. Range [0, 1]. Convert image to uint8 prior to saving to suppress this warning.\n\nLossy conversion from float32 to uint8. Range [0, 1]. Convert image to uint8 prior to saving to suppress this warning.\n\nLossy conversion from float32 to uint8. Range [0, 1]. Convert image to uint8 prior to saving to suppress this warning.\n\nLossy conversion from float32 to uint8. Range [0, 1]. Convert image to uint8 prior to saving to suppress this warning.\n\nLossy conversion from float32 to uint8. Range [0, 1]. Convert image to uint8 prior to saving to suppress this warning.\n\nLossy conversion from float32 to uint8. Range [0, 1]. Convert image to uint8 prior to saving to suppress this warning.\n\nLossy conversion from float32 to uint8. Range [0, 1]. Convert image to uint8 prior to saving to suppress this warning.\n\nLossy conversion from float32 to uint8. Range [0, 1]. Convert image to uint8 prior to saving to suppress this warning.\n\nLossy conversion from float32 to uint8. Range [0, 1]. Convert image to uint8 prior to saving to suppress this warning.\n\nLossy conversion from float32 to uint8. Range [0, 1]. Convert image to uint8 prior to saving to suppress this warning.\n\nLossy conversion from float32 to uint8. Range [0, 1]. Convert image to uint8 prior to saving to suppress this warning.\n\nLossy conversion from float32 to uint8. Range [0, 1]. Convert image to uint8 prior to saving to suppress this warning.\n\nLossy conversion from float32 to uint8. Range [0, 1]. Convert image to uint8 prior to saving to suppress this warning.\n\nLossy conversion from float32 to uint8. Range [0, 1]. Convert image to uint8 prior to saving to suppress this warning.\n\nLossy conversion from float32 to uint8. Range [0, 1]. Convert image to uint8 prior to saving to suppress this warning.\n\nLossy conversion from float32 to uint8. Range [0, 1]. Convert image to uint8 prior to saving to suppress this warning.\n\nLossy conversion from float32 to uint8. Range [0, 1]. Convert image to uint8 prior to saving to suppress this warning.\n\nLossy conversion from float32 to uint8. Range [0, 1]. Convert image to uint8 prior to saving to suppress this warning.\n\nLossy conversion from float32 to uint8. Range [0, 1]. Convert image to uint8 prior to saving to suppress this warning.\n\nLossy conversion from float32 to uint8. Range [0, 1]. Convert image to uint8 prior to saving to suppress this warning.\n\nLossy conversion from float32 to uint8. Range [0, 1]. Convert image to uint8 prior to saving to suppress this warning.\n\nLossy conversion from float32 to uint8. Range [0, 1]. Convert image to uint8 prior to saving to suppress this warning.\n\nLossy conversion from float32 to uint8. Range [0, 1]. Convert image to uint8 prior to saving to suppress this warning.\n\nLossy conversion from float32 to uint8. Range [0, 1]. Convert image to uint8 prior to saving to suppress this warning.\n\nLossy conversion from float32 to uint8. Range [0, 1]. Convert image to uint8 prior to saving to suppress this warning.\n\nLossy conversion from float32 to uint8. Range [0, 1]. Convert image to uint8 prior to saving to suppress this warning.\n\nLossy conversion from float32 to uint8. Range [0, 1]. Convert image to uint8 prior to saving to suppress this warning.\n\nLossy conversion from float32 to uint8. Range [0, 1]. Convert image to uint8 prior to saving to suppress this warning.\n\nLossy conversion from float32 to uint8. Range [0, 1]. Convert image to uint8 prior to saving to suppress this warning.\n\nLossy conversion from float32 to uint8. Range [0, 1]. Convert image to uint8 prior to saving to suppress this warning.\nLossy conversion from float32 to uint8. Range [0, 1]. Convert image to uint8 prior to saving to suppress this warning.\n\nLossy conversion from float32 to uint8. Range [0, 1]. Convert image to uint8 prior to saving to suppress this warning.\n\nLossy conversion from float32 to uint8. Range [0, 1]. Convert image to uint8 prior to saving to suppress this warning.\n\nLossy conversion from float32 to uint8. Range [0, 1]. Convert image to uint8 prior to saving to suppress this warning.\n\nLossy conversion from float32 to uint8. Range [0, 1]. Convert image to uint8 prior to saving to suppress this warning.\n\nLossy conversion from float32 to uint8. Range [0, 1]. Convert image to uint8 prior to saving to suppress this warning.\n\nLossy conversion from float32 to uint8. Range [0, 1]. Convert image to uint8 prior to saving to suppress this warning.\n\nLossy conversion from float32 to uint8. Range [0, 1]. Convert image to uint8 prior to saving to suppress this warning.\n\nLossy conversion from float32 to uint8. Range [0, 1]. Convert image to uint8 prior to saving to suppress this warning.\n\nLossy conversion from float32 to uint8. Range [0, 1]. Convert image to uint8 prior to saving to suppress this warning.\n\nLossy conversion from float32 to uint8. Range [0, 1]. Convert image to uint8 prior to saving to suppress this warning.\n\nLossy conversion from float32 to uint8. Range [0, 1]. Convert image to uint8 prior to saving to suppress this warning.\n\nLossy conversion from float32 to uint8. Range [0, 1]. Convert image to uint8 prior to saving to suppress this warning.\n\nLossy conversion from float32 to uint8. Range [0, 1]. Convert image to uint8 prior to saving to suppress this warning.\n\nLossy conversion from float32 to uint8. Range [0, 1]. Convert image to uint8 prior to saving to suppress this warning.\n\nLossy conversion from float32 to uint8. Range [0, 1]. Convert image to uint8 prior to saving to suppress this warning.\n\nLossy conversion from float32 to uint8. Range [0, 1]. Convert image to uint8 prior to saving to suppress this warning.\n\nLossy conversion from float32 to uint8. Range [0, 1]. Convert image to uint8 prior to saving to suppress this warning.\n"
        },
        {
          "name": "stdout",
          "output_type": "stream",
          "text": "At i=1400\n"
        },
        {
          "name": "stderr",
          "output_type": "stream",
          "text": "Lossy conversion from float32 to uint8. Range [0, 1]. Convert image to uint8 prior to saving to suppress this warning.\n\nLossy conversion from float32 to uint8. Range [0, 1]. Convert image to uint8 prior to saving to suppress this warning.\n\nLossy conversion from float32 to uint8. Range [0, 1]. Convert image to uint8 prior to saving to suppress this warning.\n\nLossy conversion from float32 to uint8. Range [0, 1]. Convert image to uint8 prior to saving to suppress this warning.\n\nLossy conversion from float32 to uint8. Range [0, 1]. Convert image to uint8 prior to saving to suppress this warning.\n\nLossy conversion from float32 to uint8. Range [0, 1]. Convert image to uint8 prior to saving to suppress this warning.\n\nLossy conversion from float32 to uint8. Range [0, 1]. Convert image to uint8 prior to saving to suppress this warning.\n\nLossy conversion from float32 to uint8. Range [0, 1]. Convert image to uint8 prior to saving to suppress this warning.\n\nLossy conversion from float32 to uint8. Range [0, 1]. Convert image to uint8 prior to saving to suppress this warning.\n\nLossy conversion from float32 to uint8. Range [0, 1]. Convert image to uint8 prior to saving to suppress this warning.\n\nLossy conversion from float32 to uint8. Range [0, 1]. Convert image to uint8 prior to saving to suppress this warning.\n\nLossy conversion from float32 to uint8. Range [0, 1]. Convert image to uint8 prior to saving to suppress this warning.\n\nLossy conversion from float32 to uint8. Range [0, 1]. Convert image to uint8 prior to saving to suppress this warning.\n\nLossy conversion from float32 to uint8. Range [0, 1]. Convert image to uint8 prior to saving to suppress this warning.\n\nLossy conversion from float32 to uint8. Range [0, 1]. Convert image to uint8 prior to saving to suppress this warning.\n\nLossy conversion from float32 to uint8. Range [0, 1]. Convert image to uint8 prior to saving to suppress this warning.\n\nLossy conversion from float32 to uint8. Range [0, 1]. Convert image to uint8 prior to saving to suppress this warning.\n\nLossy conversion from float32 to uint8. Range [0, 1]. Convert image to uint8 prior to saving to suppress this warning.\n\nLossy conversion from float32 to uint8. Range [0, 1]. Convert image to uint8 prior to saving to suppress this warning.\n\nLossy conversion from float32 to uint8. Range [0, 1]. Convert image to uint8 prior to saving to suppress this warning.\n\nLossy conversion from float32 to uint8. Range [0, 1]. Convert image to uint8 prior to saving to suppress this warning.\n\nLossy conversion from float32 to uint8. Range [0, 1]. Convert image to uint8 prior to saving to suppress this warning.\n\nLossy conversion from float32 to uint8. Range [0, 1]. Convert image to uint8 prior to saving to suppress this warning.\n\nLossy conversion from float32 to uint8. Range [0, 1]. Convert image to uint8 prior to saving to suppress this warning.\n\nLossy conversion from float32 to uint8. Range [0, 1]. Convert image to uint8 prior to saving to suppress this warning.\n\nLossy conversion from float32 to uint8. Range [0, 1]. Convert image to uint8 prior to saving to suppress this warning.\n\nLossy conversion from float32 to uint8. Range [0, 1]. Convert image to uint8 prior to saving to suppress this warning.\n\nLossy conversion from float32 to uint8. Range [0, 1]. Convert image to uint8 prior to saving to suppress this warning.\n\nLossy conversion from float32 to uint8. Range [0, 1]. Convert image to uint8 prior to saving to suppress this warning.\n\nLossy conversion from float32 to uint8. Range [0, 1]. Convert image to uint8 prior to saving to suppress this warning.\n\nLossy conversion from float32 to uint8. Range [0, 1]. Convert image to uint8 prior to saving to suppress this warning.\n\nLossy conversion from float32 to uint8. Range [0, 1]. Convert image to uint8 prior to saving to suppress this warning.\n\nLossy conversion from float32 to uint8. Range [0, 1]. Convert image to uint8 prior to saving to suppress this warning.\n\nLossy conversion from float32 to uint8. Range [0, 1]. Convert image to uint8 prior to saving to suppress this warning.\n\nLossy conversion from float32 to uint8. Range [0, 1]. Convert image to uint8 prior to saving to suppress this warning.\n\nLossy conversion from float32 to uint8. Range [0, 1]. Convert image to uint8 prior to saving to suppress this warning.\n\nLossy conversion from float32 to uint8. Range [0, 1]. Convert image to uint8 prior to saving to suppress this warning.\n\nLossy conversion from float32 to uint8. Range [0, 1]. Convert image to uint8 prior to saving to suppress this warning.\n\nLossy conversion from float32 to uint8. Range [0, 1]. Convert image to uint8 prior to saving to suppress this warning.\n\nLossy conversion from float32 to uint8. Range [0, 1]. Convert image to uint8 prior to saving to suppress this warning.\n\nLossy conversion from float32 to uint8. Range [0, 1]. Convert image to uint8 prior to saving to suppress this warning.\n\nLossy conversion from float32 to uint8. Range [0, 1]. Convert image to uint8 prior to saving to suppress this warning.\n\nLossy conversion from float32 to uint8. Range [0, 1]. Convert image to uint8 prior to saving to suppress this warning.\n\nLossy conversion from float32 to uint8. Range [0, 1]. Convert image to uint8 prior to saving to suppress this warning.\n\nLossy conversion from float32 to uint8. Range [0, 1]. Convert image to uint8 prior to saving to suppress this warning.\n\nLossy conversion from float32 to uint8. Range [0, 1]. Convert image to uint8 prior to saving to suppress this warning.\n\nLossy conversion from float32 to uint8. Range [0, 1]. Convert image to uint8 prior to saving to suppress this warning.\n\nLossy conversion from float32 to uint8. Range [0, 1]. Convert image to uint8 prior to saving to suppress this warning.\n\nLossy conversion from float32 to uint8. Range [0, 1]. Convert image to uint8 prior to saving to suppress this warning.\n\nLossy conversion from float32 to uint8. Range [0, 1]. Convert image to uint8 prior to saving to suppress this warning.\n\nLossy conversion from float32 to uint8. Range [0, 1]. Convert image to uint8 prior to saving to suppress this warning.\n\nLossy conversion from float32 to uint8. Range [0, 1]. Convert image to uint8 prior to saving to suppress this warning.\n\nLossy conversion from float32 to uint8. Range [0, 1]. Convert image to uint8 prior to saving to suppress this warning.\n\nLossy conversion from float32 to uint8. Range [0, 1]. Convert image to uint8 prior to saving to suppress this warning.\n\nLossy conversion from float32 to uint8. Range [0, 1]. Convert image to uint8 prior to saving to suppress this warning.\n\nLossy conversion from float32 to uint8. Range [0, 1]. Convert image to uint8 prior to saving to suppress this warning.\n\nLossy conversion from float32 to uint8. Range [0, 1]. Convert image to uint8 prior to saving to suppress this warning.\n\nLossy conversion from float32 to uint8. Range [0, 1]. Convert image to uint8 prior to saving to suppress this warning.\n\nLossy conversion from float32 to uint8. Range [0, 1]. Convert image to uint8 prior to saving to suppress this warning.\n\nLossy conversion from float32 to uint8. Range [0, 1]. Convert image to uint8 prior to saving to suppress this warning.\n\nLossy conversion from float32 to uint8. Range [0, 1]. Convert image to uint8 prior to saving to suppress this warning.\n\nLossy conversion from float32 to uint8. Range [0, 1]. Convert image to uint8 prior to saving to suppress this warning.\n\nLossy conversion from float32 to uint8. Range [0, 1]. Convert image to uint8 prior to saving to suppress this warning.\n\nLossy conversion from float32 to uint8. Range [0, 1]. Convert image to uint8 prior to saving to suppress this warning.\n\nLossy conversion from float32 to uint8. Range [0, 1]. Convert image to uint8 prior to saving to suppress this warning.\n\nLossy conversion from float32 to uint8. Range [0, 1]. Convert image to uint8 prior to saving to suppress this warning.\n\nLossy conversion from float32 to uint8. Range [0, 1]. Convert image to uint8 prior to saving to suppress this warning.\n\nLossy conversion from float32 to uint8. Range [0, 1]. Convert image to uint8 prior to saving to suppress this warning.\n\nLossy conversion from float32 to uint8. Range [0, 1]. Convert image to uint8 prior to saving to suppress this warning.\nLossy conversion from float32 to uint8. Range [0, 1]. Convert image to uint8 prior to saving to suppress this warning.\n\nLossy conversion from float32 to uint8. Range [0, 1]. Convert image to uint8 prior to saving to suppress this warning.\n\nLossy conversion from float32 to uint8. Range [0, 1]. Convert image to uint8 prior to saving to suppress this warning.\n\nLossy conversion from float32 to uint8. Range [0, 1]. Convert image to uint8 prior to saving to suppress this warning.\n\nLossy conversion from float32 to uint8. Range [0, 1]. Convert image to uint8 prior to saving to suppress this warning.\n\nLossy conversion from float32 to uint8. Range [0, 1]. Convert image to uint8 prior to saving to suppress this warning.\n\nLossy conversion from float32 to uint8. Range [0, 1]. Convert image to uint8 prior to saving to suppress this warning.\n\nLossy conversion from float32 to uint8. Range [0, 1]. Convert image to uint8 prior to saving to suppress this warning.\n\nLossy conversion from float32 to uint8. Range [0, 1]. Convert image to uint8 prior to saving to suppress this warning.\n\nLossy conversion from float32 to uint8. Range [0, 1]. Convert image to uint8 prior to saving to suppress this warning.\n\nLossy conversion from float32 to uint8. Range [0, 1]. Convert image to uint8 prior to saving to suppress this warning.\n\nLossy conversion from float32 to uint8. Range [0, 1]. Convert image to uint8 prior to saving to suppress this warning.\n\nLossy conversion from float32 to uint8. Range [0, 1]. Convert image to uint8 prior to saving to suppress this warning.\n\nLossy conversion from float32 to uint8. Range [0, 1]. Convert image to uint8 prior to saving to suppress this warning.\n\nLossy conversion from float32 to uint8. Range [0, 1]. Convert image to uint8 prior to saving to suppress this warning.\n\nLossy conversion from float32 to uint8. Range [0, 1]. Convert image to uint8 prior to saving to suppress this warning.\n\nLossy conversion from float32 to uint8. Range [0, 1]. Convert image to uint8 prior to saving to suppress this warning.\n\nLossy conversion from float32 to uint8. Range [0, 1]. Convert image to uint8 prior to saving to suppress this warning.\n\nLossy conversion from float32 to uint8. Range [0, 1]. Convert image to uint8 prior to saving to suppress this warning.\n\nLossy conversion from float32 to uint8. Range [0, 1]. Convert image to uint8 prior to saving to suppress this warning.\n\nLossy conversion from float32 to uint8. Range [0, 1]. Convert image to uint8 prior to saving to suppress this warning.\n\nLossy conversion from float32 to uint8. Range [0, 1]. Convert image to uint8 prior to saving to suppress this warning.\n\nLossy conversion from float32 to uint8. Range [0, 1]. Convert image to uint8 prior to saving to suppress this warning.\n\nLossy conversion from float32 to uint8. Range [0, 1]. Convert image to uint8 prior to saving to suppress this warning.\n\nLossy conversion from float32 to uint8. Range [0, 1]. Convert image to uint8 prior to saving to suppress this warning.\n\nLossy conversion from float32 to uint8. Range [0, 1]. Convert image to uint8 prior to saving to suppress this warning.\n\nLossy conversion from float32 to uint8. Range [0, 1]. Convert image to uint8 prior to saving to suppress this warning.\n\nLossy conversion from float32 to uint8. Range [0, 1]. Convert image to uint8 prior to saving to suppress this warning.\n\nLossy conversion from float32 to uint8. Range [0, 1]. Convert image to uint8 prior to saving to suppress this warning.\n\nLossy conversion from float32 to uint8. Range [0, 1]. Convert image to uint8 prior to saving to suppress this warning.\n\nLossy conversion from float32 to uint8. Range [0, 1]. Convert image to uint8 prior to saving to suppress this warning.\n\nLossy conversion from float32 to uint8. Range [0, 1]. Convert image to uint8 prior to saving to suppress this warning.\n\nLossy conversion from float32 to uint8. Range [0, 1]. Convert image to uint8 prior to saving to suppress this warning.\n\nLossy conversion from float32 to uint8. Range [0, 1]. Convert image to uint8 prior to saving to suppress this warning.\n\nLossy conversion from float32 to uint8. Range [0, 1]. Convert image to uint8 prior to saving to suppress this warning.\n\nLossy conversion from float32 to uint8. Range [0, 1]. Convert image to uint8 prior to saving to suppress this warning.\n\nLossy conversion from float32 to uint8. Range [0, 1]. Convert image to uint8 prior to saving to suppress this warning.\n\nLossy conversion from float32 to uint8. Range [0, 1]. Convert image to uint8 prior to saving to suppress this warning.\n\nLossy conversion from float32 to uint8. Range [0, 1]. Convert image to uint8 prior to saving to suppress this warning.\n\nLossy conversion from float32 to uint8. Range [0, 1]. Convert image to uint8 prior to saving to suppress this warning.\n\nLossy conversion from float32 to uint8. Range [0, 1]. Convert image to uint8 prior to saving to suppress this warning.\n\nLossy conversion from float32 to uint8. Range [0, 1]. Convert image to uint8 prior to saving to suppress this warning.\n\nLossy conversion from float32 to uint8. Range [0, 1]. Convert image to uint8 prior to saving to suppress this warning.\n\nLossy conversion from float32 to uint8. Range [0, 1]. Convert image to uint8 prior to saving to suppress this warning.\n\nLossy conversion from float32 to uint8. Range [0, 1]. Convert image to uint8 prior to saving to suppress this warning.\n\nLossy conversion from float32 to uint8. Range [0, 1]. Convert image to uint8 prior to saving to suppress this warning.\n"
        },
        {
          "name": "stdout",
          "output_type": "stream",
          "text": "At i=1500\n"
        },
        {
          "name": "stderr",
          "output_type": "stream",
          "text": "Lossy conversion from float32 to uint8. Range [0, 1]. Convert image to uint8 prior to saving to suppress this warning.\n\nLossy conversion from float32 to uint8. Range [0, 1]. Convert image to uint8 prior to saving to suppress this warning.\n\nLossy conversion from float32 to uint8. Range [0, 1]. Convert image to uint8 prior to saving to suppress this warning.\n\nLossy conversion from float32 to uint8. Range [0, 1]. Convert image to uint8 prior to saving to suppress this warning.\n\nLossy conversion from float32 to uint8. Range [0, 1]. Convert image to uint8 prior to saving to suppress this warning.\n\nLossy conversion from float32 to uint8. Range [0, 1]. Convert image to uint8 prior to saving to suppress this warning.\n\nLossy conversion from float32 to uint8. Range [0, 1]. Convert image to uint8 prior to saving to suppress this warning.\n\nLossy conversion from float32 to uint8. Range [0, 1]. Convert image to uint8 prior to saving to suppress this warning.\n\nLossy conversion from float32 to uint8. Range [0, 1]. Convert image to uint8 prior to saving to suppress this warning.\n\nLossy conversion from float32 to uint8. Range [0, 1]. Convert image to uint8 prior to saving to suppress this warning.\n\nLossy conversion from float32 to uint8. Range [0, 1]. Convert image to uint8 prior to saving to suppress this warning.\n\nLossy conversion from float32 to uint8. Range [0, 1]. Convert image to uint8 prior to saving to suppress this warning.\n\nLossy conversion from float32 to uint8. Range [0, 1]. Convert image to uint8 prior to saving to suppress this warning.\n\nLossy conversion from float32 to uint8. Range [0, 1]. Convert image to uint8 prior to saving to suppress this warning.\n\nLossy conversion from float32 to uint8. Range [0, 1]. Convert image to uint8 prior to saving to suppress this warning.\n\nLossy conversion from float32 to uint8. Range [0, 1]. Convert image to uint8 prior to saving to suppress this warning.\n\nLossy conversion from float32 to uint8. Range [0, 1]. Convert image to uint8 prior to saving to suppress this warning.\n\nLossy conversion from float32 to uint8. Range [0, 1]. Convert image to uint8 prior to saving to suppress this warning.\n\nLossy conversion from float32 to uint8. Range [0, 1]. Convert image to uint8 prior to saving to suppress this warning.\n\nLossy conversion from float32 to uint8. Range [0, 1]. Convert image to uint8 prior to saving to suppress this warning.\n\nLossy conversion from float32 to uint8. Range [0, 1]. Convert image to uint8 prior to saving to suppress this warning.\n\nLossy conversion from float32 to uint8. Range [0, 1]. Convert image to uint8 prior to saving to suppress this warning.\n\nLossy conversion from float32 to uint8. Range [0, 1]. Convert image to uint8 prior to saving to suppress this warning.\n\nLossy conversion from float32 to uint8. Range [0, 1]. Convert image to uint8 prior to saving to suppress this warning.\n\nLossy conversion from float32 to uint8. Range [0, 1]. Convert image to uint8 prior to saving to suppress this warning.\n\nLossy conversion from float32 to uint8. Range [0, 1]. Convert image to uint8 prior to saving to suppress this warning.\n\nLossy conversion from float32 to uint8. Range [0, 1]. Convert image to uint8 prior to saving to suppress this warning.\n\nLossy conversion from float32 to uint8. Range [0, 1]. Convert image to uint8 prior to saving to suppress this warning.\n\nLossy conversion from float32 to uint8. Range [0, 1]. Convert image to uint8 prior to saving to suppress this warning.\n\nLossy conversion from float32 to uint8. Range [0, 1]. Convert image to uint8 prior to saving to suppress this warning.\n\nLossy conversion from float32 to uint8. Range [0, 1]. Convert image to uint8 prior to saving to suppress this warning.\n\nLossy conversion from float32 to uint8. Range [0, 1]. Convert image to uint8 prior to saving to suppress this warning.\n\nLossy conversion from float32 to uint8. Range [0, 1]. Convert image to uint8 prior to saving to suppress this warning.\n\nLossy conversion from float32 to uint8. Range [0, 1]. Convert image to uint8 prior to saving to suppress this warning.\n\nLossy conversion from float32 to uint8. Range [0, 1]. Convert image to uint8 prior to saving to suppress this warning.\n\nLossy conversion from float32 to uint8. Range [0, 1]. Convert image to uint8 prior to saving to suppress this warning.\n\nLossy conversion from float32 to uint8. Range [0, 1]. Convert image to uint8 prior to saving to suppress this warning.\n\nLossy conversion from float32 to uint8. Range [0, 1]. Convert image to uint8 prior to saving to suppress this warning.\n\nLossy conversion from float32 to uint8. Range [0, 1]. Convert image to uint8 prior to saving to suppress this warning.\n\nLossy conversion from float32 to uint8. Range [0, 1]. Convert image to uint8 prior to saving to suppress this warning.\n\nLossy conversion from float32 to uint8. Range [0, 1]. Convert image to uint8 prior to saving to suppress this warning.\n\nLossy conversion from float32 to uint8. Range [0, 1]. Convert image to uint8 prior to saving to suppress this warning.\n\nLossy conversion from float32 to uint8. Range [0, 1]. Convert image to uint8 prior to saving to suppress this warning.\n\nLossy conversion from float32 to uint8. Range [0, 1]. Convert image to uint8 prior to saving to suppress this warning.\n\nLossy conversion from float32 to uint8. Range [0, 1]. Convert image to uint8 prior to saving to suppress this warning.\n\nLossy conversion from float32 to uint8. Range [0, 1]. Convert image to uint8 prior to saving to suppress this warning.\n\nLossy conversion from float32 to uint8. Range [0, 1]. Convert image to uint8 prior to saving to suppress this warning.\n\nLossy conversion from float32 to uint8. Range [0, 1]. Convert image to uint8 prior to saving to suppress this warning.\n\nLossy conversion from float32 to uint8. Range [0, 1]. Convert image to uint8 prior to saving to suppress this warning.\n\nLossy conversion from float32 to uint8. Range [0, 1]. Convert image to uint8 prior to saving to suppress this warning.\n\nLossy conversion from float32 to uint8. Range [0, 1]. Convert image to uint8 prior to saving to suppress this warning.\n\nLossy conversion from float32 to uint8. Range [0, 1]. Convert image to uint8 prior to saving to suppress this warning.\n\nLossy conversion from float32 to uint8. Range [0, 1]. Convert image to uint8 prior to saving to suppress this warning.\n\nLossy conversion from float32 to uint8. Range [0, 1]. Convert image to uint8 prior to saving to suppress this warning.\n\nLossy conversion from float32 to uint8. Range [0, 1]. Convert image to uint8 prior to saving to suppress this warning.\n\nLossy conversion from float32 to uint8. Range [0, 1]. Convert image to uint8 prior to saving to suppress this warning.\n\nLossy conversion from float32 to uint8. Range [0, 1]. Convert image to uint8 prior to saving to suppress this warning.\n\nLossy conversion from float32 to uint8. Range [0, 1]. Convert image to uint8 prior to saving to suppress this warning.\n\nLossy conversion from float32 to uint8. Range [0, 1]. Convert image to uint8 prior to saving to suppress this warning.\n\nLossy conversion from float32 to uint8. Range [0, 1]. Convert image to uint8 prior to saving to suppress this warning.\n\nLossy conversion from float32 to uint8. Range [0, 1]. Convert image to uint8 prior to saving to suppress this warning.\n\nLossy conversion from float32 to uint8. Range [0, 1]. Convert image to uint8 prior to saving to suppress this warning.\n\nLossy conversion from float32 to uint8. Range [0, 1]. Convert image to uint8 prior to saving to suppress this warning.\n\nLossy conversion from float32 to uint8. Range [0, 1]. Convert image to uint8 prior to saving to suppress this warning.\n\nLossy conversion from float32 to uint8. Range [0, 1]. Convert image to uint8 prior to saving to suppress this warning.\n\nLossy conversion from float32 to uint8. Range [0, 1]. Convert image to uint8 prior to saving to suppress this warning.\n\nLossy conversion from float32 to uint8. Range [0, 1]. Convert image to uint8 prior to saving to suppress this warning.\n\nLossy conversion from float32 to uint8. Range [0, 1]. Convert image to uint8 prior to saving to suppress this warning.\n\nLossy conversion from float32 to uint8. Range [0, 1]. Convert image to uint8 prior to saving to suppress this warning.\nLossy conversion from float32 to uint8. Range [0, 1]. Convert image to uint8 prior to saving to suppress this warning.\n\nLossy conversion from float32 to uint8. Range [0, 1]. Convert image to uint8 prior to saving to suppress this warning.\n\nLossy conversion from float32 to uint8. Range [0, 1]. Convert image to uint8 prior to saving to suppress this warning.\n\nLossy conversion from float32 to uint8. Range [0, 1]. Convert image to uint8 prior to saving to suppress this warning.\n\nLossy conversion from float32 to uint8. Range [0, 1]. Convert image to uint8 prior to saving to suppress this warning.\n\nLossy conversion from float32 to uint8. Range [0, 1]. Convert image to uint8 prior to saving to suppress this warning.\n\nLossy conversion from float32 to uint8. Range [0, 1]. Convert image to uint8 prior to saving to suppress this warning.\n\nLossy conversion from float32 to uint8. Range [0, 1]. Convert image to uint8 prior to saving to suppress this warning.\n\nLossy conversion from float32 to uint8. Range [0, 1]. Convert image to uint8 prior to saving to suppress this warning.\n\nLossy conversion from float32 to uint8. Range [0, 1]. Convert image to uint8 prior to saving to suppress this warning.\n\nLossy conversion from float32 to uint8. Range [0, 1]. Convert image to uint8 prior to saving to suppress this warning.\n\nLossy conversion from float32 to uint8. Range [0, 1]. Convert image to uint8 prior to saving to suppress this warning.\n\nLossy conversion from float32 to uint8. Range [0, 1]. Convert image to uint8 prior to saving to suppress this warning.\n\nLossy conversion from float32 to uint8. Range [0, 1]. Convert image to uint8 prior to saving to suppress this warning.\n\nLossy conversion from float32 to uint8. Range [0, 1]. Convert image to uint8 prior to saving to suppress this warning.\n\nLossy conversion from float32 to uint8. Range [0, 1]. Convert image to uint8 prior to saving to suppress this warning.\n\nLossy conversion from float32 to uint8. Range [0, 1]. Convert image to uint8 prior to saving to suppress this warning.\n\nLossy conversion from float32 to uint8. Range [0, 1]. Convert image to uint8 prior to saving to suppress this warning.\n\nLossy conversion from float32 to uint8. Range [0, 1]. Convert image to uint8 prior to saving to suppress this warning.\n\nLossy conversion from float32 to uint8. Range [0, 1]. Convert image to uint8 prior to saving to suppress this warning.\n\nLossy conversion from float32 to uint8. Range [0, 1]. Convert image to uint8 prior to saving to suppress this warning.\n\nLossy conversion from float32 to uint8. Range [0, 1]. Convert image to uint8 prior to saving to suppress this warning.\n\nLossy conversion from float32 to uint8. Range [0, 1]. Convert image to uint8 prior to saving to suppress this warning.\n\nLossy conversion from float32 to uint8. Range [0, 1]. Convert image to uint8 prior to saving to suppress this warning.\n\nLossy conversion from float32 to uint8. Range [0, 1]. Convert image to uint8 prior to saving to suppress this warning.\n\nLossy conversion from float32 to uint8. Range [0, 1]. Convert image to uint8 prior to saving to suppress this warning.\n\nLossy conversion from float32 to uint8. Range [0, 1]. Convert image to uint8 prior to saving to suppress this warning.\n\nLossy conversion from float32 to uint8. Range [0, 1]. Convert image to uint8 prior to saving to suppress this warning.\n\nLossy conversion from float32 to uint8. Range [0, 1]. Convert image to uint8 prior to saving to suppress this warning.\n\nLossy conversion from float32 to uint8. Range [0, 1]. Convert image to uint8 prior to saving to suppress this warning.\n\nLossy conversion from float32 to uint8. Range [0, 1]. Convert image to uint8 prior to saving to suppress this warning.\n\nLossy conversion from float32 to uint8. Range [0, 1]. Convert image to uint8 prior to saving to suppress this warning.\n"
        },
        {
          "name": "stdout",
          "output_type": "stream",
          "text": "At i=1600\n"
        },
        {
          "name": "stderr",
          "output_type": "stream",
          "text": "Lossy conversion from float32 to uint8. Range [0, 1]. Convert image to uint8 prior to saving to suppress this warning.\n\nLossy conversion from float32 to uint8. Range [0, 1]. Convert image to uint8 prior to saving to suppress this warning.\n\nLossy conversion from float32 to uint8. Range [0, 1]. Convert image to uint8 prior to saving to suppress this warning.\n\nLossy conversion from float32 to uint8. Range [0, 1]. Convert image to uint8 prior to saving to suppress this warning.\n\nLossy conversion from float32 to uint8. Range [0, 1]. Convert image to uint8 prior to saving to suppress this warning.\n\nLossy conversion from float32 to uint8. Range [0, 1]. Convert image to uint8 prior to saving to suppress this warning.\n\nLossy conversion from float32 to uint8. Range [0, 1]. Convert image to uint8 prior to saving to suppress this warning.\n\nLossy conversion from float32 to uint8. Range [0, 1]. Convert image to uint8 prior to saving to suppress this warning.\n\nLossy conversion from float32 to uint8. Range [0, 1]. Convert image to uint8 prior to saving to suppress this warning.\n\nLossy conversion from float32 to uint8. Range [0, 1]. Convert image to uint8 prior to saving to suppress this warning.\n\nLossy conversion from float32 to uint8. Range [0, 1]. Convert image to uint8 prior to saving to suppress this warning.\n\nLossy conversion from float32 to uint8. Range [0, 1]. Convert image to uint8 prior to saving to suppress this warning.\n\nLossy conversion from float32 to uint8. Range [0, 1]. Convert image to uint8 prior to saving to suppress this warning.\n\nLossy conversion from float32 to uint8. Range [0, 1]. Convert image to uint8 prior to saving to suppress this warning.\n\nLossy conversion from float32 to uint8. Range [0, 1]. Convert image to uint8 prior to saving to suppress this warning.\n\nLossy conversion from float32 to uint8. Range [0, 1]. Convert image to uint8 prior to saving to suppress this warning.\n\nLossy conversion from float32 to uint8. Range [0, 1]. Convert image to uint8 prior to saving to suppress this warning.\n\nLossy conversion from float32 to uint8. Range [0, 1]. Convert image to uint8 prior to saving to suppress this warning.\n\nLossy conversion from float32 to uint8. Range [0, 1]. Convert image to uint8 prior to saving to suppress this warning.\n\nLossy conversion from float32 to uint8. Range [0, 1]. Convert image to uint8 prior to saving to suppress this warning.\n\nLossy conversion from float32 to uint8. Range [0, 1]. Convert image to uint8 prior to saving to suppress this warning.\n\nLossy conversion from float32 to uint8. Range [0, 1]. Convert image to uint8 prior to saving to suppress this warning.\n\nLossy conversion from float32 to uint8. Range [0, 1]. Convert image to uint8 prior to saving to suppress this warning.\n\nLossy conversion from float32 to uint8. Range [0, 1]. Convert image to uint8 prior to saving to suppress this warning.\n\nLossy conversion from float32 to uint8. Range [0, 1]. Convert image to uint8 prior to saving to suppress this warning.\n\nLossy conversion from float32 to uint8. Range [0, 1]. Convert image to uint8 prior to saving to suppress this warning.\n\nLossy conversion from float32 to uint8. Range [0, 1]. Convert image to uint8 prior to saving to suppress this warning.\n\nLossy conversion from float32 to uint8. Range [0, 1]. Convert image to uint8 prior to saving to suppress this warning.\n\nLossy conversion from float32 to uint8. Range [0, 1]. Convert image to uint8 prior to saving to suppress this warning.\n\nLossy conversion from float32 to uint8. Range [0, 1]. Convert image to uint8 prior to saving to suppress this warning.\n\nLossy conversion from float32 to uint8. Range [0, 1]. Convert image to uint8 prior to saving to suppress this warning.\n\nLossy conversion from float32 to uint8. Range [0, 1]. Convert image to uint8 prior to saving to suppress this warning.\n\nLossy conversion from float32 to uint8. Range [0, 1]. Convert image to uint8 prior to saving to suppress this warning.\n\nLossy conversion from float32 to uint8. Range [0, 1]. Convert image to uint8 prior to saving to suppress this warning.\n\nLossy conversion from float32 to uint8. Range [0, 1]. Convert image to uint8 prior to saving to suppress this warning.\n\nLossy conversion from float32 to uint8. Range [0, 1]. Convert image to uint8 prior to saving to suppress this warning.\n\nLossy conversion from float32 to uint8. Range [0, 1]. Convert image to uint8 prior to saving to suppress this warning.\n\nLossy conversion from float32 to uint8. Range [0, 1]. Convert image to uint8 prior to saving to suppress this warning.\n\nLossy conversion from float32 to uint8. Range [0, 1]. Convert image to uint8 prior to saving to suppress this warning.\n\nLossy conversion from float32 to uint8. Range [0, 1]. Convert image to uint8 prior to saving to suppress this warning.\n\nLossy conversion from float32 to uint8. Range [0, 1]. Convert image to uint8 prior to saving to suppress this warning.\n\nLossy conversion from float32 to uint8. Range [0, 1]. Convert image to uint8 prior to saving to suppress this warning.\n\nLossy conversion from float32 to uint8. Range [0, 1]. Convert image to uint8 prior to saving to suppress this warning.\n\nLossy conversion from float32 to uint8. Range [0, 1]. Convert image to uint8 prior to saving to suppress this warning.\n\nLossy conversion from float32 to uint8. Range [0, 1]. Convert image to uint8 prior to saving to suppress this warning.\n\nLossy conversion from float32 to uint8. Range [0, 1]. Convert image to uint8 prior to saving to suppress this warning.\n\nLossy conversion from float32 to uint8. Range [0, 1]. Convert image to uint8 prior to saving to suppress this warning.\n\nLossy conversion from float32 to uint8. Range [0, 1]. Convert image to uint8 prior to saving to suppress this warning.\n\nLossy conversion from float32 to uint8. Range [0, 1]. Convert image to uint8 prior to saving to suppress this warning.\n\nLossy conversion from float32 to uint8. Range [0, 1]. Convert image to uint8 prior to saving to suppress this warning.\n\nLossy conversion from float32 to uint8. Range [0, 1]. Convert image to uint8 prior to saving to suppress this warning.\n\nLossy conversion from float32 to uint8. Range [0, 1]. Convert image to uint8 prior to saving to suppress this warning.\n\nLossy conversion from float32 to uint8. Range [0, 1]. Convert image to uint8 prior to saving to suppress this warning.\n\nLossy conversion from float32 to uint8. Range [0, 1]. Convert image to uint8 prior to saving to suppress this warning.\n\nLossy conversion from float32 to uint8. Range [0, 1]. Convert image to uint8 prior to saving to suppress this warning.\n\nLossy conversion from float32 to uint8. Range [0, 1]. Convert image to uint8 prior to saving to suppress this warning.\n\nLossy conversion from float32 to uint8. Range [0, 1]. Convert image to uint8 prior to saving to suppress this warning.\n\nLossy conversion from float32 to uint8. Range [0, 1]. Convert image to uint8 prior to saving to suppress this warning.\n\nLossy conversion from float32 to uint8. Range [0, 1]. Convert image to uint8 prior to saving to suppress this warning.\n\nLossy conversion from float32 to uint8. Range [0, 1]. Convert image to uint8 prior to saving to suppress this warning.\n\nLossy conversion from float32 to uint8. Range [0, 1]. Convert image to uint8 prior to saving to suppress this warning.\n\nLossy conversion from float32 to uint8. Range [0, 1]. Convert image to uint8 prior to saving to suppress this warning.\n\nLossy conversion from float32 to uint8. Range [0, 1]. Convert image to uint8 prior to saving to suppress this warning.\n\nLossy conversion from float32 to uint8. Range [0, 1]. Convert image to uint8 prior to saving to suppress this warning.\n\nLossy conversion from float32 to uint8. Range [0, 1]. Convert image to uint8 prior to saving to suppress this warning.\n\nLossy conversion from float32 to uint8. Range [0, 1]. Convert image to uint8 prior to saving to suppress this warning.\n\nLossy conversion from float32 to uint8. Range [0, 1]. Convert image to uint8 prior to saving to suppress this warning.\n\nLossy conversion from float32 to uint8. Range [0, 1]. Convert image to uint8 prior to saving to suppress this warning.\n\nLossy conversion from float32 to uint8. Range [0, 1]. Convert image to uint8 prior to saving to suppress this warning.\nLossy conversion from float32 to uint8. Range [0, 1]. Convert image to uint8 prior to saving to suppress this warning.\n\nLossy conversion from float32 to uint8. Range [0, 1]. Convert image to uint8 prior to saving to suppress this warning.\n\nLossy conversion from float32 to uint8. Range [0, 1]. Convert image to uint8 prior to saving to suppress this warning.\n\nLossy conversion from float32 to uint8. Range [0, 1]. Convert image to uint8 prior to saving to suppress this warning.\n\nLossy conversion from float32 to uint8. Range [0, 1]. Convert image to uint8 prior to saving to suppress this warning.\n\nLossy conversion from float32 to uint8. Range [0, 1]. Convert image to uint8 prior to saving to suppress this warning.\n\nLossy conversion from float32 to uint8. Range [0, 1]. Convert image to uint8 prior to saving to suppress this warning.\n\nLossy conversion from float32 to uint8. Range [0, 1]. Convert image to uint8 prior to saving to suppress this warning.\n\nLossy conversion from float32 to uint8. Range [0, 1]. Convert image to uint8 prior to saving to suppress this warning.\n\nLossy conversion from float32 to uint8. Range [0, 1]. Convert image to uint8 prior to saving to suppress this warning.\n\nLossy conversion from float32 to uint8. Range [0, 1]. Convert image to uint8 prior to saving to suppress this warning.\n\nLossy conversion from float32 to uint8. Range [0, 1]. Convert image to uint8 prior to saving to suppress this warning.\n\nLossy conversion from float32 to uint8. Range [0, 1]. Convert image to uint8 prior to saving to suppress this warning.\n\nLossy conversion from float32 to uint8. Range [0, 1]. Convert image to uint8 prior to saving to suppress this warning.\n\nLossy conversion from float32 to uint8. Range [0, 1]. Convert image to uint8 prior to saving to suppress this warning.\n\nLossy conversion from float32 to uint8. Range [0, 1]. Convert image to uint8 prior to saving to suppress this warning.\n\nLossy conversion from float32 to uint8. Range [0, 1]. Convert image to uint8 prior to saving to suppress this warning.\n\nLossy conversion from float32 to uint8. Range [0, 1]. Convert image to uint8 prior to saving to suppress this warning.\n\nLossy conversion from float32 to uint8. Range [0, 1]. Convert image to uint8 prior to saving to suppress this warning.\n\nLossy conversion from float32 to uint8. Range [0, 1]. Convert image to uint8 prior to saving to suppress this warning.\n\nLossy conversion from float32 to uint8. Range [0, 1]. Convert image to uint8 prior to saving to suppress this warning.\n\nLossy conversion from float32 to uint8. Range [0, 1]. Convert image to uint8 prior to saving to suppress this warning.\n\nLossy conversion from float32 to uint8. Range [0, 1]. Convert image to uint8 prior to saving to suppress this warning.\n\nLossy conversion from float32 to uint8. Range [0, 1]. Convert image to uint8 prior to saving to suppress this warning.\n\nLossy conversion from float32 to uint8. Range [0, 1]. Convert image to uint8 prior to saving to suppress this warning.\n"
        },
        {
          "name": "stdout",
          "output_type": "stream",
          "text": "At i=1700\n"
        },
        {
          "name": "stderr",
          "output_type": "stream",
          "text": "Lossy conversion from float32 to uint8. Range [0, 1]. Convert image to uint8 prior to saving to suppress this warning.\n\nLossy conversion from float32 to uint8. Range [0, 1]. Convert image to uint8 prior to saving to suppress this warning.\n\nLossy conversion from float32 to uint8. Range [0, 1]. Convert image to uint8 prior to saving to suppress this warning.\n\nLossy conversion from float32 to uint8. Range [0, 1]. Convert image to uint8 prior to saving to suppress this warning.\n\nLossy conversion from float32 to uint8. Range [0, 1]. Convert image to uint8 prior to saving to suppress this warning.\n\nLossy conversion from float32 to uint8. Range [0, 1]. Convert image to uint8 prior to saving to suppress this warning.\n\nLossy conversion from float32 to uint8. Range [0, 1]. Convert image to uint8 prior to saving to suppress this warning.\n\nLossy conversion from float32 to uint8. Range [0, 1]. Convert image to uint8 prior to saving to suppress this warning.\n\nLossy conversion from float32 to uint8. Range [0, 1]. Convert image to uint8 prior to saving to suppress this warning.\n\nLossy conversion from float32 to uint8. Range [0, 1]. Convert image to uint8 prior to saving to suppress this warning.\n\nLossy conversion from float32 to uint8. Range [0, 1]. Convert image to uint8 prior to saving to suppress this warning.\n\nLossy conversion from float32 to uint8. Range [0, 1]. Convert image to uint8 prior to saving to suppress this warning.\n\nLossy conversion from float32 to uint8. Range [0, 1]. Convert image to uint8 prior to saving to suppress this warning.\n\nLossy conversion from float32 to uint8. Range [0, 1]. Convert image to uint8 prior to saving to suppress this warning.\n\nLossy conversion from float32 to uint8. Range [0, 1]. Convert image to uint8 prior to saving to suppress this warning.\n\nLossy conversion from float32 to uint8. Range [0, 1]. Convert image to uint8 prior to saving to suppress this warning.\n\nLossy conversion from float32 to uint8. Range [0, 1]. Convert image to uint8 prior to saving to suppress this warning.\n\nLossy conversion from float32 to uint8. Range [0, 1]. Convert image to uint8 prior to saving to suppress this warning.\n\nLossy conversion from float32 to uint8. Range [0, 1]. Convert image to uint8 prior to saving to suppress this warning.\n\nLossy conversion from float32 to uint8. Range [0, 1]. Convert image to uint8 prior to saving to suppress this warning.\n\nLossy conversion from float32 to uint8. Range [0, 1]. Convert image to uint8 prior to saving to suppress this warning.\n\nLossy conversion from float32 to uint8. Range [0, 1]. Convert image to uint8 prior to saving to suppress this warning.\n\nLossy conversion from float32 to uint8. Range [0, 1]. Convert image to uint8 prior to saving to suppress this warning.\n\nLossy conversion from float32 to uint8. Range [0, 1]. Convert image to uint8 prior to saving to suppress this warning.\n\nLossy conversion from float32 to uint8. Range [0, 1]. Convert image to uint8 prior to saving to suppress this warning.\n\nLossy conversion from float32 to uint8. Range [0, 1]. Convert image to uint8 prior to saving to suppress this warning.\n\nLossy conversion from float32 to uint8. Range [0, 1]. Convert image to uint8 prior to saving to suppress this warning.\n\nLossy conversion from float32 to uint8. Range [0, 1]. Convert image to uint8 prior to saving to suppress this warning.\n\nLossy conversion from float32 to uint8. Range [0, 1]. Convert image to uint8 prior to saving to suppress this warning.\n\nLossy conversion from float32 to uint8. Range [0, 1]. Convert image to uint8 prior to saving to suppress this warning.\n\nLossy conversion from float32 to uint8. Range [0, 1]. Convert image to uint8 prior to saving to suppress this warning.\n\nLossy conversion from float32 to uint8. Range [0, 1]. Convert image to uint8 prior to saving to suppress this warning.\n\nLossy conversion from float32 to uint8. Range [0, 1]. Convert image to uint8 prior to saving to suppress this warning.\n\nLossy conversion from float32 to uint8. Range [0, 1]. Convert image to uint8 prior to saving to suppress this warning.\n\nLossy conversion from float32 to uint8. Range [0, 1]. Convert image to uint8 prior to saving to suppress this warning.\n\nLossy conversion from float32 to uint8. Range [0, 1]. Convert image to uint8 prior to saving to suppress this warning.\n\nLossy conversion from float32 to uint8. Range [0, 1]. Convert image to uint8 prior to saving to suppress this warning.\n\nLossy conversion from float32 to uint8. Range [0, 1]. Convert image to uint8 prior to saving to suppress this warning.\n\nLossy conversion from float32 to uint8. Range [0, 1]. Convert image to uint8 prior to saving to suppress this warning.\n\nLossy conversion from float32 to uint8. Range [0, 1]. Convert image to uint8 prior to saving to suppress this warning.\n\nLossy conversion from float32 to uint8. Range [0, 1]. Convert image to uint8 prior to saving to suppress this warning.\n\nLossy conversion from float32 to uint8. Range [0, 1]. Convert image to uint8 prior to saving to suppress this warning.\n\nLossy conversion from float32 to uint8. Range [0, 1]. Convert image to uint8 prior to saving to suppress this warning.\n\nLossy conversion from float32 to uint8. Range [0, 1]. Convert image to uint8 prior to saving to suppress this warning.\n\nLossy conversion from float32 to uint8. Range [0, 1]. Convert image to uint8 prior to saving to suppress this warning.\n\nLossy conversion from float32 to uint8. Range [0, 1]. Convert image to uint8 prior to saving to suppress this warning.\n\nLossy conversion from float32 to uint8. Range [0, 1]. Convert image to uint8 prior to saving to suppress this warning.\n\nLossy conversion from float32 to uint8. Range [0, 1]. Convert image to uint8 prior to saving to suppress this warning.\n\nLossy conversion from float32 to uint8. Range [0, 1]. Convert image to uint8 prior to saving to suppress this warning.\n\nLossy conversion from float32 to uint8. Range [0, 1]. Convert image to uint8 prior to saving to suppress this warning.\n\nLossy conversion from float32 to uint8. Range [0, 1]. Convert image to uint8 prior to saving to suppress this warning.\n\nLossy conversion from float32 to uint8. Range [0, 1]. Convert image to uint8 prior to saving to suppress this warning.\n\nLossy conversion from float32 to uint8. Range [0, 1]. Convert image to uint8 prior to saving to suppress this warning.\n\nLossy conversion from float32 to uint8. Range [0, 1]. Convert image to uint8 prior to saving to suppress this warning.\n\nLossy conversion from float32 to uint8. Range [0, 1]. Convert image to uint8 prior to saving to suppress this warning.\n\nLossy conversion from float32 to uint8. Range [0, 1]. Convert image to uint8 prior to saving to suppress this warning.\n\nLossy conversion from float32 to uint8. Range [0, 1]. Convert image to uint8 prior to saving to suppress this warning.\n\nLossy conversion from float32 to uint8. Range [0, 1]. Convert image to uint8 prior to saving to suppress this warning.\n\nLossy conversion from float32 to uint8. Range [0, 1]. Convert image to uint8 prior to saving to suppress this warning.\n\nLossy conversion from float32 to uint8. Range [0, 1]. Convert image to uint8 prior to saving to suppress this warning.\n\nLossy conversion from float32 to uint8. Range [0, 1]. Convert image to uint8 prior to saving to suppress this warning.\n\nLossy conversion from float32 to uint8. Range [0, 1]. Convert image to uint8 prior to saving to suppress this warning.\n\nLossy conversion from float32 to uint8. Range [0, 1]. Convert image to uint8 prior to saving to suppress this warning.\n\nLossy conversion from float32 to uint8. Range [0, 1]. Convert image to uint8 prior to saving to suppress this warning.\n\nLossy conversion from float32 to uint8. Range [0, 1]. Convert image to uint8 prior to saving to suppress this warning.\n\nLossy conversion from float32 to uint8. Range [0, 1]. Convert image to uint8 prior to saving to suppress this warning.\n\nLossy conversion from float32 to uint8. Range [0, 1]. Convert image to uint8 prior to saving to suppress this warning.\n\nLossy conversion from float32 to uint8. Range [0, 1]. Convert image to uint8 prior to saving to suppress this warning.\n\nLossy conversion from float32 to uint8. Range [0, 1]. Convert image to uint8 prior to saving to suppress this warning.\nLossy conversion from float32 to uint8. Range [0, 1]. Convert image to uint8 prior to saving to suppress this warning.\n\nLossy conversion from float32 to uint8. Range [0, 1]. Convert image to uint8 prior to saving to suppress this warning.\n\nLossy conversion from float32 to uint8. Range [0, 1]. Convert image to uint8 prior to saving to suppress this warning.\n\nLossy conversion from float32 to uint8. Range [0, 1]. Convert image to uint8 prior to saving to suppress this warning.\n\nLossy conversion from float32 to uint8. Range [0, 1]. Convert image to uint8 prior to saving to suppress this warning.\n\nLossy conversion from float32 to uint8. Range [0, 1]. Convert image to uint8 prior to saving to suppress this warning.\n\nLossy conversion from float32 to uint8. Range [0, 1]. Convert image to uint8 prior to saving to suppress this warning.\n\nLossy conversion from float32 to uint8. Range [0, 1]. Convert image to uint8 prior to saving to suppress this warning.\n\nLossy conversion from float32 to uint8. Range [0, 1]. Convert image to uint8 prior to saving to suppress this warning.\n\nLossy conversion from float32 to uint8. Range [0, 1]. Convert image to uint8 prior to saving to suppress this warning.\n\nLossy conversion from float32 to uint8. Range [0, 1]. Convert image to uint8 prior to saving to suppress this warning.\n\nLossy conversion from float32 to uint8. Range [0, 1]. Convert image to uint8 prior to saving to suppress this warning.\n\nLossy conversion from float32 to uint8. Range [0, 1]. Convert image to uint8 prior to saving to suppress this warning.\n\nLossy conversion from float32 to uint8. Range [0, 1]. Convert image to uint8 prior to saving to suppress this warning.\n\nLossy conversion from float32 to uint8. Range [0, 1]. Convert image to uint8 prior to saving to suppress this warning.\n\nLossy conversion from float32 to uint8. Range [0, 1]. Convert image to uint8 prior to saving to suppress this warning.\n\nLossy conversion from float32 to uint8. Range [0, 1]. Convert image to uint8 prior to saving to suppress this warning.\n\nLossy conversion from float32 to uint8. Range [0, 1]. Convert image to uint8 prior to saving to suppress this warning.\n\nLossy conversion from float32 to uint8. Range [0, 1]. Convert image to uint8 prior to saving to suppress this warning.\n\nLossy conversion from float32 to uint8. Range [0, 1]. Convert image to uint8 prior to saving to suppress this warning.\n\nLossy conversion from float32 to uint8. Range [0, 1]. Convert image to uint8 prior to saving to suppress this warning.\n\nLossy conversion from float32 to uint8. Range [0, 1]. Convert image to uint8 prior to saving to suppress this warning.\n\nLossy conversion from float32 to uint8. Range [0, 1]. Convert image to uint8 prior to saving to suppress this warning.\n\nLossy conversion from float32 to uint8. Range [0, 1]. Convert image to uint8 prior to saving to suppress this warning.\n\nLossy conversion from float32 to uint8. Range [0, 1]. Convert image to uint8 prior to saving to suppress this warning.\n\nLossy conversion from float32 to uint8. Range [0, 1]. Convert image to uint8 prior to saving to suppress this warning.\n\nLossy conversion from float32 to uint8. Range [0, 1]. Convert image to uint8 prior to saving to suppress this warning.\n\nLossy conversion from float32 to uint8. Range [0, 1]. Convert image to uint8 prior to saving to suppress this warning.\n\nLossy conversion from float32 to uint8. Range [0, 1]. Convert image to uint8 prior to saving to suppress this warning.\n\nLossy conversion from float32 to uint8. Range [0, 1]. Convert image to uint8 prior to saving to suppress this warning.\n"
        },
        {
          "name": "stdout",
          "output_type": "stream",
          "text": "At i=1800\n"
        },
        {
          "name": "stderr",
          "output_type": "stream",
          "text": "Lossy conversion from float32 to uint8. Range [0, 1]. Convert image to uint8 prior to saving to suppress this warning.\n\nLossy conversion from float32 to uint8. Range [0, 1]. Convert image to uint8 prior to saving to suppress this warning.\n\nLossy conversion from float32 to uint8. Range [0, 1]. Convert image to uint8 prior to saving to suppress this warning.\n\nLossy conversion from float32 to uint8. Range [0, 1]. Convert image to uint8 prior to saving to suppress this warning.\n\nLossy conversion from float32 to uint8. Range [0, 1]. Convert image to uint8 prior to saving to suppress this warning.\n\nLossy conversion from float32 to uint8. Range [0, 1]. Convert image to uint8 prior to saving to suppress this warning.\n\nLossy conversion from float32 to uint8. Range [0, 1]. Convert image to uint8 prior to saving to suppress this warning.\n\nLossy conversion from float32 to uint8. Range [0, 1]. Convert image to uint8 prior to saving to suppress this warning.\n\nLossy conversion from float32 to uint8. Range [0, 1]. Convert image to uint8 prior to saving to suppress this warning.\n\nLossy conversion from float32 to uint8. Range [0, 1]. Convert image to uint8 prior to saving to suppress this warning.\n\nLossy conversion from float32 to uint8. Range [0, 1]. Convert image to uint8 prior to saving to suppress this warning.\n\nLossy conversion from float32 to uint8. Range [0, 1]. Convert image to uint8 prior to saving to suppress this warning.\n\nLossy conversion from float32 to uint8. Range [0, 1]. Convert image to uint8 prior to saving to suppress this warning.\n\nLossy conversion from float32 to uint8. Range [0, 1]. Convert image to uint8 prior to saving to suppress this warning.\n\nLossy conversion from float32 to uint8. Range [0, 1]. Convert image to uint8 prior to saving to suppress this warning.\n\nLossy conversion from float32 to uint8. Range [0, 1]. Convert image to uint8 prior to saving to suppress this warning.\n\nLossy conversion from float32 to uint8. Range [0, 1]. Convert image to uint8 prior to saving to suppress this warning.\n\nLossy conversion from float32 to uint8. Range [0, 1]. Convert image to uint8 prior to saving to suppress this warning.\n\nLossy conversion from float32 to uint8. Range [0, 1]. Convert image to uint8 prior to saving to suppress this warning.\n\nLossy conversion from float32 to uint8. Range [0, 1]. Convert image to uint8 prior to saving to suppress this warning.\n\nLossy conversion from float32 to uint8. Range [0, 1]. Convert image to uint8 prior to saving to suppress this warning.\n\nLossy conversion from float32 to uint8. Range [0, 1]. Convert image to uint8 prior to saving to suppress this warning.\n\nLossy conversion from float32 to uint8. Range [0, 1]. Convert image to uint8 prior to saving to suppress this warning.\n\nLossy conversion from float32 to uint8. Range [0, 1]. Convert image to uint8 prior to saving to suppress this warning.\n\nLossy conversion from float32 to uint8. Range [0, 1]. Convert image to uint8 prior to saving to suppress this warning.\n\nLossy conversion from float32 to uint8. Range [0, 1]. Convert image to uint8 prior to saving to suppress this warning.\n\nLossy conversion from float32 to uint8. Range [0, 1]. Convert image to uint8 prior to saving to suppress this warning.\n\nLossy conversion from float32 to uint8. Range [0, 1]. Convert image to uint8 prior to saving to suppress this warning.\n\nLossy conversion from float32 to uint8. Range [0, 1]. Convert image to uint8 prior to saving to suppress this warning.\n\nLossy conversion from float32 to uint8. Range [0, 1]. Convert image to uint8 prior to saving to suppress this warning.\n\nLossy conversion from float32 to uint8. Range [0, 1]. Convert image to uint8 prior to saving to suppress this warning.\n\nLossy conversion from float32 to uint8. Range [0, 1]. Convert image to uint8 prior to saving to suppress this warning.\n\nLossy conversion from float32 to uint8. Range [0, 1]. Convert image to uint8 prior to saving to suppress this warning.\n\nLossy conversion from float32 to uint8. Range [0, 1]. Convert image to uint8 prior to saving to suppress this warning.\n\nLossy conversion from float32 to uint8. Range [0, 1]. Convert image to uint8 prior to saving to suppress this warning.\n\nLossy conversion from float32 to uint8. Range [0, 1]. Convert image to uint8 prior to saving to suppress this warning.\n\nLossy conversion from float32 to uint8. Range [0, 1]. Convert image to uint8 prior to saving to suppress this warning.\n\nLossy conversion from float32 to uint8. Range [0, 1]. Convert image to uint8 prior to saving to suppress this warning.\n\nLossy conversion from float32 to uint8. Range [0, 1]. Convert image to uint8 prior to saving to suppress this warning.\n\nLossy conversion from float32 to uint8. Range [0, 1]. Convert image to uint8 prior to saving to suppress this warning.\n\nLossy conversion from float32 to uint8. Range [0, 1]. Convert image to uint8 prior to saving to suppress this warning.\n\nLossy conversion from float32 to uint8. Range [0, 1]. Convert image to uint8 prior to saving to suppress this warning.\n\nLossy conversion from float32 to uint8. Range [0, 1]. Convert image to uint8 prior to saving to suppress this warning.\n\nLossy conversion from float32 to uint8. Range [0, 1]. Convert image to uint8 prior to saving to suppress this warning.\n\nLossy conversion from float32 to uint8. Range [0, 1]. Convert image to uint8 prior to saving to suppress this warning.\n\nLossy conversion from float32 to uint8. Range [0, 1]. Convert image to uint8 prior to saving to suppress this warning.\n\nLossy conversion from float32 to uint8. Range [0, 1]. Convert image to uint8 prior to saving to suppress this warning.\n\nLossy conversion from float32 to uint8. Range [0, 1]. Convert image to uint8 prior to saving to suppress this warning.\n\nLossy conversion from float32 to uint8. Range [0, 1]. Convert image to uint8 prior to saving to suppress this warning.\n\nLossy conversion from float32 to uint8. Range [0, 1]. Convert image to uint8 prior to saving to suppress this warning.\n\nLossy conversion from float32 to uint8. Range [0, 1]. Convert image to uint8 prior to saving to suppress this warning.\n\nLossy conversion from float32 to uint8. Range [0, 1]. Convert image to uint8 prior to saving to suppress this warning.\n\nLossy conversion from float32 to uint8. Range [0, 1]. Convert image to uint8 prior to saving to suppress this warning.\n\nLossy conversion from float32 to uint8. Range [0, 1]. Convert image to uint8 prior to saving to suppress this warning.\n\nLossy conversion from float32 to uint8. Range [0, 1]. Convert image to uint8 prior to saving to suppress this warning.\n\nLossy conversion from float32 to uint8. Range [0, 1]. Convert image to uint8 prior to saving to suppress this warning.\n\nLossy conversion from float32 to uint8. Range [0, 1]. Convert image to uint8 prior to saving to suppress this warning.\n\nLossy conversion from float32 to uint8. Range [0, 1]. Convert image to uint8 prior to saving to suppress this warning.\n\nLossy conversion from float32 to uint8. Range [0, 1]. Convert image to uint8 prior to saving to suppress this warning.\n\nLossy conversion from float32 to uint8. Range [0, 1]. Convert image to uint8 prior to saving to suppress this warning.\n\nLossy conversion from float32 to uint8. Range [0, 1]. Convert image to uint8 prior to saving to suppress this warning.\n\nLossy conversion from float32 to uint8. Range [0, 1]. Convert image to uint8 prior to saving to suppress this warning.\n\nLossy conversion from float32 to uint8. Range [0, 1]. Convert image to uint8 prior to saving to suppress this warning.\n\nLossy conversion from float32 to uint8. Range [0, 1]. Convert image to uint8 prior to saving to suppress this warning.\n\nLossy conversion from float32 to uint8. Range [0, 1]. Convert image to uint8 prior to saving to suppress this warning.\n\nLossy conversion from float32 to uint8. Range [0, 1]. Convert image to uint8 prior to saving to suppress this warning.\n\nLossy conversion from float32 to uint8. Range [0, 1]. Convert image to uint8 prior to saving to suppress this warning.\n\nLossy conversion from float32 to uint8. Range [0, 1]. Convert image to uint8 prior to saving to suppress this warning.\n\nLossy conversion from float32 to uint8. Range [0, 1]. Convert image to uint8 prior to saving to suppress this warning.\nLossy conversion from float32 to uint8. Range [0, 1]. Convert image to uint8 prior to saving to suppress this warning.\n\nLossy conversion from float32 to uint8. Range [0, 1]. Convert image to uint8 prior to saving to suppress this warning.\n\nLossy conversion from float32 to uint8. Range [0, 1]. Convert image to uint8 prior to saving to suppress this warning.\n\nLossy conversion from float32 to uint8. Range [0, 1]. Convert image to uint8 prior to saving to suppress this warning.\n\nLossy conversion from float32 to uint8. Range [0, 1]. Convert image to uint8 prior to saving to suppress this warning.\n\nLossy conversion from float32 to uint8. Range [0, 1]. Convert image to uint8 prior to saving to suppress this warning.\n\nLossy conversion from float32 to uint8. Range [0, 1]. Convert image to uint8 prior to saving to suppress this warning.\n\nLossy conversion from float32 to uint8. Range [0, 1]. Convert image to uint8 prior to saving to suppress this warning.\n\nLossy conversion from float32 to uint8. Range [0, 1]. Convert image to uint8 prior to saving to suppress this warning.\n\nLossy conversion from float32 to uint8. Range [0, 1]. Convert image to uint8 prior to saving to suppress this warning.\n\nLossy conversion from float32 to uint8. Range [0, 1]. Convert image to uint8 prior to saving to suppress this warning.\n\nLossy conversion from float32 to uint8. Range [0, 1]. Convert image to uint8 prior to saving to suppress this warning.\n\nLossy conversion from float32 to uint8. Range [0, 1]. Convert image to uint8 prior to saving to suppress this warning.\n\nLossy conversion from float32 to uint8. Range [0, 1]. Convert image to uint8 prior to saving to suppress this warning.\n\nLossy conversion from float32 to uint8. Range [0, 1]. Convert image to uint8 prior to saving to suppress this warning.\n\nLossy conversion from float32 to uint8. Range [0, 1]. Convert image to uint8 prior to saving to suppress this warning.\n\nLossy conversion from float32 to uint8. Range [0, 1]. Convert image to uint8 prior to saving to suppress this warning.\n\nLossy conversion from float32 to uint8. Range [0, 1]. Convert image to uint8 prior to saving to suppress this warning.\n\nLossy conversion from float32 to uint8. Range [0, 1]. Convert image to uint8 prior to saving to suppress this warning.\n\nLossy conversion from float32 to uint8. Range [0, 1]. Convert image to uint8 prior to saving to suppress this warning.\n"
        },
        {
          "name": "stdout",
          "output_type": "stream",
          "text": "At i=1900\n\ndone\n"
        }
      ]
    },
    {
      "cell_type": "code",
      "source": "#simple int equations\ndef get_random():\n    random=np.random.randint(100)\n    if random<50:\n        rand_numb=np.random.randint(1,10)\n    if random<90 and random>49:\n        rand_numb=np.random.randint(1,100)\n    if random>89:\n        rand_numb=np.random.randint(1,1000)\n    return rand_numb\nx=get_random()\n\nlist_digits = []\nfor i in range(10):\n    list_digits.append(listdir(read_path+\"/\"+str(i)))\n    list_plus = listdir(read_path+\"/+\")\n    list_minus = listdir(read_path+\"/-\")\n    list_lt = listdir(read_path+\"/lt\")\n    list_gt= listdir(read_path+\"/gt\")\n    list_leq = listdir(read_path+\"/leq\")\n    list_geq = listdir(read_path+\"/geq\")\n    list_neq = listdir(read_path+\"/neq\")\n    list_equal = listdir(read_path+\"/=\")\n    list_alpha = listdir(read_path+\"/alpha\")\n    list_beta = listdir(read_path+\"/beta\")\n    list_x = listdir(read_path+\"/x\")\n    list_y = listdir(read_path+\"/y\")\n    list_d = listdir(read_path+\"/d\")\n    list_int = listdir(read_path+\"/int\")\n    list_openp = listdir(read_path+\"/(\")\n    list_closep = listdir(read_path+\"/)\")\n    list_exclamation = listdir(read_path+\"/!\")\n    list_coma = listdir(read_path+\"/,\")\n    list_sqrt = listdir(read_path+\"/sqrt\")\n\nfor i in range(10):\n    list_digits[i] = list_digits[i][len(list_digits[i])//8:]\n    list_plus = list_plus[len(list_plus)//8:]\n    list_minus = list_minus[len(list_minus)//8:]\n    list_lt = list_lt[len(list_lt)//8:]\n    list_gt = list_gt[len(list_gt)//8:]\n    list_leq = list_leq[len(list_leq)//8:]\n    list_geq = list_geq[len(list_geq)//8:]\n    list_neq = list_neq[len(list_neq)//8:]\n    list_equal = list_equal[len(list_equal)//8:]\n    list_alpha = list_alpha[len(list_alpha)//8:]\n    list_beta = list_beta[len(list_beta)//8:]\n    list_x = list_x[len(list_x)//8:]\n    list_y = list_y[len(list_y)//8:]\n    list_d = list_d[len(list_d)//8:]\n\n\nlist_mid = [list_minus,list_plus]\nlist_end = [list_lt,list_gt,list_leq,list_geq,list_neq,list_equal]  \nlist_variables = [list_alpha,list_beta,list_x,list_y]\nvar_names = [\"#alpha\", \"#beta\", \"x\", \"y\"]\n#os.mkdir(write_path_add)\n\n\nbounding_boxes = []\nfor i in range(2000):\n    random_name = str(np.random.randint(1,99999))\n    img = np.zeros((200,60*(4+4+4)))\n    upper = np.random.randint(2,1000)\n    lower = np.random.randint(1,upper)\n    filename = \"#int #limits{\"+str(lower)+\"}{\"+str(upper)+\"} \"\n    num_strs=[None,None,None,None,None,None]\n    num_5=None\n    num_4=None\n    num_3=None\n    num_2=None\n    num_1=None\n    num_0=None\n    var_5=None\n    var_4=None\n    var_3=None\n    var_2=None\n    var_1=None\n    var_0=None\n    x5 = np.random.randint(2)\n    if x5:\n        num_5 = np.random.randint(2)\n        if num_5:\n            num_5 = str(get_random())\n            num_strs[0]=num_5\n            num_5 = num_5+\"x^5\"\n        else:\n            num_5 = \"x^5\"\n        var_5=np.random.randint(2)\n        if var_5:\n            var_5 = None\n        else:\n            var_5 = \"-\"\n            filename = filename + var_5\n        filename = filename+str(num_5)\n    x4 = np.random.randint(2)\n    if x4:\n        num_4 = np.random.randint(2)\n        if num_4:\n            num_4 = str(get_random())\n            num_strs[1]=num_4\n            num_4 = num_4 + \"x^4\"\n        else:\n            num_4 = \"x^4\"\n        var_4=np.random.randint(2)\n        if var_4:\n            var_4 = \"+\"\n        else:\n            var_4 = \"-\"\n        filename = filename + var_4\n        filename = filename + num_4\n    x3 = np.random.randint(2)\n    if x3:\n        num_3 = np.random.randint(2)\n        if num_3:\n            num_3 = str(get_random())\n            num_strs[2]=num_3\n            num_3 = num_3 + \"x^3\"\n        else:\n            num_3 = \"x^3\"\n        var_3=np.random.randint(2)\n        if var_3:\n            var_3 = \"+\"\n        else:\n            var_3 = \"-\"\n        filename = filename + var_3\n        filename = filename + num_3\n    x2 = np.random.randint(2)\n    if x2:\n        num_2 = np.random.randint(2)\n        if num_2:\n            num_2 = str(get_random())\n            num_strs[3]=num_2\n            num_2 = num_2 + \"x^2\"\n        else:\n            num_2 = \"x^2\"\n        var_2=np.random.randint(2)\n        if var_2:\n            var_2 = \"+\"\n        else:\n            var_2 = \"-\"\n        filename = filename + var_2\n        filename = filename + num_2\n    x1 = np.random.randint(2)\n    if x1:\n        num_1 = np.random.randint(2)\n        if num_1:\n            num_1 = str(get_random())\n            num_strs[4]=num_1\n            num_1 = num_1 + \"x\"\n        else:\n            num_1 = \"x\"\n        var_1=np.random.randint(2)\n        if var_1:\n            var_1 = \"+\"\n        else:\n            var_1 = \"-\"\n        filename = filename + var_1\n        filename = filename + num_1\n    x0 = np.random.randint(2)\n    if x0:\n        num_0 = str(get_random())\n        num_strs[5]=num_0\n        num_0 = num_0\n        var_0=np.random.randint(2)\n        if var_0:\n            var_0 = \"+\"\n        else:\n            var_0 = \"-\"\n        filename = filename + var_0\n        filename = filename + num_0\n            \n    filename = filename+\"dx_\"+random_name+\".jpg\"\n    print(\"Filename: \", filename)\n    bounding_box = [{'filename': filename}]\n    padding = 5\n    class_names = []\n    \n    img, padding, new_bounding_box = add_symbol_to_image(img,'int',list_int,padding,65,70)\n    bounding_box.append(new_bounding_box)\n    class_names.append('int')\n    \n    for t in range(len(str(upper))):\n        if t<len(str(lower)):\n            lwr=str(lower)[t]\n            img, padding, new_bounding_box = add_symbol_to_image(img,lwr,list_digits[int(lwr)],padding,34,34,bden=True,change_padding=False)\n            bounding_box.append(new_bounding_box)\n            class_names.append(lwr)\n        upr=str(upper)[t]\n        img, padding, new_bounding_box = add_symbol_to_image(img,upr,list_digits[int(upr)],padding,34,34,bnom=True)\n        bounding_box.append(new_bounding_box)\n        class_names.append(upr)\n    \n    if var_5:\n        if var_5==\"-\":\n            img, padding, new_bounding_box = add_symbol_to_image(img,\"-\",list_minus,padding,34,34)\n            bounding_box.append(new_bounding_box)\n            class_names.append('-')\n    if num_5:\n        w=True\n        for u in range(len(num_5)):\n            if num_5[u]!=\"x\" and w:\n                img, padding, new_bounding_box = add_symbol_to_image(img,num_5[u],list_digits[int(num_5[u])],padding,35,40)\n                bounding_box.append(new_bounding_box)\n                class_names.append(num_5[u])\n            elif num_5[u]==\"x\":\n                img, padding, new_bounding_box = add_symbol_to_image(img,'x',list_x,padding,35,40,bsmall=True)\n                bounding_box.append(new_bounding_box)\n                class_names.append('x')\n                img, padding, new_bounding_box = add_symbol_to_image(img,'5',list_digits[5],padding,34,34,bpower=True)\n                bounding_box.append(new_bounding_box)\n                class_names.append('5')\n                w=False\n    \n    if var_4:\n        if var_4==\"-\":\n            img, padding, new_bounding_box = add_symbol_to_image(img,\"-\",list_minus,padding,34,34)\n            bounding_box.append(new_bounding_box)\n            class_names.append('-')\n        else:\n            img, padding, new_bounding_box = add_symbol_to_image(img,\"+\",list_plus,padding,34,34)\n            bounding_box.append(new_bounding_box)\n            class_names.append('+') \n    if num_4:\n        w=True\n        for u in range(len(num_4)):\n            if num_4[u]!=\"x\" and w:\n                img, padding, new_bounding_box = add_symbol_to_image(img,num_4[u],list_digits[int(num_4[u])],padding,35,40)\n                bounding_box.append(new_bounding_box)\n                class_names.append(num_4[u])\n            elif num_4[u]==\"x\":\n                img, padding, new_bounding_box = add_symbol_to_image(img,'x',list_x,padding,35,40,bsmall=True)\n                bounding_box.append(new_bounding_box)\n                class_names.append('x')\n                img, padding, new_bounding_box = add_symbol_to_image(img,'4',list_digits[4],padding,34,34,bpower=True)\n                bounding_box.append(new_bounding_box)\n                class_names.append('4')\n                w=False\n                \n    if var_3:\n        if var_3==\"-\":\n            img, padding, new_bounding_box = add_symbol_to_image(img,\"-\",list_minus,padding,34,34)\n            bounding_box.append(new_bounding_box)\n            class_names.append('-')\n        else:\n            img, padding, new_bounding_box = add_symbol_to_image(img,\"+\",list_plus,padding,34,34)\n            bounding_box.append(new_bounding_box)\n            class_names.append('+') \n    if num_3:\n        w=True\n        for u in range(len(num_3)):\n            if num_3[u]!=\"x\" and w:\n                img, padding, new_bounding_box = add_symbol_to_image(img,num_3[u],list_digits[int(num_3[u])],padding,35,40)\n                bounding_box.append(new_bounding_box)\n                class_names.append(num_3[u])\n            elif num_3[u]==\"x\":\n                img, padding, new_bounding_box = add_symbol_to_image(img,'x',list_x,padding,35,40,bsmall=True)\n                bounding_box.append(new_bounding_box)\n                class_names.append('x')\n                img, padding, new_bounding_box = add_symbol_to_image(img,'3',list_digits[3],padding,34,34,bpower=True)\n                bounding_box.append(new_bounding_box)\n                class_names.append('3')\n                w=False\n    \n    if var_2:\n        if var_2==\"-\":\n            img, padding, new_bounding_box = add_symbol_to_image(img,\"-\",list_minus,padding,34,34)\n            bounding_box.append(new_bounding_box)\n            class_names.append('-')\n        else:\n            img, padding, new_bounding_box = add_symbol_to_image(img,\"+\",list_plus,padding,34,34)\n            bounding_box.append(new_bounding_box)\n            class_names.append('+') \n    if num_2:\n        w=True\n        for u in range(len(num_2)):\n            if num_2[u]!=\"x\" and w:\n                img, padding, new_bounding_box = add_symbol_to_image(img,num_2[u],list_digits[int(num_2[u])],padding,35,40)\n                bounding_box.append(new_bounding_box)\n                class_names.append(num_2[u])\n            elif num_2[u]==\"x\":\n                img, padding, new_bounding_box = add_symbol_to_image(img,'x',list_x,padding,35,40,bsmall=True)\n                bounding_box.append(new_bounding_box)\n                class_names.append('x')\n                img, padding, new_bounding_box = add_symbol_to_image(img,'2',list_digits[2],padding,34,34,bpower=True)\n                bounding_box.append(new_bounding_box)\n                class_names.append('2')\n                w=False\n    \n    if var_1:\n        if var_1==\"-\":\n            img, padding, new_bounding_box = add_symbol_to_image(img,\"-\",list_minus,padding,34,34)\n            bounding_box.append(new_bounding_box)\n            class_names.append('-')\n        else:\n            img, padding, new_bounding_box = add_symbol_to_image(img,\"+\",list_plus,padding,34,34)\n            bounding_box.append(new_bounding_box)\n            class_names.append('+') \n    if num_1:\n        w=True\n        for u in range(len(num_1)):\n            if num_1[u]!=\"x\" and w:\n                img, padding, new_bounding_box = add_symbol_to_image(img,num_1[u],list_digits[int(num_1[u])],padding,35,40)\n                bounding_box.append(new_bounding_box)\n                class_names.append(num_1[u])\n            elif num_1[u]==\"x\":\n                img, padding, new_bounding_box = add_symbol_to_image(img,'x',list_x,padding,35,40,bsmall=True)\n                bounding_box.append(new_bounding_box)\n                class_names.append('x')\n                w=False\n                \n    if var_0:\n        if var_0==\"-\":\n            img, padding, new_bounding_box = add_symbol_to_image(img,\"-\",list_minus,padding,34,34)\n            bounding_box.append(new_bounding_box)\n            class_names.append('-')\n        else:\n            img, padding, new_bounding_box = add_symbol_to_image(img,\"+\",list_plus,padding,34,34)\n            bounding_box.append(new_bounding_box)\n            class_names.append('+') \n    if num_0:\n        for u in range(len(num_0)):\n            img, padding, new_bounding_box = add_symbol_to_image(img,num_0[u],list_digits[int(num_0[u])],padding,35,40)\n            bounding_box.append(new_bounding_box)\n            class_names.append(num_0[u])\n            \n    img, padding, new_bounding_box = add_symbol_to_image(img,'d',list_d,padding,35,40)\n    bounding_box.append(new_bounding_box)\n    class_names.append('d')\n    img, padding, new_bounding_box = add_symbol_to_image(img,'x',list_x,padding,35,40)\n    bounding_box.append(new_bounding_box)\n    class_names.append('x')\n\n    bounding_boxes.append(bounding_box)\n    img = invert(img)+254\n#     plt.figure(figsize=(20,10))\n#     plt.imshow(img, cmap=\"gray\")\n#     plt.show()\n\n#    for bb,cname in zip(bounding_box[1:],class_names):\n#        xmin, xmax = bb['xmin'], bb['xmax']\n#        ymin, ymax = bb['ymin'], bb['ymax']\n#    \n#        normed = normalize_single(img[ymin:ymax+1,xmin:xmax+1])\n#        r = np.random.randint(9999)\n#        io.imsave(write_single_path+\"/\"+cname+\"/\"+cname+\"_\"+str(r)+\".jpg\", normed)\n    \n    io.imsave(formula_path+\"/\"+filename, img/255)\n    print(\"Finished: \", i)\n#error when the image created can't fit resolution ",
      "metadata": {
        "scrolled": true,
        "collapsed": true,
        "jupyter": {
          "outputs_hidden": true
        },
        "tags": []
      },
      "execution_count": 126,
      "outputs": [
        {
          "name": "stdout",
          "output_type": "stream",
          "text": "Filename:  #int #limits{372}{474} -6x^5+22x^4+38x^3+x^2-97xdx_60717.jpg\n"
        },
        {
          "ename": "ValueError",
          "evalue": "operands could not be broadcast together with shapes (37,12) (37,28) (37,12) ",
          "output_type": "error",
          "traceback": [
            "\u001b[1;31m---------------------------------------------------------------------------\u001b[0m",
            "\u001b[1;31mValueError\u001b[0m                                Traceback (most recent call last)",
            "\u001b[1;32m~\\AppData\\Local\\Temp/ipykernel_12740/953719733.py\u001b[0m in \u001b[0;36m<module>\u001b[1;34m\u001b[0m\n\u001b[0;32m    301\u001b[0m         \u001b[1;32mfor\u001b[0m \u001b[0mu\u001b[0m \u001b[1;32min\u001b[0m \u001b[0mrange\u001b[0m\u001b[1;33m(\u001b[0m\u001b[0mlen\u001b[0m\u001b[1;33m(\u001b[0m\u001b[0mnum_1\u001b[0m\u001b[1;33m)\u001b[0m\u001b[1;33m)\u001b[0m\u001b[1;33m:\u001b[0m\u001b[1;33m\u001b[0m\u001b[1;33m\u001b[0m\u001b[0m\n\u001b[0;32m    302\u001b[0m             \u001b[1;32mif\u001b[0m \u001b[0mnum_1\u001b[0m\u001b[1;33m[\u001b[0m\u001b[0mu\u001b[0m\u001b[1;33m]\u001b[0m\u001b[1;33m!=\u001b[0m\u001b[1;34m\"x\"\u001b[0m \u001b[1;32mand\u001b[0m \u001b[0mw\u001b[0m\u001b[1;33m:\u001b[0m\u001b[1;33m\u001b[0m\u001b[1;33m\u001b[0m\u001b[0m\n\u001b[1;32m--> 303\u001b[1;33m                 \u001b[0mimg\u001b[0m\u001b[1;33m,\u001b[0m \u001b[0mpadding\u001b[0m\u001b[1;33m,\u001b[0m \u001b[0mnew_bounding_box\u001b[0m \u001b[1;33m=\u001b[0m \u001b[0madd_symbol_to_image\u001b[0m\u001b[1;33m(\u001b[0m\u001b[0mimg\u001b[0m\u001b[1;33m,\u001b[0m\u001b[0mnum_1\u001b[0m\u001b[1;33m[\u001b[0m\u001b[0mu\u001b[0m\u001b[1;33m]\u001b[0m\u001b[1;33m,\u001b[0m\u001b[0mlist_digits\u001b[0m\u001b[1;33m[\u001b[0m\u001b[0mint\u001b[0m\u001b[1;33m(\u001b[0m\u001b[0mnum_1\u001b[0m\u001b[1;33m[\u001b[0m\u001b[0mu\u001b[0m\u001b[1;33m]\u001b[0m\u001b[1;33m)\u001b[0m\u001b[1;33m]\u001b[0m\u001b[1;33m,\u001b[0m\u001b[0mpadding\u001b[0m\u001b[1;33m,\u001b[0m\u001b[1;36m35\u001b[0m\u001b[1;33m,\u001b[0m\u001b[1;36m40\u001b[0m\u001b[1;33m)\u001b[0m\u001b[1;33m\u001b[0m\u001b[1;33m\u001b[0m\u001b[0m\n\u001b[0m\u001b[0;32m    304\u001b[0m                 \u001b[0mbounding_box\u001b[0m\u001b[1;33m.\u001b[0m\u001b[0mappend\u001b[0m\u001b[1;33m(\u001b[0m\u001b[0mnew_bounding_box\u001b[0m\u001b[1;33m)\u001b[0m\u001b[1;33m\u001b[0m\u001b[1;33m\u001b[0m\u001b[0m\n\u001b[0;32m    305\u001b[0m                 \u001b[0mclass_names\u001b[0m\u001b[1;33m.\u001b[0m\u001b[0mappend\u001b[0m\u001b[1;33m(\u001b[0m\u001b[0mnum_1\u001b[0m\u001b[1;33m[\u001b[0m\u001b[0mu\u001b[0m\u001b[1;33m]\u001b[0m\u001b[1;33m)\u001b[0m\u001b[1;33m\u001b[0m\u001b[1;33m\u001b[0m\u001b[0m\n",
            "\u001b[1;32m~\\AppData\\Local\\Temp/ipykernel_12740/3056120733.py\u001b[0m in \u001b[0;36madd_symbol_to_image\u001b[1;34m(img, folder, choices, padding, minsize, maxsize, bpower, bsmall, bnom, bden, width, change_padding)\u001b[0m\n\u001b[0;32m     58\u001b[0m     \u001b[0mymin\u001b[0m\u001b[1;33m,\u001b[0m \u001b[0mymax\u001b[0m \u001b[1;33m=\u001b[0m \u001b[0mbounding_box\u001b[0m\u001b[1;33m[\u001b[0m\u001b[1;34m'ymin'\u001b[0m\u001b[1;33m]\u001b[0m\u001b[1;33m,\u001b[0m\u001b[0mbounding_box\u001b[0m\u001b[1;33m[\u001b[0m\u001b[1;34m'ymax'\u001b[0m\u001b[1;33m]\u001b[0m\u001b[1;33m\u001b[0m\u001b[1;33m\u001b[0m\u001b[0m\n\u001b[0;32m     59\u001b[0m \u001b[1;33m\u001b[0m\u001b[0m\n\u001b[1;32m---> 60\u001b[1;33m     \u001b[0mimg\u001b[0m\u001b[1;33m[\u001b[0m\u001b[0mymin\u001b[0m\u001b[1;33m:\u001b[0m\u001b[0mymax\u001b[0m\u001b[1;33m,\u001b[0m\u001b[0mxmin\u001b[0m\u001b[1;33m:\u001b[0m\u001b[0mxmax\u001b[0m\u001b[1;33m]\u001b[0m \u001b[1;33m+=\u001b[0m \u001b[0minvert\u001b[0m\u001b[1;33m(\u001b[0m\u001b[0msymbol_img_res\u001b[0m\u001b[1;33m)\u001b[0m\u001b[1;33m+\u001b[0m\u001b[1;36m254\u001b[0m\u001b[1;33m\u001b[0m\u001b[1;33m\u001b[0m\u001b[0m\n\u001b[0m\u001b[0;32m     61\u001b[0m     \u001b[1;32mif\u001b[0m \u001b[0mchange_padding\u001b[0m\u001b[1;33m==\u001b[0m\u001b[1;32mTrue\u001b[0m\u001b[1;33m:\u001b[0m\u001b[1;33m\u001b[0m\u001b[1;33m\u001b[0m\u001b[0m\n\u001b[0;32m     62\u001b[0m         \u001b[0mpadding\u001b[0m \u001b[1;33m+=\u001b[0m \u001b[0mnew_width\u001b[0m\u001b[1;33m+\u001b[0m\u001b[0mnp\u001b[0m\u001b[1;33m.\u001b[0m\u001b[0mrandom\u001b[0m\u001b[1;33m.\u001b[0m\u001b[0mrandint\u001b[0m\u001b[1;33m(\u001b[0m\u001b[1;36m2\u001b[0m\u001b[1;33m,\u001b[0m\u001b[1;36m5\u001b[0m\u001b[1;33m)\u001b[0m\u001b[1;33m\u001b[0m\u001b[1;33m\u001b[0m\u001b[0m\n",
            "\u001b[1;31mValueError\u001b[0m: operands could not be broadcast together with shapes (37,12) (37,28) (37,12) "
          ]
        }
      ]
    },
    {
      "cell_type": "code",
      "source": "list_digits = []\nfor i in range(10):\n    list_digits.append(listdir(read_path+\"/\"+str(i)))\nlist_plus = listdir(read_path+\"/+\")\nlist_minus = listdir(read_path+\"/-\")\nlist_leq = listdir(read_path+\"/leq\")\nlist_geq = listdir(read_path+\"/geq\")\nlist_neq = listdir(read_path+\"/neq\")\nlist_equal = listdir(read_path+\"/=\")\n\nlist_alpha = listdir(read_path+\"/alpha\")\nlist_beta = listdir(read_path+\"/beta\")\nlist_x = listdir(read_path+\"/x\")\nlist_y = listdir(read_path+\"/y\")\n\nif train: \n    for i in range(10):\n        list_digits[i] = list_digits[i][len(list_digits[i])//4:]\n    list_plus = list_plus[len(list_plus)//4:]\n    list_minus = list_minus[len(list_minus)//4:]\n    list_leq = list_leq[len(list_leq)//4:]\n    list_geq = list_geq[len(list_geq)//4:]\n    list_neq = list_neq[len(list_neq)//4:]\n    list_equal = list_equal[len(list_equal)//4:]\n    list_alpha = list_alpha[len(list_alpha)//4:]\n    list_beta = list_beta[len(list_beta)//4:]\n    list_x = list_x[len(list_x)//4:]\n    list_y = list_y[len(list_y)//4:]\nelse:\n    for i in range(10):\n        list_digits[i] = list_digits[i][:len(list_digits[i])//4]\n    list_plus = list_plus[:len(list_plus)//4]\n    list_minus = list_minus[:len(list_minus)//4]\n    list_leq = list_leq[:len(list_leq)//4]\n    list_geq = list_geq[:len(list_geq)//4]\n    list_neq = list_neq[:len(list_neq)//4]\n    list_equal = list_equal[:len(list_equal)//4]\n    list_alpha = list_alpha[:len(list_alpha)//4]\n    list_beta = list_beta[:len(list_beta)//4]\n    list_x = list_x[:len(list_x)//4]\n    list_y = list_y[:len(list_y)//4]\n\nlist_mid = [list_minus,list_plus]\nlist_end = [list_leq,list_geq,list_neq,list_equal]  \nlist_variables = [list_alpha,list_beta,list_x,list_y]\nvar_names = [\"#alpha\",\"#beta\",\"x\",\"y\"]\n    \n# os.mkdir(write_path_add)\nbounding_boxes = []\nfor i in range(2000):\n    random_name = str(np.random.randint(1,99999))\n    img = np.zeros((200,60*(4+4+4)))\n    rand_num_1 = np.random.randint(1,1000)\n    rand_num_1_1 = np.random.randint(1,1000)\n    rand_num_2 = np.random.randint(1,1000)\n    mid = np.random.randint(2)\n    if mid:\n        mid_str = \"+\"\n        result = rand_num_1+rand_num_2\n    else:\n        mid_str = \"-\"\n        result = rand_num_1-rand_num_2\n    result_type = np.random.randint(4)\n    if result_type == 0:\n        end_str = \" #leq \"\n        result += np.random.randint(100)\n    elif result_type == 1:\n        end_str = \" #geq \"\n        result -= np.random.randint(100)\n    elif result_type == 2:\n        end_str = \" #neq \"\n        result += 1+np.random.randint(100)\n    else:\n        end_str = \" = \"\n    if end_str != \" = \":\n        var_type = np.random.randint(len(list_variables))\n        var = var_names[var_type]\n        exp = \"^\"+str(np.random.randint(2,5))\n    else:\n        var = \"\"\n        exp = \"\"\n    \n    rand_num_1_str = str(rand_num_1)\n    rand_num_1_1_str = str(rand_num_1_1)\n    rand_num_2_str = str(rand_num_2)\n    result_str = str(result)\n    num_strs = [rand_num_1_str,rand_num_1_1_str,rand_num_2_str,result_str]\n    filename = \"#frac{\"+rand_num_1_str+\"}{\"+rand_num_1_1_str+\"}\"+var+exp+mid_str+rand_num_2_str+end_str+result_str+\"_\"+random_name+\".jpg\"\n    print(\"Filename: \", filename)\n    bounding_box = [{'filename': filename}]\n    padding = 5\n    padding_den = 5\n    start_padding = 5\n    class_names = []\n    for k in range(len(num_strs)):\n        for j in range(len(num_strs[k])):   \n            if j == 0 and num_strs[k][0] == '-':\n                img, padding, new_bounding_box = add_symbol_to_image(img,'-',list_minus,padding,39,45)\n                bounding_box.append(new_bounding_box)\n                class_names.append('-')\n            elif k == 0:\n                digit = int(num_strs[k][j])\n                img, padding, new_bounding_box = add_symbol_to_image(img,str(digit),list_digits[digit],\n                                                                     padding,40,45,bnom=True)\n                bounding_box.append(new_bounding_box)\n                class_names.append(str(digit))\n            elif k == 1:\n                digit = int(num_strs[k][j])\n                img, padding_den, new_bounding_box = add_symbol_to_image(img,str(digit),list_digits[digit],\n                                                                     padding_den,40,45,bden=True)\n                bounding_box.append(new_bounding_box)\n                class_names.append(str(digit))\n            else:               \n                digit = int(num_strs[k][j])\n                img, padding, new_bounding_box = add_symbol_to_image(img,str(digit),list_digits[digit],\n                                                                     padding,55,60)\n                bounding_box.append(new_bounding_box)\n                class_names.append(str(digit))\n        if k == 1:\n            mpad = padding if padding > padding_den else padding_den\n            img, padding, new_bounding_box = add_symbol_to_image(img,'-',list_minus,start_padding,39,45,\n                                                                 width=mpad-start_padding)\n            bounding_box.append(new_bounding_box)\n            class_names.append('-')\n        if k == 1:\n            if var != \"\":\n                var_str_crop = var.strip()\n                var_str_crop = var_str_crop.replace(\"#\",\"\")\n                img, padding, new_bounding_box = add_symbol_to_image(img,var_str_crop,list_variables[var_type],\n                                                                     padding,40,45,bsmall=True)\n                bounding_box.append(new_bounding_box)\n                class_names.append(var_str_crop)\n                \n                pdigit = int(exp[1:])\n                img, padding, new_bounding_box = add_symbol_to_image(img,str(pdigit),list_digits[pdigit],\n                                                                     padding,35,40,bpower=True)\n                bounding_box.append(new_bounding_box)\n                class_names.append(exp[1:])\n                \n            img, padding, new_bounding_box = add_symbol_to_image(img,mid_str,list_mid[mid],\n                                                                     padding,39,54)\n            bounding_box.append(new_bounding_box)\n            class_names.append(mid_str)\n        elif k == 2:\n            end_str_crop = end_str.strip()\n            end_str_crop = end_str_crop.replace(\"#\",\"\")\n            img, padding, new_bounding_box = add_symbol_to_image(img,end_str_crop,list_end[result_type],\n                                                                     padding,39,54)\n            bounding_box.append(new_bounding_box)\n            class_names.append(end_str_crop)\n            \n    bounding_boxes.append(bounding_box)\n    img = invert(img)+254\n#     plt.figure(figsize=(20,10))\n#     plt.imshow(img, cmap=\"gray\")\n#     plt.show()\n    \"\"\"\n    for bb,cname in zip(bounding_box[1:],class_names):\n        xmin, xmax = bb['xmin'], bb['xmax']\n        ymin, ymax = bb['ymin'], bb['ymax']\n    \n        normed = normalize_single(img[ymin:ymax+1,xmin:xmax+1])\n        r = np.random.randint(9999)\n        io.imsave(write_single_path+\"/\"+cname+\"/\"+cname+\"_\"+str(r)+\".jpg\", normed)\n    \"\"\"\n    io.imsave(formula_path+\"/\"+filename, img/255)\n    print(\"Finished: \", i)",
      "metadata": {},
      "execution_count": 22,
      "outputs": [
        {
          "name": "stderr",
          "output_type": "stream",
          "text": "Lossy conversion from float64 to uint8. Range [0, 1]. Convert image to uint8 prior to saving to suppress this warning.\n"
        },
        {
          "name": "stdout",
          "output_type": "stream",
          "text": "Filename:  #frac{288}{483}#beta^3+472 #geq 715_88765.jpg\n\nFinished:  0\n\nFilename:  #frac{978}{112}#alpha^4+413 #geq 1327_49640.jpg\n"
        },
        {
          "name": "stderr",
          "output_type": "stream",
          "text": "Lossy conversion from float64 to uint8. Range [0, 1]. Convert image to uint8 prior to saving to suppress this warning.\n\nLossy conversion from float64 to uint8. Range [0, 1]. Convert image to uint8 prior to saving to suppress this warning.\n\nLossy conversion from float64 to uint8. Range [0, 1]. Convert image to uint8 prior to saving to suppress this warning.\n\nLossy conversion from float64 to uint8. Range [0, 1]. Convert image to uint8 prior to saving to suppress this warning.\n"
        },
        {
          "name": "stdout",
          "output_type": "stream",
          "text": "Finished:  1\n\nFilename:  #frac{291}{917}#beta^4+490 #neq 857_28405.jpg\n\nFinished:  2\n\nFilename:  #frac{869}{742}x^2+728 #leq 1688_21416.jpg\n\nFinished:  3\n\nFilename:  #frac{558}{960}x^3+674 #neq 1321_86649.jpg\n"
        },
        {
          "name": "stderr",
          "output_type": "stream",
          "text": "Lossy conversion from float64 to uint8. Range [0, 1]. Convert image to uint8 prior to saving to suppress this warning.\n"
        },
        {
          "name": "stdout",
          "output_type": "stream",
          "text": "Finished:  4\n\nFilename:  #frac{807}{62}y^2+433 #neq 1274_31879.jpg\n\nFinished:  5\n\nFilename:  #frac{968}{67}#beta^2+868 #leq 1887_77108.jpg\n"
        },
        {
          "name": "stderr",
          "output_type": "stream",
          "text": "Lossy conversion from float64 to uint8. Range [0, 1]. Convert image to uint8 prior to saving to suppress this warning.\n\nLossy conversion from float64 to uint8. Range [0, 1]. Convert image to uint8 prior to saving to suppress this warning.\n\nLossy conversion from float64 to uint8. Range [0, 1]. Convert image to uint8 prior to saving to suppress this warning.\n"
        },
        {
          "name": "stdout",
          "output_type": "stream",
          "text": "Finished:  6\n\nFilename:  #frac{162}{128}y^2+973 #neq 1181_67763.jpg\n\nFinished:  7\n\nFilename:  #frac{811}{108}x^3-878 #neq -10_45292.jpg\n\nFinished:  8\n"
        },
        {
          "name": "stderr",
          "output_type": "stream",
          "text": "Lossy conversion from float64 to uint8. Range [0, 1]. Convert image to uint8 prior to saving to suppress this warning.\n\nLossy conversion from float64 to uint8. Range [0, 1]. Convert image to uint8 prior to saving to suppress this warning.\n"
        },
        {
          "name": "stdout",
          "output_type": "stream",
          "text": "Filename:  #frac{866}{535}#beta^4+144 #geq 913_74350.jpg\n\nFinished:  9\n\nFilename:  #frac{838}{139}#alpha^3-419 #geq 389_52847.jpg\n\nFinished:  10\n\nFilename:  #frac{64}{841}y^3-572 #neq -447_54126.jpg\n"
        },
        {
          "name": "stderr",
          "output_type": "stream",
          "text": "Lossy conversion from float64 to uint8. Range [0, 1]. Convert image to uint8 prior to saving to suppress this warning.\n\nLossy conversion from float64 to uint8. Range [0, 1]. Convert image to uint8 prior to saving to suppress this warning.\n\nLossy conversion from float64 to uint8. Range [0, 1]. Convert image to uint8 prior to saving to suppress this warning.\n"
        },
        {
          "name": "stdout",
          "output_type": "stream",
          "text": "Finished:  11\n\nFilename:  #frac{263}{968}#beta^3-500 #leq -183_61600.jpg\n\nFinished:  12\n\nFilename:  #frac{106}{909}#alpha^4+999 #neq 1173_12639.jpg\n\nFinished:  13\n\nFilename:  #frac{162}{739}y^2+897 #leq 1144_90677.jpg\n"
        },
        {
          "name": "stderr",
          "output_type": "stream",
          "text": "Lossy conversion from float64 to uint8. Range [0, 1]. Convert image to uint8 prior to saving to suppress this warning.\n\nLossy conversion from float64 to uint8. Range [0, 1]. Convert image to uint8 prior to saving to suppress this warning.\n\nLossy conversion from float64 to uint8. Range [0, 1]. Convert image to uint8 prior to saving to suppress this warning.\n\nLossy conversion from float64 to uint8. Range [0, 1]. Convert image to uint8 prior to saving to suppress this warning.\n"
        },
        {
          "name": "stdout",
          "output_type": "stream",
          "text": "Finished:  14\n\nFilename:  #frac{404}{234}#alpha^2-261 #geq 89_32378.jpg\n\nFinished:  15\n\nFilename:  #frac{625}{51}x^2+643 #neq 1278_35555.jpg\n\nFinished:  16\n\nFilename:  #frac{463}{66}x^2+352 #geq 736_13233.jpg\n"
        },
        {
          "name": "stderr",
          "output_type": "stream",
          "text": "Lossy conversion from float64 to uint8. Range [0, 1]. Convert image to uint8 prior to saving to suppress this warning.\n\nLossy conversion from float64 to uint8. Range [0, 1]. Convert image to uint8 prior to saving to suppress this warning.\n\nLossy conversion from float64 to uint8. Range [0, 1]. Convert image to uint8 prior to saving to suppress this warning.\n"
        },
        {
          "name": "stdout",
          "output_type": "stream",
          "text": "Finished:  17\n\nFilename:  #frac{904}{74}-463 = 441_1370.jpg\n\nFinished:  18\n\nFilename:  #frac{749}{796}-572 = 177_40740.jpg\n\nFinished:  19\n\nFilename:  #frac{301}{311}#alpha^3+493 #geq 783_42009.jpg\n"
        },
        {
          "name": "stderr",
          "output_type": "stream",
          "text": "Lossy conversion from float64 to uint8. Range [0, 1]. Convert image to uint8 prior to saving to suppress this warning.\n\nLossy conversion from float64 to uint8. Range [0, 1]. Convert image to uint8 prior to saving to suppress this warning.\n\nLossy conversion from float64 to uint8. Range [0, 1]. Convert image to uint8 prior to saving to suppress this warning.\n"
        },
        {
          "name": "stdout",
          "output_type": "stream",
          "text": "Finished:  20\n\nFilename:  #frac{549}{984}#beta^4-617 #geq -90_59370.jpg\n\nFinished:  21\n\nFilename:  #frac{620}{921}y^2+188 #neq 812_38415.jpg\n\nFinished:  22\n\nFilename:  #frac{519}{297}x^2-256 #leq 286_5396.jpg\n"
        },
        {
          "name": "stderr",
          "output_type": "stream",
          "text": "Lossy conversion from float64 to uint8. Range [0, 1]. Convert image to uint8 prior to saving to suppress this warning.\n"
        },
        {
          "name": "stdout",
          "output_type": "stream",
          "text": "Finished:  23\n\nFilename:  #frac{518}{597}+542 = 1060_87315.jpg\n\nFinished:  24\n\nFilename:  #frac{950}{554}y^3+537 #leq 1523_32483.jpg\n"
        },
        {
          "name": "stderr",
          "output_type": "stream",
          "text": "Lossy conversion from float64 to uint8. Range [0, 1]. Convert image to uint8 prior to saving to suppress this warning.\n\nLossy conversion from float64 to uint8. Range [0, 1]. Convert image to uint8 prior to saving to suppress this warning.\n\nLossy conversion from float64 to uint8. Range [0, 1]. Convert image to uint8 prior to saving to suppress this warning.\n"
        },
        {
          "name": "stdout",
          "output_type": "stream",
          "text": "Finished:  25\n\nFilename:  #frac{531}{492}y^2+350 #neq 937_17947.jpg\n\nFinished:  26\n\nFilename:  #frac{370}{538}y^2-945 #geq -614_97502.jpg\n\nFinished:  27\n\nFilename:  #frac{624}{985}#beta^2-400 #leq 292_65977.jpg\n"
        },
        {
          "name": "stderr",
          "output_type": "stream",
          "text": "Lossy conversion from float64 to uint8. Range [0, 1]. Convert image to uint8 prior to saving to suppress this warning.\n\nLossy conversion from float64 to uint8. Range [0, 1]. Convert image to uint8 prior to saving to suppress this warning.\n"
        },
        {
          "name": "stdout",
          "output_type": "stream",
          "text": "Finished:  28\n\nFilename:  #frac{59}{299}y^4+957 #leq 1052_69542.jpg\n\nFinished:  29\n\nFilename:  #frac{243}{71}-106 = 137_95088.jpg\n"
        },
        {
          "name": "stderr",
          "output_type": "stream",
          "text": "Lossy conversion from float64 to uint8. Range [0, 1]. Convert image to uint8 prior to saving to suppress this warning.\n\nLossy conversion from float64 to uint8. Range [0, 1]. Convert image to uint8 prior to saving to suppress this warning.\n\nLossy conversion from float64 to uint8. Range [0, 1]. Convert image to uint8 prior to saving to suppress this warning.\n"
        },
        {
          "name": "stdout",
          "output_type": "stream",
          "text": "Finished:  30\n\nFilename:  #frac{894}{588}+673 = 1567_27678.jpg\n\nFinished:  31\n\nFilename:  #frac{740}{8}y^2+753 #geq 1414_99713.jpg\n\nFinished:  32\n\nFilename:  #frac{438}{202}#alpha^2+321 #geq 719_84121.jpg\n"
        },
        {
          "name": "stderr",
          "output_type": "stream",
          "text": "Lossy conversion from float64 to uint8. Range [0, 1]. Convert image to uint8 prior to saving to suppress this warning.\n\nLossy conversion from float64 to uint8. Range [0, 1]. Convert image to uint8 prior to saving to suppress this warning.\n"
        },
        {
          "name": "stdout",
          "output_type": "stream",
          "text": "Finished:  33\n\nFilename:  #frac{891}{370}-839 = 52_25694.jpg\n\nFinished:  34\n\nFilename:  #frac{180}{160}-901 = -721_83860.jpg\n"
        },
        {
          "name": "stderr",
          "output_type": "stream",
          "text": "Lossy conversion from float64 to uint8. Range [0, 1]. Convert image to uint8 prior to saving to suppress this warning.\n\nLossy conversion from float64 to uint8. Range [0, 1]. Convert image to uint8 prior to saving to suppress this warning.\n\nLossy conversion from float64 to uint8. Range [0, 1]. Convert image to uint8 prior to saving to suppress this warning.\n"
        },
        {
          "name": "stdout",
          "output_type": "stream",
          "text": "Finished:  35\n\nFilename:  #frac{490}{376}+210 = 700_90957.jpg\n\nFinished:  36\n\nFilename:  #frac{829}{574}#beta^4+323 #neq 1211_79828.jpg\n\nFinished:  37\n\nFilename:  #frac{890}{858}#beta^2-542 #neq 439_12460.jpg\n"
        },
        {
          "name": "stderr",
          "output_type": "stream",
          "text": "Lossy conversion from float64 to uint8. Range [0, 1]. Convert image to uint8 prior to saving to suppress this warning.\n\nLossy conversion from float64 to uint8. Range [0, 1]. Convert image to uint8 prior to saving to suppress this warning.\n\nLossy conversion from float64 to uint8. Range [0, 1]. Convert image to uint8 prior to saving to suppress this warning.\n\nLossy conversion from float64 to uint8. Range [0, 1]. Convert image to uint8 prior to saving to suppress this warning.\n"
        },
        {
          "name": "stdout",
          "output_type": "stream",
          "text": "Finished:  38\n\nFilename:  #frac{60}{388}#alpha^2+322 #leq 411_36692.jpg\n\nFinished:  39\n\nFilename:  #frac{854}{556}y^2-301 #leq 629_17136.jpg\n\nFinished:  40\n\nFilename:  #frac{678}{430}y^2-552 #leq 223_64300.jpg\n"
        },
        {
          "name": "stderr",
          "output_type": "stream",
          "text": "Lossy conversion from float64 to uint8. Range [0, 1]. Convert image to uint8 prior to saving to suppress this warning.\n\nLossy conversion from float64 to uint8. Range [0, 1]. Convert image to uint8 prior to saving to suppress this warning.\n\nLossy conversion from float64 to uint8. Range [0, 1]. Convert image to uint8 prior to saving to suppress this warning.\n"
        },
        {
          "name": "stdout",
          "output_type": "stream",
          "text": "Finished:  41\n\nFilename:  #frac{811}{303}-144 = 667_30301.jpg\n\nFinished:  42\n\nFilename:  #frac{520}{330}y^2+503 #neq 1080_8122.jpg\n\nFinished:  43\n\nFilename:  #frac{404}{631}#beta^3+808 #geq 1121_33312.jpg\n"
        },
        {
          "name": "stderr",
          "output_type": "stream",
          "text": "Lossy conversion from float64 to uint8. Range [0, 1]. Convert image to uint8 prior to saving to suppress this warning.\n\nLossy conversion from float64 to uint8. Range [0, 1]. Convert image to uint8 prior to saving to suppress this warning.\n\nLossy conversion from float64 to uint8. Range [0, 1]. Convert image to uint8 prior to saving to suppress this warning.\n"
        },
        {
          "name": "stdout",
          "output_type": "stream",
          "text": "Finished:  44\n\nFilename:  #frac{233}{998}y^4-949 #leq -655_78097.jpg\n\nFinished:  45\n\nFilename:  #frac{221}{524}#alpha^2-600 #leq -289_6461.jpg\n\nFinished:  46\n\nFilename:  #frac{67}{770}x^4-438 #geq -377_64459.jpg\n"
        },
        {
          "name": "stderr",
          "output_type": "stream",
          "text": "Lossy conversion from float64 to uint8. Range [0, 1]. Convert image to uint8 prior to saving to suppress this warning.\n"
        },
        {
          "name": "stdout",
          "output_type": "stream",
          "text": "Finished:  47\n\nFilename:  #frac{37}{263}#beta^4+752 #leq 792_6572.jpg\n"
        },
        {
          "name": "stderr",
          "output_type": "stream",
          "text": "Lossy conversion from float64 to uint8. Range [0, 1]. Convert image to uint8 prior to saving to suppress this warning.\n\nLossy conversion from float64 to uint8. Range [0, 1]. Convert image to uint8 prior to saving to suppress this warning.\n"
        },
        {
          "name": "stdout",
          "output_type": "stream",
          "text": "Finished:  48\n\nFilename:  #frac{83}{305}y^3-83 #leq 73_88456.jpg\n\nFinished:  49\n\nFilename:  #frac{840}{696}+701 = 1541_64714.jpg\n\nFinished:  50\n\nFilename:  #frac{817}{561}x^3-24 #leq 826_90700.jpg\n"
        },
        {
          "name": "stderr",
          "output_type": "stream",
          "text": "Lossy conversion from float64 to uint8. Range [0, 1]. Convert image to uint8 prior to saving to suppress this warning.\n\nLossy conversion from float64 to uint8. Range [0, 1]. Convert image to uint8 prior to saving to suppress this warning.\n\nLossy conversion from float64 to uint8. Range [0, 1]. Convert image to uint8 prior to saving to suppress this warning.\n\nLossy conversion from float64 to uint8. Range [0, 1]. Convert image to uint8 prior to saving to suppress this warning.\n"
        },
        {
          "name": "stdout",
          "output_type": "stream",
          "text": "Finished:  51\n\nFilename:  #frac{475}{957}#beta^4+485 #geq 895_32770.jpg\n\nFinished:  52\n\nFilename:  #frac{594}{950}+208 = 802_25044.jpg\n\nFinished:  53\n\nFilename:  #frac{423}{418}#beta^4-839 #neq -321_26253.jpg\n"
        },
        {
          "name": "stderr",
          "output_type": "stream",
          "text": "Lossy conversion from float64 to uint8. Range [0, 1]. Convert image to uint8 prior to saving to suppress this warning.\n\nLossy conversion from float64 to uint8. Range [0, 1]. Convert image to uint8 prior to saving to suppress this warning.\n"
        },
        {
          "name": "stdout",
          "output_type": "stream",
          "text": "Finished:  54\n\nFilename:  #frac{801}{682}+364 = 1165_63743.jpg\n\nFinished:  55\n\nFilename:  #frac{822}{210}#alpha^3-294 #leq 549_19498.jpg\n\nFinished:  56\n\nFilename:  #frac{659}{411}y^4+212 #geq 790_88227.jpg\n"
        },
        {
          "name": "stderr",
          "output_type": "stream",
          "text": "Lossy conversion from float64 to uint8. Range [0, 1]. Convert image to uint8 prior to saving to suppress this warning.\n\nLossy conversion from float64 to uint8. Range [0, 1]. Convert image to uint8 prior to saving to suppress this warning.\n\nLossy conversion from float64 to uint8. Range [0, 1]. Convert image to uint8 prior to saving to suppress this warning.\n\nLossy conversion from float64 to uint8. Range [0, 1]. Convert image to uint8 prior to saving to suppress this warning.\n"
        },
        {
          "name": "stdout",
          "output_type": "stream",
          "text": "Finished:  57\n\nFilename:  #frac{121}{710}#alpha^2-579 #geq -462_20310.jpg\n\nFinished:  58\n\nFilename:  #frac{823}{32}#alpha^2-790 #leq 63_68156.jpg\n\nFinished:  59\n\nFilename:  #frac{371}{151}#beta^4+344 #neq 805_91277.jpg\n"
        },
        {
          "name": "stderr",
          "output_type": "stream",
          "text": "Lossy conversion from float64 to uint8. Range [0, 1]. Convert image to uint8 prior to saving to suppress this warning.\n"
        },
        {
          "name": "stdout",
          "output_type": "stream",
          "text": "Finished:  60\n\nFilename:  #frac{259}{725}#alpha^3-374 #geq -211_72716.jpg\n\nFinished:  61\n\nFilename:  #frac{309}{480}x^3-739 #leq -346_11546.jpg\n"
        },
        {
          "name": "stderr",
          "output_type": "stream",
          "text": "Lossy conversion from float64 to uint8. Range [0, 1]. Convert image to uint8 prior to saving to suppress this warning.\n\nLossy conversion from float64 to uint8. Range [0, 1]. Convert image to uint8 prior to saving to suppress this warning.\n\nLossy conversion from float64 to uint8. Range [0, 1]. Convert image to uint8 prior to saving to suppress this warning.\n\nLossy conversion from float64 to uint8. Range [0, 1]. Convert image to uint8 prior to saving to suppress this warning.\n"
        },
        {
          "name": "stdout",
          "output_type": "stream",
          "text": "Finished:  62\n\nFilename:  #frac{609}{980}x^3-506 #leq 116_16199.jpg\n\nFinished:  63\n\nFilename:  #frac{728}{307}#beta^4+520 #geq 1235_8945.jpg\n\nFinished:  64\n\nFilename:  #frac{830}{702}#beta^4+848 #neq 1742_22310.jpg\n"
        },
        {
          "name": "stderr",
          "output_type": "stream",
          "text": "Lossy conversion from float64 to uint8. Range [0, 1]. Convert image to uint8 prior to saving to suppress this warning.\n\nLossy conversion from float64 to uint8. Range [-0.875, 1.0]. Convert image to uint8 prior to saving to suppress this warning.\n"
        },
        {
          "name": "stdout",
          "output_type": "stream",
          "text": "Finished:  65\n\nFilename:  #frac{725}{350}#alpha^4+711 #leq 1462_85369.jpg\n\nFinished:  66\n\nFilename:  #frac{878}{407}+966 = 1844_29797.jpg\n"
        },
        {
          "name": "stderr",
          "output_type": "stream",
          "text": "Lossy conversion from float64 to uint8. Range [0, 1]. Convert image to uint8 prior to saving to suppress this warning.\n"
        },
        {
          "name": "stdout",
          "output_type": "stream",
          "text": "Finished:  67\n\nFilename:  #frac{223}{127}-509 = -286_68552.jpg\n\nFinished:  68\n\nFilename:  #frac{928}{525}+327 = 1255_18880.jpg\n"
        },
        {
          "name": "stderr",
          "output_type": "stream",
          "text": "Lossy conversion from float64 to uint8. Range [0, 1]. Convert image to uint8 prior to saving to suppress this warning.\n\nLossy conversion from float64 to uint8. Range [-0.0035883661220952054, 1.0]. Convert image to uint8 prior to saving to suppress this warning.\n\nLossy conversion from float64 to uint8. Range [0, 1]. Convert image to uint8 prior to saving to suppress this warning.\n\nLossy conversion from float64 to uint8. Range [0, 1]. Convert image to uint8 prior to saving to suppress this warning.\n"
        },
        {
          "name": "stdout",
          "output_type": "stream",
          "text": "Finished:  69\n\nFilename:  #frac{740}{184}y^4-886 #neq -125_25719.jpg\n\nFinished:  70\n\nFilename:  #frac{560}{601}y^4+984 #neq 1555_52381.jpg\n\nFinished:  71\n\nFilename:  #frac{451}{936}-102 = 349_81697.jpg\n"
        },
        {
          "name": "stderr",
          "output_type": "stream",
          "text": "Lossy conversion from float64 to uint8. Range [0, 1]. Convert image to uint8 prior to saving to suppress this warning.\n\nLossy conversion from float64 to uint8. Range [0, 1]. Convert image to uint8 prior to saving to suppress this warning.\n\nLossy conversion from float64 to uint8. Range [0, 1]. Convert image to uint8 prior to saving to suppress this warning.\n"
        },
        {
          "name": "stdout",
          "output_type": "stream",
          "text": "Finished:  72\n\nFilename:  #frac{527}{783}+726 = 1253_28198.jpg\n\nFinished:  73\n\nFilename:  #frac{80}{612}+409 = 489_33714.jpg\n\nFinished:  74\n\nFilename:  #frac{629}{862}-522 = 107_49162.jpg\n"
        },
        {
          "name": "stderr",
          "output_type": "stream",
          "text": "Lossy conversion from float64 to uint8. Range [0, 1]. Convert image to uint8 prior to saving to suppress this warning.\n"
        },
        {
          "name": "stdout",
          "output_type": "stream",
          "text": "Finished:  75\n\nFilename:  #frac{325}{193}y^4-570 #neq -150_46659.jpg\n\nFinished:  76\n\nFilename:  #frac{282}{899}+178 = 460_16769.jpg\n"
        },
        {
          "name": "stderr",
          "output_type": "stream",
          "text": "Lossy conversion from float64 to uint8. Range [0, 1]. Convert image to uint8 prior to saving to suppress this warning.\n\nLossy conversion from float64 to uint8. Range [0, 1]. Convert image to uint8 prior to saving to suppress this warning.\n\nLossy conversion from float64 to uint8. Range [0, 1]. Convert image to uint8 prior to saving to suppress this warning.\n\nLossy conversion from float64 to uint8. Range [0, 1]. Convert image to uint8 prior to saving to suppress this warning.\n"
        },
        {
          "name": "stdout",
          "output_type": "stream",
          "text": "Finished:  77\n\nFilename:  #frac{688}{302}#alpha^3+346 #leq 1110_74475.jpg\n\nFinished:  78\n\nFilename:  #frac{491}{273}#beta^3+228 #leq 806_12702.jpg\n\nFinished:  79\n\nFilename:  #frac{660}{991}x^3-651 #neq 92_13828.jpg\n\nFinished:  80\n\nFilename:  #frac{720}{983}#beta^3-625 #neq 145_27115.jpg\n"
        },
        {
          "name": "stderr",
          "output_type": "stream",
          "text": "Lossy conversion from float64 to uint8. Range [0, 1]. Convert image to uint8 prior to saving to suppress this warning.\n\nLossy conversion from float64 to uint8. Range [0, 1]. Convert image to uint8 prior to saving to suppress this warning.\n\nLossy conversion from float64 to uint8. Range [0, 1]. Convert image to uint8 prior to saving to suppress this warning.\n"
        },
        {
          "name": "stdout",
          "output_type": "stream",
          "text": "Finished:  81\n\nFilename:  #frac{182}{960}x^2+1 #geq 136_17496.jpg\n\nFinished:  82\n\nFilename:  #frac{855}{465}x^2-373 #neq 512_62228.jpg\n\nFinished:  83\n\nFilename:  #frac{325}{48}y^4-766 #geq -485_76236.jpg\n"
        },
        {
          "name": "stderr",
          "output_type": "stream",
          "text": "Lossy conversion from float64 to uint8. Range [0, 1]. Convert image to uint8 prior to saving to suppress this warning.\n\nLossy conversion from float64 to uint8. Range [0, 1]. Convert image to uint8 prior to saving to suppress this warning.\n\nLossy conversion from float64 to uint8. Range [0, 1]. Convert image to uint8 prior to saving to suppress this warning.\n"
        },
        {
          "name": "stdout",
          "output_type": "stream",
          "text": "Finished:  84\n\nFilename:  #frac{830}{670}x^2-962 #leq -55_39695.jpg\n\nFinished:  85\n\nFilename:  #frac{284}{128}#alpha^4-841 #geq -650_65070.jpg\n\nFinished:  86\n\nFilename:  #frac{555}{112}y^2+526 #leq 1159_17348.jpg\n"
        },
        {
          "name": "stderr",
          "output_type": "stream",
          "text": "Lossy conversion from float64 to uint8. Range [0, 1]. Convert image to uint8 prior to saving to suppress this warning.\n\nLossy conversion from float64 to uint8. Range [0, 1]. Convert image to uint8 prior to saving to suppress this warning.\n\nLossy conversion from float64 to uint8. Range [0, 1]. Convert image to uint8 prior to saving to suppress this warning.\n"
        },
        {
          "name": "stdout",
          "output_type": "stream",
          "text": "Finished:  87\n\nFilename:  #frac{656}{673}-938 = -282_79824.jpg\n\nFinished:  88\n\nFilename:  #frac{984}{697}y^4-137 #geq 831_90638.jpg\n"
        },
        {
          "name": "stderr",
          "output_type": "stream",
          "text": "Lossy conversion from float64 to uint8. Range [0, 1]. Convert image to uint8 prior to saving to suppress this warning.\n\nLossy conversion from float64 to uint8. Range [0, 1]. Convert image to uint8 prior to saving to suppress this warning.\n\nLossy conversion from float64 to uint8. Range [0, 1]. Convert image to uint8 prior to saving to suppress this warning.\n"
        },
        {
          "name": "stdout",
          "output_type": "stream",
          "text": "Finished:  89\n\nFilename:  #frac{766}{932}y^3+682 #neq 1538_90521.jpg\n\nFinished:  90\n\nFilename:  #frac{371}{350}#alpha^3-361 #neq 60_73455.jpg\n\nFinished:  91\n\nFilename:  #frac{86}{214}#beta^2-477 #geq -465_79969.jpg\n"
        },
        {
          "name": "stderr",
          "output_type": "stream",
          "text": "Lossy conversion from float64 to uint8. Range [0, 1]. Convert image to uint8 prior to saving to suppress this warning.\n\nLossy conversion from float64 to uint8. Range [0, 1]. Convert image to uint8 prior to saving to suppress this warning.\n\nLossy conversion from float64 to uint8. Range [0, 1]. Convert image to uint8 prior to saving to suppress this warning.\n"
        },
        {
          "name": "stdout",
          "output_type": "stream",
          "text": "Finished:  92\n\nFilename:  #frac{683}{362}#alpha^2-238 #neq 467_82334.jpg\n\nFinished:  93\n\nFilename:  #frac{873}{851}+775 = 1648_55460.jpg\n\nFinished:  94\n\nFilename:  #frac{402}{62}-977 = -575_18249.jpg\n"
        },
        {
          "name": "stderr",
          "output_type": "stream",
          "text": "Lossy conversion from float64 to uint8. Range [0, 1]. Convert image to uint8 prior to saving to suppress this warning.\n\nLossy conversion from float64 to uint8. Range [0, 1]. Convert image to uint8 prior to saving to suppress this warning.\n"
        },
        {
          "name": "stdout",
          "output_type": "stream",
          "text": "Finished:  95\n\nFilename:  #frac{718}{749}y^2-572 #neq 240_43354.jpg\n\nFinished:  96\n\nFilename:  #frac{686}{42}y^3+795 #geq 1414_55492.jpg\n\nFinished:  97\n\nFilename:  #frac{923}{997}#alpha^3+163 #neq 1161_10777.jpg\n"
        },
        {
          "name": "stderr",
          "output_type": "stream",
          "text": "Lossy conversion from float64 to uint8. Range [0, 1]. Convert image to uint8 prior to saving to suppress this warning.\n\nLossy conversion from float64 to uint8. Range [0, 1]. Convert image to uint8 prior to saving to suppress this warning.\n\nLossy conversion from float64 to uint8. Range [0, 1]. Convert image to uint8 prior to saving to suppress this warning.\n\nLossy conversion from float64 to uint8. Range [-0.22366962305986593, 1.0]. Convert image to uint8 prior to saving to suppress this warning.\n"
        },
        {
          "name": "stdout",
          "output_type": "stream",
          "text": "Finished:  98\n\nFilename:  #frac{688}{778}x^2-563 #leq 184_39286.jpg\n\nFinished:  99\n\nFilename:  #frac{153}{51}+379 = 532_6054.jpg\n\nFinished:  100\n\nFilename:  #frac{817}{835}#beta^2+598 #geq 1339_5668.jpg\n\nFinished:  101\n\nFilename:  #frac{882}{649}-927 = -45_98252.jpg\n"
        },
        {
          "name": "stderr",
          "output_type": "stream",
          "text": "Lossy conversion from float64 to uint8. Range [0, 1]. Convert image to uint8 prior to saving to suppress this warning.\n\nLossy conversion from float64 to uint8. Range [0, 1]. Convert image to uint8 prior to saving to suppress this warning.\n\nLossy conversion from float64 to uint8. Range [0, 1]. Convert image to uint8 prior to saving to suppress this warning.\n\nLossy conversion from float64 to uint8. Range [-0.4570270721925124, 1.0]. Convert image to uint8 prior to saving to suppress this warning.\n"
        },
        {
          "name": "stdout",
          "output_type": "stream",
          "text": "Finished:  102\n\nFilename:  #frac{415}{721}#beta^3-330 #geq 56_47885.jpg\n\nFinished:  103\n\nFilename:  #frac{355}{821}-182 = 173_23577.jpg\n\nFinished:  104\n\nFilename:  #frac{908}{741}+970 = 1878_78620.jpg\n"
        },
        {
          "name": "stderr",
          "output_type": "stream",
          "text": "Lossy conversion from float64 to uint8. Range [0, 1]. Convert image to uint8 prior to saving to suppress this warning.\n\nLossy conversion from float64 to uint8. Range [0, 1]. Convert image to uint8 prior to saving to suppress this warning.\n\nLossy conversion from float64 to uint8. Range [0, 1]. Convert image to uint8 prior to saving to suppress this warning.\n\nLossy conversion from float64 to uint8. Range [0, 1]. Convert image to uint8 prior to saving to suppress this warning.\n"
        },
        {
          "name": "stdout",
          "output_type": "stream",
          "text": "Finished:  105\n\nFilename:  #frac{853}{382}x^4-506 #geq 265_52179.jpg\n\nFinished:  106\n\nFilename:  #frac{997}{794}-994 = 3_37973.jpg\n\nFinished:  107\n\nFilename:  #frac{408}{831}+75 = 483_50156.jpg\n\nFinished:  108\n\nFilename:  #frac{532}{517}y^3-581 #neq 27_41673.jpg\n"
        },
        {
          "name": "stderr",
          "output_type": "stream",
          "text": "Lossy conversion from float64 to uint8. Range [0, 1]. Convert image to uint8 prior to saving to suppress this warning.\n\nLossy conversion from float64 to uint8. Range [0, 1]. Convert image to uint8 prior to saving to suppress this warning.\n\nLossy conversion from float64 to uint8. Range [-0.7292894747751167, 1.0]. Convert image to uint8 prior to saving to suppress this warning.\n"
        },
        {
          "name": "stdout",
          "output_type": "stream",
          "text": "Finished:  109\n\nFilename:  #frac{781}{358}+830 = 1611_11732.jpg\n\nFinished:  110\n\nFilename:  #frac{894}{833}x^3+450 #leq 1376_94593.jpg\n\nFinished:  111\n\nFilename:  #frac{721}{621}+896 = 1617_93012.jpg\n"
        },
        {
          "name": "stderr",
          "output_type": "stream",
          "text": "Lossy conversion from float64 to uint8. Range [0, 1]. Convert image to uint8 prior to saving to suppress this warning.\n\nLossy conversion from float64 to uint8. Range [0, 1]. Convert image to uint8 prior to saving to suppress this warning.\n"
        },
        {
          "name": "stdout",
          "output_type": "stream",
          "text": "Finished:  112\n\nFilename:  #frac{323}{892}+887 = 1210_41804.jpg\n\nFinished:  113\n\nFilename:  #frac{260}{78}x^4+437 #leq 740_64982.jpg\n\nFinished:  114\n\nFilename:  "
        },
        {
          "name": "stderr",
          "output_type": "stream",
          "text": "Lossy conversion from float64 to uint8. Range [0, 1]. Convert image to uint8 prior to saving to suppress this warning.\n"
        },
        {
          "name": "stdout",
          "output_type": "stream",
          "text": "#frac{943}{359}x^3-329 #leq 684_59139.jpg\n\nFinished:  115\n\nFilename:  #frac{18}{723}+186 = 204_70139.jpg\n"
        },
        {
          "name": "stderr",
          "output_type": "stream",
          "text": "Lossy conversion from float64 to uint8. Range [0, 1]. Convert image to uint8 prior to saving to suppress this warning.\n\nLossy conversion from float64 to uint8. Range [0, 1]. Convert image to uint8 prior to saving to suppress this warning.\n\nLossy conversion from float64 to uint8. Range [0, 1]. Convert image to uint8 prior to saving to suppress this warning.\n"
        },
        {
          "name": "stdout",
          "output_type": "stream",
          "text": "Finished:  116\n\nFilename:  #frac{466}{669}#alpha^2+194 #geq 657_91394.jpg\n\nFinished:  117\n\nFilename:  #frac{929}{908}x^2+920 #neq 1917_21592.jpg\n\nFinished:  118\n\nFilename:  #frac{614}{527}x^2+509 #neq 1141_18710.jpg\n"
        },
        {
          "name": "stderr",
          "output_type": "stream",
          "text": "Lossy conversion from float64 to uint8. Range [0, 1]. Convert image to uint8 prior to saving to suppress this warning.\n\nLossy conversion from float64 to uint8. Range [0, 1]. Convert image to uint8 prior to saving to suppress this warning.\n\nLossy conversion from float64 to uint8. Range [0, 1]. Convert image to uint8 prior to saving to suppress this warning.\n\nLossy conversion from float64 to uint8. Range [0, 1]. Convert image to uint8 prior to saving to suppress this warning.\n"
        },
        {
          "name": "stdout",
          "output_type": "stream",
          "text": "Finished:  119\n\nFilename:  #frac{152}{145}y^2+420 #neq 573_99315.jpg\n\nFinished:  120\n\nFilename:  #frac{805}{460}#alpha^2-133 #neq 684_35755.jpg\n\nFinished:  121\n\nFilename:  #frac{60}{779}+73 = 133_12759.jpg\n\nFinished:  122\n\nFilename:  #frac{363}{725}#alpha^3+846 #geq 1119_87296.jpg\n"
        },
        {
          "name": "stderr",
          "output_type": "stream",
          "text": "Lossy conversion from float64 to uint8. Range [0, 1]. Convert image to uint8 prior to saving to suppress this warning.\n\nLossy conversion from float64 to uint8. Range [0, 1]. Convert image to uint8 prior to saving to suppress this warning.\n\nLossy conversion from float64 to uint8. Range [0, 1]. Convert image to uint8 prior to saving to suppress this warning.\n"
        },
        {
          "name": "stdout",
          "output_type": "stream",
          "text": "Finished:  123\n\nFilename:  #frac{152}{895}#beta^2+660 #geq 739_36823.jpg\n\nFinished:  124\n\nFilename:  #frac{222}{769}+300 = 522_47857.jpg\n\nFinished:  125\n\nFilename:  #frac{862}{529}y^4-986 #leq -35_98051.jpg\n"
        },
        {
          "name": "stderr",
          "output_type": "stream",
          "text": "Lossy conversion from float64 to uint8. Range [0, 1]. Convert image to uint8 prior to saving to suppress this warning.\n\nLossy conversion from float64 to uint8. Range [0, 1]. Convert image to uint8 prior to saving to suppress this warning.\n\nLossy conversion from float64 to uint8. Range [0, 1]. Convert image to uint8 prior to saving to suppress this warning.\n\nLossy conversion from float64 to uint8. Range [0, 1]. Convert image to uint8 prior to saving to suppress this warning.\n"
        },
        {
          "name": "stdout",
          "output_type": "stream",
          "text": "Finished:  126\n\nFilename:  #frac{529}{731}y^2+351 #geq 848_77545.jpg\n\nFinished:  127\n\nFilename:  #frac{130}{926}y^4-844 #neq -666_66037.jpg\n\nFinished:  128\n\nFilename:  #frac{125}{237}y^3+196 #neq 420_2907.jpg\n\nFinished:  129\n\nFilename:  #frac{158}{738}#beta^4+321 #neq 499_91165.jpg\n"
        },
        {
          "name": "stderr",
          "output_type": "stream",
          "text": "Lossy conversion from float64 to uint8. Range [0, 1]. Convert image to uint8 prior to saving to suppress this warning.\n\nLossy conversion from float64 to uint8. Range [0, 1]. Convert image to uint8 prior to saving to suppress this warning.\n\nLossy conversion from float64 to uint8. Range [0, 1]. Convert image to uint8 prior to saving to suppress this warning.\n\nLossy conversion from float64 to uint8. Range [0, 1]. Convert image to uint8 prior to saving to suppress this warning.\n"
        },
        {
          "name": "stdout",
          "output_type": "stream",
          "text": "Finished:  130\n\nFilename:  #frac{194}{642}x^4+240 #geq 360_96786.jpg\n\nFinished:  131\n\nFilename:  #frac{888}{612}y^3-796 #leq 152_17735.jpg\n\nFinished:  132\n\nFilename:  #frac{480}{457}x^3-905 #neq -407_81186.jpg\n\nFinished:  "
        },
        {
          "name": "stderr",
          "output_type": "stream",
          "text": "Lossy conversion from float64 to uint8. Range [0, 1]. Convert image to uint8 prior to saving to suppress this warning.\n\nLossy conversion from float64 to uint8. Range [0, 1]. Convert image to uint8 prior to saving to suppress this warning.\n"
        },
        {
          "name": "stdout",
          "output_type": "stream",
          "text": "133\n\nFilename:  #frac{8}{226}x^2+802 #neq 848_69111.jpg\n\nFinished:  134\n\nFilename:  #frac{459}{554}y^2-181 #neq 299_5254.jpg\n\nFinished:  135\n\nFilename:  #frac{910}{197}+377 = 1287_65583.jpg\n"
        },
        {
          "name": "stderr",
          "output_type": "stream",
          "text": "Lossy conversion from float64 to uint8. Range [0, 1]. Convert image to uint8 prior to saving to suppress this warning.\n\nLossy conversion from float64 to uint8. Range [0, 1]. Convert image to uint8 prior to saving to suppress this warning.\n\nLossy conversion from float64 to uint8. Range [0, 1]. Convert image to uint8 prior to saving to suppress this warning.\n\nLossy conversion from float64 to uint8. Range [0, 1]. Convert image to uint8 prior to saving to suppress this warning.\n"
        },
        {
          "name": "stdout",
          "output_type": "stream",
          "text": "Finished:  136\n\nFilename:  #frac{100}{269}-405 = -305_93820.jpg\n\nFinished:  137\n\nFilename:  #frac{189}{263}#alpha^2+483 #geq 626_16817.jpg\n\nFinished:  138\n\nFilename:  #frac{171}{671}y^3-659 #geq -585_73404.jpg\n"
        },
        {
          "name": "stderr",
          "output_type": "stream",
          "text": "Lossy conversion from float64 to uint8. Range [0, 1]. Convert image to uint8 prior to saving to suppress this warning.\n\nLossy conversion from float64 to uint8. Range [0, 1]. Convert image to uint8 prior to saving to suppress this warning.\n"
        },
        {
          "name": "stdout",
          "output_type": "stream",
          "text": "Finished:  139\n\nFilename:  #frac{683}{310}y^3+888 #neq 1640_96481.jpg\n\nFinished:  140\n\nFilename:  #frac{166}{490}+774 = 940_52739.jpg\n\nFinished:  141\n\nFilename:  #frac{587}{414}x^2-80 #leq 545_27224.jpg\n"
        },
        {
          "name": "stderr",
          "output_type": "stream",
          "text": "Lossy conversion from float64 to uint8. Range [0, 1]. Convert image to uint8 prior to saving to suppress this warning.\n\nLossy conversion from float64 to uint8. Range [0, 1]. Convert image to uint8 prior to saving to suppress this warning.\n\nLossy conversion from float64 to uint8. Range [0, 1]. Convert image to uint8 prior to saving to suppress this warning.\n"
        },
        {
          "name": "stdout",
          "output_type": "stream",
          "text": "Finished:  142\n\nFilename:  #frac{447}{929}x^3-136 #geq 240_58955.jpg\n\nFinished:  143\n\nFilename:  #frac{66}{821}#alpha^4-615 #leq -498_14023.jpg\n\nFinished:  144\n\nFilename:  #frac{555}{121}x^4-280 #leq 342_32590.jpg\n"
        },
        {
          "name": "stderr",
          "output_type": "stream",
          "text": "Lossy conversion from float64 to uint8. Range [0, 1]. Convert image to uint8 prior to saving to suppress this warning.\n\nLossy conversion from float64 to uint8. Range [0, 1]. Convert image to uint8 prior to saving to suppress this warning.\n\nLossy conversion from float64 to uint8. Range [0, 1]. Convert image to uint8 prior to saving to suppress this warning.\n\nLossy conversion from float64 to uint8. Range [0, 1]. Convert image to uint8 prior to saving to suppress this warning.\n"
        },
        {
          "name": "stdout",
          "output_type": "stream",
          "text": "Finished:  145\n\nFilename:  #frac{934}{338}#alpha^2-644 #geq 235_98885.jpg\n\nFinished:  146\n\nFilename:  #frac{917}{344}+455 = 1372_32032.jpg\n\nFinished:  147\n\nFilename:  #frac{167}{662}y^4+888 #neq 1109_27923.jpg\n\nFinished:  148\n\nFilename:  #frac{237}{630}-558 = -321_75294.jpg\n"
        },
        {
          "name": "stderr",
          "output_type": "stream",
          "text": "Lossy conversion from float64 to uint8. Range [0, 1]. Convert image to uint8 prior to saving to suppress this warning.\n\nLossy conversion from float64 to uint8. Range [0, 1]. Convert image to uint8 prior to saving to suppress this warning.\n\nLossy conversion from float64 to uint8. Range [0, 1]. Convert image to uint8 prior to saving to suppress this warning.\n\nLossy conversion from float64 to uint8. Range [0, 1]. Convert image to uint8 prior to saving to suppress this warning.\n"
        },
        {
          "name": "stdout",
          "output_type": "stream",
          "text": "Finished:  149\n\nFilename:  #frac{65}{572}#beta^4+152 #geq 186_50208.jpg\n\nFinished:  150\n\nFilename:  #frac{723}{218}y^4-863 #geq -187_42045.jpg\n\nFinished:  151\n\nFilename:  #frac{22}{732}#alpha^2-389 #neq -303_87912.jpg\n\nFinished:  152\n\nFilename:  #frac{480}{918}y^2-464 #leq 41_84570.jpg\n"
        },
        {
          "name": "stderr",
          "output_type": "stream",
          "text": "Lossy conversion from float64 to uint8. Range [0, 1]. Convert image to uint8 prior to saving to suppress this warning.\n\nLossy conversion from float64 to uint8. Range [0, 1]. Convert image to uint8 prior to saving to suppress this warning.\n\nLossy conversion from float64 to uint8. Range [0, 1]. Convert image to uint8 prior to saving to suppress this warning.\n\nLossy conversion from float64 to uint8. Range [0, 1]. Convert image to uint8 prior to saving to suppress this warning.\n"
        },
        {
          "name": "stdout",
          "output_type": "stream",
          "text": "Finished:  153\n\nFilename:  #frac{558}{942}+559 = 1117_13647.jpg\n\nFinished:  154\n\nFilename:  #frac{983}{732}+940 = 1923_4709.jpg\n\nFinished:  155\n\nFilename:  #frac{963}{659}#beta^2+697 #leq 1710_57912.jpg\n\nFinished:  156\n\nFilename:  #frac{509}{532}x^4+767 #geq 1189_3927.jpg\n"
        },
        {
          "name": "stderr",
          "output_type": "stream",
          "text": "Lossy conversion from float64 to uint8. Range [0, 1]. Convert image to uint8 prior to saving to suppress this warning.\n\nLossy conversion from float64 to uint8. Range [0, 1]. Convert image to uint8 prior to saving to suppress this warning.\n\nLossy conversion from float64 to uint8. Range [0, 1]. Convert image to uint8 prior to saving to suppress this warning.\n"
        },
        {
          "name": "stdout",
          "output_type": "stream",
          "text": "Finished:  157\n\nFilename:  #frac{594}{97}x^3+990 #geq 1535_60155.jpg\n\nFinished:  158\n\nFilename:  #frac{398}{677}#alpha^3-756 #leq -351_93656.jpg\n"
        },
        {
          "name": "stderr",
          "output_type": "stream",
          "text": "Lossy conversion from float64 to uint8. Range [0, 1]. Convert image to uint8 prior to saving to suppress this warning.\n\nLossy conversion from float64 to uint8. Range [0, 1]. Convert image to uint8 prior to saving to suppress this warning.\n"
        },
        {
          "name": "stdout",
          "output_type": "stream",
          "text": "Finished:  159\n\nFilename:  #frac{135}{950}x^4-759 #neq -563_75611.jpg\n\nFinished:  160\n\nFilename:  #frac{990}{461}x^2-30 #neq 1039_87074.jpg\n"
        },
        {
          "name": "stderr",
          "output_type": "stream",
          "text": "Lossy conversion from float64 to uint8. Range [0, 1]. Convert image to uint8 prior to saving to suppress this warning.\n\nLossy conversion from float64 to uint8. Range [0, 1]. Convert image to uint8 prior to saving to suppress this warning.\n\nLossy conversion from float64 to uint8. Range [0, 1]. Convert image to uint8 prior to saving to suppress this warning.\n"
        },
        {
          "name": "stdout",
          "output_type": "stream",
          "text": "Finished:  161\n\nFilename:  #frac{279}{302}x^3+394 #leq 758_25740.jpg\n\nFinished:  162\n\nFilename:  #frac{133}{472}-2 = 131_60144.jpg\n\nFinished:  163\n\nFilename:  #frac{466}{449}+727 = 1193_42649.jpg\n\nFinished:  164\n\nFilename:  #frac{231}{348}y^4-29 #leq 237_57397.jpg\n"
        },
        {
          "name": "stderr",
          "output_type": "stream",
          "text": "Lossy conversion from float64 to uint8. Range [0, 1]. Convert image to uint8 prior to saving to suppress this warning.\n\nLossy conversion from float64 to uint8. Range [0, 1]. Convert image to uint8 prior to saving to suppress this warning.\n\nLossy conversion from float64 to uint8. Range [0, 1]. Convert image to uint8 prior to saving to suppress this warning.\n\nLossy conversion from float64 to uint8. Range [0, 1]. Convert image to uint8 prior to saving to suppress this warning.\n"
        },
        {
          "name": "stdout",
          "output_type": "stream",
          "text": "Finished:  165\n\nFilename:  #frac{360}{283}x^2-908 #leq -523_34079.jpg\n\nFinished:  166\n\nFilename:  #frac{201}{944}y^4-175 #geq -32_98355.jpg\n\nFinished:  167\n\nFilename:  #frac{436}{226}y^4-574 #leq -115_331.jpg\n\nFinished:  168\n"
        },
        {
          "name": "stderr",
          "output_type": "stream",
          "text": "Lossy conversion from float64 to uint8. Range [0, 1]. Convert image to uint8 prior to saving to suppress this warning.\n\nLossy conversion from float64 to uint8. Range [0, 1]. Convert image to uint8 prior to saving to suppress this warning.\n"
        },
        {
          "name": "stdout",
          "output_type": "stream",
          "text": "Filename:  #frac{897}{99}#alpha^3+383 #leq 1349_10010.jpg\n\nFinished:  169\n\nFilename:  #frac{330}{317}#beta^3+635 #neq 998_2267.jpg\n\nFinished:  170\n\nFilename:  #frac{77}{513}#alpha^3+553 #geq 536_70634.jpg\n"
        },
        {
          "name": "stderr",
          "output_type": "stream",
          "text": "Lossy conversion from float64 to uint8. Range [0, 1]. Convert image to uint8 prior to saving to suppress this warning.\n\nLossy conversion from float64 to uint8. Range [0, 1]. Convert image to uint8 prior to saving to suppress this warning.\n\nLossy conversion from float64 to uint8. Range [0, 1]. Convert image to uint8 prior to saving to suppress this warning.\n\nLossy conversion from float64 to uint8. Range [0, 1]. Convert image to uint8 prior to saving to suppress this warning.\n"
        },
        {
          "name": "stdout",
          "output_type": "stream",
          "text": "Finished:  171\n\nFilename:  #frac{373}{128}#alpha^4+753 #neq 1219_37021.jpg\n\nFinished:  172\n\nFilename:  #frac{697}{893}#alpha^3-794 #geq -167_53582.jpg\n\nFinished:  173\n\nFilename:  #frac{407}{466}x^3-185 #geq 184_47252.jpg\n"
        },
        {
          "name": "stderr",
          "output_type": "stream",
          "text": "Lossy conversion from float64 to uint8. Range [0, 1]. Convert image to uint8 prior to saving to suppress this warning.\n\nLossy conversion from float64 to uint8. Range [0, 1]. Convert image to uint8 prior to saving to suppress this warning.\n\nLossy conversion from float64 to uint8. Range [0, 1]. Convert image to uint8 prior to saving to suppress this warning.\n"
        },
        {
          "name": "stdout",
          "output_type": "stream",
          "text": "Finished:  174\n\nFilename:  #frac{159}{477}#beta^3+283 #leq 465_29942.jpg\n\nFinished:  175\n\nFilename:  #frac{972}{473}y^2-434 #geq 458_70078.jpg\n\nFinished:  176\n\nFilename:  #frac{458}{904}x^3-714 #geq -294_1669.jpg\n"
        },
        {
          "name": "stderr",
          "output_type": "stream",
          "text": "Lossy conversion from float64 to uint8. Range [0, 1]. Convert image to uint8 prior to saving to suppress this warning.\n\nLossy conversion from float64 to uint8. Range [0, 1]. Convert image to uint8 prior to saving to suppress this warning.\n"
        },
        {
          "name": "stdout",
          "output_type": "stream",
          "text": "Finished:  177\n\nFilename:  #frac{237}{203}+19 = 256_32878.jpg\n\nFinished:  178\n\nFilename:  #frac{578}{995}y^4+850 #leq 1487_64398.jpg\n\nFinished:  179\n\nFilename:  #frac{91}{622}#alpha^3-106 #leq 16_49977.jpg\n"
        },
        {
          "name": "stderr",
          "output_type": "stream",
          "text": "Lossy conversion from float64 to uint8. Range [0, 1]. Convert image to uint8 prior to saving to suppress this warning.\n\nLossy conversion from float64 to uint8. Range [0, 1]. Convert image to uint8 prior to saving to suppress this warning.\n\nLossy conversion from float64 to uint8. Range [0, 1]. Convert image to uint8 prior to saving to suppress this warning.\n\nLossy conversion from float64 to uint8. Range [-0.05054674099485376, 1.0]. Convert image to uint8 prior to saving to suppress this warning.\n"
        },
        {
          "name": "stdout",
          "output_type": "stream",
          "text": "Finished:  180\n\nFilename:  #frac{679}{824}#beta^4+402 #leq 1140_92967.jpg\n\nFinished:  181\n\nFilename:  #frac{971}{415}x^4+494 #geq 1405_90132.jpg\n\nFinished:  182\n\nFilename:  #frac{452}{571}#beta^3+654 #geq 1034_30944.jpg\n"
        },
        {
          "name": "stderr",
          "output_type": "stream",
          "text": "Lossy conversion from float64 to uint8. Range [0, 1]. Convert image to uint8 prior to saving to suppress this warning.\n\nLossy conversion from float64 to uint8. Range [0, 1]. Convert image to uint8 prior to saving to suppress this warning.\n"
        },
        {
          "name": "stdout",
          "output_type": "stream",
          "text": "Finished:  183\n\nFilename:  #frac{43}{656}#alpha^2+683 #neq 821_50128.jpg\n\nFinished:  184\n\nFilename:  #frac{500}{826}y^3-37 #leq 548_22276.jpg\n\nFinished:  185\n\nFilename:  #frac{22}{773}y^2-456 #leq -398_50525.jpg\n"
        },
        {
          "name": "stderr",
          "output_type": "stream",
          "text": "Lossy conversion from float64 to uint8. Range [0, 1]. Convert image to uint8 prior to saving to suppress this warning.\n\nLossy conversion from float64 to uint8. Range [0, 1]. Convert image to uint8 prior to saving to suppress this warning.\n\nLossy conversion from float64 to uint8. Range [0, 1]. Convert image to uint8 prior to saving to suppress this warning.\n"
        },
        {
          "name": "stdout",
          "output_type": "stream",
          "text": "Finished:  186\n\nFilename:  #frac{456}{715}#beta^4-906 #geq -459_80526.jpg\n\nFinished:  187\n\nFilename:  #frac{925}{885}x^3+145 #leq 1138_80240.jpg\n\nFinished:  188\n\nFilename:  #frac{568}{148}#alpha^4+430 #geq 929_41244.jpg\n"
        },
        {
          "name": "stderr",
          "output_type": "stream",
          "text": "Lossy conversion from float64 to uint8. Range [0, 1]. Convert image to uint8 prior to saving to suppress this warning.\n\nLossy conversion from float64 to uint8. Range [0, 1]. Convert image to uint8 prior to saving to suppress this warning.\n\nLossy conversion from float64 to uint8. Range [0, 1]. Convert image to uint8 prior to saving to suppress this warning.\n\nLossy conversion from float64 to uint8. Range [0, 1]. Convert image to uint8 prior to saving to suppress this warning.\n"
        },
        {
          "name": "stdout",
          "output_type": "stream",
          "text": "Finished:  189\n\nFilename:  #frac{431}{101}+636 = 1067_77876.jpg\n\nFinished:  190\n\nFilename:  #frac{281}{764}#beta^4-961 #geq -745_40456.jpg\n\nFinished:  191\n\nFilename:  #frac{309}{853}-541 = -232_93109.jpg\n"
        },
        {
          "name": "stderr",
          "output_type": "stream",
          "text": "Lossy conversion from float64 to uint8. Range [0, 1]. Convert image to uint8 prior to saving to suppress this warning.\n\nLossy conversion from float64 to uint8. Range [0, 1]. Convert image to uint8 prior to saving to suppress this warning.\n\nLossy conversion from float64 to uint8. Range [0, 1]. Convert image to uint8 prior to saving to suppress this warning.\n"
        },
        {
          "name": "stdout",
          "output_type": "stream",
          "text": "Finished:  192\n\nFilename:  #frac{358}{504}-678 = -320_83013.jpg\n\nFinished:  193\n\nFilename:  #frac{316}{360}#beta^4+202 #leq 526_87199.jpg\n\nFinished:  194\n\nFilename:  #frac{741}{650}#beta^3-758 #neq 56_63552.jpg\n"
        },
        {
          "name": "stderr",
          "output_type": "stream",
          "text": "Lossy conversion from float64 to uint8. Range [0, 1]. Convert image to uint8 prior to saving to suppress this warning.\n\nLossy conversion from float64 to uint8. Range [0, 1]. Convert image to uint8 prior to saving to suppress this warning.\n\nLossy conversion from float64 to uint8. Range [-0.7793445121951219, 1.0]. Convert image to uint8 prior to saving to suppress this warning.\n"
        },
        {
          "name": "stdout",
          "output_type": "stream",
          "text": "Finished:  195\n\nFilename:  #frac{56}{730}y^2+237 #geq 257_29822.jpg\n\nFinished:  196\n\nFilename:  #frac{724}{789}y^2-128 #neq 678_36332.jpg\n\nFinished:  197\n\nFilename:  #frac{248}{618}+93 = 341_71980.jpg\n\nFinished:  198\n\nFilename:  #frac{943}{813}#beta^2+302 #leq 1312_45578.jpg\n"
        },
        {
          "name": "stderr",
          "output_type": "stream",
          "text": "Lossy conversion from float64 to uint8. Range [0, 1]. Convert image to uint8 prior to saving to suppress this warning.\n\nLossy conversion from float64 to uint8. Range [0, 1]. Convert image to uint8 prior to saving to suppress this warning.\n\nLossy conversion from float64 to uint8. Range [0, 1]. Convert image to uint8 prior to saving to suppress this warning.\n"
        },
        {
          "name": "stdout",
          "output_type": "stream",
          "text": "Finished:  199\n\nFilename:  #frac{112}{746}#beta^4-593 #geq -546_26645.jpg\n\nFinished:  200\n\nFilename:  #frac{627}{117}-654 = -27_76614.jpg\n\nFinished:  201\n\nFilename:  #frac{928}{230}+926 = 1854_79922.jpg\n"
        },
        {
          "name": "stderr",
          "output_type": "stream",
          "text": "Lossy conversion from float64 to uint8. Range [0, 1]. Convert image to uint8 prior to saving to suppress this warning.\n\nLossy conversion from float64 to uint8. Range [0, 1]. Convert image to uint8 prior to saving to suppress this warning.\n\nLossy conversion from float64 to uint8. Range [0, 1]. Convert image to uint8 prior to saving to suppress this warning.\n"
        },
        {
          "name": "stdout",
          "output_type": "stream",
          "text": "Finished:  202\n\nFilename:  #frac{280}{85}y^2+963 #neq 1336_30207.jpg\n\nFinished:  203\n\nFilename:  #frac{356}{804}-248 = 108_84138.jpg\n\nFinished:  204\n\nFilename:  #frac{319}{151}x^2-280 #geq -54_41462.jpg\n"
        },
        {
          "name": "stderr",
          "output_type": "stream",
          "text": "Lossy conversion from float64 to uint8. Range [0, 1]. Convert image to uint8 prior to saving to suppress this warning.\n\nLossy conversion from float64 to uint8. Range [0, 1]. Convert image to uint8 prior to saving to suppress this warning.\n"
        },
        {
          "name": "stdout",
          "output_type": "stream",
          "text": "Finished:  205\n\nFilename:  #frac{963}{884}#beta^2-833 #neq 190_84272.jpg\n\nFinished:  206\n\nFilename:  #frac{905}{619}x^3-218 #neq 746_67086.jpg\n"
        },
        {
          "name": "stderr",
          "output_type": "stream",
          "text": "Lossy conversion from float64 to uint8. Range [0, 1]. Convert image to uint8 prior to saving to suppress this warning.\n\nLossy conversion from float64 to uint8. Range [0, 1]. Convert image to uint8 prior to saving to suppress this warning.\n\nLossy conversion from float64 to uint8. Range [-0.0031889678948502087, 1.0]. Convert image to uint8 prior to saving to suppress this warning.\n"
        },
        {
          "name": "stdout",
          "output_type": "stream",
          "text": "Finished:  207\n\nFilename:  #frac{218}{711}#beta^2+40 #neq 300_52851.jpg\n\nFinished:  208\n\nFilename:  #frac{654}{583}#beta^3-35 #geq 559_235.jpg\n\nFinished:  209\n\nFilename:  #frac{213}{579}#alpha^2+348 #leq 639_12564.jpg\n"
        },
        {
          "name": "stderr",
          "output_type": "stream",
          "text": "Lossy conversion from float64 to uint8. Range [0, 1]. Convert image to uint8 prior to saving to suppress this warning.\n\nLossy conversion from float64 to uint8. Range [0, 1]. Convert image to uint8 prior to saving to suppress this warning.\n\nLossy conversion from float64 to uint8. Range [0, 1]. Convert image to uint8 prior to saving to suppress this warning.\n\nLossy conversion from float64 to uint8. Range [0, 1]. Convert image to uint8 prior to saving to suppress this warning.\n"
        },
        {
          "name": "stdout",
          "output_type": "stream",
          "text": "Finished:  210\n\nFilename:  #frac{380}{763}x^3-68 #leq 401_53606.jpg\n\nFinished:  211\n\nFilename:  #frac{462}{115}#alpha^3+101 #neq 613_78450.jpg\n\nFinished:  212\n\nFilename:  #frac{499}{738}#beta^4+544 #neq 1058_36340.jpg\n"
        },
        {
          "name": "stderr",
          "output_type": "stream",
          "text": "Lossy conversion from float64 to uint8. Range [0, 1]. Convert image to uint8 prior to saving to suppress this warning.\n\nLossy conversion from float64 to uint8. Range [0, 1]. Convert image to uint8 prior to saving to suppress this warning.\n\nLossy conversion from float64 to uint8. Range [0, 1]. Convert image to uint8 prior to saving to suppress this warning.\n"
        },
        {
          "name": "stdout",
          "output_type": "stream",
          "text": "Finished:  213\n\nFilename:  #frac{218}{380}y^2+193 #geq 374_21831.jpg\n\nFinished:  214\n\nFilename:  #frac{183}{703}#alpha^2-411 #geq -272_13695.jpg\n\nFinished:  215\n\nFilename:  #frac{102}{107}-731 = -629_52193.jpg\n"
        },
        {
          "name": "stderr",
          "output_type": "stream",
          "text": "Lossy conversion from float64 to uint8. Range [0, 1]. Convert image to uint8 prior to saving to suppress this warning.\n\nLossy conversion from float64 to uint8. Range [0, 1]. Convert image to uint8 prior to saving to suppress this warning.\n\nLossy conversion from float64 to uint8. Range [0, 1]. Convert image to uint8 prior to saving to suppress this warning.\n"
        },
        {
          "name": "stdout",
          "output_type": "stream",
          "text": "Finished:  216\n\nFilename:  #frac{394}{118}y^2-355 #neq 52_26350.jpg\n\nFinished:  217\n\nFilename:  #frac{559}{936}+408 = 967_34629.jpg\n\nFinished:  218\n\nFilename:  #frac{495}{998}#beta^3+221 #geq 680_43858.jpg\n"
        },
        {
          "name": "stderr",
          "output_type": "stream",
          "text": "Lossy conversion from float64 to uint8. Range [0, 1]. Convert image to uint8 prior to saving to suppress this warning.\n\nLossy conversion from float64 to uint8. Range [0, 1]. Convert image to uint8 prior to saving to suppress this warning.\n\nLossy conversion from float64 to uint8. Range [0, 1]. Convert image to uint8 prior to saving to suppress this warning.\n"
        },
        {
          "name": "stdout",
          "output_type": "stream",
          "text": "Finished:  219\n\nFilename:  #frac{593}{947}+570 = 1163_45628.jpg\n\nFinished:  220\n\nFilename:  #frac{814}{983}x^2-508 #neq 318_38643.jpg\n\nFinished:  221\n\nFilename:  #frac{525}{556}+817 = 1342_50777.jpg\n"
        },
        {
          "name": "stderr",
          "output_type": "stream",
          "text": "Lossy conversion from float64 to uint8. Range [0, 1]. Convert image to uint8 prior to saving to suppress this warning.\n\nLossy conversion from float64 to uint8. Range [0, 1]. Convert image to uint8 prior to saving to suppress this warning.\n\nLossy conversion from float64 to uint8. Range [-0.002133439182979128, 1.0]. Convert image to uint8 prior to saving to suppress this warning.\n"
        },
        {
          "name": "stdout",
          "output_type": "stream",
          "text": "Finished:  222\n\nFilename:  #frac{864}{869}+60 = 924_90283.jpg\n\nFinished:  223\n\nFilename:  #frac{355}{706}#alpha^2-300 #geq 27_19259.jpg\n\nFinished:  224\n\nFilename:  #frac{428}{471}#alpha^3-874 #neq -397_6453.jpg\n\nFinished:  225\n\nFilename:  #frac{664}{549}x^3-746 #geq -113_61391.jpg\n"
        },
        {
          "name": "stderr",
          "output_type": "stream",
          "text": "Lossy conversion from float64 to uint8. Range [0, 1]. Convert image to uint8 prior to saving to suppress this warning.\n\nLossy conversion from float64 to uint8. Range [0, 1]. Convert image to uint8 prior to saving to suppress this warning.\n"
        },
        {
          "name": "stdout",
          "output_type": "stream",
          "text": "Finished:  226\n\nFilename:  #frac{54}{771}#alpha^3+606 #geq 585_83050.jpg\n\nFinished:  227\n\nFilename:  #frac{935}{497}-274 = 661_53296.jpg\n"
        },
        {
          "name": "stderr",
          "output_type": "stream",
          "text": "Lossy conversion from float64 to uint8. Range [-0.002836833181166131, 1.0]. Convert image to uint8 prior to saving to suppress this warning.\n\nLossy conversion from float64 to uint8. Range [0, 1]. Convert image to uint8 prior to saving to suppress this warning.\n\nLossy conversion from float64 to uint8. Range [0, 1]. Convert image to uint8 prior to saving to suppress this warning.\n"
        },
        {
          "name": "stdout",
          "output_type": "stream",
          "text": "Finished:  228\n\nFilename:  #frac{36}{129}-581 = -545_37500.jpg\n\nFinished:  229\n\nFilename:  #frac{624}{405}-629 = -5_88698.jpg\n\nFinished:  230\n\nFilename:  #frac{702}{282}y^2+560 #neq 1286_48264.jpg\n"
        },
        {
          "name": "stderr",
          "output_type": "stream",
          "text": "Lossy conversion from float64 to uint8. Range [0, 1]. Convert image to uint8 prior to saving to suppress this warning.\n\nLossy conversion from float64 to uint8. Range [0, 1]. Convert image to uint8 prior to saving to suppress this warning.\n\nLossy conversion from float64 to uint8. Range [0, 1]. Convert image to uint8 prior to saving to suppress this warning.\n\nLossy conversion from float64 to uint8. Range [0, 1]. Convert image to uint8 prior to saving to suppress this warning.\n"
        },
        {
          "name": "stdout",
          "output_type": "stream",
          "text": "Finished:  231\n\nFilename:  #frac{805}{470}y^4-424 #neq 425_1981.jpg\n\nFinished:  232\n\nFilename:  #frac{862}{791}-128 = 734_70385.jpg\n\nFinished:  233\n\nFilename:  #frac{781}{816}y^4+525 #leq 1374_4507.jpg\n"
        },
        {
          "name": "stderr",
          "output_type": "stream",
          "text": "Lossy conversion from float64 to uint8. Range [-0.548827381491886, 1.0]. Convert image to uint8 prior to saving to suppress this warning.\n\nLossy conversion from float64 to uint8. Range [0, 1]. Convert image to uint8 prior to saving to suppress this warning.\n\nLossy conversion from float64 to uint8. Range [0, 1]. Convert image to uint8 prior to saving to suppress this warning.\n"
        },
        {
          "name": "stdout",
          "output_type": "stream",
          "text": "Finished:  234\n\nFilename:  #frac{490}{508}-465 = 25_26972.jpg\n\nFinished:  235\n\nFilename:  #frac{334}{496}#beta^4-771 #neq -350_36116.jpg\n\nFinished:  236\n\nFilename:  #frac{86}{667}-63 = 23_5664.jpg\n\nFinished:  237\n\nFilename:  #frac{174}{68}y^4-338 #geq -262_12529.jpg\n"
        },
        {
          "name": "stderr",
          "output_type": "stream",
          "text": "Lossy conversion from float64 to uint8. Range [0, 1]. Convert image to uint8 prior to saving to suppress this warning.\n\nLossy conversion from float64 to uint8. Range [0, 1]. Convert image to uint8 prior to saving to suppress this warning.\n\nLossy conversion from float64 to uint8. Range [0, 1]. Convert image to uint8 prior to saving to suppress this warning.\n\nLossy conversion from float64 to uint8. Range [0, 1]. Convert image to uint8 prior to saving to suppress this warning.\n"
        },
        {
          "name": "stdout",
          "output_type": "stream",
          "text": "Finished:  238\n\nFilename:  #frac{710}{8}x^4-197 #geq 492_92095.jpg\n\nFinished:  239\n\nFilename:  #frac{728}{397}#alpha^4-200 #leq 537_74862.jpg\n\nFinished:  240\n\nFilename:  #frac{485}{366}#beta^2+550 #leq 1078_6654.jpg\n\nFinished:  241\n"
        },
        {
          "name": "stderr",
          "output_type": "stream",
          "text": "Lossy conversion from float64 to uint8. Range [0, 1]. Convert image to uint8 prior to saving to suppress this warning.\n\nLossy conversion from float64 to uint8. Range [0, 1]. Convert image to uint8 prior to saving to suppress this warning.\n"
        },
        {
          "name": "stdout",
          "output_type": "stream",
          "text": "Filename:  #frac{447}{516}-787 = -340_74290.jpg\n\nFinished:  242\n\nFilename:  #frac{289}{846}#alpha^4-619 #leq -298_27286.jpg\n\nFinished:  243\n\nFilename:  #frac{66}{775}x^2+571 #geq 539_41942.jpg\n"
        },
        {
          "name": "stderr",
          "output_type": "stream",
          "text": "Lossy conversion from float64 to uint8. Range [0, 1]. Convert image to uint8 prior to saving to suppress this warning.\n\nLossy conversion from float64 to uint8. Range [0, 1]. Convert image to uint8 prior to saving to suppress this warning.\n\nLossy conversion from float64 to uint8. Range [0, 1]. Convert image to uint8 prior to saving to suppress this warning.\n\nLossy conversion from float64 to uint8. Range [0, 1]. Convert image to uint8 prior to saving to suppress this warning.\n"
        },
        {
          "name": "stdout",
          "output_type": "stream",
          "text": "Finished:  244\n\nFilename:  #frac{815}{582}+973 = 1788_6958.jpg\n\nFinished:  245\n\nFilename:  #frac{930}{119}#beta^3+127 #geq 1012_64915.jpg\n\nFinished:  246\n\nFilename:  #frac{671}{558}-319 = 352_98702.jpg\n"
        },
        {
          "name": "stderr",
          "output_type": "stream",
          "text": "Lossy conversion from float64 to uint8. Range [0, 1]. Convert image to uint8 prior to saving to suppress this warning.\n\nLossy conversion from float64 to uint8. Range [0, 1]. Convert image to uint8 prior to saving to suppress this warning.\n\nLossy conversion from float64 to uint8. Range [0, 1]. Convert image to uint8 prior to saving to suppress this warning.\n"
        },
        {
          "name": "stdout",
          "output_type": "stream",
          "text": "Finished:  247\n\nFilename:  #frac{208}{733}+322 = 530_66729.jpg\n\nFinished:  248\n\nFilename:  #frac{886}{520}#alpha^3-907 #leq 78_62977.jpg\n\nFinished:  249\n\nFilename:  #frac{40}{331}#beta^2+500 #geq 465_50831.jpg\n\nFinished:  250\n\nFilename:  #frac{468}{822}y^2+531 #leq 1086_21005.jpg\n"
        },
        {
          "name": "stderr",
          "output_type": "stream",
          "text": "Lossy conversion from float64 to uint8. Range [0, 1]. Convert image to uint8 prior to saving to suppress this warning.\n\nLossy conversion from float64 to uint8. Range [0, 1]. Convert image to uint8 prior to saving to suppress this warning.\n\nLossy conversion from float64 to uint8. Range [0, 1]. Convert image to uint8 prior to saving to suppress this warning.\n\nLossy conversion from float64 to uint8. Range [0, 1]. Convert image to uint8 prior to saving to suppress this warning.\n"
        },
        {
          "name": "stdout",
          "output_type": "stream",
          "text": "Finished:  251\n\nFilename:  #frac{662}{723}#alpha^2+652 #geq 1216_66963.jpg\n\nFinished:  252\n\nFilename:  #frac{37}{318}x^3+761 #neq 832_64032.jpg\n\nFinished:  253\n\nFilename:  #frac{784}{897}y^2+729 #neq 1547_1964.jpg\n\nFinished:  254\n\nFilename:  #frac{598}{760}#beta^2+610 #leq 1293_39522.jpg\n"
        },
        {
          "name": "stderr",
          "output_type": "stream",
          "text": "Lossy conversion from float64 to uint8. Range [-0.37042628581366177, 1.0]. Convert image to uint8 prior to saving to suppress this warning.\n\nLossy conversion from float64 to uint8. Range [0, 1]. Convert image to uint8 prior to saving to suppress this warning.\n\nLossy conversion from float64 to uint8. Range [-0.8091021320609882, 1.0]. Convert image to uint8 prior to saving to suppress this warning.\n\nLossy conversion from float64 to uint8. Range [0, 1]. Convert image to uint8 prior to saving to suppress this warning.\n"
        },
        {
          "name": "stdout",
          "output_type": "stream",
          "text": "Finished:  255\n\nFilename:  #frac{538}{644}y^3-799 #neq -258_27629.jpg\n\nFinished:  256\n\nFilename:  #frac{388}{999}-995 = -607_46711.jpg\n\nFinished:  257\n\nFilename:  #frac{338}{939}#alpha^2+214 #leq 570_94995.jpg\n\nFinished:  258\n\nFilename:  #frac{410}{50}#alpha^2-599 #neq -104_51657.jpg\n"
        },
        {
          "name": "stderr",
          "output_type": "stream",
          "text": "Lossy conversion from float64 to uint8. Range [0, 1]. Convert image to uint8 prior to saving to suppress this warning.\n\nLossy conversion from float64 to uint8. Range [0, 1]. Convert image to uint8 prior to saving to suppress this warning.\n\nLossy conversion from float64 to uint8. Range [0, 1]. Convert image to uint8 prior to saving to suppress this warning.\n\nLossy conversion from float64 to uint8. Range [-0.0043363499245852016, 1.0]. Convert image to uint8 prior to saving to suppress this warning.\n"
        },
        {
          "name": "stdout",
          "output_type": "stream",
          "text": "Finished:  259\n\nFilename:  #frac{780}{710}#alpha^2-483 #leq 365_95403.jpg\n\nFinished:  260\n\nFilename:  #frac{870}{735}#alpha^3+741 #geq 1610_2430.jpg\n\nFinished:  261\n\nFilename:  #frac{635}{718}#beta^3-267 #geq 355_22303.jpg\n\nFinished:  262\n\nFilename:  #frac{217}{808}#beta^3-596 #leq -361_19552.jpg\n"
        },
        {
          "name": "stderr",
          "output_type": "stream",
          "text": "Lossy conversion from float64 to uint8. Range [0, 1]. Convert image to uint8 prior to saving to suppress this warning.\n\nLossy conversion from float64 to uint8. Range [0, 1]. Convert image to uint8 prior to saving to suppress this warning.\n\nLossy conversion from float64 to uint8. Range [0, 1]. Convert image to uint8 prior to saving to suppress this warning.\n"
        },
        {
          "name": "stdout",
          "output_type": "stream",
          "text": "Finished:  263\n\nFilename:  #frac{622}{225}#alpha^2-679 #geq -119_89964.jpg\n\nFinished:  264\n\nFilename:  #frac{733}{859}#beta^2+102 #neq 890_29518.jpg\n\nFinished:  265\n\nFilename:  #frac{59}{383}#beta^4-675 #leq -544_74513.jpg\n"
        },
        {
          "name": "stderr",
          "output_type": "stream",
          "text": "Lossy conversion from float64 to uint8. Range [0, 1]. Convert image to uint8 prior to saving to suppress this warning.\n\nLossy conversion from float64 to uint8. Range [0, 1]. Convert image to uint8 prior to saving to suppress this warning.\n\nLossy conversion from float64 to uint8. Range [0, 1]. Convert image to uint8 prior to saving to suppress this warning.\n\nLossy conversion from float64 to uint8. Range [0, 1]. Convert image to uint8 prior to saving to suppress this warning.\n"
        },
        {
          "name": "stdout",
          "output_type": "stream",
          "text": "Finished:  266\n\nFilename:  #frac{446}{532}y^2+877 #neq 1324_37828.jpg\n\nFinished:  267\n\nFilename:  #frac{432}{222}y^3-124 #neq 372_92172.jpg\n\nFinished:  268\n\nFilename:  #frac{153}{587}y^3-121 #leq 42_56553.jpg\n"
        },
        {
          "name": "stderr",
          "output_type": "stream",
          "text": "Lossy conversion from float64 to uint8. Range [0, 1]. Convert image to uint8 prior to saving to suppress this warning.\n\nLossy conversion from float64 to uint8. Range [0, 1]. Convert image to uint8 prior to saving to suppress this warning.\n"
        },
        {
          "name": "stdout",
          "output_type": "stream",
          "text": "Finished:  269\n\nFilename:  #frac{935}{71}y^2+353 #neq 1326_58039.jpg\n\nFinished:  270\n\nFilename:  #frac{588}{757}#alpha^2-828 #neq -174_94438.jpg\n\nFinished:  271\n\nFilename:  #frac{380}{458}#beta^2+299 #geq 668_77598.jpg\n"
        },
        {
          "name": "stderr",
          "output_type": "stream",
          "text": "Lossy conversion from float64 to uint8. Range [0, 1]. Convert image to uint8 prior to saving to suppress this warning.\n\nLossy conversion from float64 to uint8. Range [0, 1]. Convert image to uint8 prior to saving to suppress this warning.\n\nLossy conversion from float64 to uint8. Range [0, 1]. Convert image to uint8 prior to saving to suppress this warning.\n\nLossy conversion from float64 to uint8. Range [0, 1]. Convert image to uint8 prior to saving to suppress this warning.\n"
        },
        {
          "name": "stdout",
          "output_type": "stream",
          "text": "Finished:  272\n\nFilename:  #frac{399}{629}x^2-516 #leq -90_81151.jpg\n\nFinished:  273\n\nFilename:  #frac{30}{384}#alpha^4-719 #neq -633_77765.jpg\n\nFinished:  274\n\nFilename:  #frac{894}{973}x^4+326 #leq 1244_66077.jpg\n"
        },
        {
          "name": "stderr",
          "output_type": "stream",
          "text": "Lossy conversion from float64 to uint8. Range [0, 1]. Convert image to uint8 prior to saving to suppress this warning.\n\nLossy conversion from float64 to uint8. Range [0, 1]. Convert image to uint8 prior to saving to suppress this warning.\n\nLossy conversion from float64 to uint8. Range [0, 1]. Convert image to uint8 prior to saving to suppress this warning.\n"
        },
        {
          "name": "stdout",
          "output_type": "stream",
          "text": "Finished:  275\n\nFilename:  #frac{964}{334}#alpha^3-869 #leq 124_78924.jpg\n\nFinished:  276\n\nFilename:  #frac{916}{167}#beta^4+414 #neq 1359_49914.jpg\n\nFinished:  277\n\nFilename:  #frac{939}{65}x^3+975 #geq 1831_70639.jpg\n\nFinished:  278\n\nFilename:  #frac{727}{449}x^2+65 #geq 711_48565.jpg\n"
        },
        {
          "name": "stderr",
          "output_type": "stream",
          "text": "Lossy conversion from float64 to uint8. Range [0, 1]. Convert image to uint8 prior to saving to suppress this warning.\n\nLossy conversion from float64 to uint8. Range [0, 1]. Convert image to uint8 prior to saving to suppress this warning.\n\nLossy conversion from float64 to uint8. Range [0, 1]. Convert image to uint8 prior to saving to suppress this warning.\n\nLossy conversion from float64 to uint8. Range [0, 1]. Convert image to uint8 prior to saving to suppress this warning.\n"
        },
        {
          "name": "stdout",
          "output_type": "stream",
          "text": "Finished:  279\n\nFilename:  #frac{943}{854}x^4-731 #leq 225_87963.jpg\n\nFinished:  280\n\nFilename:  #frac{97}{826}#alpha^3+718 #neq 839_21702.jpg\n\nFinished:  281\n\nFilename:  #frac{368}{876}x^2+233 #leq 640_94572.jpg\n\nFinished:  282\n"
        },
        {
          "name": "stderr",
          "output_type": "stream",
          "text": "Lossy conversion from float64 to uint8. Range [0, 1]. Convert image to uint8 prior to saving to suppress this warning.\n\nLossy conversion from float64 to uint8. Range [0, 1]. Convert image to uint8 prior to saving to suppress this warning.\n\nLossy conversion from float64 to uint8. Range [0, 1]. Convert image to uint8 prior to saving to suppress this warning.\n"
        },
        {
          "name": "stdout",
          "output_type": "stream",
          "text": "Filename:  #frac{82}{327}y^2+576 #neq 680_37620.jpg\n\nFinished:  283\n\nFilename:  #frac{851}{303}#beta^4-907 #neq 30_92032.jpg\n\nFinished:  284\n\nFilename:  #frac{903}{370}#beta^4-782 #neq 199_66794.jpg\n\nFinished:  285\n\nFilename:  #frac{574}{157}-422 = 152_34195.jpg\n"
        },
        {
          "name": "stderr",
          "output_type": "stream",
          "text": "Lossy conversion from float64 to uint8. Range [0, 1]. Convert image to uint8 prior to saving to suppress this warning.\n\nLossy conversion from float64 to uint8. Range [0, 1]. Convert image to uint8 prior to saving to suppress this warning.\n\nLossy conversion from float64 to uint8. Range [0, 1]. Convert image to uint8 prior to saving to suppress this warning.\n"
        },
        {
          "name": "stdout",
          "output_type": "stream",
          "text": "Finished:  286\n\nFilename:  #frac{453}{481}#alpha^4-105 #neq 390_51855.jpg\n\nFinished:  287\n\nFilename:  #frac{466}{11}#alpha^3-427 #leq 111_43468.jpg\n\nFinished:  288\n\nFilename:  #frac{490}{864}#beta^2+550 #leq 1103_62920.jpg\n"
        },
        {
          "name": "stderr",
          "output_type": "stream",
          "text": "Lossy conversion from float64 to uint8. Range [0, 1]. Convert image to uint8 prior to saving to suppress this warning.\n\nLossy conversion from float64 to uint8. Range [-0.0017756206126676385, 1.0]. Convert image to uint8 prior to saving to suppress this warning.\n"
        },
        {
          "name": "stdout",
          "output_type": "stream",
          "text": "Finished:  289\n\nFilename:  #frac{444}{519}#beta^3-722 #geq -289_85716.jpg\n\nFinished:  290\n\nFilename:  #frac{310}{430}-713 = -403_26249.jpg\n"
        },
        {
          "name": "stderr",
          "output_type": "stream",
          "text": "Lossy conversion from float64 to uint8. Range [0, 1]. Convert image to uint8 prior to saving to suppress this warning.\n"
        },
        {
          "name": "stdout",
          "output_type": "stream",
          "text": "Finished:  291\n\nFilename:  #frac{331}{588}x^4-82 #geq 244_28314.jpg\n"
        },
        {
          "name": "stderr",
          "output_type": "stream",
          "text": "Lossy conversion from float64 to uint8. Range [0, 1]. Convert image to uint8 prior to saving to suppress this warning.\n\nLossy conversion from float64 to uint8. Range [0, 1]. Convert image to uint8 prior to saving to suppress this warning.\n\nLossy conversion from float64 to uint8. Range [0, 1]. Convert image to uint8 prior to saving to suppress this warning.\n\nLossy conversion from float64 to uint8. Range [0, 1]. Convert image to uint8 prior to saving to suppress this warning.\n"
        },
        {
          "name": "stdout",
          "output_type": "stream",
          "text": "Finished:  292\n\nFilename:  #frac{486}{60}y^2+142 #geq 551_40365.jpg\n\nFinished:  293\n\nFilename:  #frac{579}{740}#beta^3-530 #leq 50_22360.jpg\n\nFinished:  294\n\nFilename:  #frac{749}{580}-959 = -210_16615.jpg\n\nFinished:  295\n"
        },
        {
          "name": "stderr",
          "output_type": "stream",
          "text": "Lossy conversion from float64 to uint8. Range [0, 1]. Convert image to uint8 prior to saving to suppress this warning.\n\nLossy conversion from float64 to uint8. Range [0, 1]. Convert image to uint8 prior to saving to suppress this warning.\n\nLossy conversion from float64 to uint8. Range [0, 1]. Convert image to uint8 prior to saving to suppress this warning.\n"
        },
        {
          "name": "stdout",
          "output_type": "stream",
          "text": "Filename:  #frac{612}{292}#beta^4+47 #neq 689_21261.jpg\n\nFinished:  296\n\nFilename:  #frac{1}{723}y^4-936 #neq -885_1314.jpg\n\nFinished:  297\n\nFilename:  #frac{110}{178}y^2-846 #leq -663_46293.jpg\n"
        },
        {
          "name": "stderr",
          "output_type": "stream",
          "text": "Lossy conversion from float64 to uint8. Range [0, 1]. Convert image to uint8 prior to saving to suppress this warning.\n\nLossy conversion from float64 to uint8. Range [0, 1]. Convert image to uint8 prior to saving to suppress this warning.\n"
        },
        {
          "name": "stdout",
          "output_type": "stream",
          "text": "Finished:  298\n\nFilename:  #frac{874}{925}#alpha^2+579 #leq 1456_74531.jpg\n\nFinished:  299\n\nFilename:  #frac{827}{227}#beta^3-29 #neq 862_8497.jpg\n\nFinished:  300\n\nFilename:  #frac{719}{352}#beta^3+727 #neq 1469_70172.jpg\n"
        },
        {
          "name": "stderr",
          "output_type": "stream",
          "text": "Lossy conversion from float64 to uint8. Range [0, 1]. Convert image to uint8 prior to saving to suppress this warning.\n\nLossy conversion from float64 to uint8. Range [0, 1]. Convert image to uint8 prior to saving to suppress this warning.\n"
        },
        {
          "name": "stdout",
          "output_type": "stream",
          "text": "Finished:  301\n\nFilename:  #frac{998}{649}#alpha^3-949 #leq 110_15557.jpg\n\nFinished:  302\n\nFilename:  #frac{74}{422}x^4-864 #leq -743_99085.jpg\n"
        },
        {
          "name": "stderr",
          "output_type": "stream",
          "text": "Lossy conversion from float64 to uint8. Range [0, 1]. Convert image to uint8 prior to saving to suppress this warning.\n\nLossy conversion from float64 to uint8. Range [0, 1]. Convert image to uint8 prior to saving to suppress this warning.\n\nLossy conversion from float64 to uint8. Range [-0.8259483240249839, 1.0]. Convert image to uint8 prior to saving to suppress this warning.\n\nLossy conversion from float64 to uint8. Range [0, 1]. Convert image to uint8 prior to saving to suppress this warning.\n"
        },
        {
          "name": "stdout",
          "output_type": "stream",
          "text": "Finished:  303\n\nFilename:  #frac{46}{27}x^2+235 #geq 194_42427.jpg\n\nFinished:  304\n\nFilename:  #frac{835}{927}x^4-413 #neq 433_73817.jpg\n\nFinished:  305\n\nFilename:  #frac{85}{488}#alpha^2-485 #geq -477_56376.jpg\n\nFinished:  306\n\nFilename:  #frac{928}{201}#alpha^3+373 #neq 1346_9419.jpg\n"
        },
        {
          "name": "stderr",
          "output_type": "stream",
          "text": "Lossy conversion from float64 to uint8. Range [0, 1]. Convert image to uint8 prior to saving to suppress this warning.\n\nLossy conversion from float64 to uint8. Range [0, 1]. Convert image to uint8 prior to saving to suppress this warning.\n\nLossy conversion from float64 to uint8. Range [0, 1]. Convert image to uint8 prior to saving to suppress this warning.\n\nLossy conversion from float64 to uint8. Range [0, 1]. Convert image to uint8 prior to saving to suppress this warning.\n"
        },
        {
          "name": "stdout",
          "output_type": "stream",
          "text": "Finished:  307\n\nFilename:  #frac{81}{701}+911 = 992_79503.jpg\n\nFinished:  308\n\nFilename:  #frac{168}{93}y^4-121 #leq 48_2563.jpg\n\nFinished:  309\n\nFilename:  #frac{70}{312}#beta^4+947 #neq 1050_86395.jpg\n\nFinished:  310\n\nFilename:  #frac{18}{195}#alpha^2+35 #neq 56_81633.jpg\n"
        },
        {
          "name": "stderr",
          "output_type": "stream",
          "text": "Lossy conversion from float64 to uint8. Range [0, 1]. Convert image to uint8 prior to saving to suppress this warning.\n\nLossy conversion from float64 to uint8. Range [0, 1]. Convert image to uint8 prior to saving to suppress this warning.\n\nLossy conversion from float64 to uint8. Range [0, 1]. Convert image to uint8 prior to saving to suppress this warning.\n\nLossy conversion from float64 to uint8. Range [0, 1]. Convert image to uint8 prior to saving to suppress this warning.\n"
        },
        {
          "name": "stdout",
          "output_type": "stream",
          "text": "Finished:  311\n\nFilename:  #frac{104}{747}#beta^2+677 #neq 783_75747.jpg\n\nFinished:  312\n\nFilename:  #frac{906}{896}#beta^3-826 #leq 154_15149.jpg\n\nFinished:  313\n\nFilename:  #frac{754}{229}#beta^4+572 #geq 1326_96574.jpg\n"
        },
        {
          "name": "stderr",
          "output_type": "stream",
          "text": "Lossy conversion from float64 to uint8. Range [0, 1]. Convert image to uint8 prior to saving to suppress this warning.\n\nLossy conversion from float64 to uint8. Range [0, 1]. Convert image to uint8 prior to saving to suppress this warning.\n\nLossy conversion from float64 to uint8. Range [0, 1]. Convert image to uint8 prior to saving to suppress this warning.\n"
        },
        {
          "name": "stdout",
          "output_type": "stream",
          "text": "Finished:  314\n\nFilename:  #frac{829}{560}y^3+179 #geq 933_34483.jpg\n\nFinished:  315\n\nFilename:  #frac{418}{95}-732 = -314_84001.jpg\n\nFinished:  316\n\nFilename:  #frac{297}{119}#alpha^4+581 #neq 975_70198.jpg\n\nFinished:  317\n\nFilename:  #frac{87}{32}y^2-473 #geq -478_86904.jpg\n"
        },
        {
          "name": "stderr",
          "output_type": "stream",
          "text": "Lossy conversion from float64 to uint8. Range [0, 1]. Convert image to uint8 prior to saving to suppress this warning.\n\nLossy conversion from float64 to uint8. Range [0, 1]. Convert image to uint8 prior to saving to suppress this warning.\n\nLossy conversion from float64 to uint8. Range [0, 1]. Convert image to uint8 prior to saving to suppress this warning.\n"
        },
        {
          "name": "stdout",
          "output_type": "stream",
          "text": "Finished:  318\n\nFilename:  #frac{855}{992}#beta^4-748 #leq 131_70185.jpg\n\nFinished:  319\n\nFilename:  #frac{840}{906}+594 = 1434_88812.jpg\n\nFinished:  320\n\nFilename:  #frac{735}{606}#beta^2+549 #geq 1277_3420.jpg\n"
        },
        {
          "name": "stderr",
          "output_type": "stream",
          "text": "Lossy conversion from float64 to uint8. Range [0, 1]. Convert image to uint8 prior to saving to suppress this warning.\n\nLossy conversion from float64 to uint8. Range [0, 1]. Convert image to uint8 prior to saving to suppress this warning.\n\nLossy conversion from float64 to uint8. Range [0, 1]. Convert image to uint8 prior to saving to suppress this warning.\n\nLossy conversion from float64 to uint8. Range [0, 1]. Convert image to uint8 prior to saving to suppress this warning.\n"
        },
        {
          "name": "stdout",
          "output_type": "stream",
          "text": "Finished:  321\n\nFilename:  #frac{394}{984}#alpha^4+219 #geq 578_64616.jpg\n\nFinished:  322\n\nFilename:  #frac{604}{585}#alpha^2+904 #geq 1410_59639.jpg\n\nFinished:  323\n\nFilename:  #frac{845}{100}x^2-189 #geq 617_92220.jpg\n\nFinished:  324\n\nFilename:  #frac{979}{846}x^3+955 #leq 2014_1276.jpg\n"
        },
        {
          "name": "stderr",
          "output_type": "stream",
          "text": "Lossy conversion from float64 to uint8. Range [0, 1]. Convert image to uint8 prior to saving to suppress this warning.\n\nLossy conversion from float64 to uint8. Range [0, 1]. Convert image to uint8 prior to saving to suppress this warning.\n\nLossy conversion from float64 to uint8. Range [0, 1]. Convert image to uint8 prior to saving to suppress this warning.\n"
        },
        {
          "name": "stdout",
          "output_type": "stream",
          "text": "Finished:  325\n\nFilename:  #frac{485}{970}#beta^4-446 #geq -15_29151.jpg\n\nFinished:  326\n\nFilename:  #frac{728}{97}x^3-708 #leq 57_74117.jpg\n\nFinished:  327\n\nFilename:  #frac{884}{272}+497 = 1381_55201.jpg\n"
        },
        {
          "name": "stderr",
          "output_type": "stream",
          "text": "Lossy conversion from float64 to uint8. Range [0, 1]. Convert image to uint8 prior to saving to suppress this warning.\n\nLossy conversion from float64 to uint8. Range [0, 1]. Convert image to uint8 prior to saving to suppress this warning.\n\nLossy conversion from float64 to uint8. Range [0, 1]. Convert image to uint8 prior to saving to suppress this warning.\n"
        },
        {
          "name": "stdout",
          "output_type": "stream",
          "text": "Finished:  328\n\nFilename:  #frac{484}{443}y^4-907 #leq -332_82309.jpg\n\nFinished:  329\n\nFilename:  #frac{601}{829}x^3-865 #neq -189_40127.jpg\n"
        },
        {
          "name": "stderr",
          "output_type": "stream",
          "text": "Lossy conversion from float64 to uint8. Range [0, 1]. Convert image to uint8 prior to saving to suppress this warning.\n\nLossy conversion from float64 to uint8. Range [0, 1]. Convert image to uint8 prior to saving to suppress this warning.\n\nLossy conversion from float64 to uint8. Range [0, 1]. Convert image to uint8 prior to saving to suppress this warning.\n"
        },
        {
          "name": "stdout",
          "output_type": "stream",
          "text": "Finished:  330\n\nFilename:  #frac{968}{780}#beta^3+553 #neq 1591_95859.jpg\n\nFinished:  331\n\nFilename:  #frac{540}{50}#beta^4-535 #neq 36_88647.jpg\n\nFinished:  332\n\nFilename:  #frac{941}{739}x^2-631 #neq 331_85055.jpg\n\nFinished:  333\n"
        },
        {
          "name": "stderr",
          "output_type": "stream",
          "text": "Lossy conversion from float64 to uint8. Range [0, 1]. Convert image to uint8 prior to saving to suppress this warning.\n\nLossy conversion from float64 to uint8. Range [0, 1]. Convert image to uint8 prior to saving to suppress this warning.\n\nLossy conversion from float64 to uint8. Range [0, 1]. Convert image to uint8 prior to saving to suppress this warning.\n"
        },
        {
          "name": "stdout",
          "output_type": "stream",
          "text": "Filename:  #frac{363}{49}+301 = 664_59280.jpg\n\nFinished:  334\n\nFilename:  #frac{352}{636}+511 = 863_66808.jpg\n\nFinished:  335\n\nFilename:  #frac{664}{567}+396 = 1060_76573.jpg\n\nFinished:  336\n\nFilename:  #frac{111}{348}x^3-623 #neq -429_10122.jpg\n"
        },
        {
          "name": "stderr",
          "output_type": "stream",
          "text": "Lossy conversion from float64 to uint8. Range [-0.9640740016937, 1.0]. Convert image to uint8 prior to saving to suppress this warning.\n\nLossy conversion from float64 to uint8. Range [0, 1]. Convert image to uint8 prior to saving to suppress this warning.\n\nLossy conversion from float64 to uint8. Range [0, 1]. Convert image to uint8 prior to saving to suppress this warning.\n\nLossy conversion from float64 to uint8. Range [0, 1]. Convert image to uint8 prior to saving to suppress this warning.\n\nLossy conversion from float64 to uint8. Range [0, 1]. Convert image to uint8 prior to saving to suppress this warning.\n"
        },
        {
          "name": "stdout",
          "output_type": "stream",
          "text": "Finished:  337\n\nFilename:  #frac{665}{734}y^4+640 #leq 1394_43311.jpg\n\nFinished:  338\n\nFilename:  #frac{37}{818}-495 = -458_68687.jpg\n\nFinished:  339\n\nFilename:  #frac{199}{881}y^2-159 #neq 139_88052.jpg\n\nFinished:  340\n\nFilename:  #frac{567}{537}-164 = 403_81517.jpg\n"
        },
        {
          "name": "stderr",
          "output_type": "stream",
          "text": "Lossy conversion from float64 to uint8. Range [0, 1]. Convert image to uint8 prior to saving to suppress this warning.\n\nLossy conversion from float64 to uint8. Range [0, 1]. Convert image to uint8 prior to saving to suppress this warning.\n\nLossy conversion from float64 to uint8. Range [0, 1]. Convert image to uint8 prior to saving to suppress this warning.\n"
        },
        {
          "name": "stdout",
          "output_type": "stream",
          "text": "Finished:  341\n\nFilename:  #frac{597}{832}+135 = 732_45030.jpg\n\nFinished:  342\n\nFilename:  #frac{415}{70}#alpha^4-85 #geq 292_78463.jpg\n\nFinished:  343\n\nFilename:  #frac{251}{164}#alpha^4+665 #neq 1007_22647.jpg\n\nFinished:  344\n\nFilename:  #frac{485}{492}x^4-272 #geq 133_75086.jpg\n"
        },
        {
          "name": "stderr",
          "output_type": "stream",
          "text": "Lossy conversion from float64 to uint8. Range [0, 1]. Convert image to uint8 prior to saving to suppress this warning.\n\nLossy conversion from float64 to uint8. Range [0, 1]. Convert image to uint8 prior to saving to suppress this warning.\n\nLossy conversion from float64 to uint8. Range [0, 1]. Convert image to uint8 prior to saving to suppress this warning.\n\nLossy conversion from float64 to uint8. Range [0, 1]. Convert image to uint8 prior to saving to suppress this warning.\n"
        },
        {
          "name": "stdout",
          "output_type": "stream",
          "text": "Finished:  345\n\nFilename:  #frac{300}{508}x^4+62 #neq 443_28869.jpg\n\nFinished:  346\n\nFilename:  #frac{600}{880}+668 = 1268_39340.jpg\n\nFinished:  347\n\nFilename:  #frac{744}{844}#alpha^2-102 #geq 552_8226.jpg\n"
        },
        {
          "name": "stderr",
          "output_type": "stream",
          "text": "Lossy conversion from float64 to uint8. Range [0, 1]. Convert image to uint8 prior to saving to suppress this warning.\n\nLossy conversion from float64 to uint8. Range [0, 1]. Convert image to uint8 prior to saving to suppress this warning.\n\nLossy conversion from float64 to uint8. Range [0, 1]. Convert image to uint8 prior to saving to suppress this warning.\n"
        },
        {
          "name": "stdout",
          "output_type": "stream",
          "text": "Finished:  348\n\nFilename:  #frac{443}{687}y^4+707 #geq 1087_30703.jpg\n\nFinished:  349\n\nFilename:  #frac{383}{913}#alpha^3+957 #geq 1283_36235.jpg\n\nFinished:  350\n\nFilename:  #frac{460}{887}#beta^4+237 #leq 732_12663.jpg\n\nFinished:  351\n"
        },
        {
          "name": "stderr",
          "output_type": "stream",
          "text": "Lossy conversion from float64 to uint8. Range [0, 1]. Convert image to uint8 prior to saving to suppress this warning.\n\nLossy conversion from float64 to uint8. Range [0, 1]. Convert image to uint8 prior to saving to suppress this warning.\n"
        },
        {
          "name": "stdout",
          "output_type": "stream",
          "text": "Filename:  #frac{825}{276}#beta^4+381 #geq 1137_27579.jpg\n\nFinished:  352\n\nFilename:  #frac{968}{912}#alpha^2-207 #neq 860_94627.jpg\n\nFinished:  353\n\nFilename:  #frac{135}{5}#beta^2+745 #geq 793_53611.jpg\n"
        },
        {
          "name": "stderr",
          "output_type": "stream",
          "text": "Lossy conversion from float64 to uint8. Range [0, 1]. Convert image to uint8 prior to saving to suppress this warning.\n\nLossy conversion from float64 to uint8. Range [0, 1]. Convert image to uint8 prior to saving to suppress this warning.\n\nLossy conversion from float64 to uint8. Range [0, 1]. Convert image to uint8 prior to saving to suppress this warning.\n\nLossy conversion from float64 to uint8. Range [0, 1]. Convert image to uint8 prior to saving to suppress this warning.\n"
        },
        {
          "name": "stdout",
          "output_type": "stream",
          "text": "Finished:  354\n\nFilename:  #frac{52}{931}x^3+642 #leq 740_72868.jpg\n\nFinished:  355\n\nFilename:  #frac{464}{56}#beta^4+87 #geq 537_64492.jpg\n\nFinished:  356\n\nFilename:  #frac{354}{24}#alpha^4-923 #neq -562_54774.jpg\n"
        },
        {
          "name": "stderr",
          "output_type": "stream",
          "text": "Lossy conversion from float64 to uint8. Range [0, 1]. Convert image to uint8 prior to saving to suppress this warning.\n\nLossy conversion from float64 to uint8. Range [0, 1]. Convert image to uint8 prior to saving to suppress this warning.\n\nLossy conversion from float64 to uint8. Range [0, 1]. Convert image to uint8 prior to saving to suppress this warning.\n"
        },
        {
          "name": "stdout",
          "output_type": "stream",
          "text": "Finished:  357\n\nFilename:  #frac{62}{565}#alpha^3-393 #geq -378_14606.jpg\n\nFinished:  358\n\nFilename:  #frac{916}{709}#alpha^3-297 #neq 693_72875.jpg\n\nFinished:  359\n\nFilename:  #frac{388}{114}#alpha^3-42 #geq 313_82623.jpg\n"
        },
        {
          "name": "stderr",
          "output_type": "stream",
          "text": "Lossy conversion from float64 to uint8. Range [0, 1]. Convert image to uint8 prior to saving to suppress this warning.\n\nLossy conversion from float64 to uint8. Range [0, 1]. Convert image to uint8 prior to saving to suppress this warning.\n\nLossy conversion from float64 to uint8. Range [0, 1]. Convert image to uint8 prior to saving to suppress this warning.\n"
        },
        {
          "name": "stdout",
          "output_type": "stream",
          "text": "Finished:  360\n\nFilename:  #frac{359}{359}#alpha^4+248 #neq 691_32170.jpg\n\nFinished:  361\n\nFilename:  #frac{32}{802}+220 = 252_11352.jpg\n\nFinished:  362\n\nFilename:  #frac{969}{710}y^4+315 #geq 1271_46363.jpg\n\nFinished:  363\n\nFilename:  #frac{996}{906}y^3+108 #leq 1144_45606.jpg\n"
        },
        {
          "name": "stderr",
          "output_type": "stream",
          "text": "Lossy conversion from float64 to uint8. Range [0, 1]. Convert image to uint8 prior to saving to suppress this warning.\n\nLossy conversion from float64 to uint8. Range [0, 1]. Convert image to uint8 prior to saving to suppress this warning.\n\nLossy conversion from float64 to uint8. Range [0, 1]. Convert image to uint8 prior to saving to suppress this warning.\n\nLossy conversion from float64 to uint8. Range [0, 1]. Convert image to uint8 prior to saving to suppress this warning.\n"
        },
        {
          "name": "stdout",
          "output_type": "stream",
          "text": "Finished:  364\n\nFilename:  #frac{783}{749}#beta^2-28 #neq 841_2887.jpg\n\nFinished:  365\n\nFilename:  #frac{761}{588}-159 = 602_16762.jpg\n\nFinished:  366\n\nFilename:  #frac{797}{278}#beta^4+529 #leq 1399_86848.jpg\n\nFinished:  367\n\nFilename:  #frac{39}{259}#alpha^3-288 #neq -196_33238.jpg\n"
        },
        {
          "name": "stderr",
          "output_type": "stream",
          "text": "Lossy conversion from float64 to uint8. Range [0, 1]. Convert image to uint8 prior to saving to suppress this warning.\n\nLossy conversion from float64 to uint8. Range [0, 1]. Convert image to uint8 prior to saving to suppress this warning.\n\nLossy conversion from float64 to uint8. Range [0, 1]. Convert image to uint8 prior to saving to suppress this warning.\n\nLossy conversion from float64 to uint8. Range [0, 1]. Convert image to uint8 prior to saving to suppress this warning.\n"
        },
        {
          "name": "stdout",
          "output_type": "stream",
          "text": "Finished:  368\n\nFilename:  #frac{730}{765}#beta^2-990 #geq -347_20597.jpg\n\nFinished:  369\n\nFilename:  #frac{205}{746}#alpha^4-982 #geq -849_39579.jpg\n\nFinished:  370\n\nFilename:  #frac{222}{387}#alpha^3+482 #geq 679_9343.jpg\n\nFinished:  371\n\nFilename:  #frac{401}{450}x^4-396 #neq 58_10662.jpg\n"
        },
        {
          "name": "stderr",
          "output_type": "stream",
          "text": "Lossy conversion from float64 to uint8. Range [-0.5612445244055068, 1.0]. Convert image to uint8 prior to saving to suppress this warning.\n\nLossy conversion from float64 to uint8. Range [0, 1]. Convert image to uint8 prior to saving to suppress this warning.\n"
        },
        {
          "name": "stdout",
          "output_type": "stream",
          "text": "Finished:  372\n\nFilename:  #frac{256}{949}#alpha^2-165 #geq 35_36613.jpg\n\nFinished:  373\n\nFilename:  #frac{805}{834}x^4+10 #geq 795_92803.jpg\n"
        },
        {
          "name": "stderr",
          "output_type": "stream",
          "text": "Lossy conversion from float64 to uint8. Range [0, 1]. Convert image to uint8 prior to saving to suppress this warning.\n\nLossy conversion from float64 to uint8. Range [0, 1]. Convert image to uint8 prior to saving to suppress this warning.\n\nLossy conversion from float64 to uint8. Range [0, 1]. Convert image to uint8 prior to saving to suppress this warning.\n\nLossy conversion from float64 to uint8. Range [0, 1]. Convert image to uint8 prior to saving to suppress this warning.\n"
        },
        {
          "name": "stdout",
          "output_type": "stream",
          "text": "Finished:  374\n\nFilename:  #frac{136}{703}x^4-257 #geq -173_87858.jpg\n\nFinished:  375\n\nFilename:  #frac{613}{533}-261 = 352_53337.jpg\n\nFinished:  376\n\nFilename:  #frac{853}{300}#beta^2-573 #neq 285_18180.jpg\n"
        },
        {
          "name": "stderr",
          "output_type": "stream",
          "text": "Lossy conversion from float64 to uint8. Range [0, 1]. Convert image to uint8 prior to saving to suppress this warning.\n"
        },
        {
          "name": "stdout",
          "output_type": "stream",
          "text": "Finished:  377\n\nFilename:  #frac{294}{167}x^2-31 #leq 327_30434.jpg\n\nFinished:  378\n\nFilename:  #frac{592}{34}+819 = 1411_2705.jpg\n"
        },
        {
          "name": "stderr",
          "output_type": "stream",
          "text": "Lossy conversion from float64 to uint8. Range [0, 1]. Convert image to uint8 prior to saving to suppress this warning.\n\nLossy conversion from float64 to uint8. Range [0, 1]. Convert image to uint8 prior to saving to suppress this warning.\n\nLossy conversion from float64 to uint8. Range [0, 1]. Convert image to uint8 prior to saving to suppress this warning.\n"
        },
        {
          "name": "stdout",
          "output_type": "stream",
          "text": "Finished:  379\n\nFilename:  #frac{922}{45}y^4-858 #neq 101_15104.jpg\n\nFinished:  380\n\nFilename:  #frac{570}{120}y^2-411 #geq 151_59.jpg\n\nFinished: "
        },
        {
          "name": "stderr",
          "output_type": "stream",
          "text": "Lossy conversion from float64 to uint8. Range [0, 1]. Convert image to uint8 prior to saving to suppress this warning.\n"
        },
        {
          "name": "stdout",
          "output_type": "stream",
          "text": " 381\n\nFilename:  #frac{758}{866}y^2-278 #geq 480_58539.jpg\n\nFinished:  382\n\nFilename:  #frac{645}{504}#alpha^2-560 #geq 49_91944.jpg\n"
        },
        {
          "name": "stderr",
          "output_type": "stream",
          "text": "Lossy conversion from float64 to uint8. Range [0, 1]. Convert image to uint8 prior to saving to suppress this warning.\n\nLossy conversion from float64 to uint8. Range [0, 1]. Convert image to uint8 prior to saving to suppress this warning.\n\nLossy conversion from float64 to uint8. Range [0, 1]. Convert image to uint8 prior to saving to suppress this warning.\n"
        },
        {
          "name": "stdout",
          "output_type": "stream",
          "text": "Finished:  383\n\nFilename:  #frac{697}{166}#alpha^3-880 #geq -222_250.jpg\n\nFinished:  384\n\nFilename:  #frac{968}{904}x^2+536 #geq 1472_77878.jpg\n"
        },
        {
          "name": "stderr",
          "output_type": "stream",
          "text": "Lossy conversion from float64 to uint8. Range [0, 1]. Convert image to uint8 prior to saving to suppress this warning.\n\nLossy conversion from float64 to uint8. Range [0, 1]. Convert image to uint8 prior to saving to suppress this warning.\n\nLossy conversion from float64 to uint8. Range [0, 1]. Convert image to uint8 prior to saving to suppress this warning.\n"
        },
        {
          "name": "stdout",
          "output_type": "stream",
          "text": "Finished:  385\n\nFilename:  #frac{934}{378}+23 = 957_62158.jpg\n\nFinished:  386\n\nFilename:  #frac{76}{632}#beta^4-587 #geq -512_52126.jpg\n\nFinished:  387\n\nFilename:  #frac{755}{270}-860 = -105_75799.jpg\n"
        },
        {
          "name": "stderr",
          "output_type": "stream",
          "text": "Lossy conversion from float64 to uint8. Range [0, 1]. Convert image to uint8 prior to saving to suppress this warning.\n\nLossy conversion from float64 to uint8. Range [-0.00031849163593176174, 1.0]. Convert image to uint8 prior to saving to suppress this warning.\n"
        },
        {
          "name": "stdout",
          "output_type": "stream",
          "text": "Finished:  388\n\nFilename:  #frac{516}{988}-968 = -452_84547.jpg\n\nFinished:  389\n\nFilename:  #frac{412}{384}y^3+385 #neq 894_17886.jpg\n\nFinished:  390\n\nFilename:  #frac{785}{738}+829 = 1614_15112.jpg\n"
        },
        {
          "name": "stderr",
          "output_type": "stream",
          "text": "Lossy conversion from float64 to uint8. Range [0, 1]. Convert image to uint8 prior to saving to suppress this warning.\n"
        },
        {
          "name": "stdout",
          "output_type": "stream",
          "text": "Finished:  391\n\nFilename:  #frac{845}{231}+325 = 1170_13878.jpg\n"
        },
        {
          "name": "stderr",
          "output_type": "stream",
          "text": "Lossy conversion from float64 to uint8. Range [-0.0020917355706326453, 1.0]. Convert image to uint8 prior to saving to suppress this warning.\n\nLossy conversion from float64 to uint8. Range [0, 1]. Convert image to uint8 prior to saving to suppress this warning.\n"
        },
        {
          "name": "stdout",
          "output_type": "stream",
          "text": "Finished:  392\n\nFilename:  #frac{59}{61}-507 = -448_29900.jpg\n\nFinished:  393\n\nFilename:  #frac{149}{232}y^4-88 #geq 46_93883.jpg\n"
        },
        {
          "name": "stderr",
          "output_type": "stream",
          "text": "Lossy conversion from float64 to uint8. Range [0, 1]. Convert image to uint8 prior to saving to suppress this warning.\n\nLossy conversion from float64 to uint8. Range [0, 1]. Convert image to uint8 prior to saving to suppress this warning.\n\nLossy conversion from float64 to uint8. Range [0, 1]. Convert image to uint8 prior to saving to suppress this warning.\n"
        },
        {
          "name": "stdout",
          "output_type": "stream",
          "text": "Finished:  394\n\nFilename:  #frac{565}{183}-896 = -331_57048.jpg\n\nFinished:  395\n\nFilename:  #frac{933}{583}x^2-27 #leq 979_13880.jpg\n\nFinished:  396\n\nFilename:  #frac{351}{57}y^2-798 #neq -430_32766.jpg\n"
        },
        {
          "name": "stderr",
          "output_type": "stream",
          "text": "Lossy conversion from float64 to uint8. Range [0, 1]. Convert image to uint8 prior to saving to suppress this warning.\n\nLossy conversion from float64 to uint8. Range [0, 1]. Convert image to uint8 prior to saving to suppress this warning.\n\nLossy conversion from float64 to uint8. Range [0, 1]. Convert image to uint8 prior to saving to suppress this warning.\n"
        },
        {
          "name": "stdout",
          "output_type": "stream",
          "text": "Finished:  397\n\nFilename:  #frac{303}{746}#alpha^4+31 #leq 424_55072.jpg\n\nFinished:  398\n\nFilename:  #frac{509}{120}#beta^4-721 #neq -206_30044.jpg\n\nFinished:  399\n\nFilename:  #frac{751}{866}#beta^4-396 #leq 403_61163.jpg\n"
        },
        {
          "name": "stderr",
          "output_type": "stream",
          "text": "Lossy conversion from float64 to uint8. Range [0, 1]. Convert image to uint8 prior to saving to suppress this warning.\n\nLossy conversion from float64 to uint8. Range [0, 1]. Convert image to uint8 prior to saving to suppress this warning.\n\nLossy conversion from float64 to uint8. Range [0, 1]. Convert image to uint8 prior to saving to suppress this warning.\n"
        },
        {
          "name": "stdout",
          "output_type": "stream",
          "text": "Finished:  400\n\nFilename:  #frac{522}{942}y^2+579 #leq 1118_1665.jpg\n\nFinished:  401\n\nFilename:  #frac{153}{457}#alpha^4-448 #neq -239_68621.jpg\n\nFinished:  402\n\nFilename:  #frac{968}{743}x^4+700 #neq 1746_4480.jpg\n"
        },
        {
          "name": "stderr",
          "output_type": "stream",
          "text": "Lossy conversion from float64 to uint8. Range [0, 1]. Convert image to uint8 prior to saving to suppress this warning.\n\nLossy conversion from float64 to uint8. Range [0, 1]. Convert image to uint8 prior to saving to suppress this warning.\n\nLossy conversion from float64 to uint8. Range [0, 1]. Convert image to uint8 prior to saving to suppress this warning.\n"
        },
        {
          "name": "stdout",
          "output_type": "stream",
          "text": "Finished:  403\n\nFilename:  #frac{514}{387}#alpha^2-644 #geq -224_928.jpg\n\nFinished:  404\n\nFilename:  #frac{880}{122}-782 = 98_28321.jpg\n\nFinished:  405\n\nFilename:  #frac{829}{963}y^3+740 #leq 1573_27250.jpg\n"
        },
        {
          "name": "stderr",
          "output_type": "stream",
          "text": "Lossy conversion from float64 to uint8. Range [0, 1]. Convert image to uint8 prior to saving to suppress this warning.\n\nLossy conversion from float64 to uint8. Range [0, 1]. Convert image to uint8 prior to saving to suppress this warning.\n\nLossy conversion from float64 to uint8. Range [0, 1]. Convert image to uint8 prior to saving to suppress this warning.\n"
        },
        {
          "name": "stdout",
          "output_type": "stream",
          "text": "Finished:  406\n\nFilename:  #frac{391}{303}#beta^2-568 #neq -125_63121.jpg\n\nFinished:  407\n\nFilename:  #frac{910}{974}+68 = 978_47965.jpg\n\nFinished:  408\n\nFilename:  #frac{747}{884}y^4+942 #neq 1752_90663.jpg\n"
        },
        {
          "name": "stderr",
          "output_type": "stream",
          "text": "Lossy conversion from float64 to uint8. Range [0, 1]. Convert image to uint8 prior to saving to suppress this warning.\n\nLossy conversion from float64 to uint8. Range [0, 1]. Convert image to uint8 prior to saving to suppress this warning.\n\nLossy conversion from float64 to uint8. Range [0, 1]. Convert image to uint8 prior to saving to suppress this warning.\n"
        },
        {
          "name": "stdout",
          "output_type": "stream",
          "text": "Finished:  409\n\nFilename:  #frac{84}{141}-695 = -611_91121.jpg\n\nFinished:  410\n\nFilename:  #frac{855}{656}+341 = 1196_57164.jpg\n\nFinished:  411\n\nFilename:  #frac{996}{231}+270 = 1266_1558.jpg\n"
        },
        {
          "name": "stderr",
          "output_type": "stream",
          "text": "Lossy conversion from float64 to uint8. Range [0, 1]. Convert image to uint8 prior to saving to suppress this warning.\n"
        },
        {
          "name": "stdout",
          "output_type": "stream",
          "text": "Finished:  412\n\nFilename:  #frac{502}{185}#beta^4-756 #leq -239_63015.jpg\n"
        },
        {
          "name": "stderr",
          "output_type": "stream",
          "text": "Lossy conversion from float64 to uint8. Range [0, 1]. Convert image to uint8 prior to saving to suppress this warning.\n\nLossy conversion from float64 to uint8. Range [0, 1]. Convert image to uint8 prior to saving to suppress this warning.\n"
        },
        {
          "name": "stdout",
          "output_type": "stream",
          "text": "Finished:  413\n\nFilename:  #frac{359}{527}+895 = 1254_17695.jpg\n\nFinished:  414\n\nFilename:  #frac{757}{107}-642 = 115_95626.jpg\n"
        },
        {
          "name": "stderr",
          "output_type": "stream",
          "text": "Lossy conversion from float64 to uint8. Range [0, 1]. Convert image to uint8 prior to saving to suppress this warning.\n\nLossy conversion from float64 to uint8. Range [0, 1]. Convert image to uint8 prior to saving to suppress this warning.\n"
        },
        {
          "name": "stdout",
          "output_type": "stream",
          "text": "Finished:  415\n\nFilename:  #frac{298}{741}x^3+431 #geq 646_11804.jpg\n\nFinished:  416\n\nFilename:  #frac{708}{50}#beta^2+455 #leq 1164_3900.jpg\n"
        },
        {
          "name": "stderr",
          "output_type": "stream",
          "text": "Lossy conversion from float64 to uint8. Range [0, 1]. Convert image to uint8 prior to saving to suppress this warning.\n\nLossy conversion from float64 to uint8. Range [0, 1]. Convert image to uint8 prior to saving to suppress this warning.\n"
        },
        {
          "name": "stdout",
          "output_type": "stream",
          "text": "Finished:  417\n\nFilename:  #frac{900}{428}-932 = -32_51393.jpg\n\nFinished:  418\n\nFilename:  #frac{426}{647}#beta^4-223 #geq 180_96943.jpg\n"
        },
        {
          "name": "stderr",
          "output_type": "stream",
          "text": "Lossy conversion from float64 to uint8. Range [0, 1]. Convert image to uint8 prior to saving to suppress this warning.\n\nLossy conversion from float64 to uint8. Range [0, 1]. Convert image to uint8 prior to saving to suppress this warning.\n\nLossy conversion from float64 to uint8. Range [0, 1]. Convert image to uint8 prior to saving to suppress this warning.\n"
        },
        {
          "name": "stdout",
          "output_type": "stream",
          "text": "Finished:  419\n\nFilename:  #frac{961}{502}#alpha^4+868 #leq 1899_8580.jpg\n\nFinished:  420\n\nFilename:  #frac{748}{737}#alpha^4-681 #leq 83_54067.jpg\n\nFinished:  421\n\nFilename:  #frac{380}{400}x^3-789 #leq -401_69604.jpg\n"
        },
        {
          "name": "stderr",
          "output_type": "stream",
          "text": "Lossy conversion from float64 to uint8. Range [0, 1]. Convert image to uint8 prior to saving to suppress this warning.\n\nLossy conversion from float64 to uint8. Range [0, 1]. Convert image to uint8 prior to saving to suppress this warning.\n"
        },
        {
          "name": "stdout",
          "output_type": "stream",
          "text": "Finished:  422\n\nFilename:  #frac{602}{430}x^3-843 #leq -147_20908.jpg\n\nFinished:  423\n\nFilename:  #frac{540}{178}-905 = -365_72712.jpg\n"
        },
        {
          "name": "stderr",
          "output_type": "stream",
          "text": "Lossy conversion from float64 to uint8. Range [0, 1]. Convert image to uint8 prior to saving to suppress this warning.\n\nLossy conversion from float64 to uint8. Range [0, 1]. Convert image to uint8 prior to saving to suppress this warning.\n"
        },
        {
          "name": "stdout",
          "output_type": "stream",
          "text": "Finished:  424\n\nFilename:  #frac{701}{955}y^3+950 #neq 1703_40511.jpg\n\nFinished:  425\n\nFilename:  #frac{73}{187}#beta^2+349 #neq 444_15052.jpg\n"
        },
        {
          "name": "stderr",
          "output_type": "stream",
          "text": "Lossy conversion from float64 to uint8. Range [0, 1]. Convert image to uint8 prior to saving to suppress this warning.\n\nLossy conversion from float64 to uint8. Range [0, 1]. Convert image to uint8 prior to saving to suppress this warning.\n"
        },
        {
          "name": "stdout",
          "output_type": "stream",
          "text": "Finished:  426\n\nFilename:  #frac{591}{322}#beta^4+621 #neq 1213_59692.jpg\n\nFinished:  427\n\nFilename:  #frac{945}{611}x^3-199 #neq 835_82661.jpg\n"
        },
        {
          "name": "stderr",
          "output_type": "stream",
          "text": "Lossy conversion from float64 to uint8. Range [0, 1]. Convert image to uint8 prior to saving to suppress this warning.\n\nLossy conversion from float64 to uint8. Range [0, 1]. Convert image to uint8 prior to saving to suppress this warning.\n\nLossy conversion from float64 to uint8. Range [0, 1]. Convert image to uint8 prior to saving to suppress this warning.\n\nLossy conversion from float64 to uint8. Range [0, 1]. Convert image to uint8 prior to saving to suppress this warning.\n"
        },
        {
          "name": "stdout",
          "output_type": "stream",
          "text": "Finished:  428\n\nFilename:  #frac{203}{507}x^2+587 #geq 757_46322.jpg\n\nFinished:  429\n\nFilename:  #frac{938}{225}x^2+197 #neq 1209_51498.jpg\n\nFinished:  430\n\nFilename:  #frac{110}{621}#beta^2+336 #geq 378_26527.jpg\n"
        },
        {
          "name": "stderr",
          "output_type": "stream",
          "text": "Lossy conversion from float64 to uint8. Range [0, 1]. Convert image to uint8 prior to saving to suppress this warning.\n\nLossy conversion from float64 to uint8. Range [0, 1]. Convert image to uint8 prior to saving to suppress this warning.\n\nLossy conversion from float64 to uint8. Range [0, 1]. Convert image to uint8 prior to saving to suppress this warning.\n"
        },
        {
          "name": "stdout",
          "output_type": "stream",
          "text": "Finished:  431\n\nFilename:  #frac{664}{403}+582 = 1246_53788.jpg\n\nFinished:  432\n\nFilename:  #frac{659}{349}y^3+116 #leq 803_77252.jpg\n\nFinished:  433\n\nFilename:  #frac{784}{714}#beta^2+558 #neq 1398_27426.jpg\n"
        },
        {
          "name": "stderr",
          "output_type": "stream",
          "text": "Lossy conversion from float64 to uint8. Range [0, 1]. Convert image to uint8 prior to saving to suppress this warning.\n\nLossy conversion from float64 to uint8. Range [0, 1]. Convert image to uint8 prior to saving to suppress this warning.\n\nLossy conversion from float64 to uint8. Range [0, 1]. Convert image to uint8 prior to saving to suppress this warning.\n"
        },
        {
          "name": "stdout",
          "output_type": "stream",
          "text": "Finished:  434\n\nFilename:  #frac{711}{875}-677 = 34_60894.jpg\n\nFinished:  435\n\nFilename:  #frac{611}{29}y^2-739 #leq -63_89480.jpg\n\nFinished:  436\n\nFilename:  #frac{662}{173}#beta^2+849 #neq 1573_53754.jpg\n"
        },
        {
          "name": "stderr",
          "output_type": "stream",
          "text": "Lossy conversion from float64 to uint8. Range [0, 1]. Convert image to uint8 prior to saving to suppress this warning.\n\nLossy conversion from float64 to uint8. Range [0, 1]. Convert image to uint8 prior to saving to suppress this warning.\n\nLossy conversion from float64 to uint8. Range [0, 1]. Convert image to uint8 prior to saving to suppress this warning.\n"
        },
        {
          "name": "stdout",
          "output_type": "stream",
          "text": "Finished:  437\n\nFilename:  #frac{545}{510}#alpha^3-325 #leq 246_88610.jpg\n\nFinished:  438\n\nFilename:  #frac{56}{709}#alpha^3+500 #geq 549_26780.jpg\n\nFinished:  439\n\nFilename:  #frac{716}{304}x^3+42 #geq 703_93365.jpg\n"
        },
        {
          "name": "stderr",
          "output_type": "stream",
          "text": "Lossy conversion from float64 to uint8. Range [0, 1]. Convert image to uint8 prior to saving to suppress this warning.\n\nLossy conversion from float64 to uint8. Range [0, 1]. Convert image to uint8 prior to saving to suppress this warning.\n"
        },
        {
          "name": "stdout",
          "output_type": "stream",
          "text": "Finished:  440\n\nFilename:  #frac{373}{695}x^2+251 #neq 681_58817.jpg\n\nFinished:  441\n\nFilename:  #frac{416}{622}+831 = 1247_98594.jpg\n\nFinished:  442\n\nFilename:  #frac{740}{500}#beta^2-352 #neq 459_10022.jpg\n"
        },
        {
          "name": "stderr",
          "output_type": "stream",
          "text": "Lossy conversion from float64 to uint8. Range [0, 1]. Convert image to uint8 prior to saving to suppress this warning.\n\nLossy conversion from float64 to uint8. Range [0, 1]. Convert image to uint8 prior to saving to suppress this warning.\n\nLossy conversion from float64 to uint8. Range [0, 1]. Convert image to uint8 prior to saving to suppress this warning.\n\nLossy conversion from float64 to uint8. Range [0, 1]. Convert image to uint8 prior to saving to suppress this warning.\n"
        },
        {
          "name": "stdout",
          "output_type": "stream",
          "text": "Finished:  443\n\nFilename:  #frac{247}{692}+460 = 707_67192.jpg\n\nFinished:  444\n\nFilename:  #frac{740}{277}+975 = 1715_27848.jpg\n\nFinished:  445\n\nFilename:  #frac{665}{78}+817 = 1482_43125.jpg\n\nFinished:  446\n"
        },
        {
          "name": "stderr",
          "output_type": "stream",
          "text": "Lossy conversion from float64 to uint8. Range [0, 1]. Convert image to uint8 prior to saving to suppress this warning.\n\nLossy conversion from float64 to uint8. Range [0, 1]. Convert image to uint8 prior to saving to suppress this warning.\n\nLossy conversion from float64 to uint8. Range [0, 1]. Convert image to uint8 prior to saving to suppress this warning.\n"
        },
        {
          "name": "stdout",
          "output_type": "stream",
          "text": "Filename:  #frac{621}{25}#beta^3+710 #leq 1347_94107.jpg\n\nFinished:  447\n\nFilename:  #frac{671}{493}y^4-279 #neq 469_45145.jpg\n\nFinished:  448\n\nFilename:  #frac{418}{91}y^4+29 #leq 474_5662.jpg\n\nFinished:  449\n\nFilename:  #frac{608}{260}#alpha^3+900 #geq 1508_8306.jpg\n"
        },
        {
          "name": "stderr",
          "output_type": "stream",
          "text": "Lossy conversion from float64 to uint8. Range [0, 1]. Convert image to uint8 prior to saving to suppress this warning.\n\nLossy conversion from float64 to uint8. Range [0, 1]. Convert image to uint8 prior to saving to suppress this warning.\n"
        },
        {
          "name": "stdout",
          "output_type": "stream",
          "text": "Finished:  450\n\nFilename:  #frac{940}{814}x^4-311 #leq 725_73940.jpg\n\nFinished:  451\n\nFilename:  #frac{249}{219}#alpha^3-808 #geq -623_51646.jpg\n"
        },
        {
          "name": "stderr",
          "output_type": "stream",
          "text": "Lossy conversion from float64 to uint8. Range [0, 1]. Convert image to uint8 prior to saving to suppress this warning.\n\nLossy conversion from float64 to uint8. Range [0, 1]. Convert image to uint8 prior to saving to suppress this warning.\n\nLossy conversion from float64 to uint8. Range [0, 1]. Convert image to uint8 prior to saving to suppress this warning.\n"
        },
        {
          "name": "stdout",
          "output_type": "stream",
          "text": "Finished:  452\n\nFilename:  #frac{7}{996}#beta^4+854 #leq 954_53171.jpg\n\nFinished:  453\n\nFilename:  #frac{129}{120}x^4-631 #neq -450_54856.jpg\n\nFinished:  454\n\nFilename:  #frac{425}{893}y^3+986 #neq 1504_79128.jpg\n"
        },
        {
          "name": "stderr",
          "output_type": "stream",
          "text": "Lossy conversion from float64 to uint8. Range [0, 1]. Convert image to uint8 prior to saving to suppress this warning.\n\nLossy conversion from float64 to uint8. Range [-0.9024390243902404, 1.0]. Convert image to uint8 prior to saving to suppress this warning.\n\nLossy conversion from float64 to uint8. Range [0, 1]. Convert image to uint8 prior to saving to suppress this warning.\n\nLossy conversion from float64 to uint8. Range [0, 1]. Convert image to uint8 prior to saving to suppress this warning.\n"
        },
        {
          "name": "stdout",
          "output_type": "stream",
          "text": "Finished:  455\n\nFilename:  #frac{927}{205}#alpha^3+801 #geq 1698_82576.jpg\n\nFinished:  456\n\nFilename:  #frac{329}{128}y^4-39 #leq 377_71652.jpg\n\nFinished:  457\n\nFilename:  #frac{181}{388}y^4-352 #neq -99_21684.jpg\n\nFinished:  458\n"
        },
        {
          "name": "stderr",
          "output_type": "stream",
          "text": "Lossy conversion from float64 to uint8. Range [0, 1]. Convert image to uint8 prior to saving to suppress this warning.\n\nLossy conversion from float64 to uint8. Range [0, 1]. Convert image to uint8 prior to saving to suppress this warning.\n\nLossy conversion from float64 to uint8. Range [0, 1]. Convert image to uint8 prior to saving to suppress this warning.\n"
        },
        {
          "name": "stdout",
          "output_type": "stream",
          "text": "Filename:  #frac{857}{73}#alpha^3-248 #leq 658_43417.jpg\n\nFinished:  459\n\nFilename:  #frac{716}{610}+955 = 1671_15866.jpg\n\nFinished:  460\n\nFilename:  #frac{698}{259}y^3-218 #geq 404_4715.jpg\n"
        },
        {
          "name": "stderr",
          "output_type": "stream",
          "text": "Lossy conversion from float64 to uint8. Range [0, 1]. Convert image to uint8 prior to saving to suppress this warning.\n\nLossy conversion from float64 to uint8. Range [0, 1]. Convert image to uint8 prior to saving to suppress this warning.\n\nLossy conversion from float64 to uint8. Range [0, 1]. Convert image to uint8 prior to saving to suppress this warning.\n"
        },
        {
          "name": "stdout",
          "output_type": "stream",
          "text": "Finished:  461\n\nFilename:  #frac{191}{27}x^3+158 #geq 305_38811.jpg\n\nFinished:  462\n\nFilename:  #frac{417}{581}x^2-465 #leq 46_2869.jpg\n\nFinished:  463\n\nFilename:  #frac{357}{102}y^3-644 #geq -296_47299.jpg\n"
        },
        {
          "name": "stderr",
          "output_type": "stream",
          "text": "Lossy conversion from float64 to uint8. Range [0, 1]. Convert image to uint8 prior to saving to suppress this warning.\n\nLossy conversion from float64 to uint8. Range [0, 1]. Convert image to uint8 prior to saving to suppress this warning.\n\nLossy conversion from float64 to uint8. Range [0, 1]. Convert image to uint8 prior to saving to suppress this warning.\n"
        },
        {
          "name": "stdout",
          "output_type": "stream",
          "text": "Finished:  464\n\nFilename:  #frac{711}{155}y^3-543 #neq 200_36055.jpg\n\nFinished:  465\n\nFilename:  #frac{910}{995}#alpha^4-373 #leq 632_91789.jpg\n\nFinished:  466\n\nFilename:  #frac{861}{88}+140 = 1001_92133.jpg\n"
        },
        {
          "name": "stderr",
          "output_type": "stream",
          "text": "Lossy conversion from float64 to uint8. Range [0, 1]. Convert image to uint8 prior to saving to suppress this warning.\n\nLossy conversion from float64 to uint8. Range [0, 1]. Convert image to uint8 prior to saving to suppress this warning.\n\nLossy conversion from float64 to uint8. Range [0, 1]. Convert image to uint8 prior to saving to suppress this warning.\n"
        },
        {
          "name": "stdout",
          "output_type": "stream",
          "text": "Finished:  467\n\nFilename:  #frac{79}{647}x^3+160 #leq 338_8866.jpg\n\nFinished:  468\n\nFilename:  #frac{650}{931}x^4+353 #leq 1033_44147.jpg\n\nFinished:  469\n\nFilename:  #frac{896}{395}-565 = 331_17365.jpg\n"
        },
        {
          "name": "stderr",
          "output_type": "stream",
          "text": "Lossy conversion from float64 to uint8. Range [0, 1]. Convert image to uint8 prior to saving to suppress this warning.\n\nLossy conversion from float64 to uint8. Range [0, 1]. Convert image to uint8 prior to saving to suppress this warning.\n\nLossy conversion from float64 to uint8. Range [0, 1]. Convert image to uint8 prior to saving to suppress this warning.\n"
        },
        {
          "name": "stdout",
          "output_type": "stream",
          "text": "Finished:  470\n\nFilename:  #frac{599}{178}-245 = 354_35964.jpg\n\nFinished:  471\n\nFilename:  #frac{199}{29}-624 = -425_13513.jpg\n\nFinished:  472\n\nFilename:  #frac{297}{342}#alpha^2-541 #geq -270_68544.jpg\n\nFinished:  473\n\nFilename:  #frac{504}{443}x^2+566 #neq 1135_11762.jpg\n"
        },
        {
          "name": "stderr",
          "output_type": "stream",
          "text": "Lossy conversion from float64 to uint8. Range [0, 1]. Convert image to uint8 prior to saving to suppress this warning.\n\nLossy conversion from float64 to uint8. Range [0, 1]. Convert image to uint8 prior to saving to suppress this warning.\n\nLossy conversion from float64 to uint8. Range [0, 1]. Convert image to uint8 prior to saving to suppress this warning.\n"
        },
        {
          "name": "stdout",
          "output_type": "stream",
          "text": "Finished:  474\n\nFilename:  #frac{853}{309}x^3-703 #geq 92_9158.jpg\n\nFinished:  475\n\nFilename:  #frac{648}{917}#alpha^2+446 #geq 1071_28746.jpg\n\nFinished:  476\n\nFilename:  #frac{272}{486}-492 = -220_6690.jpg\n"
        },
        {
          "name": "stderr",
          "output_type": "stream",
          "text": "Lossy conversion from float64 to uint8. Range [0, 1]. Convert image to uint8 prior to saving to suppress this warning.\n\nLossy conversion from float64 to uint8. Range [0, 1]. Convert image to uint8 prior to saving to suppress this warning.\n\nLossy conversion from float64 to uint8. Range [0, 1]. Convert image to uint8 prior to saving to suppress this warning.\n\nLossy conversion from float64 to uint8. Range [0, 1]. Convert image to uint8 prior to saving to suppress this warning.\n"
        },
        {
          "name": "stdout",
          "output_type": "stream",
          "text": "Finished:  477\n\nFilename:  #frac{881}{274}+249 = 1130_89552.jpg\n\nFinished:  478\n\nFilename:  #frac{134}{948}x^3-114 #leq 32_5190.jpg\n\nFinished:  479\n\nFilename:  #frac{341}{207}+699 = 1040_55796.jpg\n\nFinished:  480\n\nFilename:  #frac{616}{834}+603 = 1219_66432.jpg\n"
        },
        {
          "name": "stderr",
          "output_type": "stream",
          "text": "Lossy conversion from float64 to uint8. Range [-0.875, 1.0]. Convert image to uint8 prior to saving to suppress this warning.\n\nLossy conversion from float64 to uint8. Range [0, 1]. Convert image to uint8 prior to saving to suppress this warning.\n\nLossy conversion from float64 to uint8. Range [0, 1]. Convert image to uint8 prior to saving to suppress this warning.\n\nLossy conversion from float64 to uint8. Range [-0.0012501789706707803, 1.0]. Convert image to uint8 prior to saving to suppress this warning.\n"
        },
        {
          "name": "stdout",
          "output_type": "stream",
          "text": "Finished:  481\n\nFilename:  #frac{120}{569}x^3-496 #leq -375_54231.jpg\n\nFinished:  482\n\nFilename:  #frac{734}{621}-841 = -107_45370.jpg\n\nFinished:  483\n\nFilename:  #frac{717}{240}#alpha^4-839 #neq -22_46634.jpg\n\nFinished:  484\n\nFilename:  #frac{489}{649}x^3-429 #geq 7_2393.jpg\n"
        },
        {
          "name": "stderr",
          "output_type": "stream",
          "text": "Lossy conversion from float64 to uint8. Range [0, 1]. Convert image to uint8 prior to saving to suppress this warning.\n\nLossy conversion from float64 to uint8. Range [0, 1]. Convert image to uint8 prior to saving to suppress this warning.\n\nLossy conversion from float64 to uint8. Range [0, 1]. Convert image to uint8 prior to saving to suppress this warning.\n\nLossy conversion from float64 to uint8. Range [0, 1]. Convert image to uint8 prior to saving to suppress this warning.\n"
        },
        {
          "name": "stdout",
          "output_type": "stream",
          "text": "Finished:  485\n\nFilename:  #frac{176}{396}#alpha^2-267 #neq -79_38790.jpg\n\nFinished:  486\n\nFilename:  #frac{743}{622}#beta^2+233 #neq 979_37316.jpg\n\nFinished:  487\n\nFilename:  #frac{726}{812}x^2+387 #geq 1068_88096.jpg\n\nFinished:  488\n\nFilename:  #frac{314}{321}#beta^2+303 #geq 595_90693.jpg\n"
        },
        {
          "name": "stderr",
          "output_type": "stream",
          "text": "Lossy conversion from float64 to uint8. Range [0, 1]. Convert image to uint8 prior to saving to suppress this warning.\n\nLossy conversion from float64 to uint8. Range [0, 1]. Convert image to uint8 prior to saving to suppress this warning.\n\nLossy conversion from float64 to uint8. Range [0, 1]. Convert image to uint8 prior to saving to suppress this warning.\n\nLossy conversion from float64 to uint8. Range [0, 1]. Convert image to uint8 prior to saving to suppress this warning.\n"
        },
        {
          "name": "stdout",
          "output_type": "stream",
          "text": "Finished:  489\n\nFilename:  #frac{860}{23}y^2-581 #leq 298_85856.jpg\n\nFinished:  490\n\nFilename:  #frac{409}{514}-317 = 92_39061.jpg\n\nFinished:  491\n\nFilename:  #frac{150}{110}x^4-835 #neq -679_97432.jpg\n"
        },
        {
          "name": "stderr",
          "output_type": "stream",
          "text": "Lossy conversion from float64 to uint8. Range [0, 1]. Convert image to uint8 prior to saving to suppress this warning.\n\nLossy conversion from float64 to uint8. Range [0, 1]. Convert image to uint8 prior to saving to suppress this warning.\n\nLossy conversion from float64 to uint8. Range [0, 1]. Convert image to uint8 prior to saving to suppress this warning.\n"
        },
        {
          "name": "stdout",
          "output_type": "stream",
          "text": "Finished:  492\n\nFilename:  #frac{785}{524}x^3-603 #leq 281_89859.jpg\n\nFinished:  493\n\nFilename:  #frac{144}{602}y^3+655 #leq 890_73591.jpg\n\nFinished:  494\n\nFilename:  #frac{232}{763}-937 = -705_15341.jpg\n\nFinished:  495\n\nFilename:  #frac{408}{586}+27 = 435_41809.jpg\n"
        },
        {
          "name": "stderr",
          "output_type": "stream",
          "text": "Lossy conversion from float64 to uint8. Range [0, 1]. Convert image to uint8 prior to saving to suppress this warning.\n\nLossy conversion from float64 to uint8. Range [0, 1]. Convert image to uint8 prior to saving to suppress this warning.\n\nLossy conversion from float64 to uint8. Range [-0.0020705793629669607, 1.0]. Convert image to uint8 prior to saving to suppress this warning.\n\nLossy conversion from float64 to uint8. Range [0, 1]. Convert image to uint8 prior to saving to suppress this warning.\n"
        },
        {
          "name": "stdout",
          "output_type": "stream",
          "text": "Finished:  496\n\nFilename:  #frac{620}{356}x^4+954 #geq 1499_48189.jpg\n\nFinished:  497\n\nFilename:  #frac{903}{506}#beta^3-31 #geq 814_92425.jpg\n\nFinished:  498\n\nFilename:  #frac{555}{488}#alpha^3-159 #neq 479_59505.jpg\n"
        },
        {
          "name": "stderr",
          "output_type": "stream",
          "text": "Lossy conversion from float64 to uint8. Range [0, 1]. Convert image to uint8 prior to saving to suppress this warning.\n\nLossy conversion from float64 to uint8. Range [0, 1]. Convert image to uint8 prior to saving to suppress this warning.\n\nLossy conversion from float64 to uint8. Range [0, 1]. Convert image to uint8 prior to saving to suppress this warning.\n"
        },
        {
          "name": "stdout",
          "output_type": "stream",
          "text": "Finished:  499\n\nFilename:  #frac{477}{829}#beta^4+125 #neq 698_27861.jpg\n\nFinished:  500\n\nFilename:  #frac{443}{926}+798 = 1241_8187.jpg\n\nFinished:  501\n\nFilename:  #frac{923}{283}+654 = 1577_18302.jpg\n"
        },
        {
          "name": "stderr",
          "output_type": "stream",
          "text": "Lossy conversion from float64 to uint8. Range [0, 1]. Convert image to uint8 prior to saving to suppress this warning.\n\nLossy conversion from float64 to uint8. Range [0, 1]. Convert image to uint8 prior to saving to suppress this warning.\n"
        },
        {
          "name": "stdout",
          "output_type": "stream",
          "text": "Finished:  502\n\nFilename:  #frac{921}{812}#alpha^4+384 #leq 1398_25852.jpg\n\nFinished:  503\n\nFilename:  #frac{640}{247}x^4+324 #geq 964_4727.jpg\n\nFinished:  504\n\nFilename:  #frac{838}{994}x^4+538 #geq 1331_90709.jpg\n"
        },
        {
          "name": "stderr",
          "output_type": "stream",
          "text": "Lossy conversion from float64 to uint8. Range [0, 1]. Convert image to uint8 prior to saving to suppress this warning.\n\nLossy conversion from float64 to uint8. Range [0, 1]. Convert image to uint8 prior to saving to suppress this warning.\n"
        },
        {
          "name": "stdout",
          "output_type": "stream",
          "text": "Finished:  505\n\nFilename:  #frac{233}{91}#beta^3+151 #leq 384_96826.jpg\n\nFinished:  506\n\nFilename:  #frac{256}{101}-631 = -375_21554.jpg\n"
        },
        {
          "name": "stderr",
          "output_type": "stream",
          "text": "Lossy conversion from float64 to uint8. Range [0, 1]. Convert image to uint8 prior to saving to suppress this warning.\n\nLossy conversion from float64 to uint8. Range [-0.5193290633413715, 1.0]. Convert image to uint8 prior to saving to suppress this warning.\n\nLossy conversion from float64 to uint8. Range [0, 1]. Convert image to uint8 prior to saving to suppress this warning.\n\nLossy conversion from float64 to uint8. Range [0, 1]. Convert image to uint8 prior to saving to suppress this warning.\n"
        },
        {
          "name": "stdout",
          "output_type": "stream",
          "text": "Finished:  507\n\nFilename:  #frac{797}{443}-1 = 796_45158.jpg\n\nFinished:  508\n\nFilename:  #frac{953}{266}#beta^2+333 #geq 1274_62036.jpg\n\nFinished:  509\n\nFilename:  #frac{124}{667}#alpha^3+301 #geq 398_20640.jpg\n\nFinished:  510\n\nFilename:  #frac{552}{876}x^2-764 #geq -272_76715.jpg\n"
        },
        {
          "name": "stderr",
          "output_type": "stream",
          "text": "Lossy conversion from float64 to uint8. Range [0, 1]. Convert image to uint8 prior to saving to suppress this warning.\n\nLossy conversion from float64 to uint8. Range [0, 1]. Convert image to uint8 prior to saving to suppress this warning.\n\nLossy conversion from float64 to uint8. Range [0, 1]. Convert image to uint8 prior to saving to suppress this warning.\n"
        },
        {
          "name": "stdout",
          "output_type": "stream",
          "text": "Finished:  511\n\nFilename:  #frac{603}{342}y^4+619 #geq 1178_48101.jpg\n\nFinished:  512\n\nFilename:  #frac{61}{400}#alpha^4-575 #leq -466_71228.jpg\n\nFinished:  513\n\nFilename:  #frac{296}{390}#beta^4+901 #geq 1192_70092.jpg\n"
        },
        {
          "name": "stderr",
          "output_type": "stream",
          "text": "Lossy conversion from float64 to uint8. Range [0, 1]. Convert image to uint8 prior to saving to suppress this warning.\n\nLossy conversion from float64 to uint8. Range [0, 1]. Convert image to uint8 prior to saving to suppress this warning.\n"
        },
        {
          "name": "stdout",
          "output_type": "stream",
          "text": "Finished:  514\n\nFilename:  #frac{830}{232}x^4+219 #geq 1017_58123.jpg\n"
        },
        {
          "name": "stderr",
          "output_type": "stream",
          "text": "Lossy conversion from float64 to uint8. Range [0, 1]. Convert image to uint8 prior to saving to suppress this warning.\n\nLossy conversion from float64 to uint8. Range [-0.004248366013072044, 1.0]. Convert image to uint8 prior to saving to suppress this warning.\n"
        },
        {
          "name": "stdout",
          "output_type": "stream",
          "text": "Finished:  515\n\nFilename:  #frac{732}{741}#beta^2-160 #geq 535_84102.jpg\n\nFinished:  516\n\nFilename:  #frac{320}{187}#beta^4+124 #leq 483_93687.jpg\n\nFinished:  517\n\nFilename:  #frac{66}{830}#beta^2+792 #geq 831_33421.jpg\n"
        },
        {
          "name": "stderr",
          "output_type": "stream",
          "text": "Lossy conversion from float64 to uint8. Range [0, 1]. Convert image to uint8 prior to saving to suppress this warning.\n\nLossy conversion from float64 to uint8. Range [0, 1]. Convert image to uint8 prior to saving to suppress this warning.\n\nLossy conversion from float64 to uint8. Range [0, 1]. Convert image to uint8 prior to saving to suppress this warning.\n\nLossy conversion from float64 to uint8. Range [0, 1]. Convert image to uint8 prior to saving to suppress this warning.\n"
        },
        {
          "name": "stdout",
          "output_type": "stream",
          "text": "Finished:  518\n\nFilename:  #frac{334}{510}y^4-17 #leq 388_83379.jpg\n\nFinished:  519\n\nFilename:  #frac{960}{241}#beta^3+934 #leq 1932_65177.jpg\n\nFinished:  520\n\nFilename:  #frac{379}{273}+568 = 947_77452.jpg\n"
        },
        {
          "name": "stderr",
          "output_type": "stream",
          "text": "Lossy conversion from float64 to uint8. Range [0, 1]. Convert image to uint8 prior to saving to suppress this warning.\n\nLossy conversion from float64 to uint8. Range [0, 1]. Convert image to uint8 prior to saving to suppress this warning.\n\nLossy conversion from float64 to uint8. Range [0, 1]. Convert image to uint8 prior to saving to suppress this warning.\n"
        },
        {
          "name": "stdout",
          "output_type": "stream",
          "text": "Finished:  521\n\nFilename:  #frac{442}{570}#beta^4-200 #neq 286_34154.jpg\n\nFinished:  522\n\nFilename:  #frac{792}{202}x^3+119 #leq 929_3256.jpg\n\nFinished:  523\n\nFilename:  #frac{866}{895}-98 = 768_95162.jpg\n\nFinished:  524\n\nFilename:  #frac{933}{693}y^4-829 #neq 150_71281.jpg\n"
        },
        {
          "name": "stderr",
          "output_type": "stream",
          "text": "Lossy conversion from float64 to uint8. Range [0, 1]. Convert image to uint8 prior to saving to suppress this warning.\n\nLossy conversion from float64 to uint8. Range [0, 1]. Convert image to uint8 prior to saving to suppress this warning.\n\nLossy conversion from float64 to uint8. Range [0, 1]. Convert image to uint8 prior to saving to suppress this warning.\n\nLossy conversion from float64 to uint8. Range [0, 1]. Convert image to uint8 prior to saving to suppress this warning.\n"
        },
        {
          "name": "stdout",
          "output_type": "stream",
          "text": "Finished:  525\n\nFilename:  #frac{430}{949}+503 = 933_84847.jpg\n\nFinished:  526\n\nFilename:  #frac{277}{188}x^3+76 #geq 318_79937.jpg\n\nFinished:  527\n\nFilename:  #frac{488}{490}#beta^2+819 #geq 1234_11179.jpg\n\nFinished:  528\n\nFilename:  #frac{709}{317}+944 = 1653_73191.jpg\n"
        },
        {
          "name": "stderr",
          "output_type": "stream",
          "text": "Lossy conversion from float64 to uint8. Range [0, 1]. Convert image to uint8 prior to saving to suppress this warning.\n\nLossy conversion from float64 to uint8. Range [0, 1]. Convert image to uint8 prior to saving to suppress this warning.\n\nLossy conversion from float64 to uint8. Range [0, 1]. Convert image to uint8 prior to saving to suppress this warning.\n\nLossy conversion from float64 to uint8. Range [0, 1]. Convert image to uint8 prior to saving to suppress this warning.\n"
        },
        {
          "name": "stdout",
          "output_type": "stream",
          "text": "Finished:  529\n\nFilename:  #frac{903}{717}x^3-602 #leq 364_20647.jpg\n\nFinished:  530\n\nFilename:  #frac{265}{553}-71 = 194_43233.jpg\n\nFinished:  531\n\nFilename:  #frac{929}{887}y^3-557 #leq 383_31154.jpg\n\nFinished:  532\n\nFilename:  #frac{641}{366}#beta^4+624 #leq 1336_51473.jpg\n"
        },
        {
          "name": "stderr",
          "output_type": "stream",
          "text": "Lossy conversion from float64 to uint8. Range [0, 1]. Convert image to uint8 prior to saving to suppress this warning.\n\nLossy conversion from float64 to uint8. Range [0, 1]. Convert image to uint8 prior to saving to suppress this warning.\n\nLossy conversion from float64 to uint8. Range [0, 1]. Convert image to uint8 prior to saving to suppress this warning.\n\nLossy conversion from float64 to uint8. Range [0, 1]. Convert image to uint8 prior to saving to suppress this warning.\n"
        },
        {
          "name": "stdout",
          "output_type": "stream",
          "text": "Finished:  533\n\nFilename:  #frac{573}{23}x^2+942 #neq 1532_79636.jpg\n\nFinished:  534\n\nFilename:  #frac{488}{87}+235 = 723_8159.jpg\n\nFinished:  535\n\nFilename:  #frac{780}{551}#beta^3+982 #leq 1802_8675.jpg\n\nFinished:  536\n\nFilename:  #frac{703}{566}+371 = 1074_42475.jpg\n"
        },
        {
          "name": "stderr",
          "output_type": "stream",
          "text": "Lossy conversion from float64 to uint8. Range [0, 1]. Convert image to uint8 prior to saving to suppress this warning.\n\nLossy conversion from float64 to uint8. Range [0, 1]. Convert image to uint8 prior to saving to suppress this warning.\n\nLossy conversion from float64 to uint8. Range [0, 1]. Convert image to uint8 prior to saving to suppress this warning.\n"
        },
        {
          "name": "stdout",
          "output_type": "stream",
          "text": "Finished:  537\n\nFilename:  #frac{893}{335}+145 = 1038_42216.jpg\n\nFinished:  538\n\nFilename:  #frac{355}{859}#beta^3-351 #neq 40_63713.jpg\n\nFinished:  539\n\nFilename:  #frac{335}{622}#beta^3-705 #geq -463_93759.jpg\n"
        },
        {
          "name": "stderr",
          "output_type": "stream",
          "text": "Lossy conversion from float64 to uint8. Range [0, 1]. Convert image to uint8 prior to saving to suppress this warning.\n\nLossy conversion from float64 to uint8. Range [0, 1]. Convert image to uint8 prior to saving to suppress this warning.\n\nLossy conversion from float64 to uint8. Range [0, 1]. Convert image to uint8 prior to saving to suppress this warning.\n\nLossy conversion from float64 to uint8. Range [-0.9181919253174562, 1.0]. Convert image to uint8 prior to saving to suppress this warning.\n\nLossy conversion from float64 to uint8. Range [0, 1]. Convert image to uint8 prior to saving to suppress this warning.\n"
        },
        {
          "name": "stdout",
          "output_type": "stream",
          "text": "Finished:  540\n\nFilename:  #frac{189}{697}x^4-284 #neq -87_18533.jpg\n\nFinished:  541\n\nFilename:  #frac{783}{184}x^3-662 #leq 157_63306.jpg\n\nFinished:  542\n\nFilename:  #frac{405}{364}y^4+940 #neq 1405_97929.jpg\n\nFinished:  543\n\nFilename:  #frac{181}{233}x^3-163 #neq 67_66860.jpg\n"
        },
        {
          "name": "stderr",
          "output_type": "stream",
          "text": "Lossy conversion from float64 to uint8. Range [0, 1]. Convert image to uint8 prior to saving to suppress this warning.\n\nLossy conversion from float64 to uint8. Range [0, 1]. Convert image to uint8 prior to saving to suppress this warning.\n"
        },
        {
          "name": "stdout",
          "output_type": "stream",
          "text": "Finished:  544\n\nFilename:  #frac{607}{281}-650 = -43_30237.jpg\n\nFinished:  545\n\nFilename:  #frac{298}{157}y^3-364 #leq -7_74736.jpg\n\nFinished:  546\n\nFilename:  #frac{765}{419}x^4-480 #leq 349_59565.jpg\n"
        },
        {
          "name": "stderr",
          "output_type": "stream",
          "text": "Lossy conversion from float64 to uint8. Range [0, 1]. Convert image to uint8 prior to saving to suppress this warning.\n\nLossy conversion from float64 to uint8. Range [0, 1]. Convert image to uint8 prior to saving to suppress this warning.\n\nLossy conversion from float64 to uint8. Range [0, 1]. Convert image to uint8 prior to saving to suppress this warning.\n"
        },
        {
          "name": "stdout",
          "output_type": "stream",
          "text": "Finished:  547\n\nFilename:  #frac{336}{59}x^4+606 #geq 894_13727.jpg\n\nFinished:  548\n\nFilename:  #frac{428}{769}y^4+847 #geq 1222_16249.jpg\n"
        },
        {
          "name": "stderr",
          "output_type": "stream",
          "text": "Lossy conversion from float64 to uint8. Range [0, 1]. Convert image to uint8 prior to saving to suppress this warning.\n\nLossy conversion from float64 to uint8. Range [0, 1]. Convert image to uint8 prior to saving to suppress this warning.\n\nLossy conversion from float64 to uint8. Range [0, 1]. Convert image to uint8 prior to saving to suppress this warning.\n"
        },
        {
          "name": "stdout",
          "output_type": "stream",
          "text": "Finished:  549\n\nFilename:  #frac{559}{167}#alpha^2+455 #leq 1046_14587.jpg\n\nFinished:  550\n\nFilename:  #frac{842}{750}y^3-342 #leq 570_55930.jpg\n\nFinished:  551\n\nFilename:  #frac{370}{199}+668 = 1038_24656.jpg\n\nFinished:  552\n\nFilename:  #frac{254}{94}-920 = -666_66284.jpg\n"
        },
        {
          "name": "stderr",
          "output_type": "stream",
          "text": "Lossy conversion from float64 to uint8. Range [0, 1]. Convert image to uint8 prior to saving to suppress this warning.\n\nLossy conversion from float64 to uint8. Range [0, 1]. Convert image to uint8 prior to saving to suppress this warning.\n\nLossy conversion from float64 to uint8. Range [0, 1]. Convert image to uint8 prior to saving to suppress this warning.\n\nLossy conversion from float64 to uint8. Range [0, 1]. Convert image to uint8 prior to saving to suppress this warning.\n\nLossy conversion from float64 to uint8. Range [0, 1]. Convert image to uint8 prior to saving to suppress this warning.\n"
        },
        {
          "name": "stdout",
          "output_type": "stream",
          "text": "Finished:  553\n\nFilename:  #frac{114}{402}+151 = 265_39982.jpg\n\nFinished:  554\n\nFilename:  #frac{959}{815}-445 = 514_47296.jpg\n\nFinished:  555\n\nFilename:  #frac{725}{458}#beta^2+937 #leq 1687_24669.jpg\n\nFinished:  556\n\nFilename:  #frac{274}{52}y^4-311 #leq 51_30518.jpg\n"
        },
        {
          "name": "stderr",
          "output_type": "stream",
          "text": "Lossy conversion from float64 to uint8. Range [0, 1]. Convert image to uint8 prior to saving to suppress this warning.\n\nLossy conversion from float64 to uint8. Range [0, 1]. Convert image to uint8 prior to saving to suppress this warning.\n\nLossy conversion from float64 to uint8. Range [0, 1]. Convert image to uint8 prior to saving to suppress this warning.\n"
        },
        {
          "name": "stdout",
          "output_type": "stream",
          "text": "Finished:  557\n\nFilename:  #frac{767}{876}#beta^2-240 #leq 624_92918.jpg\n\nFinished:  558\n\nFilename:  #frac{431}{126}+875 = 1306_60867.jpg\n\nFinished:  559\n\nFilename:  #frac{915}{790}#alpha^2+314 #leq 1280_17109.jpg\n\nFinished:  560\n"
        },
        {
          "name": "stderr",
          "output_type": "stream",
          "text": "Lossy conversion from float64 to uint8. Range [0, 1]. Convert image to uint8 prior to saving to suppress this warning.\n\nLossy conversion from float64 to uint8. Range [0, 1]. Convert image to uint8 prior to saving to suppress this warning.\n\nLossy conversion from float64 to uint8. Range [0, 1]. Convert image to uint8 prior to saving to suppress this warning.\n"
        },
        {
          "name": "stdout",
          "output_type": "stream",
          "text": "Filename:  #frac{784}{127}-574 = 210_18699.jpg\n\nFinished:  561\n\nFilename:  #frac{190}{405}x^3+401 #leq 612_82645.jpg\n\nFinished:  562\n\nFilename:  #frac{564}{611}x^2-559 #leq 91_58682.jpg\n\nFinished:  563\n\nFilename:  #frac{207}{473}#beta^3+50 #neq 340_67698.jpg\n"
        },
        {
          "name": "stderr",
          "output_type": "stream",
          "text": "Lossy conversion from float64 to uint8. Range [0, 1]. Convert image to uint8 prior to saving to suppress this warning.\n\nLossy conversion from float64 to uint8. Range [0, 1]. Convert image to uint8 prior to saving to suppress this warning.\n\nLossy conversion from float64 to uint8. Range [0, 1]. Convert image to uint8 prior to saving to suppress this warning.\n\nLossy conversion from float64 to uint8. Range [0, 1]. Convert image to uint8 prior to saving to suppress this warning.\n"
        },
        {
          "name": "stdout",
          "output_type": "stream",
          "text": "Finished:  564\n\nFilename:  #frac{317}{265}#beta^3-797 #neq -399_43208.jpg\n\nFinished:  565\n\nFilename:  #frac{130}{81}x^2-854 #geq -786_15437.jpg\n\nFinished:  566\n\nFilename:  #frac{673}{465}y^2-595 #leq 156_73162.jpg\n\nFinished: "
        },
        {
          "name": "stderr",
          "output_type": "stream",
          "text": "Lossy conversion from float64 to uint8. Range [0, 1]. Convert image to uint8 prior to saving to suppress this warning.\n\nLossy conversion from float64 to uint8. Range [0, 1]. Convert image to uint8 prior to saving to suppress this warning.\n\nLossy conversion from float64 to uint8. Range [0, 1]. Convert image to uint8 prior to saving to suppress this warning.\n"
        },
        {
          "name": "stdout",
          "output_type": "stream",
          "text": " 567\n\nFilename:  #frac{109}{665}-269 = -160_40341.jpg\n\nFinished:  568\n\nFilename:  #frac{683}{885}#alpha^3+918 #neq 1664_32203.jpg\n\nFinished:  569\n\nFilename:  #frac{46}{942}x^3+71 #neq 166_89020.jpg\n"
        },
        {
          "name": "stderr",
          "output_type": "stream",
          "text": "Lossy conversion from float64 to uint8. Range [0, 1]. Convert image to uint8 prior to saving to suppress this warning.\n\nLossy conversion from float64 to uint8. Range [0, 1]. Convert image to uint8 prior to saving to suppress this warning.\n\nLossy conversion from float64 to uint8. Range [0, 1]. Convert image to uint8 prior to saving to suppress this warning.\n"
        },
        {
          "name": "stdout",
          "output_type": "stream",
          "text": "Finished:  570\n\nFilename:  #frac{563}{275}x^4-722 #leq -91_59469.jpg\n\nFinished:  571\n\nFilename:  #frac{116}{854}+379 = 495_83375.jpg\n\nFinished:  572\n\nFilename:  #frac{875}{17}-805 = 70_78505.jpg\n\nFinished:  573\n\nFilename:  #frac{252}{485}#alpha^3-364 #neq -28_1843.jpg\n"
        },
        {
          "name": "stderr",
          "output_type": "stream",
          "text": "Lossy conversion from float64 to uint8. Range [0, 1]. Convert image to uint8 prior to saving to suppress this warning.\n\nLossy conversion from float64 to uint8. Range [0, 1]. Convert image to uint8 prior to saving to suppress this warning.\n\nLossy conversion from float64 to uint8. Range [0, 1]. Convert image to uint8 prior to saving to suppress this warning.\n"
        },
        {
          "name": "stdout",
          "output_type": "stream",
          "text": "Finished:  574\n\nFilename:  #frac{847}{363}#beta^3-659 #geq 172_56194.jpg\n\nFinished:  575\n\nFilename:  #frac{34}{858}-644 = -610_88636.jpg\n\nFinished:  576\n\nFilename:  #frac{73}{46}#beta^2+202 #geq 240_16918.jpg\n"
        },
        {
          "name": "stderr",
          "output_type": "stream",
          "text": "Lossy conversion from float64 to uint8. Range [0, 1]. Convert image to uint8 prior to saving to suppress this warning.\n\nLossy conversion from float64 to uint8. Range [0, 1]. Convert image to uint8 prior to saving to suppress this warning.\n\nLossy conversion from float64 to uint8. Range [0, 1]. Convert image to uint8 prior to saving to suppress this warning.\n\nLossy conversion from float64 to uint8. Range [0, 1]. Convert image to uint8 prior to saving to suppress this warning.\n"
        },
        {
          "name": "stdout",
          "output_type": "stream",
          "text": "Finished:  577\n\nFilename:  #frac{266}{136}y^4-356 #neq -63_88110.jpg\n\nFinished:  578\n\nFilename:  #frac{996}{617}+712 = 1708_17000.jpg\n\nFinished:  579\n\nFilename:  #frac{41}{997}#beta^3+173 #geq 116_22202.jpg\n"
        },
        {
          "name": "stderr",
          "output_type": "stream",
          "text": "Lossy conversion from float64 to uint8. Range [0, 1]. Convert image to uint8 prior to saving to suppress this warning.\n\nLossy conversion from float64 to uint8. Range [0, 1]. Convert image to uint8 prior to saving to suppress this warning.\n\nLossy conversion from float64 to uint8. Range [0, 1]. Convert image to uint8 prior to saving to suppress this warning.\n"
        },
        {
          "name": "stdout",
          "output_type": "stream",
          "text": "Finished:  580\n\nFilename:  #frac{698}{470}x^4-289 #leq 440_95983.jpg\n\nFinished:  581\n\nFilename:  #frac{362}{715}x^4-635 #neq -178_14270.jpg\n\nFinished:  582\n\nFilename:  #frac{486}{114}-125 = 361_23412.jpg\n"
        },
        {
          "name": "stderr",
          "output_type": "stream",
          "text": "Lossy conversion from float64 to uint8. Range [0, 1]. Convert image to uint8 prior to saving to suppress this warning.\n\nLossy conversion from float64 to uint8. Range [0, 1]. Convert image to uint8 prior to saving to suppress this warning.\n\nLossy conversion from float64 to uint8. Range [0, 1]. Convert image to uint8 prior to saving to suppress this warning.\n"
        },
        {
          "name": "stdout",
          "output_type": "stream",
          "text": "Finished:  583\n\nFilename:  #frac{283}{250}#alpha^4-657 #leq -310_35189.jpg\n\nFinished:  584\n\nFilename:  #frac{139}{645}#alpha^4+964 #geq 1092_36882.jpg\n\nFinished:  585\n\nFilename:  #frac{805}{439}x^2-394 #leq 440_3309.jpg\n\nFinished:  586\n\nFilename:  #frac{6}{48}y^2+138 #geq 89_28352.jpg\n"
        },
        {
          "name": "stderr",
          "output_type": "stream",
          "text": "Lossy conversion from float64 to uint8. Range [-0.0013961687771738445, 1.0]. Convert image to uint8 prior to saving to suppress this warning.\n\nLossy conversion from float64 to uint8. Range [0, 1]. Convert image to uint8 prior to saving to suppress this warning.\n\nLossy conversion from float64 to uint8. Range [0, 1]. Convert image to uint8 prior to saving to suppress this warning.\n"
        },
        {
          "name": "stdout",
          "output_type": "stream",
          "text": "Finished:  587\n\nFilename:  #frac{575}{112}#beta^4-502 #geq 21_78815.jpg\n\nFinished:  588\n\nFilename:  #frac{817}{82}#alpha^3+25 #geq 839_90102.jpg\n\nFinished:  589\n\nFilename:  #frac{200}{275}y^2+877 #leq 1119_76376.jpg\n"
        },
        {
          "name": "stderr",
          "output_type": "stream",
          "text": "Lossy conversion from float64 to uint8. Range [0, 1]. Convert image to uint8 prior to saving to suppress this warning.\n\nLossy conversion from float64 to uint8. Range [0, 1]. Convert image to uint8 prior to saving to suppress this warning.\n\nLossy conversion from float64 to uint8. Range [0, 1]. Convert image to uint8 prior to saving to suppress this warning.\n"
        },
        {
          "name": "stdout",
          "output_type": "stream",
          "text": "Finished:  590\n\nFilename:  #frac{122}{153}y^4-658 #geq -540_25941.jpg\n\nFinished:  591\n\nFilename:  #frac{920}{434}y^3+894 #geq 1732_36487.jpg\n\nFinished:  592\n\nFilename:  #frac{306}{323}x^2-73 #neq 303_66124.jpg\n"
        },
        {
          "name": "stderr",
          "output_type": "stream",
          "text": "Lossy conversion from float64 to uint8. Range [0, 1]. Convert image to uint8 prior to saving to suppress this warning.\n\nLossy conversion from float64 to uint8. Range [0, 1]. Convert image to uint8 prior to saving to suppress this warning.\n\nLossy conversion from float64 to uint8. Range [0, 1]. Convert image to uint8 prior to saving to suppress this warning.\n\nLossy conversion from float64 to uint8. Range [0, 1]. Convert image to uint8 prior to saving to suppress this warning.\n"
        },
        {
          "name": "stdout",
          "output_type": "stream",
          "text": "Finished:  593\n\nFilename:  #frac{758}{106}y^2-393 #geq 276_29007.jpg\n\nFinished:  594\n\nFilename:  #frac{350}{875}y^4-239 #geq 99_12885.jpg\n\nFinished:  595\n\nFilename:  #frac{624}{53}y^4-132 #neq 536_19235.jpg\n"
        },
        {
          "name": "stderr",
          "output_type": "stream",
          "text": "Lossy conversion from float64 to uint8. Range [0, 1]. Convert image to uint8 prior to saving to suppress this warning.\n\nLossy conversion from float64 to uint8. Range [0, 1]. Convert image to uint8 prior to saving to suppress this warning.\n\nLossy conversion from float64 to uint8. Range [0, 1]. Convert image to uint8 prior to saving to suppress this warning.\n"
        },
        {
          "name": "stdout",
          "output_type": "stream",
          "text": "Finished:  596\n\nFilename:  #frac{462}{741}#beta^3+460 #neq 942_35281.jpg\n\nFinished:  597\n\nFilename:  #frac{98}{956}#beta^4+602 #neq 706_74078.jpg\n\nFinished:  598\n\nFilename:  #frac{488}{654}-538 = -50_34875.jpg\n\nFinished:  599\n\nFilename:  #frac{323}{82}x^2+977 #geq 1297_72499.jpg\n"
        },
        {
          "name": "stderr",
          "output_type": "stream",
          "text": "Lossy conversion from float64 to uint8. Range [0, 1]. Convert image to uint8 prior to saving to suppress this warning.\n\nLossy conversion from float64 to uint8. Range [0, 1]. Convert image to uint8 prior to saving to suppress this warning.\n"
        },
        {
          "name": "stdout",
          "output_type": "stream",
          "text": "Finished:  600\n\nFilename:  #frac{501}{222}x^2-162 #geq 301_75399.jpg\n\nFinished:  601\n\nFilename:  #frac{803}{96}#beta^2+473 #leq 1288_29101.jpg\n"
        },
        {
          "name": "stderr",
          "output_type": "stream",
          "text": "Lossy conversion from float64 to uint8. Range [0, 1]. Convert image to uint8 prior to saving to suppress this warning.\n\nLossy conversion from float64 to uint8. Range [0, 1]. Convert image to uint8 prior to saving to suppress this warning.\n\nLossy conversion from float64 to uint8. Range [0, 1]. Convert image to uint8 prior to saving to suppress this warning.\n\nLossy conversion from float64 to uint8. Range [0, 1]. Convert image to uint8 prior to saving to suppress this warning.\n"
        },
        {
          "name": "stdout",
          "output_type": "stream",
          "text": "Finished:  602\n\nFilename:  #frac{715}{664}-121 = 594_65051.jpg\n\nFinished:  603\n\nFilename:  #frac{899}{619}y^3+819 #neq 1738_51783.jpg\n\nFinished:  604\n\nFilename:  #frac{997}{171}y^3+65 #geq 1061_66495.jpg\n\nFinished:  605\n\nFilename:  #frac{259}{611}x^4-42 #geq 148_79892.jpg\n"
        },
        {
          "name": "stderr",
          "output_type": "stream",
          "text": "Lossy conversion from float64 to uint8. Range [0, 1]. Convert image to uint8 prior to saving to suppress this warning.\n\nLossy conversion from float64 to uint8. Range [0, 1]. Convert image to uint8 prior to saving to suppress this warning.\n\nLossy conversion from float64 to uint8. Range [0, 1]. Convert image to uint8 prior to saving to suppress this warning.\n\nLossy conversion from float64 to uint8. Range [0, 1]. Convert image to uint8 prior to saving to suppress this warning.\n\nLossy conversion from float64 to uint8. Range [0, 1]. Convert image to uint8 prior to saving to suppress this warning.\n"
        },
        {
          "name": "stdout",
          "output_type": "stream",
          "text": "Finished:  606\n\nFilename:  #frac{49}{741}x^2-989 #geq -1037_72995.jpg\n\nFinished:  607\n\nFilename:  #frac{607}{472}#alpha^4+776 #neq 1392_5684.jpg\n\nFinished:  608\n\nFilename:  #frac{190}{619}y^3+638 #leq 844_95568.jpg\n\nFinished:  609\n\nFilename:  #frac{338}{716}-687 = -349_79198.jpg\n"
        },
        {
          "name": "stderr",
          "output_type": "stream",
          "text": "Lossy conversion from float64 to uint8. Range [0, 1]. Convert image to uint8 prior to saving to suppress this warning.\n\nLossy conversion from float64 to uint8. Range [0, 1]. Convert image to uint8 prior to saving to suppress this warning.\n"
        },
        {
          "name": "stdout",
          "output_type": "stream",
          "text": "Finished:  610\n\nFilename:  #frac{164}{853}#beta^4+806 #geq 912_36668.jpg\n\nFinished:  611\n\nFilename:  #frac{632}{20}y^3+182 #neq 840_21847.jpg\n\nFinished:  612\n\nFilename:  #frac{895}{971}y^2+616 #geq 1441_54886.jpg\n"
        },
        {
          "name": "stderr",
          "output_type": "stream",
          "text": "Lossy conversion from float64 to uint8. Range [0, 1]. Convert image to uint8 prior to saving to suppress this warning.\n\nLossy conversion from float64 to uint8. Range [0, 1]. Convert image to uint8 prior to saving to suppress this warning.\n\nLossy conversion from float64 to uint8. Range [0, 1]. Convert image to uint8 prior to saving to suppress this warning.\n\nLossy conversion from float64 to uint8. Range [0, 1]. Convert image to uint8 prior to saving to suppress this warning.\n"
        },
        {
          "name": "stdout",
          "output_type": "stream",
          "text": "Finished:  613\n\nFilename:  #frac{952}{971}x^3-992 #geq -113_30252.jpg\n\nFinished:  614\n\nFilename:  #frac{704}{488}y^2+659 #neq 1425_31871.jpg\n\nFinished:  615\n\nFilename:  #frac{75}{114}#beta^2+660 #neq 780_98238.jpg\n"
        },
        {
          "name": "stderr",
          "output_type": "stream",
          "text": "Lossy conversion from float64 to uint8. Range [0, 1]. Convert image to uint8 prior to saving to suppress this warning.\n\nLossy conversion from float64 to uint8. Range [0, 1]. Convert image to uint8 prior to saving to suppress this warning.\n"
        },
        {
          "name": "stdout",
          "output_type": "stream",
          "text": "Finished:  616\n\nFilename:  #frac{602}{260}x^2+889 #geq 1438_43131.jpg\n\nFinished:  617\n\nFilename:  #frac{38}{683}#beta^3-323 #geq -345_76436.jpg\n"
        },
        {
          "name": "stderr",
          "output_type": "stream",
          "text": "Lossy conversion from float64 to uint8. Range [0, 1]. Convert image to uint8 prior to saving to suppress this warning.\n\nLossy conversion from float64 to uint8. Range [0, 1]. Convert image to uint8 prior to saving to suppress this warning.\n\nLossy conversion from float64 to uint8. Range [0, 1]. Convert image to uint8 prior to saving to suppress this warning.\n"
        },
        {
          "name": "stdout",
          "output_type": "stream",
          "text": "Finished:  618\n\nFilename:  #frac{333}{403}x^3+676 #neq 1089_70059.jpg\n\nFinished:  619\n\nFilename:  #frac{192}{618}#alpha^2+674 #leq 958_6647.jpg\n\nFinished:  620\n\nFilename:  #frac{828}{252}-943 = -115_20631.jpg\n"
        },
        {
          "name": "stderr",
          "output_type": "stream",
          "text": "Lossy conversion from float64 to uint8. Range [0, 1]. Convert image to uint8 prior to saving to suppress this warning.\n\nLossy conversion from float64 to uint8. Range [0, 1]. Convert image to uint8 prior to saving to suppress this warning.\n\nLossy conversion from float64 to uint8. Range [0, 1]. Convert image to uint8 prior to saving to suppress this warning.\n"
        },
        {
          "name": "stdout",
          "output_type": "stream",
          "text": "Finished:  621\n\nFilename:  #frac{47}{905}y^3+198 #geq 225_2204.jpg\n\nFinished:  622\n\nFilename:  #frac{730}{127}#beta^4-321 #leq 494_11919.jpg\n\nFinished:  623\n\nFilename:  #frac{622}{407}y^2-156 #leq 478_59160.jpg\n\nFinished:  624\n\nFilename:  #frac{320}{901}y^3+180 #leq 595_86210.jpg\n"
        },
        {
          "name": "stderr",
          "output_type": "stream",
          "text": "Lossy conversion from float64 to uint8. Range [0, 1]. Convert image to uint8 prior to saving to suppress this warning.\n\nLossy conversion from float64 to uint8. Range [0, 1]. Convert image to uint8 prior to saving to suppress this warning.\n"
        },
        {
          "name": "stdout",
          "output_type": "stream",
          "text": "Finished:  625\n\nFilename:  #frac{839}{755}#alpha^4-293 #neq 596_65794.jpg\n\nFinished:  626\n\nFilename:  #frac{781}{231}#beta^2-274 #leq 576_30706.jpg\n"
        },
        {
          "name": "stderr",
          "output_type": "stream",
          "text": "Lossy conversion from float64 to uint8. Range [0, 1]. Convert image to uint8 prior to saving to suppress this warning.\n\nLossy conversion from float64 to uint8. Range [0, 1]. Convert image to uint8 prior to saving to suppress this warning.\n\nLossy conversion from float64 to uint8. Range [0, 1]. Convert image to uint8 prior to saving to suppress this warning.\n\nLossy conversion from float64 to uint8. Range [0, 1]. Convert image to uint8 prior to saving to suppress this warning.\n"
        },
        {
          "name": "stdout",
          "output_type": "stream",
          "text": "Finished:  627\n\nFilename:  #frac{859}{381}#beta^2-867 #neq -1_10593.jpg\n\nFinished:  628\n\nFilename:  #frac{757}{66}#alpha^2-82 #geq 665_16851.jpg\n\nFinished:  629\n\nFilename:  #frac{814}{450}#alpha^4+862 #leq 1710_50386.jpg\n\nFinished:  630\n\nFilename:  #frac{392}{419}#alpha^3-538 #geq -178_15926.jpg\n"
        },
        {
          "name": "stderr",
          "output_type": "stream",
          "text": "Lossy conversion from float64 to uint8. Range [0, 1]. Convert image to uint8 prior to saving to suppress this warning.\n\nLossy conversion from float64 to uint8. Range [-0.5038301801214243, 1.0]. Convert image to uint8 prior to saving to suppress this warning.\n\nLossy conversion from float64 to uint8. Range [0, 1]. Convert image to uint8 prior to saving to suppress this warning.\n\nLossy conversion from float64 to uint8. Range [0, 1]. Convert image to uint8 prior to saving to suppress this warning.\n\nLossy conversion from float64 to uint8. Range [0, 1]. Convert image to uint8 prior to saving to suppress this warning.\n"
        },
        {
          "name": "stdout",
          "output_type": "stream",
          "text": "Finished:  631\n\nFilename:  #frac{934}{597}-785 = 149_25937.jpg\n\nFinished:  632\n\nFilename:  #frac{659}{960}+765 = 1424_19523.jpg\n\nFinished:  633\n\nFilename:  #frac{949}{185}x^3-910 #leq 97_15488.jpg\n\nFinished:  634\n\nFilename:  #frac{333}{666}#beta^3+669 #geq 944_66923.jpg\n"
        },
        {
          "name": "stderr",
          "output_type": "stream",
          "text": "Lossy conversion from float64 to uint8. Range [0, 1]. Convert image to uint8 prior to saving to suppress this warning.\n\nLossy conversion from float64 to uint8. Range [0, 1]. Convert image to uint8 prior to saving to suppress this warning.\n\nLossy conversion from float64 to uint8. Range [0, 1]. Convert image to uint8 prior to saving to suppress this warning.\n"
        },
        {
          "name": "stdout",
          "output_type": "stream",
          "text": "Finished:  635\n\nFilename:  #frac{127}{3}y^2-772 #leq -622_58223.jpg\n\nFinished:  636\n\nFilename:  #frac{671}{981}-793 = -122_35513.jpg\n\nFinished:  637\n\nFilename:  #frac{215}{105}+755 = 970_99967.jpg\n"
        },
        {
          "name": "stderr",
          "output_type": "stream",
          "text": "Lossy conversion from float64 to uint8. Range [0, 1]. Convert image to uint8 prior to saving to suppress this warning.\n\nLossy conversion from float64 to uint8. Range [0, 1]. Convert image to uint8 prior to saving to suppress this warning.\n\nLossy conversion from float64 to uint8. Range [0, 1]. Convert image to uint8 prior to saving to suppress this warning.\n"
        },
        {
          "name": "stdout",
          "output_type": "stream",
          "text": "Finished:  638\n\nFilename:  #frac{704}{37}+697 = 1401_32809.jpg\n\nFinished:  639\n\nFilename:  #frac{143}{587}+819 = 962_40829.jpg\n\nFinished:  640\n\nFilename:  #frac{139}{357}y^3-154 #neq -11_18438.jpg\n\nFinished:  641\n\nFilename:  #frac{938}{660}#beta^2+623 #neq 1650_76.jpg\n"
        },
        {
          "name": "stderr",
          "output_type": "stream",
          "text": "Lossy conversion from float64 to uint8. Range [0, 1]. Convert image to uint8 prior to saving to suppress this warning.\n\nLossy conversion from float64 to uint8. Range [0, 1]. Convert image to uint8 prior to saving to suppress this warning.\n\nLossy conversion from float64 to uint8. Range [0, 1]. Convert image to uint8 prior to saving to suppress this warning.\n\nLossy conversion from float64 to uint8. Range [0, 1]. Convert image to uint8 prior to saving to suppress this warning.\n"
        },
        {
          "name": "stdout",
          "output_type": "stream",
          "text": "Finished:  642\n\nFilename:  #frac{416}{668}#beta^4-260 #neq 210_34747.jpg\n\nFinished:  643\n\nFilename:  #frac{391}{548}#alpha^3+68 #geq 409_43849.jpg\n\nFinished:  644\n\nFilename:  #frac{231}{429}#alpha^3-233 #leq 7_23868.jpg\n\nFinished:  645\n\nFilename:  #frac{963}{26}+154 = 1117_48871.jpg\n"
        },
        {
          "name": "stderr",
          "output_type": "stream",
          "text": "Lossy conversion from float64 to uint8. Range [0, 1]. Convert image to uint8 prior to saving to suppress this warning.\n\nLossy conversion from float64 to uint8. Range [0, 1]. Convert image to uint8 prior to saving to suppress this warning.\n\nLossy conversion from float64 to uint8. Range [0, 1]. Convert image to uint8 prior to saving to suppress this warning.\n\nLossy conversion from float64 to uint8. Range [0, 1]. Convert image to uint8 prior to saving to suppress this warning.\n"
        },
        {
          "name": "stdout",
          "output_type": "stream",
          "text": "Finished:  646\n\nFilename:  #frac{912}{207}x^2+980 #neq 1927_31539.jpg\n\nFinished:  647\n\nFilename:  #frac{711}{511}-408 = 303_26683.jpg\n\nFinished:  648\n\nFilename:  #frac{428}{314}+323 = 751_26133.jpg\n"
        },
        {
          "name": "stderr",
          "output_type": "stream",
          "text": "Lossy conversion from float64 to uint8. Range [0, 1]. Convert image to uint8 prior to saving to suppress this warning.\n\nLossy conversion from float64 to uint8. Range [0, 1]. Convert image to uint8 prior to saving to suppress this warning.\n\nLossy conversion from float64 to uint8. Range [0, 1]. Convert image to uint8 prior to saving to suppress this warning.\n"
        },
        {
          "name": "stdout",
          "output_type": "stream",
          "text": "Finished:  649\n\nFilename:  #frac{283}{912}-898 = -615_12190.jpg\n\nFinished:  650\n\nFilename:  #frac{555}{770}#beta^3-904 #leq -327_61380.jpg\n\nFinished:  651\n\nFilename:  #frac{181}{326}y^2-417 #geq -323_69783.jpg\n\nFinished:  652\n\nFilename:  #frac{859}{351}y^3-438 #geq 392_14485.jpg\n"
        },
        {
          "name": "stderr",
          "output_type": "stream",
          "text": "Lossy conversion from float64 to uint8. Range [-0.0055995475113123205, 1.0]. Convert image to uint8 prior to saving to suppress this warning.\n\nLossy conversion from float64 to uint8. Range [0, 1]. Convert image to uint8 prior to saving to suppress this warning.\n\nLossy conversion from float64 to uint8. Range [0, 1]. Convert image to uint8 prior to saving to suppress this warning.\n"
        },
        {
          "name": "stdout",
          "output_type": "stream",
          "text": "Finished:  653\n\nFilename:  #frac{267}{559}+185 = 452_29311.jpg\n\nFinished:  654\n\nFilename:  #frac{720}{871}+891 = 1611_16181.jpg\n\nFinished:  655\n\nFilename:  #frac{651}{979}#alpha^2-736 #neq -30_85075.jpg\n"
        },
        {
          "name": "stderr",
          "output_type": "stream",
          "text": "Lossy conversion from float64 to uint8. Range [0, 1]. Convert image to uint8 prior to saving to suppress this warning.\n\nLossy conversion from float64 to uint8. Range [0, 1]. Convert image to uint8 prior to saving to suppress this warning.\n\nLossy conversion from float64 to uint8. Range [0, 1]. Convert image to uint8 prior to saving to suppress this warning.\n\nLossy conversion from float64 to uint8. Range [0, 1]. Convert image to uint8 prior to saving to suppress this warning.\n"
        },
        {
          "name": "stdout",
          "output_type": "stream",
          "text": "Finished:  656\n\nFilename:  #frac{945}{191}+337 = 1282_26609.jpg\n\nFinished:  657\n\nFilename:  #frac{483}{744}-875 = -392_11165.jpg\n\nFinished:  658\n\nFilename:  #frac{817}{251}#alpha^4-717 #leq 110_66425.jpg\n"
        },
        {
          "name": "stderr",
          "output_type": "stream",
          "text": "Lossy conversion from float64 to uint8. Range [0, 1]. Convert image to uint8 prior to saving to suppress this warning.\n\nLossy conversion from float64 to uint8. Range [-0.9391250230499743, 1.0]. Convert image to uint8 prior to saving to suppress this warning.\n\nLossy conversion from float64 to uint8. Range [0, 1]. Convert image to uint8 prior to saving to suppress this warning.\n"
        },
        {
          "name": "stdout",
          "output_type": "stream",
          "text": "Finished:  659\n\nFilename:  #frac{764}{285}#beta^2-739 #geq -57_85620.jpg\n\nFinished:  660\n\nFilename:  #frac{948}{143}y^2-790 #leq 233_33389.jpg\n\nFinished:  661\n\nFilename:  #frac{725}{708}+631 = 1356_50195.jpg\n"
        },
        {
          "name": "stderr",
          "output_type": "stream",
          "text": "Lossy conversion from float64 to uint8. Range [0, 1]. Convert image to uint8 prior to saving to suppress this warning.\n\nLossy conversion from float64 to uint8. Range [0, 1]. Convert image to uint8 prior to saving to suppress this warning.\n\nLossy conversion from float64 to uint8. Range [0, 1]. Convert image to uint8 prior to saving to suppress this warning.\n"
        },
        {
          "name": "stdout",
          "output_type": "stream",
          "text": "Finished:  662\n\nFilename:  #frac{407}{67}x^3+302 #geq 634_58159.jpg\n\nFinished:  663\n\nFilename:  #frac{662}{745}#alpha^3-693 #geq -118_76618.jpg\n\nFinished:  664\n\nFilename:  #frac{63}{308}#alpha^3-844 #geq -866_32686.jpg\n\nFinished:  665\n\nFilename:  #frac{354}{929}x^3-664 #neq -305_91121.jpg\n"
        },
        {
          "name": "stderr",
          "output_type": "stream",
          "text": "Lossy conversion from float64 to uint8. Range [0, 1]. Convert image to uint8 prior to saving to suppress this warning.\n\nLossy conversion from float64 to uint8. Range [0, 1]. Convert image to uint8 prior to saving to suppress this warning.\n\nLossy conversion from float64 to uint8. Range [0, 1]. Convert image to uint8 prior to saving to suppress this warning.\n\nLossy conversion from float64 to uint8. Range [0, 1]. Convert image to uint8 prior to saving to suppress this warning.\n"
        },
        {
          "name": "stdout",
          "output_type": "stream",
          "text": "Finished:  666\n\nFilename:  #frac{304}{500}y^4+579 #neq 891_44942.jpg\n\nFinished:  667\n\nFilename:  #frac{377}{878}#alpha^2-924 #leq -477_72311.jpg\n\nFinished:  668\n\nFilename:  #frac{602}{528}#beta^4-611 #neq 28_21207.jpg\n"
        },
        {
          "name": "stderr",
          "output_type": "stream",
          "text": "Lossy conversion from float64 to uint8. Range [0, 1]. Convert image to uint8 prior to saving to suppress this warning.\n"
        },
        {
          "name": "stdout",
          "output_type": "stream",
          "text": "Finished:  669\n\nFilename:  #frac{79}{734}x^3+3 #neq 89_18832.jpg\n\nFinished:  670\n\nFilename:  #frac{976}{278}-484 = 492_21108.jpg\n"
        },
        {
          "name": "stderr",
          "output_type": "stream",
          "text": "Lossy conversion from float64 to uint8. Range [0, 1]. Convert image to uint8 prior to saving to suppress this warning.\n\nLossy conversion from float64 to uint8. Range [0, 1]. Convert image to uint8 prior to saving to suppress this warning.\n\nLossy conversion from float64 to uint8. Range [0, 1]. Convert image to uint8 prior to saving to suppress this warning.\n\nLossy conversion from float64 to uint8. Range [0, 1]. Convert image to uint8 prior to saving to suppress this warning.\n"
        },
        {
          "name": "stdout",
          "output_type": "stream",
          "text": "Finished:  671\n\nFilename:  #frac{53}{526}x^4-919 #neq -852_97511.jpg\n\nFinished:  672\n\nFilename:  #frac{439}{37}#alpha^3+427 #geq 848_59458.jpg\n\nFinished:  673\n\nFilename:  #frac{259}{234}#beta^4-554 #neq -222_19565.jpg\n\nFinished:  674\n\nFilename:  #frac{977}{300}y^2+170 #geq 1064_29689.jpg\n"
        },
        {
          "name": "stderr",
          "output_type": "stream",
          "text": "Lossy conversion from float64 to uint8. Range [-0.7090094256518671, 1.0]. Convert image to uint8 prior to saving to suppress this warning.\n\nLossy conversion from float64 to uint8. Range [0, 1]. Convert image to uint8 prior to saving to suppress this warning.\n\nLossy conversion from float64 to uint8. Range [0, 1]. Convert image to uint8 prior to saving to suppress this warning.\n"
        },
        {
          "name": "stdout",
          "output_type": "stream",
          "text": "Finished:  675\n\nFilename:  #frac{741}{67}y^4+855 #neq 1655_36645.jpg\n\nFinished:  676\n\nFilename:  #frac{195}{962}#beta^3-567 #neq -306_88622.jpg\n\nFinished:  677\n\nFilename:  #frac{870}{956}#alpha^4+928 #geq 1766_5394.jpg\n"
        },
        {
          "name": "stderr",
          "output_type": "stream",
          "text": "Lossy conversion from float64 to uint8. Range [-0.75, 1.0]. Convert image to uint8 prior to saving to suppress this warning.\n\nLossy conversion from float64 to uint8. Range [0, 1]. Convert image to uint8 prior to saving to suppress this warning.\n\nLossy conversion from float64 to uint8. Range [0, 1]. Convert image to uint8 prior to saving to suppress this warning.\n"
        },
        {
          "name": "stdout",
          "output_type": "stream",
          "text": "Finished:  678\n\nFilename:  #frac{179}{453}#alpha^3-339 #geq -196_13979.jpg\n\nFinished:  679\n\nFilename:  #frac{369}{989}#beta^4-627 #geq -295_22802.jpg\n\nFinished:  680\n\nFilename:  #frac{945}{510}#alpha^3+47 #neq 1020_88837.jpg\n"
        },
        {
          "name": "stderr",
          "output_type": "stream",
          "text": "Lossy conversion from float64 to uint8. Range [0, 1]. Convert image to uint8 prior to saving to suppress this warning.\n\nLossy conversion from float64 to uint8. Range [0, 1]. Convert image to uint8 prior to saving to suppress this warning.\n\nLossy conversion from float64 to uint8. Range [0, 1]. Convert image to uint8 prior to saving to suppress this warning.\n\nLossy conversion from float64 to uint8. Range [0, 1]. Convert image to uint8 prior to saving to suppress this warning.\n\nLossy conversion from float64 to uint8. Range [0, 1]. Convert image to uint8 prior to saving to suppress this warning.\n"
        },
        {
          "name": "stdout",
          "output_type": "stream",
          "text": "Finished:  681\n\nFilename:  #frac{747}{177}#alpha^4-159 #leq 674_34116.jpg\n\nFinished:  682\n\nFilename:  #frac{911}{715}+45 = 956_53129.jpg\n\nFinished:  683\n\nFilename:  #frac{488}{217}#alpha^2-367 #leq 189_90270.jpg\n\nFinished:  684\n\nFilename:  #frac{195}{276}#alpha^2+77 #neq 363_19703.jpg\n"
        },
        {
          "name": "stderr",
          "output_type": "stream",
          "text": "Lossy conversion from float64 to uint8. Range [0, 1]. Convert image to uint8 prior to saving to suppress this warning.\n\nLossy conversion from float64 to uint8. Range [0, 1]. Convert image to uint8 prior to saving to suppress this warning.\n\nLossy conversion from float64 to uint8. Range [0, 1]. Convert image to uint8 prior to saving to suppress this warning.\n"
        },
        {
          "name": "stdout",
          "output_type": "stream",
          "text": "Finished:  685\n\nFilename:  #frac{235}{638}#beta^4-112 #neq 151_27270.jpg\n\nFinished:  686\n\nFilename:  #frac{69}{940}x^2+456 #geq 441_73459.jpg\n\nFinished:  687\n\nFilename:  #frac{167}{86}-536 = -369_48324.jpg\n\nFinished:  688\n\nFilename:  #frac{644}{170}y^4-405 #neq 253_23693.jpg\n"
        },
        {
          "name": "stderr",
          "output_type": "stream",
          "text": "Lossy conversion from float64 to uint8. Range [0, 1]. Convert image to uint8 prior to saving to suppress this warning.\n\nLossy conversion from float64 to uint8. Range [0, 1]. Convert image to uint8 prior to saving to suppress this warning.\n\nLossy conversion from float64 to uint8. Range [0, 1]. Convert image to uint8 prior to saving to suppress this warning.\n\nLossy conversion from float64 to uint8. Range [0, 1]. Convert image to uint8 prior to saving to suppress this warning.\n"
        },
        {
          "name": "stdout",
          "output_type": "stream",
          "text": "Finished:  689\n\nFilename:  #frac{742}{554}+254 = 996_31459.jpg\n\nFinished:  690\n\nFilename:  #frac{900}{778}+93 = 993_13028.jpg\n\nFinished:  691\n\nFilename:  #frac{756}{764}-378 = 378_20736.jpg\n\nFinished:  692\n\nFilename:  #frac{128}{781}+347 = 475_1285.jpg\n"
        },
        {
          "name": "stderr",
          "output_type": "stream",
          "text": "Lossy conversion from float64 to uint8. Range [-0.006368224916269471, 1.0]. Convert image to uint8 prior to saving to suppress this warning.\n\nLossy conversion from float64 to uint8. Range [-0.43226381461675767, 1.0]. Convert image to uint8 prior to saving to suppress this warning.\n\nLossy conversion from float64 to uint8. Range [0, 1]. Convert image to uint8 prior to saving to suppress this warning.\n"
        },
        {
          "name": "stdout",
          "output_type": "stream",
          "text": "Finished:  693\n\nFilename:  #frac{773}{597}#beta^3-161 #geq 515_70713.jpg\n\nFinished:  694\n\nFilename:  #frac{11}{734}#alpha^4+622 #leq 702_79921.jpg\n\nFinished:  695\n\nFilename:  #frac{5}{245}#alpha^3+875 #neq 905_44069.jpg\n"
        },
        {
          "name": "stderr",
          "output_type": "stream",
          "text": "Lossy conversion from float64 to uint8. Range [0, 1]. Convert image to uint8 prior to saving to suppress this warning.\n\nLossy conversion from float64 to uint8. Range [0, 1]. Convert image to uint8 prior to saving to suppress this warning.\n\nLossy conversion from float64 to uint8. Range [0, 1]. Convert image to uint8 prior to saving to suppress this warning.\n"
        },
        {
          "name": "stdout",
          "output_type": "stream",
          "text": "Finished:  696\n\nFilename:  #frac{176}{915}-472 = -296_85282.jpg\n\nFinished:  697\n\nFilename:  #frac{251}{874}+954 = 1205_79424.jpg\n\nFinished:  698\n\nFilename:  #frac{152}{855}#alpha^3+316 #geq 403_97865.jpg\n"
        },
        {
          "name": "stderr",
          "output_type": "stream",
          "text": "Lossy conversion from float64 to uint8. Range [0, 1]. Convert image to uint8 prior to saving to suppress this warning.\n\nLossy conversion from float64 to uint8. Range [0, 1]. Convert image to uint8 prior to saving to suppress this warning.\n\nLossy conversion from float64 to uint8. Range [0, 1]. Convert image to uint8 prior to saving to suppress this warning.\n\nLossy conversion from float64 to uint8. Range [0, 1]. Convert image to uint8 prior to saving to suppress this warning.\n"
        },
        {
          "name": "stdout",
          "output_type": "stream",
          "text": "Finished:  699\n\nFilename:  #frac{980}{484}+626 = 1606_9912.jpg\n\nFinished:  700\n\nFilename:  #frac{823}{484}#beta^3+373 #neq 1199_11482.jpg\n\nFinished:  701\n\nFilename:  #frac{736}{565}y^3-917 #geq -215_96865.jpg\n\nFinished:  702\n\nFilename:  #frac{414}{498}#beta^2-287 #leq 151_54748.jpg\n"
        },
        {
          "name": "stderr",
          "output_type": "stream",
          "text": "Lossy conversion from float64 to uint8. Range [0, 1]. Convert image to uint8 prior to saving to suppress this warning.\n\nLossy conversion from float64 to uint8. Range [0, 1]. Convert image to uint8 prior to saving to suppress this warning.\n\nLossy conversion from float64 to uint8. Range [-0.40516894690084143, 1.0]. Convert image to uint8 prior to saving to suppress this warning.\n"
        },
        {
          "name": "stdout",
          "output_type": "stream",
          "text": "Finished:  703\n\nFilename:  #frac{930}{369}#alpha^2+309 #leq 1313_71090.jpg\n\nFinished:  704\n\nFilename:  #frac{401}{900}#beta^2+409 #leq 891_49171.jpg\n\nFinished: "
        },
        {
          "name": "stderr",
          "output_type": "stream",
          "text": "Lossy conversion from float64 to uint8. Range [0, 1]. Convert image to uint8 prior to saving to suppress this warning.\n"
        },
        {
          "name": "stdout",
          "output_type": "stream",
          "text": " 705\n\nFilename:  #frac{961}{204}x^3+116 #geq 1029_15508.jpg\n\nFinished:  706\n\nFilename:  #frac{217}{998}#alpha^2+958 #leq 1197_82587.jpg\n"
        },
        {
          "name": "stderr",
          "output_type": "stream",
          "text": "Lossy conversion from float64 to uint8. Range [0, 1]. Convert image to uint8 prior to saving to suppress this warning.\n\nLossy conversion from float64 to uint8. Range [0, 1]. Convert image to uint8 prior to saving to suppress this warning.\n\nLossy conversion from float64 to uint8. Range [0, 1]. Convert image to uint8 prior to saving to suppress this warning.\n\nLossy conversion from float64 to uint8. Range [0, 1]. Convert image to uint8 prior to saving to suppress this warning.\n"
        },
        {
          "name": "stdout",
          "output_type": "stream",
          "text": "Finished:  707\n\nFilename:  #frac{259}{809}#beta^4+472 #neq 824_63506.jpg\n\nFinished:  708\n\nFilename:  #frac{180}{361}+19 = 199_57589.jpg\n\nFinished:  709\n\nFilename:  #frac{514}{182}#alpha^3+45 #leq 561_98563.jpg\n"
        },
        {
          "name": "stderr",
          "output_type": "stream",
          "text": "Lossy conversion from float64 to uint8. Range [0, 1]. Convert image to uint8 prior to saving to suppress this warning.\n\nLossy conversion from float64 to uint8. Range [-0.46590909090908983, 1.0]. Convert image to uint8 prior to saving to suppress this warning.\n\nLossy conversion from float64 to uint8. Range [0, 1]. Convert image to uint8 prior to saving to suppress this warning.\n"
        },
        {
          "name": "stdout",
          "output_type": "stream",
          "text": "Finished:  710\n\nFilename:  #frac{777}{91}x^4+391 #neq 1229_26994.jpg\n\nFinished:  711\n\nFilename:  #frac{726}{260}x^3+211 #leq 1021_56706.jpg\n\nFinished:  712\n\nFilename:  #frac{726}{920}+764 = 1490_9600.jpg\n\nFinished:  713\n\nFilename:  #frac{878}{15}y^3-492 #neq 416_68876.jpg\n"
        },
        {
          "name": "stderr",
          "output_type": "stream",
          "text": "Lossy conversion from float64 to uint8. Range [0, 1]. Convert image to uint8 prior to saving to suppress this warning.\n\nLossy conversion from float64 to uint8. Range [0, 1]. Convert image to uint8 prior to saving to suppress this warning.\n\nLossy conversion from float64 to uint8. Range [0, 1]. Convert image to uint8 prior to saving to suppress this warning.\n\nLossy conversion from float64 to uint8. Range [0, 1]. Convert image to uint8 prior to saving to suppress this warning.\n"
        },
        {
          "name": "stdout",
          "output_type": "stream",
          "text": "Finished:  714\n\nFilename:  #frac{333}{877}+308 = 641_18935.jpg\n\nFinished:  715\n\nFilename:  #frac{649}{674}y^4+315 #geq 945_96173.jpg\n\nFinished:  716\n\nFilename:  #frac{565}{482}+879 = 1444_82871.jpg\n\nFinished:  717\n\nFilename:  #frac{575}{384}#alpha^3-236 #leq 406_13229.jpg\n"
        },
        {
          "name": "stderr",
          "output_type": "stream",
          "text": "Lossy conversion from float64 to uint8. Range [0, 1]. Convert image to uint8 prior to saving to suppress this warning.\n\nLossy conversion from float64 to uint8. Range [0, 1]. Convert image to uint8 prior to saving to suppress this warning.\n\nLossy conversion from float64 to uint8. Range [0, 1]. Convert image to uint8 prior to saving to suppress this warning.\n\nLossy conversion from float64 to uint8. Range [0, 1]. Convert image to uint8 prior to saving to suppress this warning.\n\nLossy conversion from float64 to uint8. Range [0, 1]. Convert image to uint8 prior to saving to suppress this warning.\n"
        },
        {
          "name": "stdout",
          "output_type": "stream",
          "text": "Finished:  718\n\nFilename:  #frac{224}{927}-117 = 107_7305.jpg\n\nFinished:  719\n\nFilename:  #frac{815}{528}y^2+759 #geq 1566_64603.jpg\n\nFinished:  720\n\nFilename:  #frac{81}{900}y^4+163 #neq 285_53418.jpg\n\nFinished:  721\n\nFilename:  #frac{298}{452}-172 = 126_72969.jpg\n"
        },
        {
          "name": "stderr",
          "output_type": "stream",
          "text": "Lossy conversion from float64 to uint8. Range [0, 1]. Convert image to uint8 prior to saving to suppress this warning.\n\nLossy conversion from float64 to uint8. Range [0, 1]. Convert image to uint8 prior to saving to suppress this warning.\n"
        },
        {
          "name": "stdout",
          "output_type": "stream",
          "text": "Finished:  722\n\nFilename:  #frac{841}{943}+661 = 1502_27701.jpg\n\nFinished:  723\n\nFilename:  #frac{326}{699}#beta^2-15 #neq 355_14114.jpg\n\nFinished:  724\n\nFilename:  #frac{571}{223}#alpha^3+574 #neq 1190_35254.jpg\n"
        },
        {
          "name": "stderr",
          "output_type": "stream",
          "text": "Lossy conversion from float64 to uint8. Range [0, 1]. Convert image to uint8 prior to saving to suppress this warning.\n\nLossy conversion from float64 to uint8. Range [0, 1]. Convert image to uint8 prior to saving to suppress this warning.\n\nLossy conversion from float64 to uint8. Range [0, 1]. Convert image to uint8 prior to saving to suppress this warning.\n\nLossy conversion from float64 to uint8. Range [0, 1]. Convert image to uint8 prior to saving to suppress this warning.\n"
        },
        {
          "name": "stdout",
          "output_type": "stream",
          "text": "Finished:  725\n\nFilename:  #frac{604}{648}+432 = 1036_21518.jpg\n\nFinished:  726\n\nFilename:  #frac{100}{153}#alpha^3+752 #leq 943_75434.jpg\n\nFinished:  727\n\nFilename:  #frac{285}{232}#beta^3-825 #neq -533_8809.jpg\n\nFinished:  728\n\nFilename:  #frac{328}{879}-927 = -599_84588.jpg\n"
        },
        {
          "name": "stderr",
          "output_type": "stream",
          "text": "Lossy conversion from float64 to uint8. Range [0, 1]. Convert image to uint8 prior to saving to suppress this warning.\n\nLossy conversion from float64 to uint8. Range [0, 1]. Convert image to uint8 prior to saving to suppress this warning.\n\nLossy conversion from float64 to uint8. Range [0, 1]. Convert image to uint8 prior to saving to suppress this warning.\n"
        },
        {
          "name": "stdout",
          "output_type": "stream",
          "text": "Finished:  729\n\nFilename:  #frac{143}{985}x^4+441 #geq 530_5708.jpg\n\nFinished:  730\n\nFilename:  #frac{796}{722}x^4+637 #neq 1448_74304.jpg\n\nFinished:  731\n\nFilename:  #frac{494}{877}y^3-974 #neq -415_33220.jpg\n"
        },
        {
          "name": "stderr",
          "output_type": "stream",
          "text": "Lossy conversion from float64 to uint8. Range [0, 1]. Convert image to uint8 prior to saving to suppress this warning.\n\nLossy conversion from float64 to uint8. Range [0, 1]. Convert image to uint8 prior to saving to suppress this warning.\n\nLossy conversion from float64 to uint8. Range [0, 1]. Convert image to uint8 prior to saving to suppress this warning.\n"
        },
        {
          "name": "stdout",
          "output_type": "stream",
          "text": "Finished:  732\n\nFilename:  #frac{71}{888}+960 = 1031_22441.jpg\n\nFinished:  733\n\nFilename:  #frac{508}{504}+971 = 1479_29685.jpg\n\nFinished:  734\n\nFilename:  #frac{393}{495}y^4-152 #geq 191_37950.jpg\n"
        },
        {
          "name": "stderr",
          "output_type": "stream",
          "text": "Lossy conversion from float64 to uint8. Range [0, 1]. Convert image to uint8 prior to saving to suppress this warning.\n\nLossy conversion from float64 to uint8. Range [0, 1]. Convert image to uint8 prior to saving to suppress this warning.\n\nLossy conversion from float64 to uint8. Range [0, 1]. Convert image to uint8 prior to saving to suppress this warning.\n"
        },
        {
          "name": "stdout",
          "output_type": "stream",
          "text": "Finished:  735\n\nFilename:  #frac{600}{158}#beta^3+838 #neq 1467_35727.jpg\n\nFinished:  736\n\nFilename:  #frac{2}{548}x^2-635 #geq -637_7880.jpg\n\nFinished:  737\n\nFilename:  #frac{916}{920}x^3+291 #neq 1249_87606.jpg\n"
        },
        {
          "name": "stderr",
          "output_type": "stream",
          "text": "Lossy conversion from float64 to uint8. Range [0, 1]. Convert image to uint8 prior to saving to suppress this warning.\n\nLossy conversion from float64 to uint8. Range [0, 1]. Convert image to uint8 prior to saving to suppress this warning.\n\nLossy conversion from float64 to uint8. Range [0, 1]. Convert image to uint8 prior to saving to suppress this warning.\n\nLossy conversion from float64 to uint8. Range [0, 1]. Convert image to uint8 prior to saving to suppress this warning.\n"
        },
        {
          "name": "stdout",
          "output_type": "stream",
          "text": "Finished:  738\n\nFilename:  #frac{218}{127}y^3-447 #leq -212_96579.jpg\n\nFinished:  739\n\nFilename:  #frac{288}{602}-741 = -453_50765.jpg\n\nFinished:  740\n\nFilename:  #frac{693}{108}-272 = 421_16217.jpg\n\nFinished:  741\n\nFilename:  #frac{87}{986}x^3-490 #neq -333_65226.jpg\n"
        },
        {
          "name": "stderr",
          "output_type": "stream",
          "text": "Lossy conversion from float64 to uint8. Range [-0.5305944055944014, 1.0]. Convert image to uint8 prior to saving to suppress this warning.\n\nLossy conversion from float64 to uint8. Range [0, 1]. Convert image to uint8 prior to saving to suppress this warning.\n\nLossy conversion from float64 to uint8. Range [0, 1]. Convert image to uint8 prior to saving to suppress this warning.\n\nLossy conversion from float64 to uint8. Range [0, 1]. Convert image to uint8 prior to saving to suppress this warning.\n"
        },
        {
          "name": "stdout",
          "output_type": "stream",
          "text": "Finished:  742\n\nFilename:  #frac{988}{664}#alpha^4-943 #leq 131_27924.jpg\n\nFinished:  743\n\nFilename:  #frac{892}{512}#alpha^4+268 #geq 1128_49510.jpg\n\nFinished:  744\n\nFilename:  #frac{146}{408}x^3+240 #neq 428_86902.jpg\n"
        },
        {
          "name": "stderr",
          "output_type": "stream",
          "text": "Lossy conversion from float64 to uint8. Range [0, 1]. Convert image to uint8 prior to saving to suppress this warning.\n\nLossy conversion from float64 to uint8. Range [0, 1]. Convert image to uint8 prior to saving to suppress this warning.\n\nLossy conversion from float64 to uint8. Range [0, 1]. Convert image to uint8 prior to saving to suppress this warning.\n"
        },
        {
          "name": "stdout",
          "output_type": "stream",
          "text": "Finished:  745\n\nFilename:  #frac{109}{689}-50 = 59_24831.jpg\n\nFinished:  746\n\nFilename:  #frac{708}{145}x^2-589 #neq 128_37973.jpg\n\nFinished:  747\n\nFilename:  #frac{416}{535}#alpha^2-505 #neq -80_76245.jpg\n\nFinished:  748\n\nFilename:  #frac{11}{990}y^4+349 #geq 267_87373.jpg\n"
        },
        {
          "name": "stderr",
          "output_type": "stream",
          "text": "Lossy conversion from float64 to uint8. Range [0, 1]. Convert image to uint8 prior to saving to suppress this warning.\n\nLossy conversion from float64 to uint8. Range [0, 1]. Convert image to uint8 prior to saving to suppress this warning.\n\nLossy conversion from float64 to uint8. Range [0, 1]. Convert image to uint8 prior to saving to suppress this warning.\n\nLossy conversion from float64 to uint8. Range [0, 1]. Convert image to uint8 prior to saving to suppress this warning.\n"
        },
        {
          "name": "stdout",
          "output_type": "stream",
          "text": "Finished:  749\n\nFilename:  #frac{732}{738}#alpha^2-237 #geq 454_37715.jpg\n\nFinished:  750\n\nFilename:  #frac{474}{76}x^2-45 #leq 501_41799.jpg\n\nFinished:  751\n\nFilename:  #frac{236}{267}#alpha^3-680 #geq -472_74391.jpg\n"
        },
        {
          "name": "stderr",
          "output_type": "stream",
          "text": "Lossy conversion from float64 to uint8. Range [0, 1]. Convert image to uint8 prior to saving to suppress this warning.\n\nLossy conversion from float64 to uint8. Range [0, 1]. Convert image to uint8 prior to saving to suppress this warning.\n"
        },
        {
          "name": "stdout",
          "output_type": "stream",
          "text": "Finished:  752\n\nFilename:  #frac{583}{317}y^4-578 #geq 0_81511.jpg\n\nFinished:  753\n\nFilename:  #frac{334}{266}y^2+863 #neq 1223_23504.jpg\n\nFinished:  754\n\nFilename:  #frac{295}{501}y^3+293 #geq 572_98897.jpg\n"
        },
        {
          "name": "stderr",
          "output_type": "stream",
          "text": "Lossy conversion from float64 to uint8. Range [0, 1]. Convert image to uint8 prior to saving to suppress this warning.\n\nLossy conversion from float64 to uint8. Range [0, 1]. Convert image to uint8 prior to saving to suppress this warning.\n"
        },
        {
          "name": "stdout",
          "output_type": "stream",
          "text": "Finished:  755\n\nFilename:  #frac{163}{283}+73 = 236_633.jpg\n\nFinished:  756\n\nFilename:  #frac{14}{613}#alpha^4-633 #geq -674_28651.jpg\n"
        },
        {
          "name": "stderr",
          "output_type": "stream",
          "text": "Lossy conversion from float64 to uint8. Range [0, 1]. Convert image to uint8 prior to saving to suppress this warning.\n\nLossy conversion from float64 to uint8. Range [0, 1]. Convert image to uint8 prior to saving to suppress this warning.\n\nLossy conversion from float64 to uint8. Range [0, 1]. Convert image to uint8 prior to saving to suppress this warning.\n\nLossy conversion from float64 to uint8. Range [0, 1]. Convert image to uint8 prior to saving to suppress this warning.\n"
        },
        {
          "name": "stdout",
          "output_type": "stream",
          "text": "Finished:  757\n\nFilename:  #frac{481}{807}+868 = 1349_56427.jpg\n\nFinished:  758\n\nFilename:  #frac{132}{890}x^2-234 #geq -154_64941.jpg\n\nFinished:  759\n\nFilename:  #frac{762}{646}#beta^2+540 #neq 1392_7005.jpg\n"
        },
        {
          "name": "stderr",
          "output_type": "stream",
          "text": "Lossy conversion from float64 to uint8. Range [0, 1]. Convert image to uint8 prior to saving to suppress this warning.\n\nLossy conversion from float64 to uint8. Range [0, 1]. Convert image to uint8 prior to saving to suppress this warning.\n\nLossy conversion from float64 to uint8. Range [-0.657159700764353, 1.0]. Convert image to uint8 prior to saving to suppress this warning.\n"
        },
        {
          "name": "stdout",
          "output_type": "stream",
          "text": "Finished:  760\n\nFilename:  #frac{278}{275}+707 = 985_58992.jpg\n\nFinished:  761\n\nFilename:  #frac{236}{409}#alpha^4+98 #geq 243_33054.jpg\n\nFinished:  762\n\nFilename:  #frac{793}{326}#beta^2-670 #leq 222_34059.jpg\n\nFinished:  763\n\nFilename:  #frac{105}{8}#alpha^4-104 #neq 37_60557.jpg\n"
        },
        {
          "name": "stderr",
          "output_type": "stream",
          "text": "Lossy conversion from float64 to uint8. Range [0, 1]. Convert image to uint8 prior to saving to suppress this warning.\n\nLossy conversion from float64 to uint8. Range [0, 1]. Convert image to uint8 prior to saving to suppress this warning.\n\nLossy conversion from float64 to uint8. Range [0, 1]. Convert image to uint8 prior to saving to suppress this warning.\n\nLossy conversion from float64 to uint8. Range [0, 1]. Convert image to uint8 prior to saving to suppress this warning.\n"
        },
        {
          "name": "stdout",
          "output_type": "stream",
          "text": "Finished:  764\n\nFilename:  #frac{677}{467}+729 = 1406_68977.jpg\n\nFinished:  765\n\nFilename:  #frac{490}{745}x^4+260 #geq 689_14588.jpg\n\nFinished:  766\n\nFilename:  #frac{306}{314}+444 = 750_39255.jpg\n\nFinished:  767\n\nFilename:  #frac{362}{707}y^2-292 #geq 12_29609.jpg\n"
        },
        {
          "name": "stderr",
          "output_type": "stream",
          "text": "Lossy conversion from float64 to uint8. Range [0, 1]. Convert image to uint8 prior to saving to suppress this warning.\n\nLossy conversion from float64 to uint8. Range [0, 1]. Convert image to uint8 prior to saving to suppress this warning.\n\nLossy conversion from float64 to uint8. Range [0, 1]. Convert image to uint8 prior to saving to suppress this warning.\n\nLossy conversion from float64 to uint8. Range [0, 1]. Convert image to uint8 prior to saving to suppress this warning.\n"
        },
        {
          "name": "stdout",
          "output_type": "stream",
          "text": "Finished:  768\n\nFilename:  #frac{701}{687}x^2+668 #neq 1459_71848.jpg\n\nFinished:  769\n\nFilename:  #frac{437}{935}y^4+969 #leq 1464_35342.jpg\n\nFinished:  770\n\nFilename:  #frac{502}{816}#beta^3-742 #geq -295_74209.jpg\n\nFinished:  771\n\nFilename:  #frac{249}{11}x^3-839 #geq -664_59767.jpg\n"
        },
        {
          "name": "stderr",
          "output_type": "stream",
          "text": "Lossy conversion from float64 to uint8. Range [0, 1]. Convert image to uint8 prior to saving to suppress this warning.\n\nLossy conversion from float64 to uint8. Range [0, 1]. Convert image to uint8 prior to saving to suppress this warning.\n\nLossy conversion from float64 to uint8. Range [0, 1]. Convert image to uint8 prior to saving to suppress this warning.\n\nLossy conversion from float64 to uint8. Range [0, 1]. Convert image to uint8 prior to saving to suppress this warning.\n"
        },
        {
          "name": "stdout",
          "output_type": "stream",
          "text": "Finished:  772\n\nFilename:  #frac{984}{806}+324 = 1308_61008.jpg\n\nFinished:  773\n\nFilename:  #frac{52}{469}-684 = -632_90071.jpg\n\nFinished:  774\n\nFilename:  #frac{476}{943}y^3+85 #leq 608_95818.jpg\n\nFinished:  775\n\nFilename:  #frac{332}{306}-167 = 165_94615.jpg\n"
        },
        {
          "name": "stderr",
          "output_type": "stream",
          "text": "Lossy conversion from float64 to uint8. Range [0, 1]. Convert image to uint8 prior to saving to suppress this warning.\n\nLossy conversion from float64 to uint8. Range [0, 1]. Convert image to uint8 prior to saving to suppress this warning.\n\nLossy conversion from float64 to uint8. Range [0, 1]. Convert image to uint8 prior to saving to suppress this warning.\n\nLossy conversion from float64 to uint8. Range [0, 1]. Convert image to uint8 prior to saving to suppress this warning.\n"
        },
        {
          "name": "stdout",
          "output_type": "stream",
          "text": "Finished:  776\n\nFilename:  #frac{147}{704}x^3+106 #neq 292_2383.jpg\n\nFinished:  777\n\nFilename:  #frac{414}{516}#alpha^4-783 #neq -274_3428.jpg\n\nFinished:  778\n\nFilename:  #frac{379}{822}y^2-150 #neq 268_11449.jpg\n\nFinished:  779\n\nFilename:  #frac{336}{27}x^2+851 #neq 1279_8671.jpg\n"
        },
        {
          "name": "stderr",
          "output_type": "stream",
          "text": "Lossy conversion from float64 to uint8. Range [0, 1]. Convert image to uint8 prior to saving to suppress this warning.\n\nLossy conversion from float64 to uint8. Range [0, 1]. Convert image to uint8 prior to saving to suppress this warning.\n\nLossy conversion from float64 to uint8. Range [0, 1]. Convert image to uint8 prior to saving to suppress this warning.\n\nLossy conversion from float64 to uint8. Range [0, 1]. Convert image to uint8 prior to saving to suppress this warning.\n"
        },
        {
          "name": "stdout",
          "output_type": "stream",
          "text": "Finished:  780\n\nFilename:  #frac{366}{762}+860 = 1226_18398.jpg\n\nFinished:  781\n\nFilename:  #frac{136}{832}#alpha^4+70 #geq 112_43750.jpg\n\nFinished:  782\n\nFilename:  #frac{194}{277}#beta^3-562 #leq -269_98105.jpg\n"
        },
        {
          "name": "stderr",
          "output_type": "stream",
          "text": "Lossy conversion from float64 to uint8. Range [0, 1]. Convert image to uint8 prior to saving to suppress this warning.\n"
        },
        {
          "name": "stdout",
          "output_type": "stream",
          "text": "Finished:  783\n\nFilename:  #frac{993}{177}+547 = 1540_71979.jpg\n\nFinished:  784\n\nFilename:  #frac{86}{176}#alpha^2-485 #neq -369_47358.jpg\n"
        },
        {
          "name": "stderr",
          "output_type": "stream",
          "text": "Lossy conversion from float64 to uint8. Range [0, 1]. Convert image to uint8 prior to saving to suppress this warning.\n\nLossy conversion from float64 to uint8. Range [0, 1]. Convert image to uint8 prior to saving to suppress this warning.\n\nLossy conversion from float64 to uint8. Range [0, 1]. Convert image to uint8 prior to saving to suppress this warning.\n\nLossy conversion from float64 to uint8. Range [0, 1]. Convert image to uint8 prior to saving to suppress this warning.\n"
        },
        {
          "name": "stdout",
          "output_type": "stream",
          "text": "Finished:  785\n\nFilename:  #frac{174}{421}-987 = -813_34764.jpg\n\nFinished:  786\n\nFilename:  #frac{931}{398}y^4-78 #neq 890_98287.jpg\n\nFinished:  787\n\nFilename:  #frac{850}{278}x^4+500 #neq 1381_41000.jpg\n\nFinished:  788\n\nFilename:  #frac{641}{321}y^2-53 #geq 504_47270.jpg\n"
        },
        {
          "name": "stderr",
          "output_type": "stream",
          "text": "Lossy conversion from float64 to uint8. Range [0, 1]. Convert image to uint8 prior to saving to suppress this warning.\n\nLossy conversion from float64 to uint8. Range [0, 1]. Convert image to uint8 prior to saving to suppress this warning.\n\nLossy conversion from float64 to uint8. Range [0, 1]. Convert image to uint8 prior to saving to suppress this warning.\n\nLossy conversion from float64 to uint8. Range [0, 1]. Convert image to uint8 prior to saving to suppress this warning.\n"
        },
        {
          "name": "stdout",
          "output_type": "stream",
          "text": "Finished:  789\n\nFilename:  #frac{514}{641}y^3-927 #leq -367_83499.jpg\n\nFinished:  790\n\nFilename:  #frac{52}{272}#alpha^2-533 #neq -430_17073.jpg\n\nFinished:  791\n\nFilename:  #frac{725}{420}#alpha^3+417 #neq 1202_47842.jpg\n\nFinished:  792\n"
        },
        {
          "name": "stderr",
          "output_type": "stream",
          "text": "Lossy conversion from float64 to uint8. Range [0, 1]. Convert image to uint8 prior to saving to suppress this warning.\n\nLossy conversion from float64 to uint8. Range [0, 1]. Convert image to uint8 prior to saving to suppress this warning.\n\nLossy conversion from float64 to uint8. Range [-0.8978289642075894, 1.0]. Convert image to uint8 prior to saving to suppress this warning.\n"
        },
        {
          "name": "stdout",
          "output_type": "stream",
          "text": "Filename:  #frac{937}{981}-861 = 76_31042.jpg\n\nFinished:  793\n\nFilename:  #frac{421}{475}#alpha^3-876 #neq -439_30021.jpg\n\nFinished:  794\n\nFilename:  #frac{433}{217}y^2+135 #neq 602_18833.jpg\n\nFinished:  795\n\nFilename:  #frac{720}{67}y^2+495 #neq 1243_72922.jpg\n"
        },
        {
          "name": "stderr",
          "output_type": "stream",
          "text": "Lossy conversion from float64 to uint8. Range [0, 1]. Convert image to uint8 prior to saving to suppress this warning.\n\nLossy conversion from float64 to uint8. Range [0, 1]. Convert image to uint8 prior to saving to suppress this warning.\n\nLossy conversion from float64 to uint8. Range [0, 1]. Convert image to uint8 prior to saving to suppress this warning.\n\nLossy conversion from float64 to uint8. Range [0, 1]. Convert image to uint8 prior to saving to suppress this warning.\n"
        },
        {
          "name": "stdout",
          "output_type": "stream",
          "text": "Finished:  796\n\nFilename:  #frac{508}{910}+130 = 638_33276.jpg\n\nFinished:  797\n\nFilename:  #frac{373}{604}#beta^3+396 #leq 840_88537.jpg\n\nFinished:  798\n\nFilename:  #frac{728}{991}-992 = -264_92220.jpg\n\nFinished:  799\n\nFilename:  #frac{214}{28}#beta^2-80 #neq 193_12211.jpg\n"
        },
        {
          "name": "stderr",
          "output_type": "stream",
          "text": "Lossy conversion from float64 to uint8. Range [0, 1]. Convert image to uint8 prior to saving to suppress this warning.\n\nLossy conversion from float64 to uint8. Range [0, 1]. Convert image to uint8 prior to saving to suppress this warning.\n\nLossy conversion from float64 to uint8. Range [0, 1]. Convert image to uint8 prior to saving to suppress this warning.\n\nLossy conversion from float64 to uint8. Range [0, 1]. Convert image to uint8 prior to saving to suppress this warning.\n"
        },
        {
          "name": "stdout",
          "output_type": "stream",
          "text": "Finished:  800\n\nFilename:  #frac{448}{120}#beta^3-558 #geq -179_6196.jpg\n\nFinished:  801\n\nFilename:  #frac{907}{632}-956 = -49_17024.jpg\n\nFinished:  802\n\nFilename:  #frac{728}{176}-868 = -140_98591.jpg\n"
        },
        {
          "name": "stderr",
          "output_type": "stream",
          "text": "Lossy conversion from float64 to uint8. Range [0, 1]. Convert image to uint8 prior to saving to suppress this warning.\n\nLossy conversion from float64 to uint8. Range [0, 1]. Convert image to uint8 prior to saving to suppress this warning.\n\nLossy conversion from float64 to uint8. Range [0, 1]. Convert image to uint8 prior to saving to suppress this warning.\n"
        },
        {
          "name": "stdout",
          "output_type": "stream",
          "text": "Finished:  803\n\nFilename:  #frac{35}{137}y^3-911 #neq -816_20802.jpg\n\nFinished:  804\n\nFilename:  #frac{431}{412}+753 = 1184_52785.jpg\n\nFinished:  805\n\nFilename:  #frac{556}{947}#alpha^3-396 #geq 143_70884.jpg\n\nFinished:  806\n\nFilename:  #frac{204}{186}#alpha^4-603 #leq -314_12508.jpg\n"
        },
        {
          "name": "stderr",
          "output_type": "stream",
          "text": "Lossy conversion from float64 to uint8. Range [0, 1]. Convert image to uint8 prior to saving to suppress this warning.\n\nLossy conversion from float64 to uint8. Range [0, 1]. Convert image to uint8 prior to saving to suppress this warning.\n\nLossy conversion from float64 to uint8. Range [-1.1145768404080003e-16, 1.0]. Convert image to uint8 prior to saving to suppress this warning.\n"
        },
        {
          "name": "stdout",
          "output_type": "stream",
          "text": "Finished:  807\n\nFilename:  #frac{684}{126}#alpha^4-592 #neq 129_3806.jpg\n\nFinished:  808\n\nFilename:  #frac{943}{915}y^3-810 #leq 140_24179.jpg\n\nFinished:  809\n\nFilename:  #frac{883}{264}y^3-577 #leq 395_87539.jpg\n"
        },
        {
          "name": "stderr",
          "output_type": "stream",
          "text": "Lossy conversion from float64 to uint8. Range [0, 1]. Convert image to uint8 prior to saving to suppress this warning.\n\nLossy conversion from float64 to uint8. Range [0, 1]. Convert image to uint8 prior to saving to suppress this warning.\n"
        },
        {
          "name": "stdout",
          "output_type": "stream",
          "text": "Finished:  810\n\nFilename:  #frac{335}{506}y^3+508 #neq 931_99674.jpg\n\nFinished:  811\n\nFilename:  #frac{871}{517}-272 = 599_57959.jpg\n"
        },
        {
          "name": "stderr",
          "output_type": "stream",
          "text": "Lossy conversion from float64 to uint8. Range [0, 1]. Convert image to uint8 prior to saving to suppress this warning.\n\nLossy conversion from float64 to uint8. Range [0, 1]. Convert image to uint8 prior to saving to suppress this warning.\n\nLossy conversion from float64 to uint8. Range [0, 1]. Convert image to uint8 prior to saving to suppress this warning.\n\nLossy conversion from float64 to uint8. Range [0, 1]. Convert image to uint8 prior to saving to suppress this warning.\n"
        },
        {
          "name": "stdout",
          "output_type": "stream",
          "text": "Finished:  812\n\nFilename:  #frac{148}{847}+147 = 295_40182.jpg\n\nFinished:  813\n\nFilename:  #frac{587}{734}y^4+635 #leq 1251_88765.jpg\n\nFinished:  814\n\nFilename:  #frac{165}{213}-530 = -365_31249.jpg\n"
        },
        {
          "name": "stderr",
          "output_type": "stream",
          "text": "Lossy conversion from float64 to uint8. Range [0, 1]. Convert image to uint8 prior to saving to suppress this warning.\n\nLossy conversion from float64 to uint8. Range [0, 1]. Convert image to uint8 prior to saving to suppress this warning.\n\nLossy conversion from float64 to uint8. Range [0, 1]. Convert image to uint8 prior to saving to suppress this warning.\n"
        },
        {
          "name": "stdout",
          "output_type": "stream",
          "text": "Finished:  815\n\nFilename:  #frac{458}{605}x^2-545 #leq -19_34517.jpg\n\nFinished:  816\n\nFilename:  #frac{235}{439}+367 = 602_39983.jpg\n\nFinished:  817\n\nFilename:  #frac{860}{324}x^3-11 #neq 861_34737.jpg\n"
        },
        {
          "name": "stderr",
          "output_type": "stream",
          "text": "Lossy conversion from float64 to uint8. Range [0, 1]. Convert image to uint8 prior to saving to suppress this warning.\n\nLossy conversion from float64 to uint8. Range [-0.6153846153846131, 1.0]. Convert image to uint8 prior to saving to suppress this warning.\n\nLossy conversion from float64 to uint8. Range [0, 1]. Convert image to uint8 prior to saving to suppress this warning.\n"
        },
        {
          "name": "stdout",
          "output_type": "stream",
          "text": "Finished:  818\n\nFilename:  #frac{822}{22}#alpha^2+705 #leq 1562_86830.jpg\n\nFinished:  819\n\nFilename:  #frac{574}{846}#beta^2+753 #leq 1385_35041.jpg\n\nFinished:  820\n\nFilename:  #frac{37}{420}y^4-55 #neq 52_3119.jpg\n\nFinished:  821\n\nFilename:  #frac{65}{41}x^2+873 #neq 949_66768.jpg\n"
        },
        {
          "name": "stderr",
          "output_type": "stream",
          "text": "Lossy conversion from float64 to uint8. Range [0, 1]. Convert image to uint8 prior to saving to suppress this warning.\n\nLossy conversion from float64 to uint8. Range [0, 1]. Convert image to uint8 prior to saving to suppress this warning.\n\nLossy conversion from float64 to uint8. Range [0, 1]. Convert image to uint8 prior to saving to suppress this warning.\n\nLossy conversion from float64 to uint8. Range [0, 1]. Convert image to uint8 prior to saving to suppress this warning.\n"
        },
        {
          "name": "stdout",
          "output_type": "stream",
          "text": "Finished:  822\n\nFilename:  #frac{20}{690}#alpha^2+455 #geq 388_35319.jpg\n\nFinished:  823\n\nFilename:  #frac{398}{430}x^3+218 #neq 679_29824.jpg\n\nFinished:  824\n\nFilename:  #frac{177}{265}+69 = 246_96222.jpg\n"
        },
        {
          "name": "stderr",
          "output_type": "stream",
          "text": "Lossy conversion from float64 to uint8. Range [0, 1]. Convert image to uint8 prior to saving to suppress this warning.\n\nLossy conversion from float64 to uint8. Range [0, 1]. Convert image to uint8 prior to saving to suppress this warning.\n"
        },
        {
          "name": "stdout",
          "output_type": "stream",
          "text": "Finished:  825\n\nFilename:  #frac{168}{551}#beta^2+931 #neq 1173_8967.jpg\n\nFinished:  826\n\nFilename:  #frac{304}{594}x^4+81 #geq 336_98438.jpg\n\nFinished:  827\n\nFilename:  #frac{491}{279}x^2-604 #leq -90_10475.jpg\n"
        },
        {
          "name": "stderr",
          "output_type": "stream",
          "text": "Lossy conversion from float64 to uint8. Range [0, 1]. Convert image to uint8 prior to saving to suppress this warning.\n\nLossy conversion from float64 to uint8. Range [-0.0070741055693173726, 1.0]. Convert image to uint8 prior to saving to suppress this warning.\n\nLossy conversion from float64 to uint8. Range [0, 1]. Convert image to uint8 prior to saving to suppress this warning.\n\nLossy conversion from float64 to uint8. Range [0, 1]. Convert image to uint8 prior to saving to suppress this warning.\n"
        },
        {
          "name": "stdout",
          "output_type": "stream",
          "text": "Finished:  828\n\nFilename:  #frac{63}{574}x^4+82 #neq 194_38638.jpg\n\nFinished:  829\n\nFilename:  #frac{107}{679}y^3+572 #neq 700_62376.jpg\n\nFinished:  830\n\nFilename:  #frac{112}{814}-805 = -693_25610.jpg\n\nFinished:  831\n\nFilename:  #frac{801}{86}#beta^3+317 #geq 1096_87243.jpg\n"
        },
        {
          "name": "stderr",
          "output_type": "stream",
          "text": "Lossy conversion from float64 to uint8. Range [0, 1]. Convert image to uint8 prior to saving to suppress this warning.\n\nLossy conversion from float64 to uint8. Range [0, 1]. Convert image to uint8 prior to saving to suppress this warning.\n"
        },
        {
          "name": "stdout",
          "output_type": "stream",
          "text": "Finished:  832\n\nFilename:  #frac{570}{680}x^2+233 #neq 875_69192.jpg\n\nFinished:  833\n\nFilename:  #frac{494}{442}x^2-613 #leq -93_35576.jpg\n"
        },
        {
          "name": "stderr",
          "output_type": "stream",
          "text": "Lossy conversion from float64 to uint8. Range [0, 1]. Convert image to uint8 prior to saving to suppress this warning.\n\nLossy conversion from float64 to uint8. Range [0, 1]. Convert image to uint8 prior to saving to suppress this warning.\n\nLossy conversion from float64 to uint8. Range [0, 1]. Convert image to uint8 prior to saving to suppress this warning.\n\nLossy conversion from float64 to uint8. Range [0, 1]. Convert image to uint8 prior to saving to suppress this warning.\n"
        },
        {
          "name": "stdout",
          "output_type": "stream",
          "text": "Finished:  834\n\nFilename:  #frac{383}{39}y^2-707 #geq -400_73921.jpg\n\nFinished:  835\n\nFilename:  #frac{405}{211}x^2+32 #neq 483_30756.jpg\n\nFinished:  836\n\nFilename:  #frac{935}{146}y^2-445 #leq 539_5657.jpg\n"
        },
        {
          "name": "stderr",
          "output_type": "stream",
          "text": "Lossy conversion from float64 to uint8. Range [0, 1]. Convert image to uint8 prior to saving to suppress this warning.\n\nLossy conversion from float64 to uint8. Range [0, 1]. Convert image to uint8 prior to saving to suppress this warning.\n\nLossy conversion from float64 to uint8. Range [-0.00018315018315019296, 1.0]. Convert image to uint8 prior to saving to suppress this warning.\n"
        },
        {
          "name": "stdout",
          "output_type": "stream",
          "text": "Finished:  837\n\nFilename:  #frac{851}{703}y^2+240 #geq 1065_21157.jpg\n\nFinished:  838\n\nFilename:  #frac{626}{119}#beta^2-792 #geq -243_21195.jpg\n\nFinished:  839\n\nFilename:  #frac{757}{327}+564 = 1321_65038.jpg\n"
        },
        {
          "name": "stderr",
          "output_type": "stream",
          "text": "Lossy conversion from float64 to uint8. Range [0, 1]. Convert image to uint8 prior to saving to suppress this warning.\n"
        },
        {
          "name": "stdout",
          "output_type": "stream",
          "text": "Finished:  840\n\nFilename:  #frac{586}{926}#beta^4-862 #geq -313_84140.jpg\n\nFinished:  841\n\nFilename:  #frac{547}{609}#alpha^3-174 #geq 310_44024.jpg\n"
        },
        {
          "name": "stderr",
          "output_type": "stream",
          "text": "Lossy conversion from float64 to uint8. Range [0, 1]. Convert image to uint8 prior to saving to suppress this warning.\n\nLossy conversion from float64 to uint8. Range [0, 1]. Convert image to uint8 prior to saving to suppress this warning.\n\nLossy conversion from float64 to uint8. Range [0, 1]. Convert image to uint8 prior to saving to suppress this warning.\n\nLossy conversion from float64 to uint8. Range [0, 1]. Convert image to uint8 prior to saving to suppress this warning.\n"
        },
        {
          "name": "stdout",
          "output_type": "stream",
          "text": "Finished:  842\n\nFilename:  #frac{460}{368}+776 = 1236_83717.jpg\n\nFinished:  843\n\nFilename:  #frac{702}{400}y^4+717 #geq 1400_44811.jpg\n\nFinished:  844\n\nFilename:  #frac{804}{400}-732 = 72_10390.jpg\n\nFinished:  845\n\nFilename:  #frac{439}{853}y^2-184 #leq 339_96881.jpg\n"
        },
        {
          "name": "stderr",
          "output_type": "stream",
          "text": "Lossy conversion from float64 to uint8. Range [0, 1]. Convert image to uint8 prior to saving to suppress this warning.\n\nLossy conversion from float64 to uint8. Range [0, 1]. Convert image to uint8 prior to saving to suppress this warning.\n\nLossy conversion from float64 to uint8. Range [0, 1]. Convert image to uint8 prior to saving to suppress this warning.\n\nLossy conversion from float64 to uint8. Range [0, 1]. Convert image to uint8 prior to saving to suppress this warning.\n"
        },
        {
          "name": "stdout",
          "output_type": "stream",
          "text": "Finished:  846\n\nFilename:  #frac{720}{863}y^2+123 #geq 771_11590.jpg\n\nFinished:  847\n\nFilename:  #frac{153}{974}#alpha^3+428 #leq 676_73344.jpg\n\nFinished:  848\n\nFilename:  #frac{778}{645}-268 = 510_87877.jpg\n\nFinished:  849\n\nFilename:  #frac{304}{603}+555 = 859_28118.jpg\n"
        },
        {
          "name": "stderr",
          "output_type": "stream",
          "text": "Lossy conversion from float64 to uint8. Range [0, 1]. Convert image to uint8 prior to saving to suppress this warning.\n\nLossy conversion from float64 to uint8. Range [0, 1]. Convert image to uint8 prior to saving to suppress this warning.\n\nLossy conversion from float64 to uint8. Range [0, 1]. Convert image to uint8 prior to saving to suppress this warning.\n\nLossy conversion from float64 to uint8. Range [0, 1]. Convert image to uint8 prior to saving to suppress this warning.\n"
        },
        {
          "name": "stdout",
          "output_type": "stream",
          "text": "Finished:  850\n\nFilename:  #frac{169}{402}x^4+63 #geq 139_10441.jpg\n\nFinished:  851\n\nFilename:  #frac{343}{699}#beta^3+649 #neq 1010_94787.jpg\n\nFinished:  852\n\nFilename:  #frac{293}{216}x^2-380 #leq -2_32292.jpg\n\nFinished:  853\n"
        },
        {
          "name": "stderr",
          "output_type": "stream",
          "text": "Lossy conversion from float64 to uint8. Range [0, 1]. Convert image to uint8 prior to saving to suppress this warning.\n\nLossy conversion from float64 to uint8. Range [0, 1]. Convert image to uint8 prior to saving to suppress this warning.\n\nLossy conversion from float64 to uint8. Range [0, 1]. Convert image to uint8 prior to saving to suppress this warning.\n"
        },
        {
          "name": "stdout",
          "output_type": "stream",
          "text": "Filename:  #frac{968}{173}#alpha^2+277 #geq 1162_76040.jpg\n\nFinished:  854\n\nFilename:  #frac{858}{868}+87 = 945_29325.jpg\n\nFinished:  855\n\nFilename:  #frac{658}{647}#beta^3-472 #leq 212_8827.jpg\n\nFinished:  856\n\nFilename:  #frac{79}{995}+538 = 617_98083.jpg\n"
        },
        {
          "name": "stderr",
          "output_type": "stream",
          "text": "Lossy conversion from float64 to uint8. Range [0, 1]. Convert image to uint8 prior to saving to suppress this warning.\n\nLossy conversion from float64 to uint8. Range [0, 1]. Convert image to uint8 prior to saving to suppress this warning.\n"
        },
        {
          "name": "stdout",
          "output_type": "stream",
          "text": "Finished:  857\n\nFilename:  #frac{158}{208}#alpha^2+740 #neq 941_97980.jpg\n\nFinished:  858\n\nFilename:  #frac{847}{924}y^2-98 #leq 755_51506.jpg\n"
        },
        {
          "name": "stderr",
          "output_type": "stream",
          "text": "Lossy conversion from float64 to uint8. Range [0, 1]. Convert image to uint8 prior to saving to suppress this warning.\n\nLossy conversion from float64 to uint8. Range [0, 1]. Convert image to uint8 prior to saving to suppress this warning.\n\nLossy conversion from float64 to uint8. Range [0, 1]. Convert image to uint8 prior to saving to suppress this warning.\n\nLossy conversion from float64 to uint8. Range [0, 1]. Convert image to uint8 prior to saving to suppress this warning.\n"
        },
        {
          "name": "stdout",
          "output_type": "stream",
          "text": "Finished:  859\n\nFilename:  #frac{840}{942}#alpha^2-200 #leq 735_70853.jpg\n\nFinished:  860\n\nFilename:  #frac{976}{130}-201 = 775_45440.jpg\n\nFinished:  861\n\nFilename:  #frac{113}{863}y^3-463 #neq -259_77955.jpg\n\nFinished: "
        },
        {
          "name": "stderr",
          "output_type": "stream",
          "text": "Lossy conversion from float64 to uint8. Range [-0.0012150604922820264, 1.0]. Convert image to uint8 prior to saving to suppress this warning.\n\nLossy conversion from float64 to uint8. Range [0, 1]. Convert image to uint8 prior to saving to suppress this warning.\n\nLossy conversion from float64 to uint8. Range [0, 1]. Convert image to uint8 prior to saving to suppress this warning.\n"
        },
        {
          "name": "stdout",
          "output_type": "stream",
          "text": " 862\n\nFilename:  #frac{748}{203}#beta^4+843 #leq 1671_56425.jpg\n\nFinished:  863\n\nFilename:  #frac{916}{379}#beta^4-963 #leq -15_30275.jpg\n\nFinished:  864\n\nFilename:  #frac{623}{186}#alpha^3+415 #geq 995_752.jpg\n"
        },
        {
          "name": "stderr",
          "output_type": "stream",
          "text": "Lossy conversion from float64 to uint8. Range [0, 1]. Convert image to uint8 prior to saving to suppress this warning.\n\nLossy conversion from float64 to uint8. Range [0, 1]. Convert image to uint8 prior to saving to suppress this warning.\n\nLossy conversion from float64 to uint8. Range [0, 1]. Convert image to uint8 prior to saving to suppress this warning.\n"
        },
        {
          "name": "stdout",
          "output_type": "stream",
          "text": "Finished:  865\n\nFilename:  #frac{501}{735}+422 = 923_25802.jpg\n\nFinished:  866\n\nFilename:  #frac{932}{430}x^3-998 #geq -130_97834.jpg\n\nFinished:  867\n\nFilename:  #frac{345}{165}+605 = 950_99816.jpg\n\nFinished:  868\n\nFilename:  #frac{368}{523}#beta^3+172 #geq 456_95887.jpg\n"
        },
        {
          "name": "stderr",
          "output_type": "stream",
          "text": "Lossy conversion from float64 to uint8. Range [0, 1]. Convert image to uint8 prior to saving to suppress this warning.\n\nLossy conversion from float64 to uint8. Range [0, 1]. Convert image to uint8 prior to saving to suppress this warning.\n\nLossy conversion from float64 to uint8. Range [0, 1]. Convert image to uint8 prior to saving to suppress this warning.\n\nLossy conversion from float64 to uint8. Range [0, 1]. Convert image to uint8 prior to saving to suppress this warning.\n"
        },
        {
          "name": "stdout",
          "output_type": "stream",
          "text": "Finished:  869\n\nFilename:  #frac{255}{435}#beta^4-186 #neq 141_22525.jpg\n\nFinished:  870\n\nFilename:  #frac{23}{237}#beta^3+253 #geq 216_71120.jpg\n\nFinished:  871\n\nFilename:  #frac{791}{86}#beta^3-548 #geq 151_26094.jpg\n\nFinished:  872\n\nFilename:  #frac{89}{745}#beta^3+538 #leq 711_96934.jpg\n"
        },
        {
          "name": "stderr",
          "output_type": "stream",
          "text": "Lossy conversion from float64 to uint8. Range [0, 1]. Convert image to uint8 prior to saving to suppress this warning.\n\nLossy conversion from float64 to uint8. Range [0, 1]. Convert image to uint8 prior to saving to suppress this warning.\n\nLossy conversion from float64 to uint8. Range [0, 1]. Convert image to uint8 prior to saving to suppress this warning.\n"
        },
        {
          "name": "stdout",
          "output_type": "stream",
          "text": "Finished:  873\n\nFilename:  #frac{803}{993}#beta^4-981 #neq -121_22432.jpg\n\nFinished:  874\n\nFilename:  #frac{652}{9}#beta^3-99 #geq 538_89662.jpg\n\nFinished:  875\n\nFilename:  #frac{369}{459}#alpha^3+466 #geq 764_81423.jpg\n"
        },
        {
          "name": "stderr",
          "output_type": "stream",
          "text": "Lossy conversion from float64 to uint8. Range [0, 1]. Convert image to uint8 prior to saving to suppress this warning.\n\nLossy conversion from float64 to uint8. Range [0, 1]. Convert image to uint8 prior to saving to suppress this warning.\n\nLossy conversion from float64 to uint8. Range [0, 1]. Convert image to uint8 prior to saving to suppress this warning.\n\nLossy conversion from float64 to uint8. Range [0, 1]. Convert image to uint8 prior to saving to suppress this warning.\n"
        },
        {
          "name": "stdout",
          "output_type": "stream",
          "text": "Finished:  876\n\nFilename:  #frac{343}{41}#beta^4-742 #neq -325_78302.jpg\n\nFinished:  877\n\nFilename:  #frac{560}{896}#beta^4+273 #neq 920_24570.jpg\n\nFinished:  878\n\nFilename:  #frac{346}{672}x^3-297 #geq -41_43698.jpg\n"
        },
        {
          "name": "stderr",
          "output_type": "stream",
          "text": "Lossy conversion from float64 to uint8. Range [0, 1]. Convert image to uint8 prior to saving to suppress this warning.\n\nLossy conversion from float64 to uint8. Range [0, 1]. Convert image to uint8 prior to saving to suppress this warning.\n\nLossy conversion from float64 to uint8. Range [0, 1]. Convert image to uint8 prior to saving to suppress this warning.\n"
        },
        {
          "name": "stdout",
          "output_type": "stream",
          "text": "Finished:  879\n\nFilename:  #frac{917}{602}#beta^4-966 #neq -36_56652.jpg\n\nFinished:  880\n\nFilename:  #frac{47}{81}#beta^2-784 #leq -644_99241.jpg\n\nFinished:  881\n\nFilename:  #frac{241}{773}+557 = 798_72664.jpg\n"
        },
        {
          "name": "stderr",
          "output_type": "stream",
          "text": "Lossy conversion from float64 to uint8. Range [0, 1]. Convert image to uint8 prior to saving to suppress this warning.\n\nLossy conversion from float64 to uint8. Range [0, 1]. Convert image to uint8 prior to saving to suppress this warning.\n"
        },
        {
          "name": "stdout",
          "output_type": "stream",
          "text": "Finished:  882\n\nFilename:  #frac{450}{640}+700 = 1150_20802.jpg\n\nFinished:  883\n\nFilename:  #frac{645}{465}+269 = 914_27340.jpg\n\nFinished:  884\n\nFilename:  #frac{502}{315}y^3-168 #leq 410_13829.jpg\n"
        },
        {
          "name": "stderr",
          "output_type": "stream",
          "text": "Lossy conversion from float64 to uint8. Range [0, 1]. Convert image to uint8 prior to saving to suppress this warning.\n\nLossy conversion from float64 to uint8. Range [0, 1]. Convert image to uint8 prior to saving to suppress this warning.\n\nLossy conversion from float64 to uint8. Range [0, 1]. Convert image to uint8 prior to saving to suppress this warning.\n\nLossy conversion from float64 to uint8. Range [0, 1]. Convert image to uint8 prior to saving to suppress this warning.\n\nLossy conversion from float64 to uint8. Range [0, 1]. Convert image to uint8 prior to saving to suppress this warning.\n"
        },
        {
          "name": "stdout",
          "output_type": "stream",
          "text": "Finished:  885\n\nFilename:  #frac{991}{795}+996 = 1987_77308.jpg\n\nFinished:  886\n\nFilename:  #frac{498}{986}x^3+204 #neq 791_17589.jpg\n\nFinished:  887\n\nFilename:  #frac{979}{461}#beta^4-87 #leq 944_83988.jpg\n\nFinished:  888\n\nFilename:  #frac{857}{864}#alpha^2+891 #leq 1775_49149.jpg\n"
        },
        {
          "name": "stderr",
          "output_type": "stream",
          "text": "Lossy conversion from float64 to uint8. Range [0, 1]. Convert image to uint8 prior to saving to suppress this warning.\n\nLossy conversion from float64 to uint8. Range [0, 1]. Convert image to uint8 prior to saving to suppress this warning.\n\nLossy conversion from float64 to uint8. Range [0, 1]. Convert image to uint8 prior to saving to suppress this warning.\n"
        },
        {
          "name": "stdout",
          "output_type": "stream",
          "text": "Finished:  889\n\nFilename:  #frac{112}{646}#beta^2-256 #leq -128_31393.jpg\n\nFinished:  890\n\nFilename:  #frac{485}{233}#beta^4-370 #neq 170_29717.jpg\n\nFinished:  891\n\nFilename:  #frac{630}{415}#beta^2+573 #neq 1229_17247.jpg\n\nFinished:  892\n\nFilename:  #frac{774}{852}y^4+92 #geq 794_59845.jpg\n"
        },
        {
          "name": "stderr",
          "output_type": "stream",
          "text": "Lossy conversion from float64 to uint8. Range [0, 1]. Convert image to uint8 prior to saving to suppress this warning.\n\nLossy conversion from float64 to uint8. Range [0, 1]. Convert image to uint8 prior to saving to suppress this warning.\n\nLossy conversion from float64 to uint8. Range [0, 1]. Convert image to uint8 prior to saving to suppress this warning.\n\nLossy conversion from float64 to uint8. Range [0, 1]. Convert image to uint8 prior to saving to suppress this warning.\n"
        },
        {
          "name": "stdout",
          "output_type": "stream",
          "text": "Finished:  893\n\nFilename:  #frac{692}{804}y^3+618 #geq 1291_62088.jpg\n\nFinished:  894\n\nFilename:  #frac{862}{720}x^4+891 #neq 1794_60259.jpg\n\nFinished:  895\n\nFilename:  #frac{820}{200}#beta^4-270 #leq 606_95141.jpg\n"
        },
        {
          "name": "stderr",
          "output_type": "stream",
          "text": "Lossy conversion from float64 to uint8. Range [0, 1]. Convert image to uint8 prior to saving to suppress this warning.\n\nLossy conversion from float64 to uint8. Range [0, 1]. Convert image to uint8 prior to saving to suppress this warning.\n\nLossy conversion from float64 to uint8. Range [0, 1]. Convert image to uint8 prior to saving to suppress this warning.\n\nLossy conversion from float64 to uint8. Range [0, 1]. Convert image to uint8 prior to saving to suppress this warning.\n"
        },
        {
          "name": "stdout",
          "output_type": "stream",
          "text": "Finished:  896\n\nFilename:  #frac{457}{79}#alpha^3-694 #leq -209_63406.jpg\n\nFinished:  897\n\nFilename:  #frac{826}{197}y^3-929 #leq -82_52336.jpg\n\nFinished:  898\n\nFilename:  #frac{942}{158}+23 = 965_93827.jpg\n\nFinished:  899\n\nFilename:  #frac{511}{498}x^2-67 #geq 419_79054.jpg\n"
        },
        {
          "name": "stderr",
          "output_type": "stream",
          "text": "Lossy conversion from float64 to uint8. Range [0, 1]. Convert image to uint8 prior to saving to suppress this warning.\n\nLossy conversion from float64 to uint8. Range [0, 1]. Convert image to uint8 prior to saving to suppress this warning.\n\nLossy conversion from float64 to uint8. Range [0, 1]. Convert image to uint8 prior to saving to suppress this warning.\n"
        },
        {
          "name": "stdout",
          "output_type": "stream",
          "text": "Finished:  900\n\nFilename:  #frac{707}{227}y^3+305 #neq 1088_99832.jpg\n\nFinished:  901\n\nFilename:  #frac{358}{66}x^2+879 #leq 1326_8566.jpg\n\nFinished:  902\n\nFilename:  #frac{311}{776}y^2+468 #neq 847_89641.jpg\n\nFinished:  903\n\nFilename:  #frac{162}{823}#beta^2-247 #leq -25_23685.jpg\n"
        },
        {
          "name": "stderr",
          "output_type": "stream",
          "text": "Lossy conversion from float64 to uint8. Range [-0.993935718617344, 1.0]. Convert image to uint8 prior to saving to suppress this warning.\n\nLossy conversion from float64 to uint8. Range [0, 1]. Convert image to uint8 prior to saving to suppress this warning.\n\nLossy conversion from float64 to uint8. Range [0, 1]. Convert image to uint8 prior to saving to suppress this warning.\n\nLossy conversion from float64 to uint8. Range [0, 1]. Convert image to uint8 prior to saving to suppress this warning.\n"
        },
        {
          "name": "stdout",
          "output_type": "stream",
          "text": "Finished:  904\n\nFilename:  #frac{924}{89}x^3+894 #leq 1885_62653.jpg\n\nFinished:  905\n\nFilename:  #frac{983}{937}y^3-783 #geq 154_51756.jpg\n\nFinished:  906\n\nFilename:  #frac{984}{832}y^4-24 #geq 949_89462.jpg\n\nFinished:  907\n\nFilename:  #frac{94}{260}#beta^4-343 #geq -314_74326.jpg\n"
        },
        {
          "name": "stderr",
          "output_type": "stream",
          "text": "Lossy conversion from float64 to uint8. Range [0, 1]. Convert image to uint8 prior to saving to suppress this warning.\n\nLossy conversion from float64 to uint8. Range [0, 1]. Convert image to uint8 prior to saving to suppress this warning.\n\nLossy conversion from float64 to uint8. Range [0, 1]. Convert image to uint8 prior to saving to suppress this warning.\n\nLossy conversion from float64 to uint8. Range [-0.7674418604651194, 1.0]. Convert image to uint8 prior to saving to suppress this warning.\n"
        },
        {
          "name": "stdout",
          "output_type": "stream",
          "text": "Finished:  908\n\nFilename:  #frac{653}{421}#beta^4-250 #geq 354_44037.jpg\n\nFinished:  909\n\nFilename:  #frac{832}{119}y^3-632 #leq 208_12319.jpg\n\nFinished:  910\n\nFilename:  #frac{760}{78}+848 = 1608_8584.jpg\n\nFinished:  911\n\nFilename:  #frac{69}{676}+687 = 756_85576.jpg\n"
        },
        {
          "name": "stderr",
          "output_type": "stream",
          "text": "Lossy conversion from float64 to uint8. Range [0, 1]. Convert image to uint8 prior to saving to suppress this warning.\n\nLossy conversion from float64 to uint8. Range [0, 1]. Convert image to uint8 prior to saving to suppress this warning.\n"
        },
        {
          "name": "stdout",
          "output_type": "stream",
          "text": "Finished:  912\n\nFilename:  #frac{845}{147}+875 = 1720_4691.jpg\n\nFinished:  913\n\nFilename:  #frac{102}{204}#alpha^3+186 #leq 306_18270.jpg\n"
        },
        {
          "name": "stderr",
          "output_type": "stream",
          "text": "Lossy conversion from float64 to uint8. Range [0, 1]. Convert image to uint8 prior to saving to suppress this warning.\n\nLossy conversion from float64 to uint8. Range [0, 1]. Convert image to uint8 prior to saving to suppress this warning.\n\nLossy conversion from float64 to uint8. Range [0, 1]. Convert image to uint8 prior to saving to suppress this warning.\n\nLossy conversion from float64 to uint8. Range [0, 1]. Convert image to uint8 prior to saving to suppress this warning.\n"
        },
        {
          "name": "stdout",
          "output_type": "stream",
          "text": "Finished:  914\n\nFilename:  #frac{688}{637}#beta^3-740 #neq -6_21937.jpg\n\nFinished:  915\n\nFilename:  #frac{88}{100}+103 = 191_74555.jpg\n\nFinished:  916\n\nFilename:  #frac{953}{458}#alpha^4+659 #leq 1711_92045.jpg\n\nFinished:  917\n\nFilename:  #frac{354}{879}x^2+192 #neq 639_19023.jpg\n"
        },
        {
          "name": "stderr",
          "output_type": "stream",
          "text": "Lossy conversion from float64 to uint8. Range [0, 1]. Convert image to uint8 prior to saving to suppress this warning.\n\nLossy conversion from float64 to uint8. Range [0, 1]. Convert image to uint8 prior to saving to suppress this warning.\n\nLossy conversion from float64 to uint8. Range [0, 1]. Convert image to uint8 prior to saving to suppress this warning.\n\nLossy conversion from float64 to uint8. Range [0, 1]. Convert image to uint8 prior to saving to suppress this warning.\n"
        },
        {
          "name": "stdout",
          "output_type": "stream",
          "text": "Finished:  918\n\nFilename:  #frac{140}{786}y^3+938 #neq 1152_28136.jpg\n\nFinished:  919\n\nFilename:  #frac{302}{38}+28 = 330_94423.jpg\n\nFinished:  920\n\nFilename:  #frac{45}{470}#beta^2+932 #geq 937_30169.jpg\n\nFinished:  921\n\nFilename:  #frac{577}{911}#beta^4+104 #geq 631_64385.jpg\n"
        },
        {
          "name": "stderr",
          "output_type": "stream",
          "text": "Lossy conversion from float64 to uint8. Range [0, 1]. Convert image to uint8 prior to saving to suppress this warning.\n\nLossy conversion from float64 to uint8. Range [0, 1]. Convert image to uint8 prior to saving to suppress this warning.\n\nLossy conversion from float64 to uint8. Range [0, 1]. Convert image to uint8 prior to saving to suppress this warning.\n\nLossy conversion from float64 to uint8. Range [0, 1]. Convert image to uint8 prior to saving to suppress this warning.\n"
        },
        {
          "name": "stdout",
          "output_type": "stream",
          "text": "Finished:  922\n\nFilename:  #frac{399}{234}-810 = -411_40937.jpg\n\nFinished:  923\n\nFilename:  #frac{468}{78}x^3-716 #neq -160_99998.jpg\n\nFinished:  924\n\nFilename:  #frac{931}{731}#alpha^2+461 #leq 1443_57066.jpg\n\nFinished:  925\n\nFilename:  #frac{733}{598}#alpha^3+49 #geq 718_10563.jpg\n"
        },
        {
          "name": "stderr",
          "output_type": "stream",
          "text": "Lossy conversion from float64 to uint8. Range [0, 1]. Convert image to uint8 prior to saving to suppress this warning.\n\nLossy conversion from float64 to uint8. Range [0, 1]. Convert image to uint8 prior to saving to suppress this warning.\n\nLossy conversion from float64 to uint8. Range [0, 1]. Convert image to uint8 prior to saving to suppress this warning.\n"
        },
        {
          "name": "stdout",
          "output_type": "stream",
          "text": "Finished:  926\n\nFilename:  #frac{131}{623}y^3+931 #neq 1071_77949.jpg\n\nFinished:  927\n\nFilename:  #frac{466}{706}y^4-944 #leq -478_21318.jpg\n\nFinished:  928\n\nFilename:  #frac{769}{801}#alpha^2+579 #neq 1414_48358.jpg\n"
        },
        {
          "name": "stderr",
          "output_type": "stream",
          "text": "Lossy conversion from float64 to uint8. Range [0, 1]. Convert image to uint8 prior to saving to suppress this warning.\n\nLossy conversion from float64 to uint8. Range [0, 1]. Convert image to uint8 prior to saving to suppress this warning.\n\nLossy conversion from float64 to uint8. Range [0, 1]. Convert image to uint8 prior to saving to suppress this warning.\n\nLossy conversion from float64 to uint8. Range [0, 1]. Convert image to uint8 prior to saving to suppress this warning.\n"
        },
        {
          "name": "stdout",
          "output_type": "stream",
          "text": "Finished:  929\n\nFilename:  #frac{82}{593}#alpha^4-435 #geq -367_85702.jpg\n\nFinished:  930\n\nFilename:  #frac{267}{484}#alpha^3-935 #geq -687_70855.jpg\n\nFinished:  931\n\nFilename:  #frac{516}{157}y^4+63 #geq 536_28607.jpg\n"
        },
        {
          "name": "stderr",
          "output_type": "stream",
          "text": "Lossy conversion from float64 to uint8. Range [0, 1]. Convert image to uint8 prior to saving to suppress this warning.\n\nLossy conversion from float64 to uint8. Range [0, 1]. Convert image to uint8 prior to saving to suppress this warning.\n\nLossy conversion from float64 to uint8. Range [0, 1]. Convert image to uint8 prior to saving to suppress this warning.\n"
        },
        {
          "name": "stdout",
          "output_type": "stream",
          "text": "Finished:  932\n\nFilename:  #frac{380}{331}#alpha^2+914 #geq 1283_72890.jpg\n\nFinished:  933\n\nFilename:  #frac{315}{85}y^3+17 #neq 414_48236.jpg\n\nFinished:  934\n\nFilename:  #frac{865}{674}#beta^3+581 #leq 1455_79392.jpg\n\nFinished:  935\n\nFilename:  #frac{603}{496}x^3+993 #leq 1645_5654.jpg\n"
        },
        {
          "name": "stderr",
          "output_type": "stream",
          "text": "Lossy conversion from float64 to uint8. Range [0, 1]. Convert image to uint8 prior to saving to suppress this warning.\n\nLossy conversion from float64 to uint8. Range [0, 1]. Convert image to uint8 prior to saving to suppress this warning.\n\nLossy conversion from float64 to uint8. Range [0, 1]. Convert image to uint8 prior to saving to suppress this warning.\n\nLossy conversion from float64 to uint8. Range [0, 1]. Convert image to uint8 prior to saving to suppress this warning.\n"
        },
        {
          "name": "stdout",
          "output_type": "stream",
          "text": "Finished:  936\n\nFilename:  #frac{240}{774}x^4-886 #neq -642_54090.jpg\n\nFinished:  937\n\nFilename:  #frac{857}{131}x^3-97 #leq 809_81761.jpg\n\nFinished:  938\n\nFilename:  #frac{300}{703}#beta^2+247 #neq 607_47981.jpg\n\nFinished: "
        },
        {
          "name": "stderr",
          "output_type": "stream",
          "text": "Lossy conversion from float64 to uint8. Range [0, 1]. Convert image to uint8 prior to saving to suppress this warning.\n"
        },
        {
          "name": "stdout",
          "output_type": "stream",
          "text": " 939\n\nFilename:  #frac{949}{307}x^2+686 #geq 1551_25882.jpg\n\nFinished:  940\n\nFilename:  #frac{540}{842}#beta^4-469 #leq 117_16043.jpg\n"
        },
        {
          "name": "stderr",
          "output_type": "stream",
          "text": "Lossy conversion from float64 to uint8. Range [0, 1]. Convert image to uint8 prior to saving to suppress this warning.\n\nLossy conversion from float64 to uint8. Range [0, 1]. Convert image to uint8 prior to saving to suppress this warning.\n\nLossy conversion from float64 to uint8. Range [0, 1]. Convert image to uint8 prior to saving to suppress this warning.\n\nLossy conversion from float64 to uint8. Range [0, 1]. Convert image to uint8 prior to saving to suppress this warning.\n\nLossy conversion from float64 to uint8. Range [0, 1]. Convert image to uint8 prior to saving to suppress this warning.\n"
        },
        {
          "name": "stdout",
          "output_type": "stream",
          "text": "Finished:  941\n\nFilename:  #frac{269}{84}#alpha^4-457 #leq -96_76640.jpg\n\nFinished:  942\n\nFilename:  #frac{111}{249}#alpha^3-34 #neq 95_17635.jpg\n\nFinished:  943\n\nFilename:  #frac{627}{659}#alpha^4-453 #geq 136_83543.jpg\n\nFinished:  944\n\nFilename:  #frac{704}{518}-824 = -120_47781.jpg\n"
        },
        {
          "name": "stderr",
          "output_type": "stream",
          "text": "Lossy conversion from float64 to uint8. Range [0, 1]. Convert image to uint8 prior to saving to suppress this warning.\n\nLossy conversion from float64 to uint8. Range [0, 1]. Convert image to uint8 prior to saving to suppress this warning.\n\nLossy conversion from float64 to uint8. Range [0, 1]. Convert image to uint8 prior to saving to suppress this warning.\n"
        },
        {
          "name": "stdout",
          "output_type": "stream",
          "text": "Finished:  945\n\nFilename:  #frac{251}{641}y^2-652 #neq -306_72336.jpg\n\nFinished:  946\n\nFilename:  #frac{10}{967}#beta^3-986 #neq -897_29475.jpg\n\nFinished:  947\n\nFilename:  #frac{408}{322}y^4+586 #geq 929_45086.jpg\n\nFinished:  948\n\nFilename:  #frac{160}{335}x^3+384 #geq 530_50535.jpg\n"
        },
        {
          "name": "stderr",
          "output_type": "stream",
          "text": "Lossy conversion from float64 to uint8. Range [-0.0026310524209683466, 1.0]. Convert image to uint8 prior to saving to suppress this warning.\n\nLossy conversion from float64 to uint8. Range [0, 1]. Convert image to uint8 prior to saving to suppress this warning.\n\nLossy conversion from float64 to uint8. Range [0, 1]. Convert image to uint8 prior to saving to suppress this warning.\n\nLossy conversion from float64 to uint8. Range [0, 1]. Convert image to uint8 prior to saving to suppress this warning.\n"
        },
        {
          "name": "stdout",
          "output_type": "stream",
          "text": "Finished:  949\n\nFilename:  #frac{289}{141}-770 = -481_22933.jpg\n\nFinished:  950\n\nFilename:  #frac{133}{781}#alpha^4+126 #geq 198_6696.jpg\n\nFinished:  951\n\nFilename:  #frac{167}{980}x^2+21 #geq 144_26265.jpg\n"
        },
        {
          "name": "stderr",
          "output_type": "stream",
          "text": "Lossy conversion from float64 to uint8. Range [0, 1]. Convert image to uint8 prior to saving to suppress this warning.\n\nLossy conversion from float64 to uint8. Range [0, 1]. Convert image to uint8 prior to saving to suppress this warning.\n\nLossy conversion from float64 to uint8. Range [0, 1]. Convert image to uint8 prior to saving to suppress this warning.\n"
        },
        {
          "name": "stdout",
          "output_type": "stream",
          "text": "Finished:  952\n\nFilename:  #frac{969}{389}#alpha^2-792 #leq 274_98726.jpg\n\nFinished:  953\n\nFilename:  #frac{480}{819}x^2-858 #geq -384_95266.jpg\n\nFinished:  954\n\nFilename:  #frac{315}{901}y^4-237 #geq 55_9962.jpg\n\nFinished:  955\n\nFilename:  #frac{445}{35}y^2+89 #leq 622_87083.jpg\n"
        },
        {
          "name": "stderr",
          "output_type": "stream",
          "text": "Lossy conversion from float64 to uint8. Range [-0.6688528921675135, 1.0]. Convert image to uint8 prior to saving to suppress this warning.\n\nLossy conversion from float64 to uint8. Range [0, 1]. Convert image to uint8 prior to saving to suppress this warning.\n\nLossy conversion from float64 to uint8. Range [0, 1]. Convert image to uint8 prior to saving to suppress this warning.\n\nLossy conversion from float64 to uint8. Range [0, 1]. Convert image to uint8 prior to saving to suppress this warning.\n"
        },
        {
          "name": "stdout",
          "output_type": "stream",
          "text": "Finished:  956\n\nFilename:  #frac{38}{309}#alpha^2-122 #leq 6_8864.jpg\n\nFinished:  957\n\nFilename:  #frac{7}{463}#alpha^2+609 #neq 694_48159.jpg\n\nFinished:  958\n\nFilename:  #frac{352}{767}#alpha^2-443 #geq -184_73158.jpg\n\nFinished:  959\n\nFilename:  #frac{264}{72}#alpha^2-760 #geq -577_88421.jpg\n"
        },
        {
          "name": "stderr",
          "output_type": "stream",
          "text": "Lossy conversion from float64 to uint8. Range [0, 1]. Convert image to uint8 prior to saving to suppress this warning.\n\nLossy conversion from float64 to uint8. Range [0, 1]. Convert image to uint8 prior to saving to suppress this warning.\n\nLossy conversion from float64 to uint8. Range [0, 1]. Convert image to uint8 prior to saving to suppress this warning.\n\nLossy conversion from float64 to uint8. Range [0, 1]. Convert image to uint8 prior to saving to suppress this warning.\n\nLossy conversion from float64 to uint8. Range [0, 1]. Convert image to uint8 prior to saving to suppress this warning.\n"
        },
        {
          "name": "stdout",
          "output_type": "stream",
          "text": "Finished:  960\n\nFilename:  #frac{148}{13}-44 = 104_95205.jpg\n\nFinished:  961\n\nFilename:  #frac{493}{123}x^4-760 #leq -219_13692.jpg\n\nFinished:  962\n\nFilename:  #frac{158}{488}x^2-579 #leq -418_94096.jpg\n\nFinished:  963\n\nFilename:  #frac{10}{950}x^4-449 #neq -347_17123.jpg\n"
        },
        {
          "name": "stderr",
          "output_type": "stream",
          "text": "Lossy conversion from float64 to uint8. Range [-0.005409936044236697, 1.0]. Convert image to uint8 prior to saving to suppress this warning.\n\nLossy conversion from float64 to uint8. Range [0, 1]. Convert image to uint8 prior to saving to suppress this warning.\n"
        },
        {
          "name": "stdout",
          "output_type": "stream",
          "text": "Finished:  964\n\nFilename:  #frac{31}{510}+985 = 1016_13514.jpg\n\nFinished:  965\n\nFilename:  #frac{56}{990}-870 = -814_36199.jpg\n\nFinished:  966\n\nFilename:  #frac{910}{850}#beta^2-125 #geq 775_71180.jpg\n"
        },
        {
          "name": "stderr",
          "output_type": "stream",
          "text": "Lossy conversion from float64 to uint8. Range [0, 1]. Convert image to uint8 prior to saving to suppress this warning.\n\nLossy conversion from float64 to uint8. Range [0, 1]. Convert image to uint8 prior to saving to suppress this warning.\n\nLossy conversion from float64 to uint8. Range [-0.002078250655100691, 1.0]. Convert image to uint8 prior to saving to suppress this warning.\n"
        },
        {
          "name": "stdout",
          "output_type": "stream",
          "text": "Finished:  967\n\nFilename:  #frac{122}{64}+707 = 829_74634.jpg\n\nFinished:  968\n\nFilename:  #frac{598}{84}-257 = 341_34583.jpg\n"
        },
        {
          "name": "stderr",
          "output_type": "stream",
          "text": "Lossy conversion from float64 to uint8. Range [0, 1]. Convert image to uint8 prior to saving to suppress this warning.\n\nLossy conversion from float64 to uint8. Range [0, 1]. Convert image to uint8 prior to saving to suppress this warning.\n"
        },
        {
          "name": "stdout",
          "output_type": "stream",
          "text": "Finished:  969\n\nFilename:  #frac{48}{589}#alpha^2+115 #geq 159_62644.jpg\n\nFinished:  970\n\nFilename:  #frac{749}{79}+768 = 1517_40708.jpg\n\nFinished:  971\n\nFilename:  #frac{391}{979}#alpha^3-601 #geq -240_32189.jpg\n"
        },
        {
          "name": "stderr",
          "output_type": "stream",
          "text": "Lossy conversion from float64 to uint8. Range [0, 1]. Convert image to uint8 prior to saving to suppress this warning.\n\nLossy conversion from float64 to uint8. Range [0, 1]. Convert image to uint8 prior to saving to suppress this warning.\n\nLossy conversion from float64 to uint8. Range [0, 1]. Convert image to uint8 prior to saving to suppress this warning.\n\nLossy conversion from float64 to uint8. Range [0, 1]. Convert image to uint8 prior to saving to suppress this warning.\n"
        },
        {
          "name": "stdout",
          "output_type": "stream",
          "text": "Finished:  972\n\nFilename:  #frac{373}{650}y^4-412 #leq 10_90369.jpg\n\nFinished:  973\n\nFilename:  #frac{193}{274}#beta^3-564 #neq -337_95443.jpg\n\nFinished:  974\n\nFilename:  #frac{783}{87}+767 = 1550_68158.jpg\n\nFinished:  975\n\nFilename:  #frac{660}{79}y^2-90 #neq 665_69796.jpg\n"
        },
        {
          "name": "stderr",
          "output_type": "stream",
          "text": "Lossy conversion from float64 to uint8. Range [0, 1]. Convert image to uint8 prior to saving to suppress this warning.\n\nLossy conversion from float64 to uint8. Range [0, 1]. Convert image to uint8 prior to saving to suppress this warning.\n\nLossy conversion from float64 to uint8. Range [0, 1]. Convert image to uint8 prior to saving to suppress this warning.\n\nLossy conversion from float64 to uint8. Range [0, 1]. Convert image to uint8 prior to saving to suppress this warning.\n"
        },
        {
          "name": "stdout",
          "output_type": "stream",
          "text": "Finished:  976\n\nFilename:  #frac{784}{104}x^4+448 #neq 1318_25797.jpg\n\nFinished:  977\n\nFilename:  #frac{458}{207}x^3-766 #leq -278_55777.jpg\n\nFinished:  978\n\nFilename:  #frac{970}{262}#beta^4+196 #leq 1260_19512.jpg\n"
        },
        {
          "name": "stderr",
          "output_type": "stream",
          "text": "Lossy conversion from float64 to uint8. Range [-0.7891917742706888, 1.0]. Convert image to uint8 prior to saving to suppress this warning.\n\nLossy conversion from float64 to uint8. Range [0, 1]. Convert image to uint8 prior to saving to suppress this warning.\n\nLossy conversion from float64 to uint8. Range [0, 1]. Convert image to uint8 prior to saving to suppress this warning.\n"
        },
        {
          "name": "stdout",
          "output_type": "stream",
          "text": "Finished:  979\n\nFilename:  #frac{835}{908}x^3+596 #neq 1472_30507.jpg\n\nFinished:  980\n\nFilename:  #frac{317}{490}#beta^2-504 #leq -113_50110.jpg\n\nFinished:  981\n\nFilename:  #frac{736}{807}x^4+952 #leq 1721_77798.jpg\n"
        },
        {
          "name": "stderr",
          "output_type": "stream",
          "text": "Lossy conversion from float64 to uint8. Range [0, 1]. Convert image to uint8 prior to saving to suppress this warning.\n\nLossy conversion from float64 to uint8. Range [0, 1]. Convert image to uint8 prior to saving to suppress this warning.\n\nLossy conversion from float64 to uint8. Range [0, 1]. Convert image to uint8 prior to saving to suppress this warning.\n"
        },
        {
          "name": "stdout",
          "output_type": "stream",
          "text": "Finished:  982\n\nFilename:  #frac{570}{312}+425 = 995_18829.jpg\n\nFinished:  983\n\nFilename:  #frac{128}{823}x^4+674 #leq 860_44546.jpg\n\nFinished:  984\n\nFilename:  #frac{502}{302}+135 = 637_43177.jpg\n\nFinished:  985\n"
        },
        {
          "name": "stderr",
          "output_type": "stream",
          "text": "Lossy conversion from float64 to uint8. Range [0, 1]. Convert image to uint8 prior to saving to suppress this warning.\n\nLossy conversion from float64 to uint8. Range [0, 1]. Convert image to uint8 prior to saving to suppress this warning.\n\nLossy conversion from float64 to uint8. Range [0, 1]. Convert image to uint8 prior to saving to suppress this warning.\n"
        },
        {
          "name": "stdout",
          "output_type": "stream",
          "text": "Filename:  #frac{813}{902}+361 = 1174_73236.jpg\n\nFinished:  986\n\nFilename:  #frac{322}{343}x^3-504 #leq -164_33128.jpg\n\nFinished:  987\n\nFilename:  #frac{706}{483}+735 = 1441_97622.jpg\n\nFinished:  988\n\nFilename: "
        },
        {
          "name": "stderr",
          "output_type": "stream",
          "text": "Lossy conversion from float64 to uint8. Range [0, 1]. Convert image to uint8 prior to saving to suppress this warning.\n"
        },
        {
          "name": "stdout",
          "output_type": "stream",
          "text": " #frac{391}{829}#beta^3+337 #neq 826_30595.jpg\n\nFinished:  989\n\nFilename:  #frac{925}{261}#beta^2-708 #leq 224_40932.jpg\n"
        },
        {
          "name": "stderr",
          "output_type": "stream",
          "text": "Lossy conversion from float64 to uint8. Range [0, 1]. Convert image to uint8 prior to saving to suppress this warning.\n\nLossy conversion from float64 to uint8. Range [0, 1]. Convert image to uint8 prior to saving to suppress this warning.\n\nLossy conversion from float64 to uint8. Range [0, 1]. Convert image to uint8 prior to saving to suppress this warning.\n"
        },
        {
          "name": "stdout",
          "output_type": "stream",
          "text": "Finished:  990\n\nFilename:  #frac{421}{957}y^3-125 #neq 379_63984.jpg\n\nFinished:  991\n\nFilename:  #frac{100}{947}y^4+742 #neq 910_81730.jpg\n"
        },
        {
          "name": "stderr",
          "output_type": "stream",
          "text": "Lossy conversion from float64 to uint8. Range [0, 1]. Convert image to uint8 prior to saving to suppress this warning.\n\nLossy conversion from float64 to uint8. Range [-0.5521929686939997, 1.0]. Convert image to uint8 prior to saving to suppress this warning.\n\nLossy conversion from float64 to uint8. Range [0, 1]. Convert image to uint8 prior to saving to suppress this warning.\n"
        },
        {
          "name": "stdout",
          "output_type": "stream",
          "text": "Finished:  992\n\nFilename:  #frac{409}{972}#beta^2+342 #geq 689_95014.jpg\n\nFinished:  993\n\nFilename:  #frac{872}{37}y^3-54 #neq 868_16072.jpg\n\nFinished:  994\n\nFilename:  #frac{960}{629}y^4+356 #leq 1350_88931.jpg\n\nFinished:  995\n"
        },
        {
          "name": "stderr",
          "output_type": "stream",
          "text": "Lossy conversion from float64 to uint8. Range [0, 1]. Convert image to uint8 prior to saving to suppress this warning.\n\nLossy conversion from float64 to uint8. Range [0, 1]. Convert image to uint8 prior to saving to suppress this warning.\n\nLossy conversion from float64 to uint8. Range [0, 1]. Convert image to uint8 prior to saving to suppress this warning.\n"
        },
        {
          "name": "stdout",
          "output_type": "stream",
          "text": "Filename:  #frac{515}{149}y^2+57 #geq 475_11762.jpg\n\nFinished:  996\n\nFilename:  #frac{362}{870}-382 = -20_67522.jpg\n\nFinished:  997\n\nFilename:  #frac{167}{68}y^4-835 #neq -648_2931.jpg\n\nFinished:  998\n\nFilename:  #frac{405}{939}y^3+40 #leq 509_91274.jpg\n"
        },
        {
          "name": "stderr",
          "output_type": "stream",
          "text": "Lossy conversion from float64 to uint8. Range [0, 1]. Convert image to uint8 prior to saving to suppress this warning.\n\nLossy conversion from float64 to uint8. Range [-0.49649621212121314, 1.0]. Convert image to uint8 prior to saving to suppress this warning.\n\nLossy conversion from float64 to uint8. Range [0, 1]. Convert image to uint8 prior to saving to suppress this warning.\n"
        },
        {
          "name": "stdout",
          "output_type": "stream",
          "text": "Finished:  999\n\nFilename:  #frac{147}{645}x^3-330 #leq -115_72110.jpg\n\nFinished:  1000\n\nFilename:  #frac{511}{521}#beta^3-830 #leq -317_84758.jpg\n\nFinished:  1001\n\nFilename:  #frac{320}{233}-159 = 161_87080.jpg\n"
        },
        {
          "name": "stderr",
          "output_type": "stream",
          "text": "Lossy conversion from float64 to uint8. Range [0, 1]. Convert image to uint8 prior to saving to suppress this warning.\n\nLossy conversion from float64 to uint8. Range [0, 1]. Convert image to uint8 prior to saving to suppress this warning.\n\nLossy conversion from float64 to uint8. Range [0, 1]. Convert image to uint8 prior to saving to suppress this warning.\n\nLossy conversion from float64 to uint8. Range [0, 1]. Convert image to uint8 prior to saving to suppress this warning.\n"
        },
        {
          "name": "stdout",
          "output_type": "stream",
          "text": "Finished:  1002\n\nFilename:  #frac{597}{88}+166 = 763_9365.jpg\n\nFinished:  1003\n\nFilename:  #frac{962}{847}x^4-662 #leq 374_56332.jpg\n\nFinished:  1004\n\nFilename:  #frac{592}{496}#beta^4+684 #neq 1333_1228.jpg\n"
        },
        {
          "name": "stderr",
          "output_type": "stream",
          "text": "Lossy conversion from float64 to uint8. Range [0, 1]. Convert image to uint8 prior to saving to suppress this warning.\n\nLossy conversion from float64 to uint8. Range [0, 1]. Convert image to uint8 prior to saving to suppress this warning.\n"
        },
        {
          "name": "stdout",
          "output_type": "stream",
          "text": "Finished:  1005\n\nFilename:  #frac{682}{117}y^2+946 #neq 1645_49588.jpg\n\nFinished:  1006\n\nFilename:  #frac{516}{875}+421 = 937_57767.jpg\n\nFinished:  1007\n\nFilename:  #frac{253}{898}+709 = 962_60966.jpg\n"
        },
        {
          "name": "stderr",
          "output_type": "stream",
          "text": "Lossy conversion from float64 to uint8. Range [0, 1]. Convert image to uint8 prior to saving to suppress this warning.\n\nLossy conversion from float64 to uint8. Range [0, 1]. Convert image to uint8 prior to saving to suppress this warning.\n\nLossy conversion from float64 to uint8. Range [0, 1]. Convert image to uint8 prior to saving to suppress this warning.\n"
        },
        {
          "name": "stdout",
          "output_type": "stream",
          "text": "Finished:  1008\n\nFilename:  #frac{777}{217}y^3+764 #neq 1613_426.jpg\n\nFinished:  1009\n\nFilename:  #frac{48}{561}-708 = -660_89387.jpg\n\nFinished:  1010\n\nFilename:  #frac{821}{312}y^4+68 #neq 907_62398.jpg\n"
        },
        {
          "name": "stderr",
          "output_type": "stream",
          "text": "Lossy conversion from float64 to uint8. Range [0, 1]. Convert image to uint8 prior to saving to suppress this warning.\n\nLossy conversion from float64 to uint8. Range [0, 1]. Convert image to uint8 prior to saving to suppress this warning.\n\nLossy conversion from float64 to uint8. Range [0, 1]. Convert image to uint8 prior to saving to suppress this warning.\n"
        },
        {
          "name": "stdout",
          "output_type": "stream",
          "text": "Finished:  1011\n\nFilename:  #frac{204}{322}-835 = -631_43136.jpg\n\nFinished:  1012\n\nFilename:  #frac{222}{53}+126 = 348_32589.jpg\n\nFinished:  1013\n\nFilename:  #frac{952}{703}y^3-574 #geq 327_93900.jpg\n"
        },
        {
          "name": "stderr",
          "output_type": "stream",
          "text": "Lossy conversion from float64 to uint8. Range [0, 1]. Convert image to uint8 prior to saving to suppress this warning.\n\nLossy conversion from float64 to uint8. Range [0, 1]. Convert image to uint8 prior to saving to suppress this warning.\n\nLossy conversion from float64 to uint8. Range [0, 1]. Convert image to uint8 prior to saving to suppress this warning.\n"
        },
        {
          "name": "stdout",
          "output_type": "stream",
          "text": "Finished:  1014\n\nFilename:  #frac{90}{399}y^2-309 #leq -192_21410.jpg\n\nFinished:  1015\n\nFilename:  #frac{667}{244}x^2+803 #neq 1483_46061.jpg\n\nFinished:  1016\n\nFilename:  #frac{514}{461}#beta^2+916 #neq 1452_80690.jpg\n"
        },
        {
          "name": "stderr",
          "output_type": "stream",
          "text": "Lossy conversion from float64 to uint8. Range [0, 1]. Convert image to uint8 prior to saving to suppress this warning.\n\nLossy conversion from float64 to uint8. Range [0, 1]. Convert image to uint8 prior to saving to suppress this warning.\n\nLossy conversion from float64 to uint8. Range [0, 1]. Convert image to uint8 prior to saving to suppress this warning.\n\nLossy conversion from float64 to uint8. Range [0, 1]. Convert image to uint8 prior to saving to suppress this warning.\n"
        },
        {
          "name": "stdout",
          "output_type": "stream",
          "text": "Finished:  1017\n\nFilename:  #frac{65}{21}+645 = 710_32431.jpg\n\nFinished:  1018\n\nFilename:  #frac{206}{984}#alpha^3+495 #geq 604_20203.jpg\n\nFinished:  1019\n\nFilename:  #frac{278}{449}+641 = 919_61098.jpg\n\nFinished:  1020\n\nFilename:  #frac{649}{618}x^2-431 #leq 235_53701.jpg\n"
        },
        {
          "name": "stderr",
          "output_type": "stream",
          "text": "Lossy conversion from float64 to uint8. Range [0, 1]. Convert image to uint8 prior to saving to suppress this warning.\n\nLossy conversion from float64 to uint8. Range [0, 1]. Convert image to uint8 prior to saving to suppress this warning.\n\nLossy conversion from float64 to uint8. Range [0, 1]. Convert image to uint8 prior to saving to suppress this warning.\n\nLossy conversion from float64 to uint8. Range [0, 1]. Convert image to uint8 prior to saving to suppress this warning.\n\nLossy conversion from float64 to uint8. Range [0, 1]. Convert image to uint8 prior to saving to suppress this warning.\n"
        },
        {
          "name": "stdout",
          "output_type": "stream",
          "text": "Finished:  1021\n\nFilename:  #frac{605}{382}-253 = 352_56652.jpg\n\nFinished:  1022\n\nFilename:  #frac{784}{654}#alpha^4-367 #geq 366_63785.jpg\n\nFinished:  1023\n\nFilename:  #frac{103}{247}+736 = 839_21024.jpg\n\nFinished:  1024\n\nFilename:  #frac{83}{134}+816 = 899_32691.jpg\n"
        },
        {
          "name": "stderr",
          "output_type": "stream",
          "text": "Lossy conversion from float64 to uint8. Range [0, 1]. Convert image to uint8 prior to saving to suppress this warning.\n\nLossy conversion from float64 to uint8. Range [0, 1]. Convert image to uint8 prior to saving to suppress this warning.\n\nLossy conversion from float64 to uint8. Range [0, 1]. Convert image to uint8 prior to saving to suppress this warning.\n"
        },
        {
          "name": "stdout",
          "output_type": "stream",
          "text": "Finished:  1025\n\nFilename:  #frac{405}{158}#beta^2-565 #geq -227_36547.jpg\n\nFinished:  1026\n\nFilename:  #frac{482}{420}-522 = -40_85399.jpg\n\nFinished:  1027\n\nFilename:  #frac{138}{131}y^2-43 #neq 175_42663.jpg\n"
        },
        {
          "name": "stderr",
          "output_type": "stream",
          "text": "Lossy conversion from float64 to uint8. Range [0, 1]. Convert image to uint8 prior to saving to suppress this warning.\n\nLossy conversion from float64 to uint8. Range [0, 1]. Convert image to uint8 prior to saving to suppress this warning.\n\nLossy conversion from float64 to uint8. Range [0, 1]. Convert image to uint8 prior to saving to suppress this warning.\n"
        },
        {
          "name": "stdout",
          "output_type": "stream",
          "text": "Finished:  1028\n\nFilename:  #frac{23}{516}-374 = -351_89345.jpg\n\nFinished:  1029\n\nFilename:  #frac{714}{669}y^2+167 #neq 936_86054.jpg\n\nFinished:  1030\n\nFilename:  #frac{598}{377}x^2+559 #leq 1242_4534.jpg\n"
        },
        {
          "name": "stderr",
          "output_type": "stream",
          "text": "Lossy conversion from float64 to uint8. Range [0, 1]. Convert image to uint8 prior to saving to suppress this warning.\n\nLossy conversion from float64 to uint8. Range [0, 1]. Convert image to uint8 prior to saving to suppress this warning.\n\nLossy conversion from float64 to uint8. Range [0, 1]. Convert image to uint8 prior to saving to suppress this warning.\n"
        },
        {
          "name": "stdout",
          "output_type": "stream",
          "text": "Finished:  1031\n\nFilename:  #frac{159}{245}-984 = -825_42760.jpg\n\nFinished:  1032\n\nFilename:  #frac{452}{625}y^2+856 #leq 1382_62959.jpg\n\nFinished:  1033\n\nFilename:  #frac{200}{649}x^2+414 #leq 639_52265.jpg\n\nFinished:  1034\n\nFilename:  #frac{510}{887}#beta^4+996 #geq 1457_56211.jpg\n"
        },
        {
          "name": "stderr",
          "output_type": "stream",
          "text": "Lossy conversion from float64 to uint8. Range [0, 1]. Convert image to uint8 prior to saving to suppress this warning.\n\nLossy conversion from float64 to uint8. Range [0, 1]. Convert image to uint8 prior to saving to suppress this warning.\n\nLossy conversion from float64 to uint8. Range [0, 1]. Convert image to uint8 prior to saving to suppress this warning.\n\nLossy conversion from float64 to uint8. Range [0, 1]. Convert image to uint8 prior to saving to suppress this warning.\n"
        },
        {
          "name": "stdout",
          "output_type": "stream",
          "text": "Finished:  1035\n\nFilename:  #frac{834}{588}-488 = 346_5768.jpg\n\nFinished:  1036\n\nFilename:  #frac{171}{486}#alpha^3+914 #geq 991_39662.jpg\n\nFinished:  1037\n\nFilename:  #frac{113}{799}y^3+969 #neq 1107_6891.jpg\n\nFinished:  1038\n\nFilename:  #frac{325}{787}#beta^2-71 #leq 311_72643.jpg\n"
        },
        {
          "name": "stderr",
          "output_type": "stream",
          "text": "Lossy conversion from float64 to uint8. Range [0, 1]. Convert image to uint8 prior to saving to suppress this warning.\n\nLossy conversion from float64 to uint8. Range [0, 1]. Convert image to uint8 prior to saving to suppress this warning.\n\nLossy conversion from float64 to uint8. Range [0, 1]. Convert image to uint8 prior to saving to suppress this warning.\n"
        },
        {
          "name": "stdout",
          "output_type": "stream",
          "text": "Finished:  1039\n\nFilename:  #frac{187}{861}#beta^4-296 #geq -143_45238.jpg\n\nFinished:  1040\n\nFilename:  #frac{807}{68}#alpha^3-711 #geq 39_2249.jpg\n\nFinished:  1041\n"
        },
        {
          "name": "stderr",
          "output_type": "stream",
          "text": "Lossy conversion from float64 to uint8. Range [0, 1]. Convert image to uint8 prior to saving to suppress this warning.\n\nLossy conversion from float64 to uint8. Range [0, 1]. Convert image to uint8 prior to saving to suppress this warning.\n\nLossy conversion from float64 to uint8. Range [0, 1]. Convert image to uint8 prior to saving to suppress this warning.\n"
        },
        {
          "name": "stdout",
          "output_type": "stream",
          "text": "Filename:  #frac{673}{678}-360 = 313_24099.jpg\n\nFinished:  1042\n\nFilename:  #frac{443}{188}-972 = -529_34410.jpg\n\nFinished:  1043\n\nFilename:  #frac{787}{539}y^4+779 #geq 1544_37779.jpg\n\nFinished:  1044\n\nFilename:  #frac{204}{615}y^2+120 #neq 400_9160.jpg\n"
        },
        {
          "name": "stderr",
          "output_type": "stream",
          "text": "Lossy conversion from float64 to uint8. Range [0, 1]. Convert image to uint8 prior to saving to suppress this warning.\n\nLossy conversion from float64 to uint8. Range [0, 1]. Convert image to uint8 prior to saving to suppress this warning.\n\nLossy conversion from float64 to uint8. Range [0, 1]. Convert image to uint8 prior to saving to suppress this warning.\n\nLossy conversion from float64 to uint8. Range [0, 1]. Convert image to uint8 prior to saving to suppress this warning.\n"
        },
        {
          "name": "stdout",
          "output_type": "stream",
          "text": "Finished:  1045\n\nFilename:  #frac{334}{675}#beta^4-174 #neq 242_95765.jpg\n\nFinished:  1046\n\nFilename:  #frac{532}{599}x^4+95 #geq 602_94116.jpg\n\nFinished:  1047\n\nFilename:  #frac{890}{374}#alpha^3+368 #geq 1191_59791.jpg\n"
        },
        {
          "name": "stderr",
          "output_type": "stream",
          "text": "Lossy conversion from float64 to uint8. Range [0, 1]. Convert image to uint8 prior to saving to suppress this warning.\n\nLossy conversion from float64 to uint8. Range [0, 1]. Convert image to uint8 prior to saving to suppress this warning.\n\nLossy conversion from float64 to uint8. Range [-1.1145768404080003e-16, 1.0]. Convert image to uint8 prior to saving to suppress this warning.\n"
        },
        {
          "name": "stdout",
          "output_type": "stream",
          "text": "Finished:  1048\n\nFilename:  #frac{687}{595}y^3+198 #leq 885_88722.jpg\n\nFinished:  1049\n\nFilename:  #frac{155}{834}-305 = -150_90754.jpg\n\nFinished:  1050\n\nFilename:  #frac{494}{959}#alpha^3-674 #leq -135_15235.jpg\n"
        },
        {
          "name": "stderr",
          "output_type": "stream",
          "text": "Lossy conversion from float64 to uint8. Range [-0.9919813379897413, 1.0]. Convert image to uint8 prior to saving to suppress this warning.\n\nLossy conversion from float64 to uint8. Range [0, 1]. Convert image to uint8 prior to saving to suppress this warning.\n\nLossy conversion from float64 to uint8. Range [0, 1]. Convert image to uint8 prior to saving to suppress this warning.\n"
        },
        {
          "name": "stdout",
          "output_type": "stream",
          "text": "Finished:  1051\n\nFilename:  #frac{340}{475}x^2-927 #neq -548_24430.jpg\n\nFinished:  1052\n\nFilename:  #frac{148}{320}#beta^2+227 #leq 441_28727.jpg\n\nFinished:  1053\n\nFilename:  #frac{936}{558}#beta^3-658 #leq 369_63402.jpg\n\nFinished:  1054\n\nFilename:  #frac{1}{268}#alpha^4+615 #geq 570_36106.jpg\n"
        },
        {
          "name": "stderr",
          "output_type": "stream",
          "text": "Lossy conversion from float64 to uint8. Range [0, 1]. Convert image to uint8 prior to saving to suppress this warning.\n\nLossy conversion from float64 to uint8. Range [0, 1]. Convert image to uint8 prior to saving to suppress this warning.\n\nLossy conversion from float64 to uint8. Range [-0.5790133139410932, 1.0]. Convert image to uint8 prior to saving to suppress this warning.\n\nLossy conversion from float64 to uint8. Range [0, 1]. Convert image to uint8 prior to saving to suppress this warning.\n"
        },
        {
          "name": "stdout",
          "output_type": "stream",
          "text": "Finished:  1055\n\nFilename:  #frac{988}{167}x^4-872 #leq 147_28692.jpg\n\nFinished:  1056\n\nFilename:  #frac{855}{7}+611 = 1466_46580.jpg\n\nFinished:  1057\n\nFilename:  #frac{901}{649}#beta^4-872 #leq 79_79470.jpg\n"
        },
        {
          "name": "stderr",
          "output_type": "stream",
          "text": "Lossy conversion from float64 to uint8. Range [0, 1]. Convert image to uint8 prior to saving to suppress this warning.\n\nLossy conversion from float64 to uint8. Range [0, 1]. Convert image to uint8 prior to saving to suppress this warning.\n\nLossy conversion from float64 to uint8. Range [0, 1]. Convert image to uint8 prior to saving to suppress this warning.\n"
        },
        {
          "name": "stdout",
          "output_type": "stream",
          "text": "Finished:  1058\n\nFilename:  #frac{110}{417}x^3-858 #leq -702_78495.jpg\n\nFinished:  1059\n\nFilename:  #frac{516}{707}x^4+330 #geq 841_36201.jpg\n\nFinished:  1060\n\nFilename:  #frac{949}{766}y^4-234 #leq 737_92579.jpg\n"
        },
        {
          "name": "stderr",
          "output_type": "stream",
          "text": "Lossy conversion from float64 to uint8. Range [0, 1]. Convert image to uint8 prior to saving to suppress this warning.\n\nLossy conversion from float64 to uint8. Range [0, 1]. Convert image to uint8 prior to saving to suppress this warning.\n\nLossy conversion from float64 to uint8. Range [0, 1]. Convert image to uint8 prior to saving to suppress this warning.\n"
        },
        {
          "name": "stdout",
          "output_type": "stream",
          "text": "Finished:  1061\n\nFilename:  #frac{741}{357}x^2-971 #leq -202_13536.jpg\n\nFinished:  1062\n\nFilename:  #frac{721}{94}#alpha^2-621 #leq 184_13022.jpg\n\nFinished:  1063\n\nFilename:  #frac{19}{270}y^2-260 #geq -267_11787.jpg\n"
        },
        {
          "name": "stderr",
          "output_type": "stream",
          "text": "Lossy conversion from float64 to uint8. Range [0, 1]. Convert image to uint8 prior to saving to suppress this warning.\n\nLossy conversion from float64 to uint8. Range [0, 1]. Convert image to uint8 prior to saving to suppress this warning.\n"
        },
        {
          "name": "stdout",
          "output_type": "stream",
          "text": "Finished:  1064\n\nFilename:  #frac{453}{504}+501 = 954_70392.jpg\n\nFinished:  1065\n\nFilename:  #frac{655}{443}x^4+932 #leq 1613_62145.jpg\n\nFinished:  1066\n\nFilename:  #frac{647}{525}y^3+104 #leq 803_66154.jpg\n"
        },
        {
          "name": "stderr",
          "output_type": "stream",
          "text": "Lossy conversion from float64 to uint8. Range [0, 1]. Convert image to uint8 prior to saving to suppress this warning.\n\nLossy conversion from float64 to uint8. Range [0, 1]. Convert image to uint8 prior to saving to suppress this warning.\n\nLossy conversion from float64 to uint8. Range [0, 1]. Convert image to uint8 prior to saving to suppress this warning.\n\nLossy conversion from float64 to uint8. Range [0, 1]. Convert image to uint8 prior to saving to suppress this warning.\n"
        },
        {
          "name": "stdout",
          "output_type": "stream",
          "text": "Finished:  1067\n\nFilename:  #frac{915}{527}x^2+448 #neq 1422_52836.jpg\n\nFinished:  1068\n\nFilename:  #frac{356}{910}+859 = 1215_42814.jpg\n\nFinished:  1069\n\nFilename:  #frac{402}{355}x^2+559 #neq 1046_12764.jpg\n"
        },
        {
          "name": "stderr",
          "output_type": "stream",
          "text": "Lossy conversion from float64 to uint8. Range [0, 1]. Convert image to uint8 prior to saving to suppress this warning.\n\nLossy conversion from float64 to uint8. Range [0, 1]. Convert image to uint8 prior to saving to suppress this warning.\n\nLossy conversion from float64 to uint8. Range [0, 1]. Convert image to uint8 prior to saving to suppress this warning.\n"
        },
        {
          "name": "stdout",
          "output_type": "stream",
          "text": "Finished:  1070\n\nFilename:  #frac{494}{514}#beta^2+56 #leq 588_43024.jpg\n\nFinished:  1071\n\nFilename:  #frac{476}{784}+753 = 1229_74462.jpg\n\nFinished:  1072\n\nFilename:  #frac{724}{339}x^2-617 #neq 165_95375.jpg\n\nFinished:  1073\n\nFilename:  #frac{248}{747}#beta^4-54 #neq 262_92801.jpg\n"
        },
        {
          "name": "stderr",
          "output_type": "stream",
          "text": "Lossy conversion from float64 to uint8. Range [-0.8226583316253332, 1.0]. Convert image to uint8 prior to saving to suppress this warning.\n\nLossy conversion from float64 to uint8. Range [0, 1]. Convert image to uint8 prior to saving to suppress this warning.\n\nLossy conversion from float64 to uint8. Range [0, 1]. Convert image to uint8 prior to saving to suppress this warning.\n\nLossy conversion from float64 to uint8. Range [0, 1]. Convert image to uint8 prior to saving to suppress this warning.\n"
        },
        {
          "name": "stdout",
          "output_type": "stream",
          "text": "Finished:  1074\n\nFilename:  #frac{851}{781}y^2-90 #neq 849_68468.jpg\n\nFinished:  1075\n\nFilename:  #frac{919}{586}+867 = 1786_11583.jpg\n\nFinished:  1076\n\nFilename:  #frac{860}{153}x^2+219 #leq 1161_32478.jpg\n\nFinished:  1077\n\nFilename:  #frac{827}{219}x^3+840 #neq 1742_97732.jpg\n"
        },
        {
          "name": "stderr",
          "output_type": "stream",
          "text": "Lossy conversion from float64 to uint8. Range [0, 1]. Convert image to uint8 prior to saving to suppress this warning.\n\nLossy conversion from float64 to uint8. Range [0, 1]. Convert image to uint8 prior to saving to suppress this warning.\n\nLossy conversion from float64 to uint8. Range [0, 1]. Convert image to uint8 prior to saving to suppress this warning.\n\nLossy conversion from float64 to uint8. Range [0, 1]. Convert image to uint8 prior to saving to suppress this warning.\n\nLossy conversion from float64 to uint8. Range [0, 1]. Convert image to uint8 prior to saving to suppress this warning.\n"
        },
        {
          "name": "stdout",
          "output_type": "stream",
          "text": "Finished:  1078\n\nFilename:  #frac{691}{850}-275 = 416_79763.jpg\n\nFinished:  1079\n\nFilename:  #frac{439}{634}#alpha^2-312 #neq 170_42813.jpg\n\nFinished:  1080\n\nFilename:  #frac{961}{692}x^4+732 #leq 1723_87372.jpg\n\nFinished:  1081\n\nFilename:  #frac{624}{924}#beta^4-692 #neq 16_17618.jpg\n"
        },
        {
          "name": "stderr",
          "output_type": "stream",
          "text": "Lossy conversion from float64 to uint8. Range [0, 1]. Convert image to uint8 prior to saving to suppress this warning.\n\nLossy conversion from float64 to uint8. Range [0, 1]. Convert image to uint8 prior to saving to suppress this warning.\n\nLossy conversion from float64 to uint8. Range [0, 1]. Convert image to uint8 prior to saving to suppress this warning.\n"
        },
        {
          "name": "stdout",
          "output_type": "stream",
          "text": "Finished:  1082\n\nFilename:  #frac{418}{581}y^4+117 #neq 580_97725.jpg\n\nFinished:  1083\n\nFilename:  #frac{105}{960}#alpha^2-189 #geq -107_29331.jpg\n\nFinished:  1084\n\nFilename:  #frac{636}{290}-565 = 71_80316.jpg\n"
        },
        {
          "name": "stderr",
          "output_type": "stream",
          "text": "Lossy conversion from float64 to uint8. Range [0, 1]. Convert image to uint8 prior to saving to suppress this warning.\n\nLossy conversion from float64 to uint8. Range [0, 1]. Convert image to uint8 prior to saving to suppress this warning.\n\nLossy conversion from float64 to uint8. Range [0, 1]. Convert image to uint8 prior to saving to suppress this warning.\n"
        },
        {
          "name": "stdout",
          "output_type": "stream",
          "text": "Finished:  1085\n\nFilename:  #frac{995}{308}#alpha^4+746 #geq 1656_13311.jpg\n\nFinished:  1086\n\nFilename:  #frac{524}{912}#beta^4-632 #neq -31_70683.jpg\n\nFinished:  1087\n\nFilename:  #frac{746}{126}#alpha^4+615 #neq 1406_55341.jpg\n"
        },
        {
          "name": "stderr",
          "output_type": "stream",
          "text": "Lossy conversion from float64 to uint8. Range [-0.004147812971342211, 1.0]. Convert image to uint8 prior to saving to suppress this warning.\n\nLossy conversion from float64 to uint8. Range [0, 1]. Convert image to uint8 prior to saving to suppress this warning.\n"
        },
        {
          "name": "stdout",
          "output_type": "stream",
          "text": "Finished:  1088\n\nFilename:  #frac{54}{856}+442 = 496_81461.jpg\n\nFinished:  1089\n\nFilename:  #frac{461}{213}#alpha^2+134 #geq 523_71914.jpg\n\nFinished:  1090\n\nFilename:  #frac{702}{415}#alpha^2-757 #neq -17_82442.jpg\n"
        },
        {
          "name": "stderr",
          "output_type": "stream",
          "text": "Lossy conversion from float64 to uint8. Range [0, 1]. Convert image to uint8 prior to saving to suppress this warning.\n\nLossy conversion from float64 to uint8. Range [0, 1]. Convert image to uint8 prior to saving to suppress this warning.\n"
        },
        {
          "name": "stdout",
          "output_type": "stream",
          "text": "Finished:  1091\n\nFilename:  #frac{929}{667}#beta^2+226 #leq 1250_63824.jpg\n\nFinished:  1092\n\nFilename:  #frac{938}{971}#alpha^4-637 #neq 347_54413.jpg\n"
        },
        {
          "name": "stderr",
          "output_type": "stream",
          "text": "Lossy conversion from float64 to uint8. Range [0, 1]. Convert image to uint8 prior to saving to suppress this warning.\n\nLossy conversion from float64 to uint8. Range [0, 1]. Convert image to uint8 prior to saving to suppress this warning.\n\nLossy conversion from float64 to uint8. Range [0, 1]. Convert image to uint8 prior to saving to suppress this warning.\n"
        },
        {
          "name": "stdout",
          "output_type": "stream",
          "text": "Finished:  1093\n\nFilename:  #frac{620}{514}-500 = 120_8001.jpg\n\nFinished:  1094\n\nFilename:  #frac{230}{903}#beta^3+360 #neq 650_60822.jpg\n\nFinished:  1095\n\nFilename:  #frac{704}{773}y^3-107 #neq 656_46332.jpg\n"
        },
        {
          "name": "stderr",
          "output_type": "stream",
          "text": "Lossy conversion from float64 to uint8. Range [-0.46590909090908983, 1.0]. Convert image to uint8 prior to saving to suppress this warning.\n\nLossy conversion from float64 to uint8. Range [0, 1]. Convert image to uint8 prior to saving to suppress this warning.\n\nLossy conversion from float64 to uint8. Range [0, 1]. Convert image to uint8 prior to saving to suppress this warning.\n\nLossy conversion from float64 to uint8. Range [0, 1]. Convert image to uint8 prior to saving to suppress this warning.\n"
        },
        {
          "name": "stdout",
          "output_type": "stream",
          "text": "Finished:  1096\n\nFilename:  #frac{61}{889}#alpha^2+280 #geq 325_51438.jpg\n\nFinished:  1097\n\nFilename:  #frac{172}{602}y^3-37 #neq 143_49937.jpg\n\nFinished:  1098\n\nFilename:  #frac{977}{259}x^4-417 #neq 584_36392.jpg\n\nFinished:  1099\n\nFilename:  #frac{917}{949}+556 = 1473_55807.jpg\n"
        },
        {
          "name": "stderr",
          "output_type": "stream",
          "text": "Lossy conversion from float64 to uint8. Range [0, 1]. Convert image to uint8 prior to saving to suppress this warning.\n\nLossy conversion from float64 to uint8. Range [0, 1]. Convert image to uint8 prior to saving to suppress this warning.\n\nLossy conversion from float64 to uint8. Range [0, 1]. Convert image to uint8 prior to saving to suppress this warning.\n\nLossy conversion from float64 to uint8. Range [-0.008363970588235294, 1.0]. Convert image to uint8 prior to saving to suppress this warning.\n"
        },
        {
          "name": "stdout",
          "output_type": "stream",
          "text": "Finished:  1100\n\nFilename:  #frac{234}{911}y^3+139 #leq 389_26968.jpg\n\nFinished:  1101\n\nFilename:  #frac{347}{354}-420 = -73_80847.jpg\n\nFinished:  1102\n\nFilename:  #frac{794}{932}#alpha^3+729 #neq 1616_42252.jpg\n"
        },
        {
          "name": "stderr",
          "output_type": "stream",
          "text": "Lossy conversion from float64 to uint8. Range [0, 1]. Convert image to uint8 prior to saving to suppress this warning.\n\nLossy conversion from float64 to uint8. Range [0, 1]. Convert image to uint8 prior to saving to suppress this warning.\n"
        },
        {
          "name": "stdout",
          "output_type": "stream",
          "text": "Finished:  1103\n\nFilename:  #frac{653}{849}y^2+568 #geq 1153_44059.jpg\n\nFinished:  1104\n\nFilename:  #frac{113}{924}x^3+576 #neq 690_1925.jpg\n\nFinished:  1105\n\nFilename:  #frac{220}{713}#alpha^4-731 #neq -494_98932.jpg\n"
        },
        {
          "name": "stderr",
          "output_type": "stream",
          "text": "Lossy conversion from float64 to uint8. Range [0, 1]. Convert image to uint8 prior to saving to suppress this warning.\n\nLossy conversion from float64 to uint8. Range [0, 1]. Convert image to uint8 prior to saving to suppress this warning.\n\nLossy conversion from float64 to uint8. Range [0, 1]. Convert image to uint8 prior to saving to suppress this warning.\n\nLossy conversion from float64 to uint8. Range [0, 1]. Convert image to uint8 prior to saving to suppress this warning.\n"
        },
        {
          "name": "stdout",
          "output_type": "stream",
          "text": "Finished:  1106\n\nFilename:  #frac{473}{85}-450 = 23_78528.jpg\n\nFinished:  1107\n\nFilename:  #frac{246}{353}#beta^2-313 #neq 7_91968.jpg\n\nFinished:  1108\n\nFilename:  #frac{680}{794}+689 = 1369_83194.jpg\n\nFinished:  1109\n\nFilename:  #frac{629}{240}x^4-194 #geq 424_24023.jpg\n"
        },
        {
          "name": "stderr",
          "output_type": "stream",
          "text": "Lossy conversion from float64 to uint8. Range [0, 1]. Convert image to uint8 prior to saving to suppress this warning.\n\nLossy conversion from float64 to uint8. Range [0, 1]. Convert image to uint8 prior to saving to suppress this warning.\n\nLossy conversion from float64 to uint8. Range [0, 1]. Convert image to uint8 prior to saving to suppress this warning.\n"
        },
        {
          "name": "stdout",
          "output_type": "stream",
          "text": "Finished:  1110\n\nFilename:  #frac{47}{771}+936 = 983_88017.jpg\n\nFinished:  1111\n\nFilename:  #frac{250}{110}y^3+120 #geq 357_32018.jpg\n\nFinished:  1112\n\nFilename:  #frac{969}{838}#beta^3+557 #geq 1464_66650.jpg\n"
        },
        {
          "name": "stderr",
          "output_type": "stream",
          "text": "Lossy conversion from float64 to uint8. Range [0, 1]. Convert image to uint8 prior to saving to suppress this warning.\n"
        },
        {
          "name": "stdout",
          "output_type": "stream",
          "text": "Finished:  1113\n\nFilename:  #frac{135}{537}#beta^4+808 #leq 1033_89048.jpg\n"
        },
        {
          "name": "stderr",
          "output_type": "stream",
          "text": "Lossy conversion from float64 to uint8. Range [0, 1]. Convert image to uint8 prior to saving to suppress this warning.\n\nLossy conversion from float64 to uint8. Range [0, 1]. Convert image to uint8 prior to saving to suppress this warning.\n"
        },
        {
          "name": "stdout",
          "output_type": "stream",
          "text": "Finished:  1114\n\nFilename:  #frac{363}{234}y^2-305 #leq 134_407.jpg\n\nFinished:  1115\n\nFilename:  #frac{54}{215}-111 = -57_80119.jpg\n"
        },
        {
          "name": "stderr",
          "output_type": "stream",
          "text": "Lossy conversion from float64 to uint8. Range [0, 1]. Convert image to uint8 prior to saving to suppress this warning.\n\nLossy conversion from float64 to uint8. Range [0, 1]. Convert image to uint8 prior to saving to suppress this warning.\n\nLossy conversion from float64 to uint8. Range [0, 1]. Convert image to uint8 prior to saving to suppress this warning.\n\nLossy conversion from float64 to uint8. Range [0, 1]. Convert image to uint8 prior to saving to suppress this warning.\n"
        },
        {
          "name": "stdout",
          "output_type": "stream",
          "text": "Finished:  1116\n\nFilename:  #frac{242}{392}#beta^4+667 #geq 889_11288.jpg\n\nFinished:  1117\n\nFilename:  #frac{578}{679}x^3+503 #leq 1113_46958.jpg\n\nFinished:  1118\n\nFilename:  #frac{889}{857}#beta^4+671 #neq 1587_39321.jpg\n\nFinished:  1119\n"
        },
        {
          "name": "stderr",
          "output_type": "stream",
          "text": "Lossy conversion from float64 to uint8. Range [0, 1]. Convert image to uint8 prior to saving to suppress this warning.\n\nLossy conversion from float64 to uint8. Range [0, 1]. Convert image to uint8 prior to saving to suppress this warning.\n\nLossy conversion from float64 to uint8. Range [0, 1]. Convert image to uint8 prior to saving to suppress this warning.\n"
        },
        {
          "name": "stdout",
          "output_type": "stream",
          "text": "Filename:  #frac{711}{425}y^4+759 #geq 1431_94724.jpg\n\nFinished:  1120\n\nFilename:  #frac{940}{372}x^2-690 #leq 300_90376.jpg\n\nFinished:  1121\n\nFilename:  #frac{407}{951}#alpha^3+781 #neq 1225_14548.jpg\n\nFinished:  1122\n\nFilename:  #frac{907}{921}y^3+833 #geq 1703_68087.jpg\n"
        },
        {
          "name": "stderr",
          "output_type": "stream",
          "text": "Lossy conversion from float64 to uint8. Range [0, 1]. Convert image to uint8 prior to saving to suppress this warning.\n\nLossy conversion from float64 to uint8. Range [0, 1]. Convert image to uint8 prior to saving to suppress this warning.\n\nLossy conversion from float64 to uint8. Range [0, 1]. Convert image to uint8 prior to saving to suppress this warning.\n"
        },
        {
          "name": "stdout",
          "output_type": "stream",
          "text": "Finished:  1123\n\nFilename:  #frac{322}{453}x^2+535 #leq 915_45712.jpg\n\nFinished:  1124\n\nFilename:  #frac{781}{412}#beta^3-69 #neq 740_78558.jpg\n\nFinished:  1125\n\nFilename:  #frac{587}{176}+456 = 1043_86478.jpg\n"
        },
        {
          "name": "stderr",
          "output_type": "stream",
          "text": "Lossy conversion from float64 to uint8. Range [0, 1]. Convert image to uint8 prior to saving to suppress this warning.\n\nLossy conversion from float64 to uint8. Range [0, 1]. Convert image to uint8 prior to saving to suppress this warning.\n"
        },
        {
          "name": "stdout",
          "output_type": "stream",
          "text": "Finished:  1126\n\nFilename:  #frac{387}{308}x^4-334 #geq 20_31937.jpg\n\nFinished:  1127\n\nFilename:  #frac{26}{756}x^4+202 #neq 269_74285.jpg\n"
        },
        {
          "name": "stderr",
          "output_type": "stream",
          "text": "Lossy conversion from float64 to uint8. Range [0, 1]. Convert image to uint8 prior to saving to suppress this warning.\n"
        },
        {
          "name": "stdout",
          "output_type": "stream",
          "text": "Finished:  1128\n\nFilename:  #frac{989}{610}y^4+838 #geq 1755_61720.jpg\n"
        },
        {
          "name": "stderr",
          "output_type": "stream",
          "text": "Lossy conversion from float64 to uint8. Range [0, 1]. Convert image to uint8 prior to saving to suppress this warning.\n\nLossy conversion from float64 to uint8. Range [0, 1]. Convert image to uint8 prior to saving to suppress this warning.\n"
        },
        {
          "name": "stdout",
          "output_type": "stream",
          "text": "Finished:  1129\n\nFilename:  #frac{515}{757}x^4-934 #leq -322_42331.jpg\n"
        },
        {
          "name": "stderr",
          "output_type": "stream",
          "text": "Lossy conversion from float64 to uint8. Range [0, 1]. Convert image to uint8 prior to saving to suppress this warning.\n\nLossy conversion from float64 to uint8. Range [0, 1]. Convert image to uint8 prior to saving to suppress this warning.\n"
        },
        {
          "name": "stdout",
          "output_type": "stream",
          "text": "Finished:  1130\n\nFilename:  #frac{623}{766}+227 = 850_2653.jpg\n\nFinished:  1131\n\nFilename:  #frac{73}{422}+859 = 932_16634.jpg\n\nFinished:  1132\n\nFilename:  #frac{388}{369}#alpha^3-242 #neq 190_39269.jpg\n"
        },
        {
          "name": "stderr",
          "output_type": "stream",
          "text": "Lossy conversion from float64 to uint8. Range [0, 1]. Convert image to uint8 prior to saving to suppress this warning.\n\nLossy conversion from float64 to uint8. Range [0, 1]. Convert image to uint8 prior to saving to suppress this warning.\n\nLossy conversion from float64 to uint8. Range [0, 1]. Convert image to uint8 prior to saving to suppress this warning.\n"
        },
        {
          "name": "stdout",
          "output_type": "stream",
          "text": "Finished:  1133\n\nFilename:  #frac{12}{199}-349 = -337_98056.jpg\n\nFinished:  1134\n\nFilename:  #frac{529}{169}y^2+443 #leq 1038_38154.jpg\n\nFinished:  1135\n\nFilename:  #frac{397}{335}#alpha^2+688 #geq 990_41205.jpg\n"
        },
        {
          "name": "stderr",
          "output_type": "stream",
          "text": "Lossy conversion from float64 to uint8. Range [0, 1]. Convert image to uint8 prior to saving to suppress this warning.\n\nLossy conversion from float64 to uint8. Range [0, 1]. Convert image to uint8 prior to saving to suppress this warning.\n\nLossy conversion from float64 to uint8. Range [0, 1]. Convert image to uint8 prior to saving to suppress this warning.\n\nLossy conversion from float64 to uint8. Range [0, 1]. Convert image to uint8 prior to saving to suppress this warning.\n"
        },
        {
          "name": "stdout",
          "output_type": "stream",
          "text": "Finished:  1136\n\nFilename:  #frac{205}{348}#alpha^3-782 #leq -504_79062.jpg\n\nFinished:  1137\n\nFilename:  #frac{306}{17}#beta^3+850 #leq 1195_23970.jpg\n\nFinished:  1138\n\nFilename:  #frac{552}{791}#alpha^3-193 #leq 415_2727.jpg\n\nFinished:  1139\n\nFilename:  #frac{320}{50}x^3-478 #neq -78_19763.jpg\n"
        },
        {
          "name": "stderr",
          "output_type": "stream",
          "text": "Lossy conversion from float64 to uint8. Range [0, 1]. Convert image to uint8 prior to saving to suppress this warning.\n"
        },
        {
          "name": "stdout",
          "output_type": "stream",
          "text": "Finished:  1140\n\nFilename:  #frac{156}{231}-219 = -63_86132.jpg\n"
        },
        {
          "name": "stderr",
          "output_type": "stream",
          "text": "Lossy conversion from float64 to uint8. Range [0, 1]. Convert image to uint8 prior to saving to suppress this warning.\n\nLossy conversion from float64 to uint8. Range [0, 1]. Convert image to uint8 prior to saving to suppress this warning.\n"
        },
        {
          "name": "stdout",
          "output_type": "stream",
          "text": "Finished:  1141\n\nFilename:  #frac{619}{365}#alpha^3-79 #leq 540_54799.jpg\n\nFinished:  1142\n\nFilename:  #frac{16}{566}+879 = 895_63671.jpg\n"
        },
        {
          "name": "stderr",
          "output_type": "stream",
          "text": "Lossy conversion from float64 to uint8. Range [-0.43745543672014264, 1.0]. Convert image to uint8 prior to saving to suppress this warning.\n\nLossy conversion from float64 to uint8. Range [0, 1]. Convert image to uint8 prior to saving to suppress this warning.\n\nLossy conversion from float64 to uint8. Range [0, 1]. Convert image to uint8 prior to saving to suppress this warning.\n"
        },
        {
          "name": "stdout",
          "output_type": "stream",
          "text": "Finished:  1143\n\nFilename:  #frac{353}{899}#beta^3+289 #neq 730_65706.jpg\n\nFinished:  1144\n\nFilename:  #frac{736}{129}x^2+797 #geq 1506_53676.jpg\n\nFinished:  1145\n\nFilename:  #frac{396}{59}y^2-631 #geq -334_46473.jpg\n"
        },
        {
          "name": "stderr",
          "output_type": "stream",
          "text": "Lossy conversion from float64 to uint8. Range [0, 1]. Convert image to uint8 prior to saving to suppress this warning.\n\nLossy conversion from float64 to uint8. Range [0, 1]. Convert image to uint8 prior to saving to suppress this warning.\n\nLossy conversion from float64 to uint8. Range [0, 1]. Convert image to uint8 prior to saving to suppress this warning.\n\nLossy conversion from float64 to uint8. Range [0, 1]. Convert image to uint8 prior to saving to suppress this warning.\n"
        },
        {
          "name": "stdout",
          "output_type": "stream",
          "text": "Finished:  1146\n\nFilename:  #frac{489}{616}x^3-503 #geq -105_49702.jpg\n\nFinished:  1147\n\nFilename:  #frac{115}{651}#alpha^3-506 #leq -309_86035.jpg\n\nFinished:  1148\n\nFilename:  #frac{374}{915}-702 = -328_25974.jpg\n\nFinished:  1149\n\nFilename:  #frac{822}{938}y^3+647 #leq 1494_10440.jpg\n"
        },
        {
          "name": "stderr",
          "output_type": "stream",
          "text": "Lossy conversion from float64 to uint8. Range [-0.9980837789661319, 1.0]. Convert image to uint8 prior to saving to suppress this warning.\n\nLossy conversion from float64 to uint8. Range [0, 1]. Convert image to uint8 prior to saving to suppress this warning.\n\nLossy conversion from float64 to uint8. Range [0, 1]. Convert image to uint8 prior to saving to suppress this warning.\n"
        },
        {
          "name": "stdout",
          "output_type": "stream",
          "text": "Finished:  1150\n\nFilename:  #frac{130}{389}x^3-367 #leq -229_9000.jpg\n\nFinished:  1151\n\nFilename:  #frac{898}{793}y^3+767 #neq 1741_76966.jpg\n\nFinished:  1152\n\nFilename:  #frac{577}{717}-662 = -85_11903.jpg\n"
        },
        {
          "name": "stderr",
          "output_type": "stream",
          "text": "Lossy conversion from float64 to uint8. Range [0, 1]. Convert image to uint8 prior to saving to suppress this warning.\n\nLossy conversion from float64 to uint8. Range [0, 1]. Convert image to uint8 prior to saving to suppress this warning.\n\nLossy conversion from float64 to uint8. Range [0, 1]. Convert image to uint8 prior to saving to suppress this warning.\n"
        },
        {
          "name": "stdout",
          "output_type": "stream",
          "text": "Finished:  1153\n\nFilename:  #frac{737}{55}#beta^4+599 #leq 1414_41099.jpg\n\nFinished:  1154\n\nFilename:  #frac{409}{148}#beta^4+221 #neq 690_73895.jpg\n\nFinished:  1155\n\nFilename:  #frac{808}{201}#beta^4+394 #leq 1291_93054.jpg\n"
        },
        {
          "name": "stderr",
          "output_type": "stream",
          "text": "Lossy conversion from float64 to uint8. Range [0, 1]. Convert image to uint8 prior to saving to suppress this warning.\n\nLossy conversion from float64 to uint8. Range [0, 1]. Convert image to uint8 prior to saving to suppress this warning.\n"
        },
        {
          "name": "stdout",
          "output_type": "stream",
          "text": "Finished:  1156\n\nFilename:  #frac{76}{835}+895 = 971_275.jpg\n\nFinished:  1157\n\nFilename:  #frac{693}{195}#alpha^4-272 #leq 440_55150.jpg\n"
        },
        {
          "name": "stderr",
          "output_type": "stream",
          "text": "Lossy conversion from float64 to uint8. Range [0, 1]. Convert image to uint8 prior to saving to suppress this warning.\n"
        },
        {
          "name": "stdout",
          "output_type": "stream",
          "text": "Finished:  1158\n\nFilename:  #frac{366}{382}#alpha^3-778 #neq -385_11598.jpg\n"
        },
        {
          "name": "stderr",
          "output_type": "stream",
          "text": "Lossy conversion from float64 to uint8. Range [0, 1]. Convert image to uint8 prior to saving to suppress this warning.\n\nLossy conversion from float64 to uint8. Range [0, 1]. Convert image to uint8 prior to saving to suppress this warning.\n"
        },
        {
          "name": "stdout",
          "output_type": "stream",
          "text": "Finished:  1159\n\nFilename:  #frac{809}{626}x^3+31 #leq 847_32518.jpg\n\nFinished:  1160\n\nFilename:  #frac{810}{738}#beta^3+313 #leq 1177_24684.jpg\n"
        },
        {
          "name": "stderr",
          "output_type": "stream",
          "text": "Lossy conversion from float64 to uint8. Range [0, 1]. Convert image to uint8 prior to saving to suppress this warning.\n\nLossy conversion from float64 to uint8. Range [0, 1]. Convert image to uint8 prior to saving to suppress this warning.\n\nLossy conversion from float64 to uint8. Range [0, 1]. Convert image to uint8 prior to saving to suppress this warning.\n\nLossy conversion from float64 to uint8. Range [0, 1]. Convert image to uint8 prior to saving to suppress this warning.\n"
        },
        {
          "name": "stdout",
          "output_type": "stream",
          "text": "Finished:  1161\n\nFilename:  #frac{248}{760}x^4+611 #leq 913_68063.jpg\n\nFinished:  1162\n\nFilename:  #frac{184}{14}+506 = 690_84197.jpg\n\nFinished:  1163\n\nFilename:  #frac{83}{469}x^4+155 #neq 268_51913.jpg\n"
        },
        {
          "name": "stderr",
          "output_type": "stream",
          "text": "Lossy conversion from float64 to uint8. Range [0, 1]. Convert image to uint8 prior to saving to suppress this warning.\n\nLossy conversion from float64 to uint8. Range [0, 1]. Convert image to uint8 prior to saving to suppress this warning.\n"
        },
        {
          "name": "stdout",
          "output_type": "stream",
          "text": "Finished:  1164\n\nFilename:  #frac{591}{130}#alpha^3-588 #geq -5_47088.jpg\n\nFinished:  1165\n\nFilename:  #frac{454}{768}#alpha^2+463 #geq 917_87591.jpg\n\nFinished:  1166\n\nFilename:  #frac{656}{217}#alpha^3-348 #geq 215_95879.jpg\n"
        },
        {
          "name": "stderr",
          "output_type": "stream",
          "text": "Lossy conversion from float64 to uint8. Range [0, 1]. Convert image to uint8 prior to saving to suppress this warning.\n\nLossy conversion from float64 to uint8. Range [0, 1]. Convert image to uint8 prior to saving to suppress this warning.\n\nLossy conversion from float64 to uint8. Range [0, 1]. Convert image to uint8 prior to saving to suppress this warning.\n"
        },
        {
          "name": "stdout",
          "output_type": "stream",
          "text": "Finished:  1167\n\nFilename:  #frac{323}{607}#beta^4-100 #leq 267_90453.jpg\n\nFinished:  1168\n\nFilename:  #frac{95}{377}#alpha^2+685 #leq 856_7241.jpg\n"
        },
        {
          "name": "stderr",
          "output_type": "stream",
          "text": "Lossy conversion from float64 to uint8. Range [0, 1]. Convert image to uint8 prior to saving to suppress this warning.\n"
        },
        {
          "name": "stdout",
          "output_type": "stream",
          "text": "Finished:  1169\n\nFilename:  #frac{959}{728}#alpha^3+804 #neq 1822_93591.jpg\n\nFinished:  1170\n\nFilename:  #frac{351}{5}x^3-734 #neq -359_8996.jpg\n"
        },
        {
          "name": "stderr",
          "output_type": "stream",
          "text": "Lossy conversion from float64 to uint8. Range [0, 1]. Convert image to uint8 prior to saving to suppress this warning.\n\nLossy conversion from float64 to uint8. Range [0, 1]. Convert image to uint8 prior to saving to suppress this warning.\n"
        },
        {
          "name": "stdout",
          "output_type": "stream",
          "text": "Finished:  1171\n\nFilename:  #frac{227}{879}+356 = 583_21598.jpg\n\nFinished:  1172\n\nFilename:  #frac{367}{658}#beta^2-201 #geq 107_24778.jpg\n"
        },
        {
          "name": "stderr",
          "output_type": "stream",
          "text": "Lossy conversion from float64 to uint8. Range [-0.002170868347338888, 1.0]. Convert image to uint8 prior to saving to suppress this warning.\n\nLossy conversion from float64 to uint8. Range [0, 1]. Convert image to uint8 prior to saving to suppress this warning.\n\nLossy conversion from float64 to uint8. Range [0, 1]. Convert image to uint8 prior to saving to suppress this warning.\n"
        },
        {
          "name": "stdout",
          "output_type": "stream",
          "text": "Finished:  1173\n\nFilename:  #frac{278}{782}-51 = 227_26313.jpg\n\nFinished:  1174\n\nFilename:  #frac{408}{520}#beta^2+576 #leq 991_6212.jpg\n\nFinished:  1175\n\nFilename:  #frac{235}{231}#alpha^2-328 #neq -50_59711.jpg\n"
        },
        {
          "name": "stderr",
          "output_type": "stream",
          "text": "Lossy conversion from float64 to uint8. Range [0, 1]. Convert image to uint8 prior to saving to suppress this warning.\n\nLossy conversion from float64 to uint8. Range [0, 1]. Convert image to uint8 prior to saving to suppress this warning.\n\nLossy conversion from float64 to uint8. Range [-0.8182072829131669, 1.0]. Convert image to uint8 prior to saving to suppress this warning.\n"
        },
        {
          "name": "stdout",
          "output_type": "stream",
          "text": "Finished:  1176\n\nFilename:  #frac{67}{324}x^2-182 #neq -88_26624.jpg\n\nFinished:  1177\n\nFilename:  #frac{436}{78}#alpha^3+736 #leq 1177_6419.jpg\n\nFinished:  1178\n\nFilename:  #frac{996}{136}x^4+54 #geq 994_20010.jpg\n"
        },
        {
          "name": "stderr",
          "output_type": "stream",
          "text": "Lossy conversion from float64 to uint8. Range [0, 1]. Convert image to uint8 prior to saving to suppress this warning.\n\nLossy conversion from float64 to uint8. Range [0, 1]. Convert image to uint8 prior to saving to suppress this warning.\n\nLossy conversion from float64 to uint8. Range [0, 1]. Convert image to uint8 prior to saving to suppress this warning.\n\nLossy conversion from float64 to uint8. Range [0, 1]. Convert image to uint8 prior to saving to suppress this warning.\n"
        },
        {
          "name": "stdout",
          "output_type": "stream",
          "text": "Finished:  1179\n\nFilename:  #frac{645}{323}x^4+808 #neq 1509_97658.jpg\n\nFinished:  1180\n\nFilename:  #frac{669}{302}#alpha^2-595 #neq 168_44377.jpg\n\nFinished:  1181\n\nFilename:  #frac{60}{878}-733 = -673_30205.jpg\n\nFinished:  1182\n\nFilename:  #frac{560}{941}+288 = 848_36422.jpg\n"
        },
        {
          "name": "stderr",
          "output_type": "stream",
          "text": "Lossy conversion from float64 to uint8. Range [0, 1]. Convert image to uint8 prior to saving to suppress this warning.\n\nLossy conversion from float64 to uint8. Range [0, 1]. Convert image to uint8 prior to saving to suppress this warning.\n\nLossy conversion from float64 to uint8. Range [0, 1]. Convert image to uint8 prior to saving to suppress this warning.\n"
        },
        {
          "name": "stdout",
          "output_type": "stream",
          "text": "Finished:  1183\n\nFilename:  #frac{185}{887}-338 = -153_90527.jpg\n\nFinished:  1184\n\nFilename:  #frac{178}{41}#beta^4-365 #geq -214_66570.jpg\n"
        },
        {
          "name": "stderr",
          "output_type": "stream",
          "text": "Lossy conversion from float64 to uint8. Range [0, 1]. Convert image to uint8 prior to saving to suppress this warning.\n"
        },
        {
          "name": "stdout",
          "output_type": "stream",
          "text": "Finished:  1185\n\nFilename:  #frac{43}{852}#alpha^4-750 #leq -666_60567.jpg\n\nFinished:  1186\n\nFilename:  #frac{575}{544}#alpha^3-407 #leq 175_59296.jpg\n"
        },
        {
          "name": "stderr",
          "output_type": "stream",
          "text": "Lossy conversion from float64 to uint8. Range [0, 1]. Convert image to uint8 prior to saving to suppress this warning.\n\nLossy conversion from float64 to uint8. Range [0, 1]. Convert image to uint8 prior to saving to suppress this warning.\n"
        },
        {
          "name": "stdout",
          "output_type": "stream",
          "text": "Finished:  1187\n\nFilename:  #frac{741}{262}#alpha^3+617 #leq 1368_82890.jpg\n\nFinished:  1188\n\nFilename:  #frac{99}{249}y^2+432 #geq 450_21812.jpg\n"
        },
        {
          "name": "stderr",
          "output_type": "stream",
          "text": "Lossy conversion from float64 to uint8. Range [0, 1]. Convert image to uint8 prior to saving to suppress this warning.\n\nLossy conversion from float64 to uint8. Range [0, 1]. Convert image to uint8 prior to saving to suppress this warning.\n\nLossy conversion from float64 to uint8. Range [0, 1]. Convert image to uint8 prior to saving to suppress this warning.\n"
        },
        {
          "name": "stdout",
          "output_type": "stream",
          "text": "Finished:  1189\n\nFilename:  #frac{166}{827}x^4+366 #leq 590_45713.jpg\n\nFinished:  1190\n\nFilename:  #frac{41}{995}#beta^4+136 #geq 139_59816.jpg\n\nFinished:  1191\n\nFilename:  #frac{512}{659}x^2-195 #geq 295_27861.jpg\n"
        },
        {
          "name": "stderr",
          "output_type": "stream",
          "text": "Lossy conversion from float64 to uint8. Range [0, 1]. Convert image to uint8 prior to saving to suppress this warning.\n\nLossy conversion from float64 to uint8. Range [0, 1]. Convert image to uint8 prior to saving to suppress this warning.\n\nLossy conversion from float64 to uint8. Range [0, 1]. Convert image to uint8 prior to saving to suppress this warning.\n\nLossy conversion from float64 to uint8. Range [0, 1]. Convert image to uint8 prior to saving to suppress this warning.\n"
        },
        {
          "name": "stdout",
          "output_type": "stream",
          "text": "Finished:  1192\n\nFilename:  #frac{634}{295}#beta^3+430 #neq 1139_26633.jpg\n\nFinished:  1193\n\nFilename:  #frac{697}{570}x^2+472 #geq 1086_61706.jpg\n\nFinished:  1194\n\nFilename:  #frac{84}{159}x^3-911 #geq -859_90317.jpg\n\nFinished:  1195\n\nFilename:  #frac{386}{911}y^4-573 #leq -148_53128.jpg\n"
        },
        {
          "name": "stderr",
          "output_type": "stream",
          "text": "Lossy conversion from float64 to uint8. Range [0, 1]. Convert image to uint8 prior to saving to suppress this warning.\n\nLossy conversion from float64 to uint8. Range [0, 1]. Convert image to uint8 prior to saving to suppress this warning.\n\nLossy conversion from float64 to uint8. Range [0, 1]. Convert image to uint8 prior to saving to suppress this warning.\n\nLossy conversion from float64 to uint8. Range [0, 1]. Convert image to uint8 prior to saving to suppress this warning.\n"
        },
        {
          "name": "stdout",
          "output_type": "stream",
          "text": "Finished:  1196\n\nFilename:  #frac{692}{481}x^3+66 #leq 792_59864.jpg\n\nFinished:  1197\n\nFilename:  #frac{896}{847}y^3+357 #neq 1303_7577.jpg\n\nFinished:  1198\n\nFilename:  #frac{601}{297}#beta^4-653 #leq 27_83523.jpg\n\nFinished:  1199\n\nFilename:  #frac{166}{322}x^2+603 #leq 783_80271.jpg\n"
        },
        {
          "name": "stderr",
          "output_type": "stream",
          "text": "Lossy conversion from float64 to uint8. Range [0, 1]. Convert image to uint8 prior to saving to suppress this warning.\n\nLossy conversion from float64 to uint8. Range [0, 1]. Convert image to uint8 prior to saving to suppress this warning.\n\nLossy conversion from float64 to uint8. Range [0, 1]. Convert image to uint8 prior to saving to suppress this warning.\n\nLossy conversion from float64 to uint8. Range [0, 1]. Convert image to uint8 prior to saving to suppress this warning.\n"
        },
        {
          "name": "stdout",
          "output_type": "stream",
          "text": "Finished:  1200\n\nFilename:  #frac{660}{18}x^4+70 #geq 656_4154.jpg\n\nFinished:  1201\n\nFilename:  #frac{584}{699}#beta^2-434 #leq 214_6014.jpg\n\nFinished:  1202\n\nFilename:  #frac{497}{224}y^2+959 #leq 1481_67767.jpg\n"
        },
        {
          "name": "stderr",
          "output_type": "stream",
          "text": "Lossy conversion from float64 to uint8. Range [0, 1]. Convert image to uint8 prior to saving to suppress this warning.\n\nLossy conversion from float64 to uint8. Range [0, 1]. Convert image to uint8 prior to saving to suppress this warning.\n\nLossy conversion from float64 to uint8. Range [0, 1]. Convert image to uint8 prior to saving to suppress this warning.\n"
        },
        {
          "name": "stdout",
          "output_type": "stream",
          "text": "Finished:  1203\n\nFilename:  #frac{464}{679}-550 = -86_59830.jpg\n\nFinished:  1204\n\nFilename:  #frac{967}{885}y^3-290 #leq 766_76404.jpg\n\nFinished:  1205\n\nFilename:  #frac{8}{273}#beta^4+240 #neq 312_49844.jpg\n"
        },
        {
          "name": "stderr",
          "output_type": "stream",
          "text": "Lossy conversion from float64 to uint8. Range [0, 1]. Convert image to uint8 prior to saving to suppress this warning.\n\nLossy conversion from float64 to uint8. Range [0, 1]. Convert image to uint8 prior to saving to suppress this warning.\n\nLossy conversion from float64 to uint8. Range [0, 1]. Convert image to uint8 prior to saving to suppress this warning.\n"
        },
        {
          "name": "stdout",
          "output_type": "stream",
          "text": "Finished:  1206\n\nFilename:  #frac{845}{134}+26 = 871_77617.jpg\n\nFinished:  1207\n\nFilename:  #frac{684}{714}y^3+804 #neq 1535_61521.jpg\n\nFinished:  1208\n\nFilename:  #frac{85}{210}#beta^3+753 #leq 850_92717.jpg\n\nFinished:  1209\n\nFilename:  #frac{787}{498}y^2-134 #leq 674_73706.jpg\n"
        },
        {
          "name": "stderr",
          "output_type": "stream",
          "text": "Lossy conversion from float64 to uint8. Range [0, 1]. Convert image to uint8 prior to saving to suppress this warning.\n\nLossy conversion from float64 to uint8. Range [0, 1]. Convert image to uint8 prior to saving to suppress this warning.\n\nLossy conversion from float64 to uint8. Range [0, 1]. Convert image to uint8 prior to saving to suppress this warning.\n"
        },
        {
          "name": "stdout",
          "output_type": "stream",
          "text": "Finished:  1210\n\nFilename:  #frac{300}{549}#alpha^4-682 #neq -309_94651.jpg\n\nFinished:  1211\n\nFilename:  #frac{37}{768}x^2+424 #neq 501_12701.jpg\n\nFinished:  1212\n\nFilename:  #frac{459}{327}y^3-19 #geq 438_27876.jpg\n"
        },
        {
          "name": "stderr",
          "output_type": "stream",
          "text": "Lossy conversion from float64 to uint8. Range [0, 1]. Convert image to uint8 prior to saving to suppress this warning.\n\nLossy conversion from float64 to uint8. Range [0, 1]. Convert image to uint8 prior to saving to suppress this warning.\n\nLossy conversion from float64 to uint8. Range [-0.002071661998132645, 1.0]. Convert image to uint8 prior to saving to suppress this warning.\n"
        },
        {
          "name": "stdout",
          "output_type": "stream",
          "text": "Finished:  1213\n\nFilename:  #frac{382}{995}#alpha^4-856 #geq -562_48085.jpg\n\nFinished:  1214\n\nFilename:  #frac{853}{700}#beta^4-520 #neq 433_18966.jpg\n"
        },
        {
          "name": "stderr",
          "output_type": "stream",
          "text": "Lossy conversion from float64 to uint8. Range [0, 1]. Convert image to uint8 prior to saving to suppress this warning.\n\nLossy conversion from float64 to uint8. Range [0, 1]. Convert image to uint8 prior to saving to suppress this warning.\n\nLossy conversion from float64 to uint8. Range [0, 1]. Convert image to uint8 prior to saving to suppress this warning.\n"
        },
        {
          "name": "stdout",
          "output_type": "stream",
          "text": "Finished:  1215\n\nFilename:  #frac{709}{978}y^2-266 #geq 411_45074.jpg\n\nFinished:  1216\n\nFilename:  #frac{66}{698}-731 = -665_32190.jpg\n\nFinished:  1217\n\nFilename:  #frac{105}{327}#beta^2+845 #geq 882_92946.jpg\n\nFinished:  1218\n\nFilename:  #frac{162}{919}y^3+40 #neq 252_5642.jpg\n"
        },
        {
          "name": "stderr",
          "output_type": "stream",
          "text": "Lossy conversion from float64 to uint8. Range [0, 1]. Convert image to uint8 prior to saving to suppress this warning.\n\nLossy conversion from float64 to uint8. Range [0, 1]. Convert image to uint8 prior to saving to suppress this warning.\n\nLossy conversion from float64 to uint8. Range [0, 1]. Convert image to uint8 prior to saving to suppress this warning.\n\nLossy conversion from float64 to uint8. Range [0, 1]. Convert image to uint8 prior to saving to suppress this warning.\n"
        },
        {
          "name": "stdout",
          "output_type": "stream",
          "text": "Finished:  1219\n\nFilename:  #frac{435}{174}#alpha^3-532 #leq -66_23251.jpg\n\nFinished:  1220\n\nFilename:  #frac{791}{46}#beta^4-941 #neq -59_54546.jpg\n\nFinished:  1221\n\nFilename:  #frac{56}{357}x^4-886 #geq -854_56294.jpg\n\nFinished:  1222\n\nFilename: "
        },
        {
          "name": "stderr",
          "output_type": "stream",
          "text": "Lossy conversion from float64 to uint8. Range [0, 1]. Convert image to uint8 prior to saving to suppress this warning.\n\nLossy conversion from float64 to uint8. Range [0, 1]. Convert image to uint8 prior to saving to suppress this warning.\n"
        },
        {
          "name": "stdout",
          "output_type": "stream",
          "text": " #frac{984}{571}-942 = 42_35004.jpg\n\nFinished:  1223\n\nFilename:  #frac{624}{115}y^4-109 #geq 467_80123.jpg\n\nFinished:  1224\n\nFilename:  #frac{650}{193}y^2-288 #neq 408_38359.jpg\n"
        },
        {
          "name": "stderr",
          "output_type": "stream",
          "text": "Lossy conversion from float64 to uint8. Range [0, 1]. Convert image to uint8 prior to saving to suppress this warning.\n\nLossy conversion from float64 to uint8. Range [0, 1]. Convert image to uint8 prior to saving to suppress this warning.\n\nLossy conversion from float64 to uint8. Range [-1.1145768404080003e-16, 1.0]. Convert image to uint8 prior to saving to suppress this warning.\n"
        },
        {
          "name": "stdout",
          "output_type": "stream",
          "text": "Finished:  1225\n\nFilename:  #frac{939}{314}+531 = 1470_85215.jpg\n\nFinished:  1226\n\nFilename:  #frac{852}{327}#alpha^2+437 #neq 1352_83061.jpg\n\nFinished:  1227\n\nFilename:  #frac{311}{489}-52 = 259_350.jpg\n"
        },
        {
          "name": "stderr",
          "output_type": "stream",
          "text": "Lossy conversion from float64 to uint8. Range [0, 1]. Convert image to uint8 prior to saving to suppress this warning.\n\nLossy conversion from float64 to uint8. Range [0, 1]. Convert image to uint8 prior to saving to suppress this warning.\n\nLossy conversion from float64 to uint8. Range [0, 1]. Convert image to uint8 prior to saving to suppress this warning.\n\nLossy conversion from float64 to uint8. Range [0, 1]. Convert image to uint8 prior to saving to suppress this warning.\n"
        },
        {
          "name": "stdout",
          "output_type": "stream",
          "text": "Finished:  1228\n\nFilename:  #frac{858}{344}-969 = -111_98170.jpg\n\nFinished:  1229\n\nFilename:  #frac{839}{594}+379 = 1218_52701.jpg\n\nFinished:  1230\n\nFilename:  #frac{957}{417}-222 = 735_85311.jpg\n\nFinished:  1231\n\nFilename:  #frac{416}{971}#beta^4+964 #geq 1358_77944.jpg\n"
        },
        {
          "name": "stderr",
          "output_type": "stream",
          "text": "Lossy conversion from float64 to uint8. Range [0, 1]. Convert image to uint8 prior to saving to suppress this warning.\n\nLossy conversion from float64 to uint8. Range [0, 1]. Convert image to uint8 prior to saving to suppress this warning.\n\nLossy conversion from float64 to uint8. Range [0, 1]. Convert image to uint8 prior to saving to suppress this warning.\n\nLossy conversion from float64 to uint8. Range [0, 1]. Convert image to uint8 prior to saving to suppress this warning.\n"
        },
        {
          "name": "stdout",
          "output_type": "stream",
          "text": "Finished:  1232\n\nFilename:  #frac{137}{888}#alpha^2+469 #leq 616_91896.jpg\n\nFinished:  1233\n\nFilename:  #frac{779}{339}#alpha^2+522 #neq 1377_44156.jpg\n\nFinished:  1234\n\nFilename:  #frac{898}{305}-860 = 38_6104.jpg\n\nFinished:  1235\n\nFilename:  #frac{712}{726}+353 = 1065_95953.jpg\n"
        },
        {
          "name": "stderr",
          "output_type": "stream",
          "text": "Lossy conversion from float64 to uint8. Range [0, 1]. Convert image to uint8 prior to saving to suppress this warning.\n\nLossy conversion from float64 to uint8. Range [0, 1]. Convert image to uint8 prior to saving to suppress this warning.\n\nLossy conversion from float64 to uint8. Range [0, 1]. Convert image to uint8 prior to saving to suppress this warning.\n"
        },
        {
          "name": "stdout",
          "output_type": "stream",
          "text": "Finished:  1236\n\nFilename:  #frac{925}{258}+993 = 1918_26256.jpg\n\nFinished:  1237\n\nFilename:  #frac{983}{38}#beta^2-924 #leq 61_4587.jpg\n\nFinished:  1238\n"
        },
        {
          "name": "stderr",
          "output_type": "stream",
          "text": "Lossy conversion from float64 to uint8. Range [0, 1]. Convert image to uint8 prior to saving to suppress this warning.\n\nLossy conversion from float64 to uint8. Range [0, 1]. Convert image to uint8 prior to saving to suppress this warning.\n"
        },
        {
          "name": "stdout",
          "output_type": "stream",
          "text": "Filename:  #frac{716}{664}#alpha^3+207 #geq 880_60294.jpg\n\nFinished:  1239\n\nFilename:  #frac{465}{26}y^2-701 #leq -207_60812.jpg\n\nFinished:  1240\n\nFilename:  #frac{461}{379}y^4+135 #geq 530_20528.jpg\n"
        },
        {
          "name": "stderr",
          "output_type": "stream",
          "text": "Lossy conversion from float64 to uint8. Range [0, 1]. Convert image to uint8 prior to saving to suppress this warning.\n\nLossy conversion from float64 to uint8. Range [0, 1]. Convert image to uint8 prior to saving to suppress this warning.\n\nLossy conversion from float64 to uint8. Range [0, 1]. Convert image to uint8 prior to saving to suppress this warning.\n\nLossy conversion from float64 to uint8. Range [-0.0049409015942824585, 1.0]. Convert image to uint8 prior to saving to suppress this warning.\n\nLossy conversion from float64 to uint8. Range [-0.0016276901004303847, 1.0]. Convert image to uint8 prior to saving to suppress this warning.\n"
        },
        {
          "name": "stdout",
          "output_type": "stream",
          "text": "Finished:  1241\n\nFilename:  #frac{500}{334}-52 = 448_70779.jpg\n\nFinished:  1242\n\nFilename:  #frac{313}{7}#beta^2-301 #leq 70_8634.jpg\n\nFinished:  1243\n\nFilename:  #frac{850}{358}#beta^2-726 #leq 132_75838.jpg\n\nFinished:  1244\n\nFilename:  #frac{400}{455}x^3-77 #leq 389_68528.jpg\n"
        },
        {
          "name": "stderr",
          "output_type": "stream",
          "text": "Lossy conversion from float64 to uint8. Range [0, 1]. Convert image to uint8 prior to saving to suppress this warning.\n\nLossy conversion from float64 to uint8. Range [0, 1]. Convert image to uint8 prior to saving to suppress this warning.\n\nLossy conversion from float64 to uint8. Range [0, 1]. Convert image to uint8 prior to saving to suppress this warning.\n"
        },
        {
          "name": "stdout",
          "output_type": "stream",
          "text": "Finished:  1245\n\nFilename:  #frac{275}{851}#beta^3+74 #geq 312_36489.jpg\n\nFinished:  1246\n\nFilename:  #frac{70}{611}#alpha^4+311 #neq 396_35693.jpg\n\nFinished:  1247\n\nFilename:  #frac{955}{255}x^4-44 #geq 877_52312.jpg\n\nFinished:  1248\n\nFilename:  #frac{706}{677}x^2+955 #neq 1726_60453.jpg\n"
        },
        {
          "name": "stderr",
          "output_type": "stream",
          "text": "Lossy conversion from float64 to uint8. Range [-0.0022374296253153316, 1.0]. Convert image to uint8 prior to saving to suppress this warning.\n\nLossy conversion from float64 to uint8. Range [0, 1]. Convert image to uint8 prior to saving to suppress this warning.\n\nLossy conversion from float64 to uint8. Range [0, 1]. Convert image to uint8 prior to saving to suppress this warning.\n\nLossy conversion from float64 to uint8. Range [0, 1]. Convert image to uint8 prior to saving to suppress this warning.\n"
        },
        {
          "name": "stdout",
          "output_type": "stream",
          "text": "Finished:  1249\n\nFilename:  #frac{825}{647}-466 = 359_37820.jpg\n\nFinished:  1250\n\nFilename:  #frac{647}{651}-476 = 171_15765.jpg\n\nFinished:  1251\n\nFilename:  #frac{456}{916}y^3+454 #neq 968_38783.jpg\n\nFinished:  1252\n\nFilename:  #frac{209}{639}-861 = -652_73692.jpg\n"
        },
        {
          "name": "stderr",
          "output_type": "stream",
          "text": "Lossy conversion from float64 to uint8. Range [0, 1]. Convert image to uint8 prior to saving to suppress this warning.\n\nLossy conversion from float64 to uint8. Range [0, 1]. Convert image to uint8 prior to saving to suppress this warning.\n\nLossy conversion from float64 to uint8. Range [0, 1]. Convert image to uint8 prior to saving to suppress this warning.\n\nLossy conversion from float64 to uint8. Range [0, 1]. Convert image to uint8 prior to saving to suppress this warning.\n"
        },
        {
          "name": "stdout",
          "output_type": "stream",
          "text": "Finished:  1253\n\nFilename:  #frac{374}{397}#alpha^2-717 #geq -356_43011.jpg\n\nFinished:  1254\n\nFilename:  #frac{848}{528}-868 = -20_64289.jpg\n\nFinished:  1255\n\nFilename:  #frac{178}{939}x^4-328 #leq -58_17180.jpg\n\nFinished:  1256\n"
        },
        {
          "name": "stderr",
          "output_type": "stream",
          "text": "Lossy conversion from float64 to uint8. Range [0, 1]. Convert image to uint8 prior to saving to suppress this warning.\n\nLossy conversion from float64 to uint8. Range [0, 1]. Convert image to uint8 prior to saving to suppress this warning.\n\nLossy conversion from float64 to uint8. Range [0, 1]. Convert image to uint8 prior to saving to suppress this warning.\n"
        },
        {
          "name": "stdout",
          "output_type": "stream",
          "text": "Filename:  #frac{493}{158}+740 = 1233_53163.jpg\n\nFinished:  1257\n\nFilename:  #frac{617}{408}#alpha^4+217 #neq 865_49589.jpg\n\nFinished:  1258\n\nFilename:  #frac{142}{364}#alpha^3-820 #leq -635_85970.jpg\n"
        },
        {
          "name": "stderr",
          "output_type": "stream",
          "text": "Lossy conversion from float64 to uint8. Range [0, 1]. Convert image to uint8 prior to saving to suppress this warning.\n\nLossy conversion from float64 to uint8. Range [0, 1]. Convert image to uint8 prior to saving to suppress this warning.\n\nLossy conversion from float64 to uint8. Range [0, 1]. Convert image to uint8 prior to saving to suppress this warning.\n"
        },
        {
          "name": "stdout",
          "output_type": "stream",
          "text": "Finished:  1259\n\nFilename:  #frac{59}{557}x^3+181 #geq 187_40350.jpg\n\nFinished:  1260\n\nFilename:  #frac{313}{1}+788 = 1101_13429.jpg\n\nFinished:  1261\n\nFilename:  #frac{666}{415}+433 = 1099_77105.jpg\n\nFinished:  1262\n\nFilename:  #frac{201}{488}#alpha^2+331 #leq 550_22850.jpg\n"
        },
        {
          "name": "stderr",
          "output_type": "stream",
          "text": "Lossy conversion from float64 to uint8. Range [0, 1]. Convert image to uint8 prior to saving to suppress this warning.\n\nLossy conversion from float64 to uint8. Range [0, 1]. Convert image to uint8 prior to saving to suppress this warning.\n"
        },
        {
          "name": "stdout",
          "output_type": "stream",
          "text": "Finished:  1263\n\nFilename:  #frac{676}{353}y^2+964 #geq 1592_99556.jpg\n\nFinished:  1264\n\nFilename:  #frac{77}{869}#beta^4+280 #geq 265_15456.jpg\n"
        },
        {
          "name": "stderr",
          "output_type": "stream",
          "text": "Lossy conversion from float64 to uint8. Range [0, 1]. Convert image to uint8 prior to saving to suppress this warning.\n\nLossy conversion from float64 to uint8. Range [0, 1]. Convert image to uint8 prior to saving to suppress this warning.\n"
        },
        {
          "name": "stdout",
          "output_type": "stream",
          "text": "Finished:  1265\n\nFilename:  #frac{920}{548}y^4-280 #geq 562_78436.jpg\n\nFinished:  1266\n\nFilename:  #frac{337}{728}x^4-871 #geq -627_84197.jpg\n"
        },
        {
          "name": "stderr",
          "output_type": "stream",
          "text": "Lossy conversion from float64 to uint8. Range [0, 1]. Convert image to uint8 prior to saving to suppress this warning.\n\nLossy conversion from float64 to uint8. Range [0, 1]. Convert image to uint8 prior to saving to suppress this warning.\n\nLossy conversion from float64 to uint8. Range [0, 1]. Convert image to uint8 prior to saving to suppress this warning.\n"
        },
        {
          "name": "stdout",
          "output_type": "stream",
          "text": "Finished:  1267\n\nFilename:  #frac{570}{93}x^2-317 #neq 278_12375.jpg\n\nFinished:  1268\n\nFilename:  #frac{500}{710}#alpha^4-950 #leq -444_57078.jpg\n\nFinished:  1269\n\nFilename:  #frac{932}{325}+424 = 1356_13959.jpg\n"
        },
        {
          "name": "stderr",
          "output_type": "stream",
          "text": "Lossy conversion from float64 to uint8. Range [0, 1]. Convert image to uint8 prior to saving to suppress this warning.\n\nLossy conversion from float64 to uint8. Range [0, 1]. Convert image to uint8 prior to saving to suppress this warning.\n\nLossy conversion from float64 to uint8. Range [0, 1]. Convert image to uint8 prior to saving to suppress this warning.\n\nLossy conversion from float64 to uint8. Range [0, 1]. Convert image to uint8 prior to saving to suppress this warning.\n"
        },
        {
          "name": "stdout",
          "output_type": "stream",
          "text": "Finished:  1270\n\nFilename:  #frac{548}{605}#alpha^4+178 #neq 760_14257.jpg\n\nFinished:  1271\n\nFilename:  #frac{464}{987}x^3+165 #leq 660_15531.jpg\n\nFinished:  1272\n\nFilename:  #frac{61}{949}-22 = 39_95181.jpg\n"
        },
        {
          "name": "stderr",
          "output_type": "stream",
          "text": "Lossy conversion from float64 to uint8. Range [0, 1]. Convert image to uint8 prior to saving to suppress this warning.\n\nLossy conversion from float64 to uint8. Range [0, 1]. Convert image to uint8 prior to saving to suppress this warning.\n\nLossy conversion from float64 to uint8. Range [0, 1]. Convert image to uint8 prior to saving to suppress this warning.\n"
        },
        {
          "name": "stdout",
          "output_type": "stream",
          "text": "Finished:  1273\n\nFilename:  #frac{698}{406}x^4-80 #leq 690_9848.jpg\n\nFinished:  1274\n\nFilename:  #frac{358}{277}+575 = 933_63819.jpg\n\nFinished:  1275\n\nFilename:  #frac{506}{23}y^4+473 #geq 888_39013.jpg\n\nFinished:  1276\n"
        },
        {
          "name": "stderr",
          "output_type": "stream",
          "text": "Lossy conversion from float64 to uint8. Range [0, 1]. Convert image to uint8 prior to saving to suppress this warning.\n"
        },
        {
          "name": "stdout",
          "output_type": "stream",
          "text": "Filename:  #frac{269}{771}#beta^3+735 #leq 1076_63068.jpg\n\nFinished:  1277\n\nFilename:  #frac{289}{704}x^2-135 #leq 190_91486.jpg\n"
        },
        {
          "name": "stderr",
          "output_type": "stream",
          "text": "Lossy conversion from float64 to uint8. Range [0, 1]. Convert image to uint8 prior to saving to suppress this warning.\n\nLossy conversion from float64 to uint8. Range [0, 1]. Convert image to uint8 prior to saving to suppress this warning.\n\nLossy conversion from float64 to uint8. Range [0, 1]. Convert image to uint8 prior to saving to suppress this warning.\n"
        },
        {
          "name": "stdout",
          "output_type": "stream",
          "text": "Finished:  1278\n\nFilename:  #frac{534}{747}+654 = 1188_34050.jpg\n\nFinished:  1279\n\nFilename:  #frac{445}{910}#alpha^4-563 #neq -46_56571.jpg\n\nFinished:  1280\n\nFilename:  #frac{648}{620}#beta^2-249 #leq 416_43425.jpg\n"
        },
        {
          "name": "stderr",
          "output_type": "stream",
          "text": "Lossy conversion from float64 to uint8. Range [0, 1]. Convert image to uint8 prior to saving to suppress this warning.\n\nLossy conversion from float64 to uint8. Range [0, 1]. Convert image to uint8 prior to saving to suppress this warning.\n\nLossy conversion from float64 to uint8. Range [0, 1]. Convert image to uint8 prior to saving to suppress this warning.\n\nLossy conversion from float64 to uint8. Range [0, 1]. Convert image to uint8 prior to saving to suppress this warning.\n"
        },
        {
          "name": "stdout",
          "output_type": "stream",
          "text": "Finished:  1281\n\nFilename:  #frac{778}{684}x^2+479 #neq 1344_80906.jpg\n\nFinished:  1282\n\nFilename:  #frac{52}{297}#alpha^3+986 #leq 1094_83171.jpg\n\nFinished:  1283\n\nFilename:  #frac{458}{770}x^2-741 #leq -269_13233.jpg\n"
        },
        {
          "name": "stderr",
          "output_type": "stream",
          "text": "Lossy conversion from float64 to uint8. Range [0, 1]. Convert image to uint8 prior to saving to suppress this warning.\n\nLossy conversion from float64 to uint8. Range [0, 1]. Convert image to uint8 prior to saving to suppress this warning.\n\nLossy conversion from float64 to uint8. Range [-0.0021183473389357337, 1.0]. Convert image to uint8 prior to saving to suppress this warning.\n"
        },
        {
          "name": "stdout",
          "output_type": "stream",
          "text": "Finished:  1284\n\nFilename:  #frac{32}{946}y^2+954 #neq 1054_74370.jpg\n\nFinished:  1285\n\nFilename:  #frac{274}{340}+110 = 384_25700.jpg\n\nFinished:  1286\n\nFilename:  #frac{246}{745}#beta^2+888 #leq 1147_29068.jpg\n\nFinished:  1287\n\nFilename:  #frac{125}{664}-54 = 71_18592.jpg\n"
        },
        {
          "name": "stderr",
          "output_type": "stream",
          "text": "Lossy conversion from float64 to uint8. Range [0, 1]. Convert image to uint8 prior to saving to suppress this warning.\n\nLossy conversion from float64 to uint8. Range [0, 1]. Convert image to uint8 prior to saving to suppress this warning.\n"
        },
        {
          "name": "stdout",
          "output_type": "stream",
          "text": "Finished:  1288\n\nFilename:  #frac{848}{414}x^3-177 #neq 733_5157.jpg\n\nFinished:  1289\n\nFilename:  #frac{382}{233}-222 = 160_92801.jpg\n"
        },
        {
          "name": "stderr",
          "output_type": "stream",
          "text": "Lossy conversion from float64 to uint8. Range [0, 1]. Convert image to uint8 prior to saving to suppress this warning.\n\nLossy conversion from float64 to uint8. Range [0, 1]. Convert image to uint8 prior to saving to suppress this warning.\n\nLossy conversion from float64 to uint8. Range [0, 1]. Convert image to uint8 prior to saving to suppress this warning.\n\nLossy conversion from float64 to uint8. Range [0, 1]. Convert image to uint8 prior to saving to suppress this warning.\n"
        },
        {
          "name": "stdout",
          "output_type": "stream",
          "text": "Finished:  1290\n\nFilename:  #frac{917}{132}x^4-179 #leq 783_16003.jpg\n\nFinished:  1291\n\nFilename:  #frac{674}{581}#alpha^4+261 #geq 865_82072.jpg\n\nFinished:  1292\n\nFilename:  #frac{19}{775}-785 = -766_76929.jpg\n\nFinished:  1293\n\nFilename:  #frac{104}{822}#beta^4+658 #geq 670_49954.jpg\n"
        },
        {
          "name": "stderr",
          "output_type": "stream",
          "text": "Lossy conversion from float64 to uint8. Range [0, 1]. Convert image to uint8 prior to saving to suppress this warning.\n\nLossy conversion from float64 to uint8. Range [0, 1]. Convert image to uint8 prior to saving to suppress this warning.\n\nLossy conversion from float64 to uint8. Range [0, 1]. Convert image to uint8 prior to saving to suppress this warning.\n\nLossy conversion from float64 to uint8. Range [0, 1]. Convert image to uint8 prior to saving to suppress this warning.\n\nLossy conversion from float64 to uint8. Range [0, 1]. Convert image to uint8 prior to saving to suppress this warning.\n"
        },
        {
          "name": "stdout",
          "output_type": "stream",
          "text": "Finished:  1294\n\nFilename:  #frac{787}{67}-551 = 236_97656.jpg\n\nFinished:  1295\n\nFilename:  #frac{745}{824}#beta^2-201 #neq 595_44595.jpg\n\nFinished:  1296\n\nFilename:  #frac{136}{617}-649 = -513_48195.jpg\n\nFinished:  1297\n\nFilename:  #frac{6}{750}+871 = 877_61197.jpg\n"
        },
        {
          "name": "stderr",
          "output_type": "stream",
          "text": "Lossy conversion from float64 to uint8. Range [0, 1]. Convert image to uint8 prior to saving to suppress this warning.\n\nLossy conversion from float64 to uint8. Range [0, 1]. Convert image to uint8 prior to saving to suppress this warning.\n\nLossy conversion from float64 to uint8. Range [0, 1]. Convert image to uint8 prior to saving to suppress this warning.\n"
        },
        {
          "name": "stdout",
          "output_type": "stream",
          "text": "Finished:  1298\n\nFilename:  #frac{21}{142}#alpha^2-64 #leq -10_44514.jpg\n\nFinished:  1299\n\nFilename:  #frac{787}{178}#beta^3+235 #neq 1117_70305.jpg\n\nFinished:  1300\n\nFilename:  #frac{167}{502}#alpha^3+459 #neq 677_92575.jpg\n\nFinished:  1301\n\nFilename:  #frac{464}{769}x^2+712 #leq 1217_57321.jpg\n"
        },
        {
          "name": "stderr",
          "output_type": "stream",
          "text": "Lossy conversion from float64 to uint8. Range [0, 1]. Convert image to uint8 prior to saving to suppress this warning.\n\nLossy conversion from float64 to uint8. Range [0, 1]. Convert image to uint8 prior to saving to suppress this warning.\n\nLossy conversion from float64 to uint8. Range [0, 1]. Convert image to uint8 prior to saving to suppress this warning.\n\nLossy conversion from float64 to uint8. Range [0, 1]. Convert image to uint8 prior to saving to suppress this warning.\n"
        },
        {
          "name": "stdout",
          "output_type": "stream",
          "text": "Finished:  1302\n\nFilename:  #frac{39}{334}+846 = 885_30103.jpg\n\nFinished:  1303\n\nFilename:  #frac{941}{668}+72 = 1013_29441.jpg\n\nFinished:  1304\n\nFilename:  #frac{91}{39}#beta^2-334 #geq -244_5810.jpg\n\nFinished:  1305\n\nFilename:  #frac{885}{267}y^2-924 #geq -107_69734.jpg\n"
        },
        {
          "name": "stderr",
          "output_type": "stream",
          "text": "Lossy conversion from float64 to uint8. Range [-0.005984842448469417, 1.0]. Convert image to uint8 prior to saving to suppress this warning.\n\nLossy conversion from float64 to uint8. Range [0, 1]. Convert image to uint8 prior to saving to suppress this warning.\n\nLossy conversion from float64 to uint8. Range [0, 1]. Convert image to uint8 prior to saving to suppress this warning.\n"
        },
        {
          "name": "stdout",
          "output_type": "stream",
          "text": "Finished:  1306\n\nFilename:  #frac{105}{555}#beta^2-839 #neq -678_45063.jpg\n\nFinished:  1307\n\nFilename:  #frac{252}{19}#alpha^3+936 #geq 1110_8595.jpg\n\nFinished:  1308\n\nFilename:  #frac{594}{175}#alpha^4+228 #neq 854_69233.jpg\n"
        },
        {
          "name": "stderr",
          "output_type": "stream",
          "text": "Lossy conversion from float64 to uint8. Range [0, 1]. Convert image to uint8 prior to saving to suppress this warning.\n\nLossy conversion from float64 to uint8. Range [0, 1]. Convert image to uint8 prior to saving to suppress this warning.\n\nLossy conversion from float64 to uint8. Range [0, 1]. Convert image to uint8 prior to saving to suppress this warning.\n\nLossy conversion from float64 to uint8. Range [0, 1]. Convert image to uint8 prior to saving to suppress this warning.\n"
        },
        {
          "name": "stdout",
          "output_type": "stream",
          "text": "Finished:  1309\n\nFilename:  #frac{717}{714}#alpha^3-586 #geq 131_81523.jpg\n\nFinished:  1310\n\nFilename:  #frac{910}{166}x^3+855 #neq 1817_18481.jpg\n\nFinished:  1311\n\nFilename:  #frac{18}{837}#beta^3-967 #neq -902_54060.jpg\n"
        },
        {
          "name": "stderr",
          "output_type": "stream",
          "text": "Lossy conversion from float64 to uint8. Range [0, 1]. Convert image to uint8 prior to saving to suppress this warning.\n\nLossy conversion from float64 to uint8. Range [0, 1]. Convert image to uint8 prior to saving to suppress this warning.\n\nLossy conversion from float64 to uint8. Range [0, 1]. Convert image to uint8 prior to saving to suppress this warning.\n"
        },
        {
          "name": "stdout",
          "output_type": "stream",
          "text": "Finished:  1312\n\nFilename:  #frac{669}{606}#alpha^3-799 #neq -94_37004.jpg\n\nFinished:  1313\n\nFilename:  #frac{731}{445}#alpha^2-840 #leq -64_97309.jpg\n\nFinished:  1314\n\nFilename:  #frac{974}{946}x^2-152 #neq 901_20071.jpg\n\nFinished:  1315\n\nFilename:  #frac{287}{233}#alpha^2+829 #neq 1128_83316.jpg\n"
        },
        {
          "name": "stderr",
          "output_type": "stream",
          "text": "Lossy conversion from float64 to uint8. Range [0, 1]. Convert image to uint8 prior to saving to suppress this warning.\n\nLossy conversion from float64 to uint8. Range [0, 1]. Convert image to uint8 prior to saving to suppress this warning.\n"
        },
        {
          "name": "stdout",
          "output_type": "stream",
          "text": "Finished:  1316\n\nFilename:  #frac{959}{444}x^2+400 #leq 1393_46483.jpg\n\nFinished:  1317\n\nFilename:  #frac{67}{653}+884 = 951_46891.jpg\n"
        },
        {
          "name": "stderr",
          "output_type": "stream",
          "text": "Lossy conversion from float64 to uint8. Range [0, 1]. Convert image to uint8 prior to saving to suppress this warning.\n\nLossy conversion from float64 to uint8. Range [0, 1]. Convert image to uint8 prior to saving to suppress this warning.\n\nLossy conversion from float64 to uint8. Range [-0.004662840746054514, 1.0]. Convert image to uint8 prior to saving to suppress this warning.\n"
        },
        {
          "name": "stdout",
          "output_type": "stream",
          "text": "Finished:  1318\n\nFilename:  #frac{76}{255}y^4+702 #leq 847_27718.jpg\n\nFinished:  1319\n\nFilename:  #frac{306}{934}-395 = -89_73501.jpg\n\nFinished:  1320\n\nFilename:  #frac{882}{250}y^4-437 #geq 426_20842.jpg\n"
        },
        {
          "name": "stderr",
          "output_type": "stream",
          "text": "Lossy conversion from float64 to uint8. Range [0, 1]. Convert image to uint8 prior to saving to suppress this warning.\n\nLossy conversion from float64 to uint8. Range [0, 1]. Convert image to uint8 prior to saving to suppress this warning.\n\nLossy conversion from float64 to uint8. Range [0, 1]. Convert image to uint8 prior to saving to suppress this warning.\n\nLossy conversion from float64 to uint8. Range [0, 1]. Convert image to uint8 prior to saving to suppress this warning.\n"
        },
        {
          "name": "stdout",
          "output_type": "stream",
          "text": "Finished:  1321\n\nFilename:  #frac{188}{752}y^4+841 #neq 1111_7532.jpg\n\nFinished:  1322\n\nFilename:  #frac{195}{882}x^3-59 #leq 185_68963.jpg\n\nFinished:  1323\n\nFilename:  #frac{75}{882}#alpha^2+135 #neq 293_82561.jpg\n\nFinished:  1324\n\nFilename:  #frac{456}{372}#alpha^2+6 #geq 370_20075.jpg\n"
        },
        {
          "name": "stderr",
          "output_type": "stream",
          "text": "Lossy conversion from float64 to uint8. Range [0, 1]. Convert image to uint8 prior to saving to suppress this warning.\n\nLossy conversion from float64 to uint8. Range [0, 1]. Convert image to uint8 prior to saving to suppress this warning.\n\nLossy conversion from float64 to uint8. Range [0, 1]. Convert image to uint8 prior to saving to suppress this warning.\n\nLossy conversion from float64 to uint8. Range [0, 1]. Convert image to uint8 prior to saving to suppress this warning.\n"
        },
        {
          "name": "stdout",
          "output_type": "stream",
          "text": "Finished:  1325\n\nFilename:  #frac{567}{208}x^2+917 #geq 1447_36484.jpg\n\nFinished:  1326\n\nFilename:  #frac{941}{543}#beta^4-453 #neq 580_21035.jpg\n\nFinished:  1327\n\nFilename:  #frac{908}{462}+735 = 1643_86683.jpg\n\nFinished:  1328\n\nFilename:  #frac{416}{529}-490 = -74_97393.jpg\n"
        },
        {
          "name": "stderr",
          "output_type": "stream",
          "text": "Lossy conversion from float64 to uint8. Range [0, 1]. Convert image to uint8 prior to saving to suppress this warning.\n\nLossy conversion from float64 to uint8. Range [-0.0053436759319112626, 1.0]. Convert image to uint8 prior to saving to suppress this warning.\n\nLossy conversion from float64 to uint8. Range [0, 1]. Convert image to uint8 prior to saving to suppress this warning.\n\nLossy conversion from float64 to uint8. Range [0, 1]. Convert image to uint8 prior to saving to suppress this warning.\n"
        },
        {
          "name": "stdout",
          "output_type": "stream",
          "text": "Finished:  1329\n\nFilename:  #frac{394}{160}y^2-534 #leq -66_16671.jpg\n\nFinished:  1330\n\nFilename:  #frac{506}{638}#beta^3-676 #geq -240_9780.jpg\n\nFinished:  1331\n\nFilename:  #frac{261}{100}#alpha^2+372 #leq 720_3837.jpg\n"
        },
        {
          "name": "stderr",
          "output_type": "stream",
          "text": "Lossy conversion from float64 to uint8. Range [0, 1]. Convert image to uint8 prior to saving to suppress this warning.\n\nLossy conversion from float64 to uint8. Range [0, 1]. Convert image to uint8 prior to saving to suppress this warning.\n"
        },
        {
          "name": "stdout",
          "output_type": "stream",
          "text": "Finished:  1332\n\nFilename:  #frac{549}{733}x^3+277 #leq 858_7432.jpg\n\nFinished:  1333\n\nFilename:  #frac{783}{103}#alpha^2+573 #leq 1403_9371.jpg\n\nFinished:  1334\n\nFilename:  #frac{702}{603}#beta^3+723 #geq 1374_81807.jpg\n"
        },
        {
          "name": "stderr",
          "output_type": "stream",
          "text": "Lossy conversion from float64 to uint8. Range [0, 1]. Convert image to uint8 prior to saving to suppress this warning.\n\nLossy conversion from float64 to uint8. Range [0, 1]. Convert image to uint8 prior to saving to suppress this warning.\n\nLossy conversion from float64 to uint8. Range [0, 1]. Convert image to uint8 prior to saving to suppress this warning.\n\nLossy conversion from float64 to uint8. Range [0, 1]. Convert image to uint8 prior to saving to suppress this warning.\n"
        },
        {
          "name": "stdout",
          "output_type": "stream",
          "text": "Finished:  1335\n\nFilename:  #frac{443}{652}y^2-749 #geq -357_83736.jpg\n\nFinished:  1336\n\nFilename:  #frac{231}{639}#beta^3+430 #leq 734_44595.jpg\n\nFinished:  1337\n\nFilename:  #frac{269}{913}#alpha^2-97 #leq 238_22090.jpg\n\nFinished:  1338\n\nFilename:  #frac{450}{893}#beta^2-343 #leq 201_42385.jpg\n"
        },
        {
          "name": "stderr",
          "output_type": "stream",
          "text": "Lossy conversion from float64 to uint8. Range [0, 1]. Convert image to uint8 prior to saving to suppress this warning.\n\nLossy conversion from float64 to uint8. Range [0, 1]. Convert image to uint8 prior to saving to suppress this warning.\n\nLossy conversion from float64 to uint8. Range [0, 1]. Convert image to uint8 prior to saving to suppress this warning.\n\nLossy conversion from float64 to uint8. Range [-0.03157592995781295, 1.0]. Convert image to uint8 prior to saving to suppress this warning.\n"
        },
        {
          "name": "stdout",
          "output_type": "stream",
          "text": "Finished:  1339\n\nFilename:  #frac{606}{455}y^4-160 #geq 408_32682.jpg\n\nFinished:  1340\n\nFilename:  #frac{457}{487}-509 = -52_47240.jpg\n\nFinished:  1341\n\nFilename:  #frac{729}{266}#alpha^2+457 #geq 1134_38587.jpg\n"
        },
        {
          "name": "stderr",
          "output_type": "stream",
          "text": "Lossy conversion from float64 to uint8. Range [0, 1]. Convert image to uint8 prior to saving to suppress this warning.\n\nLossy conversion from float64 to uint8. Range [0, 1]. Convert image to uint8 prior to saving to suppress this warning.\n"
        },
        {
          "name": "stdout",
          "output_type": "stream",
          "text": "Finished:  1342\n\nFilename:  #frac{842}{914}x^2-76 #leq 813_94483.jpg\n\nFinished:  1343\n\nFilename:  #frac{468}{43}-493 = -25_10753.jpg\n\nFinished:  1344\n\nFilename:  #frac{278}{401}#beta^4+877 #neq 1164_16892.jpg\n"
        },
        {
          "name": "stderr",
          "output_type": "stream",
          "text": "Lossy conversion from float64 to uint8. Range [0, 1]. Convert image to uint8 prior to saving to suppress this warning.\n\nLossy conversion from float64 to uint8. Range [0, 1]. Convert image to uint8 prior to saving to suppress this warning.\n\nLossy conversion from float64 to uint8. Range [0, 1]. Convert image to uint8 prior to saving to suppress this warning.\n\nLossy conversion from float64 to uint8. Range [0, 1]. Convert image to uint8 prior to saving to suppress this warning.\n"
        },
        {
          "name": "stdout",
          "output_type": "stream",
          "text": "Finished:  1345\n\nFilename:  #frac{60}{887}-450 = -390_50679.jpg\n\nFinished:  1346\n\nFilename:  #frac{266}{387}x^4-39 #geq 218_44475.jpg\n\nFinished:  1347\n\nFilename:  #frac{406}{117}-708 = -302_63089.jpg\n"
        },
        {
          "name": "stderr",
          "output_type": "stream",
          "text": "Lossy conversion from float64 to uint8. Range [0, 1]. Convert image to uint8 prior to saving to suppress this warning.\n\nLossy conversion from float64 to uint8. Range [0, 1]. Convert image to uint8 prior to saving to suppress this warning.\n\nLossy conversion from float64 to uint8. Range [0, 1]. Convert image to uint8 prior to saving to suppress this warning.\n"
        },
        {
          "name": "stdout",
          "output_type": "stream",
          "text": "Finished:  1348\n\nFilename:  #frac{303}{469}#alpha^4-583 #neq -180_9025.jpg\n\nFinished:  1349\n\nFilename:  #frac{233}{882}+540 = 773_75434.jpg\n\nFinished:  1350\n\nFilename:  #frac{944}{272}x^3-209 #leq 770_67228.jpg\n\nFinished:  1351\n\nFilename:  #frac{753}{102}-673 = 80_12483.jpg\n"
        },
        {
          "name": "stderr",
          "output_type": "stream",
          "text": "Lossy conversion from float64 to uint8. Range [-0.0027752639517345024, 1.0]. Convert image to uint8 prior to saving to suppress this warning.\n\nLossy conversion from float64 to uint8. Range [0, 1]. Convert image to uint8 prior to saving to suppress this warning.\n\nLossy conversion from float64 to uint8. Range [-0.24808703969392631, 1.0]. Convert image to uint8 prior to saving to suppress this warning.\n"
        },
        {
          "name": "stdout",
          "output_type": "stream",
          "text": "Finished:  1352\n\nFilename:  #frac{250}{685}#beta^3+957 #geq 1142_71021.jpg\n\nFinished:  1353\n\nFilename:  #frac{573}{165}#beta^3-149 #leq 440_36592.jpg\n\nFinished:  1354\n\nFilename:  #frac{676}{884}+779 = 1455_14721.jpg\n"
        },
        {
          "name": "stderr",
          "output_type": "stream",
          "text": "Lossy conversion from float64 to uint8. Range [0, 1]. Convert image to uint8 prior to saving to suppress this warning.\n\nLossy conversion from float64 to uint8. Range [0, 1]. Convert image to uint8 prior to saving to suppress this warning.\n\nLossy conversion from float64 to uint8. Range [0, 1]. Convert image to uint8 prior to saving to suppress this warning.\n"
        },
        {
          "name": "stdout",
          "output_type": "stream",
          "text": "Finished:  1355\n\nFilename:  #frac{152}{743}x^3+456 #leq 608_85187.jpg\n\nFinished:  1356\n\nFilename:  #frac{788}{494}#alpha^2+329 #leq 1164_98402.jpg\n\nFinished:  1357\n\nFilename:  #frac{783}{268}#alpha^2-74 #geq 644_49501.jpg\n"
        },
        {
          "name": "stderr",
          "output_type": "stream",
          "text": "Lossy conversion from float64 to uint8. Range [0, 1]. Convert image to uint8 prior to saving to suppress this warning.\n\nLossy conversion from float64 to uint8. Range [0, 1]. Convert image to uint8 prior to saving to suppress this warning.\n\nLossy conversion from float64 to uint8. Range [0, 1]. Convert image to uint8 prior to saving to suppress this warning.\n"
        },
        {
          "name": "stdout",
          "output_type": "stream",
          "text": "Finished:  1358\n\nFilename:  #frac{275}{186}y^2-809 #leq -499_42863.jpg\n\nFinished:  1359\n\nFilename:  #frac{594}{989}+556 = 1150_2488.jpg\n\nFinished:  1360\n"
        },
        {
          "name": "stderr",
          "output_type": "stream",
          "text": "Lossy conversion from float64 to uint8. Range [0, 1]. Convert image to uint8 prior to saving to suppress this warning.\n\nLossy conversion from float64 to uint8. Range [0, 1]. Convert image to uint8 prior to saving to suppress this warning.\n"
        },
        {
          "name": "stdout",
          "output_type": "stream",
          "text": "Filename:  #frac{3}{203}#alpha^4-588 #geq -667_1589.jpg\n\nFinished:  1361\n\nFilename:  #frac{747}{340}-661 = 86_4023.jpg\n"
        },
        {
          "name": "stderr",
          "output_type": "stream",
          "text": "Lossy conversion from float64 to uint8. Range [0, 1]. Convert image to uint8 prior to saving to suppress this warning.\n\nLossy conversion from float64 to uint8. Range [0, 1]. Convert image to uint8 prior to saving to suppress this warning.\n\nLossy conversion from float64 to uint8. Range [0, 1]. Convert image to uint8 prior to saving to suppress this warning.\n"
        },
        {
          "name": "stdout",
          "output_type": "stream",
          "text": "Finished:  1362\n\nFilename:  #frac{679}{224}#alpha^2+14 #neq 713_41025.jpg\n\nFinished:  1363\n\nFilename:  #frac{848}{227}x^3-380 #geq 382_73773.jpg\n\nFinished:  1364\n\nFilename:  #frac{938}{555}#alpha^2-353 #leq 625_22418.jpg\n"
        },
        {
          "name": "stderr",
          "output_type": "stream",
          "text": "Lossy conversion from float64 to uint8. Range [0, 1]. Convert image to uint8 prior to saving to suppress this warning.\n"
        },
        {
          "name": "stdout",
          "output_type": "stream",
          "text": "Finished:  1365\n\nFilename:  #frac{351}{877}#beta^3+352 #neq 769_95807.jpg\n\nFinished:  1366\n\nFilename:  #frac{932}{901}+809 = 1741_71586.jpg\n"
        },
        {
          "name": "stderr",
          "output_type": "stream",
          "text": "Lossy conversion from float64 to uint8. Range [0, 1]. Convert image to uint8 prior to saving to suppress this warning.\n"
        },
        {
          "name": "stdout",
          "output_type": "stream",
          "text": "Finished:  1367\n\nFilename:  #frac{111}{807}x^3-699 #geq -588_45086.jpg\n"
        },
        {
          "name": "stderr",
          "output_type": "stream",
          "text": "Lossy conversion from float64 to uint8. Range [0, 1]. Convert image to uint8 prior to saving to suppress this warning.\n\nLossy conversion from float64 to uint8. Range [0, 1]. Convert image to uint8 prior to saving to suppress this warning.\n\nLossy conversion from float64 to uint8. Range [0, 1]. Convert image to uint8 prior to saving to suppress this warning.\n"
        },
        {
          "name": "stdout",
          "output_type": "stream",
          "text": "Finished:  1368\n\nFilename:  #frac{969}{433}+222 = 1191_94679.jpg\n\nFinished:  1369\n\nFilename:  #frac{354}{640}x^3-586 #geq -268_47260.jpg\n"
        },
        {
          "name": "stderr",
          "output_type": "stream",
          "text": "Lossy conversion from float64 to uint8. Range [0, 1]. Convert image to uint8 prior to saving to suppress this warning.\n\nLossy conversion from float64 to uint8. Range [0, 1]. Convert image to uint8 prior to saving to suppress this warning.\n\nLossy conversion from float64 to uint8. Range [0, 1]. Convert image to uint8 prior to saving to suppress this warning.\n"
        },
        {
          "name": "stdout",
          "output_type": "stream",
          "text": "Finished:  1370\n\nFilename:  #frac{222}{940}+845 = 1067_82117.jpg\n\nFinished:  1371\n\nFilename:  #frac{514}{952}+606 = 1120_96313.jpg\n\nFinished:  1372\n\nFilename:  #frac{686}{874}x^3-208 #leq 547_77804.jpg\n\nFinished:  1373\n"
        },
        {
          "name": "stderr",
          "output_type": "stream",
          "text": "Lossy conversion from float64 to uint8. Range [0, 1]. Convert image to uint8 prior to saving to suppress this warning.\n\nLossy conversion from float64 to uint8. Range [0, 1]. Convert image to uint8 prior to saving to suppress this warning.\n\nLossy conversion from float64 to uint8. Range [0, 1]. Convert image to uint8 prior to saving to suppress this warning.\n"
        },
        {
          "name": "stdout",
          "output_type": "stream",
          "text": "Filename:  #frac{636}{648}+183 = 819_32583.jpg\n\nFinished:  1374\n\nFilename:  #frac{442}{74}y^2-851 #neq -349_59090.jpg\n\nFinished:  1375\n\nFilename:  #frac{289}{657}-586 = -297_41819.jpg\n\nFinished:  1376\n\nFilename:  #frac{102}{8}-111 = -9_67405.jpg\n"
        },
        {
          "name": "stderr",
          "output_type": "stream",
          "text": "Lossy conversion from float64 to uint8. Range [0, 1]. Convert image to uint8 prior to saving to suppress this warning.\n\nLossy conversion from float64 to uint8. Range [0, 1]. Convert image to uint8 prior to saving to suppress this warning.\n\nLossy conversion from float64 to uint8. Range [0, 1]. Convert image to uint8 prior to saving to suppress this warning.\n"
        },
        {
          "name": "stdout",
          "output_type": "stream",
          "text": "Finished:  1377\n\nFilename:  #frac{706}{207}x^4-466 #leq 288_37805.jpg\n\nFinished:  1378\n\nFilename:  #frac{104}{880}#alpha^2+486 #leq 608_92769.jpg\n\nFinished:  1379\n\nFilename:  #frac{864}{417}+868 = 1732_32645.jpg\n"
        },
        {
          "name": "stderr",
          "output_type": "stream",
          "text": "Lossy conversion from float64 to uint8. Range [0, 1]. Convert image to uint8 prior to saving to suppress this warning.\n"
        },
        {
          "name": "stdout",
          "output_type": "stream",
          "text": "Finished:  1380\n\nFilename:  #frac{591}{752}#beta^2+663 #leq 1304_95965.jpg\n"
        },
        {
          "name": "stderr",
          "output_type": "stream",
          "text": "Lossy conversion from float64 to uint8. Range [0, 1]. Convert image to uint8 prior to saving to suppress this warning.\n\nLossy conversion from float64 to uint8. Range [0, 1]. Convert image to uint8 prior to saving to suppress this warning.\n"
        },
        {
          "name": "stdout",
          "output_type": "stream",
          "text": "Finished:  1381\n\nFilename:  #frac{920}{870}#alpha^2-578 #neq 441_32163.jpg\n"
        },
        {
          "name": "stderr",
          "output_type": "stream",
          "text": "Lossy conversion from float64 to uint8. Range [0, 1]. Convert image to uint8 prior to saving to suppress this warning.\n"
        },
        {
          "name": "stdout",
          "output_type": "stream",
          "text": "Finished:  1382\n\nFilename:  #frac{861}{936}#beta^3-911 #neq -16_56323.jpg\n\nFinished:  1383\n\nFilename:  #frac{214}{103}x^2-464 #leq -208_82580.jpg\n"
        },
        {
          "name": "stderr",
          "output_type": "stream",
          "text": "Lossy conversion from float64 to uint8. Range [0, 1]. Convert image to uint8 prior to saving to suppress this warning.\n\nLossy conversion from float64 to uint8. Range [0, 1]. Convert image to uint8 prior to saving to suppress this warning.\n"
        },
        {
          "name": "stdout",
          "output_type": "stream",
          "text": "Finished:  1384\n\nFilename:  #frac{816}{864}+731 = 1547_31857.jpg\n\nFinished:  1385\n\nFilename:  #frac{380}{559}x^2-53 #neq 414_3486.jpg\n"
        },
        {
          "name": "stderr",
          "output_type": "stream",
          "text": "Lossy conversion from float64 to uint8. Range [0, 1]. Convert image to uint8 prior to saving to suppress this warning.\n\nLossy conversion from float64 to uint8. Range [0, 1]. Convert image to uint8 prior to saving to suppress this warning.\n\nLossy conversion from float64 to uint8. Range [0, 1]. Convert image to uint8 prior to saving to suppress this warning.\n"
        },
        {
          "name": "stdout",
          "output_type": "stream",
          "text": "Finished:  1386\n\nFilename:  #frac{168}{506}#beta^4+879 #leq 1078_90623.jpg\n\nFinished:  1387\n\nFilename:  #frac{220}{154}x^4-780 #neq -490_43215.jpg\n\nFinished:  1388\n\nFilename:  #frac{142}{383}+709 = 851_43018.jpg\n"
        },
        {
          "name": "stderr",
          "output_type": "stream",
          "text": "Lossy conversion from float64 to uint8. Range [0, 1]. Convert image to uint8 prior to saving to suppress this warning.\n\nLossy conversion from float64 to uint8. Range [0, 1]. Convert image to uint8 prior to saving to suppress this warning.\n\nLossy conversion from float64 to uint8. Range [0, 1]. Convert image to uint8 prior to saving to suppress this warning.\n\nLossy conversion from float64 to uint8. Range [0, 1]. Convert image to uint8 prior to saving to suppress this warning.\n"
        },
        {
          "name": "stdout",
          "output_type": "stream",
          "text": "Finished:  1389\n\nFilename:  #frac{356}{556}x^2+96 #neq 513_69178.jpg\n\nFinished:  1390\n\nFilename:  #frac{495}{81}+108 = 603_82410.jpg\n\nFinished:  1391\n\nFilename:  #frac{74}{564}#alpha^4+353 #leq 474_76487.jpg\n\nFinished:  1392\n\nFilename:  #frac{597}{138}#beta^4-928 #geq -374_45548.jpg\n"
        },
        {
          "name": "stderr",
          "output_type": "stream",
          "text": "Lossy conversion from float64 to uint8. Range [0, 1]. Convert image to uint8 prior to saving to suppress this warning.\n\nLossy conversion from float64 to uint8. Range [0, 1]. Convert image to uint8 prior to saving to suppress this warning.\n"
        },
        {
          "name": "stdout",
          "output_type": "stream",
          "text": "Finished:  1393\n\nFilename:  #frac{719}{244}#beta^2+649 #leq 1460_56928.jpg\n\nFinished:  1394\n\nFilename:  #frac{969}{381}#alpha^2-931 #neq 133_26818.jpg\n"
        },
        {
          "name": "stderr",
          "output_type": "stream",
          "text": "Lossy conversion from float64 to uint8. Range [0, 1]. Convert image to uint8 prior to saving to suppress this warning.\n\nLossy conversion from float64 to uint8. Range [0, 1]. Convert image to uint8 prior to saving to suppress this warning.\n"
        },
        {
          "name": "stdout",
          "output_type": "stream",
          "text": "Finished:  1395\n\nFilename:  #frac{75}{111}#beta^3-691 #leq -541_29572.jpg\n\nFinished:  1396\n\nFilename:  #frac{874}{825}y^4+923 #leq 1858_35464.jpg\n"
        },
        {
          "name": "stderr",
          "output_type": "stream",
          "text": "Lossy conversion from float64 to uint8. Range [0, 1]. Convert image to uint8 prior to saving to suppress this warning.\n"
        },
        {
          "name": "stdout",
          "output_type": "stream",
          "text": "Finished:  1397\n\nFilename:  #frac{189}{163}-882 = -693_13884.jpg\n"
        },
        {
          "name": "stderr",
          "output_type": "stream",
          "text": "Lossy conversion from float64 to uint8. Range [0, 1]. Convert image to uint8 prior to saving to suppress this warning.\n\nLossy conversion from float64 to uint8. Range [0, 1]. Convert image to uint8 prior to saving to suppress this warning.\n"
        },
        {
          "name": "stdout",
          "output_type": "stream",
          "text": "Finished:  1398\n\nFilename:  #frac{527}{943}x^2+291 #neq 855_27901.jpg\n"
        },
        {
          "name": "stderr",
          "output_type": "stream",
          "text": "Lossy conversion from float64 to uint8. Range [0, 1]. Convert image to uint8 prior to saving to suppress this warning.\n\nLossy conversion from float64 to uint8. Range [0, 1]. Convert image to uint8 prior to saving to suppress this warning.\n"
        },
        {
          "name": "stdout",
          "output_type": "stream",
          "text": "Finished:  1399\n\nFilename:  #frac{317}{999}y^2-719 #geq -460_49721.jpg\n\nFinished:  1400\n\nFilename:  #frac{536}{328}#beta^4-551 #geq -40_47204.jpg\n\nFinished:  1401\n\nFilename:  #frac{351}{348}y^4-57 #neq 360_81639.jpg\n"
        },
        {
          "name": "stderr",
          "output_type": "stream",
          "text": "Lossy conversion from float64 to uint8. Range [0, 1]. Convert image to uint8 prior to saving to suppress this warning.\n\nLossy conversion from float64 to uint8. Range [0, 1]. Convert image to uint8 prior to saving to suppress this warning.\n\nLossy conversion from float64 to uint8. Range [0, 1]. Convert image to uint8 prior to saving to suppress this warning.\n"
        },
        {
          "name": "stdout",
          "output_type": "stream",
          "text": "Finished:  1402\n\nFilename:  #frac{702}{208}#beta^3+96 #leq 890_3885.jpg\n\nFinished:  1403\n\nFilename:  #frac{725}{326}x^2-421 #geq 225_31098.jpg\n\nFinished:  1404\n\nFilename:  #frac{373}{133}-845 = -472_74984.jpg\n"
        },
        {
          "name": "stderr",
          "output_type": "stream",
          "text": "Lossy conversion from float64 to uint8. Range [0, 1]. Convert image to uint8 prior to saving to suppress this warning.\n\nLossy conversion from float64 to uint8. Range [-0.5884278711484593, 1.0]. Convert image to uint8 prior to saving to suppress this warning.\n\nLossy conversion from float64 to uint8. Range [0, 1]. Convert image to uint8 prior to saving to suppress this warning.\n\nLossy conversion from float64 to uint8. Range [0, 1]. Convert image to uint8 prior to saving to suppress this warning.\n"
        },
        {
          "name": "stdout",
          "output_type": "stream",
          "text": "Finished:  1405\n\nFilename:  #frac{478}{557}#alpha^4-926 #geq -521_46916.jpg\n\nFinished:  1406\n\nFilename:  #frac{537}{225}x^4+697 #neq 1235_83063.jpg\n\nFinished:  1407\n\nFilename:  #frac{359}{830}-592 = -233_74222.jpg\n\nFinished:  1408\n\nFilename:  #frac{882}{317}x^2-293 #geq 544_8345.jpg\n"
        },
        {
          "name": "stderr",
          "output_type": "stream",
          "text": "Lossy conversion from float64 to uint8. Range [0, 1]. Convert image to uint8 prior to saving to suppress this warning.\n\nLossy conversion from float64 to uint8. Range [0, 1]. Convert image to uint8 prior to saving to suppress this warning.\n"
        },
        {
          "name": "stdout",
          "output_type": "stream",
          "text": "Finished:  1409\n\nFilename:  #frac{685}{370}+852 = 1537_83113.jpg\n\nFinished:  1410\n\nFilename:  #frac{535}{193}#beta^4-930 #leq -364_96625.jpg\n"
        },
        {
          "name": "stderr",
          "output_type": "stream",
          "text": "Lossy conversion from float64 to uint8. Range [0, 1]. Convert image to uint8 prior to saving to suppress this warning.\n\nLossy conversion from float64 to uint8. Range [0, 1]. Convert image to uint8 prior to saving to suppress this warning.\n"
        },
        {
          "name": "stdout",
          "output_type": "stream",
          "text": "Finished:  1411\n\nFilename:  #frac{945}{978}#beta^3+567 #leq 1566_16518.jpg\n\nFinished:  1412\n\nFilename:  #frac{713}{170}+787 = 1500_70571.jpg\n"
        },
        {
          "name": "stderr",
          "output_type": "stream",
          "text": "Lossy conversion from float64 to uint8. Range [0, 1]. Convert image to uint8 prior to saving to suppress this warning.\n\nLossy conversion from float64 to uint8. Range [0, 1]. Convert image to uint8 prior to saving to suppress this warning.\n\nLossy conversion from float64 to uint8. Range [0, 1]. Convert image to uint8 prior to saving to suppress this warning.\n\nLossy conversion from float64 to uint8. Range [0, 1]. Convert image to uint8 prior to saving to suppress this warning.\n"
        },
        {
          "name": "stdout",
          "output_type": "stream",
          "text": "Finished:  1413\n\nFilename:  #frac{320}{768}#beta^2-987 #geq -668_76354.jpg\n\nFinished:  1414\n\nFilename:  #frac{500}{178}+477 = 977_1389.jpg\n\nFinished:  1415\n\nFilename:  #frac{357}{97}y^2-686 #neq -243_37955.jpg\n"
        },
        {
          "name": "stderr",
          "output_type": "stream",
          "text": "Lossy conversion from float64 to uint8. Range [0, 1]. Convert image to uint8 prior to saving to suppress this warning.\n\nLossy conversion from float64 to uint8. Range [0, 1]. Convert image to uint8 prior to saving to suppress this warning.\n\nLossy conversion from float64 to uint8. Range [0, 1]. Convert image to uint8 prior to saving to suppress this warning.\n"
        },
        {
          "name": "stdout",
          "output_type": "stream",
          "text": "Finished:  1416\n\nFilename:  #frac{76}{210}x^3-85 #neq 74_39964.jpg\n\nFinished:  1417\n\nFilename:  #frac{803}{331}y^2+541 #neq 1369_93115.jpg\n\nFinished:  1418\n\nFilename:  #frac{433}{712}y^4-595 #neq -137_61678.jpg\n\nFinished:  1419\n\nFilename:  #frac{980}{891}#beta^4-435 #geq 521_52250.jpg\n"
        },
        {
          "name": "stderr",
          "output_type": "stream",
          "text": "Lossy conversion from float64 to uint8. Range [0, 1]. Convert image to uint8 prior to saving to suppress this warning.\n\nLossy conversion from float64 to uint8. Range [0, 1]. Convert image to uint8 prior to saving to suppress this warning.\n"
        },
        {
          "name": "stdout",
          "output_type": "stream",
          "text": "Finished:  1420\n\nFilename:  #frac{93}{226}-616 = -523_96282.jpg\n\nFinished:  1421\n\nFilename:  #frac{309}{940}#alpha^2+57 #neq 416_40573.jpg\n"
        },
        {
          "name": "stderr",
          "output_type": "stream",
          "text": "Lossy conversion from float64 to uint8. Range [0, 1]. Convert image to uint8 prior to saving to suppress this warning.\n\nLossy conversion from float64 to uint8. Range [0, 1]. Convert image to uint8 prior to saving to suppress this warning.\n\nLossy conversion from float64 to uint8. Range [0, 1]. Convert image to uint8 prior to saving to suppress this warning.\n"
        },
        {
          "name": "stdout",
          "output_type": "stream",
          "text": "Finished:  1422\n\nFilename:  #frac{968}{200}+840 = 1808_91273.jpg\n\nFinished:  1423\n\nFilename:  #frac{70}{409}y^4+950 #geq 947_91339.jpg\n"
        },
        {
          "name": "stderr",
          "output_type": "stream",
          "text": "Lossy conversion from float64 to uint8. Range [0, 1]. Convert image to uint8 prior to saving to suppress this warning.\n\nLossy conversion from float64 to uint8. Range [0, 1]. Convert image to uint8 prior to saving to suppress this warning.\n"
        },
        {
          "name": "stdout",
          "output_type": "stream",
          "text": "Finished:  1424\n\nFilename:  #frac{228}{498}-430 = -202_6572.jpg\n\nFinished:  1425\n\nFilename:  #frac{852}{927}#beta^2+238 #geq 1011_29462.jpg\n\nFinished:  1426\n\nFilename:  #frac{23}{664}x^2+680 #neq 791_48007.jpg\n"
        },
        {
          "name": "stderr",
          "output_type": "stream",
          "text": "Lossy conversion from float64 to uint8. Range [0, 1]. Convert image to uint8 prior to saving to suppress this warning.\n\nLossy conversion from float64 to uint8. Range [0, 1]. Convert image to uint8 prior to saving to suppress this warning.\n\nLossy conversion from float64 to uint8. Range [0, 1]. Convert image to uint8 prior to saving to suppress this warning.\n\nLossy conversion from float64 to uint8. Range [0, 1]. Convert image to uint8 prior to saving to suppress this warning.\n"
        },
        {
          "name": "stdout",
          "output_type": "stream",
          "text": "Finished:  1427\n\nFilename:  #frac{161}{334}y^2+826 #neq 1075_92424.jpg\n\nFinished:  1428\n\nFilename:  #frac{265}{521}y^4-999 #leq -686_33228.jpg\n\nFinished:  1429\n\nFilename:  #frac{196}{749}+96 = 292_41285.jpg\n"
        },
        {
          "name": "stderr",
          "output_type": "stream",
          "text": "Lossy conversion from float64 to uint8. Range [0, 1]. Convert image to uint8 prior to saving to suppress this warning.\n\nLossy conversion from float64 to uint8. Range [0, 1]. Convert image to uint8 prior to saving to suppress this warning.\n\nLossy conversion from float64 to uint8. Range [0, 1]. Convert image to uint8 prior to saving to suppress this warning.\n"
        },
        {
          "name": "stdout",
          "output_type": "stream",
          "text": "Finished:  1430\n\nFilename:  #frac{366}{212}y^3-405 #neq -4_45483.jpg\n\nFinished:  1431\n\nFilename:  #frac{295}{795}#alpha^3+734 #geq 944_97461.jpg\n\nFinished:  1432\n\nFilename:  #frac{569}{284}x^3+183 #geq 718_5962.jpg\n\nFinished:  1433\n\nFilename:  #frac{13}{906}y^4-605 #geq -598_12081.jpg\n"
        },
        {
          "name": "stderr",
          "output_type": "stream",
          "text": "Lossy conversion from float64 to uint8. Range [0, 1]. Convert image to uint8 prior to saving to suppress this warning.\n\nLossy conversion from float64 to uint8. Range [0, 1]. Convert image to uint8 prior to saving to suppress this warning.\n\nLossy conversion from float64 to uint8. Range [0, 1]. Convert image to uint8 prior to saving to suppress this warning.\n\nLossy conversion from float64 to uint8. Range [0, 1]. Convert image to uint8 prior to saving to suppress this warning.\n"
        },
        {
          "name": "stdout",
          "output_type": "stream",
          "text": "Finished:  1434\n\nFilename:  #frac{650}{94}x^3+806 #neq 1487_40417.jpg\n\nFinished:  1435\n\nFilename:  #frac{160}{278}x^4-418 #neq -253_17599.jpg\n\nFinished:  1436\n\nFilename:  #frac{263}{916}x^2-572 #geq -349_39472.jpg\n"
        },
        {
          "name": "stderr",
          "output_type": "stream",
          "text": "Lossy conversion from float64 to uint8. Range [0, 1]. Convert image to uint8 prior to saving to suppress this warning.\n"
        },
        {
          "name": "stdout",
          "output_type": "stream",
          "text": "Finished:  1437\n\nFilename:  #frac{890}{671}#alpha^4+846 #leq 1756_55919.jpg\n\nFinished:  1438\n\nFilename:  #frac{462}{428}#beta^3-560 #geq -136_37683.jpg\n"
        },
        {
          "name": "stderr",
          "output_type": "stream",
          "text": "Lossy conversion from float64 to uint8. Range [0, 1]. Convert image to uint8 prior to saving to suppress this warning.\n\nLossy conversion from float64 to uint8. Range [-0.0035793363137631164, 1.0]. Convert image to uint8 prior to saving to suppress this warning.\n\nLossy conversion from float64 to uint8. Range [0, 1]. Convert image to uint8 prior to saving to suppress this warning.\n\nLossy conversion from float64 to uint8. Range [0, 1]. Convert image to uint8 prior to saving to suppress this warning.\n"
        },
        {
          "name": "stdout",
          "output_type": "stream",
          "text": "Finished:  1439\n\nFilename:  #frac{848}{162}#alpha^2+287 #leq 1168_17369.jpg\n\nFinished:  1440\n\nFilename:  #frac{152}{348}#beta^3-931 #geq -824_44905.jpg\n\nFinished:  1441\n\nFilename:  #frac{329}{621}+19 = 348_5732.jpg\n\nFinished:  1442\n"
        },
        {
          "name": "stderr",
          "output_type": "stream",
          "text": "Lossy conversion from float64 to uint8. Range [0, 1]. Convert image to uint8 prior to saving to suppress this warning.\n\nLossy conversion from float64 to uint8. Range [0, 1]. Convert image to uint8 prior to saving to suppress this warning.\n\nLossy conversion from float64 to uint8. Range [0, 1]. Convert image to uint8 prior to saving to suppress this warning.\n"
        },
        {
          "name": "stdout",
          "output_type": "stream",
          "text": "Filename:  #frac{834}{388}-713 = 121_99089.jpg\n\nFinished:  1443\n\nFilename:  #frac{42}{388}#beta^3+272 #neq 396_85759.jpg\n\nFinished:  1444\n\nFilename:  #frac{211}{741}#alpha^3+373 #geq 533_5060.jpg\n\nFinished:  1445\n\nFilename:  #frac{359}{88}y^4-270 #geq 88_58021.jpg\n"
        },
        {
          "name": "stderr",
          "output_type": "stream",
          "text": "Lossy conversion from float64 to uint8. Range [0, 1]. Convert image to uint8 prior to saving to suppress this warning.\n\nLossy conversion from float64 to uint8. Range [0, 1]. Convert image to uint8 prior to saving to suppress this warning.\n\nLossy conversion from float64 to uint8. Range [0, 1]. Convert image to uint8 prior to saving to suppress this warning.\n\nLossy conversion from float64 to uint8. Range [0, 1]. Convert image to uint8 prior to saving to suppress this warning.\n"
        },
        {
          "name": "stdout",
          "output_type": "stream",
          "text": "Finished:  1446\n\nFilename:  #frac{426}{106}#alpha^2+612 #leq 1130_57693.jpg\n\nFinished:  1447\n\nFilename:  #frac{68}{542}y^4+810 #neq 978_35990.jpg\n\nFinished:  1448\n\nFilename:  #frac{368}{12}#beta^3+473 #neq 867_13617.jpg\n"
        },
        {
          "name": "stderr",
          "output_type": "stream",
          "text": "Lossy conversion from float64 to uint8. Range [0, 1]. Convert image to uint8 prior to saving to suppress this warning.\n\nLossy conversion from float64 to uint8. Range [0, 1]. Convert image to uint8 prior to saving to suppress this warning.\n\nLossy conversion from float64 to uint8. Range [0, 1]. Convert image to uint8 prior to saving to suppress this warning.\n"
        },
        {
          "name": "stdout",
          "output_type": "stream",
          "text": "Finished:  1449\n\nFilename:  #frac{181}{411}x^3-96 #leq 176_18913.jpg\n\nFinished:  1450\n\nFilename:  #frac{579}{688}#alpha^2-207 #geq 324_79791.jpg\n\nFinished:  1451\n\nFilename:  #frac{370}{792}x^4-233 #leq 203_41909.jpg\n\nFinished:  1452\n\nFilename:  #frac{932}{549}+150 = 1082_21223.jpg\n"
        },
        {
          "name": "stderr",
          "output_type": "stream",
          "text": "Lossy conversion from float64 to uint8. Range [0, 1]. Convert image to uint8 prior to saving to suppress this warning.\n\nLossy conversion from float64 to uint8. Range [0, 1]. Convert image to uint8 prior to saving to suppress this warning.\n\nLossy conversion from float64 to uint8. Range [0, 1]. Convert image to uint8 prior to saving to suppress this warning.\n\nLossy conversion from float64 to uint8. Range [0, 1]. Convert image to uint8 prior to saving to suppress this warning.\n"
        },
        {
          "name": "stdout",
          "output_type": "stream",
          "text": "Finished:  1453\n\nFilename:  #frac{672}{128}#beta^4+979 #geq 1558_82501.jpg\n\nFinished:  1454\n\nFilename:  #frac{375}{524}x^2+471 #leq 905_28224.jpg\n\nFinished:  1455\n\nFilename:  #frac{173}{123}+237 = 410_29634.jpg\n\nFinished:  1456\n\nFilename:  #frac{176}{31}x^2-858 #neq -614_68422.jpg\n"
        },
        {
          "name": "stderr",
          "output_type": "stream",
          "text": "Lossy conversion from float64 to uint8. Range [0, 1]. Convert image to uint8 prior to saving to suppress this warning.\n\nLossy conversion from float64 to uint8. Range [0, 1]. Convert image to uint8 prior to saving to suppress this warning.\n\nLossy conversion from float64 to uint8. Range [0, 1]. Convert image to uint8 prior to saving to suppress this warning.\n"
        },
        {
          "name": "stdout",
          "output_type": "stream",
          "text": "Finished:  1457\n\nFilename:  #frac{667}{283}-918 = -251_97739.jpg\n\nFinished:  1458\n\nFilename:  #frac{549}{710}#alpha^2+413 #neq 1014_45858.jpg\n"
        },
        {
          "name": "stderr",
          "output_type": "stream",
          "text": "Lossy conversion from float64 to uint8. Range [0, 1]. Convert image to uint8 prior to saving to suppress this warning.\n"
        },
        {
          "name": "stdout",
          "output_type": "stream",
          "text": "Finished:  1459\n\nFilename:  #frac{589}{633}#alpha^2-200 #geq 304_63051.jpg\n\nFinished:  1460\n\nFilename:  #frac{596}{921}+320 = 916_72932.jpg\n"
        },
        {
          "name": "stderr",
          "output_type": "stream",
          "text": "Lossy conversion from float64 to uint8. Range [0, 1]. Convert image to uint8 prior to saving to suppress this warning.\n\nLossy conversion from float64 to uint8. Range [0, 1]. Convert image to uint8 prior to saving to suppress this warning.\n\nLossy conversion from float64 to uint8. Range [0, 1]. Convert image to uint8 prior to saving to suppress this warning.\n"
        },
        {
          "name": "stdout",
          "output_type": "stream",
          "text": "Finished:  1461\n\nFilename:  #frac{855}{600}#alpha^2+367 #leq 1293_18719.jpg\n\nFinished:  1462\n\nFilename:  #frac{826}{754}y^2+893 #geq 1657_79008.jpg\n\nFinished:  1463\n\nFilename:  #frac{161}{269}x^2+37 #neq 249_2876.jpg\n"
        },
        {
          "name": "stderr",
          "output_type": "stream",
          "text": "Lossy conversion from float64 to uint8. Range [0, 1]. Convert image to uint8 prior to saving to suppress this warning.\n\nLossy conversion from float64 to uint8. Range [0, 1]. Convert image to uint8 prior to saving to suppress this warning.\n\nLossy conversion from float64 to uint8. Range [0, 1]. Convert image to uint8 prior to saving to suppress this warning.\n\nLossy conversion from float64 to uint8. Range [0, 1]. Convert image to uint8 prior to saving to suppress this warning.\n"
        },
        {
          "name": "stdout",
          "output_type": "stream",
          "text": "Finished:  1464\n\nFilename:  #frac{23}{84}x^2-78 #geq -120_44879.jpg\n\nFinished:  1465\n\nFilename:  #frac{236}{315}-111 = 125_62303.jpg\n\nFinished:  1466\n\nFilename:  #frac{547}{312}y^2-875 #geq -391_5825.jpg\n\nFinished:  1467\n\nFilename:  #frac{385}{640}-275 = 110_76061.jpg\n"
        },
        {
          "name": "stderr",
          "output_type": "stream",
          "text": "Lossy conversion from float64 to uint8. Range [0, 1]. Convert image to uint8 prior to saving to suppress this warning.\n\nLossy conversion from float64 to uint8. Range [0, 1]. Convert image to uint8 prior to saving to suppress this warning.\n\nLossy conversion from float64 to uint8. Range [0, 1]. Convert image to uint8 prior to saving to suppress this warning.\n"
        },
        {
          "name": "stdout",
          "output_type": "stream",
          "text": "Finished:  1468\n\nFilename:  #frac{603}{238}#alpha^3-676 #geq -121_78149.jpg\n\nFinished:  1469\n\nFilename:  #frac{428}{705}#alpha^4+743 #geq 1165_63741.jpg\n\nFinished:  1470\n\nFilename:  #frac{115}{583}#alpha^2+88 #neq 213_86975.jpg\n"
        },
        {
          "name": "stderr",
          "output_type": "stream",
          "text": "Lossy conversion from float64 to uint8. Range [0, 1]. Convert image to uint8 prior to saving to suppress this warning.\n\nLossy conversion from float64 to uint8. Range [0, 1]. Convert image to uint8 prior to saving to suppress this warning.\n\nLossy conversion from float64 to uint8. Range [0, 1]. Convert image to uint8 prior to saving to suppress this warning.\n"
        },
        {
          "name": "stdout",
          "output_type": "stream",
          "text": "Finished:  1471\n\nFilename:  #frac{78}{18}#alpha^3+923 #leq 1091_88934.jpg\n\nFinished:  1472\n\nFilename:  #frac{259}{134}y^2-942 #leq -585_44623.jpg\n\nFinished:  1473\n"
        },
        {
          "name": "stderr",
          "output_type": "stream",
          "text": "Lossy conversion from float64 to uint8. Range [-0.0029411764705882353, 1.0]. Convert image to uint8 prior to saving to suppress this warning.\n\nLossy conversion from float64 to uint8. Range [0, 1]. Convert image to uint8 prior to saving to suppress this warning.\n\nLossy conversion from float64 to uint8. Range [0, 1]. Convert image to uint8 prior to saving to suppress this warning.\n"
        },
        {
          "name": "stdout",
          "output_type": "stream",
          "text": "Filename:  #frac{649}{164}#beta^2+571 #neq 1275_90624.jpg\n\nFinished:  1474\n\nFilename:  #frac{98}{589}#beta^3-797 #neq -647_47791.jpg\n\nFinished:  1475\n\nFilename:  #frac{881}{498}y^2-429 #leq 481_64858.jpg\n\nFinished:  1476\n\nFilename:  #frac{945}{108}y^3-261 #leq 772_12343.jpg\n"
        },
        {
          "name": "stderr",
          "output_type": "stream",
          "text": "Lossy conversion from float64 to uint8. Range [0, 1]. Convert image to uint8 prior to saving to suppress this warning.\n\nLossy conversion from float64 to uint8. Range [0, 1]. Convert image to uint8 prior to saving to suppress this warning.\n\nLossy conversion from float64 to uint8. Range [0, 1]. Convert image to uint8 prior to saving to suppress this warning.\n\nLossy conversion from float64 to uint8. Range [0, 1]. Convert image to uint8 prior to saving to suppress this warning.\n"
        },
        {
          "name": "stdout",
          "output_type": "stream",
          "text": "Finished:  1477\n\nFilename:  #frac{892}{23}+915 = 1807_98076.jpg\n\nFinished:  1478\n\nFilename:  #frac{198}{914}#beta^3+984 #leq 1261_57303.jpg\n\nFinished:  1479\n\nFilename:  #frac{912}{667}-324 = 588_10532.jpg\n\nFinished:  1480\n\nFilename:  #frac{557}{744}#alpha^3+526 #neq 1172_66297.jpg\n"
        },
        {
          "name": "stderr",
          "output_type": "stream",
          "text": "Lossy conversion from float64 to uint8. Range [0, 1]. Convert image to uint8 prior to saving to suppress this warning.\n\nLossy conversion from float64 to uint8. Range [0, 1]. Convert image to uint8 prior to saving to suppress this warning.\n"
        },
        {
          "name": "stdout",
          "output_type": "stream",
          "text": "Finished:  1481\n\nFilename:  #frac{153}{21}x^3+336 #neq 527_19631.jpg\n\nFinished:  1482\n\nFilename:  #frac{596}{114}x^4+416 #neq 1032_32286.jpg\n"
        },
        {
          "name": "stderr",
          "output_type": "stream",
          "text": "Lossy conversion from float64 to uint8. Range [0, 1]. Convert image to uint8 prior to saving to suppress this warning.\n\nLossy conversion from float64 to uint8. Range [0, 1]. Convert image to uint8 prior to saving to suppress this warning.\n\nLossy conversion from float64 to uint8. Range [0, 1]. Convert image to uint8 prior to saving to suppress this warning.\n"
        },
        {
          "name": "stdout",
          "output_type": "stream",
          "text": "Finished:  1483\n\nFilename:  #frac{755}{500}-110 = 645_98726.jpg\n\nFinished:  1484\n\nFilename:  #frac{162}{928}#alpha^3+199 #neq 445_45314.jpg\n\nFinished:  1485\n\nFilename:  #frac{942}{234}#alpha^4+697 #geq 1592_78505.jpg\n"
        },
        {
          "name": "stderr",
          "output_type": "stream",
          "text": "Lossy conversion from float64 to uint8. Range [0, 1]. Convert image to uint8 prior to saving to suppress this warning.\n\nLossy conversion from float64 to uint8. Range [0, 1]. Convert image to uint8 prior to saving to suppress this warning.\n\nLossy conversion from float64 to uint8. Range [0, 1]. Convert image to uint8 prior to saving to suppress this warning.\n\nLossy conversion from float64 to uint8. Range [0, 1]. Convert image to uint8 prior to saving to suppress this warning.\n"
        },
        {
          "name": "stdout",
          "output_type": "stream",
          "text": "Finished:  1486\n\nFilename:  #frac{839}{275}y^3-360 #geq 456_46486.jpg\n\nFinished:  1487\n\nFilename:  #frac{23}{250}y^3-481 #leq -404_83140.jpg\n\nFinished:  1488\n\nFilename:  #frac{156}{810}x^4-666 #geq -583_27638.jpg\n"
        },
        {
          "name": "stderr",
          "output_type": "stream",
          "text": "Lossy conversion from float64 to uint8. Range [0, 1]. Convert image to uint8 prior to saving to suppress this warning.\n\nLossy conversion from float64 to uint8. Range [0, 1]. Convert image to uint8 prior to saving to suppress this warning.\n\nLossy conversion from float64 to uint8. Range [0, 1]. Convert image to uint8 prior to saving to suppress this warning.\n"
        },
        {
          "name": "stdout",
          "output_type": "stream",
          "text": "Finished:  1489\n\nFilename:  #frac{77}{410}#beta^4+992 #neq 1109_10965.jpg\n\nFinished:  1490\n\nFilename:  #frac{48}{469}#beta^2-914 #neq -798_49630.jpg\n\nFinished:  1491\n\nFilename:  #frac{437}{119}y^3+153 #geq 589_99900.jpg\n\nFinished:  1492\n\nFilename:  #frac{642}{333}-875 = -233_56662.jpg\n"
        },
        {
          "name": "stderr",
          "output_type": "stream",
          "text": "Lossy conversion from float64 to uint8. Range [0, 1]. Convert image to uint8 prior to saving to suppress this warning.\n\nLossy conversion from float64 to uint8. Range [0, 1]. Convert image to uint8 prior to saving to suppress this warning.\n\nLossy conversion from float64 to uint8. Range [0, 1]. Convert image to uint8 prior to saving to suppress this warning.\n"
        },
        {
          "name": "stdout",
          "output_type": "stream",
          "text": "Finished:  1493\n\nFilename:  #frac{76}{282}-933 = -857_14197.jpg\n\nFinished:  1494\n\nFilename:  #frac{719}{264}+347 = 1066_40567.jpg\n\nFinished:  1495\n\nFilename:  #frac{709}{14}#alpha^4+471 #geq 1138_56667.jpg\n"
        },
        {
          "name": "stderr",
          "output_type": "stream",
          "text": "Lossy conversion from float64 to uint8. Range [0, 1]. Convert image to uint8 prior to saving to suppress this warning.\n\nLossy conversion from float64 to uint8. Range [0, 1]. Convert image to uint8 prior to saving to suppress this warning.\n\nLossy conversion from float64 to uint8. Range [0, 1]. Convert image to uint8 prior to saving to suppress this warning.\n\nLossy conversion from float64 to uint8. Range [0, 1]. Convert image to uint8 prior to saving to suppress this warning.\n"
        },
        {
          "name": "stdout",
          "output_type": "stream",
          "text": "Finished:  1496\n\nFilename:  #frac{466}{203}#alpha^4+665 #neq 1190_13995.jpg\n\nFinished:  1497\n\nFilename:  #frac{205}{954}x^3+24 #leq 248_68199.jpg\n\nFinished:  1498\n\nFilename:  #frac{835}{108}#alpha^3-178 #leq 743_23061.jpg\n"
        },
        {
          "name": "stderr",
          "output_type": "stream",
          "text": "Lossy conversion from float64 to uint8. Range [0, 1]. Convert image to uint8 prior to saving to suppress this warning.\n\nLossy conversion from float64 to uint8. Range [0, 1]. Convert image to uint8 prior to saving to suppress this warning.\n\nLossy conversion from float64 to uint8. Range [0, 1]. Convert image to uint8 prior to saving to suppress this warning.\n\nLossy conversion from float64 to uint8. Range [0, 1]. Convert image to uint8 prior to saving to suppress this warning.\n"
        },
        {
          "name": "stdout",
          "output_type": "stream",
          "text": "Finished:  1499\n\nFilename:  #frac{938}{19}y^3-680 #geq 184_47691.jpg\n\nFinished:  1500\n\nFilename:  #frac{981}{789}+867 = 1848_27268.jpg\n\nFinished:  1501\n\nFilename:  #frac{268}{409}#beta^2+487 #neq 824_39871.jpg\n\nFinished:  1502\n\nFilename:  #frac{41}{263}#beta^4+314 #geq 333_61649.jpg\n"
        },
        {
          "name": "stderr",
          "output_type": "stream",
          "text": "Lossy conversion from float64 to uint8. Range [0, 1]. Convert image to uint8 prior to saving to suppress this warning.\n\nLossy conversion from float64 to uint8. Range [0, 1]. Convert image to uint8 prior to saving to suppress this warning.\n"
        },
        {
          "name": "stdout",
          "output_type": "stream",
          "text": "Finished:  1503\n\nFilename:  #frac{808}{439}+313 = 1121_64437.jpg\n\nFinished:  1504\n\nFilename:  #frac{793}{873}#alpha^4+891 #leq 1764_87154.jpg\n\nFinished:  1505\n\nFilename:  #frac{949}{945}y^4-255 #geq 658_72978.jpg\n"
        },
        {
          "name": "stderr",
          "output_type": "stream",
          "text": "Lossy conversion from float64 to uint8. Range [0, 1]. Convert image to uint8 prior to saving to suppress this warning.\n\nLossy conversion from float64 to uint8. Range [0, 1]. Convert image to uint8 prior to saving to suppress this warning.\n\nLossy conversion from float64 to uint8. Range [0, 1]. Convert image to uint8 prior to saving to suppress this warning.\n"
        },
        {
          "name": "stdout",
          "output_type": "stream",
          "text": "Finished:  1506\n\nFilename:  #frac{468}{577}#beta^4+212 #neq 716_30989.jpg\n\nFinished:  1507\n\nFilename:  #frac{98}{414}x^3-294 #geq -272_92950.jpg\n"
        },
        {
          "name": "stderr",
          "output_type": "stream",
          "text": "Lossy conversion from float64 to uint8. Range [0, 1]. Convert image to uint8 prior to saving to suppress this warning.\n\nLossy conversion from float64 to uint8. Range [0, 1]. Convert image to uint8 prior to saving to suppress this warning.\n\nLossy conversion from float64 to uint8. Range [-0.6923076923076935, 1.0]. Convert image to uint8 prior to saving to suppress this warning.\n"
        },
        {
          "name": "stdout",
          "output_type": "stream",
          "text": "Finished:  1508\n\nFilename:  #frac{434}{845}+763 = 1197_83907.jpg\n\nFinished:  1509\n\nFilename:  #frac{495}{985}y^3+561 #neq 1060_62407.jpg\n\nFinished:  1510\n\nFilename:  #frac{371}{212}-579 = -208_96491.jpg\n\nFinished:  1511\n\nFilename:  #frac{841}{530}y^4+573 #geq 1315_66851.jpg\n"
        },
        {
          "name": "stderr",
          "output_type": "stream",
          "text": "Lossy conversion from float64 to uint8. Range [0, 1]. Convert image to uint8 prior to saving to suppress this warning.\n\nLossy conversion from float64 to uint8. Range [0, 1]. Convert image to uint8 prior to saving to suppress this warning.\n\nLossy conversion from float64 to uint8. Range [0, 1]. Convert image to uint8 prior to saving to suppress this warning.\n\nLossy conversion from float64 to uint8. Range [0, 1]. Convert image to uint8 prior to saving to suppress this warning.\n"
        },
        {
          "name": "stdout",
          "output_type": "stream",
          "text": "Finished:  1512\n\nFilename:  #frac{508}{889}y^2+942 #neq 1472_44783.jpg\n\nFinished:  1513\n\nFilename:  #frac{118}{279}#beta^3+545 #geq 619_73362.jpg\n\nFinished:  1514\n\nFilename:  #frac{619}{874}y^2-828 #neq -120_29717.jpg\n\nFinished:  1515\n"
        },
        {
          "name": "stderr",
          "output_type": "stream",
          "text": "Lossy conversion from float64 to uint8. Range [0, 1]. Convert image to uint8 prior to saving to suppress this warning.\n\nLossy conversion from float64 to uint8. Range [0, 1]. Convert image to uint8 prior to saving to suppress this warning.\n"
        },
        {
          "name": "stdout",
          "output_type": "stream",
          "text": "Filename:  #frac{868}{359}#alpha^2-69 #neq 873_95008.jpg\n\nFinished:  1516\n\nFilename:  #frac{864}{847}#beta^4+134 #leq 1019_44380.jpg\n\nFinished:  1517\n\nFilename:  #frac{183}{313}#beta^2-378 #neq -190_96333.jpg\n"
        },
        {
          "name": "stderr",
          "output_type": "stream",
          "text": "Lossy conversion from float64 to uint8. Range [0, 1]. Convert image to uint8 prior to saving to suppress this warning.\n\nLossy conversion from float64 to uint8. Range [0, 1]. Convert image to uint8 prior to saving to suppress this warning.\n\nLossy conversion from float64 to uint8. Range [0, 1]. Convert image to uint8 prior to saving to suppress this warning.\n"
        },
        {
          "name": "stdout",
          "output_type": "stream",
          "text": "Finished:  1518\n\nFilename:  #frac{829}{67}-154 = 675_72112.jpg\n\nFinished:  1519\n\nFilename:  #frac{490}{193}-511 = -21_83525.jpg\n"
        },
        {
          "name": "stderr",
          "output_type": "stream",
          "text": "Lossy conversion from float64 to uint8. Range [0, 1]. Convert image to uint8 prior to saving to suppress this warning.\n\nLossy conversion from float64 to uint8. Range [0, 1]. Convert image to uint8 prior to saving to suppress this warning.\n"
        },
        {
          "name": "stdout",
          "output_type": "stream",
          "text": "Finished:  1520\n\nFilename:  #frac{240}{950}x^4-41 #geq 154_91588.jpg\n\nFinished:  1521\n\nFilename:  #frac{47}{547}+715 = 762_20285.jpg\n\nFinished:  1522\n\nFilename:  #frac{707}{912}#alpha^4-634 #neq 85_79650.jpg\n"
        },
        {
          "name": "stderr",
          "output_type": "stream",
          "text": "Lossy conversion from float64 to uint8. Range [0, 1]. Convert image to uint8 prior to saving to suppress this warning.\n\nLossy conversion from float64 to uint8. Range [0, 1]. Convert image to uint8 prior to saving to suppress this warning.\n\nLossy conversion from float64 to uint8. Range [0, 1]. Convert image to uint8 prior to saving to suppress this warning.\n"
        },
        {
          "name": "stdout",
          "output_type": "stream",
          "text": "Finished:  1523\n\nFilename:  #frac{372}{574}#beta^3+666 #neq 1070_49912.jpg\n\nFinished:  1524\n\nFilename:  #frac{831}{299}y^4+599 #neq 1509_34359.jpg\n\nFinished:  1525\n\nFilename:  #frac{120}{85}#alpha^2-255 #geq -152_81841.jpg\n"
        },
        {
          "name": "stderr",
          "output_type": "stream",
          "text": "Lossy conversion from float64 to uint8. Range [0, 1]. Convert image to uint8 prior to saving to suppress this warning.\n\nLossy conversion from float64 to uint8. Range [0, 1]. Convert image to uint8 prior to saving to suppress this warning.\n\nLossy conversion from float64 to uint8. Range [0, 1]. Convert image to uint8 prior to saving to suppress this warning.\n\nLossy conversion from float64 to uint8. Range [0, 1]. Convert image to uint8 prior to saving to suppress this warning.\n"
        },
        {
          "name": "stdout",
          "output_type": "stream",
          "text": "Finished:  1526\n\nFilename:  #frac{817}{468}-490 = 327_58253.jpg\n\nFinished:  1527\n\nFilename:  #frac{132}{454}#beta^4+579 #leq 757_74379.jpg\n\nFinished:  1528\n\nFilename:  #frac{919}{497}y^2+352 #geq 1240_23323.jpg\n"
        },
        {
          "name": "stderr",
          "output_type": "stream",
          "text": "Lossy conversion from float64 to uint8. Range [0, 1]. Convert image to uint8 prior to saving to suppress this warning.\n"
        },
        {
          "name": "stdout",
          "output_type": "stream",
          "text": "Finished:  1529\n\nFilename:  #frac{216}{616}#beta^4+915 #neq 1158_43335.jpg\n\nFinished:  1530\n\nFilename:  #frac{516}{71}#beta^4-315 #leq 293_53632.jpg\n"
        },
        {
          "name": "stderr",
          "output_type": "stream",
          "text": "Lossy conversion from float64 to uint8. Range [0, 1]. Convert image to uint8 prior to saving to suppress this warning.\n\nLossy conversion from float64 to uint8. Range [-1.0, 1.0]. Convert image to uint8 prior to saving to suppress this warning.\n\nLossy conversion from float64 to uint8. Range [0, 1]. Convert image to uint8 prior to saving to suppress this warning.\n"
        },
        {
          "name": "stdout",
          "output_type": "stream",
          "text": "Finished:  1531\n\nFilename:  #frac{220}{325}#beta^2-797 #leq -552_57060.jpg\n\nFinished:  1532\n\nFilename:  #frac{58}{418}#alpha^2+571 #geq 608_3140.jpg\n\nFinished:  1533\n"
        },
        {
          "name": "stderr",
          "output_type": "stream",
          "text": "Lossy conversion from float64 to uint8. Range [0, 1]. Convert image to uint8 prior to saving to suppress this warning.\n\nLossy conversion from float64 to uint8. Range [0, 1]. Convert image to uint8 prior to saving to suppress this warning.\n\nLossy conversion from float64 to uint8. Range [0, 1]. Convert image to uint8 prior to saving to suppress this warning.\n"
        },
        {
          "name": "stdout",
          "output_type": "stream",
          "text": "Filename:  #frac{180}{754}#alpha^2+956 #neq 1155_32572.jpg\n\nFinished:  1534\n\nFilename:  #frac{856}{913}+823 = 1679_2101.jpg\n\nFinished:  1535\n\nFilename:  #frac{729}{901}#alpha^2+75 #neq 834_47510.jpg\n"
        },
        {
          "name": "stderr",
          "output_type": "stream",
          "text": "Lossy conversion from float64 to uint8. Range [0, 1]. Convert image to uint8 prior to saving to suppress this warning.\n\nLossy conversion from float64 to uint8. Range [0, 1]. Convert image to uint8 prior to saving to suppress this warning.\n\nLossy conversion from float64 to uint8. Range [0, 1]. Convert image to uint8 prior to saving to suppress this warning.\n"
        },
        {
          "name": "stdout",
          "output_type": "stream",
          "text": "Finished:  1536\n\nFilename:  #frac{198}{811}x^4-104 #leq 112_88651.jpg\n\nFinished:  1537\n\nFilename:  #frac{18}{478}y^2+313 #leq 410_54508.jpg\n\nFinished:  1538\n\nFilename:  #frac{612}{858}#beta^4+998 #neq 1696_49985.jpg\n\nFinished:  1539\n\nFilename:  #frac{419}{116}#beta^4-789 #leq -290_16803.jpg\n"
        },
        {
          "name": "stderr",
          "output_type": "stream",
          "text": "Lossy conversion from float64 to uint8. Range [0, 1]. Convert image to uint8 prior to saving to suppress this warning.\n\nLossy conversion from float64 to uint8. Range [0, 1]. Convert image to uint8 prior to saving to suppress this warning.\n\nLossy conversion from float64 to uint8. Range [0, 1]. Convert image to uint8 prior to saving to suppress this warning.\n\nLossy conversion from float64 to uint8. Range [0, 1]. Convert image to uint8 prior to saving to suppress this warning.\n"
        },
        {
          "name": "stdout",
          "output_type": "stream",
          "text": "Finished:  1540\n\nFilename:  #frac{215}{711}#alpha^2+437 #neq 684_4051.jpg\n\nFinished:  1541\n\nFilename:  #frac{904}{953}y^2+924 #neq 1849_98020.jpg\n\nFinished:  1542\n\nFilename:  #frac{966}{911}x^3-394 #neq 637_70715.jpg\n"
        },
        {
          "name": "stderr",
          "output_type": "stream",
          "text": "Lossy conversion from float64 to uint8. Range [0, 1]. Convert image to uint8 prior to saving to suppress this warning.\n\nLossy conversion from float64 to uint8. Range [0, 1]. Convert image to uint8 prior to saving to suppress this warning.\n"
        },
        {
          "name": "stdout",
          "output_type": "stream",
          "text": "Finished:  1543\n\nFilename:  #frac{216}{830}-744 = -528_2264.jpg\n\nFinished:  1544\n\nFilename:  #frac{53}{361}x^4-636 #leq -492_43494.jpg\n\nFinished:  1545\n\nFilename:  #frac{194}{378}#alpha^2+625 #geq 770_88460.jpg\n"
        },
        {
          "name": "stderr",
          "output_type": "stream",
          "text": "Lossy conversion from float64 to uint8. Range [0, 1]. Convert image to uint8 prior to saving to suppress this warning.\n\nLossy conversion from float64 to uint8. Range [0, 1]. Convert image to uint8 prior to saving to suppress this warning.\n\nLossy conversion from float64 to uint8. Range [0, 1]. Convert image to uint8 prior to saving to suppress this warning.\n\nLossy conversion from float64 to uint8. Range [0, 1]. Convert image to uint8 prior to saving to suppress this warning.\n"
        },
        {
          "name": "stdout",
          "output_type": "stream",
          "text": "Finished:  1546\n\nFilename:  #frac{414}{403}x^4-810 #neq -395_23111.jpg\n\nFinished:  1547\n\nFilename:  #frac{171}{907}#alpha^4+657 #geq 815_83697.jpg\n\nFinished:  1548\n\nFilename:  #frac{315}{279}#beta^2+530 #leq 853_20757.jpg\n"
        },
        {
          "name": "stderr",
          "output_type": "stream",
          "text": "Lossy conversion from float64 to uint8. Range [0, 1]. Convert image to uint8 prior to saving to suppress this warning.\n\nLossy conversion from float64 to uint8. Range [0, 1]. Convert image to uint8 prior to saving to suppress this warning.\n"
        },
        {
          "name": "stdout",
          "output_type": "stream",
          "text": "Finished:  1549\n\nFilename:  #frac{154}{442}y^2-663 #geq -511_35591.jpg\n\nFinished:  1550\n\nFilename:  #frac{188}{256}y^3-333 #geq -229_95225.jpg\n\nFinished:  1551\n\nFilename:  #frac{568}{480}-924 = -356_85417.jpg\n"
        },
        {
          "name": "stderr",
          "output_type": "stream",
          "text": "Lossy conversion from float64 to uint8. Range [0, 1]. Convert image to uint8 prior to saving to suppress this warning.\n\nLossy conversion from float64 to uint8. Range [0, 1]. Convert image to uint8 prior to saving to suppress this warning.\n\nLossy conversion from float64 to uint8. Range [0, 1]. Convert image to uint8 prior to saving to suppress this warning.\n"
        },
        {
          "name": "stdout",
          "output_type": "stream",
          "text": "Finished:  1552\n\nFilename:  #frac{706}{74}#beta^4+503 #neq 1292_71960.jpg\n\nFinished:  1553\n\nFilename:  #frac{186}{678}#alpha^3+298 #geq 480_97321.jpg\n\nFinished:  1554\n\nFilename:  #frac{481}{876}#alpha^2-582 #leq -92_56518.jpg\n"
        },
        {
          "name": "stderr",
          "output_type": "stream",
          "text": "Lossy conversion from float64 to uint8. Range [0, 1]. Convert image to uint8 prior to saving to suppress this warning.\n\nLossy conversion from float64 to uint8. Range [0, 1]. Convert image to uint8 prior to saving to suppress this warning.\n\nLossy conversion from float64 to uint8. Range [0, 1]. Convert image to uint8 prior to saving to suppress this warning.\n"
        },
        {
          "name": "stdout",
          "output_type": "stream",
          "text": "Finished:  1555\n\nFilename:  #frac{609}{434}+449 = 1058_91228.jpg\n\nFinished:  1556\n\nFilename:  #frac{440}{693}x^3-52 #neq 480_65057.jpg\n\nFinished:  1557\n\nFilename:  #frac{730}{645}x^2+368 #leq 1129_67022.jpg\n"
        },
        {
          "name": "stderr",
          "output_type": "stream",
          "text": "Lossy conversion from float64 to uint8. Range [0, 1]. Convert image to uint8 prior to saving to suppress this warning.\n\nLossy conversion from float64 to uint8. Range [0, 1]. Convert image to uint8 prior to saving to suppress this warning.\n\nLossy conversion from float64 to uint8. Range [0, 1]. Convert image to uint8 prior to saving to suppress this warning.\n\nLossy conversion from float64 to uint8. Range [-0.9922480620155039, 1.0]. Convert image to uint8 prior to saving to suppress this warning.\n"
        },
        {
          "name": "stdout",
          "output_type": "stream",
          "text": "Finished:  1558\n\nFilename:  #frac{213}{25}+831 = 1044_32830.jpg\n\nFinished:  1559\n\nFilename:  #frac{421}{955}x^4+209 #geq 611_15344.jpg\n\nFinished:  1560\n\nFilename:  #frac{410}{595}#alpha^2-815 #leq -351_7040.jpg\n\nFinished:  1561\n"
        },
        {
          "name": "stderr",
          "output_type": "stream",
          "text": "Lossy conversion from float64 to uint8. Range [0, 1]. Convert image to uint8 prior to saving to suppress this warning.\n\nLossy conversion from float64 to uint8. Range [0, 1]. Convert image to uint8 prior to saving to suppress this warning.\n"
        },
        {
          "name": "stdout",
          "output_type": "stream",
          "text": "Filename:  #frac{995}{510}+523 = 1518_16763.jpg\n\nFinished:  1562\n\nFilename:  #frac{645}{366}#beta^3-112 #geq 462_92062.jpg\n\nFinished:  1563\n\nFilename:  #frac{849}{661}x^2-118 #neq 794_65718.jpg\n"
        },
        {
          "name": "stderr",
          "output_type": "stream",
          "text": "Lossy conversion from float64 to uint8. Range [0, 1]. Convert image to uint8 prior to saving to suppress this warning.\n\nLossy conversion from float64 to uint8. Range [0, 1]. Convert image to uint8 prior to saving to suppress this warning.\n\nLossy conversion from float64 to uint8. Range [0, 1]. Convert image to uint8 prior to saving to suppress this warning.\n"
        },
        {
          "name": "stdout",
          "output_type": "stream",
          "text": "Finished:  1564\n\nFilename:  #frac{454}{936}#beta^4-145 #leq 339_2853.jpg\n\nFinished:  1565\n\nFilename:  #frac{196}{298}#beta^2-217 #geq -38_15569.jpg\n\nFinished:  1566\n\nFilename:  #frac{391}{666}#alpha^2-189 #neq 255_31243.jpg\n"
        },
        {
          "name": "stderr",
          "output_type": "stream",
          "text": "Lossy conversion from float64 to uint8. Range [0, 1]. Convert image to uint8 prior to saving to suppress this warning.\n\nLossy conversion from float64 to uint8. Range [0, 1]. Convert image to uint8 prior to saving to suppress this warning.\n\nLossy conversion from float64 to uint8. Range [0, 1]. Convert image to uint8 prior to saving to suppress this warning.\n\nLossy conversion from float64 to uint8. Range [-0.34317665678795267, 1.0]. Convert image to uint8 prior to saving to suppress this warning.\n"
        },
        {
          "name": "stdout",
          "output_type": "stream",
          "text": "Finished:  1567\n\nFilename:  #frac{109}{331}x^3+67 #neq 231_3112.jpg\n\nFinished:  1568\n\nFilename:  #frac{507}{156}y^2+715 #geq 1218_66742.jpg\n\nFinished:  1569\n\nFilename:  #frac{828}{761}#beta^2-608 #leq 310_60597.jpg\n\nFinished:  1570\n"
        },
        {
          "name": "stderr",
          "output_type": "stream",
          "text": "Lossy conversion from float64 to uint8. Range [0, 1]. Convert image to uint8 prior to saving to suppress this warning.\n\nLossy conversion from float64 to uint8. Range [0, 1]. Convert image to uint8 prior to saving to suppress this warning.\n"
        },
        {
          "name": "stdout",
          "output_type": "stream",
          "text": "Filename:  #frac{520}{989}y^3+441 #geq 916_28475.jpg\n\nFinished:  1571\n\nFilename:  #frac{247}{37}-839 = -592_3397.jpg\n\nFinished:  1572\n\nFilename:  #frac{883}{645}x^2-801 #geq 42_29413.jpg\n"
        },
        {
          "name": "stderr",
          "output_type": "stream",
          "text": "Lossy conversion from float64 to uint8. Range [0, 1]. Convert image to uint8 prior to saving to suppress this warning.\n\nLossy conversion from float64 to uint8. Range [0, 1]. Convert image to uint8 prior to saving to suppress this warning.\n\nLossy conversion from float64 to uint8. Range [0, 1]. Convert image to uint8 prior to saving to suppress this warning.\n\nLossy conversion from float64 to uint8. Range [0, 1]. Convert image to uint8 prior to saving to suppress this warning.\n"
        },
        {
          "name": "stdout",
          "output_type": "stream",
          "text": "Finished:  1573\n\nFilename:  #frac{852}{666}-440 = 412_68087.jpg\n\nFinished:  1574\n\nFilename:  #frac{398}{20}-145 = 253_59136.jpg\n\nFinished:  1575\n\nFilename:  #frac{45}{788}-285 = -240_68236.jpg\n\nFinished:  1576\n"
        },
        {
          "name": "stderr",
          "output_type": "stream",
          "text": "Lossy conversion from float64 to uint8. Range [0, 1]. Convert image to uint8 prior to saving to suppress this warning.\n\nLossy conversion from float64 to uint8. Range [-0.8864508101711163, 1.0]. Convert image to uint8 prior to saving to suppress this warning.\n"
        },
        {
          "name": "stdout",
          "output_type": "stream",
          "text": "Filename:  #frac{35}{6}x^4+664 #neq 735_80029.jpg\n\nFinished:  1577\n\nFilename:  #frac{787}{159}#beta^4+100 #geq 854_34636.jpg\n\nFinished: "
        },
        {
          "name": "stderr",
          "output_type": "stream",
          "text": "Lossy conversion from float64 to uint8. Range [0, 1]. Convert image to uint8 prior to saving to suppress this warning.\n"
        },
        {
          "name": "stdout",
          "output_type": "stream",
          "text": " 1578\n\nFilename:  #frac{819}{201}#alpha^3-288 #geq 529_25159.jpg\n\nFinished:  1579\n\nFilename:  #frac{66}{422}+586 = 652_55432.jpg\n"
        },
        {
          "name": "stderr",
          "output_type": "stream",
          "text": "Lossy conversion from float64 to uint8. Range [0, 1]. Convert image to uint8 prior to saving to suppress this warning.\n\nLossy conversion from float64 to uint8. Range [0, 1]. Convert image to uint8 prior to saving to suppress this warning.\n\nLossy conversion from float64 to uint8. Range [0, 1]. Convert image to uint8 prior to saving to suppress this warning.\n"
        },
        {
          "name": "stdout",
          "output_type": "stream",
          "text": "Finished:  1580\n\nFilename:  #frac{809}{875}#alpha^2-137 #leq 768_5390.jpg\n\nFinished:  1581\n\nFilename:  #frac{201}{459}y^4+916 #neq 1144_41602.jpg\n\nFinished:  1582\n\nFilename: "
        },
        {
          "name": "stderr",
          "output_type": "stream",
          "text": "Lossy conversion from float64 to uint8. Range [0, 1]. Convert image to uint8 prior to saving to suppress this warning.\n\nLossy conversion from float64 to uint8. Range [0, 1]. Convert image to uint8 prior to saving to suppress this warning.\n\nLossy conversion from float64 to uint8. Range [0, 1]. Convert image to uint8 prior to saving to suppress this warning.\n"
        },
        {
          "name": "stdout",
          "output_type": "stream",
          "text": " #frac{885}{466}x^2+723 #leq 1634_27407.jpg\n\nFinished:  1583\n\nFilename:  #frac{415}{164}#alpha^3-959 #neq -485_84971.jpg\n\nFinished:  1584\n\nFilename:  #frac{689}{363}+706 = 1395_42520.jpg\n\nFinished:  1585\n"
        },
        {
          "name": "stderr",
          "output_type": "stream",
          "text": "Lossy conversion from float64 to uint8. Range [0, 1]. Convert image to uint8 prior to saving to suppress this warning.\n\nLossy conversion from float64 to uint8. Range [0, 1]. Convert image to uint8 prior to saving to suppress this warning.\n\nLossy conversion from float64 to uint8. Range [0, 1]. Convert image to uint8 prior to saving to suppress this warning.\n"
        },
        {
          "name": "stdout",
          "output_type": "stream",
          "text": "Filename:  #frac{361}{844}x^2-493 #leq -119_85814.jpg\n\nFinished:  1586\n\nFilename:  #frac{873}{582}#beta^2+88 #geq 907_36691.jpg\n\nFinished:  1587\n\nFilename:  #frac{995}{346}y^2-829 #geq 71_83548.jpg\n\nFinished:  1588\n\nFilename:  #frac{29}{774}+391 = 420_4296.jpg\n"
        },
        {
          "name": "stderr",
          "output_type": "stream",
          "text": "Lossy conversion from float64 to uint8. Range [0, 1]. Convert image to uint8 prior to saving to suppress this warning.\n\nLossy conversion from float64 to uint8. Range [0, 1]. Convert image to uint8 prior to saving to suppress this warning.\n\nLossy conversion from float64 to uint8. Range [0, 1]. Convert image to uint8 prior to saving to suppress this warning.\n\nLossy conversion from float64 to uint8. Range [-0.45517954169619557, 1.0]. Convert image to uint8 prior to saving to suppress this warning.\n"
        },
        {
          "name": "stdout",
          "output_type": "stream",
          "text": "Finished:  1589\n\nFilename:  #frac{407}{129}+273 = 680_44746.jpg\n\nFinished:  1590\n\nFilename:  #frac{327}{256}#alpha^2+252 #leq 588_30448.jpg\n\nFinished:  1591\n\nFilename:  #frac{624}{864}+754 = 1378_80260.jpg\n\nFinished:  1592\n\nFilename:  #frac{814}{285}#beta^2-649 #leq 181_8334.jpg\n"
        },
        {
          "name": "stderr",
          "output_type": "stream",
          "text": "Lossy conversion from float64 to uint8. Range [0, 1]. Convert image to uint8 prior to saving to suppress this warning.\n"
        },
        {
          "name": "stdout",
          "output_type": "stream",
          "text": "Finished:  1593\n\nFilename:  #frac{533}{385}#beta^3+619 #neq 1171_72456.jpg\n"
        },
        {
          "name": "stderr",
          "output_type": "stream",
          "text": "Lossy conversion from float64 to uint8. Range [0, 1]. Convert image to uint8 prior to saving to suppress this warning.\n\nLossy conversion from float64 to uint8. Range [-0.0007970234110467911, 1.0]. Convert image to uint8 prior to saving to suppress this warning.\n"
        },
        {
          "name": "stdout",
          "output_type": "stream",
          "text": "Finished:  1594\n\nFilename:  #frac{582}{793}#beta^2+667 #leq 1253_38803.jpg\n\nFinished:  1595\n\nFilename:  #frac{849}{272}x^4+420 #neq 1346_31400.jpg\n"
        },
        {
          "name": "stderr",
          "output_type": "stream",
          "text": "Lossy conversion from float64 to uint8. Range [0, 1]. Convert image to uint8 prior to saving to suppress this warning.\n"
        },
        {
          "name": "stdout",
          "output_type": "stream",
          "text": "Finished:  1596\n\nFilename:  #frac{356}{929}x^2+256 #geq 565_64149.jpg\n"
        },
        {
          "name": "stderr",
          "output_type": "stream",
          "text": "Lossy conversion from float64 to uint8. Range [0, 1]. Convert image to uint8 prior to saving to suppress this warning.\n\nLossy conversion from float64 to uint8. Range [0, 1]. Convert image to uint8 prior to saving to suppress this warning.\n"
        },
        {
          "name": "stdout",
          "output_type": "stream",
          "text": "Finished:  1597\n\nFilename:  #frac{302}{929}x^3-210 #leq 95_2036.jpg\n\nFinished:  1598\n\nFilename:  #frac{724}{585}-801 = -77_940.jpg\n"
        },
        {
          "name": "stderr",
          "output_type": "stream",
          "text": "Lossy conversion from float64 to uint8. Range [0, 1]. Convert image to uint8 prior to saving to suppress this warning.\n\nLossy conversion from float64 to uint8. Range [0, 1]. Convert image to uint8 prior to saving to suppress this warning.\n"
        },
        {
          "name": "stdout",
          "output_type": "stream",
          "text": "Finished:  1599\n\nFilename:  #frac{208}{663}x^3-44 #leq 237_57963.jpg\n\nFinished:  1600\n\nFilename:  #frac{851}{117}#beta^4+2 #leq 909_4593.jpg\n"
        },
        {
          "name": "stderr",
          "output_type": "stream",
          "text": "Lossy conversion from float64 to uint8. Range [0, 1]. Convert image to uint8 prior to saving to suppress this warning.\n\nLossy conversion from float64 to uint8. Range [-0.9421247357293833, 1.0]. Convert image to uint8 prior to saving to suppress this warning.\n"
        },
        {
          "name": "stdout",
          "output_type": "stream",
          "text": "Finished:  1601\n\nFilename:  #frac{626}{338}x^2-691 #geq -140_33084.jpg\n\nFinished:  1602\n\nFilename:  #frac{333}{449}#beta^2-332 #neq 8_42664.jpg\n"
        },
        {
          "name": "stderr",
          "output_type": "stream",
          "text": "Lossy conversion from float64 to uint8. Range [0, 1]. Convert image to uint8 prior to saving to suppress this warning.\n"
        },
        {
          "name": "stdout",
          "output_type": "stream",
          "text": "Finished:  1603\n\nFilename:  #frac{210}{181}#beta^2-369 #neq -78_423.jpg\n"
        },
        {
          "name": "stderr",
          "output_type": "stream",
          "text": "Lossy conversion from float64 to uint8. Range [0, 1]. Convert image to uint8 prior to saving to suppress this warning.\n"
        },
        {
          "name": "stdout",
          "output_type": "stream",
          "text": "Finished:  1604\n\nFilename:  #frac{450}{485}y^2-455 #leq 35_44137.jpg\n"
        },
        {
          "name": "stderr",
          "output_type": "stream",
          "text": "Lossy conversion from float64 to uint8. Range [0, 1]. Convert image to uint8 prior to saving to suppress this warning.\n\nLossy conversion from float64 to uint8. Range [0, 1]. Convert image to uint8 prior to saving to suppress this warning.\n"
        },
        {
          "name": "stdout",
          "output_type": "stream",
          "text": "Finished:  1605\n\nFilename:  #frac{194}{350}#alpha^4-892 #leq -633_67789.jpg\n"
        },
        {
          "name": "stderr",
          "output_type": "stream",
          "text": "Lossy conversion from float64 to uint8. Range [0, 1]. Convert image to uint8 prior to saving to suppress this warning.\n"
        },
        {
          "name": "stdout",
          "output_type": "stream",
          "text": "Finished:  1606\n\nFilename:  #frac{677}{747}y^4-11 #leq 668_77148.jpg\n\nFinished:  1607\n\nFilename:  #frac{823}{381}-476 = 347_62328.jpg\n"
        },
        {
          "name": "stderr",
          "output_type": "stream",
          "text": "Lossy conversion from float64 to uint8. Range [0, 1]. Convert image to uint8 prior to saving to suppress this warning.\n\nLossy conversion from float64 to uint8. Range [0, 1]. Convert image to uint8 prior to saving to suppress this warning.\n\nLossy conversion from float64 to uint8. Range [-0.0058139534883721086, 1.0]. Convert image to uint8 prior to saving to suppress this warning.\n"
        },
        {
          "name": "stdout",
          "output_type": "stream",
          "text": "Finished:  1608\n\nFilename:  #frac{668}{695}x^3-11 #geq 586_80880.jpg\n\nFinished:  1609\n\nFilename:  #frac{903}{72}x^3+99 #geq 994_94237.jpg\n\nFinished:  1610\n\nFilename:  #frac{657}{28}#beta^2+550 #geq 1137_34158.jpg\n"
        },
        {
          "name": "stderr",
          "output_type": "stream",
          "text": "Lossy conversion from float64 to uint8. Range [0, 1]. Convert image to uint8 prior to saving to suppress this warning.\n\nLossy conversion from float64 to uint8. Range [0, 1]. Convert image to uint8 prior to saving to suppress this warning.\n\nLossy conversion from float64 to uint8. Range [0, 1]. Convert image to uint8 prior to saving to suppress this warning.\n\nLossy conversion from float64 to uint8. Range [0, 1]. Convert image to uint8 prior to saving to suppress this warning.\n"
        },
        {
          "name": "stdout",
          "output_type": "stream",
          "text": "Finished:  1611\n\nFilename:  #frac{866}{190}#beta^4-254 #geq 523_61797.jpg\n\nFinished:  1612\n\nFilename:  #frac{886}{392}#beta^3+897 #neq 1822_42199.jpg\n\nFinished:  1613\n\nFilename:  #frac{823}{75}x^3+442 #geq 1252_91248.jpg\n"
        },
        {
          "name": "stderr",
          "output_type": "stream",
          "text": "Lossy conversion from float64 to uint8. Range [0, 1]. Convert image to uint8 prior to saving to suppress this warning.\n\nLossy conversion from float64 to uint8. Range [0, 1]. Convert image to uint8 prior to saving to suppress this warning.\n\nLossy conversion from float64 to uint8. Range [0, 1]. Convert image to uint8 prior to saving to suppress this warning.\n"
        },
        {
          "name": "stdout",
          "output_type": "stream",
          "text": "Finished:  1614\n\nFilename:  #frac{214}{500}y^4+951 #neq 1190_94306.jpg\n\nFinished:  1615\n\nFilename:  #frac{350}{272}y^4-82 #neq 349_49401.jpg\n\nFinished:  1616\n\nFilename:  #frac{303}{553}x^2-478 #geq -203_14433.jpg\n"
        },
        {
          "name": "stderr",
          "output_type": "stream",
          "text": "Lossy conversion from float64 to uint8. Range [0, 1]. Convert image to uint8 prior to saving to suppress this warning.\n\nLossy conversion from float64 to uint8. Range [0, 1]. Convert image to uint8 prior to saving to suppress this warning.\n"
        },
        {
          "name": "stdout",
          "output_type": "stream",
          "text": "Finished:  1617\n\nFilename:  #frac{914}{356}x^4-888 #geq 2_61494.jpg\n\nFinished:  1618\n\nFilename:  #frac{671}{663}-278 = 393_92589.jpg\n\nFinished:  1619\n\nFilename:  #frac{812}{404}#alpha^2-291 #neq 540_4457.jpg\n"
        },
        {
          "name": "stderr",
          "output_type": "stream",
          "text": "Lossy conversion from float64 to uint8. Range [0, 1]. Convert image to uint8 prior to saving to suppress this warning.\n\nLossy conversion from float64 to uint8. Range [0, 1]. Convert image to uint8 prior to saving to suppress this warning.\n\nLossy conversion from float64 to uint8. Range [0, 1]. Convert image to uint8 prior to saving to suppress this warning.\n\nLossy conversion from float64 to uint8. Range [0, 1]. Convert image to uint8 prior to saving to suppress this warning.\n"
        },
        {
          "name": "stdout",
          "output_type": "stream",
          "text": "Finished:  1620\n\nFilename:  #frac{271}{792}x^3-794 #geq -592_15493.jpg\n\nFinished:  1621\n\nFilename:  #frac{772}{112}x^2+580 #leq 1427_2841.jpg\n\nFinished:  1622\n\nFilename:  #frac{142}{766}+462 = 604_89999.jpg\n"
        },
        {
          "name": "stderr",
          "output_type": "stream",
          "text": "Lossy conversion from float64 to uint8. Range [0, 1]. Convert image to uint8 prior to saving to suppress this warning.\n\nLossy conversion from float64 to uint8. Range [0, 1]. Convert image to uint8 prior to saving to suppress this warning.\n"
        },
        {
          "name": "stdout",
          "output_type": "stream",
          "text": "Finished:  1623\n\nFilename:  #frac{918}{377}y^3-703 #geq 179_73964.jpg\n\nFinished:  1624\n\nFilename:  #frac{445}{130}#alpha^2-731 #geq -308_24892.jpg\n\nFinished:  1625\n\nFilename:  #frac{502}{1}#alpha^2+147 #geq 568_64650.jpg\n"
        },
        {
          "name": "stderr",
          "output_type": "stream",
          "text": "Lossy conversion from float64 to uint8. Range [0, 1]. Convert image to uint8 prior to saving to suppress this warning.\n\nLossy conversion from float64 to uint8. Range [0, 1]. Convert image to uint8 prior to saving to suppress this warning.\n"
        },
        {
          "name": "stdout",
          "output_type": "stream",
          "text": "Finished:  1626\n\nFilename:  #frac{249}{263}y^2+649 #neq 981_27021.jpg\n\nFinished:  1627\n\nFilename:  #frac{736}{688}+712 = 1448_25057.jpg\n"
        },
        {
          "name": "stderr",
          "output_type": "stream",
          "text": "Lossy conversion from float64 to uint8. Range [0, 1]. Convert image to uint8 prior to saving to suppress this warning.\n\nLossy conversion from float64 to uint8. Range [0, 1]. Convert image to uint8 prior to saving to suppress this warning.\n\nLossy conversion from float64 to uint8. Range [0, 1]. Convert image to uint8 prior to saving to suppress this warning.\n"
        },
        {
          "name": "stdout",
          "output_type": "stream",
          "text": "Finished:  1628\n\nFilename:  #frac{403}{319}#beta^4-21 #geq 371_24601.jpg\n\nFinished:  1629\n\nFilename:  #frac{277}{687}#beta^4+451 #leq 798_8872.jpg\n"
        },
        {
          "name": "stderr",
          "output_type": "stream",
          "text": "Lossy conversion from float64 to uint8. Range [0, 1]. Convert image to uint8 prior to saving to suppress this warning.\n\nLossy conversion from float64 to uint8. Range [0, 1]. Convert image to uint8 prior to saving to suppress this warning.\n"
        },
        {
          "name": "stdout",
          "output_type": "stream",
          "text": "Finished:  1630\n\nFilename:  #frac{643}{764}y^4-513 #geq 47_66445.jpg\n\nFinished:  1631\n\nFilename:  #frac{56}{58}-454 = -398_61590.jpg\n\nFinished:  1632\n\nFilename:  #frac{262}{30}y^4-846 #leq -549_52347.jpg\n"
        },
        {
          "name": "stderr",
          "output_type": "stream",
          "text": "Lossy conversion from float64 to uint8. Range [0, 1]. Convert image to uint8 prior to saving to suppress this warning.\n\nLossy conversion from float64 to uint8. Range [0, 1]. Convert image to uint8 prior to saving to suppress this warning.\n"
        },
        {
          "name": "stdout",
          "output_type": "stream",
          "text": "Finished:  1633\n\nFilename:  #frac{321}{175}y^3+152 #geq 446_14357.jpg\n\nFinished:  1634\n\nFilename:  #frac{600}{71}#alpha^4+702 #neq 1373_22267.jpg\n"
        },
        {
          "name": "stderr",
          "output_type": "stream",
          "text": "Lossy conversion from float64 to uint8. Range [0, 1]. Convert image to uint8 prior to saving to suppress this warning.\n\nLossy conversion from float64 to uint8. Range [0, 1]. Convert image to uint8 prior to saving to suppress this warning.\n\nLossy conversion from float64 to uint8. Range [0, 1]. Convert image to uint8 prior to saving to suppress this warning.\n"
        },
        {
          "name": "stdout",
          "output_type": "stream",
          "text": "Finished:  1635\n\nFilename:  #frac{870}{647}y^4-667 #neq 242_11583.jpg\n\nFinished:  1636\n\nFilename:  #frac{873}{19}x^4-102 #geq 729_46265.jpg\n\nFinished:  1637\n\nFilename:  #frac{304}{177}#alpha^2-99 #leq 232_32998.jpg\n"
        },
        {
          "name": "stderr",
          "output_type": "stream",
          "text": "Lossy conversion from float64 to uint8. Range [0, 1]. Convert image to uint8 prior to saving to suppress this warning.\n\nLossy conversion from float64 to uint8. Range [0, 1]. Convert image to uint8 prior to saving to suppress this warning.\n\nLossy conversion from float64 to uint8. Range [0, 1]. Convert image to uint8 prior to saving to suppress this warning.\n\nLossy conversion from float64 to uint8. Range [0, 1]. Convert image to uint8 prior to saving to suppress this warning.\n"
        },
        {
          "name": "stdout",
          "output_type": "stream",
          "text": "Finished:  1638\n\nFilename:  #frac{242}{709}x^4+943 #neq 1235_64991.jpg\n\nFinished:  1639\n\nFilename:  #frac{812}{666}x^3+537 #leq 1394_88813.jpg\n\nFinished:  1640\n\nFilename:  #frac{334}{308}#alpha^2-537 #leq -173_57779.jpg\n\nFinished:  1641\n"
        },
        {
          "name": "stderr",
          "output_type": "stream",
          "text": "Lossy conversion from float64 to uint8. Range [0, 1]. Convert image to uint8 prior to saving to suppress this warning.\n\nLossy conversion from float64 to uint8. Range [0, 1]. Convert image to uint8 prior to saving to suppress this warning.\n"
        },
        {
          "name": "stdout",
          "output_type": "stream",
          "text": "Filename:  #frac{204}{234}-693 = -489_65512.jpg\n\nFinished:  1642\n\nFilename:  #frac{73}{524}#alpha^3-927 #leq -801_99056.jpg\n\nFinished:  1643\n\nFilename:  #frac{781}{197}-227 = 554_39292.jpg\n"
        },
        {
          "name": "stderr",
          "output_type": "stream",
          "text": "Lossy conversion from float64 to uint8. Range [0, 1]. Convert image to uint8 prior to saving to suppress this warning.\n\nLossy conversion from float64 to uint8. Range [0, 1]. Convert image to uint8 prior to saving to suppress this warning.\n"
        },
        {
          "name": "stdout",
          "output_type": "stream",
          "text": "Finished:  1644\n\nFilename:  #frac{64}{291}#alpha^2+158 #geq 143_72188.jpg\n\nFinished:  1645\n\nFilename:  #frac{350}{125}+389 = 739_76971.jpg\n"
        },
        {
          "name": "stderr",
          "output_type": "stream",
          "text": "Lossy conversion from float64 to uint8. Range [0, 1]. Convert image to uint8 prior to saving to suppress this warning.\n\nLossy conversion from float64 to uint8. Range [0, 1]. Convert image to uint8 prior to saving to suppress this warning.\n\nLossy conversion from float64 to uint8. Range [0, 1]. Convert image to uint8 prior to saving to suppress this warning.\n\nLossy conversion from float64 to uint8. Range [-0.0027493606138107806, 1.0]. Convert image to uint8 prior to saving to suppress this warning.\n"
        },
        {
          "name": "stdout",
          "output_type": "stream",
          "text": "Finished:  1646\n\nFilename:  #frac{903}{892}+53 = 956_12901.jpg\n\nFinished:  1647\n\nFilename:  #frac{63}{756}#alpha^4-762 #neq -676_60930.jpg\n\nFinished:  1648\n\nFilename:  #frac{233}{968}#alpha^4+210 #geq 395_20735.jpg\n\nFinished:  1649\n\nFilename:  #frac{630}{831}-841 = -211_48626.jpg\n"
        },
        {
          "name": "stderr",
          "output_type": "stream",
          "text": "Lossy conversion from float64 to uint8. Range [0, 1]. Convert image to uint8 prior to saving to suppress this warning.\n\nLossy conversion from float64 to uint8. Range [0, 1]. Convert image to uint8 prior to saving to suppress this warning.\n\nLossy conversion from float64 to uint8. Range [0, 1]. Convert image to uint8 prior to saving to suppress this warning.\n\nLossy conversion from float64 to uint8. Range [0, 1]. Convert image to uint8 prior to saving to suppress this warning.\n"
        },
        {
          "name": "stdout",
          "output_type": "stream",
          "text": "Finished:  1650\n\nFilename:  #frac{538}{608}x^4-960 #leq -403_26277.jpg\n\nFinished:  1651\n\nFilename:  #frac{442}{868}x^4+256 #neq 781_54504.jpg\n\nFinished:  1652\n\nFilename:  #frac{925}{961}-763 = 162_30421.jpg\n"
        },
        {
          "name": "stderr",
          "output_type": "stream",
          "text": "Lossy conversion from float64 to uint8. Range [0, 1]. Convert image to uint8 prior to saving to suppress this warning.\n\nLossy conversion from float64 to uint8. Range [-0.33806349075473685, 1.0]. Convert image to uint8 prior to saving to suppress this warning.\n\nLossy conversion from float64 to uint8. Range [-1.1145768404080003e-16, 1.0]. Convert image to uint8 prior to saving to suppress this warning.\n"
        },
        {
          "name": "stdout",
          "output_type": "stream",
          "text": "Finished:  1653\n\nFilename:  #frac{836}{863}#beta^3+369 #geq 1190_36097.jpg\n\nFinished:  1654\n\nFilename:  #frac{254}{902}#beta^4+582 #geq 778_57689.jpg\n\nFinished:  1655\n\nFilename:  #frac{904}{770}x^4+95 #leq 1058_73256.jpg\n"
        },
        {
          "name": "stderr",
          "output_type": "stream",
          "text": "Lossy conversion from float64 to uint8. Range [0, 1]. Convert image to uint8 prior to saving to suppress this warning.\n\nLossy conversion from float64 to uint8. Range [0, 1]. Convert image to uint8 prior to saving to suppress this warning.\n\nLossy conversion from float64 to uint8. Range [0, 1]. Convert image to uint8 prior to saving to suppress this warning.\n"
        },
        {
          "name": "stdout",
          "output_type": "stream",
          "text": "Finished:  1656\n\nFilename:  #frac{326}{569}y^4-310 #neq 87_3954.jpg\n\nFinished:  1657\n\nFilename:  #frac{592}{271}y^2+839 #neq 1438_59208.jpg\n\nFinished:  1658\n\nFilename:  #frac{35}{812}-831 = -796_66538.jpg\n\nFinished:  1659\n\nFilename:  #frac{316}{29}#alpha^3+698 #geq 991_22932.jpg\n"
        },
        {
          "name": "stderr",
          "output_type": "stream",
          "text": "Lossy conversion from float64 to uint8. Range [-0.0008181949250289269, 1.0]. Convert image to uint8 prior to saving to suppress this warning.\n\nLossy conversion from float64 to uint8. Range [0, 1]. Convert image to uint8 prior to saving to suppress this warning.\n"
        },
        {
          "name": "stdout",
          "output_type": "stream",
          "text": "Finished:  1660\n\nFilename:  #frac{21}{366}x^3-445 #neq -341_52495.jpg\n\nFinished:  1661\n\nFilename:  #frac{485}{836}y^4+669 #geq 1118_83454.jpg\n"
        },
        {
          "name": "stderr",
          "output_type": "stream",
          "text": "Lossy conversion from float64 to uint8. Range [0, 1]. Convert image to uint8 prior to saving to suppress this warning.\n\nLossy conversion from float64 to uint8. Range [0, 1]. Convert image to uint8 prior to saving to suppress this warning.\n"
        },
        {
          "name": "stdout",
          "output_type": "stream",
          "text": "Finished:  1662\n\nFilename:  #frac{69}{28}#alpha^4-137 #geq -131_73690.jpg\n\nFinished:  1663\n\nFilename:  #frac{383}{392}y^2-564 #leq -158_61139.jpg\n"
        },
        {
          "name": "stderr",
          "output_type": "stream",
          "text": "Lossy conversion from float64 to uint8. Range [0, 1]. Convert image to uint8 prior to saving to suppress this warning.\n\nLossy conversion from float64 to uint8. Range [0, 1]. Convert image to uint8 prior to saving to suppress this warning.\n\nLossy conversion from float64 to uint8. Range [0, 1]. Convert image to uint8 prior to saving to suppress this warning.\n"
        },
        {
          "name": "stdout",
          "output_type": "stream",
          "text": "Finished:  1664\n\nFilename:  #frac{534}{4}x^3+481 #leq 1080_37641.jpg\n\nFinished:  1665\n\nFilename:  #frac{640}{226}x^2-782 #geq -186_96881.jpg\n\nFinished:  1666\n\nFilename:  #frac{169}{742}+248 = 417_86534.jpg\n"
        },
        {
          "name": "stderr",
          "output_type": "stream",
          "text": "Lossy conversion from float64 to uint8. Range [0, 1]. Convert image to uint8 prior to saving to suppress this warning.\n\nLossy conversion from float64 to uint8. Range [0, 1]. Convert image to uint8 prior to saving to suppress this warning.\n\nLossy conversion from float64 to uint8. Range [0, 1]. Convert image to uint8 prior to saving to suppress this warning.\n\nLossy conversion from float64 to uint8. Range [0, 1]. Convert image to uint8 prior to saving to suppress this warning.\n\nLossy conversion from float64 to uint8. Range [0, 1]. Convert image to uint8 prior to saving to suppress this warning.\n"
        },
        {
          "name": "stdout",
          "output_type": "stream",
          "text": "Finished:  1667\n\nFilename:  #frac{749}{774}x^2-704 #geq 16_37293.jpg\n\nFinished:  1668\n\nFilename:  #frac{407}{756}x^2+543 #geq 855_85928.jpg\n\nFinished:  1669\n\nFilename:  #frac{804}{934}+408 = 1212_90995.jpg\n\nFinished:  1670\n\nFilename:  #frac{315}{360}y^4+481 #geq 759_86221.jpg\n"
        },
        {
          "name": "stderr",
          "output_type": "stream",
          "text": "Lossy conversion from float64 to uint8. Range [0, 1]. Convert image to uint8 prior to saving to suppress this warning.\n\nLossy conversion from float64 to uint8. Range [0, 1]. Convert image to uint8 prior to saving to suppress this warning.\n\nLossy conversion from float64 to uint8. Range [0, 1]. Convert image to uint8 prior to saving to suppress this warning.\n"
        },
        {
          "name": "stdout",
          "output_type": "stream",
          "text": "Finished:  1671\n\nFilename:  #frac{440}{248}y^4-934 #leq -462_23105.jpg\n\nFinished:  1672\n\nFilename:  #frac{565}{564}#beta^3+105 #geq 582_6955.jpg\n\nFinished:  1673\n\nFilename:  #frac{61}{800}x^4+847 #leq 990_24296.jpg\n\nFinished:  1674\n\nFilename:  #frac{216}{488}#alpha^2+190 #leq 412_93219.jpg\n"
        },
        {
          "name": "stderr",
          "output_type": "stream",
          "text": "Lossy conversion from float64 to uint8. Range [0, 1]. Convert image to uint8 prior to saving to suppress this warning.\n\nLossy conversion from float64 to uint8. Range [0, 1]. Convert image to uint8 prior to saving to suppress this warning.\n\nLossy conversion from float64 to uint8. Range [0, 1]. Convert image to uint8 prior to saving to suppress this warning.\n"
        },
        {
          "name": "stdout",
          "output_type": "stream",
          "text": "Finished:  1675\n\nFilename:  #frac{760}{517}y^4+932 #neq 1706_85593.jpg\n\nFinished:  1676\n\nFilename:  #frac{276}{300}-905 = -629_71004.jpg\n\nFinished:  1677\n\nFilename:  #frac{734}{982}+312 = 1046_4021.jpg\n"
        },
        {
          "name": "stderr",
          "output_type": "stream",
          "text": "Lossy conversion from float64 to uint8. Range [0, 1]. Convert image to uint8 prior to saving to suppress this warning.\n\nLossy conversion from float64 to uint8. Range [0, 1]. Convert image to uint8 prior to saving to suppress this warning.\n\nLossy conversion from float64 to uint8. Range [-0.9421247357293833, 1.0]. Convert image to uint8 prior to saving to suppress this warning.\n\nLossy conversion from float64 to uint8. Range [0, 1]. Convert image to uint8 prior to saving to suppress this warning.\n"
        },
        {
          "name": "stdout",
          "output_type": "stream",
          "text": "Finished:  1678\n\nFilename:  #frac{902}{271}+455 = 1357_46951.jpg\n\nFinished:  1679\n\nFilename:  #frac{838}{181}y^4-7 #neq 906_26703.jpg\n\nFinished:  1680\n\nFilename:  #frac{330}{894}#alpha^2-383 #neq 47_28545.jpg\n\nFinished:  1681\n\nFilename:  #frac{207}{68}-252 = -45_1875.jpg\n"
        },
        {
          "name": "stderr",
          "output_type": "stream",
          "text": "Lossy conversion from float64 to uint8. Range [0, 1]. Convert image to uint8 prior to saving to suppress this warning.\n\nLossy conversion from float64 to uint8. Range [0, 1]. Convert image to uint8 prior to saving to suppress this warning.\n\nLossy conversion from float64 to uint8. Range [0, 1]. Convert image to uint8 prior to saving to suppress this warning.\n\nLossy conversion from float64 to uint8. Range [0, 1]. Convert image to uint8 prior to saving to suppress this warning.\n"
        },
        {
          "name": "stdout",
          "output_type": "stream",
          "text": "Finished:  1682\n\nFilename:  #frac{435}{488}#alpha^3+785 #neq 1293_37582.jpg\n\nFinished:  1683\n\nFilename:  #frac{656}{388}y^4-76 #neq 617_73782.jpg\n\nFinished:  1684\n\nFilename:  #frac{950}{243}y^4-663 #geq 253_72175.jpg\n"
        },
        {
          "name": "stderr",
          "output_type": "stream",
          "text": "Lossy conversion from float64 to uint8. Range [0, 1]. Convert image to uint8 prior to saving to suppress this warning.\n\nLossy conversion from float64 to uint8. Range [0, 1]. Convert image to uint8 prior to saving to suppress this warning.\n\nLossy conversion from float64 to uint8. Range [0, 1]. Convert image to uint8 prior to saving to suppress this warning.\n\nLossy conversion from float64 to uint8. Range [0, 1]. Convert image to uint8 prior to saving to suppress this warning.\n"
        },
        {
          "name": "stdout",
          "output_type": "stream",
          "text": "Finished:  1685\n\nFilename:  #frac{933}{914}-402 = 531_44735.jpg\n\nFinished:  1686\n\nFilename:  #frac{110}{262}x^3-681 #geq -645_99303.jpg\n\nFinished:  1687\n\nFilename:  #frac{905}{555}#beta^3+78 #geq 975_19649.jpg\n\nFinished:  1688\n\nFilename:  #frac{382}{260}#beta^2-166 #geq 180_87953.jpg\n"
        },
        {
          "name": "stderr",
          "output_type": "stream",
          "text": "Lossy conversion from float64 to uint8. Range [0, 1]. Convert image to uint8 prior to saving to suppress this warning.\n\nLossy conversion from float64 to uint8. Range [0, 1]. Convert image to uint8 prior to saving to suppress this warning.\n"
        },
        {
          "name": "stdout",
          "output_type": "stream",
          "text": "Finished:  1689\n\nFilename:  #frac{413}{992}-193 = 220_19401.jpg\n\nFinished:  1690\n\nFilename:  #frac{732}{285}x^2-535 #neq 256_33581.jpg\n\nFinished:  1691\n\nFilename:  #frac{105}{99}#alpha^3+734 #geq 761_87560.jpg\n"
        },
        {
          "name": "stderr",
          "output_type": "stream",
          "text": "Lossy conversion from float64 to uint8. Range [0, 1]. Convert image to uint8 prior to saving to suppress this warning.\n\nLossy conversion from float64 to uint8. Range [0, 1]. Convert image to uint8 prior to saving to suppress this warning.\n\nLossy conversion from float64 to uint8. Range [0, 1]. Convert image to uint8 prior to saving to suppress this warning.\n"
        },
        {
          "name": "stdout",
          "output_type": "stream",
          "text": "Finished:  1692\n\nFilename:  #frac{187}{397}y^4-94 #neq 141_53057.jpg\n\nFinished:  1693\n\nFilename:  #frac{9}{899}x^3-25 #leq 59_90274.jpg\n\nFinished:  1694\n\nFilename:  #frac{643}{82}#alpha^2+377 #neq 1110_31317.jpg\n"
        },
        {
          "name": "stderr",
          "output_type": "stream",
          "text": "Lossy conversion from float64 to uint8. Range [0, 1]. Convert image to uint8 prior to saving to suppress this warning.\n\nLossy conversion from float64 to uint8. Range [0, 1]. Convert image to uint8 prior to saving to suppress this warning.\n\nLossy conversion from float64 to uint8. Range [0, 1]. Convert image to uint8 prior to saving to suppress this warning.\n"
        },
        {
          "name": "stdout",
          "output_type": "stream",
          "text": "Finished:  1695\n\nFilename:  #frac{242}{291}#beta^3+815 #leq 1077_14075.jpg\n\nFinished:  1696\n\nFilename:  #frac{465}{401}x^3+222 #neq 691_37769.jpg\n\nFinished:  1697\n\nFilename:  #frac{271}{658}x^4-22 #geq 221_21240.jpg\n"
        },
        {
          "name": "stderr",
          "output_type": "stream",
          "text": "Lossy conversion from float64 to uint8. Range [0, 1]. Convert image to uint8 prior to saving to suppress this warning.\n\nLossy conversion from float64 to uint8. Range [0, 1]. Convert image to uint8 prior to saving to suppress this warning.\n\nLossy conversion from float64 to uint8. Range [-0.28828729644135365, 1.0]. Convert image to uint8 prior to saving to suppress this warning.\n\nLossy conversion from float64 to uint8. Range [0, 1]. Convert image to uint8 prior to saving to suppress this warning.\n"
        },
        {
          "name": "stdout",
          "output_type": "stream",
          "text": "Finished:  1698\n\nFilename:  #frac{737}{818}y^4+336 #geq 1065_45578.jpg\n\nFinished:  1699\n\nFilename:  #frac{38}{359}y^3+983 #leq 1090_82792.jpg\n\nFinished:  1700\n\nFilename:  #frac{663}{572}#alpha^3-743 #leq -2_65546.jpg\n"
        },
        {
          "name": "stderr",
          "output_type": "stream",
          "text": "Lossy conversion from float64 to uint8. Range [0, 1]. Convert image to uint8 prior to saving to suppress this warning.\n\nLossy conversion from float64 to uint8. Range [0, 1]. Convert image to uint8 prior to saving to suppress this warning.\n\nLossy conversion from float64 to uint8. Range [0, 1]. Convert image to uint8 prior to saving to suppress this warning.\n"
        },
        {
          "name": "stdout",
          "output_type": "stream",
          "text": "Finished:  1701\n\nFilename:  #frac{861}{142}#alpha^3-903 #neq 42_17536.jpg\n\nFinished:  1702\n\nFilename:  #frac{474}{514}y^3+798 #leq 1360_21523.jpg\n\nFinished:  1703\n\nFilename:  #frac{293}{8}-287 = 6_45102.jpg\n\nFinished:  1704\n\nFilename:  #frac{715}{208}-168 = 547_95133.jpg\n"
        },
        {
          "name": "stderr",
          "output_type": "stream",
          "text": "Lossy conversion from float64 to uint8. Range [0, 1]. Convert image to uint8 prior to saving to suppress this warning.\n\nLossy conversion from float64 to uint8. Range [0, 1]. Convert image to uint8 prior to saving to suppress this warning.\n"
        },
        {
          "name": "stdout",
          "output_type": "stream",
          "text": "Finished:  1705\n\nFilename:  #frac{911}{255}y^2-188 #geq 637_57250.jpg\n\nFinished:  1706\n\nFilename:  #frac{963}{412}-902 = 61_46300.jpg\n"
        },
        {
          "name": "stderr",
          "output_type": "stream",
          "text": "Lossy conversion from float64 to uint8. Range [0, 1]. Convert image to uint8 prior to saving to suppress this warning.\n\nLossy conversion from float64 to uint8. Range [0, 1]. Convert image to uint8 prior to saving to suppress this warning.\n"
        },
        {
          "name": "stdout",
          "output_type": "stream",
          "text": "Finished:  1707\n\nFilename:  #frac{873}{51}y^3-56 #neq 878_66963.jpg\n\nFinished:  1708\n\nFilename:  #frac{710}{683}#alpha^4+835 #neq 1641_64933.jpg\n"
        },
        {
          "name": "stderr",
          "output_type": "stream",
          "text": "Lossy conversion from float64 to uint8. Range [0, 1]. Convert image to uint8 prior to saving to suppress this warning.\n\nLossy conversion from float64 to uint8. Range [0, 1]. Convert image to uint8 prior to saving to suppress this warning.\n\nLossy conversion from float64 to uint8. Range [0, 1]. Convert image to uint8 prior to saving to suppress this warning.\n"
        },
        {
          "name": "stdout",
          "output_type": "stream",
          "text": "Finished:  1709\n\nFilename:  #frac{391}{242}y^4-113 #neq 352_3291.jpg\n\nFinished:  1710\n\nFilename:  #frac{505}{187}#beta^3+113 #geq 610_3843.jpg\n"
        },
        {
          "name": "stderr",
          "output_type": "stream",
          "text": "Lossy conversion from float64 to uint8. Range [0, 1]. Convert image to uint8 prior to saving to suppress this warning.\n\nLossy conversion from float64 to uint8. Range [0, 1]. Convert image to uint8 prior to saving to suppress this warning.\n\nLossy conversion from float64 to uint8. Range [0, 1]. Convert image to uint8 prior to saving to suppress this warning.\n"
        },
        {
          "name": "stdout",
          "output_type": "stream",
          "text": "Finished:  1711\n\nFilename:  #frac{650}{763}y^4+572 #geq 1132_1569.jpg\n\nFinished:  1712\n\nFilename:  #frac{424}{986}#beta^3-232 #neq 250_38804.jpg\n\nFinished:  1713\n\nFilename:  #frac{459}{970}y^4+554 #leq 1099_56258.jpg\n\nFinished:  1714\n\nFilename:  #frac{722}{993}#alpha^4-742 #neq 30_3541.jpg\n"
        },
        {
          "name": "stderr",
          "output_type": "stream",
          "text": "Lossy conversion from float64 to uint8. Range [0, 1]. Convert image to uint8 prior to saving to suppress this warning.\n\nLossy conversion from float64 to uint8. Range [0, 1]. Convert image to uint8 prior to saving to suppress this warning.\n\nLossy conversion from float64 to uint8. Range [0, 1]. Convert image to uint8 prior to saving to suppress this warning.\n\nLossy conversion from float64 to uint8. Range [0, 1]. Convert image to uint8 prior to saving to suppress this warning.\n"
        },
        {
          "name": "stdout",
          "output_type": "stream",
          "text": "Finished:  1715\n\nFilename:  #frac{132}{340}y^2+190 #neq 345_47689.jpg\n\nFinished:  1716\n\nFilename:  #frac{314}{150}y^3-796 #neq -433_82214.jpg\n\nFinished:  1717\n\nFilename:  #frac{984}{145}#beta^4+515 #neq 1563_65521.jpg\n"
        },
        {
          "name": "stderr",
          "output_type": "stream",
          "text": "Lossy conversion from float64 to uint8. Range [0, 1]. Convert image to uint8 prior to saving to suppress this warning.\n\nLossy conversion from float64 to uint8. Range [0, 1]. Convert image to uint8 prior to saving to suppress this warning.\n\nLossy conversion from float64 to uint8. Range [0, 1]. Convert image to uint8 prior to saving to suppress this warning.\n"
        },
        {
          "name": "stdout",
          "output_type": "stream",
          "text": "Finished:  1718\n\nFilename:  #frac{384}{738}y^2-652 #geq -328_55961.jpg\n\nFinished:  1719\n\nFilename:  #frac{343}{143}+578 = 921_71666.jpg\n\nFinished:  1720\n\nFilename:  #frac{250}{908}-956 = -706_61317.jpg\n\nFinished:  1721\n\nFilename:  #frac{659}{461}#alpha^2+743 #leq 1482_3765.jpg\n"
        },
        {
          "name": "stderr",
          "output_type": "stream",
          "text": "Lossy conversion from float64 to uint8. Range [0, 1]. Convert image to uint8 prior to saving to suppress this warning.\n"
        },
        {
          "name": "stdout",
          "output_type": "stream",
          "text": "Finished:  1722\n\nFilename:  #frac{748}{510}y^4+256 #neq 1029_59831.jpg\n"
        },
        {
          "name": "stderr",
          "output_type": "stream",
          "text": "Lossy conversion from float64 to uint8. Range [0, 1]. Convert image to uint8 prior to saving to suppress this warning.\n\nLossy conversion from float64 to uint8. Range [0, 1]. Convert image to uint8 prior to saving to suppress this warning.\n"
        },
        {
          "name": "stdout",
          "output_type": "stream",
          "text": "Finished:  1723\n\nFilename:  #frac{817}{521}x^3-701 #neq 186_51762.jpg\n\nFinished:  1724\n\nFilename:  #frac{373}{923}x^2-189 #geq 125_49480.jpg\n"
        },
        {
          "name": "stderr",
          "output_type": "stream",
          "text": "Lossy conversion from float64 to uint8. Range [0, 1]. Convert image to uint8 prior to saving to suppress this warning.\n\nLossy conversion from float64 to uint8. Range [0, 1]. Convert image to uint8 prior to saving to suppress this warning.\n\nLossy conversion from float64 to uint8. Range [0, 1]. Convert image to uint8 prior to saving to suppress this warning.\n"
        },
        {
          "name": "stdout",
          "output_type": "stream",
          "text": "Finished:  1725\n\nFilename:  #frac{132}{345}x^3+126 #geq 182_37559.jpg\n\nFinished:  1726\n\nFilename:  #frac{353}{744}y^2-749 #leq -304_19109.jpg\n\nFinished:  1727\n\nFilename:  #frac{208}{667}#beta^3-835 #leq -559_37171.jpg\n"
        },
        {
          "name": "stderr",
          "output_type": "stream",
          "text": "Lossy conversion from float64 to uint8. Range [0, 1]. Convert image to uint8 prior to saving to suppress this warning.\n\nLossy conversion from float64 to uint8. Range [0, 1]. Convert image to uint8 prior to saving to suppress this warning.\n\nLossy conversion from float64 to uint8. Range [0, 1]. Convert image to uint8 prior to saving to suppress this warning.\n"
        },
        {
          "name": "stdout",
          "output_type": "stream",
          "text": "Finished:  1728\n\nFilename:  #frac{813}{942}x^3+740 #neq 1555_89082.jpg\n\nFinished:  1729\n\nFilename:  #frac{685}{88}#alpha^4+642 #geq 1258_76744.jpg\n"
        },
        {
          "name": "stderr",
          "output_type": "stream",
          "text": "Lossy conversion from float64 to uint8. Range [0, 1]. Convert image to uint8 prior to saving to suppress this warning.\n\nLossy conversion from float64 to uint8. Range [0, 1]. Convert image to uint8 prior to saving to suppress this warning.\n\nLossy conversion from float64 to uint8. Range [0, 1]. Convert image to uint8 prior to saving to suppress this warning.\n"
        },
        {
          "name": "stdout",
          "output_type": "stream",
          "text": "Finished:  1730\n\nFilename:  #frac{993}{131}#alpha^2-998 #geq -43_63875.jpg\n\nFinished:  1731\n\nFilename:  #frac{769}{114}x^3+754 #neq 1593_76378.jpg\n\nFinished:  1732\n\nFilename:  #frac{221}{180}+575 = 796_21250.jpg\n"
        },
        {
          "name": "stderr",
          "output_type": "stream",
          "text": "Lossy conversion from float64 to uint8. Range [0, 1]. Convert image to uint8 prior to saving to suppress this warning.\n\nLossy conversion from float64 to uint8. Range [0, 1]. Convert image to uint8 prior to saving to suppress this warning.\n\nLossy conversion from float64 to uint8. Range [0, 1]. Convert image to uint8 prior to saving to suppress this warning.\n"
        },
        {
          "name": "stdout",
          "output_type": "stream",
          "text": "Finished:  1733\n\nFilename:  #frac{664}{917}#alpha^2+701 #neq 1381_56900.jpg\n\nFinished:  1734\n\nFilename:  #frac{7}{821}#alpha^4+798 #leq 846_33688.jpg\n\nFinished:  1735\n\nFilename:  #frac{546}{323}+596 = 1142_21489.jpg\n\nFinished:  1736\n"
        },
        {
          "name": "stderr",
          "output_type": "stream",
          "text": "Lossy conversion from float64 to uint8. Range [0, 1]. Convert image to uint8 prior to saving to suppress this warning.\n\nLossy conversion from float64 to uint8. Range [0, 1]. Convert image to uint8 prior to saving to suppress this warning.\n\nLossy conversion from float64 to uint8. Range [0, 1]. Convert image to uint8 prior to saving to suppress this warning.\n"
        },
        {
          "name": "stdout",
          "output_type": "stream",
          "text": "Filename:  #frac{723}{119}#alpha^4+908 #geq 1579_10273.jpg\n\nFinished:  1737\n\nFilename:  #frac{876}{432}y^4-830 #geq -39_28720.jpg\n\nFinished:  1738\n\nFilename:  #frac{577}{282}-466 = 111_30298.jpg\n\nFinished:  1739\n\nFilename:  #frac{372}{53}#alpha^3-857 #neq -434_94097.jpg\n"
        },
        {
          "name": "stderr",
          "output_type": "stream",
          "text": "Lossy conversion from float64 to uint8. Range [0, 1]. Convert image to uint8 prior to saving to suppress this warning.\n\nLossy conversion from float64 to uint8. Range [-0.39620657791608777, 1.0]. Convert image to uint8 prior to saving to suppress this warning.\n"
        },
        {
          "name": "stdout",
          "output_type": "stream",
          "text": "Finished:  1740\n\nFilename:  #frac{930}{910}#alpha^2-885 #geq 13_73235.jpg\n\nFinished:  1741\n\nFilename:  #frac{34}{687}-14 = 20_34065.jpg\n"
        },
        {
          "name": "stderr",
          "output_type": "stream",
          "text": "Lossy conversion from float64 to uint8. Range [0, 1]. Convert image to uint8 prior to saving to suppress this warning.\n\nLossy conversion from float64 to uint8. Range [0, 1]. Convert image to uint8 prior to saving to suppress this warning.\n\nLossy conversion from float64 to uint8. Range [-0.42363820528211427, 1.0]. Convert image to uint8 prior to saving to suppress this warning.\n"
        },
        {
          "name": "stdout",
          "output_type": "stream",
          "text": "Finished:  1742\n\nFilename:  #frac{9}{169}y^2-494 #leq -394_17398.jpg\n\nFinished:  1743\n\nFilename:  #frac{744}{142}+113 = 857_37085.jpg\n"
        },
        {
          "name": "stderr",
          "output_type": "stream",
          "text": "Lossy conversion from float64 to uint8. Range [0, 1]. Convert image to uint8 prior to saving to suppress this warning.\n\nLossy conversion from float64 to uint8. Range [0, 1]. Convert image to uint8 prior to saving to suppress this warning.\n"
        },
        {
          "name": "stdout",
          "output_type": "stream",
          "text": "Finished:  1744\n\nFilename:  #frac{228}{612}x^4-897 #geq -730_79811.jpg\n\nFinished:  1745\n\nFilename:  #frac{808}{889}x^4+55 #neq 896_90280.jpg\n\nFinished:  1746\n\nFilename:  #frac{777}{357}#alpha^4+759 #neq 1572_99856.jpg\n"
        },
        {
          "name": "stderr",
          "output_type": "stream",
          "text": "Lossy conversion from float64 to uint8. Range [-0.1965084547364888, 1.0]. Convert image to uint8 prior to saving to suppress this warning.\n\nLossy conversion from float64 to uint8. Range [0, 1]. Convert image to uint8 prior to saving to suppress this warning.\n\nLossy conversion from float64 to uint8. Range [0, 1]. Convert image to uint8 prior to saving to suppress this warning.\n"
        },
        {
          "name": "stdout",
          "output_type": "stream",
          "text": "Finished:  1747\n\nFilename:  #frac{604}{547}+776 = 1380_33437.jpg\n\nFinished:  1748\n\nFilename:  #frac{637}{348}#alpha^3-752 #neq -113_43680.jpg\n\nFinished:  1749\n\nFilename:  #frac{178}{730}y^3+724 #leq 921_98568.jpg\n"
        },
        {
          "name": "stderr",
          "output_type": "stream",
          "text": "Lossy conversion from float64 to uint8. Range [0, 1]. Convert image to uint8 prior to saving to suppress this warning.\n\nLossy conversion from float64 to uint8. Range [-0.44321056868495395, 1.0]. Convert image to uint8 prior to saving to suppress this warning.\n\nLossy conversion from float64 to uint8. Range [0, 1]. Convert image to uint8 prior to saving to suppress this warning.\n\nLossy conversion from float64 to uint8. Range [0, 1]. Convert image to uint8 prior to saving to suppress this warning.\n"
        },
        {
          "name": "stdout",
          "output_type": "stream",
          "text": "Finished:  1750\n\nFilename:  #frac{169}{620}x^2+495 #geq 589_5567.jpg\n\nFinished:  1751\n\nFilename:  #frac{806}{667}+538 = 1344_93945.jpg\n\nFinished:  1752\n\nFilename:  #frac{545}{50}-865 = -320_95662.jpg\n"
        },
        {
          "name": "stderr",
          "output_type": "stream",
          "text": "Lossy conversion from float64 to uint8. Range [0, 1]. Convert image to uint8 prior to saving to suppress this warning.\n\nLossy conversion from float64 to uint8. Range [0, 1]. Convert image to uint8 prior to saving to suppress this warning.\n\nLossy conversion from float64 to uint8. Range [0, 1]. Convert image to uint8 prior to saving to suppress this warning.\n"
        },
        {
          "name": "stdout",
          "output_type": "stream",
          "text": "Finished:  1753\n\nFilename:  #frac{661}{590}#beta^2-694 #geq -72_80874.jpg\n\nFinished:  1754\n\nFilename:  #frac{761}{74}#beta^3-922 #geq -203_32220.jpg\n\nFinished:  1755\n\nFilename:  #frac{447}{285}+667 = 1114_45419.jpg\n\nFinished:  1756\n\nFilename:  #frac{981}{652}#beta^4-525 #neq 550_15525.jpg\n"
        },
        {
          "name": "stderr",
          "output_type": "stream",
          "text": "Lossy conversion from float64 to uint8. Range [0, 1]. Convert image to uint8 prior to saving to suppress this warning.\n\nLossy conversion from float64 to uint8. Range [0, 1]. Convert image to uint8 prior to saving to suppress this warning.\n\nLossy conversion from float64 to uint8. Range [0, 1]. Convert image to uint8 prior to saving to suppress this warning.\n\nLossy conversion from float64 to uint8. Range [0, 1]. Convert image to uint8 prior to saving to suppress this warning.\n"
        },
        {
          "name": "stdout",
          "output_type": "stream",
          "text": "Finished:  1757\n\nFilename:  #frac{170}{511}y^4+313 #neq 552_52468.jpg\n\nFinished:  1758\n\nFilename:  #frac{528}{75}#beta^4+295 #geq 734_67688.jpg\n\nFinished:  1759\n\nFilename:  #frac{928}{849}+708 = 1636_60516.jpg\n"
        },
        {
          "name": "stderr",
          "output_type": "stream",
          "text": "Lossy conversion from float64 to uint8. Range [0, 1]. Convert image to uint8 prior to saving to suppress this warning.\n\nLossy conversion from float64 to uint8. Range [0, 1]. Convert image to uint8 prior to saving to suppress this warning.\n\nLossy conversion from float64 to uint8. Range [0, 1]. Convert image to uint8 prior to saving to suppress this warning.\n"
        },
        {
          "name": "stdout",
          "output_type": "stream",
          "text": "Finished:  1760\n\nFilename:  #frac{329}{73}x^4-901 #geq -587_13018.jpg\n\nFinished:  1761\n\nFilename:  #frac{874}{725}-125 = 749_80785.jpg\n\nFinished:  1762\n\nFilename:  #frac{465}{987}#beta^4+32 #neq 548_1752.jpg\n\nFinished:  1763\n\nFilename:  #frac{825}{287}#beta^4-798 #geq 7_54459.jpg\n"
        },
        {
          "name": "stderr",
          "output_type": "stream",
          "text": "Lossy conversion from float64 to uint8. Range [0, 1]. Convert image to uint8 prior to saving to suppress this warning.\n\nLossy conversion from float64 to uint8. Range [0, 1]. Convert image to uint8 prior to saving to suppress this warning.\n\nLossy conversion from float64 to uint8. Range [0, 1]. Convert image to uint8 prior to saving to suppress this warning.\n\nLossy conversion from float64 to uint8. Range [0, 1]. Convert image to uint8 prior to saving to suppress this warning.\n"
        },
        {
          "name": "stdout",
          "output_type": "stream",
          "text": "Finished:  1764\n\nFilename:  #frac{138}{152}#alpha^3+276 #geq 320_4352.jpg\n\nFinished:  1765\n\nFilename:  #frac{83}{896}y^2+524 #leq 641_59257.jpg\n\nFinished:  1766\n\nFilename:  #frac{715}{293}-56 = 659_27723.jpg\n"
        },
        {
          "name": "stderr",
          "output_type": "stream",
          "text": "Lossy conversion from float64 to uint8. Range [0, 1]. Convert image to uint8 prior to saving to suppress this warning.\n"
        },
        {
          "name": "stdout",
          "output_type": "stream",
          "text": "Finished:  1767\n\nFilename:  #frac{589}{778}#beta^2-794 #leq -138_31779.jpg\n\nFinished:  1768\n\nFilename:  #frac{78}{887}y^4-495 #geq -510_49031.jpg\n"
        },
        {
          "name": "stderr",
          "output_type": "stream",
          "text": "Lossy conversion from float64 to uint8. Range [0, 1]. Convert image to uint8 prior to saving to suppress this warning.\n\nLossy conversion from float64 to uint8. Range [0, 1]. Convert image to uint8 prior to saving to suppress this warning.\n\nLossy conversion from float64 to uint8. Range [0, 1]. Convert image to uint8 prior to saving to suppress this warning.\n\nLossy conversion from float64 to uint8. Range [0, 1]. Convert image to uint8 prior to saving to suppress this warning.\n"
        },
        {
          "name": "stdout",
          "output_type": "stream",
          "text": "Finished:  1769\n\nFilename:  #frac{336}{553}+229 = 565_53526.jpg\n\nFinished:  1770\n\nFilename:  #frac{853}{594}+834 = 1687_89975.jpg\n\nFinished:  1771\n\nFilename:  #frac{324}{566}#alpha^2+156 #neq 545_65097.jpg\n"
        },
        {
          "name": "stderr",
          "output_type": "stream",
          "text": "Lossy conversion from float64 to uint8. Range [0, 1]. Convert image to uint8 prior to saving to suppress this warning.\n\nLossy conversion from float64 to uint8. Range [0, 1]. Convert image to uint8 prior to saving to suppress this warning.\n\nLossy conversion from float64 to uint8. Range [0, 1]. Convert image to uint8 prior to saving to suppress this warning.\n"
        },
        {
          "name": "stdout",
          "output_type": "stream",
          "text": "Finished:  1772\n\nFilename:  #frac{53}{308}#alpha^3+377 #neq 446_32095.jpg\n\nFinished:  1773\n\nFilename:  #frac{104}{59}x^3-644 #leq -456_42515.jpg\n\nFinished:  1774\n\nFilename:  #frac{564}{962}+841 = 1405_71095.jpg\n\nFinished:  1775\n\nFilename:  #frac{894}{19}+391 = 1285_49057.jpg\n"
        },
        {
          "name": "stderr",
          "output_type": "stream",
          "text": "Lossy conversion from float64 to uint8. Range [0, 1]. Convert image to uint8 prior to saving to suppress this warning.\n\nLossy conversion from float64 to uint8. Range [0, 1]. Convert image to uint8 prior to saving to suppress this warning.\n\nLossy conversion from float64 to uint8. Range [0, 1]. Convert image to uint8 prior to saving to suppress this warning.\n\nLossy conversion from float64 to uint8. Range [0, 1]. Convert image to uint8 prior to saving to suppress this warning.\n"
        },
        {
          "name": "stdout",
          "output_type": "stream",
          "text": "Finished:  1776\n\nFilename:  #frac{480}{524}x^2-872 #geq -425_16841.jpg\n\nFinished:  1777\n\nFilename:  #frac{709}{63}x^3-654 #neq 147_82342.jpg\n\nFinished:  1778\n\nFilename:  #frac{870}{880}#beta^2+150 #geq 1014_83140.jpg\n\nFinished:  1779\n\nFilename:  #frac{420}{704}#alpha^3-837 #geq -492_86243.jpg\n"
        },
        {
          "name": "stderr",
          "output_type": "stream",
          "text": "Lossy conversion from float64 to uint8. Range [0, 1]. Convert image to uint8 prior to saving to suppress this warning.\n\nLossy conversion from float64 to uint8. Range [0, 1]. Convert image to uint8 prior to saving to suppress this warning.\n"
        },
        {
          "name": "stdout",
          "output_type": "stream",
          "text": "Finished:  1780\n\nFilename:  #frac{286}{312}#beta^2-117 #leq 235_77747.jpg\n\nFinished:  1781\n\nFilename:  #frac{492}{149}#alpha^4+281 #geq 751_46556.jpg\n"
        },
        {
          "name": "stderr",
          "output_type": "stream",
          "text": "Lossy conversion from float64 to uint8. Range [0, 1]. Convert image to uint8 prior to saving to suppress this warning.\n\nLossy conversion from float64 to uint8. Range [0, 1]. Convert image to uint8 prior to saving to suppress this warning.\n\nLossy conversion from float64 to uint8. Range [0, 1]. Convert image to uint8 prior to saving to suppress this warning.\n"
        },
        {
          "name": "stdout",
          "output_type": "stream",
          "text": "Finished:  1782\n\nFilename:  #frac{970}{394}y^3+685 #leq 1660_57028.jpg\n\nFinished:  1783\n\nFilename:  #frac{502}{58}#beta^3-312 #leq 223_2239.jpg\n"
        },
        {
          "name": "stderr",
          "output_type": "stream",
          "text": "Lossy conversion from float64 to uint8. Range [0, 1]. Convert image to uint8 prior to saving to suppress this warning.\n\nLossy conversion from float64 to uint8. Range [0, 1]. Convert image to uint8 prior to saving to suppress this warning.\n"
        },
        {
          "name": "stdout",
          "output_type": "stream",
          "text": "Finished:  1784\n\nFilename:  #frac{599}{295}x^2-284 #geq 220_19658.jpg\n\nFinished:  1785\n\nFilename:  #frac{952}{611}#alpha^3-80 #neq 937_90546.jpg\n\nFinished:  1786\n\nFilename:  #frac{592}{215}x^4+418 #leq 1088_46849.jpg\n"
        },
        {
          "name": "stderr",
          "output_type": "stream",
          "text": "Lossy conversion from float64 to uint8. Range [0, 1]. Convert image to uint8 prior to saving to suppress this warning.\n\nLossy conversion from float64 to uint8. Range [0, 1]. Convert image to uint8 prior to saving to suppress this warning.\n\nLossy conversion from float64 to uint8. Range [0, 1]. Convert image to uint8 prior to saving to suppress this warning.\n\nLossy conversion from float64 to uint8. Range [0, 1]. Convert image to uint8 prior to saving to suppress this warning.\n"
        },
        {
          "name": "stdout",
          "output_type": "stream",
          "text": "Finished:  1787\n\nFilename:  #frac{599}{428}#alpha^3+844 #geq 1353_75112.jpg\n\nFinished:  1788\n\nFilename:  #frac{974}{512}#beta^2+572 #leq 1560_91644.jpg\n\nFinished:  1789\n\nFilename:  #frac{273}{847}#alpha^2-827 #neq -471_21560.jpg\n\nFinished:  1790\n\nFilename:  #frac{823}{640}#beta^4-562 #neq 328_56762.jpg\n"
        },
        {
          "name": "stderr",
          "output_type": "stream",
          "text": "Lossy conversion from float64 to uint8. Range [-0.16960928196069477, 1.0]. Convert image to uint8 prior to saving to suppress this warning.\n\nLossy conversion from float64 to uint8. Range [0, 1]. Convert image to uint8 prior to saving to suppress this warning.\n\nLossy conversion from float64 to uint8. Range [0, 1]. Convert image to uint8 prior to saving to suppress this warning.\n\nLossy conversion from float64 to uint8. Range [0, 1]. Convert image to uint8 prior to saving to suppress this warning.\n"
        },
        {
          "name": "stdout",
          "output_type": "stream",
          "text": "Finished:  1791\n\nFilename:  #frac{910}{75}#alpha^3+169 #leq 1150_61974.jpg\n\nFinished:  1792\n\nFilename:  #frac{379}{733}x^2-561 #neq -106_39304.jpg\n\nFinished:  1793\n\nFilename:  #frac{770}{568}+756 = 1526_9636.jpg\n\nFinished:  1794\n"
        },
        {
          "name": "stderr",
          "output_type": "stream",
          "text": "Lossy conversion from float64 to uint8. Range [0, 1]. Convert image to uint8 prior to saving to suppress this warning.\n\nLossy conversion from float64 to uint8. Range [0, 1]. Convert image to uint8 prior to saving to suppress this warning.\n\nLossy conversion from float64 to uint8. Range [0, 1]. Convert image to uint8 prior to saving to suppress this warning.\n"
        },
        {
          "name": "stdout",
          "output_type": "stream",
          "text": "Filename:  #frac{903}{455}-489 = 414_89286.jpg\n\nFinished:  1795\n\nFilename:  #frac{44}{238}-639 = -595_6349.jpg\n\nFinished:  1796\n\nFilename:  #frac{456}{904}-795 = -339_80352.jpg\n"
        },
        {
          "name": "stderr",
          "output_type": "stream",
          "text": "Lossy conversion from float64 to uint8. Range [0, 1]. Convert image to uint8 prior to saving to suppress this warning.\n"
        },
        {
          "name": "stdout",
          "output_type": "stream",
          "text": "Finished:  1797\n\nFilename:  #frac{815}{620}#alpha^4-514 #neq 303_50778.jpg\n\nFinished:  1798\n\nFilename:  #frac{341}{739}y^2+883 #neq 1299_51018.jpg\n"
        },
        {
          "name": "stderr",
          "output_type": "stream",
          "text": "Lossy conversion from float64 to uint8. Range [0, 1]. Convert image to uint8 prior to saving to suppress this warning.\n\nLossy conversion from float64 to uint8. Range [0, 1]. Convert image to uint8 prior to saving to suppress this warning.\n\nLossy conversion from float64 to uint8. Range [0, 1]. Convert image to uint8 prior to saving to suppress this warning.\n\nLossy conversion from float64 to uint8. Range [0, 1]. Convert image to uint8 prior to saving to suppress this warning.\n"
        },
        {
          "name": "stdout",
          "output_type": "stream",
          "text": "Finished:  1799\n\nFilename:  #frac{71}{408}y^2+966 #geq 944_21119.jpg\n\nFinished:  1800\n\nFilename:  #frac{486}{569}-629 = -143_41633.jpg\n\nFinished:  1801\n\nFilename:  #frac{97}{247}#beta^3+502 #leq 676_52874.jpg\n\nFinished:  1802\n\nFilename:  #frac{148}{645}#beta^3-200 #leq 20_53944.jpg\n"
        },
        {
          "name": "stderr",
          "output_type": "stream",
          "text": "Lossy conversion from float64 to uint8. Range [0, 1]. Convert image to uint8 prior to saving to suppress this warning.\n\nLossy conversion from float64 to uint8. Range [-0.5044817927170885, 1.0]. Convert image to uint8 prior to saving to suppress this warning.\n\nLossy conversion from float64 to uint8. Range [0, 1]. Convert image to uint8 prior to saving to suppress this warning.\n"
        },
        {
          "name": "stdout",
          "output_type": "stream",
          "text": "Finished:  1803\n\nFilename:  #frac{905}{350}-804 = 101_6657.jpg\n\nFinished:  1804\n\nFilename:  #frac{919}{475}#beta^3+147 #leq 1098_5752.jpg\n\nFinished:  1805\n\nFilename:  #frac{697}{167}#beta^4+285 #geq 962_98843.jpg\n"
        },
        {
          "name": "stderr",
          "output_type": "stream",
          "text": "Lossy conversion from float64 to uint8. Range [0, 1]. Convert image to uint8 prior to saving to suppress this warning.\n\nLossy conversion from float64 to uint8. Range [0, 1]. Convert image to uint8 prior to saving to suppress this warning.\n\nLossy conversion from float64 to uint8. Range [0, 1]. Convert image to uint8 prior to saving to suppress this warning.\n"
        },
        {
          "name": "stdout",
          "output_type": "stream",
          "text": "Finished:  1806\n\nFilename:  #frac{269}{120}#beta^3+327 #geq 516_83690.jpg\n\nFinished:  1807\n\nFilename:  #frac{416}{19}#beta^3-853 #leq -395_65091.jpg\n\nFinished:  1808\n\nFilename:  #frac{573}{531}-201 = 372_32458.jpg\n"
        },
        {
          "name": "stderr",
          "output_type": "stream",
          "text": "Lossy conversion from float64 to uint8. Range [0, 1]. Convert image to uint8 prior to saving to suppress this warning.\n\nLossy conversion from float64 to uint8. Range [0, 1]. Convert image to uint8 prior to saving to suppress this warning.\n\nLossy conversion from float64 to uint8. Range [0, 1]. Convert image to uint8 prior to saving to suppress this warning.\n\nLossy conversion from float64 to uint8. Range [0, 1]. Convert image to uint8 prior to saving to suppress this warning.\n"
        },
        {
          "name": "stdout",
          "output_type": "stream",
          "text": "Finished:  1809\n\nFilename:  #frac{174}{273}#beta^2+570 #leq 833_75268.jpg\n\nFinished:  1810\n\nFilename:  #frac{703}{35}-910 = -207_69251.jpg\n\nFinished:  1811\n\nFilename:  #frac{37}{615}-992 = -955_2857.jpg\n\nFinished:  1812"
        },
        {
          "name": "stderr",
          "output_type": "stream",
          "text": "Lossy conversion from float64 to uint8. Range [0, 1]. Convert image to uint8 prior to saving to suppress this warning.\n\nLossy conversion from float64 to uint8. Range [0, 1]. Convert image to uint8 prior to saving to suppress this warning.\n\nLossy conversion from float64 to uint8. Range [0, 1]. Convert image to uint8 prior to saving to suppress this warning.\n"
        },
        {
          "name": "stdout",
          "output_type": "stream",
          "text": "\n\nFilename:  #frac{123}{642}y^3-931 #geq -837_64704.jpg\n\nFinished:  1813\n\nFilename:  #frac{238}{20}x^2+293 #leq 549_38060.jpg\n\nFinished:  1814\n\nFilename:  #frac{605}{171}#beta^2+423 #leq 1081_52476.jpg\n\nFinished:  1815\n"
        },
        {
          "name": "stderr",
          "output_type": "stream",
          "text": "Lossy conversion from float64 to uint8. Range [0, 1]. Convert image to uint8 prior to saving to suppress this warning.\n\nLossy conversion from float64 to uint8. Range [0, 1]. Convert image to uint8 prior to saving to suppress this warning.\n\nLossy conversion from float64 to uint8. Range [0, 1]. Convert image to uint8 prior to saving to suppress this warning.\n"
        },
        {
          "name": "stdout",
          "output_type": "stream",
          "text": "Filename:  #frac{901}{143}y^3-497 #geq 313_20704.jpg\n\nFinished:  1816\n\nFilename:  #frac{694}{672}#alpha^3+691 #geq 1288_57082.jpg\n\nFinished:  1817\n\nFilename:  #frac{44}{193}x^4+59 #neq 154_69802.jpg\n\nFinished:  1818\n\nFilename:  #frac{467}{351}x^4+42 #neq 581_60997.jpg\n"
        },
        {
          "name": "stderr",
          "output_type": "stream",
          "text": "Lossy conversion from float64 to uint8. Range [0, 1]. Convert image to uint8 prior to saving to suppress this warning.\n\nLossy conversion from float64 to uint8. Range [0, 1]. Convert image to uint8 prior to saving to suppress this warning.\n"
        },
        {
          "name": "stdout",
          "output_type": "stream",
          "text": "Finished:  1819\n\nFilename:  #frac{581}{545}x^4+146 #leq 739_24576.jpg\n\nFinished:  1820\n\nFilename:  #frac{812}{85}-312 = 500_806.jpg\n"
        },
        {
          "name": "stderr",
          "output_type": "stream",
          "text": "Lossy conversion from float64 to uint8. Range [0, 1]. Convert image to uint8 prior to saving to suppress this warning.\n\nLossy conversion from float64 to uint8. Range [0, 1]. Convert image to uint8 prior to saving to suppress this warning.\n"
        },
        {
          "name": "stdout",
          "output_type": "stream",
          "text": "Finished:  1821\n\nFilename:  #frac{161}{808}y^3+596 #neq 758_91964.jpg\n\nFinished:  1822\n\nFilename:  #frac{737}{430}x^2-625 #geq 47_43014.jpg\n"
        },
        {
          "name": "stderr",
          "output_type": "stream",
          "text": "Lossy conversion from float64 to uint8. Range [0, 1]. Convert image to uint8 prior to saving to suppress this warning.\n\nLossy conversion from float64 to uint8. Range [0, 1]. Convert image to uint8 prior to saving to suppress this warning.\n\nLossy conversion from float64 to uint8. Range [0, 1]. Convert image to uint8 prior to saving to suppress this warning.\n"
        },
        {
          "name": "stdout",
          "output_type": "stream",
          "text": "Finished:  1823\n\nFilename:  #frac{704}{387}#alpha^2-307 #leq 439_74021.jpg\n\nFinished:  1824\n\nFilename:  #frac{68}{164}#beta^2+513 #geq 537_30047.jpg\n\nFinished:  1825\n\nFilename:  #frac{864}{224}+295 = 1159_6907.jpg\n"
        },
        {
          "name": "stderr",
          "output_type": "stream",
          "text": "Lossy conversion from float64 to uint8. Range [0, 1]. Convert image to uint8 prior to saving to suppress this warning.\n\nLossy conversion from float64 to uint8. Range [0, 1]. Convert image to uint8 prior to saving to suppress this warning.\n\nLossy conversion from float64 to uint8. Range [0, 1]. Convert image to uint8 prior to saving to suppress this warning.\n\nLossy conversion from float64 to uint8. Range [0, 1]. Convert image to uint8 prior to saving to suppress this warning.\n"
        },
        {
          "name": "stdout",
          "output_type": "stream",
          "text": "Finished:  1826\n\nFilename:  #frac{644}{674}+405 = 1049_44488.jpg\n\nFinished:  1827\n\nFilename:  #frac{583}{387}x^4-586 #neq 64_36080.jpg\n\nFinished:  1828\n\nFilename:  #frac{362}{87}#beta^3+195 #neq 587_34365.jpg\n\nFinished:  1829\n\nFilename:  #frac{457}{978}-467 = -10_81780.jpg\n"
        },
        {
          "name": "stderr",
          "output_type": "stream",
          "text": "Lossy conversion from float64 to uint8. Range [0, 1]. Convert image to uint8 prior to saving to suppress this warning.\n\nLossy conversion from float64 to uint8. Range [0, 1]. Convert image to uint8 prior to saving to suppress this warning.\n\nLossy conversion from float64 to uint8. Range [-0.4389352425791574, 1.0]. Convert image to uint8 prior to saving to suppress this warning.\n\nLossy conversion from float64 to uint8. Range [0, 1]. Convert image to uint8 prior to saving to suppress this warning.\n"
        },
        {
          "name": "stdout",
          "output_type": "stream",
          "text": "Finished:  1830\n\nFilename:  #frac{195}{939}+597 = 792_13932.jpg\n\nFinished:  1831\n\nFilename:  #frac{903}{792}-485 = 418_73439.jpg\n\nFinished:  1832\n\nFilename:  #frac{969}{992}#beta^4-515 #neq 532_35154.jpg\n"
        },
        {
          "name": "stderr",
          "output_type": "stream",
          "text": "Lossy conversion from float64 to uint8. Range [0, 1]. Convert image to uint8 prior to saving to suppress this warning.\n\nLossy conversion from float64 to uint8. Range [0, 1]. Convert image to uint8 prior to saving to suppress this warning.\n\nLossy conversion from float64 to uint8. Range [0, 1]. Convert image to uint8 prior to saving to suppress this warning.\n"
        },
        {
          "name": "stdout",
          "output_type": "stream",
          "text": "Finished:  1833\n\nFilename:  #frac{487}{409}#beta^4+299 #neq 841_77439.jpg\n\nFinished:  1834\n\nFilename:  #frac{855}{779}x^2-234 #leq 663_77057.jpg\n\nFinished:  1835\n\nFilename:  #frac{773}{673}#alpha^3-335 #leq 467_92228.jpg\n\nFinished:  1836\n\nFilename:  #frac{410}{681}#beta^2+28 #geq 364_77918.jpg\n"
        },
        {
          "name": "stderr",
          "output_type": "stream",
          "text": "Lossy conversion from float64 to uint8. Range [0, 1]. Convert image to uint8 prior to saving to suppress this warning.\n\nLossy conversion from float64 to uint8. Range [0, 1]. Convert image to uint8 prior to saving to suppress this warning.\n\nLossy conversion from float64 to uint8. Range [0, 1]. Convert image to uint8 prior to saving to suppress this warning.\n"
        },
        {
          "name": "stdout",
          "output_type": "stream",
          "text": "Finished:  1837\n\nFilename:  #frac{457}{702}#beta^3+820 #leq 1322_23147.jpg\n\nFinished:  1838\n\nFilename:  #frac{229}{315}#beta^2-615 #neq -331_40504.jpg\n\nFinished:  1839\n\nFilename:  #frac{330}{530}y^4-304 #leq 29_44639.jpg\n"
        },
        {
          "name": "stderr",
          "output_type": "stream",
          "text": "Lossy conversion from float64 to uint8. Range [0, 1]. Convert image to uint8 prior to saving to suppress this warning.\n\nLossy conversion from float64 to uint8. Range [0, 1]. Convert image to uint8 prior to saving to suppress this warning.\n\nLossy conversion from float64 to uint8. Range [0, 1]. Convert image to uint8 prior to saving to suppress this warning.\n\nLossy conversion from float64 to uint8. Range [0, 1]. Convert image to uint8 prior to saving to suppress this warning.\n"
        },
        {
          "name": "stdout",
          "output_type": "stream",
          "text": "Finished:  1840\n\nFilename:  #frac{384}{446}#beta^4-560 #leq -162_3367.jpg\n\nFinished:  1841\n\nFilename:  #frac{217}{123}#beta^3-272 #geq -110_81798.jpg\n\nFinished:  1842\n\nFilename:  #frac{60}{591}y^3+187 #neq 294_48487.jpg\n"
        },
        {
          "name": "stderr",
          "output_type": "stream",
          "text": "Lossy conversion from float64 to uint8. Range [0, 1]. Convert image to uint8 prior to saving to suppress this warning.\n\nLossy conversion from float64 to uint8. Range [0, 1]. Convert image to uint8 prior to saving to suppress this warning.\n"
        },
        {
          "name": "stdout",
          "output_type": "stream",
          "text": "Finished:  1843\n\nFilename:  #frac{508}{301}#alpha^4+220 #geq 717_16604.jpg\n\nFinished:  1844\n\nFilename:  #frac{785}{830}#beta^4+248 #geq 1000_57520.jpg\n\nFinished:  1845\n\nFilename:  #frac{194}{573}#beta^4-119 #geq 72_7375.jpg\n"
        },
        {
          "name": "stderr",
          "output_type": "stream",
          "text": "Lossy conversion from float64 to uint8. Range [0, 1]. Convert image to uint8 prior to saving to suppress this warning.\n\nLossy conversion from float64 to uint8. Range [0, 1]. Convert image to uint8 prior to saving to suppress this warning.\n"
        },
        {
          "name": "stdout",
          "output_type": "stream",
          "text": "Finished:  1846\n\nFilename:  #frac{921}{115}#beta^2+639 #leq 1652_39886.jpg\n\nFinished:  1847\n\nFilename:  #frac{663}{399}x^4-858 #geq -206_9335.jpg\n"
        },
        {
          "name": "stderr",
          "output_type": "stream",
          "text": "Lossy conversion from float64 to uint8. Range [0, 1]. Convert image to uint8 prior to saving to suppress this warning.\n\nLossy conversion from float64 to uint8. Range [0, 1]. Convert image to uint8 prior to saving to suppress this warning.\n\nLossy conversion from float64 to uint8. Range [0, 1]. Convert image to uint8 prior to saving to suppress this warning.\n"
        },
        {
          "name": "stdout",
          "output_type": "stream",
          "text": "Finished:  1848\n\nFilename:  #frac{673}{581}+545 = 1218_43289.jpg\n\nFinished:  1849\n\nFilename:  #frac{143}{943}y^4-479 #neq -321_78646.jpg\n\nFinished:  1850\n\nFilename:  #frac{687}{931}#alpha^4+641 #leq 1368_91157.jpg\n"
        },
        {
          "name": "stderr",
          "output_type": "stream",
          "text": "Lossy conversion from float64 to uint8. Range [0, 1]. Convert image to uint8 prior to saving to suppress this warning.\n\nLossy conversion from float64 to uint8. Range [0, 1]. Convert image to uint8 prior to saving to suppress this warning.\n\nLossy conversion from float64 to uint8. Range [0, 1]. Convert image to uint8 prior to saving to suppress this warning.\n"
        },
        {
          "name": "stdout",
          "output_type": "stream",
          "text": "Finished:  1851\n\nFilename:  #frac{468}{633}y^2-104 #leq 368_11906.jpg\n\nFinished:  1852\n\nFilename:  #frac{629}{34}#beta^4-407 #leq 230_44335.jpg\n"
        },
        {
          "name": "stderr",
          "output_type": "stream",
          "text": "Lossy conversion from float64 to uint8. Range [0, 1]. Convert image to uint8 prior to saving to suppress this warning.\n\nLossy conversion from float64 to uint8. Range [-0.0023841354723708272, 1.0]. Convert image to uint8 prior to saving to suppress this warning.\n"
        },
        {
          "name": "stdout",
          "output_type": "stream",
          "text": "Finished:  1853\n\nFilename:  #frac{758}{798}#beta^4-826 #neq -20_21114.jpg\n\nFinished:  1854\n\nFilename:  #frac{417}{949}#alpha^2+750 #geq 1105_99675.jpg\n\nFinished:  1855\n\nFilename:  #frac{951}{796}x^3-762 #leq 287_80929.jpg\n"
        },
        {
          "name": "stderr",
          "output_type": "stream",
          "text": "Lossy conversion from float64 to uint8. Range [0, 1]. Convert image to uint8 prior to saving to suppress this warning.\n\nLossy conversion from float64 to uint8. Range [-0.6430967675318439, 1.0]. Convert image to uint8 prior to saving to suppress this warning.\n\nLossy conversion from float64 to uint8. Range [0, 1]. Convert image to uint8 prior to saving to suppress this warning.\n"
        },
        {
          "name": "stdout",
          "output_type": "stream",
          "text": "Finished:  1856\n\nFilename:  #frac{91}{417}x^4+772 #geq 851_93133.jpg\n\nFinished:  1857\n\nFilename:  #frac{473}{862}x^3-956 #geq -517_90580.jpg\n\nFinished:  1858\n\nFilename:  #frac{303}{248}#alpha^4-617 #geq -395_42565.jpg\n"
        },
        {
          "name": "stderr",
          "output_type": "stream",
          "text": "Lossy conversion from float64 to uint8. Range [0, 1]. Convert image to uint8 prior to saving to suppress this warning.\n\nLossy conversion from float64 to uint8. Range [0, 1]. Convert image to uint8 prior to saving to suppress this warning.\n"
        },
        {
          "name": "stdout",
          "output_type": "stream",
          "text": "Finished:  1859\n\nFilename:  #frac{397}{701}x^3-859 #geq -547_42476.jpg\n\nFinished:  1860\n\nFilename:  #frac{968}{682}y^2+556 #leq 1554_57741.jpg\n"
        },
        {
          "name": "stderr",
          "output_type": "stream",
          "text": "Lossy conversion from float64 to uint8. Range [0, 1]. Convert image to uint8 prior to saving to suppress this warning.\n\nLossy conversion from float64 to uint8. Range [0, 1]. Convert image to uint8 prior to saving to suppress this warning.\n\nLossy conversion from float64 to uint8. Range [0, 1]. Convert image to uint8 prior to saving to suppress this warning.\n\nLossy conversion from float64 to uint8. Range [0, 1]. Convert image to uint8 prior to saving to suppress this warning.\n"
        },
        {
          "name": "stdout",
          "output_type": "stream",
          "text": "Finished:  1861\n\nFilename:  #frac{536}{87}+261 = 797_757.jpg\n\nFinished:  1862\n\nFilename:  #frac{674}{261}+995 = 1669_17746.jpg\n\nFinished:  1863\n\nFilename:  #frac{514}{382}#alpha^3+468 #geq 970_3024.jpg\n\nFinished:  1864\n"
        },
        {
          "name": "stderr",
          "output_type": "stream",
          "text": "Lossy conversion from float64 to uint8. Range [0, 1]. Convert image to uint8 prior to saving to suppress this warning.\n\nLossy conversion from float64 to uint8. Range [0, 1]. Convert image to uint8 prior to saving to suppress this warning.\n"
        },
        {
          "name": "stdout",
          "output_type": "stream",
          "text": "Filename:  #frac{187}{207}#beta^3+891 #geq 1054_35661.jpg\n\nFinished:  1865\n\nFilename:  #frac{926}{900}y^4+746 #leq 1738_10898.jpg\n\nFinished:  1866\n\nFilename:  #frac{479}{200}x^2+795 #leq 1337_70775.jpg\n"
        },
        {
          "name": "stderr",
          "output_type": "stream",
          "text": "Lossy conversion from float64 to uint8. Range [0, 1]. Convert image to uint8 prior to saving to suppress this warning.\n\nLossy conversion from float64 to uint8. Range [0, 1]. Convert image to uint8 prior to saving to suppress this warning.\n\nLossy conversion from float64 to uint8. Range [0, 1]. Convert image to uint8 prior to saving to suppress this warning.\n"
        },
        {
          "name": "stdout",
          "output_type": "stream",
          "text": "Finished:  1867\n\nFilename:  #frac{239}{528}x^3+808 #neq 1143_25996.jpg\n\nFinished:  1868\n\nFilename:  #frac{686}{659}#alpha^2+996 #neq 1696_98007.jpg\n\nFinished:  1869\n\nFilename:  #frac{679}{880}x^4-412 #neq 349_8328.jpg\n"
        },
        {
          "name": "stderr",
          "output_type": "stream",
          "text": "Lossy conversion from float64 to uint8. Range [-0.3697837274444657, 1.0]. Convert image to uint8 prior to saving to suppress this warning.\n\nLossy conversion from float64 to uint8. Range [0, 1]. Convert image to uint8 prior to saving to suppress this warning.\n"
        },
        {
          "name": "stdout",
          "output_type": "stream",
          "text": "Finished:  1870\n\nFilename:  #frac{421}{582}#beta^3-65 #geq 312_29521.jpg\n"
        },
        {
          "name": "stderr",
          "output_type": "stream",
          "text": "Lossy conversion from float64 to uint8. Range [0, 1]. Convert image to uint8 prior to saving to suppress this warning.\n"
        },
        {
          "name": "stdout",
          "output_type": "stream",
          "text": "Finished:  1871\n\nFilename:  #frac{190}{401}#alpha^3+595 #leq 791_96850.jpg\n"
        },
        {
          "name": "stderr",
          "output_type": "stream",
          "text": "Lossy conversion from float64 to uint8. Range [0, 1]. Convert image to uint8 prior to saving to suppress this warning.\n"
        },
        {
          "name": "stdout",
          "output_type": "stream",
          "text": "Finished:  1872\n\nFilename:  #frac{955}{19}-754 = 201_77458.jpg\n\nFinished:  1873\n\nFilename:  #frac{255}{881}+889 = 1144_48258.jpg\n"
        },
        {
          "name": "stderr",
          "output_type": "stream",
          "text": "Lossy conversion from float64 to uint8. Range [0, 1]. Convert image to uint8 prior to saving to suppress this warning.\n\nLossy conversion from float64 to uint8. Range [0, 1]. Convert image to uint8 prior to saving to suppress this warning.\n"
        },
        {
          "name": "stdout",
          "output_type": "stream",
          "text": "Finished:  1874\n\nFilename:  #frac{757}{408}y^4-160 #geq 593_32645.jpg\n"
        },
        {
          "name": "stderr",
          "output_type": "stream",
          "text": "Lossy conversion from float64 to uint8. Range [0, 1]. Convert image to uint8 prior to saving to suppress this warning.\n\nLossy conversion from float64 to uint8. Range [0, 1]. Convert image to uint8 prior to saving to suppress this warning.\n\nLossy conversion from float64 to uint8. Range [0, 1]. Convert image to uint8 prior to saving to suppress this warning.\n"
        },
        {
          "name": "stdout",
          "output_type": "stream",
          "text": "Finished:  1875\n\nFilename:  #frac{298}{27}#beta^4+805 #geq 1076_28363.jpg\n\nFinished:  1876\n\nFilename:  #frac{666}{800}x^2+193 #geq 799_33547.jpg\n\nFinished:  1877\n\nFilename:  #frac{635}{743}x^3-108 #geq 441_42607.jpg\n"
        },
        {
          "name": "stderr",
          "output_type": "stream",
          "text": "Lossy conversion from float64 to uint8. Range [0, 1]. Convert image to uint8 prior to saving to suppress this warning.\n\nLossy conversion from float64 to uint8. Range [0, 1]. Convert image to uint8 prior to saving to suppress this warning.\n\nLossy conversion from float64 to uint8. Range [0, 1]. Convert image to uint8 prior to saving to suppress this warning.\n"
        },
        {
          "name": "stdout",
          "output_type": "stream",
          "text": "Finished:  1878\n\nFilename:  #frac{34}{842}y^2+479 #leq 533_72536.jpg\n\nFinished:  1879\n\nFilename:  #frac{56}{90}x^2-399 #geq -439_90309.jpg\n\nFinished:  1880\n\nFilename:  #frac{738}{690}#beta^3-69 #leq 682_12223.jpg\n\nFinished:  1881\n\nFilename:  #frac{47}{941}-252 = -205_88419.jpg\n"
        },
        {
          "name": "stderr",
          "output_type": "stream",
          "text": "Lossy conversion from float64 to uint8. Range [0, 1]. Convert image to uint8 prior to saving to suppress this warning.\n\nLossy conversion from float64 to uint8. Range [0, 1]. Convert image to uint8 prior to saving to suppress this warning.\n\nLossy conversion from float64 to uint8. Range [0, 1]. Convert image to uint8 prior to saving to suppress this warning.\n\nLossy conversion from float64 to uint8. Range [0, 1]. Convert image to uint8 prior to saving to suppress this warning.\n"
        },
        {
          "name": "stdout",
          "output_type": "stream",
          "text": "Finished:  1882\n\nFilename:  #frac{404}{98}x^4+235 #neq 685_89050.jpg\n\nFinished:  1883\n\nFilename:  #frac{633}{156}-92 = 541_73779.jpg\n\nFinished:  1884\n\nFilename:  #frac{760}{7}-872 = -112_1395.jpg\n\nFinished:  1885\n\nFilename:  #frac{827}{928}x^2+664 #neq 1524_71076.jpg\n"
        },
        {
          "name": "stderr",
          "output_type": "stream",
          "text": "Lossy conversion from float64 to uint8. Range [0, 1]. Convert image to uint8 prior to saving to suppress this warning.\n\nLossy conversion from float64 to uint8. Range [0, 1]. Convert image to uint8 prior to saving to suppress this warning.\n\nLossy conversion from float64 to uint8. Range [0, 1]. Convert image to uint8 prior to saving to suppress this warning.\n\nLossy conversion from float64 to uint8. Range [0, 1]. Convert image to uint8 prior to saving to suppress this warning.\n"
        },
        {
          "name": "stdout",
          "output_type": "stream",
          "text": "Finished:  1886\n\nFilename:  #frac{604}{169}y^3+986 #neq 1602_91492.jpg\n\nFinished:  1887\n\nFilename:  #frac{153}{874}#alpha^3-922 #neq -747_1191.jpg\n\nFinished:  1888\n\nFilename:  #frac{680}{384}#beta^4-60 #leq 644_22911.jpg\n"
        },
        {
          "name": "stderr",
          "output_type": "stream",
          "text": "Lossy conversion from float64 to uint8. Range [0, 1]. Convert image to uint8 prior to saving to suppress this warning.\n\nLossy conversion from float64 to uint8. Range [0, 1]. Convert image to uint8 prior to saving to suppress this warning.\n\nLossy conversion from float64 to uint8. Range [0, 1]. Convert image to uint8 prior to saving to suppress this warning.\n"
        },
        {
          "name": "stdout",
          "output_type": "stream",
          "text": "Finished:  1889\n\nFilename:  #frac{61}{99}y^3-364 #leq -271_47416.jpg\n\nFinished:  1890\n\nFilename:  #frac{973}{479}-491 = 482_5191.jpg\n\nFinished:  1891\n\nFilename:  #frac{9}{947}-433 = -424_11268.jpg\n"
        },
        {
          "name": "stderr",
          "output_type": "stream",
          "text": "Lossy conversion from float64 to uint8. Range [0, 1]. Convert image to uint8 prior to saving to suppress this warning.\n\nLossy conversion from float64 to uint8. Range [0, 1]. Convert image to uint8 prior to saving to suppress this warning.\n\nLossy conversion from float64 to uint8. Range [0, 1]. Convert image to uint8 prior to saving to suppress this warning.\n\nLossy conversion from float64 to uint8. Range [0, 1]. Convert image to uint8 prior to saving to suppress this warning.\n"
        },
        {
          "name": "stdout",
          "output_type": "stream",
          "text": "Finished:  1892\n\nFilename:  #frac{622}{161}#alpha^4-204 #neq 514_33705.jpg\n\nFinished:  1893\n\nFilename:  #frac{31}{997}#beta^2+526 #leq 644_104.jpg\n\nFinished:  1894\n\nFilename:  #frac{530}{161}x^3+833 #geq 1327_83379.jpg\n\nFinished:  1895\n\nFilename:  #frac{944}{71}+400 = 1344_67410.jpg\n"
        },
        {
          "name": "stderr",
          "output_type": "stream",
          "text": "Lossy conversion from float64 to uint8. Range [0, 1]. Convert image to uint8 prior to saving to suppress this warning.\n"
        },
        {
          "name": "stdout",
          "output_type": "stream",
          "text": "Finished:  1896\n\nFilename:  #frac{862}{674}-433 = 429_37985.jpg\n\nFinished:  1897\n\nFilename:  #frac{674}{961}#alpha^3-509 #leq 208_39513.jpg\n"
        },
        {
          "name": "stderr",
          "output_type": "stream",
          "text": "Lossy conversion from float64 to uint8. Range [0, 1]. Convert image to uint8 prior to saving to suppress this warning.\n\nLossy conversion from float64 to uint8. Range [0, 1]. Convert image to uint8 prior to saving to suppress this warning.\n"
        },
        {
          "name": "stdout",
          "output_type": "stream",
          "text": "Finished:  1898\n\nFilename:  #frac{405}{358}y^4+250 #leq 745_10911.jpg\n\nFinished:  1899\n\nFilename:  #frac{709}{16}y^4+112 #geq 753_10745.jpg\n"
        },
        {
          "name": "stderr",
          "output_type": "stream",
          "text": "Lossy conversion from float64 to uint8. Range [-0.9936079545454545, 1.0]. Convert image to uint8 prior to saving to suppress this warning.\n\nLossy conversion from float64 to uint8. Range [0, 1]. Convert image to uint8 prior to saving to suppress this warning.\n\nLossy conversion from float64 to uint8. Range [0, 1]. Convert image to uint8 prior to saving to suppress this warning.\n"
        },
        {
          "name": "stdout",
          "output_type": "stream",
          "text": "Finished:  1900\n\nFilename:  #frac{481}{206}x^2+236 #leq 808_19897.jpg\n\nFinished:  1901\n\nFilename:  #frac{995}{418}#alpha^2+812 #geq 1802_43620.jpg\n\nFinished:  1902\n\nFilename:  #frac{536}{272}#beta^3+710 #leq 1291_77470.jpg\n"
        },
        {
          "name": "stderr",
          "output_type": "stream",
          "text": "Lossy conversion from float64 to uint8. Range [0, 1]. Convert image to uint8 prior to saving to suppress this warning.\n\nLossy conversion from float64 to uint8. Range [0, 1]. Convert image to uint8 prior to saving to suppress this warning.\n\nLossy conversion from float64 to uint8. Range [0, 1]. Convert image to uint8 prior to saving to suppress this warning.\n\nLossy conversion from float64 to uint8. Range [0, 1]. Convert image to uint8 prior to saving to suppress this warning.\n"
        },
        {
          "name": "stdout",
          "output_type": "stream",
          "text": "Finished:  1903\n\nFilename:  #frac{767}{566}-103 = 664_31935.jpg\n\nFinished:  1904\n\nFilename:  #frac{78}{702}x^2-897 #neq -759_37608.jpg\n\nFinished:  1905\n\nFilename:  #frac{712}{931}+452 = 1164_42563.jpg\n\nFinished:  1906\n\nFilename:  #frac{421}{405}y^3-294 #neq 183_87615.jpg\n"
        },
        {
          "name": "stderr",
          "output_type": "stream",
          "text": "Lossy conversion from float64 to uint8. Range [0, 1]. Convert image to uint8 prior to saving to suppress this warning.\n\nLossy conversion from float64 to uint8. Range [0, 1]. Convert image to uint8 prior to saving to suppress this warning.\n\nLossy conversion from float64 to uint8. Range [0, 1]. Convert image to uint8 prior to saving to suppress this warning.\n\nLossy conversion from float64 to uint8. Range [0, 1]. Convert image to uint8 prior to saving to suppress this warning.\n\nLossy conversion from float64 to uint8. Range [0, 1]. Convert image to uint8 prior to saving to suppress this warning.\n"
        },
        {
          "name": "stdout",
          "output_type": "stream",
          "text": "Finished:  1907\n\nFilename:  #frac{374}{534}x^4+705 #neq 1172_99930.jpg\n\nFinished:  1908\n\nFilename:  #frac{245}{631}-959 = -714_41205.jpg\n\nFinished:  1909\n\nFilename:  #frac{941}{85}+675 = 1616_13662.jpg\n\nFinished:  1910\n\nFilename:  #frac{850}{299}#alpha^2-779 #leq 106_1878.jpg\n"
        },
        {
          "name": "stderr",
          "output_type": "stream",
          "text": "Lossy conversion from float64 to uint8. Range [0, 1]. Convert image to uint8 prior to saving to suppress this warning.\n\nLossy conversion from float64 to uint8. Range [0, 1]. Convert image to uint8 prior to saving to suppress this warning.\n"
        },
        {
          "name": "stdout",
          "output_type": "stream",
          "text": "Finished:  1911\n\nFilename:  #frac{740}{428}#alpha^2+647 #neq 1410_74008.jpg\n\nFinished:  1912\n\nFilename:  #frac{984}{761}#beta^3-200 #neq 834_76430.jpg\n\nFinished:  1913\n\nFilename:  #frac{402}{486}#alpha^3-288 #neq 147_50744.jpg\n"
        },
        {
          "name": "stderr",
          "output_type": "stream",
          "text": "Lossy conversion from float64 to uint8. Range [0, 1]. Convert image to uint8 prior to saving to suppress this warning.\n\nLossy conversion from float64 to uint8. Range [0, 1]. Convert image to uint8 prior to saving to suppress this warning.\n\nLossy conversion from float64 to uint8. Range [-0.6967510259917881, 1.0]. Convert image to uint8 prior to saving to suppress this warning.\n\nLossy conversion from float64 to uint8. Range [0, 1]. Convert image to uint8 prior to saving to suppress this warning.\n"
        },
        {
          "name": "stdout",
          "output_type": "stream",
          "text": "Finished:  1914\n\nFilename:  #frac{907}{325}x^2-313 #geq 500_96450.jpg\n\nFinished:  1915\n\nFilename:  #frac{245}{782}y^2-630 #geq -443_29957.jpg\n\nFinished:  1916\n\nFilename:  #frac{929}{734}#beta^3-854 #leq 106_2281.jpg\n\nFinished:  1917\n\nFilename:  #frac{257}{931}-639 = -382_63361.jpg\n"
        },
        {
          "name": "stderr",
          "output_type": "stream",
          "text": "Lossy conversion from float64 to uint8. Range [0, 1]. Convert image to uint8 prior to saving to suppress this warning.\n\nLossy conversion from float64 to uint8. Range [0, 1]. Convert image to uint8 prior to saving to suppress this warning.\n\nLossy conversion from float64 to uint8. Range [0, 1]. Convert image to uint8 prior to saving to suppress this warning.\n"
        },
        {
          "name": "stdout",
          "output_type": "stream",
          "text": "Finished:  1918\n\nFilename:  #frac{89}{354}#beta^3+29 #neq 130_59704.jpg\n\nFinished:  1919\n\nFilename:  #frac{727}{731}y^3+762 #leq 1532_76996.jpg\n\nFinished:  1920\n\nFilename:  #frac{156}{307}y^3+21 #neq 230_60626.jpg\n"
        },
        {
          "name": "stderr",
          "output_type": "stream",
          "text": "Lossy conversion from float64 to uint8. Range [0, 1]. Convert image to uint8 prior to saving to suppress this warning.\n\nLossy conversion from float64 to uint8. Range [0, 1]. Convert image to uint8 prior to saving to suppress this warning.\n"
        },
        {
          "name": "stdout",
          "output_type": "stream",
          "text": "Finished:  1921\n\nFilename:  #frac{113}{151}x^4+463 #geq 545_1020.jpg\n\nFinished:  1922\n\nFilename:  #frac{966}{599}y^4+801 #geq 1764_78637.jpg\n"
        },
        {
          "name": "stderr",
          "output_type": "stream",
          "text": "Lossy conversion from float64 to uint8. Range [0, 1]. Convert image to uint8 prior to saving to suppress this warning.\n\nLossy conversion from float64 to uint8. Range [0, 1]. Convert image to uint8 prior to saving to suppress this warning.\n\nLossy conversion from float64 to uint8. Range [0, 1]. Convert image to uint8 prior to saving to suppress this warning.\n\nLossy conversion from float64 to uint8. Range [0, 1]. Convert image to uint8 prior to saving to suppress this warning.\n"
        },
        {
          "name": "stdout",
          "output_type": "stream",
          "text": "Finished:  1923\n\nFilename:  #frac{376}{536}#alpha^4-54 #neq 385_17707.jpg\n\nFinished:  1924\n\nFilename:  #frac{705}{157}x^2+131 #neq 933_79070.jpg\n\nFinished:  1925\n\nFilename:  #frac{238}{178}#alpha^2-380 #geq -182_90003.jpg\n\nFinished:  1926\n\nFilename:  #frac{68}{28}x^3-399 #neq -240_98543.jpg\n"
        },
        {
          "name": "stderr",
          "output_type": "stream",
          "text": "Lossy conversion from float64 to uint8. Range [0, 1]. Convert image to uint8 prior to saving to suppress this warning.\n\nLossy conversion from float64 to uint8. Range [0, 1]. Convert image to uint8 prior to saving to suppress this warning.\n\nLossy conversion from float64 to uint8. Range [0, 1]. Convert image to uint8 prior to saving to suppress this warning.\n\nLossy conversion from float64 to uint8. Range [0, 1]. Convert image to uint8 prior to saving to suppress this warning.\n"
        },
        {
          "name": "stdout",
          "output_type": "stream",
          "text": "Finished:  1927\n\nFilename:  #frac{554}{52}y^3-745 #leq -131_71266.jpg\n\nFinished:  1928\n\nFilename:  #frac{32}{242}-239 = -207_48033.jpg\n\nFinished:  1929\n\nFilename:  #frac{86}{987}y^3-975 #geq -890_77993.jpg\n"
        },
        {
          "name": "stderr",
          "output_type": "stream",
          "text": "Lossy conversion from float64 to uint8. Range [-0.008990913438546222, 1.0]. Convert image to uint8 prior to saving to suppress this warning.\n\nLossy conversion from float64 to uint8. Range [0, 1]. Convert image to uint8 prior to saving to suppress this warning.\n\nLossy conversion from float64 to uint8. Range [0, 1]. Convert image to uint8 prior to saving to suppress this warning.\n"
        },
        {
          "name": "stdout",
          "output_type": "stream",
          "text": "Finished:  1930\n\nFilename:  #frac{707}{228}#beta^2-803 #neq -5_9996.jpg\n\nFinished:  1931\n\nFilename:  #frac{938}{170}y^4-773 #leq 171_36230.jpg\n\nFinished:  1932\n\nFilename:  #frac{986}{235}#beta^3-564 #geq 342_879.jpg\n"
        },
        {
          "name": "stderr",
          "output_type": "stream",
          "text": "Lossy conversion from float64 to uint8. Range [0, 1]. Convert image to uint8 prior to saving to suppress this warning.\n\nLossy conversion from float64 to uint8. Range [-0.0030103714761082756, 1.0]. Convert image to uint8 prior to saving to suppress this warning.\n"
        },
        {
          "name": "stdout",
          "output_type": "stream",
          "text": "Finished:  1933\n\nFilename:  #frac{553}{462}#beta^4-301 #geq 249_56226.jpg\n\nFinished:  1934\n\nFilename:  #frac{290}{636}y^2+795 #leq 1110_59442.jpg\n\nFinished:  1935\n\nFilename:  #frac{979}{783}x^2+484 #geq 1409_10478.jpg\n"
        },
        {
          "name": "stderr",
          "output_type": "stream",
          "text": "Lossy conversion from float64 to uint8. Range [0, 1]. Convert image to uint8 prior to saving to suppress this warning.\n\nLossy conversion from float64 to uint8. Range [0, 1]. Convert image to uint8 prior to saving to suppress this warning.\n"
        },
        {
          "name": "stdout",
          "output_type": "stream",
          "text": "Finished:  1936\n\nFilename:  #frac{593}{102}#alpha^4+773 #leq 1413_92486.jpg\n\nFinished:  1937\n\nFilename:  #frac{850}{305}y^2+153 #neq 1076_13784.jpg\n"
        },
        {
          "name": "stderr",
          "output_type": "stream",
          "text": "Lossy conversion from float64 to uint8. Range [0, 1]. Convert image to uint8 prior to saving to suppress this warning.\n\nLossy conversion from float64 to uint8. Range [0, 1]. Convert image to uint8 prior to saving to suppress this warning.\n\nLossy conversion from float64 to uint8. Range [0, 1]. Convert image to uint8 prior to saving to suppress this warning.\n\nLossy conversion from float64 to uint8. Range [0, 1]. Convert image to uint8 prior to saving to suppress this warning.\n\nLossy conversion from float64 to uint8. Range [0, 1]. Convert image to uint8 prior to saving to suppress this warning.\n"
        },
        {
          "name": "stdout",
          "output_type": "stream",
          "text": "Finished:  1938\n\nFilename:  #frac{117}{344}#alpha^4+109 #neq 247_78234.jpg\n\nFinished:  1939\n\nFilename:  #frac{531}{81}#alpha^3+837 #leq 1436_31348.jpg\n\nFinished:  1940\n\nFilename:  #frac{686}{470}#beta^4+20 #geq 630_60861.jpg\n\nFinished:  1941\n\nFilename:  #frac{306}{274}x^3-4 #geq 221_72231.jpg\n"
        },
        {
          "name": "stderr",
          "output_type": "stream",
          "text": "Lossy conversion from float64 to uint8. Range [0, 1]. Convert image to uint8 prior to saving to suppress this warning.\n"
        },
        {
          "name": "stdout",
          "output_type": "stream",
          "text": "Finished:  1942\n\nFilename:  #frac{19}{301}x^4+951 #neq 1001_64868.jpg\n\nFinished:  1943\n\nFilename:  #frac{549}{267}y^2-175 #geq 291_32128.jpg\n"
        },
        {
          "name": "stderr",
          "output_type": "stream",
          "text": "Lossy conversion from float64 to uint8. Range [-0.0001892815046159392, 1.0]. Convert image to uint8 prior to saving to suppress this warning.\n\nLossy conversion from float64 to uint8. Range [0, 1]. Convert image to uint8 prior to saving to suppress this warning.\n"
        },
        {
          "name": "stdout",
          "output_type": "stream",
          "text": "Finished:  1944\n\nFilename:  #frac{414}{534}x^3-964 #neq -526_31671.jpg\n\nFinished:  1945\n\nFilename:  #frac{240}{972}#alpha^3-658 #leq -379_85373.jpg\n"
        },
        {
          "name": "stderr",
          "output_type": "stream",
          "text": "Lossy conversion from float64 to uint8. Range [0, 1]. Convert image to uint8 prior to saving to suppress this warning.\n\nLossy conversion from float64 to uint8. Range [0, 1]. Convert image to uint8 prior to saving to suppress this warning.\n\nLossy conversion from float64 to uint8. Range [-0.7935144124168511, 1.0]. Convert image to uint8 prior to saving to suppress this warning.\n"
        },
        {
          "name": "stdout",
          "output_type": "stream",
          "text": "Finished:  1946\n\nFilename:  #frac{131}{496}x^2-288 #neq -128_34547.jpg\n\nFinished:  1947\n\nFilename:  #frac{396}{973}y^3+717 #neq 1178_79546.jpg\n\nFinished:  1948\n\nFilename:  #frac{732}{202}x^2-81 #leq 658_46381.jpg\n"
        },
        {
          "name": "stderr",
          "output_type": "stream",
          "text": "Lossy conversion from float64 to uint8. Range [0, 1]. Convert image to uint8 prior to saving to suppress this warning.\n\nLossy conversion from float64 to uint8. Range [0, 1]. Convert image to uint8 prior to saving to suppress this warning.\n\nLossy conversion from float64 to uint8. Range [0, 1]. Convert image to uint8 prior to saving to suppress this warning.\n\nLossy conversion from float64 to uint8. Range [0, 1]. Convert image to uint8 prior to saving to suppress this warning.\n"
        },
        {
          "name": "stdout",
          "output_type": "stream",
          "text": "Finished:  1949\n\nFilename:  #frac{260}{353}x^4-434 #neq -123_43448.jpg\n\nFinished:  1950\n\nFilename:  #frac{341}{747}#beta^3+146 #geq 479_70041.jpg\n\nFinished:  1951\n\nFilename:  #frac{534}{113}#alpha^4-492 #leq 83_18096.jpg\n\nFinished:  1952\n\nFilename:  #frac{999}{850}+36 = 1035_51489.jpg\n"
        },
        {
          "name": "stderr",
          "output_type": "stream",
          "text": "Lossy conversion from float64 to uint8. Range [0, 1]. Convert image to uint8 prior to saving to suppress this warning.\n\nLossy conversion from float64 to uint8. Range [0, 1]. Convert image to uint8 prior to saving to suppress this warning.\n\nLossy conversion from float64 to uint8. Range [0, 1]. Convert image to uint8 prior to saving to suppress this warning.\n\nLossy conversion from float64 to uint8. Range [0, 1]. Convert image to uint8 prior to saving to suppress this warning.\n"
        },
        {
          "name": "stdout",
          "output_type": "stream",
          "text": "Finished:  1953\n\nFilename:  #frac{587}{245}+615 = 1202_55487.jpg\n\nFinished:  1954\n\nFilename:  #frac{68}{177}#alpha^4-408 #geq -394_58106.jpg\n\nFinished:  1955\n\nFilename:  #frac{938}{661}#beta^3-79 #geq 824_14339.jpg\n\nFinished:  1956\n\nFilename:  #frac{817}{338}#beta^2-986 #neq -161_83251.jpg\n"
        },
        {
          "name": "stderr",
          "output_type": "stream",
          "text": "Lossy conversion from float64 to uint8. Range [0, 1]. Convert image to uint8 prior to saving to suppress this warning.\n\nLossy conversion from float64 to uint8. Range [0, 1]. Convert image to uint8 prior to saving to suppress this warning.\n"
        },
        {
          "name": "stdout",
          "output_type": "stream",
          "text": "Finished:  1957\n\nFilename:  #frac{567}{731}#beta^4+756 #geq 1315_80191.jpg\n\nFinished:  1958\n\nFilename:  #frac{18}{237}y^2-174 #geq -226_90961.jpg\n"
        },
        {
          "name": "stderr",
          "output_type": "stream",
          "text": "Lossy conversion from float64 to uint8. Range [0, 1]. Convert image to uint8 prior to saving to suppress this warning.\n\nLossy conversion from float64 to uint8. Range [0, 1]. Convert image to uint8 prior to saving to suppress this warning.\n"
        },
        {
          "name": "stdout",
          "output_type": "stream",
          "text": "Finished:  1959\n\nFilename:  #frac{563}{509}#beta^2-564 #geq -95_26317.jpg\n\nFinished:  1960\n"
        },
        {
          "name": "stderr",
          "output_type": "stream",
          "text": "Lossy conversion from float64 to uint8. Range [0, 1]. Convert image to uint8 prior to saving to suppress this warning.\n"
        },
        {
          "name": "stdout",
          "output_type": "stream",
          "text": "Filename:  #frac{933}{681}-583 = 350_33433.jpg\n\nFinished:  1961\n\nFilename:  #frac{297}{397}-373 = -76_40822.jpg\n"
        },
        {
          "name": "stderr",
          "output_type": "stream",
          "text": "Lossy conversion from float64 to uint8. Range [0, 1]. Convert image to uint8 prior to saving to suppress this warning.\n\nLossy conversion from float64 to uint8. Range [0, 1]. Convert image to uint8 prior to saving to suppress this warning.\n"
        },
        {
          "name": "stdout",
          "output_type": "stream",
          "text": "Finished:  1962\n\nFilename:  #frac{610}{253}y^2-830 #neq -129_35812.jpg\n\nFinished:  1963\n\nFilename:  #frac{435}{685}#beta^3-144 #leq 380_88105.jpg\n"
        },
        {
          "name": "stderr",
          "output_type": "stream",
          "text": "Lossy conversion from float64 to uint8. Range [0, 1]. Convert image to uint8 prior to saving to suppress this warning.\n\nLossy conversion from float64 to uint8. Range [0, 1]. Convert image to uint8 prior to saving to suppress this warning.\n"
        },
        {
          "name": "stdout",
          "output_type": "stream",
          "text": "Finished:  1964\n\nFilename:  #frac{408}{529}#beta^2+907 #leq 1359_77710.jpg\n\nFinished:  1965\n\nFilename:  #frac{592}{422}-914 = -322_64293.jpg\n"
        },
        {
          "name": "stderr",
          "output_type": "stream",
          "text": "Lossy conversion from float64 to uint8. Range [0, 1]. Convert image to uint8 prior to saving to suppress this warning.\n\nLossy conversion from float64 to uint8. Range [0, 1]. Convert image to uint8 prior to saving to suppress this warning.\n\nLossy conversion from float64 to uint8. Range [0, 1]. Convert image to uint8 prior to saving to suppress this warning.\n"
        },
        {
          "name": "stdout",
          "output_type": "stream",
          "text": "Finished:  1966\n\nFilename:  #frac{210}{434}x^2-245 #leq 49_52969.jpg\n\nFinished:  1967\n\nFilename:  #frac{521}{26}#beta^4+103 #geq 576_93511.jpg\n\nFinished:  1968\n\nFilename:  #frac{864}{120}#beta^4-642 #leq 310_34476.jpg\n"
        },
        {
          "name": "stderr",
          "output_type": "stream",
          "text": "Lossy conversion from float64 to uint8. Range [0, 1]. Convert image to uint8 prior to saving to suppress this warning.\n\nLossy conversion from float64 to uint8. Range [0, 1]. Convert image to uint8 prior to saving to suppress this warning.\n"
        },
        {
          "name": "stdout",
          "output_type": "stream",
          "text": "Finished:  1969\n\nFilename:  #frac{725}{947}y^2+55 #neq 841_67204.jpg\n\nFinished:  1970\n\nFilename:  #frac{920}{26}y^4-394 #geq 449_94368.jpg\n"
        },
        {
          "name": "stderr",
          "output_type": "stream",
          "text": "Lossy conversion from float64 to uint8. Range [-1.1145768404080003e-16, 1.0]. Convert image to uint8 prior to saving to suppress this warning.\n\nLossy conversion from float64 to uint8. Range [0, 1]. Convert image to uint8 prior to saving to suppress this warning.\n"
        },
        {
          "name": "stdout",
          "output_type": "stream",
          "text": "Finished:  1971\n\nFilename:  #frac{230}{544}#alpha^4+837 #neq 1103_70030.jpg\n\nFinished:  1972\n\nFilename:  #frac{378}{164}#alpha^3-284 #neq 159_36347.jpg\n"
        },
        {
          "name": "stderr",
          "output_type": "stream",
          "text": "Lossy conversion from float64 to uint8. Range [0, 1]. Convert image to uint8 prior to saving to suppress this warning.\n\nLossy conversion from float64 to uint8. Range [-0.11215215057985867, 1.0]. Convert image to uint8 prior to saving to suppress this warning.\n\nLossy conversion from float64 to uint8. Range [0, 1]. Convert image to uint8 prior to saving to suppress this warning.\n"
        },
        {
          "name": "stdout",
          "output_type": "stream",
          "text": "Finished:  1973\n\nFilename:  #frac{659}{32}+237 = 896_797.jpg\n\nFinished:  1974\n\nFilename:  #frac{152}{554}x^4+270 #neq 509_53593.jpg\n"
        },
        {
          "name": "stderr",
          "output_type": "stream",
          "text": "Lossy conversion from float64 to uint8. Range [0, 1]. Convert image to uint8 prior to saving to suppress this warning.\n\nLossy conversion from float64 to uint8. Range [0, 1]. Convert image to uint8 prior to saving to suppress this warning.\n"
        },
        {
          "name": "stdout",
          "output_type": "stream",
          "text": "Finished:  1975\n\nFilename:  #frac{972}{33}x^3+227 #neq 1236_31049.jpg\n\nFinished:  1976\n\nFilename:  #frac{883}{591}y^2-343 #geq 442_49405.jpg\n\nFinished:  1977\n\nFilename:  #frac{991}{374}x^4+100 #leq 1111_77068.jpg\n"
        },
        {
          "name": "stderr",
          "output_type": "stream",
          "text": "Lossy conversion from float64 to uint8. Range [0, 1]. Convert image to uint8 prior to saving to suppress this warning.\n\nLossy conversion from float64 to uint8. Range [0, 1]. Convert image to uint8 prior to saving to suppress this warning.\n\nLossy conversion from float64 to uint8. Range [0, 1]. Convert image to uint8 prior to saving to suppress this warning.\n\nLossy conversion from float64 to uint8. Range [0, 1]. Convert image to uint8 prior to saving to suppress this warning.\n"
        },
        {
          "name": "stdout",
          "output_type": "stream",
          "text": "Finished:  1978\n\nFilename:  #frac{159}{160}#beta^3+731 #neq 921_10284.jpg\n\nFinished:  1979\n\nFilename:  #frac{123}{110}#alpha^2-32 #neq 127_81259.jpg\n\nFinished:  1980\n\nFilename:  #frac{730}{297}#beta^4+814 #geq 1531_41627.jpg\n"
        },
        {
          "name": "stderr",
          "output_type": "stream",
          "text": "Lossy conversion from float64 to uint8. Range [0, 1]. Convert image to uint8 prior to saving to suppress this warning.\n\nLossy conversion from float64 to uint8. Range [0, 1]. Convert image to uint8 prior to saving to suppress this warning.\n\nLossy conversion from float64 to uint8. Range [0, 1]. Convert image to uint8 prior to saving to suppress this warning.\n"
        },
        {
          "name": "stdout",
          "output_type": "stream",
          "text": "Finished:  1981\n\nFilename:  #frac{373}{176}-419 = -46_14505.jpg\n\nFinished:  1982\n\nFilename:  #frac{729}{672}#beta^4-765 #neq 37_99861.jpg\n\nFinished:  1983\n\nFilename:  #frac{135}{634}y^3+836 #neq 1011_55473.jpg\n"
        },
        {
          "name": "stderr",
          "output_type": "stream",
          "text": "Lossy conversion from float64 to uint8. Range [0, 1]. Convert image to uint8 prior to saving to suppress this warning.\n\nLossy conversion from float64 to uint8. Range [0, 1]. Convert image to uint8 prior to saving to suppress this warning.\n"
        },
        {
          "name": "stdout",
          "output_type": "stream",
          "text": "Finished:  1984\n\nFilename:  #frac{760}{531}y^3-554 #neq 248_61292.jpg\n\nFinished:  1985\n\nFilename:  #frac{436}{696}y^4+643 #neq 1152_93854.jpg\n\nFinished:  1986\n\nFilename:  #frac{629}{59}y^3-162 #leq 475_64103.jpg\n"
        },
        {
          "name": "stderr",
          "output_type": "stream",
          "text": "Lossy conversion from float64 to uint8. Range [0, 1]. Convert image to uint8 prior to saving to suppress this warning.\n\nLossy conversion from float64 to uint8. Range [0, 1]. Convert image to uint8 prior to saving to suppress this warning.\n\nLossy conversion from float64 to uint8. Range [0, 1]. Convert image to uint8 prior to saving to suppress this warning.\n"
        },
        {
          "name": "stdout",
          "output_type": "stream",
          "text": "Finished:  1987\n\nFilename:  #frac{890}{296}y^3-841 #leq 120_17885.jpg\n\nFinished:  1988\n\nFilename:  #frac{647}{991}#beta^3+758 #neq 1468_4659.jpg\n\nFinished:  1989\n\nFilename:  #frac{877}{433}y^4+457 #geq 1314_90026.jpg\n"
        },
        {
          "name": "stderr",
          "output_type": "stream",
          "text": "Lossy conversion from float64 to uint8. Range [0, 1]. Convert image to uint8 prior to saving to suppress this warning.\n\nLossy conversion from float64 to uint8. Range [0, 1]. Convert image to uint8 prior to saving to suppress this warning.\n\nLossy conversion from float64 to uint8. Range [0, 1]. Convert image to uint8 prior to saving to suppress this warning.\n"
        },
        {
          "name": "stdout",
          "output_type": "stream",
          "text": "Finished:  1990\n\nFilename:  #frac{900}{910}#beta^3+122 #neq 1104_31256.jpg\n\nFinished:  1991\n\nFilename:  #frac{540}{786}y^3-568 #geq -110_93222.jpg\n\nFinished:  1992\n\nFilename:  #frac{950}{120}#alpha^3-584 #geq 279_12109.jpg\n"
        },
        {
          "name": "stderr",
          "output_type": "stream",
          "text": "Lossy conversion from float64 to uint8. Range [0, 1]. Convert image to uint8 prior to saving to suppress this warning.\n\nLossy conversion from float64 to uint8. Range [0, 1]. Convert image to uint8 prior to saving to suppress this warning.\n"
        },
        {
          "name": "stdout",
          "output_type": "stream",
          "text": "Finished:  1993\n\nFilename:  #frac{703}{951}#beta^4+776 #neq 1503_2865.jpg\n\nFinished:  1994\n"
        },
        {
          "name": "stderr",
          "output_type": "stream",
          "text": "Lossy conversion from float64 to uint8. Range [0, 1]. Convert image to uint8 prior to saving to suppress this warning.\n"
        },
        {
          "name": "stdout",
          "output_type": "stream",
          "text": "Filename:  #frac{404}{138}+130 = 534_9105.jpg\n\nFinished:  1995\n\nFilename:  #frac{313}{749}#beta^4-418 #geq -119_40021.jpg\n"
        },
        {
          "name": "stderr",
          "output_type": "stream",
          "text": "Lossy conversion from float64 to uint8. Range [0, 1]. Convert image to uint8 prior to saving to suppress this warning.\n\nLossy conversion from float64 to uint8. Range [0, 1]. Convert image to uint8 prior to saving to suppress this warning.\n"
        },
        {
          "name": "stdout",
          "output_type": "stream",
          "text": "Finished:  1996\n\nFilename:  #frac{865}{511}#alpha^4-218 #geq 598_33037.jpg\n\nFinished:  1997\n\nFilename:  #frac{45}{827}-324 = -279_12104.jpg\n"
        },
        {
          "name": "stderr",
          "output_type": "stream",
          "text": "Lossy conversion from float64 to uint8. Range [0, 1]. Convert image to uint8 prior to saving to suppress this warning.\n\nLossy conversion from float64 to uint8. Range [0, 1]. Convert image to uint8 prior to saving to suppress this warning.\n"
        },
        {
          "name": "stdout",
          "output_type": "stream",
          "text": "Finished:  1998\n\nFilename:  #frac{490}{793}x^3-585 #geq -96_56248.jpg\n\nFinished:  1999\n"
        }
      ]
    }
  ]
}